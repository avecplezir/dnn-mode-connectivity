{
 "cells": [
  {
   "cell_type": "code",
   "execution_count": 1,
   "metadata": {},
   "outputs": [
    {
     "name": "stdout",
     "output_type": "stream",
     "text": [
      "getting loaders\n",
      "Files already downloaded and verified\n",
      "You are going to run models on the test set. Are you sure?\n",
      "Files already downloaded and verified\n",
      "getting data\n"
     ]
    }
   ],
   "source": [
    "from point_finders import *"
   ]
  },
  {
   "cell_type": "code",
   "execution_count": 2,
   "metadata": {},
   "outputs": [],
   "source": [
    "import models\n",
    "model_name = 'Linear3NoBias'\n",
    "architecture = getattr(models, model_name) #LinearOneLayer LogRegression"
   ]
  },
  {
   "cell_type": "code",
   "execution_count": 3,
   "metadata": {},
   "outputs": [
    {
     "data": {
      "text/plain": [
       "IncompatibleKeys(missing_keys=[], unexpected_keys=[])"
      ]
     },
     "execution_count": 3,
     "metadata": {},
     "output_type": "execute_result"
    }
   ],
   "source": [
    "model1 = architecture.base(num_classes=10, **architecture.kwargs)\n",
    "model2 = architecture.base(num_classes=10, **architecture.kwargs)\n",
    "model1.load_state_dict(torch.load('curves/'+model_name+'/curve3/checkpoint-400.pt')['model_state'])\n",
    "model2.load_state_dict(torch.load('curves/'+model_name+'/curve4/checkpoint-400.pt')['model_state'])"
   ]
  },
  {
   "cell_type": "code",
   "execution_count": 11,
   "metadata": {},
   "outputs": [],
   "source": [
    "depth = 3\n",
    "beg = 3\n",
    "end = 10"
   ]
  },
  {
   "cell_type": "code",
   "execution_count": null,
   "metadata": {},
   "outputs": [],
   "source": [
    "# N_data = 10 #6144\n",
    "# data, targ = data[:N_data], targ[:N_data]"
   ]
  },
  {
   "cell_type": "markdown",
   "metadata": {},
   "source": [
    "# End Point Stat"
   ]
  },
  {
   "cell_type": "code",
   "execution_count": 5,
   "metadata": {},
   "outputs": [
    {
     "name": "stderr",
     "output_type": "stream",
     "text": [
      " 12%|█▎        | 1/8 [00:12<01:26, 12.36s/it]"
     ]
    },
    {
     "name": "stdout",
     "output_type": "stream",
     "text": [
      "train results {'nll': 0.14886100863456725, 'loss': 0.14886100863456725, 'accuracy': 95.12}\n",
      "test results {'nll': 2.030786293411255, 'loss': 2.030786293411255, 'accuracy': 62.54}\n"
     ]
    },
    {
     "name": "stderr",
     "output_type": "stream",
     "text": [
      "\r",
      " 25%|██▌       | 2/8 [00:24<01:14, 12.40s/it]"
     ]
    },
    {
     "name": "stdout",
     "output_type": "stream",
     "text": [
      "train results {'nll': 0.1461340056180954, 'loss': 0.1461340056180954, 'accuracy': 95.278}\n",
      "test results {'nll': 2.016615950393677, 'loss': 2.016615950393677, 'accuracy': 63.44}\n"
     ]
    },
    {
     "name": "stderr",
     "output_type": "stream",
     "text": [
      "\r",
      " 38%|███▊      | 3/8 [00:37<01:02, 12.45s/it]"
     ]
    },
    {
     "name": "stdout",
     "output_type": "stream",
     "text": [
      "train results {'nll': 0.1499501169347763, 'loss': 0.1499501169347763, 'accuracy': 95.036}\n",
      "test results {'nll': 2.002311975097656, 'loss': 2.002311975097656, 'accuracy': 63.64}\n"
     ]
    },
    {
     "name": "stderr",
     "output_type": "stream",
     "text": [
      "\r",
      " 50%|█████     | 4/8 [00:49<00:49, 12.45s/it]"
     ]
    },
    {
     "name": "stdout",
     "output_type": "stream",
     "text": [
      "train results {'nll': 0.14660312858104707, 'loss': 0.14660312858104707, 'accuracy': 95.138}\n",
      "test results {'nll': 2.004493285369873, 'loss': 2.004493285369873, 'accuracy': 63.69}\n"
     ]
    },
    {
     "name": "stderr",
     "output_type": "stream",
     "text": [
      "\r",
      " 62%|██████▎   | 5/8 [01:02<00:37, 12.44s/it]"
     ]
    },
    {
     "name": "stdout",
     "output_type": "stream",
     "text": [
      "train results {'nll': 0.15055681869983673, 'loss': 0.15055681869983673, 'accuracy': 95.094}\n",
      "test results {'nll': 2.012614235687256, 'loss': 2.012614235687256, 'accuracy': 63.32}\n"
     ]
    },
    {
     "name": "stderr",
     "output_type": "stream",
     "text": [
      "\r",
      " 75%|███████▌  | 6/8 [01:14<00:24, 12.47s/it]"
     ]
    },
    {
     "name": "stdout",
     "output_type": "stream",
     "text": [
      "train results {'nll': 0.14873932048797608, 'loss': 0.14873932048797608, 'accuracy': 95.03}\n",
      "test results {'nll': 2.020414693450928, 'loss': 2.020414693450928, 'accuracy': 62.88}\n"
     ]
    },
    {
     "name": "stderr",
     "output_type": "stream",
     "text": [
      "\r",
      " 88%|████████▊ | 7/8 [01:27<00:12, 12.50s/it]"
     ]
    },
    {
     "name": "stdout",
     "output_type": "stream",
     "text": [
      "train results {'nll': 0.15165174557209016, 'loss': 0.15165174557209016, 'accuracy': 95.128}\n",
      "test results {'nll': 2.027500408935547, 'loss': 2.027500408935547, 'accuracy': 63.44}\n"
     ]
    },
    {
     "name": "stderr",
     "output_type": "stream",
     "text": [
      "\r",
      "100%|██████████| 8/8 [01:39<00:00, 12.50s/it]"
     ]
    },
    {
     "name": "stdout",
     "output_type": "stream",
     "text": [
      "train results {'nll': 0.14679717638015746, 'loss': 0.14679717638015746, 'accuracy': 95.244}\n",
      "test results {'nll': 2.0148772865295412, 'loss': 2.0148772865295412, 'accuracy': 63.12}\n"
     ]
    },
    {
     "name": "stderr",
     "output_type": "stream",
     "text": [
      "\n"
     ]
    }
   ],
   "source": [
    "stat = get_end_point_stat(architecture, model_name, beg_ind=beg, end_ind=end)"
   ]
  },
  {
   "cell_type": "code",
   "execution_count": 6,
   "metadata": {},
   "outputs": [
    {
     "data": {
      "text/plain": [
       "(95.1335, 0.0829924695379056, 63.25875, 0.3674383451682739)"
      ]
     },
     "execution_count": 6,
     "metadata": {},
     "output_type": "execute_result"
    }
   ],
   "source": [
    "get_mean_svd(stat)"
   ]
  },
  {
   "cell_type": "markdown",
   "metadata": {},
   "source": [
    "# Simultaneous Connection Stat"
   ]
  },
  {
   "cell_type": "code",
   "execution_count": 7,
   "metadata": {},
   "outputs": [],
   "source": [
    "pf = PointFinderSimultaneous(model1, model2, architecture)"
   ]
  },
  {
   "cell_type": "code",
   "execution_count": 8,
   "metadata": {},
   "outputs": [
    {
     "name": "stdout",
     "output_type": "stream",
     "text": [
      "train results {'nll': 1.8736324576568604, 'loss': 1.8736324576568604, 'accuracy': 45.184}\n",
      "test results {'nll': 2.3403503772735594, 'loss': 2.3403503772735594, 'accuracy': 38.87}\n"
     ]
    },
    {
     "data": {
      "text/plain": [
       "{'train': 45.184, 'test': 38.87}"
      ]
     },
     "execution_count": 8,
     "metadata": {},
     "output_type": "execute_result"
    }
   ],
   "source": [
    "pf.find_point(0.5)"
   ]
  },
  {
   "cell_type": "code",
   "execution_count": 12,
   "metadata": {},
   "outputs": [
    {
     "name": "stderr",
     "output_type": "stream",
     "text": [
      "\n",
      "  0%|          | 0/7 [00:00<?, ?it/s]\u001b[A\n",
      " 14%|█▍        | 1/7 [00:13<01:18, 13.11s/it]\u001b[A"
     ]
    },
    {
     "name": "stdout",
     "output_type": "stream",
     "text": [
      "train results {'nll': 1.8736324576568604, 'loss': 1.8736324576568604, 'accuracy': 45.184}\n",
      "test results {'nll': 2.3403503772735594, 'loss': 2.3403503772735594, 'accuracy': 38.87}\n"
     ]
    },
    {
     "name": "stderr",
     "output_type": "stream",
     "text": [
      "\n",
      " 29%|██▊       | 2/7 [00:26<01:05, 13.16s/it]\u001b[A"
     ]
    },
    {
     "name": "stdout",
     "output_type": "stream",
     "text": [
      "train results {'nll': 1.8149722625350952, 'loss': 1.8149722625350952, 'accuracy': 47.118}\n",
      "test results {'nll': 2.2686112953186037, 'loss': 2.2686112953186037, 'accuracy': 40.67}\n"
     ]
    },
    {
     "name": "stderr",
     "output_type": "stream",
     "text": [
      "\n",
      " 43%|████▎     | 3/7 [00:39<00:52, 13.20s/it]\u001b[A"
     ]
    },
    {
     "name": "stdout",
     "output_type": "stream",
     "text": [
      "train results {'nll': 1.8883477635574342, 'loss': 1.8883477635574342, 'accuracy': 46.198}\n",
      "test results {'nll': 2.3006352073669434, 'loss': 2.3006352073669434, 'accuracy': 40.72}\n"
     ]
    },
    {
     "name": "stderr",
     "output_type": "stream",
     "text": [
      "\n",
      " 57%|█████▋    | 4/7 [00:53<00:39, 13.24s/it]\u001b[A"
     ]
    },
    {
     "name": "stdout",
     "output_type": "stream",
     "text": [
      "train results {'nll': 1.7926903426742553, 'loss': 1.7926903426742553, 'accuracy': 47.882}\n",
      "test results {'nll': 2.2397213207244873, 'loss': 2.2397213207244873, 'accuracy': 41.38}\n"
     ]
    },
    {
     "name": "stderr",
     "output_type": "stream",
     "text": [
      "\n",
      " 71%|███████▏  | 5/7 [01:06<00:26, 13.25s/it]\u001b[A"
     ]
    },
    {
     "name": "stdout",
     "output_type": "stream",
     "text": [
      "train results {'nll': 1.821743413734436, 'loss': 1.821743413734436, 'accuracy': 46.42}\n",
      "test results {'nll': 2.240433582687378, 'loss': 2.240433582687378, 'accuracy': 40.24}\n"
     ]
    },
    {
     "name": "stderr",
     "output_type": "stream",
     "text": [
      "\n",
      " 86%|████████▌ | 6/7 [01:19<00:13, 13.23s/it]\u001b[A"
     ]
    },
    {
     "name": "stdout",
     "output_type": "stream",
     "text": [
      "train results {'nll': 1.9718599716949463, 'loss': 1.9718599716949463, 'accuracy': 44.78}\n",
      "test results {'nll': 2.4099008724212645, 'loss': 2.4099008724212645, 'accuracy': 39.02}\n"
     ]
    },
    {
     "name": "stderr",
     "output_type": "stream",
     "text": [
      "\n",
      "100%|██████████| 7/7 [01:32<00:00, 13.26s/it]\u001b[A\n",
      "\u001b[A"
     ]
    },
    {
     "name": "stdout",
     "output_type": "stream",
     "text": [
      "train results {'nll': 1.807114439048767, 'loss': 1.807114439048767, 'accuracy': 47.204}\n",
      "test results {'nll': 2.262377384185791, 'loss': 2.262377384185791, 'accuracy': 40.31}\n"
     ]
    },
    {
     "data": {
      "text/plain": [
       "(46.398, 1.0352705650491292, 40.17285714285715, 0.849667401915333)"
      ]
     },
     "execution_count": 12,
     "metadata": {},
     "output_type": "execute_result"
    }
   ],
   "source": [
    "stat_s = get_stat(PointFinderSimultaneous, model_name, architecture, t=0.5,\n",
    "                  beg_ind=beg, end_ind=end)\n",
    "get_mean_svd(stat_s)"
   ]
  },
  {
   "cell_type": "code",
   "execution_count": 13,
   "metadata": {},
   "outputs": [
    {
     "data": {
      "text/plain": [
       "(46.398, 1.0352705650491292, 40.17285714285715, 0.849667401915333)"
      ]
     },
     "execution_count": 13,
     "metadata": {},
     "output_type": "execute_result"
    }
   ],
   "source": [
    "get_mean_svd(stat_s)"
   ]
  },
  {
   "cell_type": "code",
   "execution_count": 15,
   "metadata": {},
   "outputs": [
    {
     "name": "stderr",
     "output_type": "stream",
     "text": [
      "\n",
      "  0%|          | 0/7 [00:00<?, ?it/s]\u001b[A\n",
      " 14%|█▍        | 1/7 [00:15<01:30, 15.09s/it]\u001b[A"
     ]
    },
    {
     "name": "stdout",
     "output_type": "stream",
     "text": [
      "train results {'nll': 2.0756291078948976, 'loss': 2.0756291078948976, 'accuracy': 29.808}\n",
      "test results {'nll': 2.1220074295043947, 'loss': 2.1220074295043947, 'accuracy': 25.47}\n"
     ]
    },
    {
     "name": "stderr",
     "output_type": "stream",
     "text": [
      "\n",
      " 29%|██▊       | 2/7 [00:30<01:15, 15.06s/it]\u001b[A"
     ]
    },
    {
     "name": "stdout",
     "output_type": "stream",
     "text": [
      "train results {'nll': 2.0512563899993896, 'loss': 2.0512563899993896, 'accuracy': 31.914}\n",
      "test results {'nll': 2.0941021266937256, 'loss': 2.0941021266937256, 'accuracy': 27.71}\n"
     ]
    },
    {
     "name": "stderr",
     "output_type": "stream",
     "text": [
      "\n",
      " 43%|████▎     | 3/7 [00:45<01:00, 15.07s/it]\u001b[A"
     ]
    },
    {
     "name": "stdout",
     "output_type": "stream",
     "text": [
      "train results {'nll': 2.0575858923339845, 'loss': 2.0575858923339845, 'accuracy': 32.098}\n",
      "test results {'nll': 2.094568837738037, 'loss': 2.094568837738037, 'accuracy': 28.94}\n"
     ]
    },
    {
     "name": "stderr",
     "output_type": "stream",
     "text": [
      "\n",
      " 57%|█████▋    | 4/7 [00:58<00:44, 14.69s/it]\u001b[A"
     ]
    },
    {
     "name": "stdout",
     "output_type": "stream",
     "text": [
      "train results {'nll': 2.0421046646118164, 'loss': 2.0421046646118164, 'accuracy': 32.012}\n",
      "test results {'nll': 2.0814504093170165, 'loss': 2.0814504093170165, 'accuracy': 27.67}\n"
     ]
    },
    {
     "name": "stderr",
     "output_type": "stream",
     "text": [
      "\n",
      " 71%|███████▏  | 5/7 [01:12<00:28, 14.21s/it]\u001b[A"
     ]
    },
    {
     "name": "stdout",
     "output_type": "stream",
     "text": [
      "train results {'nll': 2.0685319525146486, 'loss': 2.0685319525146486, 'accuracy': 30.91}\n",
      "test results {'nll': 2.105145489883423, 'loss': 2.105145489883423, 'accuracy': 28.01}\n"
     ]
    },
    {
     "name": "stderr",
     "output_type": "stream",
     "text": [
      "\n",
      " 86%|████████▌ | 6/7 [01:25<00:13, 13.88s/it]\u001b[A"
     ]
    },
    {
     "name": "stdout",
     "output_type": "stream",
     "text": [
      "train results {'nll': 2.0609129261016848, 'loss': 2.0609129261016848, 'accuracy': 30.298}\n",
      "test results {'nll': 2.1034596614837646, 'loss': 2.1034596614837646, 'accuracy': 26.21}\n"
     ]
    },
    {
     "name": "stderr",
     "output_type": "stream",
     "text": [
      "\n",
      "100%|██████████| 7/7 [01:38<00:00, 13.64s/it]\u001b[A\n",
      "\u001b[A"
     ]
    },
    {
     "name": "stdout",
     "output_type": "stream",
     "text": [
      "train results {'nll': 2.0746808379364015, 'loss': 2.0746808379364015, 'accuracy': 30.706}\n",
      "test results {'nll': 2.1167479747772218, 'loss': 2.1167479747772218, 'accuracy': 26.38}\n"
     ]
    },
    {
     "data": {
      "text/plain": [
       "(31.106571428571424, 0.8446339625022461, 27.19857142857143, 1.1218661566645949)"
      ]
     },
     "execution_count": 15,
     "metadata": {},
     "output_type": "execute_result"
    }
   ],
   "source": [
    "stat_sl = get_stat(PointFinderSimultaneous, model_name, architecture, t=0.5, \n",
    "                  beg_ind=beg, end_ind=end, method='lin_connect')\n",
    "get_mean_svd(stat_sl)"
   ]
  },
  {
   "cell_type": "code",
   "execution_count": 16,
   "metadata": {},
   "outputs": [
    {
     "data": {
      "text/plain": [
       "(31.106571428571424, 0.8446339625022461, 27.19857142857143, 1.1218661566645949)"
      ]
     },
     "execution_count": 16,
     "metadata": {},
     "output_type": "execute_result"
    }
   ],
   "source": [
    "get_mean_svd(stat_sl)"
   ]
  },
  {
   "cell_type": "markdown",
   "metadata": {},
   "source": [
    "# Butterfly Stat"
   ]
  },
  {
   "cell_type": "code",
   "execution_count": 17,
   "metadata": {},
   "outputs": [
    {
     "name": "stderr",
     "output_type": "stream",
     "text": [
      "\n",
      "  0%|          | 0/1 [00:00<?, ?it/s]\u001b[A"
     ]
    },
    {
     "name": "stdout",
     "output_type": "stream",
     "text": [
      "finding feature maps\n"
     ]
    },
    {
     "name": "stderr",
     "output_type": "stream",
     "text": [
      "\n",
      "100%|██████████| 1/1 [00:04<00:00,  4.12s/it]\u001b[A\n",
      "\u001b[A\n",
      "  0%|          | 0/1 [00:00<?, ?it/s]\u001b[A"
     ]
    },
    {
     "name": "stdout",
     "output_type": "stream",
     "text": [
      "finding feature maps\n"
     ]
    },
    {
     "name": "stderr",
     "output_type": "stream",
     "text": [
      "\n",
      "100%|██████████| 1/1 [00:04<00:00,  4.10s/it]\u001b[A\n",
      "\u001b[A\n",
      "0it [00:00, ?it/s]\u001b[A"
     ]
    },
    {
     "name": "stdout",
     "output_type": "stream",
     "text": [
      "adjusting weights\n"
     ]
    },
    {
     "name": "stderr",
     "output_type": "stream",
     "text": [
      "\n",
      "1it [01:47, 107.16s/it]\u001b[A\n",
      "\u001b[A"
     ]
    }
   ],
   "source": [
    "pf_b = PointFinderStepWiseButterfly(model1, model2, architecture)"
   ]
  },
  {
   "cell_type": "code",
   "execution_count": 18,
   "metadata": {},
   "outputs": [
    {
     "data": {
      "text/plain": [
       "array([0.        , 0.11111111, 0.22222222, 0.33333333, 0.44444444,\n",
       "       0.55555556, 0.66666667, 0.77777778, 0.88888889, 1.        ,\n",
       "       1.11111111, 1.22222222, 1.33333333, 1.44444444, 1.55555556,\n",
       "       1.66666667, 1.77777778, 1.88888889, 2.        ])"
      ]
     },
     "execution_count": 18,
     "metadata": {},
     "output_type": "execute_result"
    }
   ],
   "source": [
    "time = np.linspace(0, depth-1, depth*6+1)\n",
    "time"
   ]
  },
  {
   "cell_type": "code",
   "execution_count": 19,
   "metadata": {},
   "outputs": [
    {
     "name": "stderr",
     "output_type": "stream",
     "text": [
      "\n",
      "  0%|          | 0/19 [00:00<?, ?it/s]\u001b[A\n",
      "  5%|▌         | 1/19 [00:13<03:56, 13.13s/it]\u001b[A"
     ]
    },
    {
     "name": "stdout",
     "output_type": "stream",
     "text": [
      "train results {'nll': 0.14886100715637207, 'loss': 0.14886100715637207, 'accuracy': 95.12}\n",
      "test results {'nll': 2.0307863357543945, 'loss': 2.0307863357543945, 'accuracy': 62.54}\n"
     ]
    },
    {
     "name": "stderr",
     "output_type": "stream",
     "text": [
      "\n",
      " 11%|█         | 2/19 [00:26<03:43, 13.15s/it]\u001b[A"
     ]
    },
    {
     "name": "stdout",
     "output_type": "stream",
     "text": [
      "train results {'nll': 0.18399310209274292, 'loss': 0.18399310209274292, 'accuracy': 93.78}\n",
      "test results {'nll': 2.0722858757019043, 'loss': 2.0722858757019043, 'accuracy': 61.92}\n"
     ]
    },
    {
     "name": "stderr",
     "output_type": "stream",
     "text": [
      "\n",
      " 16%|█▌        | 3/19 [00:39<03:30, 13.13s/it]\u001b[A"
     ]
    },
    {
     "name": "stdout",
     "output_type": "stream",
     "text": [
      "train results {'nll': 0.31262765085220334, 'loss': 0.31262765085220334, 'accuracy': 89.242}\n",
      "test results {'nll': 2.2161614883422853, 'loss': 2.2161614883422853, 'accuracy': 60.35}\n"
     ]
    },
    {
     "name": "stderr",
     "output_type": "stream",
     "text": [
      "\n",
      " 21%|██        | 4/19 [00:52<03:17, 13.15s/it]\u001b[A"
     ]
    },
    {
     "name": "stdout",
     "output_type": "stream",
     "text": [
      "train results {'nll': 0.5449008072280884, 'loss': 0.5449008072280884, 'accuracy': 83.076}\n",
      "test results {'nll': 2.4308828018188477, 'loss': 2.4308828018188477, 'accuracy': 58.87}\n"
     ]
    },
    {
     "name": "stderr",
     "output_type": "stream",
     "text": [
      "\n",
      " 26%|██▋       | 5/19 [01:05<03:03, 13.12s/it]\u001b[A"
     ]
    },
    {
     "name": "stdout",
     "output_type": "stream",
     "text": [
      "train results {'nll': 0.7590313850212097, 'loss': 0.7590313850212097, 'accuracy': 78.768}\n",
      "test results {'nll': 2.602395513534546, 'loss': 2.602395513534546, 'accuracy': 57.76}\n"
     ]
    },
    {
     "name": "stderr",
     "output_type": "stream",
     "text": [
      "\n",
      " 32%|███▏      | 6/19 [01:18<02:50, 13.14s/it]\u001b[A"
     ]
    },
    {
     "name": "stdout",
     "output_type": "stream",
     "text": [
      "train results {'nll': 0.7914997691726685, 'loss': 0.7914997691726685, 'accuracy': 78.194}\n",
      "test results {'nll': 2.6160513702392576, 'loss': 2.6160513702392576, 'accuracy': 57.52}\n"
     ]
    },
    {
     "name": "stderr",
     "output_type": "stream",
     "text": [
      "\n",
      " 37%|███▋      | 7/19 [01:32<02:38, 13.18s/it]\u001b[A"
     ]
    },
    {
     "name": "stdout",
     "output_type": "stream",
     "text": [
      "train results {'nll': 0.6203107774162292, 'loss': 0.6203107774162292, 'accuracy': 81.328}\n",
      "test results {'nll': 2.4571274200439452, 'loss': 2.4571274200439452, 'accuracy': 58.64}\n"
     ]
    },
    {
     "name": "stderr",
     "output_type": "stream",
     "text": [
      "\n",
      " 42%|████▏     | 8/19 [01:45<02:25, 13.21s/it]\u001b[A"
     ]
    },
    {
     "name": "stdout",
     "output_type": "stream",
     "text": [
      "train results {'nll': 0.38584506883621217, 'loss': 0.38584506883621217, 'accuracy': 86.864}\n",
      "test results {'nll': 2.2446809921264648, 'loss': 2.2446809921264648, 'accuracy': 60.07}\n"
     ]
    },
    {
     "name": "stderr",
     "output_type": "stream",
     "text": [
      "\n",
      " 47%|████▋     | 9/19 [01:58<02:11, 13.18s/it]\u001b[A"
     ]
    },
    {
     "name": "stdout",
     "output_type": "stream",
     "text": [
      "train results {'nll': 0.2344012253856659, 'loss': 0.2344012253856659, 'accuracy': 91.764}\n",
      "test results {'nll': 2.092635919570923, 'loss': 2.092635919570923, 'accuracy': 61.71}\n"
     ]
    },
    {
     "name": "stderr",
     "output_type": "stream",
     "text": [
      "\n",
      " 53%|█████▎    | 10/19 [02:11<01:57, 13.02s/it]\u001b[A"
     ]
    },
    {
     "name": "stdout",
     "output_type": "stream",
     "text": [
      "train results {'nll': 0.19167783227920532, 'loss': 0.19167783227920532, 'accuracy': 93.44}\n",
      "test results {'nll': 2.0299664859771727, 'loss': 2.0299664859771727, 'accuracy': 61.88}\n"
     ]
    },
    {
     "name": "stderr",
     "output_type": "stream",
     "text": [
      "\n",
      " 58%|█████▊    | 11/19 [02:23<01:43, 12.91s/it]\u001b[A"
     ]
    },
    {
     "name": "stdout",
     "output_type": "stream",
     "text": [
      "train results {'nll': 0.3076281337738037, 'loss': 0.3076281337738037, 'accuracy': 89.35}\n",
      "test results {'nll': 2.1205802291870115, 'loss': 2.1205802291870115, 'accuracy': 61.21}\n"
     ]
    },
    {
     "name": "stderr",
     "output_type": "stream",
     "text": [
      "\n",
      " 63%|██████▎   | 12/19 [02:36<01:30, 12.89s/it]\u001b[A"
     ]
    },
    {
     "name": "stdout",
     "output_type": "stream",
     "text": [
      "train results {'nll': 0.729881683177948, 'loss': 0.729881683177948, 'accuracy': 78.422}\n",
      "test results {'nll': 2.4175574661254884, 'loss': 2.4175574661254884, 'accuracy': 57.3}\n"
     ]
    },
    {
     "name": "stderr",
     "output_type": "stream",
     "text": [
      "\n",
      " 68%|██████▊   | 13/19 [02:49<01:17, 12.87s/it]\u001b[A"
     ]
    },
    {
     "name": "stdout",
     "output_type": "stream",
     "text": [
      "train results {'nll': 1.397728218460083, 'loss': 1.397728218460083, 'accuracy': 67.16}\n",
      "test results {'nll': 2.8414717006683348, 'loss': 2.8414717006683348, 'accuracy': 52.13}\n"
     ]
    },
    {
     "name": "stderr",
     "output_type": "stream",
     "text": [
      "\n",
      " 74%|███████▎  | 14/19 [03:02<01:04, 12.86s/it]\u001b[A"
     ]
    },
    {
     "name": "stdout",
     "output_type": "stream",
     "text": [
      "train results {'nll': 1.9027231059646605, 'loss': 1.9027231059646605, 'accuracy': 60.71}\n",
      "test results {'nll': 3.1466164291381835, 'loss': 3.1466164291381835, 'accuracy': 48.98}\n"
     ]
    },
    {
     "name": "stderr",
     "output_type": "stream",
     "text": [
      "\n",
      " 79%|███████▉  | 15/19 [03:15<00:51, 12.84s/it]\u001b[A"
     ]
    },
    {
     "name": "stdout",
     "output_type": "stream",
     "text": [
      "train results {'nll': 1.8568432194900513, 'loss': 1.8568432194900513, 'accuracy': 61.112}\n",
      "test results {'nll': 3.130441544342041, 'loss': 3.130441544342041, 'accuracy': 49.43}\n"
     ]
    },
    {
     "name": "stderr",
     "output_type": "stream",
     "text": [
      "\n",
      " 84%|████████▍ | 16/19 [03:27<00:38, 12.78s/it]\u001b[A"
     ]
    },
    {
     "name": "stdout",
     "output_type": "stream",
     "text": [
      "train results {'nll': 1.29015105758667, 'loss': 1.29015105758667, 'accuracy': 68.774}\n",
      "test results {'nll': 2.7834115814208986, 'loss': 2.7834115814208986, 'accuracy': 53.52}\n"
     ]
    },
    {
     "name": "stderr",
     "output_type": "stream",
     "text": [
      "\n",
      " 89%|████████▉ | 17/19 [03:40<00:25, 12.76s/it]\u001b[A"
     ]
    },
    {
     "name": "stdout",
     "output_type": "stream",
     "text": [
      "train results {'nll': 0.6240492556381225, 'loss': 0.6240492556381225, 'accuracy': 80.992}\n",
      "test results {'nll': 2.354821915435791, 'loss': 2.354821915435791, 'accuracy': 58.42}\n"
     ]
    },
    {
     "name": "stderr",
     "output_type": "stream",
     "text": [
      "\n",
      " 95%|█████████▍| 18/19 [03:53<00:12, 12.75s/it]\u001b[A"
     ]
    },
    {
     "name": "stdout",
     "output_type": "stream",
     "text": [
      "train results {'nll': 0.24043534329414368, 'loss': 0.24043534329414368, 'accuracy': 91.62}\n",
      "test results {'nll': 2.078402238082886, 'loss': 2.078402238082886, 'accuracy': 62.41}\n"
     ]
    },
    {
     "name": "stderr",
     "output_type": "stream",
     "text": [
      "\n",
      "100%|██████████| 19/19 [04:05<00:00, 12.74s/it]\u001b[A\n",
      "\u001b[A"
     ]
    },
    {
     "name": "stdout",
     "output_type": "stream",
     "text": [
      "train results {'nll': 0.14613400597572326, 'loss': 0.14613400597572326, 'accuracy': 95.278}\n",
      "test results {'nll': 2.0166159870147706, 'loss': 2.0166159870147706, 'accuracy': 63.44}\n"
     ]
    }
   ],
   "source": [
    "path_b = find_path(time, pf_b, method='arc_connect')"
   ]
  },
  {
   "cell_type": "code",
   "execution_count": 20,
   "metadata": {},
   "outputs": [
    {
     "data": {
      "image/png": "[encoded data removed]",
      "text/plain": [
       "<Figure size 432x288 with 1 Axes>"
      ]
     },
     "metadata": {
      "needs_background": "light"
     },
     "output_type": "display_data"
    }
   ],
   "source": [
    "plt.plot(time, path_b['train'], label='train')\n",
    "plt.plot(time, path_b['test'], label='test') \n",
    "plt.legend()\n",
    "plt.xlabel('time')\n",
    "plt.ylabel('error (%)')\n",
    "plt.show()"
   ]
  },
  {
   "cell_type": "code",
   "execution_count": 21,
   "metadata": {},
   "outputs": [
    {
     "name": "stderr",
     "output_type": "stream",
     "text": [
      "\n",
      "  0%|          | 0/19 [00:00<?, ?it/s]\u001b[A\n",
      "  5%|▌         | 1/19 [00:12<03:52, 12.90s/it]\u001b[A"
     ]
    },
    {
     "name": "stdout",
     "output_type": "stream",
     "text": [
      "train results {'nll': 0.14886100863456725, 'loss': 0.14886100863456725, 'accuracy': 95.12}\n",
      "test results {'nll': 2.030786293411255, 'loss': 2.030786293411255, 'accuracy': 62.54}\n"
     ]
    },
    {
     "name": "stderr",
     "output_type": "stream",
     "text": [
      "\n",
      " 11%|█         | 2/19 [00:25<03:39, 12.91s/it]\u001b[A"
     ]
    },
    {
     "name": "stdout",
     "output_type": "stream",
     "text": [
      "train results {'nll': 0.24224485781669616, 'loss': 0.24224485781669616, 'accuracy': 92.6}\n",
      "test results {'nll': 1.5857037595748902, 'loss': 1.5857037595748902, 'accuracy': 60.93}\n"
     ]
    },
    {
     "name": "stderr",
     "output_type": "stream",
     "text": [
      "\n",
      " 16%|█▌        | 3/19 [00:38<03:26, 12.94s/it]\u001b[A"
     ]
    },
    {
     "name": "stdout",
     "output_type": "stream",
     "text": [
      "train results {'nll': 0.4677420131111145, 'loss': 0.4677420131111145, 'accuracy': 85.328}\n",
      "test results {'nll': 1.423993417930603, 'loss': 1.423993417930603, 'accuracy': 58.42}\n"
     ]
    },
    {
     "name": "stderr",
     "output_type": "stream",
     "text": [
      "\n",
      " 21%|██        | 4/19 [00:51<03:14, 12.95s/it]\u001b[A"
     ]
    },
    {
     "name": "stdout",
     "output_type": "stream",
     "text": [
      "train results {'nll': 0.7619521224784851, 'loss': 0.7619521224784851, 'accuracy': 74.806}\n",
      "test results {'nll': 1.4467328361511231, 'loss': 1.4467328361511231, 'accuracy': 54.19}\n"
     ]
    },
    {
     "name": "stderr",
     "output_type": "stream",
     "text": [
      "\n",
      " 26%|██▋       | 5/19 [01:04<03:00, 12.92s/it]\u001b[A"
     ]
    },
    {
     "name": "stdout",
     "output_type": "stream",
     "text": [
      "train results {'nll': 0.9770581649208069, 'loss': 0.9770581649208069, 'accuracy': 66.944}\n",
      "test results {'nll': 1.5173854591369629, 'loss': 1.5173854591369629, 'accuracy': 50.53}\n"
     ]
    },
    {
     "name": "stderr",
     "output_type": "stream",
     "text": [
      "\n",
      " 32%|███▏      | 6/19 [01:17<02:47, 12.92s/it]\u001b[A"
     ]
    },
    {
     "name": "stdout",
     "output_type": "stream",
     "text": [
      "train results {'nll': 0.9954051381111145, 'loss': 0.9954051381111145, 'accuracy': 66.112}\n",
      "test results {'nll': 1.524109119796753, 'loss': 1.524109119796753, 'accuracy': 50.24}\n"
     ]
    },
    {
     "name": "stderr",
     "output_type": "stream",
     "text": [
      "\n",
      " 37%|███▋      | 7/19 [01:30<02:35, 12.92s/it]\u001b[A"
     ]
    },
    {
     "name": "stdout",
     "output_type": "stream",
     "text": [
      "train results {'nll': 0.8070619187355041, 'loss': 0.8070619187355041, 'accuracy': 72.942}\n",
      "test results {'nll': 1.4611220317840576, 'loss': 1.4611220317840576, 'accuracy': 53.54}\n"
     ]
    },
    {
     "name": "stderr",
     "output_type": "stream",
     "text": [
      "\n",
      " 42%|████▏     | 8/19 [01:43<02:22, 12.97s/it]\u001b[A"
     ]
    },
    {
     "name": "stdout",
     "output_type": "stream",
     "text": [
      "train results {'nll': 0.5185952451133728, 'loss': 0.5185952451133728, 'accuracy': 83.168}\n",
      "test results {'nll': 1.4344814697265624, 'loss': 1.4344814697265624, 'accuracy': 57.75}\n"
     ]
    },
    {
     "name": "stderr",
     "output_type": "stream",
     "text": [
      "\n",
      " 47%|████▋     | 9/19 [01:56<02:10, 13.02s/it]\u001b[A"
     ]
    },
    {
     "name": "stdout",
     "output_type": "stream",
     "text": [
      "train results {'nll': 0.28689988954544066, 'loss': 0.28689988954544066, 'accuracy': 90.716}\n",
      "test results {'nll': 1.5914661149978637, 'loss': 1.5914661149978637, 'accuracy': 60.76}\n"
     ]
    },
    {
     "name": "stderr",
     "output_type": "stream",
     "text": [
      "\n",
      " 53%|█████▎    | 10/19 [02:09<01:56, 12.91s/it]\u001b[A"
     ]
    },
    {
     "name": "stdout",
     "output_type": "stream",
     "text": [
      "train results {'nll': 0.19167782657623292, 'loss': 0.19167782657623292, 'accuracy': 93.44}\n",
      "test results {'nll': 2.0299664615631103, 'loss': 2.0299664615631103, 'accuracy': 61.88}\n"
     ]
    },
    {
     "name": "stderr",
     "output_type": "stream",
     "text": [
      "\n",
      " 58%|█████▊    | 11/19 [02:22<01:42, 12.87s/it]\u001b[A"
     ]
    },
    {
     "name": "stdout",
     "output_type": "stream",
     "text": [
      "train results {'nll': 0.3404230714893341, 'loss': 0.3404230714893341, 'accuracy': 89.168}\n",
      "test results {'nll': 1.5501487344741822, 'loss': 1.5501487344741822, 'accuracy': 59.3}\n"
     ]
    },
    {
     "name": "stderr",
     "output_type": "stream",
     "text": [
      "\n",
      " 63%|██████▎   | 12/19 [02:34<01:29, 12.80s/it]\u001b[A"
     ]
    },
    {
     "name": "stdout",
     "output_type": "stream",
     "text": [
      "train results {'nll': 0.7360093458175659, 'loss': 0.7360093458175659, 'accuracy': 76.22}\n",
      "test results {'nll': 1.4686895977020265, 'loss': 1.4686895977020265, 'accuracy': 53.87}\n"
     ]
    },
    {
     "name": "stderr",
     "output_type": "stream",
     "text": [
      "\n",
      " 68%|██████▊   | 13/19 [02:47<01:16, 12.77s/it]\u001b[A"
     ]
    },
    {
     "name": "stdout",
     "output_type": "stream",
     "text": [
      "train results {'nll': 1.2126584564971923, 'loss': 1.2126584564971923, 'accuracy': 59.432}\n",
      "test results {'nll': 1.615618321800232, 'loss': 1.615618321800232, 'accuracy': 45.05}\n"
     ]
    },
    {
     "name": "stderr",
     "output_type": "stream",
     "text": [
      "\n",
      " 74%|███████▎  | 14/19 [03:00<01:03, 12.76s/it]\u001b[A"
     ]
    },
    {
     "name": "stdout",
     "output_type": "stream",
     "text": [
      "train results {'nll': 1.5135011620330812, 'loss': 1.5135011620330812, 'accuracy': 48.144}\n",
      "test results {'nll': 1.7698165874481202, 'loss': 1.7698165874481202, 'accuracy': 38.12}\n"
     ]
    },
    {
     "name": "stderr",
     "output_type": "stream",
     "text": [
      "\n",
      " 79%|███████▉  | 15/19 [03:13<00:51, 12.77s/it]\u001b[A"
     ]
    },
    {
     "name": "stdout",
     "output_type": "stream",
     "text": [
      "train results {'nll': 1.5075188144683838, 'loss': 1.5075188144683838, 'accuracy': 48.568}\n",
      "test results {'nll': 1.7743631322860718, 'loss': 1.7743631322860718, 'accuracy': 37.58}\n"
     ]
    },
    {
     "name": "stderr",
     "output_type": "stream",
     "text": [
      "\n",
      " 84%|████████▍ | 16/19 [03:25<00:38, 12.74s/it]\u001b[A"
     ]
    },
    {
     "name": "stdout",
     "output_type": "stream",
     "text": [
      "train results {'nll': 1.187535983352661, 'loss': 1.187535983352661, 'accuracy': 60.932}\n",
      "test results {'nll': 1.621860446166992, 'loss': 1.621860446166992, 'accuracy': 45.13}\n"
     ]
    },
    {
     "name": "stderr",
     "output_type": "stream",
     "text": [
      "\n",
      " 89%|████████▉ | 17/19 [03:38<00:25, 12.70s/it]\u001b[A"
     ]
    },
    {
     "name": "stdout",
     "output_type": "stream",
     "text": [
      "train results {'nll': 0.6901369849967957, 'loss': 0.6901369849967957, 'accuracy': 78.432}\n",
      "test results {'nll': 1.4585095602035523, 'loss': 1.4585095602035523, 'accuracy': 54.36}\n"
     ]
    },
    {
     "name": "stderr",
     "output_type": "stream",
     "text": [
      "\n",
      " 95%|█████████▍| 18/19 [03:51<00:12, 12.71s/it]\u001b[A"
     ]
    },
    {
     "name": "stdout",
     "output_type": "stream",
     "text": [
      "train results {'nll': 0.2874022512149811, 'loss': 0.2874022512149811, 'accuracy': 91.384}\n",
      "test results {'nll': 1.5262091566085816, 'loss': 1.5262091566085816, 'accuracy': 60.94}\n"
     ]
    },
    {
     "name": "stderr",
     "output_type": "stream",
     "text": [
      "\n",
      "100%|██████████| 19/19 [04:03<00:00, 12.73s/it]\u001b[A\n",
      "\u001b[A"
     ]
    },
    {
     "name": "stdout",
     "output_type": "stream",
     "text": [
      "train results {'nll': 0.1461340056180954, 'loss': 0.1461340056180954, 'accuracy': 95.278}\n",
      "test results {'nll': 2.016615950393677, 'loss': 2.016615950393677, 'accuracy': 63.44}\n"
     ]
    }
   ],
   "source": [
    "path_bl = find_path(time, pf_b, method='lin_connect')"
   ]
  },
  {
   "cell_type": "code",
   "execution_count": 22,
   "metadata": {},
   "outputs": [
    {
     "data": {
      "image/png": "[encoded data removed]",
      "text/plain": [
       "<Figure size 432x288 with 1 Axes>"
      ]
     },
     "metadata": {
      "needs_background": "light"
     },
     "output_type": "display_data"
    }
   ],
   "source": [
    "plt.plot(time, path_bl['train'], label='train')\n",
    "plt.plot(time, path_bl['test'], label='test') \n",
    "plt.legend()\n",
    "plt.xlabel('time')\n",
    "plt.ylabel('error (%)')\n",
    "plt.show()"
   ]
  },
  {
   "cell_type": "code",
   "execution_count": 23,
   "metadata": {
    "scrolled": true
   },
   "outputs": [
    {
     "name": "stderr",
     "output_type": "stream",
     "text": [
      "\n",
      "  0%|          | 0/7 [00:00<?, ?it/s]\u001b[A\n",
      "\n",
      "  0%|          | 0/1 [00:00<?, ?it/s]\u001b[A\u001b[A"
     ]
    },
    {
     "name": "stdout",
     "output_type": "stream",
     "text": [
      "finding feature maps\n"
     ]
    },
    {
     "name": "stderr",
     "output_type": "stream",
     "text": [
      "\n",
      "\n",
      "100%|██████████| 1/1 [00:04<00:00,  4.13s/it]\u001b[A\u001b[A\n",
      "\n",
      "\u001b[A\u001b[A\n",
      "\n",
      "  0%|          | 0/1 [00:00<?, ?it/s]\u001b[A\u001b[A"
     ]
    },
    {
     "name": "stdout",
     "output_type": "stream",
     "text": [
      "finding feature maps\n"
     ]
    },
    {
     "name": "stderr",
     "output_type": "stream",
     "text": [
      "\n",
      "\n",
      "100%|██████████| 1/1 [00:04<00:00,  4.11s/it]\u001b[A\u001b[A\n",
      "\n",
      "\u001b[A\u001b[A\n",
      "\n",
      "0it [00:00, ?it/s]\u001b[A\u001b[A"
     ]
    },
    {
     "name": "stdout",
     "output_type": "stream",
     "text": [
      "adjusting weights\n"
     ]
    },
    {
     "name": "stderr",
     "output_type": "stream",
     "text": [
      "\n",
      "\n",
      "1it [01:45, 105.77s/it]\u001b[A\u001b[A\n",
      "\n",
      "\u001b[A\u001b[A\n",
      " 14%|█▍        | 1/7 [02:07<12:42, 127.01s/it]\u001b[A"
     ]
    },
    {
     "name": "stdout",
     "output_type": "stream",
     "text": [
      "train results {'nll': 1.9591201119613648, 'loss': 1.9591201119613648, 'accuracy': 59.932}\n",
      "test results {'nll': 3.1856420585632326, 'loss': 3.1856420585632326, 'accuracy': 48.77}\n"
     ]
    },
    {
     "name": "stderr",
     "output_type": "stream",
     "text": [
      "\n",
      "\n",
      "  0%|          | 0/1 [00:00<?, ?it/s]\u001b[A\u001b[A"
     ]
    },
    {
     "name": "stdout",
     "output_type": "stream",
     "text": [
      "finding feature maps\n"
     ]
    },
    {
     "name": "stderr",
     "output_type": "stream",
     "text": [
      "\n",
      "\n",
      "100%|██████████| 1/1 [00:04<00:00,  4.13s/it]\u001b[A\u001b[A\n",
      "\n",
      "\u001b[A\u001b[A\n",
      "\n",
      "  0%|          | 0/1 [00:00<?, ?it/s]\u001b[A\u001b[A"
     ]
    },
    {
     "name": "stdout",
     "output_type": "stream",
     "text": [
      "finding feature maps\n"
     ]
    },
    {
     "name": "stderr",
     "output_type": "stream",
     "text": [
      "\n",
      "\n",
      "100%|██████████| 1/1 [00:04<00:00,  4.09s/it]\u001b[A\u001b[A\n",
      "\n",
      "\u001b[A\u001b[A\n",
      "\n",
      "0it [00:00, ?it/s]\u001b[A\u001b[A"
     ]
    },
    {
     "name": "stdout",
     "output_type": "stream",
     "text": [
      "adjusting weights\n"
     ]
    },
    {
     "name": "stderr",
     "output_type": "stream",
     "text": [
      "\n",
      "\n",
      "1it [01:45, 105.92s/it]\u001b[A\u001b[A\n",
      "\n",
      "\u001b[A\u001b[A\n",
      " 29%|██▊       | 2/7 [04:14<10:35, 127.12s/it]\u001b[A"
     ]
    },
    {
     "name": "stdout",
     "output_type": "stream",
     "text": [
      "train results {'nll': 1.9418488569259644, 'loss': 1.9418488569259644, 'accuracy': 60.978}\n",
      "test results {'nll': 3.194660956954956, 'loss': 3.194660956954956, 'accuracy': 50.42}\n"
     ]
    },
    {
     "name": "stderr",
     "output_type": "stream",
     "text": [
      "\n",
      "\n",
      "  0%|          | 0/1 [00:00<?, ?it/s]\u001b[A\u001b[A"
     ]
    },
    {
     "name": "stdout",
     "output_type": "stream",
     "text": [
      "finding feature maps\n"
     ]
    },
    {
     "name": "stderr",
     "output_type": "stream",
     "text": [
      "\n",
      "\n",
      "100%|██████████| 1/1 [00:04<00:00,  4.09s/it]\u001b[A\u001b[A\n",
      "\n",
      "\u001b[A\u001b[A\n",
      "\n",
      "  0%|          | 0/1 [00:00<?, ?it/s]\u001b[A\u001b[A"
     ]
    },
    {
     "name": "stdout",
     "output_type": "stream",
     "text": [
      "finding feature maps\n"
     ]
    },
    {
     "name": "stderr",
     "output_type": "stream",
     "text": [
      "\n",
      "\n",
      "100%|██████████| 1/1 [00:04<00:00,  4.10s/it]\u001b[A\u001b[A\n",
      "\n",
      "\u001b[A\u001b[A\n",
      "\n",
      "0it [00:00, ?it/s]\u001b[A\u001b[A"
     ]
    },
    {
     "name": "stdout",
     "output_type": "stream",
     "text": [
      "adjusting weights\n"
     ]
    },
    {
     "name": "stderr",
     "output_type": "stream",
     "text": [
      "\n",
      "\n",
      "1it [01:45, 105.98s/it]\u001b[A\u001b[A\n",
      "\n",
      "\u001b[A\u001b[A\n",
      " 43%|████▎     | 3/7 [06:21<08:28, 127.21s/it]\u001b[A"
     ]
    },
    {
     "name": "stdout",
     "output_type": "stream",
     "text": [
      "train results {'nll': 2.0196934902954102, 'loss': 2.0196934902954102, 'accuracy': 60.398}\n",
      "test results {'nll': 3.220411971282959, 'loss': 3.220411971282959, 'accuracy': 49.46}\n"
     ]
    },
    {
     "name": "stderr",
     "output_type": "stream",
     "text": [
      "\n",
      "\n",
      "  0%|          | 0/1 [00:00<?, ?it/s]\u001b[A\u001b[A"
     ]
    },
    {
     "name": "stdout",
     "output_type": "stream",
     "text": [
      "finding feature maps\n"
     ]
    },
    {
     "name": "stderr",
     "output_type": "stream",
     "text": [
      "\n",
      "\n",
      "100%|██████████| 1/1 [00:04<00:00,  4.09s/it]\u001b[A\u001b[A\n",
      "\n",
      "\u001b[A\u001b[A\n",
      "\n",
      "  0%|          | 0/1 [00:00<?, ?it/s]\u001b[A\u001b[A"
     ]
    },
    {
     "name": "stdout",
     "output_type": "stream",
     "text": [
      "finding feature maps\n"
     ]
    },
    {
     "name": "stderr",
     "output_type": "stream",
     "text": [
      "\n",
      "\n",
      "100%|██████████| 1/1 [00:04<00:00,  4.08s/it]\u001b[A\u001b[A\n",
      "\n",
      "\u001b[A\u001b[A\n",
      "\n",
      "0it [00:00, ?it/s]\u001b[A\u001b[A"
     ]
    },
    {
     "name": "stdout",
     "output_type": "stream",
     "text": [
      "adjusting weights\n"
     ]
    },
    {
     "name": "stderr",
     "output_type": "stream",
     "text": [
      "\n",
      "\n",
      "1it [02:20, 140.44s/it]\u001b[A\u001b[A\n",
      "\n",
      "\u001b[A\u001b[A\n",
      " 57%|█████▋    | 4/7 [09:04<06:53, 137.79s/it]\u001b[A"
     ]
    },
    {
     "name": "stdout",
     "output_type": "stream",
     "text": [
      "train results {'nll': 1.855967312927246, 'loss': 1.855967312927246, 'accuracy': 62.216}\n",
      "test results {'nll': 3.0782050243377688, 'loss': 3.0782050243377688, 'accuracy': 51.32}\n"
     ]
    },
    {
     "name": "stderr",
     "output_type": "stream",
     "text": [
      "\n",
      "\n",
      "  0%|          | 0/1 [00:00<?, ?it/s]\u001b[A\u001b[A"
     ]
    },
    {
     "name": "stdout",
     "output_type": "stream",
     "text": [
      "finding feature maps\n"
     ]
    },
    {
     "name": "stderr",
     "output_type": "stream",
     "text": [
      "\n",
      "\n",
      "100%|██████████| 1/1 [00:04<00:00,  4.11s/it]\u001b[A\u001b[A\n",
      "\n",
      "\u001b[A\u001b[A\n",
      "\n",
      "  0%|          | 0/1 [00:00<?, ?it/s]\u001b[A\u001b[A"
     ]
    },
    {
     "name": "stdout",
     "output_type": "stream",
     "text": [
      "finding feature maps\n"
     ]
    },
    {
     "name": "stderr",
     "output_type": "stream",
     "text": [
      "\n",
      "\n",
      "100%|██████████| 1/1 [00:04<00:00,  4.10s/it]\u001b[A\u001b[A\n",
      "\n",
      "\u001b[A\u001b[A\n",
      "\n",
      "0it [00:00, ?it/s]\u001b[A\u001b[A"
     ]
    },
    {
     "name": "stdout",
     "output_type": "stream",
     "text": [
      "adjusting weights\n"
     ]
    },
    {
     "name": "stderr",
     "output_type": "stream",
     "text": [
      "\n",
      "\n",
      "1it [01:52, 112.05s/it]\u001b[A\u001b[A\n",
      "\n",
      "\u001b[A\u001b[A\n",
      " 71%|███████▏  | 5/7 [11:17<04:32, 136.48s/it]\u001b[A"
     ]
    },
    {
     "name": "stdout",
     "output_type": "stream",
     "text": [
      "train results {'nll': 1.9324589866256714, 'loss': 1.9324589866256714, 'accuracy': 60.008}\n",
      "test results {'nll': 3.2132950492858887, 'loss': 3.2132950492858887, 'accuracy': 49.09}\n"
     ]
    },
    {
     "name": "stderr",
     "output_type": "stream",
     "text": [
      "\n",
      "\n",
      "  0%|          | 0/1 [00:00<?, ?it/s]\u001b[A\u001b[A"
     ]
    },
    {
     "name": "stdout",
     "output_type": "stream",
     "text": [
      "finding feature maps\n"
     ]
    },
    {
     "name": "stderr",
     "output_type": "stream",
     "text": [
      "\n",
      "\n",
      "100%|██████████| 1/1 [00:04<00:00,  4.15s/it]\u001b[A\u001b[A\n",
      "\n",
      "\u001b[A\u001b[A\n",
      "\n",
      "  0%|          | 0/1 [00:00<?, ?it/s]\u001b[A\u001b[A"
     ]
    },
    {
     "name": "stdout",
     "output_type": "stream",
     "text": [
      "finding feature maps\n"
     ]
    },
    {
     "name": "stderr",
     "output_type": "stream",
     "text": [
      "\n",
      "\n",
      "100%|██████████| 1/1 [00:04<00:00,  4.09s/it]\u001b[A\u001b[A\n",
      "\n",
      "\u001b[A\u001b[A\n",
      "\n",
      "0it [00:00, ?it/s]\u001b[A\u001b[A"
     ]
    },
    {
     "name": "stdout",
     "output_type": "stream",
     "text": [
      "adjusting weights\n"
     ]
    },
    {
     "name": "stderr",
     "output_type": "stream",
     "text": [
      "\n",
      "\n",
      "1it [01:46, 106.03s/it]\u001b[A\u001b[A\n",
      "\n",
      "\u001b[A\u001b[A\n",
      " 86%|████████▌ | 6/7 [13:25<02:13, 133.77s/it]\u001b[A"
     ]
    },
    {
     "name": "stdout",
     "output_type": "stream",
     "text": [
      "train results {'nll': 1.9813108393478394, 'loss': 1.9813108393478394, 'accuracy': 60.124}\n",
      "test results {'nll': 3.2542478782653808, 'loss': 3.2542478782653808, 'accuracy': 48.82}\n"
     ]
    },
    {
     "name": "stderr",
     "output_type": "stream",
     "text": [
      "\n",
      "\n",
      "  0%|          | 0/1 [00:00<?, ?it/s]\u001b[A\u001b[A"
     ]
    },
    {
     "name": "stdout",
     "output_type": "stream",
     "text": [
      "finding feature maps\n"
     ]
    },
    {
     "name": "stderr",
     "output_type": "stream",
     "text": [
      "\n",
      "\n",
      "100%|██████████| 1/1 [00:04<00:00,  4.11s/it]\u001b[A\u001b[A\n",
      "\n",
      "\u001b[A\u001b[A\n",
      "\n",
      "  0%|          | 0/1 [00:00<?, ?it/s]\u001b[A\u001b[A"
     ]
    },
    {
     "name": "stdout",
     "output_type": "stream",
     "text": [
      "finding feature maps\n"
     ]
    },
    {
     "name": "stderr",
     "output_type": "stream",
     "text": [
      "\n",
      "\n",
      "100%|██████████| 1/1 [00:04<00:00,  4.11s/it]\u001b[A\u001b[A\n",
      "\n",
      "\u001b[A\u001b[A\n",
      "\n",
      "0it [00:00, ?it/s]\u001b[A\u001b[A"
     ]
    },
    {
     "name": "stdout",
     "output_type": "stream",
     "text": [
      "adjusting weights\n"
     ]
    },
    {
     "name": "stderr",
     "output_type": "stream",
     "text": [
      "\n",
      "\n",
      "1it [01:51, 111.21s/it]\u001b[A\u001b[A\n",
      "\n",
      "\u001b[A\u001b[A\n",
      "100%|██████████| 7/7 [15:37<00:00, 133.40s/it]\u001b[A\n",
      "\u001b[A"
     ]
    },
    {
     "name": "stdout",
     "output_type": "stream",
     "text": [
      "train results {'nll': 1.825010260658264, 'loss': 1.825010260658264, 'accuracy': 61.864}\n",
      "test results {'nll': 3.069263334274292, 'loss': 3.069263334274292, 'accuracy': 50.13}\n"
     ]
    }
   ],
   "source": [
    "stat_b = get_stat(PointFinderStepWiseButterfly, model_name, architecture, t=1.5,\n",
    "                  beg_ind=beg, end_ind=end)"
   ]
  },
  {
   "cell_type": "code",
   "execution_count": 24,
   "metadata": {},
   "outputs": [
    {
     "data": {
      "text/plain": [
       "(60.78857142857142, 0.8591681786377282, 49.715714285714284, 0.8779010218023624)"
      ]
     },
     "execution_count": 24,
     "metadata": {},
     "output_type": "execute_result"
    }
   ],
   "source": [
    "get_mean_svd(stat_b)"
   ]
  },
  {
   "cell_type": "code",
   "execution_count": 25,
   "metadata": {},
   "outputs": [
    {
     "name": "stderr",
     "output_type": "stream",
     "text": [
      "\n",
      "  0%|          | 0/7 [00:00<?, ?it/s]\u001b[A\n",
      "\n",
      "  0%|          | 0/1 [00:00<?, ?it/s]\u001b[A\u001b[A"
     ]
    },
    {
     "name": "stdout",
     "output_type": "stream",
     "text": [
      "finding feature maps\n"
     ]
    },
    {
     "name": "stderr",
     "output_type": "stream",
     "text": [
      "\n",
      "\n",
      "100%|██████████| 1/1 [00:04<00:00,  4.11s/it]\u001b[A\u001b[A\n",
      "\n",
      "\u001b[A\u001b[A\n",
      "\n",
      "  0%|          | 0/1 [00:00<?, ?it/s]\u001b[A\u001b[A"
     ]
    },
    {
     "name": "stdout",
     "output_type": "stream",
     "text": [
      "finding feature maps\n"
     ]
    },
    {
     "name": "stderr",
     "output_type": "stream",
     "text": [
      "\n",
      "\n",
      "100%|██████████| 1/1 [00:04<00:00,  4.08s/it]\u001b[A\u001b[A\n",
      "\n",
      "\u001b[A\u001b[A\n",
      "\n",
      "0it [00:00, ?it/s]\u001b[A\u001b[A"
     ]
    },
    {
     "name": "stdout",
     "output_type": "stream",
     "text": [
      "adjusting weights\n"
     ]
    },
    {
     "name": "stderr",
     "output_type": "stream",
     "text": [
      "\n",
      "\n",
      "1it [01:45, 105.83s/it]\u001b[A\u001b[A\n",
      "\n",
      "\u001b[A\u001b[A\n",
      " 14%|█▍        | 1/7 [02:07<12:42, 127.12s/it]\u001b[A"
     ]
    },
    {
     "name": "stdout",
     "output_type": "stream",
     "text": [
      "train results {'nll': 1.5519071600341796, 'loss': 1.5519071600341796, 'accuracy': 46.738}\n",
      "test results {'nll': 1.7943129163742066, 'loss': 1.7943129163742066, 'accuracy': 36.93}\n"
     ]
    },
    {
     "name": "stderr",
     "output_type": "stream",
     "text": [
      "\n",
      "\n",
      "  0%|          | 0/1 [00:00<?, ?it/s]\u001b[A\u001b[A"
     ]
    },
    {
     "name": "stdout",
     "output_type": "stream",
     "text": [
      "finding feature maps\n"
     ]
    },
    {
     "name": "stderr",
     "output_type": "stream",
     "text": [
      "\n",
      "\n",
      "100%|██████████| 1/1 [00:04<00:00,  4.13s/it]\u001b[A\u001b[A\n",
      "\n",
      "\u001b[A\u001b[A\n",
      "\n",
      "  0%|          | 0/1 [00:00<?, ?it/s]\u001b[A\u001b[A"
     ]
    },
    {
     "name": "stdout",
     "output_type": "stream",
     "text": [
      "finding feature maps\n"
     ]
    },
    {
     "name": "stderr",
     "output_type": "stream",
     "text": [
      "\n",
      "\n",
      "100%|██████████| 1/1 [00:04<00:00,  4.11s/it]\u001b[A\u001b[A\n",
      "\n",
      "\u001b[A\u001b[A\n",
      "\n",
      "0it [00:00, ?it/s]\u001b[A\u001b[A"
     ]
    },
    {
     "name": "stdout",
     "output_type": "stream",
     "text": [
      "adjusting weights\n"
     ]
    },
    {
     "name": "stderr",
     "output_type": "stream",
     "text": [
      "\n",
      "\n",
      "1it [01:45, 105.86s/it]\u001b[A\u001b[A\n",
      "\n",
      "\u001b[A\u001b[A\n",
      " 29%|██▊       | 2/7 [04:14<10:35, 127.15s/it]\u001b[A"
     ]
    },
    {
     "name": "stdout",
     "output_type": "stream",
     "text": [
      "train results {'nll': 1.5088456756973267, 'loss': 1.5088456756973267, 'accuracy': 48.374}\n",
      "test results {'nll': 1.7399790252685547, 'loss': 1.7399790252685547, 'accuracy': 39.17}\n"
     ]
    },
    {
     "name": "stderr",
     "output_type": "stream",
     "text": [
      "\n",
      "\n",
      "  0%|          | 0/1 [00:00<?, ?it/s]\u001b[A\u001b[A"
     ]
    },
    {
     "name": "stdout",
     "output_type": "stream",
     "text": [
      "finding feature maps\n"
     ]
    },
    {
     "name": "stderr",
     "output_type": "stream",
     "text": [
      "\n",
      "\n",
      "100%|██████████| 1/1 [00:04<00:00,  4.12s/it]\u001b[A\u001b[A\n",
      "\n",
      "\u001b[A\u001b[A\n",
      "\n",
      "  0%|          | 0/1 [00:00<?, ?it/s]\u001b[A\u001b[A"
     ]
    },
    {
     "name": "stdout",
     "output_type": "stream",
     "text": [
      "finding feature maps\n"
     ]
    },
    {
     "name": "stderr",
     "output_type": "stream",
     "text": [
      "\n",
      "\n",
      "100%|██████████| 1/1 [00:04<00:00,  4.10s/it]\u001b[A\u001b[A\n",
      "\n",
      "\u001b[A\u001b[A\n",
      "\n",
      "0it [00:00, ?it/s]\u001b[A\u001b[A"
     ]
    },
    {
     "name": "stdout",
     "output_type": "stream",
     "text": [
      "adjusting weights\n"
     ]
    },
    {
     "name": "stderr",
     "output_type": "stream",
     "text": [
      "\n",
      "\n",
      "1it [01:46, 106.51s/it]\u001b[A\u001b[A\n",
      "\n",
      "\u001b[A\u001b[A\n",
      " 43%|████▎     | 3/7 [06:22<08:29, 127.33s/it]\u001b[A"
     ]
    },
    {
     "name": "stdout",
     "output_type": "stream",
     "text": [
      "train results {'nll': 1.517370428237915, 'loss': 1.517370428237915, 'accuracy': 48.088}\n",
      "test results {'nll': 1.7433960430145263, 'loss': 1.7433960430145263, 'accuracy': 39.38}\n"
     ]
    },
    {
     "name": "stderr",
     "output_type": "stream",
     "text": [
      "\n",
      "\n",
      "  0%|          | 0/1 [00:00<?, ?it/s]\u001b[A\u001b[A"
     ]
    },
    {
     "name": "stdout",
     "output_type": "stream",
     "text": [
      "finding feature maps\n"
     ]
    },
    {
     "name": "stderr",
     "output_type": "stream",
     "text": [
      "\n",
      "\n",
      "100%|██████████| 1/1 [00:04<00:00,  4.11s/it]\u001b[A\u001b[A\n",
      "\n",
      "\u001b[A\u001b[A\n",
      "\n",
      "  0%|          | 0/1 [00:00<?, ?it/s]\u001b[A\u001b[A"
     ]
    },
    {
     "name": "stdout",
     "output_type": "stream",
     "text": [
      "finding feature maps\n"
     ]
    },
    {
     "name": "stderr",
     "output_type": "stream",
     "text": [
      "\n",
      "\n",
      "100%|██████████| 1/1 [00:04<00:00,  4.45s/it]\u001b[A\u001b[A\n",
      "\n",
      "\u001b[A\u001b[A\n",
      "\n",
      "0it [00:00, ?it/s]\u001b[A\u001b[A"
     ]
    },
    {
     "name": "stdout",
     "output_type": "stream",
     "text": [
      "adjusting weights\n"
     ]
    },
    {
     "name": "stderr",
     "output_type": "stream",
     "text": [
      "\n",
      "\n",
      "1it [01:45, 105.91s/it]\u001b[A\u001b[A\n",
      "\n",
      "\u001b[A\u001b[A\n",
      " 57%|█████▋    | 4/7 [08:29<06:22, 127.40s/it]\u001b[A"
     ]
    },
    {
     "name": "stdout",
     "output_type": "stream",
     "text": [
      "train results {'nll': 1.4952188411331178, 'loss': 1.4952188411331178, 'accuracy': 49.036}\n",
      "test results {'nll': 1.7285956281661987, 'loss': 1.7285956281661987, 'accuracy': 39.21}\n"
     ]
    },
    {
     "name": "stderr",
     "output_type": "stream",
     "text": [
      "\n",
      "\n",
      "  0%|          | 0/1 [00:00<?, ?it/s]\u001b[A\u001b[A"
     ]
    },
    {
     "name": "stdout",
     "output_type": "stream",
     "text": [
      "finding feature maps\n"
     ]
    },
    {
     "name": "stderr",
     "output_type": "stream",
     "text": [
      "\n",
      "\n",
      "100%|██████████| 1/1 [00:04<00:00,  4.11s/it]\u001b[A\u001b[A\n",
      "\n",
      "\u001b[A\u001b[A\n",
      "\n",
      "  0%|          | 0/1 [00:00<?, ?it/s]\u001b[A\u001b[A"
     ]
    },
    {
     "name": "stdout",
     "output_type": "stream",
     "text": [
      "finding feature maps\n"
     ]
    },
    {
     "name": "stderr",
     "output_type": "stream",
     "text": [
      "\n",
      "\n",
      "100%|██████████| 1/1 [00:04<00:00,  4.12s/it]\u001b[A\u001b[A\n",
      "\n",
      "\u001b[A\u001b[A\n",
      "\n",
      "0it [00:00, ?it/s]\u001b[A\u001b[A"
     ]
    },
    {
     "name": "stdout",
     "output_type": "stream",
     "text": [
      "adjusting weights\n"
     ]
    },
    {
     "name": "stderr",
     "output_type": "stream",
     "text": [
      "\n",
      "\n",
      "1it [01:45, 105.85s/it]\u001b[A\u001b[A\n",
      "\n",
      "\u001b[A\u001b[A\n",
      " 71%|███████▏  | 5/7 [10:36<04:14, 127.35s/it]\u001b[A"
     ]
    },
    {
     "name": "stdout",
     "output_type": "stream",
     "text": [
      "train results {'nll': 1.5365932415390016, 'loss': 1.5365932415390016, 'accuracy': 47.356}\n",
      "test results {'nll': 1.7638778604507446, 'loss': 1.7638778604507446, 'accuracy': 38.12}\n"
     ]
    },
    {
     "name": "stderr",
     "output_type": "stream",
     "text": [
      "\n",
      "\n",
      "  0%|          | 0/1 [00:00<?, ?it/s]\u001b[A\u001b[A"
     ]
    },
    {
     "name": "stdout",
     "output_type": "stream",
     "text": [
      "finding feature maps\n"
     ]
    },
    {
     "name": "stderr",
     "output_type": "stream",
     "text": [
      "\n",
      "\n",
      "100%|██████████| 1/1 [00:04<00:00,  4.11s/it]\u001b[A\u001b[A\n",
      "\n",
      "\u001b[A\u001b[A\n",
      "\n",
      "  0%|          | 0/1 [00:00<?, ?it/s]\u001b[A\u001b[A"
     ]
    },
    {
     "name": "stdout",
     "output_type": "stream",
     "text": [
      "finding feature maps\n"
     ]
    },
    {
     "name": "stderr",
     "output_type": "stream",
     "text": [
      "\n",
      "\n",
      "100%|██████████| 1/1 [00:04<00:00,  4.11s/it]\u001b[A\u001b[A\n",
      "\n",
      "\u001b[A\u001b[A\n",
      "\n",
      "0it [00:00, ?it/s]\u001b[A\u001b[A"
     ]
    },
    {
     "name": "stdout",
     "output_type": "stream",
     "text": [
      "adjusting weights\n"
     ]
    },
    {
     "name": "stderr",
     "output_type": "stream",
     "text": [
      "\n",
      "\n",
      "1it [01:45, 105.82s/it]\u001b[A\u001b[A\n",
      "\n",
      "\u001b[A\u001b[A\n",
      " 86%|████████▌ | 6/7 [12:43<02:07, 127.27s/it]\u001b[A"
     ]
    },
    {
     "name": "stdout",
     "output_type": "stream",
     "text": [
      "train results {'nll': 1.5415855751800538, 'loss': 1.5415855751800538, 'accuracy': 47.326}\n",
      "test results {'nll': 1.7778395641326905, 'loss': 1.7778395641326905, 'accuracy': 37.75}\n"
     ]
    },
    {
     "name": "stderr",
     "output_type": "stream",
     "text": [
      "\n",
      "\n",
      "  0%|          | 0/1 [00:00<?, ?it/s]\u001b[A\u001b[A"
     ]
    },
    {
     "name": "stdout",
     "output_type": "stream",
     "text": [
      "finding feature maps\n"
     ]
    },
    {
     "name": "stderr",
     "output_type": "stream",
     "text": [
      "\n",
      "\n",
      "100%|██████████| 1/1 [00:04<00:00,  4.10s/it]\u001b[A\u001b[A\n",
      "\n",
      "\u001b[A\u001b[A\n",
      "\n",
      "  0%|          | 0/1 [00:00<?, ?it/s]\u001b[A\u001b[A"
     ]
    },
    {
     "name": "stdout",
     "output_type": "stream",
     "text": [
      "finding feature maps\n"
     ]
    },
    {
     "name": "stderr",
     "output_type": "stream",
     "text": [
      "\n",
      "\n",
      "100%|██████████| 1/1 [00:04<00:00,  4.09s/it]\u001b[A\u001b[A\n",
      "\n",
      "\u001b[A\u001b[A\n",
      "\n",
      "0it [00:00, ?it/s]\u001b[A\u001b[A"
     ]
    },
    {
     "name": "stdout",
     "output_type": "stream",
     "text": [
      "adjusting weights\n"
     ]
    },
    {
     "name": "stderr",
     "output_type": "stream",
     "text": [
      "\n",
      "\n",
      "1it [01:45, 105.97s/it]\u001b[A\u001b[A\n",
      "\n",
      "\u001b[A\u001b[A\n",
      "100%|██████████| 7/7 [14:51<00:00, 127.24s/it]\u001b[A\n",
      "\u001b[A"
     ]
    },
    {
     "name": "stdout",
     "output_type": "stream",
     "text": [
      "train results {'nll': 1.5360045972442626, 'loss': 1.5360045972442626, 'accuracy': 47.332}\n",
      "test results {'nll': 1.7684841873168946, 'loss': 1.7684841873168946, 'accuracy': 37.82}\n"
     ]
    }
   ],
   "source": [
    "stat_bl = get_stat(PointFinderStepWiseButterfly, model_name, architecture, t=1.5,\n",
    "                  beg_ind=beg, end_ind=end, method='lin_connect')"
   ]
  },
  {
   "cell_type": "code",
   "execution_count": 26,
   "metadata": {},
   "outputs": [
    {
     "data": {
      "text/plain": [
       "(47.75, 0.7261735329795495, 38.339999999999996, 0.8604317852932089)"
      ]
     },
     "execution_count": 26,
     "metadata": {},
     "output_type": "execute_result"
    }
   ],
   "source": [
    "get_mean_svd(stat_bl)"
   ]
  },
  {
   "cell_type": "markdown",
   "metadata": {},
   "source": [
    "# Inverse Stat"
   ]
  },
  {
   "cell_type": "code",
   "execution_count": 27,
   "metadata": {},
   "outputs": [
    {
     "name": "stderr",
     "output_type": "stream",
     "text": [
      "\n",
      "  0%|          | 0/2 [00:00<?, ?it/s]\u001b[A"
     ]
    },
    {
     "name": "stdout",
     "output_type": "stream",
     "text": [
      "finding feature maps\n"
     ]
    },
    {
     "name": "stderr",
     "output_type": "stream",
     "text": [
      "\n",
      " 50%|█████     | 1/2 [00:04<00:04,  4.10s/it]\u001b[A\n",
      "100%|██████████| 2/2 [00:06<00:00,  3.46s/it]\u001b[A\n",
      "\u001b[A\n",
      "  0%|          | 0/2 [00:00<?, ?it/s]\u001b[A"
     ]
    },
    {
     "name": "stdout",
     "output_type": "stream",
     "text": [
      "finding feature maps\n"
     ]
    },
    {
     "name": "stderr",
     "output_type": "stream",
     "text": [
      "\n",
      " 50%|█████     | 1/2 [00:04<00:04,  4.10s/it]\u001b[A\n",
      "100%|██████████| 2/2 [00:06<00:00,  3.46s/it]\u001b[A\n",
      "\u001b[A\n",
      "0it [00:00, ?it/s]\u001b[A"
     ]
    },
    {
     "name": "stdout",
     "output_type": "stream",
     "text": [
      "adjusting weights\n"
     ]
    },
    {
     "name": "stderr",
     "output_type": "stream",
     "text": [
      "\n",
      "1it [01:45, 105.91s/it]\u001b[A\n",
      "2it [01:56, 77.18s/it] \u001b[A\n",
      "\u001b[A"
     ]
    }
   ],
   "source": [
    "pf_inv = PointFinderStepWiseInverse(model1, model2, architecture) "
   ]
  },
  {
   "cell_type": "code",
   "execution_count": 28,
   "metadata": {},
   "outputs": [
    {
     "data": {
      "text/plain": [
       "array([0.   , 0.125, 0.25 , 0.375, 0.5  , 0.625, 0.75 , 0.875, 1.   ,\n",
       "       1.125, 1.25 , 1.375, 1.5  , 1.625, 1.75 , 1.875, 2.   , 2.125,\n",
       "       2.25 , 2.375, 2.5  , 2.625, 2.75 , 2.875, 3.   ])"
      ]
     },
     "execution_count": 28,
     "metadata": {},
     "output_type": "execute_result"
    }
   ],
   "source": [
    "time = np.linspace(0, depth, (depth)*8+1)\n",
    "time"
   ]
  },
  {
   "cell_type": "code",
   "execution_count": 29,
   "metadata": {},
   "outputs": [
    {
     "name": "stderr",
     "output_type": "stream",
     "text": [
      "\n",
      "  0%|          | 0/25 [00:00<?, ?it/s]\u001b[A\n",
      "  4%|▍         | 1/25 [02:03<49:12, 123.01s/it]\u001b[A"
     ]
    },
    {
     "name": "stdout",
     "output_type": "stream",
     "text": [
      "train results {'nll': 0.14886102709770202, 'loss': 0.14886102709770202, 'accuracy': 95.12}\n",
      "test results {'nll': 2.0307866245269777, 'loss': 2.0307866245269777, 'accuracy': 62.54}\n"
     ]
    },
    {
     "name": "stderr",
     "output_type": "stream",
     "text": [
      "\n",
      "  8%|▊         | 2/25 [04:05<47:08, 122.97s/it]\u001b[A"
     ]
    },
    {
     "name": "stdout",
     "output_type": "stream",
     "text": [
      "train results {'nll': 0.1542882166624069, 'loss': 0.1542882166624069, 'accuracy': 94.926}\n",
      "test results {'nll': 2.0333440265655516, 'loss': 2.0333440265655516, 'accuracy': 62.44}\n"
     ]
    },
    {
     "name": "stderr",
     "output_type": "stream",
     "text": [
      "\n",
      " 12%|█▏        | 3/25 [06:08<45:04, 122.95s/it]\u001b[A"
     ]
    },
    {
     "name": "stdout",
     "output_type": "stream",
     "text": [
      "train results {'nll': 0.16526864934921265, 'loss': 0.16526864934921265, 'accuracy': 94.462}\n",
      "test results {'nll': 2.0374301975250244, 'loss': 2.0374301975250244, 'accuracy': 62.41}\n"
     ]
    },
    {
     "name": "stderr",
     "output_type": "stream",
     "text": [
      "\n",
      " 16%|█▌        | 4/25 [08:11<43:02, 122.96s/it]\u001b[A"
     ]
    },
    {
     "name": "stdout",
     "output_type": "stream",
     "text": [
      "train results {'nll': 0.17771785300254822, 'loss': 0.17771785300254822, 'accuracy': 93.968}\n",
      "test results {'nll': 2.0449640407562257, 'loss': 2.0449640407562257, 'accuracy': 62.19}\n"
     ]
    },
    {
     "name": "stderr",
     "output_type": "stream",
     "text": [
      "\n",
      " 20%|██        | 5/25 [10:14<40:59, 122.96s/it]\u001b[A"
     ]
    },
    {
     "name": "stdout",
     "output_type": "stream",
     "text": [
      "train results {'nll': 0.18841183498859407, 'loss': 0.18841183498859407, 'accuracy': 93.686}\n",
      "test results {'nll': 2.0486605533599853, 'loss': 2.0486605533599853, 'accuracy': 62.07}\n"
     ]
    },
    {
     "name": "stderr",
     "output_type": "stream",
     "text": [
      "\n",
      " 24%|██▍       | 6/25 [12:17<38:56, 122.98s/it]\u001b[A"
     ]
    },
    {
     "name": "stdout",
     "output_type": "stream",
     "text": [
      "train results {'nll': 0.19430023154258727, 'loss': 0.19430023154258727, 'accuracy': 93.474}\n",
      "test results {'nll': 2.044592618560791, 'loss': 2.044592618560791, 'accuracy': 62.11}\n"
     ]
    },
    {
     "name": "stderr",
     "output_type": "stream",
     "text": [
      "\n",
      " 28%|██▊       | 7/25 [14:20<36:53, 122.95s/it]\u001b[A"
     ]
    },
    {
     "name": "stdout",
     "output_type": "stream",
     "text": [
      "train results {'nll': 0.1953739922761917, 'loss': 0.1953739922761917, 'accuracy': 93.322}\n",
      "test results {'nll': 2.036746569824219, 'loss': 2.036746569824219, 'accuracy': 62.08}\n"
     ]
    },
    {
     "name": "stderr",
     "output_type": "stream",
     "text": [
      "\n",
      " 32%|███▏      | 8/25 [16:23<34:50, 122.96s/it]\u001b[A"
     ]
    },
    {
     "name": "stdout",
     "output_type": "stream",
     "text": [
      "train results {'nll': 0.19300183439254762, 'loss': 0.19300183439254762, 'accuracy': 93.384}\n",
      "test results {'nll': 2.030239484024048, 'loss': 2.030239484024048, 'accuracy': 62.05}\n"
     ]
    },
    {
     "name": "stderr",
     "output_type": "stream",
     "text": [
      "\n",
      " 36%|███▌      | 9/25 [16:48<24:57, 93.57s/it] \u001b[A"
     ]
    },
    {
     "name": "stdout",
     "output_type": "stream",
     "text": [
      "train results {'nll': 0.18821891399860383, 'loss': 0.18821891399860383, 'accuracy': 93.572}\n",
      "test results {'nll': 2.0529684177398684, 'loss': 2.0529684177398684, 'accuracy': 62.03}\n"
     ]
    },
    {
     "name": "stderr",
     "output_type": "stream",
     "text": [
      "\n",
      " 40%|████      | 10/25 [17:13<18:15, 73.01s/it]\u001b[A"
     ]
    },
    {
     "name": "stdout",
     "output_type": "stream",
     "text": [
      "train results {'nll': 0.25852091641426084, 'loss': 0.25852091641426084, 'accuracy': 90.854}\n",
      "test results {'nll': 2.0451111743927, 'loss': 2.0451111743927, 'accuracy': 62.21}\n"
     ]
    },
    {
     "name": "stderr",
     "output_type": "stream",
     "text": [
      "\n",
      " 44%|████▍     | 11/25 [17:38<13:39, 58.55s/it]\u001b[A"
     ]
    },
    {
     "name": "stdout",
     "output_type": "stream",
     "text": [
      "train results {'nll': 0.4929344504165649, 'loss': 0.4929344504165649, 'accuracy': 83.51}\n",
      "test results {'nll': 2.068923673248291, 'loss': 2.068923673248291, 'accuracy': 61.17}\n"
     ]
    },
    {
     "name": "stderr",
     "output_type": "stream",
     "text": [
      "\n",
      " 48%|████▊     | 12/25 [18:03<10:29, 48.43s/it]\u001b[A"
     ]
    },
    {
     "name": "stdout",
     "output_type": "stream",
     "text": [
      "train results {'nll': 0.8495467860031128, 'loss': 0.8495467860031128, 'accuracy': 75.086}\n",
      "test results {'nll': 2.0750502975463867, 'loss': 2.0750502975463867, 'accuracy': 60.32}\n"
     ]
    },
    {
     "name": "stderr",
     "output_type": "stream",
     "text": [
      "\n",
      " 52%|█████▏    | 13/25 [18:27<08:15, 41.31s/it]\u001b[A"
     ]
    },
    {
     "name": "stdout",
     "output_type": "stream",
     "text": [
      "train results {'nll': 1.055477396774292, 'loss': 1.055477396774292, 'accuracy': 71.096}\n",
      "test results {'nll': 2.0976863861083985, 'loss': 2.0976863861083985, 'accuracy': 59.47}\n"
     ]
    },
    {
     "name": "stderr",
     "output_type": "stream",
     "text": [
      "\n",
      " 56%|█████▌    | 14/25 [18:52<06:39, 36.36s/it]\u001b[A"
     ]
    },
    {
     "name": "stdout",
     "output_type": "stream",
     "text": [
      "train results {'nll': 0.8931858369445801, 'loss': 0.8931858369445801, 'accuracy': 74.092}\n",
      "test results {'nll': 2.0698181568145753, 'loss': 2.0698181568145753, 'accuracy': 59.97}\n"
     ]
    },
    {
     "name": "stderr",
     "output_type": "stream",
     "text": [
      "\n",
      " 60%|██████    | 15/25 [19:17<05:29, 32.98s/it]\u001b[A"
     ]
    },
    {
     "name": "stdout",
     "output_type": "stream",
     "text": [
      "train results {'nll': 0.576052307510376, 'loss': 0.576052307510376, 'accuracy': 81.116}\n",
      "test results {'nll': 1.9747196701049805, 'loss': 1.9747196701049805, 'accuracy': 61.43}\n"
     ]
    },
    {
     "name": "stderr",
     "output_type": "stream",
     "text": [
      "\n",
      " 64%|██████▍   | 16/25 [19:42<04:35, 30.59s/it]\u001b[A"
     ]
    },
    {
     "name": "stdout",
     "output_type": "stream",
     "text": [
      "train results {'nll': 0.3567802201271057, 'loss': 0.3567802201271057, 'accuracy': 87.44}\n",
      "test results {'nll': 1.9020356214523315, 'loss': 1.9020356214523315, 'accuracy': 62.77}\n"
     ]
    },
    {
     "name": "stderr",
     "output_type": "stream",
     "text": [
      "\n",
      " 68%|██████▊   | 17/25 [19:55<03:21, 25.19s/it]\u001b[A"
     ]
    },
    {
     "name": "stdout",
     "output_type": "stream",
     "text": [
      "train results {'nll': 0.2869121364212036, 'loss': 0.2869121364212036, 'accuracy': 89.832}\n",
      "test results {'nll': 1.8840775270462036, 'loss': 1.8840775270462036, 'accuracy': 63.53}\n"
     ]
    },
    {
     "name": "stderr",
     "output_type": "stream",
     "text": [
      "\n",
      " 72%|███████▏  | 18/25 [20:08<02:30, 21.46s/it]\u001b[A"
     ]
    },
    {
     "name": "stdout",
     "output_type": "stream",
     "text": [
      "train results {'nll': 0.2397778167438507, 'loss': 0.2397778167438507, 'accuracy': 91.654}\n",
      "test results {'nll': 2.1418558994293213, 'loss': 2.1418558994293213, 'accuracy': 63.99}\n"
     ]
    },
    {
     "name": "stderr",
     "output_type": "stream",
     "text": [
      "\n",
      " 76%|███████▌  | 19/25 [20:21<01:53, 18.85s/it]\u001b[A"
     ]
    },
    {
     "name": "stdout",
     "output_type": "stream",
     "text": [
      "train results {'nll': 0.21189386866569518, 'loss': 0.21189386866569518, 'accuracy': 92.826}\n",
      "test results {'nll': 2.348438803482056, 'loss': 2.348438803482056, 'accuracy': 64.05}\n"
     ]
    },
    {
     "name": "stderr",
     "output_type": "stream",
     "text": [
      "\n",
      " 80%|████████  | 20/25 [20:33<01:25, 17.01s/it]\u001b[A"
     ]
    },
    {
     "name": "stdout",
     "output_type": "stream",
     "text": [
      "train results {'nll': 0.1927652129459381, 'loss': 0.1927652129459381, 'accuracy': 93.588}\n",
      "test results {'nll': 2.486490228652954, 'loss': 2.486490228652954, 'accuracy': 63.99}\n"
     ]
    },
    {
     "name": "stderr",
     "output_type": "stream",
     "text": [
      "\n",
      " 84%|████████▍ | 21/25 [20:46<01:02, 15.74s/it]\u001b[A"
     ]
    },
    {
     "name": "stdout",
     "output_type": "stream",
     "text": [
      "train results {'nll': 0.17784732339859008, 'loss': 0.17784732339859008, 'accuracy': 94.136}\n",
      "test results {'nll': 2.5467926181793215, 'loss': 2.5467926181793215, 'accuracy': 63.87}\n"
     ]
    },
    {
     "name": "stderr",
     "output_type": "stream",
     "text": [
      "\n",
      " 88%|████████▊ | 22/25 [20:59<00:44, 14.89s/it]\u001b[A"
     ]
    },
    {
     "name": "stdout",
     "output_type": "stream",
     "text": [
      "train results {'nll': 0.165239562292099, 'loss': 0.165239562292099, 'accuracy': 94.592}\n",
      "test results {'nll': 2.525609908294678, 'loss': 2.525609908294678, 'accuracy': 63.88}\n"
     ]
    },
    {
     "name": "stderr",
     "output_type": "stream",
     "text": [
      "\n",
      " 92%|█████████▏| 23/25 [21:12<00:28, 14.27s/it]\u001b[A"
     ]
    },
    {
     "name": "stdout",
     "output_type": "stream",
     "text": [
      "train results {'nll': 0.1546168450832367, 'loss': 0.1546168450832367, 'accuracy': 94.892}\n",
      "test results {'nll': 2.4242265560150145, 'loss': 2.4242265560150145, 'accuracy': 63.89}\n"
     ]
    },
    {
     "name": "stderr",
     "output_type": "stream",
     "text": [
      "\n",
      " 96%|█████████▌| 24/25 [21:24<00:13, 13.78s/it]\u001b[A"
     ]
    },
    {
     "name": "stdout",
     "output_type": "stream",
     "text": [
      "train results {'nll': 0.1470835065317154, 'loss': 0.1470835065317154, 'accuracy': 95.124}\n",
      "test results {'nll': 2.2497401565551756, 'loss': 2.2497401565551756, 'accuracy': 63.74}\n"
     ]
    },
    {
     "name": "stderr",
     "output_type": "stream",
     "text": [
      "\n",
      "100%|██████████| 25/25 [21:37<00:00, 13.43s/it]\u001b[A\n",
      "\u001b[A"
     ]
    },
    {
     "name": "stdout",
     "output_type": "stream",
     "text": [
      "train results {'nll': 0.1461340069913864, 'loss': 0.1461340069913864, 'accuracy': 95.278}\n",
      "test results {'nll': 2.016615950393677, 'loss': 2.016615950393677, 'accuracy': 63.44}\n"
     ]
    }
   ],
   "source": [
    "path_i = find_path(time, pf_inv, method='arc_connect')"
   ]
  },
  {
   "cell_type": "code",
   "execution_count": 30,
   "metadata": {},
   "outputs": [
    {
     "data": {
      "text/plain": [
       "(1.5, 1.5)"
      ]
     },
     "execution_count": 30,
     "metadata": {},
     "output_type": "execute_result"
    }
   ],
   "source": [
    "time[np.argmax(path_i['train'])], time[np.argmax(path_i['test'])]"
   ]
  },
  {
   "cell_type": "code",
   "execution_count": 31,
   "metadata": {},
   "outputs": [
    {
     "data": {
      "image/png": "[encoded data removed]",
      "text/plain": [
       "<Figure size 432x288 with 1 Axes>"
      ]
     },
     "metadata": {
      "needs_background": "light"
     },
     "output_type": "display_data"
    }
   ],
   "source": [
    "plt.plot(time, path_i['train'], label='train')\n",
    "plt.plot(time, path_i['test'], label='test') \n",
    "plt.legend()\n",
    "plt.xlabel('time')\n",
    "plt.ylabel('error (%)')\n",
    "plt.show()"
   ]
  },
  {
   "cell_type": "code",
   "execution_count": 32,
   "metadata": {},
   "outputs": [
    {
     "name": "stderr",
     "output_type": "stream",
     "text": [
      "\n",
      "  0%|          | 0/25 [00:00<?, ?it/s]\u001b[A\n",
      "  4%|▍         | 1/25 [02:02<49:03, 122.65s/it]\u001b[A"
     ]
    },
    {
     "name": "stdout",
     "output_type": "stream",
     "text": [
      "train results {'nll': 0.1488609244966507, 'loss': 0.1488609244966507, 'accuracy': 95.12}\n",
      "test results {'nll': 2.030787417984009, 'loss': 2.030787417984009, 'accuracy': 62.54}\n"
     ]
    },
    {
     "name": "stderr",
     "output_type": "stream",
     "text": [
      "\n",
      "  8%|▊         | 2/25 [04:05<47:02, 122.71s/it]\u001b[A"
     ]
    },
    {
     "name": "stdout",
     "output_type": "stream",
     "text": [
      "train results {'nll': 0.15184130204677582, 'loss': 0.15184130204677582, 'accuracy': 95.034}\n",
      "test results {'nll': 2.0276340702056883, 'loss': 2.0276340702056883, 'accuracy': 62.5}\n"
     ]
    },
    {
     "name": "stderr",
     "output_type": "stream",
     "text": [
      "\n",
      " 12%|█▏        | 3/25 [06:08<45:00, 122.77s/it]\u001b[A"
     ]
    },
    {
     "name": "stdout",
     "output_type": "stream",
     "text": [
      "train results {'nll': 0.16173856420993804, 'loss': 0.16173856420993804, 'accuracy': 94.682}\n",
      "test results {'nll': 2.02750412940979, 'loss': 2.02750412940979, 'accuracy': 62.26}\n"
     ]
    },
    {
     "name": "stderr",
     "output_type": "stream",
     "text": [
      "\n",
      " 16%|█▌        | 4/25 [08:10<42:56, 122.69s/it]\u001b[A"
     ]
    },
    {
     "name": "stdout",
     "output_type": "stream",
     "text": [
      "train results {'nll': 0.17778023365974427, 'loss': 0.17778023365974427, 'accuracy': 94.016}\n",
      "test results {'nll': 2.035318088912964, 'loss': 2.035318088912964, 'accuracy': 62.17}\n"
     ]
    },
    {
     "name": "stderr",
     "output_type": "stream",
     "text": [
      "\n",
      " 20%|██        | 5/25 [10:13<40:54, 122.71s/it]\u001b[A"
     ]
    },
    {
     "name": "stdout",
     "output_type": "stream",
     "text": [
      "train results {'nll': 0.1941844271993637, 'loss': 0.1941844271993637, 'accuracy': 93.476}\n",
      "test results {'nll': 2.043198153305054, 'loss': 2.043198153305054, 'accuracy': 61.85}\n"
     ]
    },
    {
     "name": "stderr",
     "output_type": "stream",
     "text": [
      "\n",
      " 24%|██▍       | 6/25 [12:16<38:53, 122.80s/it]\u001b[A"
     ]
    },
    {
     "name": "stdout",
     "output_type": "stream",
     "text": [
      "train results {'nll': 0.2003171722841263, 'loss': 0.2003171722841263, 'accuracy': 93.208}\n",
      "test results {'nll': 2.037495404434204, 'loss': 2.037495404434204, 'accuracy': 61.74}\n"
     ]
    },
    {
     "name": "stderr",
     "output_type": "stream",
     "text": [
      "\n",
      " 28%|██▊       | 7/25 [14:19<36:51, 122.85s/it]\u001b[A"
     ]
    },
    {
     "name": "stdout",
     "output_type": "stream",
     "text": [
      "train results {'nll': 0.19744762714385986, 'loss': 0.19744762714385986, 'accuracy': 93.272}\n",
      "test results {'nll': 2.0255889209747315, 'loss': 2.0255889209747315, 'accuracy': 62.01}\n"
     ]
    },
    {
     "name": "stderr",
     "output_type": "stream",
     "text": [
      "\n",
      " 32%|███▏      | 8/25 [16:22<34:48, 122.88s/it]\u001b[A"
     ]
    },
    {
     "name": "stdout",
     "output_type": "stream",
     "text": [
      "train results {'nll': 0.19309067108631134, 'loss': 0.19309067108631134, 'accuracy': 93.436}\n",
      "test results {'nll': 2.0266173988342286, 'loss': 2.0266173988342286, 'accuracy': 61.97}\n"
     ]
    },
    {
     "name": "stderr",
     "output_type": "stream",
     "text": [
      "\n",
      " 36%|███▌      | 9/25 [16:47<24:56, 93.52s/it] \u001b[A"
     ]
    },
    {
     "name": "stdout",
     "output_type": "stream",
     "text": [
      "train results {'nll': 0.18821891354560852, 'loss': 0.18821891354560852, 'accuracy': 93.572}\n",
      "test results {'nll': 2.052968490982056, 'loss': 2.052968490982056, 'accuracy': 62.03}\n"
     ]
    },
    {
     "name": "stderr",
     "output_type": "stream",
     "text": [
      "\n",
      " 40%|████      | 10/25 [17:12<18:14, 72.94s/it]\u001b[A"
     ]
    },
    {
     "name": "stdout",
     "output_type": "stream",
     "text": [
      "train results {'nll': 0.2986087590026855, 'loss': 0.2986087590026855, 'accuracy': 89.418}\n",
      "test results {'nll': 2.1020000579833984, 'loss': 2.1020000579833984, 'accuracy': 60.78}\n"
     ]
    },
    {
     "name": "stderr",
     "output_type": "stream",
     "text": [
      "\n",
      " 44%|████▍     | 11/25 [17:37<13:39, 58.55s/it]\u001b[A"
     ]
    },
    {
     "name": "stdout",
     "output_type": "stream",
     "text": [
      "train results {'nll': 0.6458121354484558, 'loss': 0.6458121354484558, 'accuracy': 78.888}\n",
      "test results {'nll': 2.173247710800171, 'loss': 2.173247710800171, 'accuracy': 58.29}\n"
     ]
    },
    {
     "name": "stderr",
     "output_type": "stream",
     "text": [
      "\n",
      " 48%|████▊     | 12/25 [18:02<10:29, 48.44s/it]\u001b[A"
     ]
    },
    {
     "name": "stdout",
     "output_type": "stream",
     "text": [
      "train results {'nll': 1.1755360801315307, 'loss': 1.1755360801315307, 'accuracy': 66.802}\n",
      "test results {'nll': 2.2640541648864745, 'loss': 2.2640541648864745, 'accuracy': 54.58}\n"
     ]
    },
    {
     "name": "stderr",
     "output_type": "stream",
     "text": [
      "\n",
      " 52%|█████▏    | 13/25 [18:27<08:16, 41.33s/it]\u001b[A"
     ]
    },
    {
     "name": "stdout",
     "output_type": "stream",
     "text": [
      "train results {'nll': 1.481634394378662, 'loss': 1.481634394378662, 'accuracy': 61.026}\n",
      "test results {'nll': 2.3814504161834718, 'loss': 2.3814504161834718, 'accuracy': 51.84}\n"
     ]
    },
    {
     "name": "stderr",
     "output_type": "stream",
     "text": [
      "\n",
      " 56%|█████▌    | 14/25 [18:51<06:40, 36.41s/it]\u001b[A"
     ]
    },
    {
     "name": "stdout",
     "output_type": "stream",
     "text": [
      "train results {'nll': 1.2037377320098877, 'loss': 1.2037377320098877, 'accuracy': 66.29}\n",
      "test results {'nll': 2.2846845844268797, 'loss': 2.2846845844268797, 'accuracy': 53.96}\n"
     ]
    },
    {
     "name": "stderr",
     "output_type": "stream",
     "text": [
      "\n",
      " 60%|██████    | 15/25 [19:16<05:29, 32.98s/it]\u001b[A"
     ]
    },
    {
     "name": "stdout",
     "output_type": "stream",
     "text": [
      "train results {'nll': 0.7140587941932678, 'loss': 0.7140587941932678, 'accuracy': 77.028}\n",
      "test results {'nll': 2.0715030769348144, 'loss': 2.0715030769348144, 'accuracy': 58.61}\n"
     ]
    },
    {
     "name": "stderr",
     "output_type": "stream",
     "text": [
      "\n",
      " 64%|██████▍   | 16/25 [19:41<04:35, 30.57s/it]\u001b[A"
     ]
    },
    {
     "name": "stdout",
     "output_type": "stream",
     "text": [
      "train results {'nll': 0.39262692187309267, 'loss': 0.39262692187309267, 'accuracy': 86.256}\n",
      "test results {'nll': 1.9233008750915528, 'loss': 1.9233008750915528, 'accuracy': 61.93}\n"
     ]
    },
    {
     "name": "stderr",
     "output_type": "stream",
     "text": [
      "\n",
      " 68%|██████▊   | 17/25 [19:54<03:21, 25.23s/it]\u001b[A"
     ]
    },
    {
     "name": "stdout",
     "output_type": "stream",
     "text": [
      "train results {'nll': 0.28691213397979737, 'loss': 0.28691213397979737, 'accuracy': 89.832}\n",
      "test results {'nll': 1.8840775148391724, 'loss': 1.8840775148391724, 'accuracy': 63.53}\n"
     ]
    },
    {
     "name": "stderr",
     "output_type": "stream",
     "text": [
      "\n",
      " 72%|███████▏  | 18/25 [20:07<02:30, 21.49s/it]\u001b[A"
     ]
    },
    {
     "name": "stdout",
     "output_type": "stream",
     "text": [
      "train results {'nll': 0.2476601508808136, 'loss': 0.2476601508808136, 'accuracy': 91.198}\n",
      "test results {'nll': 1.8720732526779176, 'loss': 1.8720732526779176, 'accuracy': 63.93}\n"
     ]
    },
    {
     "name": "stderr",
     "output_type": "stream",
     "text": [
      "\n",
      " 76%|███████▌  | 19/25 [20:20<01:53, 18.88s/it]\u001b[A"
     ]
    },
    {
     "name": "stdout",
     "output_type": "stream",
     "text": [
      "train results {'nll': 0.2167173312664032, 'loss': 0.2167173312664032, 'accuracy': 92.44}\n",
      "test results {'nll': 1.8685107305526734, 'loss': 1.8685107305526734, 'accuracy': 64.05}\n"
     ]
    },
    {
     "name": "stderr",
     "output_type": "stream",
     "text": [
      "\n",
      " 80%|████████  | 20/25 [20:32<01:24, 16.96s/it]\u001b[A"
     ]
    },
    {
     "name": "stdout",
     "output_type": "stream",
     "text": [
      "train results {'nll': 0.1929339041662216, 'loss': 0.1929339041662216, 'accuracy': 93.398}\n",
      "test results {'nll': 1.8732268199920654, 'loss': 1.8732268199920654, 'accuracy': 63.99}\n"
     ]
    },
    {
     "name": "stderr",
     "output_type": "stream",
     "text": [
      "\n",
      " 84%|████████▍ | 21/25 [20:45<01:02, 15.68s/it]\u001b[A"
     ]
    },
    {
     "name": "stdout",
     "output_type": "stream",
     "text": [
      "train results {'nll': 0.17518038898944854, 'loss': 0.17518038898944854, 'accuracy': 94.136}\n",
      "test results {'nll': 1.8861867630004883, 'loss': 1.8861867630004883, 'accuracy': 63.87}\n"
     ]
    },
    {
     "name": "stderr",
     "output_type": "stream",
     "text": [
      "\n",
      " 88%|████████▊ | 22/25 [20:58<00:44, 14.78s/it]\u001b[A"
     ]
    },
    {
     "name": "stdout",
     "output_type": "stream",
     "text": [
      "train results {'nll': 0.16240261256694793, 'loss': 0.16240261256694793, 'accuracy': 94.678}\n",
      "test results {'nll': 1.9072290100097655, 'loss': 1.9072290100097655, 'accuracy': 63.88}\n"
     ]
    },
    {
     "name": "stderr",
     "output_type": "stream",
     "text": [
      "\n",
      " 92%|█████████▏| 23/25 [21:10<00:28, 14.18s/it]\u001b[A"
     ]
    },
    {
     "name": "stdout",
     "output_type": "stream",
     "text": [
      "train results {'nll': 0.15371293902873992, 'loss': 0.15371293902873992, 'accuracy': 94.994}\n",
      "test results {'nll': 1.936042106628418, 'loss': 1.936042106628418, 'accuracy': 63.9}\n"
     ]
    },
    {
     "name": "stderr",
     "output_type": "stream",
     "text": [
      "\n",
      " 96%|█████████▌| 24/25 [21:23<00:13, 13.76s/it]\u001b[A"
     ]
    },
    {
     "name": "stdout",
     "output_type": "stream",
     "text": [
      "train results {'nll': 0.14844035942554473, 'loss': 0.14844035942554473, 'accuracy': 95.18}\n",
      "test results {'nll': 1.972511820602417, 'loss': 1.972511820602417, 'accuracy': 63.62}\n"
     ]
    },
    {
     "name": "stderr",
     "output_type": "stream",
     "text": [
      "\n",
      "100%|██████████| 25/25 [21:36<00:00, 13.44s/it]\u001b[A\n",
      "\u001b[A"
     ]
    },
    {
     "name": "stdout",
     "output_type": "stream",
     "text": [
      "train results {'nll': 0.1461340056180954, 'loss': 0.1461340056180954, 'accuracy': 95.278}\n",
      "test results {'nll': 2.016615950393677, 'loss': 2.016615950393677, 'accuracy': 63.44}\n"
     ]
    }
   ],
   "source": [
    "path_il = find_path(time, pf_inv, method='lin_connect')"
   ]
  },
  {
   "cell_type": "code",
   "execution_count": 33,
   "metadata": {},
   "outputs": [
    {
     "data": {
      "image/png": "[encoded data removed]",
      "text/plain": [
       "<Figure size 432x288 with 1 Axes>"
      ]
     },
     "metadata": {
      "needs_background": "light"
     },
     "output_type": "display_data"
    }
   ],
   "source": [
    "plt.plot(time, path_il['train'], label='train')\n",
    "plt.plot(time, path_il['test'], label='test') \n",
    "plt.legend()\n",
    "plt.xlabel('time')\n",
    "plt.ylabel('error (%)')\n",
    "plt.show()"
   ]
  },
  {
   "cell_type": "code",
   "execution_count": 34,
   "metadata": {},
   "outputs": [
    {
     "name": "stderr",
     "output_type": "stream",
     "text": [
      "\n",
      "  0%|          | 0/7 [00:00<?, ?it/s]\u001b[A\n",
      "\n",
      "  0%|          | 0/2 [00:00<?, ?it/s]\u001b[A\u001b[A"
     ]
    },
    {
     "name": "stdout",
     "output_type": "stream",
     "text": [
      "finding feature maps\n"
     ]
    },
    {
     "name": "stderr",
     "output_type": "stream",
     "text": [
      "\n",
      "\n",
      " 50%|█████     | 1/2 [00:04<00:04,  4.08s/it]\u001b[A\u001b[A\n",
      "\n",
      "100%|██████████| 2/2 [00:06<00:00,  3.44s/it]\u001b[A\u001b[A\n",
      "\n",
      "\u001b[A\u001b[A\n",
      "\n",
      "  0%|          | 0/2 [00:00<?, ?it/s]\u001b[A\u001b[A"
     ]
    },
    {
     "name": "stdout",
     "output_type": "stream",
     "text": [
      "finding feature maps\n"
     ]
    },
    {
     "name": "stderr",
     "output_type": "stream",
     "text": [
      "\n",
      "\n",
      " 50%|█████     | 1/2 [00:04<00:04,  4.08s/it]\u001b[A\u001b[A\n",
      "\n",
      "100%|██████████| 2/2 [00:06<00:00,  3.44s/it]\u001b[A\u001b[A\n",
      "\n",
      "\u001b[A\u001b[A\n",
      "\n",
      "0it [00:00, ?it/s]\u001b[A\u001b[A"
     ]
    },
    {
     "name": "stdout",
     "output_type": "stream",
     "text": [
      "adjusting weights\n"
     ]
    },
    {
     "name": "stderr",
     "output_type": "stream",
     "text": [
      "\n",
      "\n",
      "1it [01:45, 105.75s/it]\u001b[A\u001b[A\n",
      "\n",
      "2it [01:55, 77.05s/it] \u001b[A\u001b[A\n",
      "\n",
      "\u001b[A\u001b[A\n",
      " 14%|█▍        | 1/7 [02:32<15:17, 152.92s/it]\u001b[A"
     ]
    },
    {
     "name": "stdout",
     "output_type": "stream",
     "text": [
      "train results {'nll': 1.055477396774292, 'loss': 1.055477396774292, 'accuracy': 71.096}\n",
      "test results {'nll': 2.0976863861083985, 'loss': 2.0976863861083985, 'accuracy': 59.47}\n"
     ]
    },
    {
     "name": "stderr",
     "output_type": "stream",
     "text": [
      "\n",
      "\n",
      "  0%|          | 0/2 [00:00<?, ?it/s]\u001b[A\u001b[A"
     ]
    },
    {
     "name": "stdout",
     "output_type": "stream",
     "text": [
      "finding feature maps\n"
     ]
    },
    {
     "name": "stderr",
     "output_type": "stream",
     "text": [
      "\n",
      "\n",
      " 50%|█████     | 1/2 [00:04<00:04,  4.07s/it]\u001b[A\u001b[A\n",
      "\n",
      "100%|██████████| 2/2 [00:06<00:00,  3.44s/it]\u001b[A\u001b[A\n",
      "\n",
      "\u001b[A\u001b[A\n",
      "\n",
      "  0%|          | 0/2 [00:00<?, ?it/s]\u001b[A\u001b[A"
     ]
    },
    {
     "name": "stdout",
     "output_type": "stream",
     "text": [
      "finding feature maps\n"
     ]
    },
    {
     "name": "stderr",
     "output_type": "stream",
     "text": [
      "\n",
      "\n",
      " 50%|█████     | 1/2 [00:04<00:04,  4.07s/it]\u001b[A\u001b[A\n",
      "\n",
      "100%|██████████| 2/2 [00:06<00:00,  3.44s/it]\u001b[A\u001b[A\n",
      "\n",
      "\u001b[A\u001b[A\n",
      "\n",
      "0it [00:00, ?it/s]\u001b[A\u001b[A"
     ]
    },
    {
     "name": "stdout",
     "output_type": "stream",
     "text": [
      "adjusting weights\n"
     ]
    },
    {
     "name": "stderr",
     "output_type": "stream",
     "text": [
      "\n",
      "\n",
      "1it [01:45, 105.79s/it]\u001b[A\u001b[A\n",
      "\n",
      "2it [01:55, 77.09s/it] \u001b[A\u001b[A\n",
      "\n",
      "\u001b[A\u001b[A\n",
      " 29%|██▊       | 2/7 [05:06<12:45, 153.02s/it]\u001b[A"
     ]
    },
    {
     "name": "stdout",
     "output_type": "stream",
     "text": [
      "train results {'nll': 1.045027260761261, 'loss': 1.045027260761261, 'accuracy': 71.356}\n",
      "test results {'nll': 2.1282616161346435, 'loss': 2.1282616161346435, 'accuracy': 59.38}\n"
     ]
    },
    {
     "name": "stderr",
     "output_type": "stream",
     "text": [
      "\n",
      "\n",
      "  0%|          | 0/2 [00:00<?, ?it/s]\u001b[A\u001b[A"
     ]
    },
    {
     "name": "stdout",
     "output_type": "stream",
     "text": [
      "finding feature maps\n"
     ]
    },
    {
     "name": "stderr",
     "output_type": "stream",
     "text": [
      "\n",
      "\n",
      " 50%|█████     | 1/2 [00:04<00:04,  4.11s/it]\u001b[A\u001b[A\n",
      "\n",
      "100%|██████████| 2/2 [00:06<00:00,  3.47s/it]\u001b[A\u001b[A\n",
      "\n",
      "\u001b[A\u001b[A\n",
      "\n",
      "  0%|          | 0/2 [00:00<?, ?it/s]\u001b[A\u001b[A"
     ]
    },
    {
     "name": "stdout",
     "output_type": "stream",
     "text": [
      "finding feature maps\n"
     ]
    },
    {
     "name": "stderr",
     "output_type": "stream",
     "text": [
      "\n",
      "\n",
      " 50%|█████     | 1/2 [00:04<00:04,  4.08s/it]\u001b[A\u001b[A\n",
      "\n",
      "100%|██████████| 2/2 [00:06<00:00,  3.45s/it]\u001b[A\u001b[A\n",
      "\n",
      "\u001b[A\u001b[A\n",
      "\n",
      "0it [00:00, ?it/s]\u001b[A\u001b[A"
     ]
    },
    {
     "name": "stdout",
     "output_type": "stream",
     "text": [
      "adjusting weights\n"
     ]
    },
    {
     "name": "stderr",
     "output_type": "stream",
     "text": [
      "\n",
      "\n",
      "1it [01:45, 105.79s/it]\u001b[A\u001b[A\n",
      "\n",
      "2it [01:55, 77.09s/it] \u001b[A\u001b[A\n",
      "\n",
      "\u001b[A\u001b[A\n",
      " 43%|████▎     | 3/7 [07:39<10:12, 153.12s/it]\u001b[A"
     ]
    },
    {
     "name": "stdout",
     "output_type": "stream",
     "text": [
      "train results {'nll': 1.071974970703125, 'loss': 1.071974970703125, 'accuracy': 70.706}\n",
      "test results {'nll': 2.1273999187469483, 'loss': 2.1273999187469483, 'accuracy': 58.54}\n"
     ]
    },
    {
     "name": "stderr",
     "output_type": "stream",
     "text": [
      "\n",
      "\n",
      "  0%|          | 0/2 [00:00<?, ?it/s]\u001b[A\u001b[A"
     ]
    },
    {
     "name": "stdout",
     "output_type": "stream",
     "text": [
      "finding feature maps\n"
     ]
    },
    {
     "name": "stderr",
     "output_type": "stream",
     "text": [
      "\n",
      "\n",
      " 50%|█████     | 1/2 [00:04<00:04,  4.10s/it]\u001b[A\u001b[A\n",
      "\n",
      "100%|██████████| 2/2 [00:06<00:00,  3.45s/it]\u001b[A\u001b[A\n",
      "\n",
      "\u001b[A\u001b[A\n",
      "\n",
      "  0%|          | 0/2 [00:00<?, ?it/s]\u001b[A\u001b[A"
     ]
    },
    {
     "name": "stdout",
     "output_type": "stream",
     "text": [
      "finding feature maps\n"
     ]
    },
    {
     "name": "stderr",
     "output_type": "stream",
     "text": [
      "\n",
      "\n",
      " 50%|█████     | 1/2 [00:04<00:04,  4.08s/it]\u001b[A\u001b[A\n",
      "\n",
      "100%|██████████| 2/2 [00:06<00:00,  3.44s/it]\u001b[A\u001b[A\n",
      "\n",
      "\u001b[A\u001b[A\n",
      "\n",
      "0it [00:00, ?it/s]\u001b[A\u001b[A"
     ]
    },
    {
     "name": "stdout",
     "output_type": "stream",
     "text": [
      "adjusting weights\n"
     ]
    },
    {
     "name": "stderr",
     "output_type": "stream",
     "text": [
      "\n",
      "\n",
      "1it [01:45, 105.72s/it]\u001b[A\u001b[A\n",
      "\n",
      "2it [01:55, 77.06s/it] \u001b[A\u001b[A\n",
      "\n",
      "\u001b[A\u001b[A\n",
      " 57%|█████▋    | 4/7 [10:12<07:39, 153.22s/it]\u001b[A"
     ]
    },
    {
     "name": "stdout",
     "output_type": "stream",
     "text": [
      "train results {'nll': 1.0348747393798827, 'loss': 1.0348747393798827, 'accuracy': 71.394}\n",
      "test results {'nll': 2.120597861099243, 'loss': 2.120597861099243, 'accuracy': 58.95}\n"
     ]
    },
    {
     "name": "stderr",
     "output_type": "stream",
     "text": [
      "\n",
      "\n",
      "  0%|          | 0/2 [00:00<?, ?it/s]\u001b[A\u001b[A"
     ]
    },
    {
     "name": "stdout",
     "output_type": "stream",
     "text": [
      "finding feature maps\n"
     ]
    },
    {
     "name": "stderr",
     "output_type": "stream",
     "text": [
      "\n",
      "\n",
      " 50%|█████     | 1/2 [00:04<00:04,  4.09s/it]\u001b[A\u001b[A\n",
      "\n",
      "100%|██████████| 2/2 [00:06<00:00,  3.45s/it]\u001b[A\u001b[A\n",
      "\n",
      "\u001b[A\u001b[A\n",
      "\n",
      "  0%|          | 0/2 [00:00<?, ?it/s]\u001b[A\u001b[A"
     ]
    },
    {
     "name": "stdout",
     "output_type": "stream",
     "text": [
      "finding feature maps\n"
     ]
    },
    {
     "name": "stderr",
     "output_type": "stream",
     "text": [
      "\n",
      "\n",
      " 50%|█████     | 1/2 [00:04<00:04,  4.08s/it]\u001b[A\u001b[A\n",
      "\n",
      "100%|██████████| 2/2 [00:06<00:00,  3.44s/it]\u001b[A\u001b[A\n",
      "\n",
      "\u001b[A\u001b[A\n",
      "\n",
      "0it [00:00, ?it/s]\u001b[A\u001b[A"
     ]
    },
    {
     "name": "stdout",
     "output_type": "stream",
     "text": [
      "adjusting weights\n"
     ]
    },
    {
     "name": "stderr",
     "output_type": "stream",
     "text": [
      "\n",
      "\n",
      "1it [01:45, 105.84s/it]\u001b[A\u001b[A\n",
      "\n",
      "2it [01:55, 77.11s/it] \u001b[A\u001b[A\n",
      "\n",
      "\u001b[A\u001b[A\n",
      " 71%|███████▏  | 5/7 [12:46<05:06, 153.25s/it]\u001b[A"
     ]
    },
    {
     "name": "stdout",
     "output_type": "stream",
     "text": [
      "train results {'nll': 1.0515175295829773, 'loss': 1.0515175295829773, 'accuracy': 71.134}\n",
      "test results {'nll': 2.1460055458068847, 'loss': 2.1460055458068847, 'accuracy': 58.65}\n"
     ]
    },
    {
     "name": "stderr",
     "output_type": "stream",
     "text": [
      "\n",
      "\n",
      "  0%|          | 0/2 [00:00<?, ?it/s]\u001b[A\u001b[A"
     ]
    },
    {
     "name": "stdout",
     "output_type": "stream",
     "text": [
      "finding feature maps\n"
     ]
    },
    {
     "name": "stderr",
     "output_type": "stream",
     "text": [
      "\n",
      "\n",
      " 50%|█████     | 1/2 [00:04<00:04,  4.08s/it]\u001b[A\u001b[A\n",
      "\n",
      "100%|██████████| 2/2 [00:06<00:00,  3.44s/it]\u001b[A\u001b[A\n",
      "\n",
      "\u001b[A\u001b[A\n",
      "\n",
      "  0%|          | 0/2 [00:00<?, ?it/s]\u001b[A\u001b[A"
     ]
    },
    {
     "name": "stdout",
     "output_type": "stream",
     "text": [
      "finding feature maps\n"
     ]
    },
    {
     "name": "stderr",
     "output_type": "stream",
     "text": [
      "\n",
      "\n",
      " 50%|█████     | 1/2 [00:04<00:04,  4.08s/it]\u001b[A\u001b[A\n",
      "\n",
      "100%|██████████| 2/2 [00:06<00:00,  3.44s/it]\u001b[A\u001b[A\n",
      "\n",
      "\u001b[A\u001b[A\n",
      "\n",
      "0it [00:00, ?it/s]\u001b[A\u001b[A"
     ]
    },
    {
     "name": "stdout",
     "output_type": "stream",
     "text": [
      "adjusting weights\n"
     ]
    },
    {
     "name": "stderr",
     "output_type": "stream",
     "text": [
      "\n",
      "\n",
      "1it [01:45, 105.83s/it]\u001b[A\u001b[A\n",
      "\n",
      "2it [01:55, 77.13s/it] \u001b[A\u001b[A\n",
      "\n",
      "\u001b[A\u001b[A\n",
      " 86%|████████▌ | 6/7 [15:19<02:33, 153.33s/it]\u001b[A"
     ]
    },
    {
     "name": "stdout",
     "output_type": "stream",
     "text": [
      "train results {'nll': 1.058153016166687, 'loss': 1.058153016166687, 'accuracy': 70.922}\n",
      "test results {'nll': 2.1107748863220217, 'loss': 2.1107748863220217, 'accuracy': 58.7}\n"
     ]
    },
    {
     "name": "stderr",
     "output_type": "stream",
     "text": [
      "\n",
      "\n",
      "  0%|          | 0/2 [00:00<?, ?it/s]\u001b[A\u001b[A"
     ]
    },
    {
     "name": "stdout",
     "output_type": "stream",
     "text": [
      "finding feature maps\n"
     ]
    },
    {
     "name": "stderr",
     "output_type": "stream",
     "text": [
      "\n",
      "\n",
      " 50%|█████     | 1/2 [00:04<00:04,  4.09s/it]\u001b[A\u001b[A\n",
      "\n",
      "100%|██████████| 2/2 [00:06<00:00,  3.45s/it]\u001b[A\u001b[A\n",
      "\n",
      "\u001b[A\u001b[A\n",
      "\n",
      "  0%|          | 0/2 [00:00<?, ?it/s]\u001b[A\u001b[A"
     ]
    },
    {
     "name": "stdout",
     "output_type": "stream",
     "text": [
      "finding feature maps\n"
     ]
    },
    {
     "name": "stderr",
     "output_type": "stream",
     "text": [
      "\n",
      "\n",
      " 50%|█████     | 1/2 [00:04<00:04,  4.12s/it]\u001b[A\u001b[A\n",
      "\n",
      "100%|██████████| 2/2 [00:06<00:00,  3.47s/it]\u001b[A\u001b[A\n",
      "\n",
      "\u001b[A\u001b[A\n",
      "\n",
      "0it [00:00, ?it/s]\u001b[A\u001b[A"
     ]
    },
    {
     "name": "stdout",
     "output_type": "stream",
     "text": [
      "adjusting weights\n"
     ]
    },
    {
     "name": "stderr",
     "output_type": "stream",
     "text": [
      "\n",
      "\n",
      "1it [01:45, 105.89s/it]\u001b[A\u001b[A\n",
      "\n",
      "2it [01:56, 77.20s/it] \u001b[A\u001b[A\n",
      "\n",
      "\u001b[A\u001b[A\n",
      "100%|██████████| 7/7 [17:53<00:00, 153.44s/it]\u001b[A\n",
      "\u001b[A"
     ]
    },
    {
     "name": "stdout",
     "output_type": "stream",
     "text": [
      "train results {'nll': 1.0483311515426637, 'loss': 1.0483311515426637, 'accuracy': 71.258}\n",
      "test results {'nll': 2.1232048416137697, 'loss': 2.1232048416137697, 'accuracy': 58.75}\n"
     ]
    }
   ],
   "source": [
    "stat_i = get_stat(PointFinderStepWiseInverse, model_name, architecture, t=1.5,\n",
    "                  beg_ind=beg, end_ind=end)"
   ]
  },
  {
   "cell_type": "code",
   "execution_count": 35,
   "metadata": {},
   "outputs": [
    {
     "data": {
      "text/plain": [
       "(71.12371428571429,\n",
       " 0.2271221913330312,\n",
       " 58.919999999999995,\n",
       " 0.34008402323123477)"
      ]
     },
     "execution_count": 35,
     "metadata": {},
     "output_type": "execute_result"
    }
   ],
   "source": [
    "get_mean_svd(stat_i)"
   ]
  },
  {
   "cell_type": "code",
   "execution_count": 36,
   "metadata": {},
   "outputs": [
    {
     "name": "stderr",
     "output_type": "stream",
     "text": [
      "\n",
      "  0%|          | 0/7 [00:00<?, ?it/s]\u001b[A\n",
      "\n",
      "  0%|          | 0/2 [00:00<?, ?it/s]\u001b[A\u001b[A"
     ]
    },
    {
     "name": "stdout",
     "output_type": "stream",
     "text": [
      "finding feature maps\n"
     ]
    },
    {
     "name": "stderr",
     "output_type": "stream",
     "text": [
      "\n",
      "\n",
      " 50%|█████     | 1/2 [00:04<00:04,  4.10s/it]\u001b[A\u001b[A\n",
      "\n",
      "100%|██████████| 2/2 [00:06<00:00,  3.45s/it]\u001b[A\u001b[A\n",
      "\n",
      "\u001b[A\u001b[A\n",
      "\n",
      "  0%|          | 0/2 [00:00<?, ?it/s]\u001b[A\u001b[A"
     ]
    },
    {
     "name": "stdout",
     "output_type": "stream",
     "text": [
      "finding feature maps\n"
     ]
    },
    {
     "name": "stderr",
     "output_type": "stream",
     "text": [
      "\n",
      "\n",
      " 50%|█████     | 1/2 [00:04<00:04,  4.08s/it]\u001b[A\u001b[A\n",
      "\n",
      "100%|██████████| 2/2 [00:06<00:00,  3.44s/it]\u001b[A\u001b[A\n",
      "\n",
      "\u001b[A\u001b[A\n",
      "\n",
      "0it [00:00, ?it/s]\u001b[A\u001b[A"
     ]
    },
    {
     "name": "stdout",
     "output_type": "stream",
     "text": [
      "adjusting weights\n"
     ]
    },
    {
     "name": "stderr",
     "output_type": "stream",
     "text": [
      "\n",
      "\n",
      "1it [01:45, 105.88s/it]\u001b[A\u001b[A\n",
      "\n",
      "2it [01:56, 77.16s/it] \u001b[A\u001b[A\n",
      "\n",
      "\u001b[A\u001b[A\n",
      " 14%|█▍        | 1/7 [02:33<15:19, 153.31s/it]\u001b[A"
     ]
    },
    {
     "name": "stdout",
     "output_type": "stream",
     "text": [
      "train results {'nll': 1.481634394378662, 'loss': 1.481634394378662, 'accuracy': 61.026}\n",
      "test results {'nll': 2.3814504161834718, 'loss': 2.3814504161834718, 'accuracy': 51.84}\n"
     ]
    },
    {
     "name": "stderr",
     "output_type": "stream",
     "text": [
      "\n",
      "\n",
      "  0%|          | 0/2 [00:00<?, ?it/s]\u001b[A\u001b[A"
     ]
    },
    {
     "name": "stdout",
     "output_type": "stream",
     "text": [
      "finding feature maps\n"
     ]
    },
    {
     "name": "stderr",
     "output_type": "stream",
     "text": [
      "\n",
      "\n",
      " 50%|█████     | 1/2 [00:04<00:04,  4.09s/it]\u001b[A\u001b[A\n",
      "\n",
      "100%|██████████| 2/2 [00:06<00:00,  3.45s/it]\u001b[A\u001b[A\n",
      "\n",
      "\u001b[A\u001b[A\n",
      "\n",
      "  0%|          | 0/2 [00:00<?, ?it/s]\u001b[A\u001b[A"
     ]
    },
    {
     "name": "stdout",
     "output_type": "stream",
     "text": [
      "finding feature maps\n"
     ]
    },
    {
     "name": "stderr",
     "output_type": "stream",
     "text": [
      "\n",
      "\n",
      " 50%|█████     | 1/2 [00:04<00:04,  4.08s/it]\u001b[A\u001b[A\n",
      "\n",
      "100%|██████████| 2/2 [00:06<00:00,  3.44s/it]\u001b[A\u001b[A\n",
      "\n",
      "\u001b[A\u001b[A\n",
      "\n",
      "0it [00:00, ?it/s]\u001b[A\u001b[A"
     ]
    },
    {
     "name": "stdout",
     "output_type": "stream",
     "text": [
      "adjusting weights\n"
     ]
    },
    {
     "name": "stderr",
     "output_type": "stream",
     "text": [
      "\n",
      "\n",
      "1it [01:45, 105.71s/it]\u001b[A\u001b[A\n",
      "\n",
      "2it [01:55, 77.03s/it] \u001b[A\u001b[A\n",
      "\n",
      "\u001b[A\u001b[A\n",
      " 29%|██▊       | 2/7 [05:06<12:46, 153.27s/it]\u001b[A"
     ]
    },
    {
     "name": "stdout",
     "output_type": "stream",
     "text": [
      "train results {'nll': 1.4662644319534301, 'loss': 1.4662644319534301, 'accuracy': 60.948}\n",
      "test results {'nll': 2.3958360649108887, 'loss': 2.3958360649108887, 'accuracy': 51.64}\n"
     ]
    },
    {
     "name": "stderr",
     "output_type": "stream",
     "text": [
      "\n",
      "\n",
      "  0%|          | 0/2 [00:00<?, ?it/s]\u001b[A\u001b[A"
     ]
    },
    {
     "name": "stdout",
     "output_type": "stream",
     "text": [
      "finding feature maps\n"
     ]
    },
    {
     "name": "stderr",
     "output_type": "stream",
     "text": [
      "\n",
      "\n",
      " 50%|█████     | 1/2 [00:04<00:04,  4.09s/it]\u001b[A\u001b[A\n",
      "\n",
      "100%|██████████| 2/2 [00:06<00:00,  3.45s/it]\u001b[A\u001b[A\n",
      "\n",
      "\u001b[A\u001b[A\n",
      "\n",
      "  0%|          | 0/2 [00:00<?, ?it/s]\u001b[A\u001b[A"
     ]
    },
    {
     "name": "stdout",
     "output_type": "stream",
     "text": [
      "finding feature maps\n"
     ]
    },
    {
     "name": "stderr",
     "output_type": "stream",
     "text": [
      "\n",
      "\n",
      " 50%|█████     | 1/2 [00:04<00:04,  4.08s/it]\u001b[A\u001b[A\n",
      "\n",
      "100%|██████████| 2/2 [00:06<00:00,  3.44s/it]\u001b[A\u001b[A\n",
      "\n",
      "\u001b[A\u001b[A\n",
      "\n",
      "0it [00:00, ?it/s]\u001b[A\u001b[A"
     ]
    },
    {
     "name": "stdout",
     "output_type": "stream",
     "text": [
      "adjusting weights\n"
     ]
    },
    {
     "name": "stderr",
     "output_type": "stream",
     "text": [
      "\n",
      "\n",
      "1it [01:45, 105.73s/it]\u001b[A\u001b[A\n",
      "\n",
      "2it [01:55, 77.04s/it] \u001b[A\u001b[A\n",
      "\n",
      "\u001b[A\u001b[A\n",
      " 43%|████▎     | 3/7 [07:39<10:12, 153.17s/it]\u001b[A"
     ]
    },
    {
     "name": "stdout",
     "output_type": "stream",
     "text": [
      "train results {'nll': 1.4830208723831177, 'loss': 1.4830208723831177, 'accuracy': 60.784}\n",
      "test results {'nll': 2.392886388015747, 'loss': 2.392886388015747, 'accuracy': 51.68}\n"
     ]
    },
    {
     "name": "stderr",
     "output_type": "stream",
     "text": [
      "\n",
      "\n",
      "  0%|          | 0/2 [00:00<?, ?it/s]\u001b[A\u001b[A"
     ]
    },
    {
     "name": "stdout",
     "output_type": "stream",
     "text": [
      "finding feature maps\n"
     ]
    },
    {
     "name": "stderr",
     "output_type": "stream",
     "text": [
      "\n",
      "\n",
      " 50%|█████     | 1/2 [00:04<00:04,  4.09s/it]\u001b[A\u001b[A\n",
      "\n",
      "100%|██████████| 2/2 [00:06<00:00,  3.45s/it]\u001b[A\u001b[A\n",
      "\n",
      "\u001b[A\u001b[A\n",
      "\n",
      "  0%|          | 0/2 [00:00<?, ?it/s]\u001b[A\u001b[A"
     ]
    },
    {
     "name": "stdout",
     "output_type": "stream",
     "text": [
      "finding feature maps\n"
     ]
    },
    {
     "name": "stderr",
     "output_type": "stream",
     "text": [
      "\n",
      "\n",
      " 50%|█████     | 1/2 [00:04<00:04,  4.08s/it]\u001b[A\u001b[A\n",
      "\n",
      "100%|██████████| 2/2 [00:06<00:00,  3.44s/it]\u001b[A\u001b[A\n",
      "\n",
      "\u001b[A\u001b[A\n",
      "\n",
      "0it [00:00, ?it/s]\u001b[A\u001b[A"
     ]
    },
    {
     "name": "stdout",
     "output_type": "stream",
     "text": [
      "adjusting weights\n"
     ]
    },
    {
     "name": "stderr",
     "output_type": "stream",
     "text": [
      "\n",
      "\n",
      "1it [01:45, 105.80s/it]\u001b[A\u001b[A\n",
      "\n",
      "2it [01:55, 77.09s/it] \u001b[A\u001b[A\n",
      "\n",
      "\u001b[A\u001b[A\n",
      " 57%|█████▋    | 4/7 [10:12<07:39, 153.17s/it]\u001b[A"
     ]
    },
    {
     "name": "stdout",
     "output_type": "stream",
     "text": [
      "train results {'nll': 1.4348091339111329, 'loss': 1.4348091339111329, 'accuracy': 61.42}\n",
      "test results {'nll': 2.323497100830078, 'loss': 2.323497100830078, 'accuracy': 52.18}\n"
     ]
    },
    {
     "name": "stderr",
     "output_type": "stream",
     "text": [
      "\n",
      "\n",
      "  0%|          | 0/2 [00:00<?, ?it/s]\u001b[A\u001b[A"
     ]
    },
    {
     "name": "stdout",
     "output_type": "stream",
     "text": [
      "finding feature maps\n"
     ]
    },
    {
     "name": "stderr",
     "output_type": "stream",
     "text": [
      "\n",
      "\n",
      " 50%|█████     | 1/2 [00:04<00:04,  4.09s/it]\u001b[A\u001b[A\n",
      "\n",
      "100%|██████████| 2/2 [00:06<00:00,  3.45s/it]\u001b[A\u001b[A\n",
      "\n",
      "\u001b[A\u001b[A\n",
      "\n",
      "  0%|          | 0/2 [00:00<?, ?it/s]\u001b[A\u001b[A"
     ]
    },
    {
     "name": "stdout",
     "output_type": "stream",
     "text": [
      "finding feature maps\n"
     ]
    },
    {
     "name": "stderr",
     "output_type": "stream",
     "text": [
      "\n",
      "\n",
      " 50%|█████     | 1/2 [00:04<00:04,  4.08s/it]\u001b[A\u001b[A\n",
      "\n",
      "100%|██████████| 2/2 [00:06<00:00,  3.44s/it]\u001b[A\u001b[A\n",
      "\n",
      "\u001b[A\u001b[A\n",
      "\n",
      "0it [00:00, ?it/s]\u001b[A\u001b[A"
     ]
    },
    {
     "name": "stdout",
     "output_type": "stream",
     "text": [
      "adjusting weights\n"
     ]
    },
    {
     "name": "stderr",
     "output_type": "stream",
     "text": [
      "\n",
      "\n",
      "1it [01:47, 107.23s/it]\u001b[A\u001b[A\n",
      "\n",
      "2it [01:57, 78.14s/it] \u001b[A\u001b[A\n",
      "\n",
      "\u001b[A\u001b[A\n",
      " 71%|███████▏  | 5/7 [12:47<05:07, 153.65s/it]\u001b[A"
     ]
    },
    {
     "name": "stdout",
     "output_type": "stream",
     "text": [
      "train results {'nll': 1.4858987174224854, 'loss': 1.4858987174224854, 'accuracy': 60.846}\n",
      "test results {'nll': 2.3932830150604247, 'loss': 2.3932830150604247, 'accuracy': 52.23}\n"
     ]
    },
    {
     "name": "stderr",
     "output_type": "stream",
     "text": [
      "\n",
      "\n",
      "  0%|          | 0/2 [00:00<?, ?it/s]\u001b[A\u001b[A"
     ]
    },
    {
     "name": "stdout",
     "output_type": "stream",
     "text": [
      "finding feature maps\n"
     ]
    },
    {
     "name": "stderr",
     "output_type": "stream",
     "text": [
      "\n",
      "\n",
      " 50%|█████     | 1/2 [00:04<00:04,  4.13s/it]\u001b[A\u001b[A\n",
      "\n",
      "100%|██████████| 2/2 [00:06<00:00,  3.48s/it]\u001b[A\u001b[A\n",
      "\n",
      "\u001b[A\u001b[A\n",
      "\n",
      "  0%|          | 0/2 [00:00<?, ?it/s]\u001b[A\u001b[A"
     ]
    },
    {
     "name": "stdout",
     "output_type": "stream",
     "text": [
      "finding feature maps\n"
     ]
    },
    {
     "name": "stderr",
     "output_type": "stream",
     "text": [
      "\n",
      "\n",
      " 50%|█████     | 1/2 [00:04<00:04,  4.10s/it]\u001b[A\u001b[A\n",
      "\n",
      "100%|██████████| 2/2 [00:06<00:00,  3.46s/it]\u001b[A\u001b[A\n",
      "\n",
      "\u001b[A\u001b[A\n",
      "\n",
      "0it [00:00, ?it/s]\u001b[A\u001b[A"
     ]
    },
    {
     "name": "stdout",
     "output_type": "stream",
     "text": [
      "adjusting weights\n"
     ]
    },
    {
     "name": "stderr",
     "output_type": "stream",
     "text": [
      "\n",
      "\n",
      "1it [01:45, 105.92s/it]\u001b[A\u001b[A\n",
      "\n",
      "2it [01:56, 77.19s/it] \u001b[A\u001b[A\n",
      "\n",
      "\u001b[A\u001b[A\n",
      " 86%|████████▌ | 6/7 [15:20<02:33, 153.62s/it]\u001b[A"
     ]
    },
    {
     "name": "stdout",
     "output_type": "stream",
     "text": [
      "train results {'nll': 1.482903381881714, 'loss': 1.482903381881714, 'accuracy': 60.576}\n",
      "test results {'nll': 2.382474772644043, 'loss': 2.382474772644043, 'accuracy': 51.68}\n"
     ]
    },
    {
     "name": "stderr",
     "output_type": "stream",
     "text": [
      "\n",
      "\n",
      "  0%|          | 0/2 [00:00<?, ?it/s]\u001b[A\u001b[A"
     ]
    },
    {
     "name": "stdout",
     "output_type": "stream",
     "text": [
      "finding feature maps\n"
     ]
    },
    {
     "name": "stderr",
     "output_type": "stream",
     "text": [
      "\n",
      "\n",
      " 50%|█████     | 1/2 [00:04<00:04,  4.09s/it]\u001b[A\u001b[A\n",
      "\n",
      "100%|██████████| 2/2 [00:06<00:00,  3.45s/it]\u001b[A\u001b[A\n",
      "\n",
      "\u001b[A\u001b[A\n",
      "\n",
      "  0%|          | 0/2 [00:00<?, ?it/s]\u001b[A\u001b[A"
     ]
    },
    {
     "name": "stdout",
     "output_type": "stream",
     "text": [
      "finding feature maps\n"
     ]
    },
    {
     "name": "stderr",
     "output_type": "stream",
     "text": [
      "\n",
      "\n",
      " 50%|█████     | 1/2 [00:04<00:04,  4.10s/it]\u001b[A\u001b[A\n",
      "\n",
      "100%|██████████| 2/2 [00:06<00:00,  3.47s/it]\u001b[A\u001b[A\n",
      "\n",
      "\u001b[A\u001b[A\n",
      "\n",
      "0it [00:00, ?it/s]\u001b[A\u001b[A"
     ]
    },
    {
     "name": "stdout",
     "output_type": "stream",
     "text": [
      "adjusting weights\n"
     ]
    },
    {
     "name": "stderr",
     "output_type": "stream",
     "text": [
      "\n",
      "\n",
      "1it [01:45, 105.74s/it]\u001b[A\u001b[A\n",
      "\n",
      "2it [01:55, 77.06s/it] \u001b[A\u001b[A\n",
      "\n",
      "\u001b[A\u001b[A\n",
      "100%|██████████| 7/7 [17:54<00:00, 153.58s/it]\u001b[A\n",
      "\u001b[A"
     ]
    },
    {
     "name": "stdout",
     "output_type": "stream",
     "text": [
      "train results {'nll': 1.4828464516448974, 'loss': 1.4828464516448974, 'accuracy': 60.868}\n",
      "test results {'nll': 2.3833632339477537, 'loss': 2.3833632339477537, 'accuracy': 51.24}\n"
     ]
    }
   ],
   "source": [
    "stat_il = get_stat(PointFinderStepWiseInverse, model_name, architecture, t=1.5,\n",
    "                  beg_ind=beg, end_ind=end, method='lin_connect')"
   ]
  },
  {
   "cell_type": "code",
   "execution_count": 37,
   "metadata": {},
   "outputs": [
    {
     "data": {
      "text/plain": [
       "(60.924, 0.24110460089228689, 51.784285714285716, 0.3155882101209522)"
      ]
     },
     "execution_count": 37,
     "metadata": {},
     "output_type": "execute_result"
    }
   ],
   "source": [
    "get_mean_svd(stat_il)"
   ]
  },
  {
   "cell_type": "code",
   "execution_count": null,
   "metadata": {},
   "outputs": [],
   "source": []
  }
 ],
 "metadata": {
  "kernelspec": {
   "display_name": "Python 3",
   "language": "python",
   "name": "python3"
  },
  "language_info": {
   "codemirror_mode": {
    "name": "ipython",
    "version": 3
   },
   "file_extension": ".py",
   "mimetype": "text/x-python",
   "name": "python",
   "nbconvert_exporter": "python",
   "pygments_lexer": "ipython3",
   "version": "3.6.7"
  }
 },
 "nbformat": 4,
 "nbformat_minor": 2
}
