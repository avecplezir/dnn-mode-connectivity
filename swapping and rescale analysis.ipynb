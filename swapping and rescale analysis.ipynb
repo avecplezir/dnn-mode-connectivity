{
 "cells": [
  {
   "cell_type": "markdown",
   "metadata": {},
   "source": [
    "disturbance by rescale:\n",
    "\n",
    "$W_1, W_2$ - matrices to rescale by $A$ and $\\frac 1 A$ respectivly\n",
    "\n",
    "$(\\alpha W_2  + (1-\\alpha) \\frac 1 A W_2)(\\alpha W_1 +(1-\\alpha) A W_1) X\n",
    "=\n",
    "(\\alpha + (1-\\alpha) \\frac 1 A)(\\alpha +(1-\\alpha) A) W_2 W_1 X\n",
    "=\n",
    "(\\alpha -\\alpha \\frac 1 A + \\frac 1 A) )(\\alpha -\\alpha A + A) W_2 W_1 X\n",
    "$\n",
    "\n",
    "$(\\alpha -\\alpha \\frac 1 A + \\frac 1 A)(\\alpha -\\alpha A + A) = \n",
    "1+\\alpha^2-\\alpha^2 A + \\alpha A - \\alpha^2 \\frac 1 A + \\alpha^2 - \\alpha + \\frac 1 A \\alpha - \\alpha = \\\\\n",
    "(A+ \\frac 1 A) - 2 \\alpha + \\alpha  (A + \\frac 1 A) \n",
    "=\n",
    "2 \\alpha^2 - \\alpha^2 (A - \\frac 1 A) - 2 \\alpha + \\alpha (A+ \\frac 1 A) = \n",
    "\\alpha (1-\\alpha)(A+ \\frac 1 A - 2) \n",
    "$"
   ]
  },
  {
   "cell_type": "markdown",
   "metadata": {},
   "source": [
    "$(A+ \\frac 1 A - 2) > 0$ if $A>1$\n",
    "\n",
    "So we have increasing the output on $C \\alpha (1-\\alpha) W_2 W_1 X$ if $0<\\alpha<1$\n",
    "\n",
    "And decreasing otherwise\n",
    "\n",
    "Maximum positive disturbance is $0.25 C W_2W_1X$  when $\\alpha=0.5$\n",
    "\n",
    "$\\alpha + (1-\\alpha)A = 0$\n",
    "\n",
    "$\\alpha (1-A) = -A$\n",
    "\n",
    "$\\alpha = \\frac A {A-1}$\n",
    "\n",
    "Negative disturbance kills all of the weights when $C \\alpha (1-\\alpha) W_2 W_1 X = W_2 W_1 X$"
   ]
  },
  {
   "cell_type": "markdown",
   "metadata": {},
   "source": [
    "disturbance by swapping two nodes:\n",
    "\n",
    "maximum \n"
   ]
  },
  {
   "cell_type": "code",
   "execution_count": null,
   "metadata": {},
   "outputs": [],
   "source": []
  }
 ],
 "metadata": {
  "kernelspec": {
   "display_name": "Python 3",
   "language": "python",
   "name": "python3"
  },
  "language_info": {
   "codemirror_mode": {
    "name": "ipython",
    "version": 3
   },
   "file_extension": ".py",
   "mimetype": "text/x-python",
   "name": "python",
   "nbconvert_exporter": "python",
   "pygments_lexer": "ipython3",
   "version": "3.7.1"
  }
 },
 "nbformat": 4,
 "nbformat_minor": 2
}
