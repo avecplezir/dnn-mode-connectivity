{
 "cells": [
  {
   "cell_type": "code",
   "execution_count": 1,
   "metadata": {},
   "outputs": [],
   "source": [
    "import argparse\n",
    "import numpy as np\n",
    "import os\n",
    "import tabulate\n",
    "import torch\n",
    "import torch.nn.functional as F\n",
    "import torch.nn\n",
    "\n",
    "import data\n",
    "import models\n",
    "import curves\n",
    "import utils\n",
    "\n",
    "import pickle"
   ]
  },
  {
   "cell_type": "code",
   "execution_count": 2,
   "metadata": {},
   "outputs": [],
   "source": [
    "import numpy as np\n",
    "import matplotlib.mlab as mlab\n",
    "import matplotlib.pyplot as plt\n",
    "\n",
    "from scipy.stats import norm\n",
    "\n",
    "import utils\n",
    "import time\n",
    "from torch import nn\n",
    "import seaborn as sns\n",
    "from sklearn.manifold import TSNE\n",
    "from torch import distributions"
   ]
  },
  {
   "cell_type": "code",
   "execution_count": 3,
   "metadata": {},
   "outputs": [],
   "source": [
    "architecture = getattr(models, \"LinearOneLayer\") #LinearOneLayer LogRegression\n",
    "model1 = architecture.base(num_classes=10, **architecture.kwargs)\n",
    "model2 = architecture.base(num_classes=10, **architecture.kwargs)\n",
    "\n",
    "model11 = architecture.base(num_classes=10, **architecture.kwargs)\n",
    "model12 = architecture.base(num_classes=10, **architecture.kwargs)\n",
    "m = architecture.base(num_classes=10, **architecture.kwargs)\n",
    "\n",
    "model1.load_state_dict(torch.load('curves_mnist/LinearOneLayer/LongTraining/curve3/checkpoint-30.pt')['model_state'])\n",
    "model2.load_state_dict(torch.load('curves_mnist/LinearOneLayer/LongTraining/curve4/checkpoint-30.pt')['model_state'])"
   ]
  },
  {
   "cell_type": "code",
   "execution_count": 4,
   "metadata": {},
   "outputs": [
    {
     "name": "stdout",
     "output_type": "stream",
     "text": [
      "You are going to run models on the test set. Are you sure?\n"
     ]
    }
   ],
   "source": [
    "loaders, num_classes = data.loaders(\n",
    "    \"MNIST\",\n",
    "    \"data\",\n",
    "    128,\n",
    "    1,\n",
    "    \"VGG\",\n",
    "    True)"
   ]
  },
  {
   "cell_type": "code",
   "execution_count": 5,
   "metadata": {},
   "outputs": [],
   "source": [
    "def distance(model1, model2):\n",
    "    par1 = np.concatenate([p.data.cpu().numpy().ravel() for p in model1.parameters()])\n",
    "    par2 = np.concatenate([p.data.cpu().numpy().ravel() for p in model2.parameters()])\n",
    "    u = par2 - par1\n",
    "    dx = np.linalg.norm(u)\n",
    "    return dx"
   ]
  },
  {
   "cell_type": "code",
   "execution_count": 6,
   "metadata": {},
   "outputs": [],
   "source": [
    "# ind = 1\n",
    "# T = True\n",
    "# S = []\n",
    "# B = []\n",
    "# while ind<20:\n",
    "\n",
    "#     ckpt = 'curves_mnist/LinearOneLayer/LongTraining/curve'+str(ind)+'/checkpoint-30.pt'\n",
    "#     checkpoint = torch.load(ckpt)\n",
    "#     m.load_state_dict(checkpoint['model_state'])\n",
    "    \n",
    "#     S.append(samples(m))\n",
    "#     B.append(list(m.parameters())[-1].data.numpy())\n",
    "#     ind+=1\n",
    "    \n",
    "# S = np.concatenate(S)"
   ]
  },
  {
   "cell_type": "markdown",
   "metadata": {},
   "source": [
    "## Flow Generator "
   ]
  },
  {
   "cell_type": "code",
   "execution_count": 167,
   "metadata": {},
   "outputs": [],
   "source": [
    "class BatchNorm(nn.Module):\n",
    "    def __init__(self, dim_in):\n",
    "        super(BatchNorm, self).__init__()\n",
    "\n",
    "        self.mu = torch.zeros(dim_in).cuda()\n",
    "        self.sig2 = torch.zeros(dim_in).cuda()+0.1\n",
    "        self.momentum=0.1\n",
    "        \n",
    "    def forward(self, x):\n",
    "\n",
    "        if self.training:\n",
    "            mu = x.mean(0)\n",
    "            sig2 = (x-mu).pow(2).mean(0)  \n",
    "            x = (x-mu)/(sig2 + 1.0e-6 ).sqrt()\n",
    "            self.mu = self.momentum*mu + (1-self.momentum)*self.mu\n",
    "            self.sig2 =  self.momentum*sig2 + (1-self.momentum)*self.sig2\n",
    "            return x, sig2+1.0e-6 \n",
    "        else: \n",
    "            x = (x-self.mu)/(self.sig2+1.0e-6).sqrt()\n",
    "            return x, self.sig2+1.0e-6 \n",
    "        \n",
    "        \n",
    "class SNet(nn.Module):\n",
    "    def __init__(self, dim_in, dim_middle):\n",
    "        super(SNet, self).__init__()\n",
    "        affine = True\n",
    "        self.h = nn.Tanh() #nn.LeakyReLU() #nn.Tanh()\n",
    "        self.fc = nn.Sequential(\n",
    "            nn.Linear(dim_in, dim_middle),\n",
    "            self.h,\n",
    "            nn.BatchNorm1d(dim_middle, affine=affine),\n",
    "            nn.Linear(dim_middle, dim_middle),\n",
    "            self.h,\n",
    "            nn.BatchNorm1d(dim_middle, affine=affine),\n",
    "            nn.Linear(dim_middle, dim_in)\n",
    "        )\n",
    "        \n",
    "    def forward(self, x):   \n",
    "        x = self.fc(x)\n",
    "#         x = torch.clamp(x, -1, 1) \n",
    "        return x\n",
    "    \n",
    "class TNet(nn.Module):\n",
    "    def __init__(self,  dim_in, dim_middle):\n",
    "        super(TNet, self).__init__()\n",
    "        affine = True\n",
    "        self.h = nn.Tanh()\n",
    "        self.fc = nn.Sequential(\n",
    "            nn.Linear(dim_in, dim_middle),\n",
    "            self.h,\n",
    "            nn.BatchNorm1d(dim_middle, affine=affine),\n",
    "            nn.Linear(dim_middle, dim_middle),\n",
    "            self.h,\n",
    "            nn.BatchNorm1d(dim_middle, affine=affine),\n",
    "            nn.Linear(dim_middle, dim_in),\n",
    "        )\n",
    "        \n",
    "    def forward(self, x):   \n",
    "        x = self.fc(x)\n",
    "        return x\n"
   ]
  },
  {
   "cell_type": "code",
   "execution_count": 168,
   "metadata": {},
   "outputs": [
    {
     "data": {
      "text/plain": [
       "(2, torch.Size([2, 795]))"
      ]
     },
     "execution_count": 168,
     "metadata": {},
     "output_type": "execute_result"
    }
   ],
   "source": [
    "import numpy as np\n",
    "N_layers = 1\n",
    "n_dim = 795\n",
    "onezero = [0, 1]*n_dim\n",
    "masks = torch.Tensor([[onezero[:n_dim], onezero[1:n_dim+1]]]*N_layers)\n",
    "masks = masks.view(2*N_layers, -1)\n",
    "len(masks), masks.shape"
   ]
  },
  {
   "cell_type": "code",
   "execution_count": 238,
   "metadata": {},
   "outputs": [],
   "source": [
    "class RealNVP(nn.Module):\n",
    "    def __init__(self, mask, prior):\n",
    "        super(RealNVP, self).__init__()\n",
    "        \n",
    "        # Create a flow\n",
    "        # nets:  a function that return a pytocrn neurel network e.g., nn.Sequential, s = nets(), s: dim(X) -> dim(X)\n",
    "        # nett:  a function that return a pytocrn neurel network e.g., nn.Sequential, t = nett(), t: dim(X) -> dim(X)\n",
    "        # mask:  a torch.Tensor of size #number_of_coupling_layers x #dim(X)\n",
    "        # prior: an object from torch.distributions e.g., torch.distributions.MultivariateNormal\n",
    "        \n",
    "        self.prior = prior \n",
    "        self.mask = nn.Parameter(mask, requires_grad=False).cuda()\n",
    "        self.t = torch.nn.ModuleList([SNet(dim_in=795, dim_middle=795*2) for _ in range(len(mask))])\n",
    "        self.s = torch.nn.ModuleList([TNet(dim_in=795, dim_middle=795*2) for _ in range(len(mask))])\n",
    "        self.b = torch.nn.ModuleList([BatchNorm(dim_in=795) for _ in range(len(mask))])\n",
    "        self.batch_norm = True\n",
    "        self.verbose = False\n",
    "        \n",
    "        \n",
    "        self.A = nn.Linear(n_dim, n_dim)\n",
    "        self.relu = nn.ReLU()\n",
    "        self.in_dim = n_dim\n",
    "        data_mean = torch.FloatTensor(np.random.normal(size=(n_dim, )))\n",
    "        self.mean= nn.Parameter(data = data_mean, requires_grad=True)\n",
    "\n",
    "        \n",
    "        \n",
    "    def g(self, z):\n",
    "        # Compute and return g(z) = x, \n",
    "        #    where self.mask[i], self.t[i], self.s[i] define a i-th masked coupling layer   \n",
    "        # z: a torch.Tensor of shape batchSize x 1 x dim(X)\n",
    "        # return x: a torch.Tensor of shape batchSize x 1 x dim(X)\n",
    "        for i, (s, t, b) in enumerate(zip(reversed(self.s), reversed(self.t), reversed(self.b))):\n",
    "            m = self.mask[-i-1]\n",
    "#             print('i', i, 'm', m)\n",
    "            \n",
    "            if self.verbose:\n",
    "                print('z1', z)\n",
    "            z = (m*z +(1-m)*(z-t(m*z))*(-s(m*z)).exp()).detach()\n",
    "#             print('z1', z)\n",
    "            if self.batch_norm:\n",
    "                z = (z*(b.sig2+1.0e-6).sqrt()+b.mu).detach()\n",
    "            if self.verbose:\n",
    "                print('z2', z)\n",
    "        \n",
    "        x = z\n",
    "        return x\n",
    "\n",
    "    def f(self, x):\n",
    "        # Compute f(x) = z and log_det_Jakobian of f, \n",
    "        #    where self.mask[i], self.t[i], self.s[i] define a i-th masked coupling layer   \n",
    "        # x: a torch.Tensor, of shape batchSize x dim(X), is a datapoint\n",
    "        # return z: a torch.Tensor of shape batchSize x dim(X), a hidden representations\n",
    "        # return log_det_J: a torch.Tensor of len batchSize\n",
    "        \n",
    "        z = x\n",
    "        log_det_J = 0\n",
    "        for s, t, m, b in zip(self.s, self.t, self.mask, self.b):\n",
    "\n",
    "            if self.batch_norm:\n",
    "                z, sig2 = b(z)\n",
    "#             print(m.shape, z.shape)\n",
    "            s_res = s(m*z)\n",
    "            z = m*z +(1-m)*(z*s_res.exp()+t(m*z))\n",
    "           \n",
    "            if self.batch_norm:\n",
    "                log_det_J += ((1-m)*s_res-0.5*sig2.log()).sum(-1)\n",
    "            else:\n",
    "                log_det_J += ((1-m)*s_res).sum(-1)\n",
    "        \n",
    "        return z, log_det_J\n",
    "    \n",
    "    def log_prob(self,x):\n",
    "        # Compute and return log p(x)\n",
    "        # using the change of variable formula and log_det_J computed by f\n",
    "        # return logp: torch.Tensor of len batchSize\n",
    "        z, log_det_J = self.f(x)\n",
    "        \n",
    "#         logp = -0.5*np.log(np.pi*2)-0.5*z.pow(2)\n",
    "#         logp = logp.sum(-1)\n",
    "#         logp = self.prior.log_prob(z)\n",
    "        logp = self.prior.log_prob(z.cpu()).cuda()\n",
    "#         shape = torch.Size((K, self.in_dim))\n",
    "#         logp = torch.cuda.FloatTensor(x.shape[0])\n",
    "#         self.prior.log_prob(z.cpu(), out=logp)\n",
    "        \n",
    "#         logp = self.prior.log_prob(z.cpu()).cuda()\n",
    "#         print('logp', logp.shape)\n",
    "        \n",
    "        return logp+log_det_J\n",
    "        \n",
    "    def sample(self, K): \n",
    "        # Draw and return batchSize samples from flow using implementation of g\n",
    "        # return x: torch.Tensor of shape batchSize x 1 x dim(X)\n",
    "\n",
    "        shape = torch.Size((K, 795))\n",
    "        e = torch.cuda.FloatTensor(shape)\n",
    "        torch.randn(shape, out=e)   \n",
    "#         e = (1/2000)*e\n",
    "#         e[:, :785] = (1/28)*e[:, :785]\n",
    "#         e[:, 785:] = (1/np.sqrt(2000))*e[:, 785:]\n",
    "#         e = (self.mean + self.A(e))   \n",
    "        x = self.f(e)[0]\n",
    "#         x = self.g(e)\n",
    "        \n",
    "#         z = self.prior.sample((K, )).cuda()\n",
    "#         x = self.g(z)\n",
    "        \n",
    "        return x"
   ]
  },
  {
   "cell_type": "code",
   "execution_count": 256,
   "metadata": {},
   "outputs": [],
   "source": [
    "class Gaussian_Flow(nn.Module):\n",
    "    def __init__(self, n_dim=795, N_layers=10):\n",
    "        super(Gaussian_Flow, self).__init__()\n",
    "        \n",
    "        onezero = [0, 1]*n_dim\n",
    "        masks = torch.Tensor([[onezero[:n_dim], onezero[1:n_dim+1]]]*N_layers)\n",
    "        masks = masks.view(2*N_layers, -1)\n",
    "        print('masks', masks, masks.shape)\n",
    "        prior = distributions.MultivariateNormal(torch.zeros(n_dim), torch.eye(n_dim))\n",
    "        \n",
    "        self.nvp = RealNVP(masks, prior)\n",
    "        self.relu = nn.ReLU()\n",
    "        data_b2 = torch.FloatTensor(np.random.normal(size=(10, ))).cuda()\n",
    "        self.b2 = nn.Parameter(data = data_b2, requires_grad=True)\n",
    "        \n",
    "        self.verbose = False\n",
    "        self.l2 = 0\n",
    "\n",
    "    def forward(self, x, K=2000):\n",
    "\n",
    "        x = x.view(x.size(0), -1)\n",
    "        W = self.nvp.sample(K)\n",
    "        W1 = W[:, :784]\n",
    "        b1 = W[:, 784:785]\n",
    "        W2 =  W[:, 785:].transpose(0,1)\n",
    "        \n",
    "        if self.verbose:\n",
    "            print('x', x.shape)\n",
    "            print('W1', W1.shape)\n",
    "            print('b1', b1.shape)\n",
    "            \n",
    "        x = F.linear(x, W1, b1[:, 0])\n",
    "        \n",
    "        if self.verbose:\n",
    "            print('x', x.shape)\n",
    "            print(x.shape)\n",
    "            \n",
    "        x = self.relu(x)\n",
    "\n",
    "        x = F.linear(x, W2, self.b2) \n",
    "#         x = 1/K*x\n",
    "        \n",
    "        if self.verbose:\n",
    "            print(x.shape)\n",
    "        \n",
    "#         print(W1.shape, b1.shape)\n",
    "        self.l2 = W1.pow(2).sum()+W2.pow(2).sum() +b1.sum(-1).pow(2).sum()\n",
    "#         print(self.L2)\n",
    "            \n",
    "        return x"
   ]
  },
  {
   "cell_type": "code",
   "execution_count": 257,
   "metadata": {},
   "outputs": [
    {
     "name": "stdout",
     "output_type": "stream",
     "text": [
      "masks tensor([[0., 1., 0.,  ..., 0., 1., 0.],\n",
      "        [1., 0., 1.,  ..., 1., 0., 1.]]) torch.Size([2, 795])\n"
     ]
    }
   ],
   "source": [
    "GF = Gaussian_Flow(n_dim=795, N_layers=1)"
   ]
  },
  {
   "cell_type": "code",
   "execution_count": 263,
   "metadata": {},
   "outputs": [],
   "source": [
    "criterion = F.cross_entropy\n",
    "regularizer = None \n",
    "optimizer = torch.optim.Adam(\n",
    "    filter(lambda param: param.requires_grad, GF.parameters()),\n",
    "    lr=1e-5,\n",
    ")"
   ]
  },
  {
   "cell_type": "code",
   "execution_count": 264,
   "metadata": {},
   "outputs": [],
   "source": [
    "GF.cuda();"
   ]
  },
  {
   "cell_type": "code",
   "execution_count": 265,
   "metadata": {},
   "outputs": [],
   "source": [
    "def l2_regularizer(weight_decay):\n",
    "    return lambda model: 0.5 * weight_decay * GF.l2"
   ]
  },
  {
   "cell_type": "code",
   "execution_count": 266,
   "metadata": {},
   "outputs": [],
   "source": [
    "regularizer = l2_regularizer(1e-4)"
   ]
  },
  {
   "cell_type": "code",
   "execution_count": 267,
   "metadata": {},
   "outputs": [
    {
     "name": "stdout",
     "output_type": "stream",
     "text": [
      "  ep    tr_loss     tr_acc     te_nll     te_acc       time\n",
      "----  ---------  ---------  ---------  ---------  ---------\n",
      "   0    46.8448    51.8517     2.2464    53.5900    21.0392\n",
      "  ep    tr_loss     tr_acc     te_nll     te_acc       time\n",
      "----  ---------  ---------  ---------  ---------  ---------\n",
      "   1    44.7431    56.1950     1.8373    59.5700    21.0512\n",
      "  ep    tr_loss     tr_acc     te_nll     te_acc       time\n",
      "----  ---------  ---------  ---------  ---------  ---------\n",
      "   2    43.8603    62.5450     1.4306    66.6600    21.1004\n",
      "  ep    tr_loss     tr_acc     te_nll     te_acc       time\n",
      "----  ---------  ---------  ---------  ---------  ---------\n",
      "   3    43.2576    66.7733     1.3396    68.4200    21.1063\n",
      "  ep    tr_loss     tr_acc     te_nll     te_acc       time\n",
      "----  ---------  ---------  ---------  ---------  ---------\n",
      "   4    42.8129    70.0117     1.1611    71.0400    21.1465\n",
      "  ep    tr_loss     tr_acc     te_nll     te_acc       time\n",
      "----  ---------  ---------  ---------  ---------  ---------\n",
      "   5    42.5073    72.4817     1.0593    73.9700    21.2043\n",
      "  ep    tr_loss     tr_acc     te_nll     te_acc       time\n",
      "----  ---------  ---------  ---------  ---------  ---------\n",
      "   6    42.2373    74.0283     0.9674    76.2500    21.2185\n",
      "  ep    tr_loss     tr_acc     te_nll     te_acc       time\n",
      "----  ---------  ---------  ---------  ---------  ---------\n",
      "   7    42.0503    75.0200     0.9255    76.7900    21.1941\n",
      "  ep    tr_loss     tr_acc     te_nll     te_acc       time\n",
      "----  ---------  ---------  ---------  ---------  ---------\n",
      "   8    41.9127    76.2800     0.8233    78.7300    21.2613\n",
      "  ep    tr_loss     tr_acc     te_nll     te_acc       time\n",
      "----  ---------  ---------  ---------  ---------  ---------\n",
      "   9    41.7481    77.1967     0.8368    80.0600    21.2174\n",
      "  ep    tr_loss     tr_acc     te_nll     te_acc       time\n",
      "----  ---------  ---------  ---------  ---------  ---------\n",
      "  10    41.6389    78.1167     0.7851    80.5600    21.2245\n"
     ]
    }
   ],
   "source": [
    "columns = ['ep', 'tr_loss', 'tr_acc', 'te_nll', 'te_acc', 'time']\n",
    "for epoch in range(0, 10 + 1):\n",
    "    time_ep = time.time()\n",
    "\n",
    "    train_res = utils.train(loaders['train'], GF, optimizer, criterion, regularizer, cuda=True)\n",
    "    test_res = utils.test(loaders['test'], GF, criterion, regularizer, cuda=True)\n",
    "\n",
    "    time_ep = time.time() - time_ep\n",
    "    values = [epoch, train_res['loss'], train_res['accuracy'], test_res['nll'],\n",
    "              test_res['accuracy'], time_ep]\n",
    "\n",
    "    table = tabulate.tabulate([values], columns, tablefmt='simple', floatfmt='9.4f')\n",
    "    print(table)\n",
    "#     test_flow(model1, model2, GF, N=2000)"
   ]
  },
  {
   "cell_type": "code",
   "execution_count": 272,
   "metadata": {},
   "outputs": [],
   "source": [
    "def samples(model):\n",
    "    p1 = list(model.parameters())[0].data.cpu().numpy()\n",
    "    p2 = list(model.parameters())[1].data.cpu().numpy()\n",
    "    p3 = list(model.parameters())[2].transpose(0,1).data.cpu().numpy()\n",
    "    samples = np.hstack([p1, p2[:, None], p3])\n",
    "    \n",
    "    return samples\n",
    "\n",
    "def get_model(W, B):\n",
    "    model_sampled = architecture.base(num_classes=10, **architecture.kwargs)\n",
    "    model_samples = W.cpu().data.numpy()\n",
    "    SIZE = 2000\n",
    "\n",
    "    offset = 0\n",
    "    for parameter in list(model_sampled.parameters())[:-1]:\n",
    "        size = int(np.prod(parameter.size())/SIZE)\n",
    "        value = model_samples[:, offset:offset+size]\n",
    "        if size==10 or size==1:\n",
    "             value = value.T\n",
    "#         if size == 10:\n",
    "#             value = 1/2000*value\n",
    "#         else:\n",
    "#             value = value\n",
    "#         print(value.shape)\n",
    "        value = value.reshape(parameter.size())\n",
    "#         print(value.shape)\n",
    "        parameter.data.copy_(torch.from_numpy(value))\n",
    "        offset += size\n",
    "\n",
    "    list(model_sampled.parameters())[-1].data.copy_(torch.from_numpy(B.mean(0)))\n",
    "    \n",
    "    return model_sampled\n",
    "\n",
    "def test(model):\n",
    "    criterion = F.cross_entropy\n",
    "    regularizer = None \n",
    "    train_res = utils.test(loaders['train'], model, criterion, regularizer)\n",
    "    test_res = utils.test(loaders['test'], model, criterion, regularizer) \n",
    "    print(train_res)\n",
    "    print(test_res)\n",
    "\n",
    "def test_flow(model1, model2, flow, N=2000):\n",
    "    \n",
    "#     rcParams['figure.figsize'] = 12, 10\n",
    "#     rcParams['figure.dpi'] = 100\n",
    "\n",
    "    flow.cuda()\n",
    "    flow.eval()\n",
    "#     print('copmuting samples...')\n",
    "#     X = torch.FloatTensor(S[:N]).cuda()\n",
    "#     X_sample = X.data.cpu().numpy()\n",
    "#     X_prior = prior.sample((N,)).cpu().data.numpy()\n",
    "#     X_flow = flow.sample(N, ).data.cpu().numpy()\n",
    "#     X_sample_prior = flow.f(torch.FloatTensor(X_sample).cuda())[0].data.cpu().numpy()\n",
    "    \n",
    "#     print('drawing...')\n",
    "#     i, j = 500, -1\n",
    "#     fig, axes = plt.subplots(2, 2,)\n",
    "#     axes[0, 0].set_title('Samples')\n",
    "#     axes[0, 0].scatter(X_sample[:, i], X_sample[:, j])\n",
    "#     axes[0, 1].set_title('Prior')\n",
    "#     axes[0, 1].scatter(X_prior[:, i], X_prior[:, j])\n",
    "#     axes[1, 0].set_title('Flow sampling')\n",
    "#     axes[1, 0].scatter(X_flow[:, i], X_flow[:, j])\n",
    "#     axes[1, 1].set_title('Map from samples to prior')\n",
    "#     axes[1, 1].scatter(X_sample_prior[:, i], X_sample_prior[:, j]) \n",
    "#     plt.show()\n",
    "    \n",
    "    print('computing Arc model...')\n",
    "    W1 = samples(model1)\n",
    "    W2 = samples(model2)\n",
    "    \n",
    "#     W1[:, 785:] = 2000*W1[:, 785:]\n",
    "#     W2[:, 785:] = 2000*W2[:, 785:]\n",
    "    \n",
    "#     flow.cpu()\n",
    "    W_pre = 1/np.sqrt(2)*flow.nvp.g(torch.FloatTensor(W1).cuda())+1/np.sqrt(2)*flow.nvp.g(torch.FloatTensor(W2).cuda())\n",
    "    W = flow.nvp.f(W_pre)[0]\n",
    "#     W[:, 785:] = 1/2000*W[:, 785:]\n",
    "    B = []\n",
    "    B.append(list(model1.parameters())[-1].data.cpu().numpy())\n",
    "    B.append(list(model2.parameters())[-1].data.cpu().numpy())\n",
    "    B = np.array(B)\n",
    "    \n",
    "#     model_sampled = get_model(torch.tensor(W1).cuda(), B)\n",
    "#     test(model_sampled)\n",
    "    \n",
    "    model_sampled = get_model(W, B)\n",
    "    test(model_sampled)\n",
    "    \n",
    "\n",
    "    \n",
    "    if N==2000:\n",
    "        print('computing Sampling from flow model...')\n",
    "        \n",
    "        B = []\n",
    "        B.append(flow.b2.data.cpu().numpy())\n",
    "        B = np.array(B)\n",
    "    \n",
    "        X_flow = flow.nvp.sample(N, ).data.cpu()\n",
    "#         X_flow[:, :784] = X_flow[:, :784]\n",
    "#         X_flow[:, 785:] = 1/2000*X_flow[:, 785:]\n",
    "        model_flow = get_model(X_flow, B)\n",
    "        test(model_flow)\n",
    "#         return model_sampled, model_flow\n",
    "    \n",
    "#     return model_sampled\n",
    "    "
   ]
  },
  {
   "cell_type": "code",
   "execution_count": 273,
   "metadata": {},
   "outputs": [
    {
     "name": "stdout",
     "output_type": "stream",
     "text": [
      "computing Arc model...\n",
      "{'nll': 0.043516448573271437, 'loss': 0.043516448573271437, 'accuracy': 98.98666666666666}\n",
      "{'nll': 0.07036074814796447, 'loss': 0.07036074814796447, 'accuracy': 97.92}\n",
      "{'nll': 894916328.7168, 'loss': 894916328.7168, 'accuracy': 16.58}\n",
      "{'nll': 731623296.3848, 'loss': 731623296.3848, 'accuracy': 16.82}\n",
      "computing Sampling from flow model...\n",
      "{'nll': 0.8460212607701619, 'loss': 0.8460212607701619, 'accuracy': 79.60833333333333}\n",
      "{'nll': 0.8191173463821411, 'loss': 0.8191173463821411, 'accuracy': 79.87}\n"
     ]
    }
   ],
   "source": [
    "test_flow(model1, model2, GF, N=2000)"
   ]
  },
  {
   "cell_type": "markdown",
   "metadata": {},
   "source": [
    "## Trainig mean and covariance matrix One hidden layer"
   ]
  },
  {
   "cell_type": "code",
   "execution_count": 74,
   "metadata": {},
   "outputs": [],
   "source": [
    "class Gaussian_model(nn.Module):\n",
    "    def __init__(self, n_dim=795):\n",
    "        super(Gaussian_model, self).__init__()\n",
    "        self.A = nn.Linear(n_dim, n_dim)\n",
    "        self.relu = nn.ReLU()\n",
    "        self.in_dim = n_dim\n",
    "        data_mean = torch.FloatTensor(np.random.normal(size=(n_dim, )))\n",
    "        self.mean= nn.Parameter(data = data_mean, requires_grad=True)\n",
    "        \n",
    "        data_b2 = torch.FloatTensor(np.random.normal(size=(10, )))\n",
    "        self.b2 = nn.Parameter(data = data_b2, requires_grad=True)\n",
    "\n",
    "    def sample(self, K, cuda=True):\n",
    "        \n",
    "        if cuda:\n",
    "            shape = torch.Size((K, self.in_dim))\n",
    "            e = torch.cuda.FloatTensor(shape)\n",
    "            torch.randn(shape, out=e)   \n",
    "        else:          \n",
    "            e = torch.randn((K, self.in_dim))\n",
    "        W = (self.mean + self.A(e))       \n",
    "        return W\n",
    "    \n",
    "\n",
    "    def forward(self, x, K=2000):\n",
    "\n",
    "        x = x.view(x.size(0), -1)\n",
    "        W = self.sample(K)\n",
    "        W1 = W[:, :784]\n",
    "        b1 = W[:, 784:785]\n",
    "        W2 =  W[:, 785:].transpose(0,1)\n",
    "        \n",
    "        x = F.linear(x, W1, b1[:, 0])\n",
    "        x = self.relu(x)\n",
    "        x = F.linear(x, W2, self.b2) \n",
    "        x = 1/K*x\n",
    "\n",
    "        return x"
   ]
  },
  {
   "cell_type": "code",
   "execution_count": 75,
   "metadata": {},
   "outputs": [
    {
     "name": "stdout",
     "output_type": "stream",
     "text": [
      "masks tensor([[0., 1., 0.,  ..., 0., 1., 0.],\n",
      "        [1., 0., 1.,  ..., 1., 0., 1.]]) torch.Size([2, 795])\n"
     ]
    }
   ],
   "source": [
    "GM = Gaussian_model()\n",
    "GM.cuda();"
   ]
  },
  {
   "cell_type": "code",
   "execution_count": 76,
   "metadata": {},
   "outputs": [],
   "source": [
    "criterion = F.cross_entropy\n",
    "regularizer = None \n",
    "optimizer = torch.optim.Adam(\n",
    "    filter(lambda param: param.requires_grad, GM.parameters()),\n",
    "    lr=1e-4,\n",
    "#     momentum=0.9,\n",
    ")"
   ]
  },
  {
   "cell_type": "code",
   "execution_count": 77,
   "metadata": {
    "scrolled": false
   },
   "outputs": [
    {
     "name": "stderr",
     "output_type": "stream",
     "text": [
      "Exception ignored in: <function _DataLoaderIter.__del__ at 0x7fc91755f730>\n",
      "Traceback (most recent call last):\n",
      "  File \"/home/anokhin/anaconda3/lib/python3.7/site-packages/torch/utils/data/dataloader.py\", line 717, in __del__\n",
      "    self._shutdown_workers()\n",
      "  File \"/home/anokhin/anaconda3/lib/python3.7/site-packages/torch/utils/data/dataloader.py\", line 713, in _shutdown_workers\n",
      "    w.join()\n",
      "  File \"/home/anokhin/anaconda3/lib/python3.7/multiprocessing/process.py\", line 138, in join\n",
      "    assert self._parent_pid == os.getpid(), 'can only join a child process'\n",
      "AssertionError: can only join a child process\n"
     ]
    },
    {
     "name": "stdout",
     "output_type": "stream",
     "text": [
      "  ep    tr_loss     tr_acc     te_nll     te_acc       time\n",
      "----  ---------  ---------  ---------  ---------  ---------\n",
      "   0     0.4760    85.6850     0.3189    90.9500    17.9283\n"
     ]
    },
    {
     "name": "stderr",
     "output_type": "stream",
     "text": [
      "Exception ignored in: <function _DataLoaderIter.__del__ at 0x7fc91755f730>\n",
      "Traceback (most recent call last):\n",
      "Traceback (most recent call last):\n",
      "  File \"/home/anokhin/anaconda3/lib/python3.7/site-packages/torch/utils/data/dataloader.py\", line 717, in __del__\n",
      "  File \"/home/anokhin/anaconda3/lib/python3.7/multiprocessing/queues.py\", line 242, in _feed\n",
      "    send_bytes(obj)\n",
      "    self._shutdown_workers()\n",
      "  File \"/home/anokhin/anaconda3/lib/python3.7/multiprocessing/connection.py\", line 200, in send_bytes\n",
      "    self._send_bytes(m[offset:offset + size])\n",
      "  File \"/home/anokhin/anaconda3/lib/python3.7/site-packages/torch/utils/data/dataloader.py\", line 704, in _shutdown_workers\n",
      "  File \"/home/anokhin/anaconda3/lib/python3.7/multiprocessing/connection.py\", line 404, in _send_bytes\n",
      "    self._send(header + buf)\n",
      "    self.worker_result_queue.close()\n",
      "  File \"/home/anokhin/anaconda3/lib/python3.7/multiprocessing/connection.py\", line 368, in _send\n",
      "    n = write(self._handle, buf)\n",
      "  File \"/home/anokhin/anaconda3/lib/python3.7/multiprocessing/queues.py\", line 134, in close\n",
      "OSError: [Errno 9] Bad file descriptor\n",
      "    self._reader.close()\n",
      "  File \"/home/anokhin/anaconda3/lib/python3.7/multiprocessing/connection.py\", line 177, in close\n",
      "Exception in thread QueueFeederThread:\n",
      "Traceback (most recent call last):\n",
      "  File \"/home/anokhin/anaconda3/lib/python3.7/multiprocessing/queues.py\", line 232, in _feed\n",
      "    close()\n",
      "  File \"/home/anokhin/anaconda3/lib/python3.7/multiprocessing/connection.py\", line 177, in close\n",
      "    self._close()\n",
      "  File \"/home/anokhin/anaconda3/lib/python3.7/multiprocessing/connection.py\", line 361, in _close\n",
      "    _close(self._handle)\n",
      "OSError: [Errno 9] Bad file descriptor\n",
      "\n",
      "During handling of the above exception, another exception occurred:\n",
      "\n",
      "Traceback (most recent call last):\n",
      "  File \"/home/anokhin/anaconda3/lib/python3.7/threading.py\", line 917, in _bootstrap_inner\n",
      "    self.run()\n",
      "  File \"/home/anokhin/anaconda3/lib/python3.7/threading.py\", line 865, in run\n",
      "    self._target(*self._args, **self._kwargs)\n",
      "  File \"/home/anokhin/anaconda3/lib/python3.7/multiprocessing/queues.py\", line 263, in _feed\n",
      "    queue_sem.release()\n",
      "ValueError: semaphore or lock released too many times\n",
      "\n",
      "    self._close()\n",
      "  File \"/home/anokhin/anaconda3/lib/python3.7/multiprocessing/connection.py\", line 361, in _close\n",
      "    _close(self._handle)\n",
      "OSError: [Errno 9] Bad file descriptor\n",
      "Exception ignored in: <function _DataLoaderIter.__del__ at 0x7fc91755f730>\n",
      "Traceback (most recent call last):\n",
      "Traceback (most recent call last):\n",
      "  File \"/home/anokhin/anaconda3/lib/python3.7/multiprocessing/queues.py\", line 242, in _feed\n",
      "    send_bytes(obj)\n",
      "  File \"/home/anokhin/anaconda3/lib/python3.7/site-packages/torch/utils/data/dataloader.py\", line 717, in __del__\n",
      "  File \"/home/anokhin/anaconda3/lib/python3.7/multiprocessing/connection.py\", line 200, in send_bytes\n",
      "    self._send_bytes(m[offset:offset + size])\n",
      "  File \"/home/anokhin/anaconda3/lib/python3.7/multiprocessing/connection.py\", line 404, in _send_bytes\n",
      "    self._send(header + buf)\n",
      "    self._shutdown_workers()\n",
      "  File \"/home/anokhin/anaconda3/lib/python3.7/site-packages/torch/utils/data/dataloader.py\", line 704, in _shutdown_workers\n",
      "  File \"/home/anokhin/anaconda3/lib/python3.7/multiprocessing/connection.py\", line 368, in _send\n",
      "    n = write(self._handle, buf)\n",
      "OSError: [Errno 9] Bad file descriptor\n",
      "    self.worker_result_queue.close()\n",
      "  File \"/home/anokhin/anaconda3/lib/python3.7/multiprocessing/queues.py\", line 134, in close\n",
      "Exception in thread QueueFeederThread:\n",
      "Traceback (most recent call last):\n",
      "  File \"/home/anokhin/anaconda3/lib/python3.7/multiprocessing/queues.py\", line 232, in _feed\n",
      "    close()\n",
      "  File \"/home/anokhin/anaconda3/lib/python3.7/multiprocessing/connection.py\", line 177, in close\n",
      "    self._close()\n",
      "  File \"/home/anokhin/anaconda3/lib/python3.7/multiprocessing/connection.py\", line 361, in _close\n",
      "    _close(self._handle)\n",
      "OSError: [Errno 9] Bad file descriptor\n",
      "\n",
      "During handling of the above exception, another exception occurred:\n",
      "\n",
      "Traceback (most recent call last):\n",
      "  File \"/home/anokhin/anaconda3/lib/python3.7/threading.py\", line 917, in _bootstrap_inner\n",
      "    self.run()\n",
      "  File \"/home/anokhin/anaconda3/lib/python3.7/threading.py\", line 865, in run\n",
      "    self._target(*self._args, **self._kwargs)\n",
      "  File \"/home/anokhin/anaconda3/lib/python3.7/multiprocessing/queues.py\", line 263, in _feed\n",
      "    queue_sem.release()\n",
      "ValueError: semaphore or lock released too many times\n",
      "    self._reader.close()\n",
      "\n",
      "  File \"/home/anokhin/anaconda3/lib/python3.7/multiprocessing/connection.py\", line 177, in close\n",
      "    self._close()\n",
      "  File \"/home/anokhin/anaconda3/lib/python3.7/multiprocessing/connection.py\", line 361, in _close\n",
      "    _close(self._handle)\n",
      "OSError: [Errno 9] Bad file descriptor\n"
     ]
    },
    {
     "name": "stdout",
     "output_type": "stream",
     "text": [
      "  ep    tr_loss     tr_acc     te_nll     te_acc       time\n",
      "----  ---------  ---------  ---------  ---------  ---------\n",
      "   1     0.3574    90.4917     0.2769    91.7400    18.0539\n"
     ]
    },
    {
     "name": "stderr",
     "output_type": "stream",
     "text": [
      "Exception ignored in: <function _DataLoaderIter.__del__ at 0x7fc91755f730>\n",
      "Traceback (most recent call last):\n",
      "Traceback (most recent call last):\n",
      "  File \"/home/anokhin/anaconda3/lib/python3.7/multiprocessing/queues.py\", line 242, in _feed\n",
      "    send_bytes(obj)\n",
      "  File \"/home/anokhin/anaconda3/lib/python3.7/site-packages/torch/utils/data/dataloader.py\", line 717, in __del__\n",
      "  File \"/home/anokhin/anaconda3/lib/python3.7/multiprocessing/connection.py\", line 200, in send_bytes\n",
      "    self._send_bytes(m[offset:offset + size])\n",
      "  File \"/home/anokhin/anaconda3/lib/python3.7/multiprocessing/connection.py\", line 404, in _send_bytes\n",
      "    self._send(header + buf)\n",
      "    self._shutdown_workers()\n",
      "  File \"/home/anokhin/anaconda3/lib/python3.7/multiprocessing/connection.py\", line 368, in _send\n",
      "    n = write(self._handle, buf)\n",
      "  File \"/home/anokhin/anaconda3/lib/python3.7/site-packages/torch/utils/data/dataloader.py\", line 704, in _shutdown_workers\n",
      "OSError: [Errno 9] Bad file descriptor\n",
      "    self.worker_result_queue.close()\n",
      "Exception in thread QueueFeederThread:\n",
      "Traceback (most recent call last):\n",
      "  File \"/home/anokhin/anaconda3/lib/python3.7/multiprocessing/queues.py\", line 232, in _feed\n",
      "    close()\n",
      "  File \"/home/anokhin/anaconda3/lib/python3.7/multiprocessing/connection.py\", line 177, in close\n",
      "    self._close()\n",
      "  File \"/home/anokhin/anaconda3/lib/python3.7/multiprocessing/connection.py\", line 361, in _close\n",
      "    _close(self._handle)\n",
      "OSError: [Errno 9] Bad file descriptor\n",
      "\n",
      "During handling of the above exception, another exception occurred:\n",
      "\n",
      "Traceback (most recent call last):\n",
      "  File \"/home/anokhin/anaconda3/lib/python3.7/threading.py\", line 917, in _bootstrap_inner\n",
      "    self.run()\n",
      "  File \"/home/anokhin/anaconda3/lib/python3.7/threading.py\", line 865, in run\n",
      "    self._target(*self._args, **self._kwargs)\n",
      "  File \"/home/anokhin/anaconda3/lib/python3.7/multiprocessing/queues.py\", line 263, in _feed\n",
      "    queue_sem.release()\n",
      "ValueError: semaphore or lock released too many times\n",
      "  File \"/home/anokhin/anaconda3/lib/python3.7/multiprocessing/queues.py\", line 134, in close\n",
      "\n",
      "    self._reader.close()\n",
      "  File \"/home/anokhin/anaconda3/lib/python3.7/multiprocessing/connection.py\", line 177, in close\n",
      "    self._close()\n",
      "  File \"/home/anokhin/anaconda3/lib/python3.7/multiprocessing/connection.py\", line 361, in _close\n",
      "    _close(self._handle)\n",
      "OSError: [Errno 9] Bad file descriptor\n",
      "Exception ignored in: <function _DataLoaderIter.__del__ at 0x7fc91755f730>\n",
      "Traceback (most recent call last):\n",
      "  File \"/home/anokhin/anaconda3/lib/python3.7/site-packages/torch/utils/data/dataloader.py\", line 717, in __del__\n",
      "Traceback (most recent call last):\n",
      "    self._shutdown_workers()\n",
      "  File \"/home/anokhin/anaconda3/lib/python3.7/multiprocessing/queues.py\", line 242, in _feed\n",
      "    send_bytes(obj)\n",
      "  File \"/home/anokhin/anaconda3/lib/python3.7/site-packages/torch/utils/data/dataloader.py\", line 704, in _shutdown_workers\n",
      "  File \"/home/anokhin/anaconda3/lib/python3.7/multiprocessing/connection.py\", line 200, in send_bytes\n",
      "    self._send_bytes(m[offset:offset + size])\n",
      "  File \"/home/anokhin/anaconda3/lib/python3.7/multiprocessing/connection.py\", line 404, in _send_bytes\n",
      "    self._send(header + buf)\n",
      "    self.worker_result_queue.close()\n",
      "  File \"/home/anokhin/anaconda3/lib/python3.7/multiprocessing/connection.py\", line 368, in _send\n",
      "    n = write(self._handle, buf)\n",
      "  File \"/home/anokhin/anaconda3/lib/python3.7/multiprocessing/queues.py\", line 134, in close\n",
      "OSError: [Errno 9] Bad file descriptor\n"
     ]
    },
    {
     "ename": "RuntimeError",
     "evalue": "DataLoader worker (pid 32204) is killed by signal: Aborted. ",
     "output_type": "error",
     "traceback": [
      "\u001b[0;31m---------------------------------------------------------------------------\u001b[0m",
      "\u001b[0;31mRuntimeError\u001b[0m                              Traceback (most recent call last)",
      "\u001b[0;32m<ipython-input-77-60f8d48473b5>\u001b[0m in \u001b[0;36m<module>\u001b[0;34m\u001b[0m\n\u001b[1;32m      5\u001b[0m \u001b[0;34m\u001b[0m\u001b[0m\n\u001b[1;32m      6\u001b[0m     \u001b[0mtrain_res\u001b[0m \u001b[0;34m=\u001b[0m \u001b[0mutils\u001b[0m\u001b[0;34m.\u001b[0m\u001b[0mtrain\u001b[0m\u001b[0;34m(\u001b[0m\u001b[0mloaders\u001b[0m\u001b[0;34m[\u001b[0m\u001b[0;34m'train'\u001b[0m\u001b[0;34m]\u001b[0m\u001b[0;34m,\u001b[0m \u001b[0mGM\u001b[0m\u001b[0;34m,\u001b[0m \u001b[0moptimizer\u001b[0m\u001b[0;34m,\u001b[0m \u001b[0mcriterion\u001b[0m\u001b[0;34m,\u001b[0m \u001b[0mregularizer\u001b[0m\u001b[0;34m,\u001b[0m \u001b[0mcuda\u001b[0m\u001b[0;34m=\u001b[0m\u001b[0;32mTrue\u001b[0m\u001b[0;34m)\u001b[0m\u001b[0;34m\u001b[0m\u001b[0;34m\u001b[0m\u001b[0m\n\u001b[0;32m----> 7\u001b[0;31m     \u001b[0mtest_res\u001b[0m \u001b[0;34m=\u001b[0m \u001b[0mutils\u001b[0m\u001b[0;34m.\u001b[0m\u001b[0mtest\u001b[0m\u001b[0;34m(\u001b[0m\u001b[0mloaders\u001b[0m\u001b[0;34m[\u001b[0m\u001b[0;34m'test'\u001b[0m\u001b[0;34m]\u001b[0m\u001b[0;34m,\u001b[0m \u001b[0mGM\u001b[0m\u001b[0;34m,\u001b[0m \u001b[0mcriterion\u001b[0m\u001b[0;34m,\u001b[0m \u001b[0mregularizer\u001b[0m\u001b[0;34m,\u001b[0m \u001b[0mcuda\u001b[0m\u001b[0;34m=\u001b[0m\u001b[0;32mTrue\u001b[0m\u001b[0;34m)\u001b[0m\u001b[0;34m\u001b[0m\u001b[0;34m\u001b[0m\u001b[0m\n\u001b[0m\u001b[1;32m      8\u001b[0m \u001b[0;34m\u001b[0m\u001b[0m\n\u001b[1;32m      9\u001b[0m     \u001b[0mtime_ep\u001b[0m \u001b[0;34m=\u001b[0m \u001b[0mtime\u001b[0m\u001b[0;34m.\u001b[0m\u001b[0mtime\u001b[0m\u001b[0;34m(\u001b[0m\u001b[0;34m)\u001b[0m \u001b[0;34m-\u001b[0m \u001b[0mtime_ep\u001b[0m\u001b[0;34m\u001b[0m\u001b[0;34m\u001b[0m\u001b[0m\n",
      "\u001b[0;32m~/dnn-mode-connectivity/utils.py\u001b[0m in \u001b[0;36mtest\u001b[0;34m(test_loader, model, criterion, regularizer, cuda, **kwargs)\u001b[0m\n\u001b[1;32m     99\u001b[0m     \u001b[0mmodel\u001b[0m\u001b[0;34m.\u001b[0m\u001b[0meval\u001b[0m\u001b[0;34m(\u001b[0m\u001b[0;34m)\u001b[0m\u001b[0;34m\u001b[0m\u001b[0;34m\u001b[0m\u001b[0m\n\u001b[1;32m    100\u001b[0m \u001b[0;34m\u001b[0m\u001b[0m\n\u001b[0;32m--> 101\u001b[0;31m     \u001b[0;32mfor\u001b[0m \u001b[0minput\u001b[0m\u001b[0;34m,\u001b[0m \u001b[0mtarget\u001b[0m \u001b[0;32min\u001b[0m \u001b[0mtest_loader\u001b[0m\u001b[0;34m:\u001b[0m\u001b[0;34m\u001b[0m\u001b[0;34m\u001b[0m\u001b[0m\n\u001b[0m\u001b[1;32m    102\u001b[0m         \u001b[0;32mif\u001b[0m \u001b[0mcuda\u001b[0m\u001b[0;34m:\u001b[0m\u001b[0;34m\u001b[0m\u001b[0;34m\u001b[0m\u001b[0m\n\u001b[1;32m    103\u001b[0m             \u001b[0minput\u001b[0m \u001b[0;34m=\u001b[0m \u001b[0minput\u001b[0m\u001b[0;34m.\u001b[0m\u001b[0mcuda\u001b[0m\u001b[0;34m(\u001b[0m\u001b[0mnon_blocking\u001b[0m\u001b[0;34m=\u001b[0m\u001b[0;32mTrue\u001b[0m\u001b[0;34m)\u001b[0m\u001b[0;34m\u001b[0m\u001b[0;34m\u001b[0m\u001b[0m\n",
      "\u001b[0;32m~/anaconda3/lib/python3.7/site-packages/torch/utils/data/dataloader.py\u001b[0m in \u001b[0;36m__next__\u001b[0;34m(self)\u001b[0m\n\u001b[1;32m    629\u001b[0m         \u001b[0;32mwhile\u001b[0m \u001b[0;32mTrue\u001b[0m\u001b[0;34m:\u001b[0m\u001b[0;34m\u001b[0m\u001b[0;34m\u001b[0m\u001b[0m\n\u001b[1;32m    630\u001b[0m             \u001b[0;32massert\u001b[0m \u001b[0;34m(\u001b[0m\u001b[0;32mnot\u001b[0m \u001b[0mself\u001b[0m\u001b[0;34m.\u001b[0m\u001b[0mshutdown\u001b[0m \u001b[0;32mand\u001b[0m \u001b[0mself\u001b[0m\u001b[0;34m.\u001b[0m\u001b[0mbatches_outstanding\u001b[0m \u001b[0;34m>\u001b[0m \u001b[0;36m0\u001b[0m\u001b[0;34m)\u001b[0m\u001b[0;34m\u001b[0m\u001b[0;34m\u001b[0m\u001b[0m\n\u001b[0;32m--> 631\u001b[0;31m             \u001b[0midx\u001b[0m\u001b[0;34m,\u001b[0m \u001b[0mbatch\u001b[0m \u001b[0;34m=\u001b[0m \u001b[0mself\u001b[0m\u001b[0;34m.\u001b[0m\u001b[0m_get_batch\u001b[0m\u001b[0;34m(\u001b[0m\u001b[0;34m)\u001b[0m\u001b[0;34m\u001b[0m\u001b[0;34m\u001b[0m\u001b[0m\n\u001b[0m\u001b[1;32m    632\u001b[0m             \u001b[0mself\u001b[0m\u001b[0;34m.\u001b[0m\u001b[0mbatches_outstanding\u001b[0m \u001b[0;34m-=\u001b[0m \u001b[0;36m1\u001b[0m\u001b[0;34m\u001b[0m\u001b[0;34m\u001b[0m\u001b[0m\n\u001b[1;32m    633\u001b[0m             \u001b[0;32mif\u001b[0m \u001b[0midx\u001b[0m \u001b[0;34m!=\u001b[0m \u001b[0mself\u001b[0m\u001b[0;34m.\u001b[0m\u001b[0mrcvd_idx\u001b[0m\u001b[0;34m:\u001b[0m\u001b[0;34m\u001b[0m\u001b[0;34m\u001b[0m\u001b[0m\n",
      "\u001b[0;32m~/anaconda3/lib/python3.7/site-packages/torch/utils/data/dataloader.py\u001b[0m in \u001b[0;36m_get_batch\u001b[0;34m(self)\u001b[0m\n\u001b[1;32m    599\u001b[0m             \u001b[0;32mwhile\u001b[0m \u001b[0mself\u001b[0m\u001b[0;34m.\u001b[0m\u001b[0mpin_memory_thread\u001b[0m\u001b[0;34m.\u001b[0m\u001b[0mis_alive\u001b[0m\u001b[0;34m(\u001b[0m\u001b[0;34m)\u001b[0m\u001b[0;34m:\u001b[0m\u001b[0;34m\u001b[0m\u001b[0;34m\u001b[0m\u001b[0m\n\u001b[1;32m    600\u001b[0m                 \u001b[0;32mtry\u001b[0m\u001b[0;34m:\u001b[0m\u001b[0;34m\u001b[0m\u001b[0;34m\u001b[0m\u001b[0m\n\u001b[0;32m--> 601\u001b[0;31m                     \u001b[0;32mreturn\u001b[0m \u001b[0mself\u001b[0m\u001b[0;34m.\u001b[0m\u001b[0mdata_queue\u001b[0m\u001b[0;34m.\u001b[0m\u001b[0mget\u001b[0m\u001b[0;34m(\u001b[0m\u001b[0mtimeout\u001b[0m\u001b[0;34m=\u001b[0m\u001b[0mMP_STATUS_CHECK_INTERVAL\u001b[0m\u001b[0;34m)\u001b[0m\u001b[0;34m\u001b[0m\u001b[0;34m\u001b[0m\u001b[0m\n\u001b[0m\u001b[1;32m    602\u001b[0m                 \u001b[0;32mexcept\u001b[0m \u001b[0mqueue\u001b[0m\u001b[0;34m.\u001b[0m\u001b[0mEmpty\u001b[0m\u001b[0;34m:\u001b[0m\u001b[0;34m\u001b[0m\u001b[0;34m\u001b[0m\u001b[0m\n\u001b[1;32m    603\u001b[0m                     \u001b[0;32mcontinue\u001b[0m\u001b[0;34m\u001b[0m\u001b[0;34m\u001b[0m\u001b[0m\n",
      "\u001b[0;32m~/anaconda3/lib/python3.7/queue.py\u001b[0m in \u001b[0;36mget\u001b[0;34m(self, block, timeout)\u001b[0m\n\u001b[1;32m    177\u001b[0m                     \u001b[0;32mif\u001b[0m \u001b[0mremaining\u001b[0m \u001b[0;34m<=\u001b[0m \u001b[0;36m0.0\u001b[0m\u001b[0;34m:\u001b[0m\u001b[0;34m\u001b[0m\u001b[0;34m\u001b[0m\u001b[0m\n\u001b[1;32m    178\u001b[0m                         \u001b[0;32mraise\u001b[0m \u001b[0mEmpty\u001b[0m\u001b[0;34m\u001b[0m\u001b[0;34m\u001b[0m\u001b[0m\n\u001b[0;32m--> 179\u001b[0;31m                     \u001b[0mself\u001b[0m\u001b[0;34m.\u001b[0m\u001b[0mnot_empty\u001b[0m\u001b[0;34m.\u001b[0m\u001b[0mwait\u001b[0m\u001b[0;34m(\u001b[0m\u001b[0mremaining\u001b[0m\u001b[0;34m)\u001b[0m\u001b[0;34m\u001b[0m\u001b[0;34m\u001b[0m\u001b[0m\n\u001b[0m\u001b[1;32m    180\u001b[0m             \u001b[0mitem\u001b[0m \u001b[0;34m=\u001b[0m \u001b[0mself\u001b[0m\u001b[0;34m.\u001b[0m\u001b[0m_get\u001b[0m\u001b[0;34m(\u001b[0m\u001b[0;34m)\u001b[0m\u001b[0;34m\u001b[0m\u001b[0;34m\u001b[0m\u001b[0m\n\u001b[1;32m    181\u001b[0m             \u001b[0mself\u001b[0m\u001b[0;34m.\u001b[0m\u001b[0mnot_full\u001b[0m\u001b[0;34m.\u001b[0m\u001b[0mnotify\u001b[0m\u001b[0;34m(\u001b[0m\u001b[0;34m)\u001b[0m\u001b[0;34m\u001b[0m\u001b[0;34m\u001b[0m\u001b[0m\n",
      "\u001b[0;32m~/anaconda3/lib/python3.7/threading.py\u001b[0m in \u001b[0;36mwait\u001b[0;34m(self, timeout)\u001b[0m\n\u001b[1;32m    298\u001b[0m             \u001b[0;32melse\u001b[0m\u001b[0;34m:\u001b[0m\u001b[0;34m\u001b[0m\u001b[0;34m\u001b[0m\u001b[0m\n\u001b[1;32m    299\u001b[0m                 \u001b[0;32mif\u001b[0m \u001b[0mtimeout\u001b[0m \u001b[0;34m>\u001b[0m \u001b[0;36m0\u001b[0m\u001b[0;34m:\u001b[0m\u001b[0;34m\u001b[0m\u001b[0;34m\u001b[0m\u001b[0m\n\u001b[0;32m--> 300\u001b[0;31m                     \u001b[0mgotit\u001b[0m \u001b[0;34m=\u001b[0m \u001b[0mwaiter\u001b[0m\u001b[0;34m.\u001b[0m\u001b[0macquire\u001b[0m\u001b[0;34m(\u001b[0m\u001b[0;32mTrue\u001b[0m\u001b[0;34m,\u001b[0m \u001b[0mtimeout\u001b[0m\u001b[0;34m)\u001b[0m\u001b[0;34m\u001b[0m\u001b[0;34m\u001b[0m\u001b[0m\n\u001b[0m\u001b[1;32m    301\u001b[0m                 \u001b[0;32melse\u001b[0m\u001b[0;34m:\u001b[0m\u001b[0;34m\u001b[0m\u001b[0;34m\u001b[0m\u001b[0m\n\u001b[1;32m    302\u001b[0m                     \u001b[0mgotit\u001b[0m \u001b[0;34m=\u001b[0m \u001b[0mwaiter\u001b[0m\u001b[0;34m.\u001b[0m\u001b[0macquire\u001b[0m\u001b[0;34m(\u001b[0m\u001b[0;32mFalse\u001b[0m\u001b[0;34m)\u001b[0m\u001b[0;34m\u001b[0m\u001b[0;34m\u001b[0m\u001b[0m\n",
      "\u001b[0;32m~/anaconda3/lib/python3.7/site-packages/torch/utils/data/dataloader.py\u001b[0m in \u001b[0;36mhandler\u001b[0;34m(signum, frame)\u001b[0m\n\u001b[1;32m    272\u001b[0m         \u001b[0;31m# This following call uses `waitid` with WNOHANG from C side. Therefore,\u001b[0m\u001b[0;34m\u001b[0m\u001b[0;34m\u001b[0m\u001b[0;34m\u001b[0m\u001b[0m\n\u001b[1;32m    273\u001b[0m         \u001b[0;31m# Python can still get and update the process status successfully.\u001b[0m\u001b[0;34m\u001b[0m\u001b[0;34m\u001b[0m\u001b[0;34m\u001b[0m\u001b[0m\n\u001b[0;32m--> 274\u001b[0;31m         \u001b[0m_error_if_any_worker_fails\u001b[0m\u001b[0;34m(\u001b[0m\u001b[0;34m)\u001b[0m\u001b[0;34m\u001b[0m\u001b[0;34m\u001b[0m\u001b[0m\n\u001b[0m\u001b[1;32m    275\u001b[0m         \u001b[0;32mif\u001b[0m \u001b[0mprevious_handler\u001b[0m \u001b[0;32mis\u001b[0m \u001b[0;32mnot\u001b[0m \u001b[0;32mNone\u001b[0m\u001b[0;34m:\u001b[0m\u001b[0;34m\u001b[0m\u001b[0;34m\u001b[0m\u001b[0m\n\u001b[1;32m    276\u001b[0m             \u001b[0mprevious_handler\u001b[0m\u001b[0;34m(\u001b[0m\u001b[0msignum\u001b[0m\u001b[0;34m,\u001b[0m \u001b[0mframe\u001b[0m\u001b[0;34m)\u001b[0m\u001b[0;34m\u001b[0m\u001b[0;34m\u001b[0m\u001b[0m\n",
      "\u001b[0;31mRuntimeError\u001b[0m: DataLoader worker (pid 32204) is killed by signal: Aborted. "
     ]
    }
   ],
   "source": [
    "columns = ['ep', 'tr_loss', 'tr_acc', 'te_nll', 'te_acc', 'time']\n",
    "for epoch in range(0, 10 + 1):\n",
    "    time_ep = time.time()\n",
    "\n",
    "\n",
    "    train_res = utils.train(loaders['train'], GM, optimizer, criterion, regularizer, cuda=True)\n",
    "    test_res = utils.test(loaders['test'], GM, criterion, regularizer, cuda=True)\n",
    "\n",
    "    time_ep = time.time() - time_ep\n",
    "    values = [epoch, train_res['loss'], train_res['accuracy'], test_res['nll'],\n",
    "              test_res['accuracy'], time_ep]\n",
    "\n",
    "    table = tabulate.tabulate([values], columns, tablefmt='simple', floatfmt='9.4f')\n",
    "    print(table)"
   ]
  },
  {
   "cell_type": "code",
   "execution_count": 884,
   "metadata": {},
   "outputs": [],
   "source": [
    "# GM(X)[0]"
   ]
  },
  {
   "cell_type": "code",
   "execution_count": 887,
   "metadata": {},
   "outputs": [],
   "source": [
    "# test_res = utils.test(loaders['test'], GM, criterion, regularizer, cuda=True)\n",
    "# test_res"
   ]
  },
  {
   "cell_type": "code",
   "execution_count": 260,
   "metadata": {},
   "outputs": [],
   "source": [
    "samples = GM.sample(2000).data.numpy()\n",
    "sns.kdeplot(samples[:, 0], samples[:, 70], shade=True,  cbar=True)"
   ]
  },
  {
   "cell_type": "code",
   "execution_count": 264,
   "metadata": {},
   "outputs": [
    {
     "name": "stderr",
     "output_type": "stream",
     "text": [
      "/anaconda3/lib/python3.6/site-packages/scipy/stats/stats.py:1706: FutureWarning: Using a non-tuple sequence for multidimensional indexing is deprecated; use `arr[tuple(seq)]` instead of `arr[seq]`. In the future this will be interpreted as an array index, `arr[np.array(seq)]`, which will result either in an error or a different result.\n",
      "  return np.add.reduce(sorted[indexer] * weights, axis=axis) / sumval\n"
     ]
    },
    {
     "data": {
      "text/plain": [
       "<matplotlib.axes._subplots.AxesSubplot at 0x1a3e6529e8>"
      ]
     },
     "execution_count": 264,
     "metadata": {},
     "output_type": "execute_result"
    },
    {
     "data": {
      "image/png": "[encoded data removed]",
      "text/plain": [
       "<matplotlib.figure.Figure at 0x1a3e66b7b8>"
      ]
     },
     "metadata": {},
     "output_type": "display_data"
    }
   ],
   "source": [
    "sns.kdeplot(samples[:, 0], samples[:, 70], shade=True,  cbar=True)"
   ]
  },
  {
   "cell_type": "code",
   "execution_count": 277,
   "metadata": {},
   "outputs": [],
   "source": [
    "X_embeddeds = TSNE(n_components=2).fit_transform(samples)"
   ]
  },
  {
   "cell_type": "code",
   "execution_count": 279,
   "metadata": {},
   "outputs": [
    {
     "name": "stderr",
     "output_type": "stream",
     "text": [
      "/anaconda3/lib/python3.6/site-packages/scipy/stats/stats.py:1706: FutureWarning: Using a non-tuple sequence for multidimensional indexing is deprecated; use `arr[tuple(seq)]` instead of `arr[seq]`. In the future this will be interpreted as an array index, `arr[np.array(seq)]`, which will result either in an error or a different result.\n",
      "  return np.add.reduce(sorted[indexer] * weights, axis=axis) / sumval\n"
     ]
    },
    {
     "data": {
      "text/plain": [
       "<matplotlib.axes._subplots.AxesSubplot at 0x1a362774e0>"
      ]
     },
     "execution_count": 279,
     "metadata": {},
     "output_type": "execute_result"
    },
    {
     "data": {
      "image/png": "[encoded data removed]",
      "text/plain": [
       "<matplotlib.figure.Figure at 0x1a3087f400>"
      ]
     },
     "metadata": {},
     "output_type": "display_data"
    }
   ],
   "source": [
    "sns.kdeplot(X_embeddeds[:, 0], X_embeddeds[:, 1], shade=True,  cbar=True)"
   ]
  },
  {
   "cell_type": "markdown",
   "metadata": {},
   "source": [
    "## Trainig mean and covariance matrix Several hidden layer"
   ]
  },
  {
   "cell_type": "code",
   "execution_count": 249,
   "metadata": {},
   "outputs": [],
   "source": [
    "class GMMultyLayer(nn.Module):\n",
    "    def __init__(self, n_dim=809):\n",
    "        super(GMMultyLayer, self).__init__()\n",
    "        self.n_dim = n_dim\n",
    "        self.A = nn.Linear(n_dim, n_dim)\n",
    "        self.relu = nn.ReLU()\n",
    "        data_mean = torch.FloatTensor(np.random.normal(size=(n_dim, )))\n",
    "        self.mean= nn.Parameter(data = data_mean, requires_grad=True)\n",
    "        \n",
    "        data_bf = torch.FloatTensor(np.random.normal(size=(10, )))\n",
    "        self.bf = nn.Parameter(data = data_bf, requires_grad=True)\n",
    "\n",
    "    def sample(self, K):\n",
    "        e = torch.randn((K, self.mean.size()[0]))\n",
    "        W = (self.mean + self.A(e))       \n",
    "        return W\n",
    "    \n",
    "\n",
    "    def forward(self, x, K=4000):\n",
    "\n",
    "        x = x.view(x.size(0), -1)\n",
    "        W = self.sample(K)\n",
    "        W1 = W[:, :784]\n",
    "        b1 = W[:, 784]\n",
    "        \n",
    "        W2 = W[:, 785]\n",
    "        b2 = W[:, 786]\n",
    "        Wf =  W[:, -10:].transpose(0,1)\n",
    "        \n",
    "        x = F.linear(x, W1, b1)\n",
    "        x = self.relu(x)\n",
    "        for i in range(int(self.n_dim-784-10/2), 2):\n",
    "            Wi = W[:, 785+i]\n",
    "            bi = W[:, 786+i]\n",
    "            x = self.relu(Wi*x+bi)\n",
    "            \n",
    "        x = F.linear(x, Wf, self.bf) \n",
    "        x = 1/K*x\n",
    "#         print(x.shape)\n",
    "        return x"
   ]
  },
  {
   "cell_type": "code",
   "execution_count": 250,
   "metadata": {},
   "outputs": [],
   "source": [
    "GML = GMMultyLayer()"
   ]
  },
  {
   "cell_type": "code",
   "execution_count": 251,
   "metadata": {},
   "outputs": [],
   "source": [
    "criterion = F.cross_entropy\n",
    "regularizer = None \n",
    "optimizer = torch.optim.SGD(\n",
    "    filter(lambda param: param.requires_grad, GML.parameters()),\n",
    "    lr=0.01,\n",
    "    momentum=0.9,\n",
    "    weight_decay=0.0\n",
    ")"
   ]
  },
  {
   "cell_type": "code",
   "execution_count": 252,
   "metadata": {
    "scrolled": false
   },
   "outputs": [
    {
     "name": "stdout",
     "output_type": "stream",
     "text": [
      "  ep         lr    tr_loss     tr_acc     te_nll     te_acc       time\n",
      "----  ---------  ---------  ---------  ---------  ---------  ---------\n",
      "   0     0.0010     2.7916    14.3017     2.2235    14.8000    93.5746\n",
      "  ep         lr    tr_loss     tr_acc     te_nll     te_acc       time\n",
      "----  ---------  ---------  ---------  ---------  ---------  ---------\n",
      "   1     0.0010     2.1833    15.8317     2.1439    18.0300    91.0075\n",
      "  ep         lr    tr_loss     tr_acc     te_nll     te_acc       time\n",
      "----  ---------  ---------  ---------  ---------  ---------  ---------\n",
      "   2     0.0010     2.0937    24.0500     2.0191    30.7600    90.9785\n",
      "  ep         lr    tr_loss     tr_acc     te_nll     te_acc       time\n",
      "----  ---------  ---------  ---------  ---------  ---------  ---------\n",
      "   3     0.0010     1.9095    36.9383     1.7213    47.6100    90.6315\n",
      "  ep         lr    tr_loss     tr_acc     te_nll     te_acc       time\n",
      "----  ---------  ---------  ---------  ---------  ---------  ---------\n",
      "   4     0.0010     1.4738    59.3883     1.1794    67.9500    90.9084\n",
      "  ep         lr    tr_loss     tr_acc     te_nll     te_acc       time\n",
      "----  ---------  ---------  ---------  ---------  ---------  ---------\n",
      "   5     0.0010     1.0308    71.7517     0.8680    74.5800    92.7320\n",
      "  ep         lr    tr_loss     tr_acc     te_nll     te_acc       time\n",
      "----  ---------  ---------  ---------  ---------  ---------  ---------\n",
      "   6     0.0010     0.8114    75.2483     0.7091    76.9900    91.3537\n",
      "  ep         lr    tr_loss     tr_acc     te_nll     te_acc       time\n",
      "----  ---------  ---------  ---------  ---------  ---------  ---------\n",
      "   7     0.0010     0.6591    83.7533     0.5690    87.6800    91.7474\n",
      "  ep         lr    tr_loss     tr_acc     te_nll     te_acc       time\n",
      "----  ---------  ---------  ---------  ---------  ---------  ---------\n",
      "   8     0.0010     0.5372    87.2150     0.4731    88.2000    92.4704\n",
      "  ep         lr    tr_loss     tr_acc     te_nll     te_acc       time\n",
      "----  ---------  ---------  ---------  ---------  ---------  ---------\n",
      "   9     0.0010     0.4687    87.5850     0.4266    88.3400    91.7914\n",
      "  ep         lr    tr_loss     tr_acc     te_nll     te_acc       time\n",
      "----  ---------  ---------  ---------  ---------  ---------  ---------\n",
      "  10     0.0010     0.4312    88.0667     0.3999    88.9800    92.3218\n"
     ]
    }
   ],
   "source": [
    "columns = ['ep', 'lr', 'tr_loss', 'tr_acc', 'te_nll', 'te_acc', 'time']\n",
    "for epoch in range(0, 10 + 1):\n",
    "    time_ep = time.time()\n",
    "\n",
    "    lr = 1e-3\n",
    "    utils.adjust_learning_rate(optimizer, lr)\n",
    "\n",
    "    train_res = utils.train(loaders['train'], GML, optimizer, criterion, regularizer)\n",
    "    test_res = utils.test(loaders['test'], GML, criterion, regularizer)\n",
    "\n",
    "    time_ep = time.time() - time_ep\n",
    "    values = [epoch, lr, train_res['loss'], train_res['accuracy'], test_res['nll'],\n",
    "              test_res['accuracy'], time_ep]\n",
    "\n",
    "    table = tabulate.tabulate([values], columns, tablefmt='simple', floatfmt='9.4f')\n",
    "    print(table)"
   ]
  }
 ],
 "metadata": {
  "kernelspec": {
   "display_name": "Python 3",
   "language": "python",
   "name": "python3"
  },
  "language_info": {
   "codemirror_mode": {
    "name": "ipython",
    "version": 3
   },
   "file_extension": ".py",
   "mimetype": "text/x-python",
   "name": "python",
   "nbconvert_exporter": "python",
   "pygments_lexer": "ipython3",
   "version": "3.7.1"
  }
 },
 "nbformat": 4,
 "nbformat_minor": 2
}
