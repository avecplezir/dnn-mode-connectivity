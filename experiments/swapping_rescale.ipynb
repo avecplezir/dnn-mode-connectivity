{
 "cells": [
  {
   "cell_type": "markdown",
   "metadata": {},
   "source": [
    "## Rescale"
   ]
  },
  {
   "cell_type": "markdown",
   "metadata": {},
   "source": [
    "disturbance by rescale:\n",
    "\n",
    "$W_1, W_2$ - matrices to rescale by $A$ and $\\frac 1 A$ respectivly\n",
    "\n",
    "$(\\alpha W_2  + (1-\\alpha) \\frac 1 A W_2)(\\alpha W_1 +(1-\\alpha) A W_1) X\n",
    "=\n",
    "(\\alpha + (1-\\alpha) \\frac 1 A)(\\alpha +(1-\\alpha) A) W_2 W_1 X\n",
    "=\n",
    "(\\alpha -\\alpha \\frac 1 A + \\frac 1 A) )(\\alpha -\\alpha A + A) W_2 W_1 X\n",
    "$\n",
    "\n",
    "$(\\alpha -\\alpha \\frac 1 A + \\frac 1 A)(\\alpha -\\alpha A + A) = \n",
    "1+\\alpha^2-\\alpha^2 A + \\alpha A - \\alpha^2 \\frac 1 A + \\alpha^2 - \\alpha + \\frac 1 A \\alpha - \\alpha = \\\\\n",
    "(A+ \\frac 1 A) - 2 \\alpha + \\alpha  (A + \\frac 1 A) \n",
    "=\n",
    "2 \\alpha^2 - \\alpha^2 (A - \\frac 1 A) - 2 \\alpha + \\alpha (A+ \\frac 1 A) = \n",
    "\\alpha (1-\\alpha)(A+ \\frac 1 A - 2) \n",
    "$"
   ]
  },
  {
   "cell_type": "markdown",
   "metadata": {},
   "source": [
    "$(A+ \\frac 1 A - 2) > 0$ if $A>1$\n",
    "\n",
    "So we have increasing the output on $C \\alpha (1-\\alpha) W_2 W_1 X$ if $0<\\alpha<1$\n",
    "\n",
    "And decreasing otherwise\n",
    "\n",
    "Maximum positive disturbance is $0.25 C W_2W_1X$  when $\\alpha=0.5$\n",
    "\n",
    "When $W_1$ became negative:\n",
    "\n",
    "$\\alpha + (1-\\alpha)A \\le 0$\n",
    "\n",
    "$\\alpha (1-A) \\le -A$\n",
    "\n",
    "$\\alpha \\ge \\frac A {A-1}$\n",
    "\n",
    "When $W_2$ became negative:\n",
    "\n",
    "$A \\alpha + (1-\\alpha) \\le 0$\n",
    "\n",
    "$\\alpha (A-1) \\le -1$\n",
    "\n",
    "$\\alpha \\le - \\frac {1} {A-1}$"
   ]
  },
  {
   "cell_type": "markdown",
   "metadata": {},
   "source": [
    "positive disturbance propagate through network to the softmax layer, and increase the probability of the most probobale class."
   ]
  },
  {
   "cell_type": "markdown",
   "metadata": {},
   "source": [
    "## Swapping, distribution, one dimension, without ReLU"
   ]
  },
  {
   "cell_type": "markdown",
   "metadata": {},
   "source": [
    "before swapping:\n",
    "\n",
    "$EW_2W_1X = \\int p(W_1, W_2)W_2W_1X dW_1dW_2 \\approx \\frac 1 n \\sum_{i=1}^n W_1^iW_2^iX$ where $W_1^iW_2^i$ came from the  $p(W_1, W_2)$"
   ]
  },
  {
   "cell_type": "markdown",
   "metadata": {},
   "source": [
    "what if we swith every node in a layer:\n",
    "\n",
    "$W_1^iW_2^i \\sim p(W_1, W_2)$ where $i=1,2$\n",
    "    \n",
    "$E(\\alpha W_1^1+(1-\\alpha)W_1^2)(\\alpha W_2^1+(1-\\alpha)W_2^2) = \n",
    "\\alpha^2 EW_1W_2 +(1-\\alpha)^2EW_1W_2 + 2\\alpha(1-\\alpha)EW_1EW_2 = \n",
    "EW_1W_2 + 2\\alpha(1-\\alpha)(EW_1EW_2 - EW_1W_2) = EW_1W_2 - 2\\alpha(1-\\alpha) cov(W_1, W_2)\n",
    "$"
   ]
  },
  {
   "cell_type": "markdown",
   "metadata": {},
   "source": [
    "## Swapping, distribution, n dimensions, without ReLU"
   ]
  },
  {
   "cell_type": "markdown",
   "metadata": {},
   "source": [
    "before swapping:\n",
    "\n",
    "$EW^2\\sum_i W^1_i X_i = \\int p(W^1, W^2)W^2W^1X dW^1dW^2 = \n",
    "\\sum_i \\int p(W^1_i, W^2)W^2W^1_iX_i dW^1_idW^2 =\n",
    "\\sum_i EW^2 W^1_i X_i$\n",
    "\n",
    "what if we swith every node in a layer:\n",
    "\n",
    "$E(\\alpha W_1^1+(1-\\alpha)W_2^1)\\sum_i(\\alpha W_{1i}^2+(1-\\alpha)W_{2i}^2)X_i = \\sum_i X_i E(\\alpha W_1^1+(1-\\alpha)W_2^1)(\\alpha W_{1i}^2+(1-\\alpha)W_{2i}^2) = \\\\\n",
    "\\sum_i X_i EW^2W^1_i + \\sum_i X_i 2\\alpha(1-\\alpha)(EW^1_iEW^2 - EW^1_iW^2) = \n",
    "\\sum_i X_i EW^2W^1_i - \\sum_i X_i 2\\alpha(1-\\alpha)cov(W_2, W_i^1)$"
   ]
  },
  {
   "cell_type": "code",
   "execution_count": 2,
   "metadata": {},
   "outputs": [
    {
     "data": {
      "text/plain": [
       "0.32322330470336313"
      ]
     },
     "execution_count": 2,
     "metadata": {},
     "output_type": "execute_result"
    }
   ],
   "source": [
    "0.5*0.5*(2-1/(2**(0.5)))"
   ]
  },
  {
   "cell_type": "markdown",
   "metadata": {},
   "source": [
    "## Swapping, distribution, one dimension, with ReLU"
   ]
  },
  {
   "cell_type": "markdown",
   "metadata": {},
   "source": [
    "before swapping:\n",
    "\n",
    "$EW_2(W_1X)_+ = \\begin{cases} EW_2W_1^+X & \\mbox{if } X>0  \\\\ EW_2W_1^-X  & \\mbox{if } X \\le 0 \\end{cases} $\n",
    "\n",
    "what if we swith every node in a layer:\n",
    "\n",
    "$E(\\alpha W_1^1+(1-\\alpha)W_1^2)[(\\alpha W_2^1+(1-\\alpha)W_2^2)X]_+ =\n",
    "\\begin{cases} E(\\alpha W_1^1+(1-\\alpha)W_1^2) (\\alpha W_2^1+(1-\\alpha)W_2^2)^+ X & \\mbox{if } X>0  \\\\ E(\\alpha W_1^1+(1-\\alpha)W_1^2) (\\alpha W_2^1+(1-\\alpha)W_2^2)^- X  & \\mbox{if } X \\le 0 \\end{cases}\n",
    "$"
   ]
  },
  {
   "cell_type": "markdown",
   "metadata": {},
   "source": [
    "## Swapping, distribution, n dimension, with ReLU"
   ]
  },
  {
   "cell_type": "markdown",
   "metadata": {},
   "source": [
    "$EW^2 (\\sum_i W^1_i X_i)_+ = \\int p(W^1, W^2)W^2(W^1X)_+ dW^1dW^2 $"
   ]
  },
  {
   "cell_type": "markdown",
   "metadata": {},
   "source": [
    "## Swapping "
   ]
  },
  {
   "cell_type": "markdown",
   "metadata": {},
   "source": [
    "if $(\\alpha W_1^1+(1-\\alpha W_2^1) X >0$ \n",
    "and $(\\alpha W_2^1+(1-\\alpha )W_1^1) X >0$\n",
    "\n",
    "then:\n",
    "\n",
    "$\\left (\\alpha W_{1j}^2+(1-\\alpha) W_{2j}^2 \\right) \\left(\\alpha W_1^1+(1-\\alpha W_2^1) \\right) X\n",
    "+\n",
    "\\left (\\alpha W_{2j}^2+(1-\\alpha) W_{1j}^2 \\right)\\left (\\alpha W_2^1+(1-\\alpha )W_1^1 \\right) X \n",
    "= \\\\\n",
    "\\left (\\alpha (W_{1j}^2 - W_{2j}^2)+W_{2j}^2 \\right ) \\left(\\alpha (W_1^1 - W_2^1)+W_2^1 \\right) X\n",
    "+\n",
    "\\left (-\\alpha (W_{1j}^2 - W_{2j}^2)+W_{1j}^2 \\right ) \\left(-\\alpha (W_1^1 - W_2^1)+W_1^1 \\right) X=\\\\\n",
    "W_{2j}^2W_2^1X+W_{1j}^2W_1^1X + \\\\\n",
    "\\alpha^2(W_{1j}^2-W_{2j}^2)(W_1^1-W_2^1)+\\alpha(W_{1j}^2-W_{2j}^2)W_2^1+W_{2j}^2 \\alpha(W_1^1-W_2^1) +\n",
    "\\alpha^2(W_{1j}^2-W_{2j}^2)(W_1^1-W_2^1) - \\alpha(W_{1j}^2-W_{2j}^2)W_1^1 - \\alpha W_{1j}^2 (W_1^1-W_2^1)=\\\\\n",
    "2\\alpha^2(W_{1j}^2-W_{2j}^2)(W_1^1-W_2^1)-2\\alpha(W_{1j}^2-W_{2j}^2)(W_1^1-W_2^1) = \\\\\n",
    "2\\alpha(\\alpha-1)(W_{1j}^2-W_{2j}^2)(W_1^1-W_2^1)\n",
    "$"
   ]
  },
  {
   "cell_type": "markdown",
   "metadata": {},
   "source": [
    "## Swapping with ReLU"
   ]
  },
  {
   "cell_type": "markdown",
   "metadata": {},
   "source": [
    "$\\left (\\alpha W_{1j}^2+(1-\\alpha) W_{2j}^2 \\right) RelU [\\left(\\alpha W_1^1+(1-\\alpha W_2^1 \\right) X]\n",
    "+\n",
    "\\left (\\alpha W_{2j}^2+(1-\\alpha) W_{1j}^2 \\right) RelU [ \\left (\\alpha W_2^1+(1-\\alpha )W_1^1 \\right) X ]\n",
    "= \\\\\n",
    "\\left (\\alpha (W_{1j}^2 - W_{2j}^2)+W_{2j}^2 \\right ) RelU [\\left(\\alpha (W_1^1 - W_2^1)+W_2^1 \\right) X]\n",
    "+\n",
    "\\left (-\\alpha (W_{1j}^2 - W_{2j}^2)+W_{1j}^2 \\right ) RelU [\\left(-\\alpha (W_1^1 - W_2^1)+W_1^1 \\right) X] =\\\\\n",
    "W_{2j}^2W_2^1X+W_{1j}^2W_1^1X + \\\\\n",
    "\\alpha^2(W_{1j}^2-W_{2j}^2)(W_1^1-W_2^1)+\\alpha(W_{1j}^2-W_{2j}^2)W_2^1+W_{2j}^2 \\alpha(W_1^1-W_2^1) +\n",
    "\\alpha^2(W_{1j}^2-W_{2j}^2)(W_1^1-W_2^1) - \\alpha(W_{1j}^2-W_{2j}^2)W_1^1 - \\alpha W_{1j}^2 (W_1^1-W_2^1)=\\\\\n",
    "2\\alpha^2(W_{1j}^2-W_{2j}^2)(W_1^1-W_2^1)-2\\alpha(W_{1j}^2-W_{2j}^2)(W_1^1-W_2^1) = \\\\\n",
    "2\\alpha(\\alpha-1)(W_{1j}^2-W_{2j}^2)(W_1^1-W_2^1)\n",
    "$"
   ]
  },
  {
   "cell_type": "code",
   "execution_count": null,
   "metadata": {},
   "outputs": [],
   "source": []
  },
  {
   "cell_type": "markdown",
   "metadata": {},
   "source": [
    "if $(\\alpha W_1^1+(1-\\alpha W_2^1) X >0$ \n",
    "and $(\\alpha W_2^1+(1-\\alpha )W_1^1) X \\le 0$\n",
    "\n",
    "then:\n",
    "\n",
    "$\\left (\\alpha W_{1j}^2+(1-\\alpha) W_{2j}^2 \\right) \\left(\\alpha W_1^1+(1-\\alpha) W_2^1 \\right) X\n",
    "= \\\\\n",
    "\\left (\\alpha (W_{1j}^2 - W_{2j}^2)+W_{2j}^2 \\right ) \\left(\\alpha (W_1^1 - W_2^1)+W_2^1 \\right) X =\\\\\n",
    "W_{2j}^2W_2^1X + W_{1j}^2W_1^1X + \\\\\n",
    "\\alpha^2(W_{1j}^2-W_{2j}^2)(W_1^1-W_2^1)+\\alpha(W_{1j}^2-W_{2j}^2)W_2^1+W_{2j}^2 \\alpha(W_1^1-W_2^1)  -W_{1j}^2W_1^1X  = \\\\\n",
    "$"
   ]
  }
 ],
 "metadata": {
  "kernelspec": {
   "display_name": "Python 3",
   "language": "python",
   "name": "python3"
  },
  "language_info": {
   "codemirror_mode": {
    "name": "ipython",
    "version": 3
   },
   "file_extension": ".py",
   "mimetype": "text/x-python",
   "name": "python",
   "nbconvert_exporter": "python",
   "pygments_lexer": "ipython3",
   "version": "3.6.4"
  }
 },
 "nbformat": 4,
 "nbformat_minor": 2
}
