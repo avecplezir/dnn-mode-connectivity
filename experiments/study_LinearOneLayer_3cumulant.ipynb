{
 "cells": [
  {
   "cell_type": "code",
   "execution_count": 1,
   "metadata": {},
   "outputs": [],
   "source": [
    "import argparse\n",
    "import numpy as np\n",
    "import os\n",
    "import tabulate\n",
    "import torch\n",
    "import torch.nn.functional as F\n",
    "import torch.nn\n",
    "\n",
    "import data\n",
    "import models\n",
    "import curves\n",
    "import utils\n",
    "\n",
    "import pickle\n",
    "from pylab import rcParams"
   ]
  },
  {
   "cell_type": "code",
   "execution_count": 2,
   "metadata": {},
   "outputs": [],
   "source": [
    "import numpy as np\n",
    "import matplotlib.mlab as mlab\n",
    "import matplotlib.pyplot as plt\n",
    "\n",
    "from scipy.stats import norm\n",
    "\n",
    "import utils\n",
    "import time\n",
    "from torch import nn\n",
    "import seaborn as sns\n",
    "from sklearn.manifold import TSNE"
   ]
  },
  {
   "cell_type": "code",
   "execution_count": 3,
   "metadata": {},
   "outputs": [
    {
     "name": "stdout",
     "output_type": "stream",
     "text": [
      "You are going to run models on the test set. Are you sure?\n"
     ]
    }
   ],
   "source": [
    "architecture = getattr(models, \"LinearOneLayer\")\n",
    "\n",
    "model = architecture.base(num_classes=10, **architecture.kwargs)\n",
    "\n",
    "loaders, num_classes = data.loaders(\n",
    "    \"MNIST\",\n",
    "    \"data\",\n",
    "    128,\n",
    "    1,\n",
    "    \"VGG\",\n",
    "    True)\n",
    "\n",
    "criterion = F.cross_entropy\n",
    "regularizer = None \n",
    "\n",
    "\n",
    "architecture = getattr(models, \"LinearOneLayer\") #LinearOneLayer LogRegression\n",
    "model1 = architecture.base(num_classes=10, **architecture.kwargs)\n",
    "model2 = architecture.base(num_classes=10, **architecture.kwargs)\n",
    "model3 = architecture.base(num_classes=10, **architecture.kwargs)\n",
    "model4 = architecture.base(num_classes=10, **architecture.kwargs)"
   ]
  },
  {
   "cell_type": "code",
   "execution_count": 4,
   "metadata": {},
   "outputs": [],
   "source": [
    "model1.load_state_dict(torch.load('curves_mnist/LinearOneLayer/LongTraining//curve6/checkpoint-30.pt')['model_state'])\n",
    "model2.load_state_dict(torch.load('curves_mnist/LinearOneLayer/LongTraining//curve8/checkpoint-30.pt')['model_state'])\n",
    "\n",
    "model3.load_state_dict(torch.load('curves_mnist/LinearOneLayer/LongTraining/curve6/checkpoint-0.pt')['model_state'])\n",
    "model4.load_state_dict(torch.load('curves_mnist/LinearOneLayer/LongTraining/curve8/checkpoint-0.pt')['model_state'])\n",
    "\n",
    "# look_at_models(model1, model2, model3, model4, architecture)"
   ]
  },
  {
   "cell_type": "code",
   "execution_count": 5,
   "metadata": {},
   "outputs": [],
   "source": [
    "# model1.load_state_dict(torch.load('curves_mnist/LinearOneLayer/Adam/curve5/checkpoint-30.pt')['model_state'])\n",
    "# model2.load_state_dict(torch.load('curves_mnist/LinearOneLayer/Adam/curve6/checkpoint-30.pt')['model_state'])\n",
    "\n",
    "# model3.load_state_dict(torch.load('curves_mnist/LinearOneLayer/Adam/curve5/checkpoint-0.pt')['model_state'])\n",
    "# model4.load_state_dict(torch.load('curves_mnist/LinearOneLayer/Adam/curve6/checkpoint-0.pt')['model_state'])\n"
   ]
  },
  {
   "cell_type": "code",
   "execution_count": 6,
   "metadata": {},
   "outputs": [],
   "source": [
    "def get_model(W, B, architecture):\n",
    "    model_sampled = architecture.base(num_classes=10, **architecture.kwargs)\n",
    "    model_samples = np.array(W) #.cpu().data.numpy()\n",
    "    SIZE = model_sampled.middle_dim\n",
    "\n",
    "    offset = 0\n",
    "    for parameter in list(model_sampled.parameters())[:-1]:\n",
    "        size = int(np.prod(parameter.size())/SIZE)\n",
    "        value = model_samples[:, offset:offset+size]\n",
    "        if size==10 or size==1:\n",
    "             value = value.T\n",
    "#         print(value.shape)\n",
    "        value = value.reshape(parameter.size())\n",
    "#         print(value.shape)\n",
    "        parameter.data.copy_(torch.from_numpy(value))\n",
    "        offset += size\n",
    "\n",
    "    list(model_sampled.parameters())[-1].data.copy_(B.mean(0)) #torch.from_numpy(\n",
    "    \n",
    "    return model_sampled\n",
    "\n",
    "def test(model):\n",
    "    criterion = F.cross_entropy\n",
    "    regularizer = None \n",
    "    train_res = utils.test(loaders['train'], model, criterion, regularizer)\n",
    "    test_res = utils.test(loaders['test'], model, criterion, regularizer) \n",
    "    print(train_res)\n",
    "    print(test_res)\n",
    "\n",
    "def samples(model):\n",
    "    p1 = list(model.parameters())[0].data.cpu().numpy()\n",
    "    p2 = list(model.parameters())[1].data.cpu().numpy()\n",
    "    p3 = list(model.parameters())[2].transpose(0,1).data.cpu().numpy()\n",
    "    samples = np.hstack([p1, p2[:, None], p3])\n",
    "    \n",
    "    return samples"
   ]
  },
  {
   "cell_type": "code",
   "execution_count": 7,
   "metadata": {},
   "outputs": [],
   "source": [
    "def get_vector(model1):\n",
    "    par1 = np.concatenate([p.data.cpu().numpy().ravel() for p in model1.parameters()])\n",
    "    return par1"
   ]
  },
  {
   "cell_type": "code",
   "execution_count": 8,
   "metadata": {},
   "outputs": [],
   "source": [
    "def distance(model1, model2):\n",
    "    par1 = np.concatenate([p.data.cpu().numpy().ravel() for p in model1.parameters()])\n",
    "    par2 = np.concatenate([p.data.cpu().numpy().ravel() for p in model2.parameters()])\n",
    "    u = par2 - par1\n",
    "    dx = np.linalg.norm(u)\n",
    "    return dx"
   ]
  },
  {
   "cell_type": "code",
   "execution_count": 9,
   "metadata": {},
   "outputs": [],
   "source": [
    "class distribution():\n",
    "    def __init__(self, X):\n",
    "        self.sorted_X = np.sort(X)\n",
    "        self.uniform = np.arange(len(X)+1)/len(X)\n",
    "        \n",
    "    \n",
    "    def F(self, x):\n",
    "        b = self.sorted_X>=x\n",
    "        ind = np.argmax(b)\n",
    "#         print(ind)\n",
    "#         print(b)\n",
    "        if ~b[-1] and ind==0:\n",
    "            return 1\n",
    "        elif b[0] and ind==0:\n",
    "            return 0\n",
    "        else:\n",
    "            delta = (x-self.sorted_X[ind-1])/(self.sorted_X[ind]-self.sorted_X[ind-1])\n",
    "            return self.uniform[ind]+delta*(1/len(self.sorted_X))\n",
    "\n",
    "    def inv_F(self, u):\n",
    "        \n",
    "        b = self.uniform[1:]>=u\n",
    "        ind = np.argmax(b)\n",
    "#         print(b)\n",
    "#         print(ind)\n",
    "#         print(len(self.sorted_X))\n",
    "        if b[-1] and ind==(len(self.sorted_X)-1):\n",
    "            return self.sorted_X[-1]\n",
    "        elif b[0] and ind==0:\n",
    "            return self.sorted_X[0]\n",
    "        else:\n",
    "#             print('u', self.uniform[ind])\n",
    "            delta = (u-self.uniform[ind])/(1/len(self.sorted_X))\n",
    "#             print('delta', delta)\n",
    "            return self.sorted_X[ind-1]+delta*(self.sorted_X[ind]-self.sorted_X[ind-1])\n"
   ]
  },
  {
   "cell_type": "code",
   "execution_count": 10,
   "metadata": {},
   "outputs": [],
   "source": [
    "S1 = samples(model1)\n",
    "S2 = samples(model2)"
   ]
  },
  {
   "cell_type": "code",
   "execution_count": 11,
   "metadata": {},
   "outputs": [
    {
     "data": {
      "text/plain": [
       "(4000, 795)"
      ]
     },
     "execution_count": 11,
     "metadata": {},
     "output_type": "execute_result"
    }
   ],
   "source": [
    "S = np.vstack([S1, S2])\n",
    "S.shape"
   ]
  },
  {
   "cell_type": "code",
   "execution_count": 12,
   "metadata": {},
   "outputs": [],
   "source": [
    "def f(Z):\n",
    "    X, All = Z\n",
    "    distr = distribution(All)\n",
    "    u = []\n",
    "    for x in X:\n",
    "        u.append(distr.F(x))\n",
    "        \n",
    "    return np.array(u)\n",
    "\n",
    "def g(Z):\n",
    "    \n",
    "    X, U = Z\n",
    "    distr = distribution(X)\n",
    "    u = []\n",
    "    for x in U:\n",
    "        u.append(distr.inv_F(x))\n",
    "        \n",
    "    return  np.array(u)"
   ]
  },
  {
   "cell_type": "code",
   "execution_count": 13,
   "metadata": {},
   "outputs": [
    {
     "data": {
      "text/plain": [
       "795"
      ]
     },
     "execution_count": 13,
     "metadata": {},
     "output_type": "execute_result"
    }
   ],
   "source": [
    "S_centered = S-S.mean(0)\n",
    "S_centered = S_centered.T\n",
    "l = len(S_centered)\n",
    "l"
   ]
  },
  {
   "cell_type": "code",
   "execution_count": 14,
   "metadata": {},
   "outputs": [],
   "source": [
    "import time"
   ]
  },
  {
   "cell_type": "code",
   "execution_count": 15,
   "metadata": {},
   "outputs": [],
   "source": [
    "# def compute_3cumulant(S):\n",
    "#     S_centered = S-S.mean(0)\n",
    "#     S_centered = S_centered.T\n",
    "#     l = len(S_centered)\n",
    "#     third_cumulants = np.zeros((l, l, l))\n",
    "#     for i in range(l):\n",
    "#         st_time = time.time()\n",
    "#         for j in range(l):\n",
    "#                 c = (S_centered[i]*S_centered[j]*S_centered).mean(-1)\n",
    "#                 third_cumulants[i,j,:] = c\n",
    "#         print(time.time()-st_time)\n",
    "#     return third_cumulants\n",
    "\n",
    "def compute_3cumulant(S):\n",
    "    \n",
    "    S_centered = S-S.mean(0)\n",
    "    pre_cov = np.expand_dims(S_centered, axis=-1)@ np.expand_dims(S_centered, axis=1)\n",
    "    third_cumulants = []\n",
    "\n",
    "    for i in range(S.shape[1]):\n",
    "        third_cumulants1 = pre_cov.T[i] @ S_centered\n",
    "        third_cumulants.append(third_cumulants1)\n",
    "\n",
    "    return np.array(third_cumulants)\n",
    "\n"
   ]
  },
  {
   "cell_type": "code",
   "execution_count": 16,
   "metadata": {},
   "outputs": [],
   "source": [
    "# third_cumulants_S = compute_3cumulant(S)"
   ]
  },
  {
   "cell_type": "code",
   "execution_count": null,
   "metadata": {},
   "outputs": [],
   "source": [
    "S_centered = S-S.mean(0)\n",
    "\n",
    "st_time = time.time()\n",
    "pre_cov = np.expand_dims(S_centered, axis=-1)@ np.expand_dims(S_centered, axis=1)"
   ]
  },
  {
   "cell_type": "code",
   "execution_count": 24,
   "metadata": {},
   "outputs": [
    {
     "data": {
      "text/plain": [
       "(4000, 795, 795)"
      ]
     },
     "execution_count": 24,
     "metadata": {},
     "output_type": "execute_result"
    }
   ],
   "source": [
    "pre_cov.shape"
   ]
  },
  {
   "cell_type": "code",
   "execution_count": 26,
   "metadata": {},
   "outputs": [
    {
     "name": "stdout",
     "output_type": "stream",
     "text": [
      "39.83312749862671\n"
     ]
    }
   ],
   "source": []
  },
  {
   "cell_type": "code",
   "execution_count": 17,
   "metadata": {},
   "outputs": [],
   "source": [
    "A = np.array([[2, 4,], [3, 1]])\n",
    "B = np.array([[0, 1,], [1, 0]])"
   ]
  },
  {
   "cell_type": "code",
   "execution_count": 18,
   "metadata": {},
   "outputs": [
    {
     "data": {
      "text/plain": [
       "array([[4, 2],\n",
       "       [1, 3]])"
      ]
     },
     "execution_count": 18,
     "metadata": {},
     "output_type": "execute_result"
    }
   ],
   "source": [
    "A@B"
   ]
  },
  {
   "cell_type": "code",
   "execution_count": 20,
   "metadata": {},
   "outputs": [
    {
     "data": {
      "text/plain": [
       "array([[4, 2],\n",
       "       [1, 3]])"
      ]
     },
     "execution_count": 20,
     "metadata": {},
     "output_type": "execute_result"
    }
   ],
   "source": [
    "np.dot(A, B)"
   ]
  },
  {
   "cell_type": "code",
   "execution_count": 21,
   "metadata": {},
   "outputs": [
    {
     "data": {
      "text/plain": [
       "array([[4, 2],\n",
       "       [1, 3]])"
      ]
     },
     "execution_count": 21,
     "metadata": {},
     "output_type": "execute_result"
    }
   ],
   "source": [
    "np.matmul(A, B)"
   ]
  },
  {
   "cell_type": "code",
   "execution_count": 25,
   "metadata": {},
   "outputs": [
    {
     "name": "stdout",
     "output_type": "stream",
     "text": [
      "626.4625866413116\n"
     ]
    }
   ],
   "source": [
    "st_time = time.time()\n",
    "third_cumulants3 = np.matmul(pre_cov.T, S_centered)\n",
    "print(time.time()-st_time)"
   ]
  },
  {
   "cell_type": "code",
   "execution_count": 28,
   "metadata": {},
   "outputs": [],
   "source": [
    "# third_cumulants"
   ]
  },
  {
   "cell_type": "code",
   "execution_count": 30,
   "metadata": {},
   "outputs": [
    {
     "data": {
      "text/plain": [
       "(499928594, 0.6491457)"
      ]
     },
     "execution_count": 30,
     "metadata": {},
     "output_type": "execute_result"
    }
   ],
   "source": [
    "arg, ma = np.argmax(third_cumulants), np.max(third_cumulants)\n",
    "arg, ma"
   ]
  },
  {
   "cell_type": "code",
   "execution_count": 31,
   "metadata": {},
   "outputs": [
    {
     "data": {
      "text/plain": [
       "(499931770, 0.6491453)"
      ]
     },
     "execution_count": 31,
     "metadata": {},
     "output_type": "execute_result"
    }
   ],
   "source": [
    "arg, ma = np.argmax(third_cumulants3), np.max(third_cumulants3)\n",
    "arg, ma"
   ]
  },
  {
   "cell_type": "code",
   "execution_count": 32,
   "metadata": {},
   "outputs": [
    {
     "data": {
      "text/plain": [
       "array([[182, 294, 789],\n",
       "       [182, 789, 294],\n",
       "       [183, 294, 789],\n",
       "       ...,\n",
       "       [794, 794, 787],\n",
       "       [794, 794, 789],\n",
       "       [794, 794, 792]])"
      ]
     },
     "execution_count": 32,
     "metadata": {},
     "output_type": "execute_result"
    }
   ],
   "source": [
    "np.argwhere(third_cumulants>0.1)"
   ]
  },
  {
   "cell_type": "code",
   "execution_count": 35,
   "metadata": {},
   "outputs": [
    {
     "data": {
      "text/plain": [
       "array([[182, 294, 789],\n",
       "       [182, 789, 294],\n",
       "       [183, 294, 789],\n",
       "       ...,\n",
       "       [794, 794, 787],\n",
       "       [794, 794, 789],\n",
       "       [794, 794, 792]])"
      ]
     },
     "execution_count": 35,
     "metadata": {},
     "output_type": "execute_result"
    }
   ],
   "source": [
    "np.argwhere(third_cumulants3>0.1)"
   ]
  },
  {
   "cell_type": "code",
   "execution_count": 39,
   "metadata": {},
   "outputs": [],
   "source": [
    "i = arg // (795*795)\n",
    "j = arg % (795*795) // 795\n",
    "k = arg % 795"
   ]
  },
  {
   "cell_type": "code",
   "execution_count": 40,
   "metadata": {},
   "outputs": [
    {
     "data": {
      "text/plain": [
       "(790, 794, 790)"
      ]
     },
     "execution_count": 40,
     "metadata": {},
     "output_type": "execute_result"
    }
   ],
   "source": [
    "i, j, k"
   ]
  },
  {
   "cell_type": "code",
   "execution_count": 43,
   "metadata": {},
   "outputs": [],
   "source": [
    "third_cumulants_S = third_cumulants"
   ]
  },
  {
   "cell_type": "code",
   "execution_count": 44,
   "metadata": {},
   "outputs": [],
   "source": [
    "# third_cumulants_S[i, j, k]"
   ]
  },
  {
   "cell_type": "code",
   "execution_count": 45,
   "metadata": {},
   "outputs": [
    {
     "data": {
      "text/plain": [
       "(4000, 795)"
      ]
     },
     "execution_count": 45,
     "metadata": {},
     "output_type": "execute_result"
    }
   ],
   "source": [
    "S_centered.shape"
   ]
  },
  {
   "cell_type": "code",
   "execution_count": 46,
   "metadata": {},
   "outputs": [],
   "source": [
    "S_centered = S-S.mean(0)"
   ]
  },
  {
   "cell_type": "code",
   "execution_count": 47,
   "metadata": {},
   "outputs": [
    {
     "data": {
      "text/plain": [
       "(4000, 795)"
      ]
     },
     "execution_count": 47,
     "metadata": {},
     "output_type": "execute_result"
    }
   ],
   "source": [
    "S_centered.shape"
   ]
  },
  {
   "cell_type": "code",
   "execution_count": 48,
   "metadata": {},
   "outputs": [],
   "source": [
    "from scipy.stats import moment"
   ]
  },
  {
   "cell_type": "code",
   "execution_count": 53,
   "metadata": {},
   "outputs": [
    {
     "data": {
      "text/plain": [
       "8.795157191343605e-08"
      ]
     },
     "execution_count": 53,
     "metadata": {},
     "output_type": "execute_result"
    }
   ],
   "source": [
    "i = 0\n",
    "third_cumulants_S[i,i,i]/4000"
   ]
  },
  {
   "cell_type": "code",
   "execution_count": 50,
   "metadata": {},
   "outputs": [
    {
     "data": {
      "text/plain": [
       "array([ 8.79517188e-08,  6.21877376e-08, -4.06208926e-07, -7.63062431e-08,\n",
       "        5.10391480e-08,  1.51184253e-07, -7.88544341e-08,  1.34503097e-07,\n",
       "       -1.67140769e-07,  6.99346430e-08, -1.59511998e-07, -1.10066139e-07,\n",
       "       -1.32619702e-08,  1.37221392e-07, -8.71177548e-08, -1.86691111e-07,\n",
       "       -2.00263841e-07,  7.35720960e-08, -1.95586139e-07,  1.99217311e-07,\n",
       "        4.17467483e-08,  4.04535641e-08,  8.72486225e-08, -1.77733327e-07,\n",
       "        1.64547998e-07,  5.58652609e-08, -2.04645886e-07, -1.18291588e-07,\n",
       "        3.94041102e-08,  9.42345153e-08, -1.82304944e-07,  2.29006687e-07,\n",
       "       -7.36900674e-08, -2.00796126e-08,  6.21920933e-08, -1.41761561e-07,\n",
       "        8.75354331e-08, -1.46703997e-07, -2.33657886e-07, -1.54292351e-07,\n",
       "       -4.05585411e-07, -1.67580453e-07,  2.77958421e-08,  1.57112812e-08,\n",
       "        5.81415307e-08, -9.51740873e-08, -1.07301311e-07, -1.52378760e-07,\n",
       "       -7.19608595e-09,  1.14041214e-07,  5.37354197e-08, -4.00643110e-08,\n",
       "        1.09151181e-07,  2.12880138e-07,  1.04680858e-07,  6.57410197e-08,\n",
       "        7.67215269e-08, -5.35805214e-08, -6.05093575e-08, -7.72542066e-08,\n",
       "        1.14860661e-07, -1.76470849e-07, -1.86462401e-07, -4.79809614e-08,\n",
       "        1.24832894e-07, -2.16632230e-07,  2.19148237e-08, -6.20467304e-08,\n",
       "        1.52553696e-07,  7.44587636e-09, -5.80988662e-08,  1.46448301e-07,\n",
       "        8.53607958e-08,  1.65379973e-07,  1.39789606e-07,  1.42075848e-07,\n",
       "       -1.50757131e-08, -3.81560056e-07, -7.28666691e-08,  1.85776621e-08,\n",
       "        2.58108173e-07,  1.78494837e-08,  3.02899394e-07,  1.54604322e-07,\n",
       "        2.29444026e-07, -9.51042836e-08, -1.11727786e-07, -3.84725567e-08,\n",
       "        1.70938065e-07, -1.63383035e-07,  2.83077839e-07, -2.04976601e-07,\n",
       "        1.35033247e-07,  2.52413969e-07,  8.01631472e-08,  6.90995819e-07,\n",
       "        5.58631541e-07,  2.01718375e-08,  4.04975765e-07, -4.39758985e-09,\n",
       "       -1.22100801e-07,  4.76376272e-08, -3.83809251e-08, -2.18536499e-07,\n",
       "        4.65072381e-09, -4.26716156e-08,  3.69097194e-07, -2.13921552e-07,\n",
       "       -1.71330669e-07, -1.21894331e-07,  8.11302954e-08,  1.48979836e-07,\n",
       "        2.70121103e-09,  8.77323743e-08,  2.04728074e-08,  3.03283713e-07,\n",
       "       -8.89770959e-08,  1.27799808e-07, -1.15666495e-07, -2.14848640e-07,\n",
       "       -3.14369970e-07,  2.19987186e-07, -2.38520272e-07,  2.61585569e-07,\n",
       "        4.43392478e-09, -1.25001009e-07, -2.64901445e-07,  4.95120069e-08,\n",
       "       -4.89113575e-07, -2.36035788e-07,  3.60530692e-07,  2.30903211e-07,\n",
       "        1.04776589e-07,  9.24574266e-08,  1.90416728e-07, -3.95595464e-07,\n",
       "        7.93004560e-08,  2.11130043e-07,  1.33772446e-07,  4.45776038e-08,\n",
       "        4.24897948e-08, -9.24086621e-08,  2.31134635e-07, -2.92101792e-08,\n",
       "       -1.02571768e-07,  1.23956852e-07, -2.87637278e-07,  1.62094821e-07,\n",
       "        5.19338741e-08, -3.69584626e-07,  2.83431039e-08,  1.00198399e-07,\n",
       "       -5.49946037e-07, -1.44734059e-07, -2.68117248e-07,  3.24467948e-07,\n",
       "       -2.08633182e-07, -1.74893614e-07,  8.19069257e-08, -3.63424419e-08,\n",
       "       -1.85213068e-07, -3.52447330e-07,  2.99213866e-07,  1.09337627e-07,\n",
       "       -1.35698377e-08, -2.00045367e-08,  4.83667542e-08,  6.95503957e-08,\n",
       "       -1.89131654e-07, -2.10615468e-07, -2.99061789e-08,  5.05619049e-08,\n",
       "       -2.69186017e-07, -1.19646316e-07, -1.47319000e-07,  4.14711650e-07,\n",
       "       -3.35158603e-07, -2.97584904e-07,  4.05276879e-08, -2.15912806e-07,\n",
       "        1.97195380e-08,  2.42058945e-07, -7.15068154e-07,  7.34717787e-07,\n",
       "       -1.18623333e-07,  3.68505653e-07,  1.62963914e-07,  5.14254772e-08,\n",
       "        1.88115408e-07, -1.02048496e-07,  2.31272512e-08,  2.80194655e-07,\n",
       "        1.00764318e-07,  2.33294671e-07, -1.73742350e-07, -8.74954083e-08,\n",
       "       -1.08541315e-07,  3.44945164e-07, -2.17158956e-07,  6.32634780e-08,\n",
       "        1.45808997e-07, -3.11225250e-07, -2.87186225e-07, -2.48768913e-07,\n",
       "        2.36337300e-07, -1.02178653e-07, -1.68644149e-07,  2.04738257e-07,\n",
       "        5.58031900e-07,  1.27655585e-06,  1.32333184e-06, -2.55546240e-07,\n",
       "        4.59067650e-07,  1.35778771e-06,  2.09655445e-06,  4.78118750e-07,\n",
       "        3.26369047e-07, -1.73355360e-07, -5.77917092e-07, -1.18955636e-08,\n",
       "        7.98402482e-08, -3.11153023e-08,  4.78706248e-08,  2.54392887e-07,\n",
       "        1.23216012e-07,  2.18569909e-08, -2.48894434e-08,  9.85689539e-08,\n",
       "        2.42877807e-08,  1.50401888e-07, -2.64989012e-07, -3.83048274e-07,\n",
       "       -9.69078116e-08, -4.96033126e-09,  9.78525577e-07,  1.12222529e-06,\n",
       "        7.74226748e-07, -2.12597783e-07,  7.94504672e-07,  4.17522216e-07,\n",
       "       -3.03900578e-07,  1.45780484e-06,  1.07160126e-07, -8.84788136e-08,\n",
       "       -6.13940927e-07, -7.14459134e-07,  1.39390039e-07,  3.41666691e-07,\n",
       "        4.20689872e-07,  2.76234744e-07, -1.96470808e-07, -6.38276632e-08,\n",
       "        2.18958874e-07, -6.56074217e-09, -8.43881836e-08,  6.29652632e-08,\n",
       "        1.26826990e-07,  2.72977928e-07, -1.87981293e-08,  1.98208355e-07,\n",
       "       -2.25698074e-07, -5.44477317e-08,  2.63600697e-07,  4.02567025e-07,\n",
       "        3.93928246e-07, -1.11643214e-06, -1.50730580e-06, -8.32191063e-08,\n",
       "       -8.30459726e-07,  3.20209551e-07, -9.77502509e-07, -1.01214164e-06,\n",
       "       -6.77382275e-07, -1.31014497e-06, -2.92654050e-07,  1.66718166e-07,\n",
       "        3.36822524e-07,  3.83184933e-08, -2.29324854e-07,  1.76385427e-07,\n",
       "        1.17376189e-07, -2.53906535e-07,  5.16404945e-08,  4.30363762e-08,\n",
       "       -6.61923565e-08,  1.94422853e-07, -1.40670039e-07, -7.33719844e-07,\n",
       "       -5.05012167e-07, -1.72241784e-07, -6.29296608e-07, -4.25227171e-07,\n",
       "       -2.39855763e-06, -1.82179053e-06, -3.33784851e-06, -1.04978267e-06,\n",
       "        5.72143790e-07, -1.72490616e-06, -6.46983267e-07, -2.31755666e-06,\n",
       "       -1.35001994e-06, -2.14331385e-06, -7.83587168e-08, -3.75697226e-07,\n",
       "        7.33186710e-07,  2.05193771e-07,  1.37464482e-07, -1.26573298e-07,\n",
       "        1.15053574e-07, -1.18192716e-07, -1.76525123e-08, -1.36648381e-07,\n",
       "       -1.90996321e-08, -1.88303773e-07, -2.61614559e-07, -6.65888592e-07,\n",
       "       -8.44478791e-07, -2.60296531e-07, -7.18821866e-07, -5.77141407e-07,\n",
       "       -5.79517564e-06, -4.86178124e-06, -1.65446068e-06, -2.18047967e-06,\n",
       "        5.52063852e-07, -1.06877349e-06, -4.97299709e-07, -1.41075338e-06,\n",
       "       -1.33623564e-06, -4.57040983e-07, -4.84191247e-08, -4.18430375e-08,\n",
       "        4.45589912e-08,  1.58944118e-07,  9.01542876e-08,  1.82947133e-07,\n",
       "       -1.20639157e-07,  1.67104623e-08, -6.81155328e-08, -6.08163475e-08,\n",
       "       -2.52333876e-07, -3.77133773e-07, -1.01355033e-06, -1.42236831e-06,\n",
       "        2.50839321e-07, -1.28308068e-06, -8.89137596e-07, -2.47304365e-06,\n",
       "       -2.99445333e-06, -3.95715051e-06,  2.39966596e-07, -5.48717935e-07,\n",
       "       -1.77988895e-07, -3.78680284e-07,  2.58189772e-07, -4.35761706e-07,\n",
       "       -1.07131154e-06, -8.46723538e-07,  2.08290682e-08,  1.82239489e-07,\n",
       "        5.79766279e-08, -7.58434595e-08, -6.70000162e-08, -2.12004807e-07,\n",
       "       -4.28316547e-08,  1.73854929e-07, -4.04593379e-07,  3.30139223e-08,\n",
       "        3.60310850e-07, -3.19439863e-07, -1.12435919e-06, -9.70417204e-07,\n",
       "       -1.34091476e-06, -1.53392352e-06, -4.14225241e-07, -1.90990272e-06,\n",
       "       -2.53790017e-06, -1.52471239e-06, -1.87244922e-07,  6.31137425e-07,\n",
       "        2.25136858e-07,  4.49935158e-07, -2.25845355e-07, -3.15746945e-07,\n",
       "       -7.67044753e-07, -1.99968966e-07,  1.18571755e-07,  4.22771649e-07,\n",
       "        1.38749797e-07,  1.47567889e-07,  5.89614890e-09,  4.70951278e-09,\n",
       "       -5.09643634e-08, -8.49989590e-08,  2.34056809e-08, -1.06031479e-07,\n",
       "        1.85034793e-07, -3.55123888e-07, -8.33313777e-07, -3.89778791e-07,\n",
       "       -1.38934411e-06, -8.77118453e-07, -9.47775220e-07, -2.60840920e-07,\n",
       "       -1.12777889e-06, -7.20698381e-08,  1.31455408e-06, -3.59429720e-07,\n",
       "        9.96174322e-07,  6.71830776e-07,  7.98826107e-08,  8.82195707e-07,\n",
       "       -3.34944332e-07, -1.49557522e-07,  2.84219027e-07,  8.40058902e-08,\n",
       "        1.39430043e-07,  2.17139771e-07,  1.47542281e-07, -6.07360704e-08,\n",
       "       -2.52271434e-07,  1.90190022e-07,  1.35806062e-07, -3.57998928e-08,\n",
       "       -9.87849234e-08, -2.41730600e-08, -9.30958890e-07, -1.08968197e-06,\n",
       "       -1.56538476e-06, -1.57295972e-06, -1.26431061e-07,  5.99845293e-07,\n",
       "        6.16483192e-07,  1.88055935e-06,  1.23436178e-06, -8.28093007e-08,\n",
       "        1.27179078e-06,  1.85515955e-06, -2.52611265e-08,  2.44339049e-07,\n",
       "        6.78774583e-08, -2.27059871e-07,  1.73457423e-07, -4.58802702e-08,\n",
       "       -2.15358696e-07, -2.24921322e-07, -2.69213238e-08, -7.97479629e-08,\n",
       "        4.13942729e-07,  4.34349055e-08,  1.33617317e-09, -1.37274805e-08,\n",
       "       -3.38551530e-07, -1.32987196e-07, -1.18449771e-06, -1.65954157e-06,\n",
       "       -3.82727058e-06, -4.42122382e-06, -2.53833582e-06, -2.12164309e-06,\n",
       "       -1.15162027e-06,  3.09166467e-07,  3.96067065e-07,  6.23298945e-07,\n",
       "        1.59315300e-06,  1.33096603e-06, -7.19915477e-07, -8.73504860e-07,\n",
       "       -3.95298741e-07, -7.16978121e-08, -7.01267808e-08, -6.13726030e-08,\n",
       "        4.90160517e-08, -2.01510915e-07, -1.02549187e-07, -1.53192644e-07,\n",
       "        2.20463761e-07,  5.02925985e-08,  1.20161943e-07,  2.25968186e-08,\n",
       "        1.21472922e-07,  3.60114171e-07, -1.10390079e-06, -2.01036755e-06,\n",
       "       -5.12642191e-06, -6.85262012e-06, -4.15991053e-06, -5.22370010e-06,\n",
       "       -5.26948816e-06, -2.68678946e-06, -5.52280994e-07,  1.72225987e-06,\n",
       "        7.03786441e-07, -1.08452002e-06, -4.12225603e-07, -1.25235272e-06,\n",
       "       -4.41271823e-07, -1.41556143e-07, -1.35755052e-08,  1.76244583e-07,\n",
       "        3.39048739e-07, -6.90482560e-09, -6.62190658e-08,  5.92977045e-08,\n",
       "       -5.59000632e-08, -1.34295803e-07, -1.49209370e-07,  2.77476857e-07,\n",
       "       -5.28798267e-08, -2.00971524e-08, -3.45628052e-07, -1.96751034e-06,\n",
       "       -2.53234157e-06, -4.80856170e-06, -5.07983304e-06, -5.62978903e-06,\n",
       "       -6.21428808e-06, -3.32183799e-06, -5.03942886e-07, -5.23519532e-07,\n",
       "        3.81993857e-07,  6.37349373e-08,  3.44041865e-07, -2.40127065e-07,\n",
       "       -4.37862404e-08,  3.18614667e-07,  1.10200752e-07,  2.59668440e-07,\n",
       "        5.60949260e-08,  1.51172905e-08, -1.92523117e-07, -8.53800657e-08,\n",
       "        2.29311624e-07, -2.04560877e-07,  7.39991890e-08, -1.78297768e-07,\n",
       "        1.21631459e-07,  3.95275634e-07, -2.83227990e-07, -4.75602548e-07,\n",
       "       -1.02593549e-06, -1.06696950e-06, -1.08771007e-06, -3.61254280e-07,\n",
       "       -2.10106305e-06, -1.53976634e-06, -3.80423160e-07, -1.61113761e-07,\n",
       "        4.26507455e-07, -7.42153532e-07, -2.59188596e-07,  3.20579943e-07,\n",
       "        9.80355992e-08, -5.50281698e-07,  1.21082621e-07,  9.61240545e-08,\n",
       "        1.25568647e-07, -2.92098523e-08, -2.12724586e-07,  9.45381089e-08,\n",
       "       -6.83939732e-08, -9.23210237e-08, -1.81134610e-07,  2.89717832e-07,\n",
       "       -4.60689655e-08,  3.74097979e-08,  1.72357034e-07, -3.18319991e-07,\n",
       "       -1.28653852e-07,  2.18853089e-07, -3.46370967e-07,  5.65716903e-07,\n",
       "       -3.48453455e-07, -5.97084906e-08, -1.55470914e-07, -5.98648228e-07,\n",
       "        4.44197553e-07,  2.82374145e-07, -3.13799234e-07,  2.83639963e-07,\n",
       "       -1.61064108e-07, -5.81455879e-07,  6.11825257e-08, -1.52632850e-07,\n",
       "        3.10238761e-07,  9.65599511e-08, -1.25977891e-07, -1.17344694e-08,\n",
       "       -1.32442352e-07,  1.45895484e-07,  1.33212183e-07, -8.91906922e-08,\n",
       "        1.66113793e-07, -4.98796524e-08, -2.71055285e-07,  1.93870406e-07,\n",
       "        1.38197507e-07,  5.76947230e-07,  7.63577816e-07,  5.00831334e-07,\n",
       "        9.33531055e-07,  9.13733231e-07,  6.06909737e-07,  6.55947403e-08,\n",
       "       -4.24028627e-07, -5.78479330e-07, -3.30833757e-07, -2.04732288e-07,\n",
       "        4.93424182e-07,  1.61160951e-08,  3.48952192e-08,  3.23155490e-07,\n",
       "       -1.67698758e-07, -1.34721589e-07, -4.11681498e-08,  1.73205393e-07,\n",
       "        1.67411670e-07,  5.99986834e-08, -3.74272560e-08, -1.08008251e-07,\n",
       "       -1.97678133e-07,  3.31580253e-07,  2.56870067e-07, -5.02407929e-08,\n",
       "        3.97035677e-07,  1.40490812e-07,  7.19791046e-07,  1.64299905e-07,\n",
       "        5.59708099e-07,  9.44745466e-07, -7.16450529e-07, -4.14761502e-07,\n",
       "        1.51782146e-07, -1.09595703e-06, -7.97182963e-07, -4.06686212e-07,\n",
       "        3.57609267e-08,  1.87208300e-07,  1.06228583e-07,  1.29717804e-07,\n",
       "        2.40826239e-07,  1.74285034e-07,  2.90723051e-07, -1.52252582e-07,\n",
       "       -1.03690191e-07,  2.07314145e-07, -2.19602924e-07, -3.61791507e-07,\n",
       "        8.27441227e-08,  3.58179449e-07, -8.73515944e-08, -2.92097639e-07,\n",
       "        6.15798569e-07,  4.90749812e-07,  6.12098916e-07,  1.08938548e-06,\n",
       "        7.16034322e-07, -5.71506519e-07,  2.27384831e-07, -4.57330742e-07,\n",
       "       -1.26652037e-06, -1.23205473e-06, -8.64241770e-07, -4.43181847e-07,\n",
       "        2.27460859e-08, -9.79170451e-08,  1.03166322e-07,  1.16734995e-07,\n",
       "       -5.85443836e-08, -2.13475300e-08, -2.81120435e-07, -1.63338399e-07,\n",
       "        1.72668550e-07, -6.36764739e-08, -7.19926092e-08, -9.22861503e-08,\n",
       "        2.79035239e-09,  8.21703310e-08,  5.95100687e-07,  1.14232634e-07,\n",
       "       -2.28206446e-07,  1.42495296e-07, -1.31604352e-07,  1.23042909e-07,\n",
       "       -6.32244195e-08,  2.24832391e-07,  6.47736726e-08, -2.80025802e-07,\n",
       "       -2.63475357e-07, -6.82798714e-07,  1.89752882e-07, -1.30208349e-07,\n",
       "       -2.49646401e-08,  7.53246781e-08, -6.91360214e-08,  1.95770767e-07,\n",
       "        1.23178850e-07,  4.15071412e-07,  3.60660621e-08,  1.02985524e-07,\n",
       "       -7.24249389e-08, -1.29278410e-08, -3.58182000e-08, -1.05195319e-08,\n",
       "        3.49282232e-07, -1.93387031e-08,  1.35228305e-07, -3.90791186e-08,\n",
       "        1.41845806e-08,  1.42624998e-07,  3.13642488e-07,  3.36964860e-07,\n",
       "        3.76235477e-07,  1.15298249e-07, -3.33758351e-07, -1.99452955e-07,\n",
       "       -2.42870357e-07, -3.28899858e-08, -5.04549078e-08, -1.74908536e-07,\n",
       "        2.04526302e-07, -1.63220633e-07, -1.78704923e-07, -3.54564065e-07,\n",
       "       -2.93567410e-07, -2.44404408e-08, -7.49206208e-08, -1.14890447e-07,\n",
       "        4.60497169e-08,  2.70583733e-08,  5.74051633e-08,  1.10754911e-07,\n",
       "       -2.88690700e-07,  2.52371422e-08, -5.53549704e-08, -1.91984640e-07,\n",
       "        4.02463343e-07,  1.37233130e-07,  3.23067269e-07, -1.09106175e-07,\n",
       "        3.41254264e-07,  2.51822144e-07,  3.71738366e-07, -1.30237467e-07,\n",
       "        1.85146765e-09,  2.12942297e-07, -3.51051625e-07, -7.27359009e-08,\n",
       "       -1.10317146e-07, -3.02894989e-07,  1.73935092e-07, -1.35108010e-07,\n",
       "       -2.91345827e-07, -2.90712743e-09,  8.49981474e-10,  7.67673356e-08,\n",
       "       -6.14939850e-08,  4.82237006e-08, -7.70247723e-08, -5.48606316e-08,\n",
       "        1.58852572e-07,  3.35553985e-08, -1.32731568e-08,  8.45142125e-08,\n",
       "       -3.24802500e-07, -1.35468952e-07,  2.95174772e-07, -1.56201452e-07,\n",
       "        2.09599769e-08, -3.13512686e-07,  1.31839712e-07, -4.30383160e-08,\n",
       "       -3.73663056e-09, -1.09044564e-07, -1.75578414e-08, -2.44537013e-08,\n",
       "       -3.93456787e-08, -2.98155015e-07, -1.83163920e-07,  9.85426709e-08,\n",
       "       -1.10734810e-07,  7.97799515e-08, -2.61934247e-07,  1.48722288e-08,\n",
       "        1.40161399e-06, -3.72619547e-06,  1.24059894e-04, -6.94443224e-05,\n",
       "       -1.18717899e-05, -1.07472173e-04,  8.41516248e-06,  5.28336705e-06,\n",
       "        1.25279432e-04, -2.98877450e-04, -2.30710561e-04], dtype=float32)"
      ]
     },
     "execution_count": 50,
     "metadata": {},
     "output_type": "execute_result"
    }
   ],
   "source": [
    "moment(S, moment=3)"
   ]
  },
  {
   "cell_type": "code",
   "execution_count": 54,
   "metadata": {},
   "outputs": [],
   "source": [
    "# np.diag(third_cumulants_S)/2000"
   ]
  },
  {
   "cell_type": "code",
   "execution_count": 55,
   "metadata": {
    "scrolled": false
   },
   "outputs": [
    {
     "data": {
      "image/png": "[encoded data removed]",
      "text/plain": [
       "<Figure size 600x400 with 1 Axes>"
      ]
     },
     "metadata": {
      "needs_background": "light"
     },
     "output_type": "display_data"
    },
    {
     "ename": "NameError",
     "evalue": "name 'res2' is not defined",
     "output_type": "error",
     "traceback": [
      "\u001b[0;31m---------------------------------------------------------------------------\u001b[0m",
      "\u001b[0;31mNameError\u001b[0m                                 Traceback (most recent call last)",
      "\u001b[0;32m<ipython-input-55-bd57c7563cb2>\u001b[0m in \u001b[0;36m<module>\u001b[0;34m\u001b[0m\n\u001b[1;32m      3\u001b[0m \u001b[0mplt\u001b[0m\u001b[0;34m.\u001b[0m\u001b[0mhist\u001b[0m\u001b[0;34m(\u001b[0m\u001b[0mS2\u001b[0m\u001b[0;34m[\u001b[0m\u001b[0;34m:\u001b[0m\u001b[0;34m,\u001b[0m \u001b[0mind\u001b[0m\u001b[0;34m]\u001b[0m\u001b[0;34m,\u001b[0m \u001b[0mbins\u001b[0m\u001b[0;34m=\u001b[0m\u001b[0;36m30\u001b[0m\u001b[0;34m)\u001b[0m\u001b[0;34m;\u001b[0m\u001b[0;34m\u001b[0m\u001b[0;34m\u001b[0m\u001b[0m\n\u001b[1;32m      4\u001b[0m \u001b[0mplt\u001b[0m\u001b[0;34m.\u001b[0m\u001b[0mshow\u001b[0m\u001b[0;34m(\u001b[0m\u001b[0;34m)\u001b[0m\u001b[0;34m\u001b[0m\u001b[0;34m\u001b[0m\u001b[0m\n\u001b[0;32m----> 5\u001b[0;31m \u001b[0mplt\u001b[0m\u001b[0;34m.\u001b[0m\u001b[0mhist\u001b[0m\u001b[0;34m(\u001b[0m\u001b[0mres2\u001b[0m\u001b[0;34m[\u001b[0m\u001b[0;34m:\u001b[0m\u001b[0;34m,\u001b[0m \u001b[0mind\u001b[0m\u001b[0;34m]\u001b[0m\u001b[0;34m,\u001b[0m \u001b[0mbins\u001b[0m\u001b[0;34m=\u001b[0m\u001b[0;36m30\u001b[0m\u001b[0;34m)\u001b[0m\u001b[0;34m;\u001b[0m\u001b[0;34m\u001b[0m\u001b[0;34m\u001b[0m\u001b[0m\n\u001b[0m\u001b[1;32m      6\u001b[0m \u001b[0mplt\u001b[0m\u001b[0;34m.\u001b[0m\u001b[0mshow\u001b[0m\u001b[0;34m(\u001b[0m\u001b[0;34m)\u001b[0m\u001b[0;34m\u001b[0m\u001b[0;34m\u001b[0m\u001b[0m\n\u001b[1;32m      7\u001b[0m \u001b[0mplt\u001b[0m\u001b[0;34m.\u001b[0m\u001b[0mhist\u001b[0m\u001b[0;34m(\u001b[0m\u001b[0mnres2\u001b[0m\u001b[0;34m[\u001b[0m\u001b[0;34m:\u001b[0m\u001b[0;34m,\u001b[0m \u001b[0mind\u001b[0m\u001b[0;34m]\u001b[0m\u001b[0;34m,\u001b[0m \u001b[0mbins\u001b[0m \u001b[0;34m=\u001b[0m \u001b[0;36m50\u001b[0m\u001b[0;34m)\u001b[0m\u001b[0;34m;\u001b[0m\u001b[0;34m\u001b[0m\u001b[0;34m\u001b[0m\u001b[0m\n",
      "\u001b[0;31mNameError\u001b[0m: name 'res2' is not defined"
     ]
    }
   ],
   "source": [
    "ind = -4\n",
    "rcParams['figure.dpi'] = 100\n",
    "plt.hist(S2[:, ind], bins=30);\n",
    "plt.show()\n",
    "plt.hist(res2[:, ind], bins=30);\n",
    "plt.show()\n",
    "plt.hist(nres2[:, ind], bins = 50);\n",
    "plt.show()\n",
    "plt.hist(nfin[:, ind], bins = 50); \n",
    "plt.show()\n",
    "plt.hist(ufin[:, ind], bins = 50); \n",
    "plt.show()\n",
    "plt.hist(PS_fin[:, ind], bins = 50);  \n",
    "plt.show()"
   ]
  },
  {
   "cell_type": "code",
   "execution_count": 1201,
   "metadata": {},
   "outputs": [],
   "source": [
    "import sklearn"
   ]
  },
  {
   "cell_type": "code",
   "execution_count": 1202,
   "metadata": {},
   "outputs": [],
   "source": [
    "from sklearn.decomposition import PCA"
   ]
  },
  {
   "cell_type": "code",
   "execution_count": 1203,
   "metadata": {},
   "outputs": [],
   "source": [
    "def get_par(S, mean):\n",
    "    new_S = S - mean\n",
    "    cov = new_S.T @ new_S\n",
    "    U, sigma, V = np.linalg.svd(cov)\n",
    "    return U, sigma\n",
    "\n",
    "def get_new_S(S, U, mean):\n",
    "    new = (S-mean)@U\n",
    "    return new\n",
    "\n",
    "def get_inverse_new_S(V, U, mean):\n",
    "#     S = (U @ V.T).T+mean\n",
    "    S = V@np.linalg.inv(U)+mean\n",
    "#     S = V@U2_temp.T*np.sqrt(sigma1)@U1.T*+mean\n",
    "    return S"
   ]
  },
  {
   "cell_type": "code",
   "execution_count": 1221,
   "metadata": {},
   "outputs": [],
   "source": [
    "ebs = 0.\n",
    "\n",
    "mean1 = S1.mean(0)\n",
    "mean2 = S2.mean(0)\n",
    "mmean = S.mean(0)\n",
    "\n",
    "K = 300\n",
    "transPSA1 = PCA(n_components = K)\n",
    "# transPSA2 = PCA(n_components = K)\n",
    "# transPSA = PCA(n_components = K)\n",
    "\n",
    "# PS1 = transPSA1.fit_transform(S1)\n",
    "# PS2 = transPSA1.fit_transform(S2)\n",
    "SPS = transPSA.fit_transform(S-mmean)\n",
    "SPS1 = transPSA.transform(S1-mmean)\n",
    "SPS2 = transPSA.transform(S2-mmean)\n",
    "\n",
    "# SPS = S\n",
    "# SPS1 = S1\n",
    "# SPS2 = S2\n",
    "\n",
    "mean = 0\n",
    "\n",
    "# U1, sigma1 = get_par(SPS1, mean)\n",
    "# U2, sigma2 = get_par(SPS2, mean)\n",
    "U, _ = get_par(SPS, mean)\n",
    "\n",
    "# U_temp = U1*(1/np.sqrt(sigma1+ebs))\n",
    "\n",
    "# S2_temp = (SPS2-mean)@U_temp\n",
    "# U2_temp, sigma2_temp = get_par(S2_temp, 0)\n",
    "# U = U_temp@U2_temp\n",
    "\n",
    "# PS11 = get_new_S(SPS1, U_temp, mean)\n",
    "# PS111 = get_new_S(PS11, U2_temp, 0)\n",
    "# *(1/np.sqrt(sigma2+0.01))\n",
    "\n",
    "PS1 = get_new_S(SPS1, U, mean)\n",
    "PS2 = get_new_S(SPS2, U, mean)\n",
    "PS = get_new_S(SPS, U, mean)\n",
    "\n",
    "\n",
    "# PS1 = S1\n",
    "# PS2 = S2\n",
    "\n",
    "#inverse\n",
    "# S1 = U @ PS1.T+mean"
   ]
  },
  {
   "cell_type": "code",
   "execution_count": 1222,
   "metadata": {},
   "outputs": [],
   "source": [
    "def constract_U(S1, S2, S):\n",
    "    \n",
    "    mean1 = S1.mean(0)\n",
    "    mean2 = S2.mean(0)\n",
    "    mean = S.mean(0)\n",
    "    \n",
    "    SPS = S\n",
    "    SPS1 = S1\n",
    "    SPS2 = S2\n",
    "\n",
    "    U1, sigma1 = get_par(SPS1, mean)\n",
    "    U2, sigma2 = get_par(SPS2, mean)\n",
    "    U, _ = get_par(SPS, mean)\n",
    "\n",
    "    U_temp = U1*(1/np.sqrt(sigma1+ebs))\n",
    "\n",
    "    S2_temp = (SPS2-mean)@U_temp\n",
    "    U2_temp, sigma2_temp = get_par(S2_temp, 0)\n",
    "    U = U_temp@U2_temp\n",
    "\n",
    "    # PS11 = get_new_S(SPS1, U_temp, mean)\n",
    "    # PS111 = get_new_S(PS11, U2_temp, 0)\n",
    "    # *(1/np.sqrt(sigma2+0.01))\n",
    "\n",
    "    PS1 = get_new_S(SPS1, U, mean)\n",
    "    PS2 = get_new_S(SPS2, U, mean)\n",
    "    PS = get_new_S(SPS, U, mean)\n",
    "    \n",
    "    return U"
   ]
  },
  {
   "cell_type": "code",
   "execution_count": 1223,
   "metadata": {},
   "outputs": [],
   "source": [
    "# U1 = constract_U(S1, S2, S)\n",
    "# U2 = constract_U(S2, S1, S)"
   ]
  },
  {
   "cell_type": "code",
   "execution_count": 1224,
   "metadata": {},
   "outputs": [],
   "source": [
    "# U = (U1+U2)\n",
    "# # U=U2\n",
    "# PS1 = get_new_S(SPS1, U, mean)\n",
    "# PS2 = get_new_S(SPS2, U, mean)\n",
    "# PS = get_new_S(SPS, U, mean)"
   ]
  },
  {
   "cell_type": "code",
   "execution_count": 1225,
   "metadata": {},
   "outputs": [],
   "source": [
    "# # K = 700\n",
    "# transPSA1 = PCA(n_components = K)\n",
    "# transPSA2 = PCA(n_components = K)\n",
    "# transPSA = PCA(n_components = K)\n",
    "\n",
    "# # PS1 = transPSA1.fit_transform(S1)\n",
    "# # PS2 = transPSA1.fit_transform(S2)\n",
    "# # PS = transPSA.fit_transform(S)\n",
    "# # PS1 = transPSA.transform(S1)\n",
    "# # PS2 = transPSA.transform(S2)\n",
    "\n",
    "\n",
    "# mean1 = S1.mean(0)\n",
    "# mean2 = S1.mean(0)\n",
    "# mean = S.mean(0)\n",
    "\n",
    "# U1, sigma1 = get_par(S1, mean1)\n",
    "# U2, sigma2 = get_par(S2, mean2)\n",
    "# U, _ = get_par(S, mean)\n",
    "\n",
    "# U_temp = (1/np.sqrt(sigma1))*U1\n",
    "\n",
    "# S2_temp = (S2-mean2)@U_temp\n",
    "# U2_temp, sigma2_temp = get_par(S2_temp, 0)\n",
    "# # U = U_temp@U2_temp\n",
    "\n",
    "# PS1 = get_new_S(S1, U1, mean1)\n",
    "# PS2 = get_new_S(S2, U2, mean2)\n",
    "# PS = get_new_S(S, U, mean)\n",
    "\n",
    "\n",
    "# # PS1 = S1\n",
    "# # PS2 = S2\n",
    "\n",
    "# #inverse\n",
    "# # S1 = U @ PS1.T+mean"
   ]
  },
  {
   "cell_type": "code",
   "execution_count": 1226,
   "metadata": {},
   "outputs": [
    {
     "data": {
      "text/plain": [
       "array([ 2.45097389e+01, -9.25667584e-02,  8.73574913e-02,  1.45671278e-01,\n",
       "       -2.42085755e-02, -1.08374432e-01,  5.84921390e-02, -3.18003446e-02,\n",
       "        1.02770925e-01, -2.75121629e-02, -4.11335491e-02,  6.27193376e-02,\n",
       "        6.85096607e-02,  4.38363887e-02,  5.44391423e-02, -8.42311233e-03,\n",
       "        7.84622412e-03,  4.05520424e-02, -3.90711203e-02,  6.87744319e-02],\n",
       "      dtype=float32)"
      ]
     },
     "execution_count": 1226,
     "metadata": {},
     "output_type": "execute_result"
    }
   ],
   "source": [
    "(PS1.T@PS1)[0][:20]"
   ]
  },
  {
   "cell_type": "code",
   "execution_count": 1227,
   "metadata": {},
   "outputs": [
    {
     "data": {
      "text/plain": [
       "array([ 2.4637890e+01,  9.2544228e-02, -8.7354928e-02, -1.4568377e-01,\n",
       "        2.4205081e-02,  1.0837498e-01, -5.8496475e-02,  3.1814031e-02,\n",
       "       -1.0278164e-01,  2.7519837e-02,  4.1137092e-02, -6.2718831e-02,\n",
       "       -6.8514436e-02, -4.3832064e-02, -5.4447241e-02,  8.4277615e-03,\n",
       "       -7.8492798e-03, -4.0550880e-02,  3.9070413e-02, -6.8774879e-02],\n",
       "      dtype=float32)"
      ]
     },
     "execution_count": 1227,
     "metadata": {},
     "output_type": "execute_result"
    }
   ],
   "source": [
    "(PS2.T@PS2)[0][:20]"
   ]
  },
  {
   "cell_type": "code",
   "execution_count": 1228,
   "metadata": {},
   "outputs": [
    {
     "data": {
      "text/plain": [
       "array([ 4.9147591e+01, -1.0281801e-06,  0.0000000e+00, -5.9604645e-08,\n",
       "       -3.2968819e-07, -2.0861626e-07,  2.9802322e-07,  1.8998981e-07,\n",
       "       -2.6822090e-07,  1.7881393e-07], dtype=float32)"
      ]
     },
     "execution_count": 1228,
     "metadata": {},
     "output_type": "execute_result"
    }
   ],
   "source": [
    "(PS.T@PS)[0][:10]"
   ]
  },
  {
   "cell_type": "code",
   "execution_count": 1229,
   "metadata": {},
   "outputs": [],
   "source": [
    "TR1 = PS\n",
    "TR2 = PS\n",
    "TRF = PS"
   ]
  },
  {
   "cell_type": "code",
   "execution_count": 1230,
   "metadata": {},
   "outputs": [],
   "source": [
    "import multiprocessing\n",
    "pool = multiprocessing.Pool(200)\n",
    "res1 = np.array(pool.map(f, zip(PS1.T, TR1.T))).T\n",
    "res2 = np.array(pool.map(f, zip(PS2.T, TR2.T))).T"
   ]
  },
  {
   "cell_type": "code",
   "execution_count": 1231,
   "metadata": {},
   "outputs": [
    {
     "data": {
      "text/plain": [
       "((2000, 80), (2000, 80))"
      ]
     },
     "execution_count": 1231,
     "metadata": {},
     "output_type": "execute_result"
    }
   ],
   "source": [
    "res1.shape, res2.shape"
   ]
  },
  {
   "cell_type": "code",
   "execution_count": 1232,
   "metadata": {},
   "outputs": [],
   "source": [
    "import scipy\n",
    "from scipy.stats import norm"
   ]
  },
  {
   "cell_type": "code",
   "execution_count": 1233,
   "metadata": {},
   "outputs": [],
   "source": [
    "rv = norm()"
   ]
  },
  {
   "cell_type": "code",
   "execution_count": 1234,
   "metadata": {},
   "outputs": [],
   "source": [
    "nres1 = np.clip(rv.ppf(res1), -10, 10)\n",
    "nres2 =  np.clip(rv.ppf(res2), -10, 10)"
   ]
  },
  {
   "cell_type": "code",
   "execution_count": 1235,
   "metadata": {},
   "outputs": [
    {
     "data": {
      "text/plain": [
       "((2000, 80), (2000, 80))"
      ]
     },
     "execution_count": 1235,
     "metadata": {},
     "output_type": "execute_result"
    }
   ],
   "source": [
    "nres2.shape, nres1.shape"
   ]
  },
  {
   "cell_type": "code",
   "execution_count": 1236,
   "metadata": {},
   "outputs": [],
   "source": [
    "nfin = 1/np.sqrt(2)*nres1+(1/np.sqrt(2))*nres2\n",
    "\n",
    "ufin = rv.cdf(nfin)\n",
    "\n",
    "fin = np.array(pool.map(g, zip(TRF.T, ufin.T))).T\n",
    "\n",
    "# PS_fin = transPSA.inverse_transform(fin)\n",
    "\n",
    "# PS_fin = fin\n",
    "\n",
    "PS_fin = get_inverse_new_S(fin, U, mean) \n",
    "\n",
    "PS_fin = transPSA.inverse_transform(PS_fin)\n",
    "\n",
    "PS_fin +=mmean"
   ]
  },
  {
   "cell_type": "code",
   "execution_count": 1237,
   "metadata": {},
   "outputs": [
    {
     "name": "stdout",
     "output_type": "stream",
     "text": [
      "{'nll': 0.10167340134382248, 'loss': 0.10167340134382248, 'accuracy': 97.285}\n",
      "{'nll': 0.12054190425872803, 'loss': 0.12054190425872803, 'accuracy': 96.51}\n"
     ]
    }
   ],
   "source": [
    "B = []\n",
    "B.append(list(model1.parameters())[-1].data.numpy())\n",
    "B.append(list(model2.parameters())[-1].data.numpy())\n",
    "B = torch.tensor(np.array(B))\n",
    "\n",
    "model_inv = get_model(PS_fin, B, architecture)\n",
    "\n",
    "test(model_inv)"
   ]
  },
  {
   "cell_type": "code",
   "execution_count": 1173,
   "metadata": {},
   "outputs": [
    {
     "name": "stdout",
     "output_type": "stream",
     "text": [
      "{'nll': 0.013226513332128525, 'loss': 0.013226513332128525, 'accuracy': 99.80666666666667}\n",
      "{'nll': 0.059089827513694765, 'loss': 0.059089827513694765, 'accuracy': 98.14}\n"
     ]
    }
   ],
   "source": [
    "test(model1)"
   ]
  },
  {
   "cell_type": "code",
   "execution_count": 1108,
   "metadata": {},
   "outputs": [
    {
     "name": "stdout",
     "output_type": "stream",
     "text": [
      "{'nll': 0.0429922171096007, 'loss': 0.0429922171096007, 'accuracy': 99.02166666666666}\n",
      "{'nll': 0.06919561448097229, 'loss': 0.06919561448097229, 'accuracy': 97.81}\n"
     ]
    }
   ],
   "source": [
    "test(model1)"
   ]
  },
  {
   "cell_type": "code",
   "execution_count": 992,
   "metadata": {},
   "outputs": [
    {
     "name": "stdout",
     "output_type": "stream",
     "text": [
      "{'nll': 0.04327474986811479, 'loss': 0.04327474986811479, 'accuracy': 99.02833333333334}\n",
      "{'nll': 0.06961786441802978, 'loss': 0.06961786441802978, 'accuracy': 97.95}\n"
     ]
    }
   ],
   "source": [
    "test(model2)"
   ]
  },
  {
   "cell_type": "code",
   "execution_count": 211,
   "metadata": {},
   "outputs": [],
   "source": [
    "from scipy.stats import norm\n",
    "rv = norm()"
   ]
  },
  {
   "cell_type": "code",
   "execution_count": 370,
   "metadata": {},
   "outputs": [
    {
     "name": "stdout",
     "output_type": "stream",
     "text": [
      "X (2000, 795)\n",
      "uni (2001,)\n",
      "6\n"
     ]
    },
    {
     "ename": "ValueError",
     "evalue": "The truth value of an array with more than one element is ambiguous. Use a.any() or a.all()",
     "output_type": "error",
     "traceback": [
      "\u001b[0;31m---------------------------------------------------------------------------\u001b[0m",
      "\u001b[0;31mValueError\u001b[0m                                Traceback (most recent call last)",
      "\u001b[0;32m<ipython-input-370-a220f8592df3>\u001b[0m in \u001b[0;36m<module>\u001b[0;34m\u001b[0m\n\u001b[1;32m      5\u001b[0m \u001b[0mx\u001b[0m \u001b[0;34m=\u001b[0m \u001b[0;36m6\u001b[0m\u001b[0;34m\u001b[0m\u001b[0;34m\u001b[0m\u001b[0m\n\u001b[1;32m      6\u001b[0m \u001b[0mprint\u001b[0m\u001b[0;34m(\u001b[0m\u001b[0mx\u001b[0m\u001b[0;34m)\u001b[0m\u001b[0;34m\u001b[0m\u001b[0;34m\u001b[0m\u001b[0m\n\u001b[0;32m----> 7\u001b[0;31m \u001b[0mprint\u001b[0m\u001b[0;34m(\u001b[0m\u001b[0;34m'u'\u001b[0m\u001b[0;34m,\u001b[0m \u001b[0mdistr\u001b[0m\u001b[0;34m.\u001b[0m\u001b[0mF\u001b[0m\u001b[0;34m(\u001b[0m\u001b[0mx\u001b[0m\u001b[0;34m)\u001b[0m\u001b[0;34m)\u001b[0m\u001b[0;34m\u001b[0m\u001b[0;34m\u001b[0m\u001b[0m\n\u001b[0m\u001b[1;32m      8\u001b[0m \u001b[0mprint\u001b[0m\u001b[0;34m(\u001b[0m\u001b[0;34m'x'\u001b[0m\u001b[0;34m,\u001b[0m \u001b[0mdistr\u001b[0m\u001b[0;34m.\u001b[0m\u001b[0minv_F\u001b[0m\u001b[0;34m(\u001b[0m\u001b[0mdistr\u001b[0m\u001b[0;34m.\u001b[0m\u001b[0mF\u001b[0m\u001b[0;34m(\u001b[0m\u001b[0mx\u001b[0m\u001b[0;34m)\u001b[0m\u001b[0;34m)\u001b[0m\u001b[0;34m)\u001b[0m\u001b[0;34m\u001b[0m\u001b[0;34m\u001b[0m\u001b[0m\n",
      "\u001b[0;32m<ipython-input-366-e08d0443e848>\u001b[0m in \u001b[0;36mF\u001b[0;34m(self, x)\u001b[0m\n\u001b[1;32m     10\u001b[0m \u001b[0;31m#         print(ind)\u001b[0m\u001b[0;34m\u001b[0m\u001b[0;34m\u001b[0m\u001b[0;34m\u001b[0m\u001b[0m\n\u001b[1;32m     11\u001b[0m \u001b[0;31m#         print(b)\u001b[0m\u001b[0;34m\u001b[0m\u001b[0;34m\u001b[0m\u001b[0;34m\u001b[0m\u001b[0m\n\u001b[0;32m---> 12\u001b[0;31m         \u001b[0;32mif\u001b[0m \u001b[0;34m~\u001b[0m\u001b[0mb\u001b[0m\u001b[0;34m[\u001b[0m\u001b[0;34m-\u001b[0m\u001b[0;36m1\u001b[0m\u001b[0;34m]\u001b[0m \u001b[0;32mand\u001b[0m \u001b[0mind\u001b[0m\u001b[0;34m==\u001b[0m\u001b[0;36m0\u001b[0m\u001b[0;34m:\u001b[0m\u001b[0;34m\u001b[0m\u001b[0;34m\u001b[0m\u001b[0m\n\u001b[0m\u001b[1;32m     13\u001b[0m             \u001b[0;32mreturn\u001b[0m \u001b[0;36m1\u001b[0m\u001b[0;34m\u001b[0m\u001b[0;34m\u001b[0m\u001b[0m\n\u001b[1;32m     14\u001b[0m         \u001b[0;32melif\u001b[0m \u001b[0mb\u001b[0m\u001b[0;34m[\u001b[0m\u001b[0;36m0\u001b[0m\u001b[0;34m]\u001b[0m \u001b[0;32mand\u001b[0m \u001b[0mind\u001b[0m\u001b[0;34m==\u001b[0m\u001b[0;36m0\u001b[0m\u001b[0;34m:\u001b[0m\u001b[0;34m\u001b[0m\u001b[0;34m\u001b[0m\u001b[0m\n",
      "\u001b[0;31mValueError\u001b[0m: The truth value of an array with more than one element is ambiguous. Use a.any() or a.all()"
     ]
    }
   ],
   "source": [
    "distr = distribution(S1)\n",
    "print('X', distr.sorted_X.shape)\n",
    "print('uni', distr.uniform.shape)\n",
    "# x = [6]*795\n",
    "x = 6\n",
    "print(x)\n",
    "print('u', distr.F(x))\n",
    "print('x', distr.inv_F(distr.F(x)))"
   ]
  },
  {
   "cell_type": "code",
   "execution_count": 251,
   "metadata": {},
   "outputs": [
    {
     "name": "stdout",
     "output_type": "stream",
     "text": [
      "X [1 2 5 7 9]\n",
      "uni [0.  0.2 0.4 0.6 0.8 1. ]\n",
      "6\n",
      "u 0.7\n",
      "x 6.0\n"
     ]
    }
   ],
   "source": [
    "distr = distribution(X)\n",
    "print('X', distr.sorted_X)\n",
    "print('uni', distr.uniform)\n",
    "x = 6\n",
    "print(x)\n",
    "print('u', distr.F(x))\n",
    "print('x', distr.inv_F(distr.F(x)))"
   ]
  },
  {
   "cell_type": "code",
   "execution_count": 18,
   "metadata": {},
   "outputs": [],
   "source": [
    "from pylab import rcParams\n",
    "rcParams['figure.figsize'] = 12, 10\n",
    "rcParams['figure.dpi'] = 100"
   ]
  }
 ],
 "metadata": {
  "kernelspec": {
   "display_name": "Python 3",
   "language": "python",
   "name": "python3"
  },
  "language_info": {
   "codemirror_mode": {
    "name": "ipython",
    "version": 3
   },
   "file_extension": ".py",
   "mimetype": "text/x-python",
   "name": "python",
   "nbconvert_exporter": "python",
   "pygments_lexer": "ipython3",
   "version": "3.7.1"
  }
 },
 "nbformat": 4,
 "nbformat_minor": 2
}
