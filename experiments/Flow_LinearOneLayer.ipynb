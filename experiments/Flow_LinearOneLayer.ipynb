{
 "cells": [
  {
   "cell_type": "code",
   "execution_count": 1,
   "metadata": {},
   "outputs": [],
   "source": [
    "import argparse\n",
    "import numpy as np\n",
    "import os\n",
    "import tabulate\n",
    "import torch\n",
    "import torch.nn.functional as F\n",
    "import torch.nn\n",
    "\n",
    "import data\n",
    "import models\n",
    "import curves\n",
    "import utils\n",
    "\n",
    "import pickle"
   ]
  },
  {
   "cell_type": "code",
   "execution_count": 2,
   "metadata": {},
   "outputs": [],
   "source": [
    "import numpy as np\n",
    "import matplotlib.mlab as mlab\n",
    "import matplotlib.pyplot as plt\n",
    "\n",
    "from scipy.stats import norm\n",
    "\n",
    "import utils\n",
    "import time\n",
    "from torch import nn\n",
    "import seaborn as sns\n",
    "from sklearn.manifold import TSNE"
   ]
  },
  {
   "cell_type": "code",
   "execution_count": 3,
   "metadata": {},
   "outputs": [],
   "source": [
    "architecture = getattr(models, \"LinearOneLayer\")\n",
    "\n",
    "model = architecture.base(num_classes=10, **architecture.kwargs)"
   ]
  },
  {
   "cell_type": "code",
   "execution_count": 4,
   "metadata": {},
   "outputs": [
    {
     "name": "stdout",
     "output_type": "stream",
     "text": [
      "You are going to run models on the test set. Are you sure?\n"
     ]
    }
   ],
   "source": [
    "loaders, num_classes = data.loaders(\n",
    "    \"MNIST\",\n",
    "    \"data\",\n",
    "    128,\n",
    "    1,\n",
    "    \"VGG\",\n",
    "    True)"
   ]
  },
  {
   "cell_type": "code",
   "execution_count": 5,
   "metadata": {},
   "outputs": [],
   "source": [
    "architecture = getattr(models, \"LinearOneLayer\") #LinearOneLayer LogRegression\n",
    "model1 = architecture.base(num_classes=10, **architecture.kwargs)\n",
    "model2 = architecture.base(num_classes=10, **architecture.kwargs)\n",
    "m = architecture.base(num_classes=10, **architecture.kwargs)\n",
    "\n",
    "model1.load_state_dict(torch.load('curves_mnist/LinearOneLayer/curve3/checkpoint-12.pt')['model_state'])\n",
    "model2.load_state_dict(torch.load('curves_mnist/LinearOneLayer/curve4/checkpoint-12.pt')['model_state'])"
   ]
  },
  {
   "cell_type": "code",
   "execution_count": 6,
   "metadata": {},
   "outputs": [],
   "source": [
    "def distance(model1, model2):\n",
    "    par1 = np.concatenate([p.data.cpu().numpy().ravel() for p in model1.parameters()])\n",
    "    par2 = np.concatenate([p.data.cpu().numpy().ravel() for p in model2.parameters()])\n",
    "    u = par2 - par1\n",
    "    dx = np.linalg.norm(u)\n",
    "    return dx"
   ]
  },
  {
   "cell_type": "code",
   "execution_count": 7,
   "metadata": {},
   "outputs": [],
   "source": [
    "def get_vector(model1):\n",
    "    par1 = np.concatenate([p.data.cpu().numpy().ravel() for p in model1.parameters()])\n",
    "    return par1"
   ]
  },
  {
   "cell_type": "code",
   "execution_count": 8,
   "metadata": {},
   "outputs": [],
   "source": [
    "def samples(model):\n",
    "    p1 = list(model.parameters())[0].data.numpy()\n",
    "    p2 = list(model.parameters())[1].data.numpy()\n",
    "    p3 = list(model.parameters())[2].transpose(0,1).data.numpy()\n",
    "    samples = np.hstack([p1, p2[:, None], p3])\n",
    "    \n",
    "    return samples"
   ]
  },
  {
   "cell_type": "markdown",
   "metadata": {},
   "source": [
    "## Making dataset "
   ]
  },
  {
   "cell_type": "code",
   "execution_count": 9,
   "metadata": {},
   "outputs": [],
   "source": [
    "ind = 1\n",
    "T = True\n",
    "S = []\n",
    "B = []\n",
    "while ind<20:\n",
    "\n",
    "    ckpt = 'curves_mnist/LinearOneLayer/curve'+str(2+ind)+'/checkpoint-12.pt'\n",
    "    checkpoint = torch.load(ckpt)\n",
    "    m.load_state_dict(checkpoint['model_state'])\n",
    "    \n",
    "    S.append(samples(m))\n",
    "    B.append(list(m.parameters())[-1].data.numpy())\n",
    "    ind+=1\n",
    "    \n",
    "S = np.concatenate(S)"
   ]
  },
  {
   "cell_type": "code",
   "execution_count": 10,
   "metadata": {},
   "outputs": [
    {
     "data": {
      "text/plain": [
       "(38000, 795)"
      ]
     },
     "execution_count": 10,
     "metadata": {},
     "output_type": "execute_result"
    }
   ],
   "source": [
    "S.shape"
   ]
  },
  {
   "cell_type": "markdown",
   "metadata": {},
   "source": [
    "## Generator "
   ]
  },
  {
   "cell_type": "markdown",
   "metadata": {},
   "source": [
    "## Flow Generator "
   ]
  },
  {
   "cell_type": "code",
   "execution_count": 78,
   "metadata": {},
   "outputs": [],
   "source": [
    "class SNet(nn.Module):\n",
    "    def __init__(self, dim_in, dim_middle):\n",
    "        super(SNet, self).__init__()\n",
    "        self.fc = nn.Sequential(\n",
    "            nn.Linear(dim_in, dim_middle),\n",
    "            nn.LeakyReLU(),\n",
    "            nn.Linear(dim_middle, dim_middle),\n",
    "            nn.LeakyReLU(),\n",
    "            nn.Linear(dim_middle, dim_in)\n",
    "        )\n",
    "        \n",
    "    def forward(self, x):   \n",
    "        x = self.fc(x)\n",
    "        return x\n",
    "    \n",
    "class TNet(nn.Module):\n",
    "    def __init__(self, dim_in, dim_middle):\n",
    "        super(TNet, self).__init__()\n",
    "        self.fc = nn.Sequential(\n",
    "            nn.Linear(dim_in, dim_middle),\n",
    "            nn.LeakyReLU(),\n",
    "            nn.Linear(dim_middle, dim_middle),\n",
    "            nn.LeakyReLU(),\n",
    "            nn.Linear(dim_middle, dim_in),\n",
    "        )\n",
    "        \n",
    "    def forward(self, x):   \n",
    "        x = self.fc(x)\n",
    "        return x\n",
    "    \n",
    "class SNetF(nn.Module):\n",
    "    def __init__(self, dim_in, dim_middle):\n",
    "        super(SNetF, self).__init__()\n",
    "        self.fc = nn.Sequential(\n",
    "            nn.Linear(dim_in, dim_middle),\n",
    "            nn.LeakyReLU(),\n",
    "            nn.Linear(dim_middle, dim_middle),\n",
    "            nn.LeakyReLU(),\n",
    "            nn.Linear(dim_middle, dim_in)\n",
    "        )\n",
    "        \n",
    "    def forward(self, x):   \n",
    "        x = self.fc(x)\n",
    "        return x\n",
    "    \n",
    "class TNetF(nn.Module):\n",
    "    def __init__(self, dim_in, dim_middle):\n",
    "        super(TNetF, self).__init__()\n",
    "        self.fc = nn.Sequential(\n",
    "            nn.Linear(dim_in, dim_middle),\n",
    "            nn.LeakyReLU(),\n",
    "            nn.Linear(dim_middle, dim_middle),\n",
    "            nn.LeakyReLU(),\n",
    "            nn.Linear(dim_middle, dim_in),\n",
    "        )\n",
    "        \n",
    "    def forward(self, x):   \n",
    "        x = self.fc(x)\n",
    "        return x"
   ]
  },
  {
   "cell_type": "code",
   "execution_count": 79,
   "metadata": {},
   "outputs": [],
   "source": [
    "nets = SNet# a function that take no arguments and return a pytorch model, dim(X) -> dim(X)\n",
    "nett = TNet# a function that take no arguments and return a pytorch model, dim(X) -> dim(X)\n",
    "\n",
    "# Check nets and nett are working i.e., computing without errors\n",
    "# Check that resulting dimensions s and t are the same and equal dim(X)\n",
    "# ex_nets = nets(dim_in, dim_middle)\n",
    "# ex_mett = nett(dim_in, dim_middle)"
   ]
  },
  {
   "cell_type": "code",
   "execution_count": 80,
   "metadata": {},
   "outputs": [],
   "source": [
    "import numpy as np\n",
    "N_layers = 3\n",
    "n_dim = 795\n",
    "onezero = [0, 1]*n_dim\n",
    "masks = torch.Tensor([[onezero[:n_dim], onezero[1:n_dim+1]]]*N_layers)\n",
    "masks = masks.view(2*N_layers, -1)"
   ]
  },
  {
   "cell_type": "code",
   "execution_count": 81,
   "metadata": {},
   "outputs": [
    {
     "data": {
      "text/plain": [
       "6"
      ]
     },
     "execution_count": 81,
     "metadata": {},
     "output_type": "execute_result"
    }
   ],
   "source": [
    "len(masks)"
   ]
  },
  {
   "cell_type": "code",
   "execution_count": 82,
   "metadata": {},
   "outputs": [
    {
     "data": {
      "text/plain": [
       "tensor([[0., 1., 0.,  ..., 0., 1., 0.],\n",
       "        [1., 0., 1.,  ..., 1., 0., 1.],\n",
       "        [0., 1., 0.,  ..., 0., 1., 0.],\n",
       "        [1., 0., 1.,  ..., 1., 0., 1.],\n",
       "        [0., 1., 0.,  ..., 0., 1., 0.],\n",
       "        [1., 0., 1.,  ..., 1., 0., 1.]])"
      ]
     },
     "execution_count": 82,
     "metadata": {},
     "output_type": "execute_result"
    }
   ],
   "source": [
    "masks"
   ]
  },
  {
   "cell_type": "code",
   "execution_count": 83,
   "metadata": {},
   "outputs": [],
   "source": [
    "from torch import distributions\n",
    "prior = distributions.MultivariateNormal(torch.zeros(795), torch.eye(795))"
   ]
  },
  {
   "cell_type": "code",
   "execution_count": 170,
   "metadata": {},
   "outputs": [],
   "source": [
    "class RealNVP(nn.Module):\n",
    "    def __init__(self, nets, nett, mask, prior):\n",
    "        super(RealNVP, self).__init__()\n",
    "        \n",
    "        # Create a flow\n",
    "        # nets:  a function that return a pytocrn neurel network e.g., nn.Sequential, s = nets(), s: dim(X) -> dim(X)\n",
    "        # nett:  a function that return a pytocrn neurel network e.g., nn.Sequential, t = nett(), t: dim(X) -> dim(X)\n",
    "        # mask:  a torch.Tensor of size #number_of_coupling_layers x #dim(X)\n",
    "        # prior: an object from torch.distributions e.g., torch.distributions.MultivariateNormal\n",
    "        \n",
    "        self.prior = prior \n",
    "        self.mask = nn.Parameter(mask, requires_grad=False)\n",
    "        self.t = torch.nn.ModuleList([nett(dim_in=795, dim_middle=795*2) for _ in range(len(mask)-1)]+[SNetF(dim_in=795, dim_middle=795*2)])\n",
    "        self.s = torch.nn.ModuleList([nets(dim_in=795, dim_middle=795*2) for _ in range(len(mask)-1)]+[TNetF(dim_in=795, dim_middle=795*2)])\n",
    "        \n",
    "        \n",
    "    def g(self, z):\n",
    "        # Compute and return g(z) = x, \n",
    "        #    where self.mask[i], self.t[i], self.s[i] define a i-th masked coupling layer   \n",
    "        # z: a torch.Tensor of shape batchSize x 1 x dim(X)\n",
    "        # return x: a torch.Tensor of shape batchSize x 1 x dim(X)\n",
    "        for i, (s, t) in enumerate(zip(reversed(self.s), reversed(self.t))):\n",
    "            m = self.mask[-i-1]\n",
    "#             print('i', i, 'm', m)\n",
    "#             print('z', z.shape)\n",
    "            z = m*z +(1-m)*(z-t(m*z))*(-s(m*z)).exp()\n",
    "        x = z\n",
    "        return x\n",
    "\n",
    "    def f(self, x):\n",
    "        # Compute f(x) = z and log_det_Jakobian of f, \n",
    "        #    where self.mask[i], self.t[i], self.s[i] define a i-th masked coupling layer   \n",
    "        # x: a torch.Tensor, of shape batchSize x dim(X), is a datapoint\n",
    "        # return z: a torch.Tensor of shape batchSize x dim(X), a hidden representations\n",
    "        # return log_det_J: a torch.Tensor of len batchSize\n",
    "        \n",
    "        z = x\n",
    "        log_det_J = 0\n",
    "        for s, t, m in zip(self.s, self.t, self.mask):\n",
    "#             print(m.shape, z.shape)\n",
    "            s_res = s(m*z)\n",
    "            z = m*z +(1-m)*(z*s_res.exp()+t(m*z))\n",
    "            log_det_J += ((1-m)*s_res).sum(-1)\n",
    "        \n",
    "        return z, log_det_J\n",
    "    \n",
    "    def log_prob(self,x):\n",
    "        # Compute and return log p(x)\n",
    "        # using the change of variable formula and log_det_J computed by f\n",
    "        # return logp: torch.Tensor of len batchSize\n",
    "        z, log_det_J = self.f(x)\n",
    "        \n",
    "        logp = -0.5*np.log(np.pi*2)-0.5*z.pow(2)\n",
    "        logp = logp.sum(-1)\n",
    "        \n",
    "#         shape = torch.Size((K, self.in_dim))\n",
    "#         logp = torch.cuda.FloatTensor(x.shape[0])\n",
    "#         self.prior.log_prob(z.cpu(), out=logp)\n",
    "        \n",
    "#         logp = self.prior.log_prob(z.cpu()).cuda()\n",
    "#         print('logp', logp.shape)\n",
    "        \n",
    "        return logp+log_det_J\n",
    "        \n",
    "    def sample(self, K): \n",
    "        # Draw and return batchSize samples from flow using implementation of g\n",
    "        # return x: torch.Tensor of shape batchSize x 1 x dim(X)\n",
    "\n",
    "        z = self.prior.sample((K, )).cuda()\n",
    "        x = self.g(z)\n",
    "        \n",
    "        return x"
   ]
  },
  {
   "cell_type": "code",
   "execution_count": 171,
   "metadata": {},
   "outputs": [],
   "source": [
    "flow = RealNVP(nets, nett, masks, prior)\n",
    "flow.cuda();"
   ]
  },
  {
   "cell_type": "code",
   "execution_count": 172,
   "metadata": {},
   "outputs": [],
   "source": [
    "def iterate_minibatches(train_data, batchsize):\n",
    "    indices = np.random.permutation(np.arange(len(train_data)))\n",
    "    for start in range(0, len(indices), batchsize):\n",
    "        ix = indices[start: start + batchsize]\n",
    "        yield torch.FloatTensor(train_data[ix]).cuda()"
   ]
  },
  {
   "cell_type": "code",
   "execution_count": 269,
   "metadata": {},
   "outputs": [
    {
     "name": "stdout",
     "output_type": "stream",
     "text": [
      "epoch 0: loss = -1522.291 time = 4.59\n",
      "epoch 1: loss = -1601.309 time = 4.58\n",
      "epoch 2: loss = -1638.143 time = 4.58\n",
      "epoch 3: loss = -1674.071 time = 4.58\n",
      "epoch 4: loss = -1679.598 time = 4.58\n",
      "epoch 5: loss = -1699.214 time = 4.59\n",
      "epoch 6: loss = -1705.548 time = 4.59\n",
      "epoch 7: loss = -1716.008 time = 4.59\n",
      "epoch 8: loss = -1730.835 time = 4.59\n",
      "epoch 9: loss = -1744.234 time = 4.59\n"
     ]
    },
    {
     "ename": "KeyboardInterrupt",
     "evalue": "",
     "output_type": "error",
     "traceback": [
      "\u001b[0;31m---------------------------------------------------------------------------\u001b[0m",
      "\u001b[0;31mKeyboardInterrupt\u001b[0m                         Traceback (most recent call last)",
      "\u001b[0;32m<ipython-input-269-dedf16d57173>\u001b[0m in \u001b[0;36m<module>\u001b[0;34m\u001b[0m\n\u001b[1;32m     12\u001b[0m \u001b[0;34m\u001b[0m\u001b[0m\n\u001b[1;32m     13\u001b[0m         \u001b[0moptimizer\u001b[0m\u001b[0;34m.\u001b[0m\u001b[0mzero_grad\u001b[0m\u001b[0;34m(\u001b[0m\u001b[0;34m)\u001b[0m\u001b[0;34m\u001b[0m\u001b[0;34m\u001b[0m\u001b[0m\n\u001b[0;32m---> 14\u001b[0;31m         \u001b[0mloss\u001b[0m\u001b[0;34m.\u001b[0m\u001b[0mbackward\u001b[0m\u001b[0;34m(\u001b[0m\u001b[0;34m)\u001b[0m\u001b[0;34m\u001b[0m\u001b[0;34m\u001b[0m\u001b[0m\n\u001b[0m\u001b[1;32m     15\u001b[0m         \u001b[0moptimizer\u001b[0m\u001b[0;34m.\u001b[0m\u001b[0mstep\u001b[0m\u001b[0;34m(\u001b[0m\u001b[0;34m)\u001b[0m\u001b[0;34m\u001b[0m\u001b[0;34m\u001b[0m\u001b[0m\n\u001b[1;32m     16\u001b[0m \u001b[0;34m\u001b[0m\u001b[0m\n",
      "\u001b[0;32m~/anaconda3/lib/python3.7/site-packages/torch/tensor.py\u001b[0m in \u001b[0;36mbackward\u001b[0;34m(self, gradient, retain_graph, create_graph)\u001b[0m\n\u001b[1;32m    100\u001b[0m                 \u001b[0mproducts\u001b[0m\u001b[0;34m.\u001b[0m \u001b[0mDefaults\u001b[0m \u001b[0mto\u001b[0m\u001b[0;31m \u001b[0m\u001b[0;31m`\u001b[0m\u001b[0;31m`\u001b[0m\u001b[0;32mFalse\u001b[0m\u001b[0;31m`\u001b[0m\u001b[0;31m`\u001b[0m\u001b[0;34m.\u001b[0m\u001b[0;34m\u001b[0m\u001b[0;34m\u001b[0m\u001b[0m\n\u001b[1;32m    101\u001b[0m         \"\"\"\n\u001b[0;32m--> 102\u001b[0;31m         \u001b[0mtorch\u001b[0m\u001b[0;34m.\u001b[0m\u001b[0mautograd\u001b[0m\u001b[0;34m.\u001b[0m\u001b[0mbackward\u001b[0m\u001b[0;34m(\u001b[0m\u001b[0mself\u001b[0m\u001b[0;34m,\u001b[0m \u001b[0mgradient\u001b[0m\u001b[0;34m,\u001b[0m \u001b[0mretain_graph\u001b[0m\u001b[0;34m,\u001b[0m \u001b[0mcreate_graph\u001b[0m\u001b[0;34m)\u001b[0m\u001b[0;34m\u001b[0m\u001b[0;34m\u001b[0m\u001b[0m\n\u001b[0m\u001b[1;32m    103\u001b[0m \u001b[0;34m\u001b[0m\u001b[0m\n\u001b[1;32m    104\u001b[0m     \u001b[0;32mdef\u001b[0m \u001b[0mregister_hook\u001b[0m\u001b[0;34m(\u001b[0m\u001b[0mself\u001b[0m\u001b[0;34m,\u001b[0m \u001b[0mhook\u001b[0m\u001b[0;34m)\u001b[0m\u001b[0;34m:\u001b[0m\u001b[0;34m\u001b[0m\u001b[0;34m\u001b[0m\u001b[0m\n",
      "\u001b[0;32m~/anaconda3/lib/python3.7/site-packages/torch/autograd/__init__.py\u001b[0m in \u001b[0;36mbackward\u001b[0;34m(tensors, grad_tensors, retain_graph, create_graph, grad_variables)\u001b[0m\n\u001b[1;32m     88\u001b[0m     Variable._execution_engine.run_backward(\n\u001b[1;32m     89\u001b[0m         \u001b[0mtensors\u001b[0m\u001b[0;34m,\u001b[0m \u001b[0mgrad_tensors\u001b[0m\u001b[0;34m,\u001b[0m \u001b[0mretain_graph\u001b[0m\u001b[0;34m,\u001b[0m \u001b[0mcreate_graph\u001b[0m\u001b[0;34m,\u001b[0m\u001b[0;34m\u001b[0m\u001b[0;34m\u001b[0m\u001b[0m\n\u001b[0;32m---> 90\u001b[0;31m         allow_unreachable=True)  # allow_unreachable flag\n\u001b[0m\u001b[1;32m     91\u001b[0m \u001b[0;34m\u001b[0m\u001b[0m\n\u001b[1;32m     92\u001b[0m \u001b[0;34m\u001b[0m\u001b[0m\n",
      "\u001b[0;31mKeyboardInterrupt\u001b[0m: "
     ]
    }
   ],
   "source": [
    "flow.cuda();\n",
    "trainable_parametrs = filter(lambda param: param.requires_grad, flow.parameters()) # list of all trainable parameters in a flow\n",
    "optimizer = torch.optim.Adam(trainable_parametrs, lr=1e-4)# choose an optimizer, use module torch.optim\n",
    "\n",
    "for epoch in range(50):   \n",
    "    \n",
    "    t = time.time()\n",
    "    \n",
    "    for X in iterate_minibatches(S, 256):\n",
    "        \n",
    "        loss = -flow.log_prob(X).mean() #  compute the maximum-likelihood loss\n",
    "\n",
    "        optimizer.zero_grad()\n",
    "        loss.backward()\n",
    "        optimizer.step()\n",
    "\n",
    "    if epoch % 1 == 0:\n",
    "        print('epoch %s:' % epoch, 'loss = %.3f' % loss, 'time = %.2f' %  (time.time()-t))\n"
   ]
  },
  {
   "cell_type": "code",
   "execution_count": 238,
   "metadata": {},
   "outputs": [
    {
     "data": {
      "text/plain": [
       "(tensor(-0.0080, device='cuda:0', grad_fn=<SelectBackward>),\n",
       " tensor(-0.0080, device='cuda:0'))"
      ]
     },
     "execution_count": 238,
     "metadata": {},
     "output_type": "execute_result"
    }
   ],
   "source": [
    "i, j = 1, 500\n",
    "flow.g(flow.f(X)[0])[i][j], X[i][j]"
   ]
  },
  {
   "cell_type": "code",
   "execution_count": 239,
   "metadata": {},
   "outputs": [],
   "source": [
    "flow.cuda();"
   ]
  },
  {
   "cell_type": "code",
   "execution_count": 240,
   "metadata": {},
   "outputs": [],
   "source": [
    "N = 2000\n",
    "X = torch.FloatTensor(S[:N]).cuda()\n",
    "X_sample = X.data.cpu().numpy()\n",
    "X_prior = prior.sample((N,)).cpu().data.numpy()\n",
    "X_flow = flow.sample(N, ).data.cpu().numpy()\n",
    "X_sample_prior = flow.f(torch.FloatTensor(X_sample).cuda())[0].data.cpu().numpy()"
   ]
  },
  {
   "cell_type": "code",
   "execution_count": 241,
   "metadata": {},
   "outputs": [],
   "source": [
    "%matplotlib inline\n",
    "from pylab import rcParams\n",
    "rcParams['figure.figsize'] = 12, 10\n",
    "rcParams['figure.dpi'] = 50"
   ]
  },
  {
   "cell_type": "code",
   "execution_count": 242,
   "metadata": {},
   "outputs": [],
   "source": [
    "# sns.kdeplot(X_sample[:, i], X_sample[:, j], shade=True,  cbar=True)"
   ]
  },
  {
   "cell_type": "code",
   "execution_count": 243,
   "metadata": {},
   "outputs": [],
   "source": [
    "# sns.kdeplot(X_flow[:, i], X_flow[:, j], shade=True,  cbar=True)"
   ]
  },
  {
   "cell_type": "code",
   "execution_count": 251,
   "metadata": {},
   "outputs": [],
   "source": [
    "# sns.kdeplot(X_prior[:, i], X_prior[:, j], shade=True,  cbar=True)"
   ]
  },
  {
   "cell_type": "code",
   "execution_count": 250,
   "metadata": {},
   "outputs": [],
   "source": [
    "# sns.kdeplot(X_sample_prior[:, i], X_sample_prior[:, j], shade=True,  cbar=True)"
   ]
  },
  {
   "cell_type": "code",
   "execution_count": 246,
   "metadata": {},
   "outputs": [],
   "source": [
    "%matplotlib inline\n",
    "from pylab import rcParams\n",
    "rcParams['figure.figsize'] = 12, 10\n",
    "rcParams['figure.dpi'] = 100"
   ]
  },
  {
   "cell_type": "code",
   "execution_count": 247,
   "metadata": {},
   "outputs": [
    {
     "data": {
      "image/png": "[encoded data removed]",
      "text/plain": [
       "<Figure size 1200x1000 with 4 Axes>"
      ]
     },
     "metadata": {
      "needs_background": "light"
     },
     "output_type": "display_data"
    }
   ],
   "source": [
    "i, j = 500, -1\n",
    "fig, axes = plt.subplots(2, 2,)\n",
    "axes[0, 0].set_title('Samples')\n",
    "axes[0, 0].scatter(X_sample[:, i], X_sample[:, j])\n",
    "axes[0, 1].set_title('Prior')\n",
    "axes[0, 1].scatter(X_prior[:, i], X_prior[:, j])\n",
    "axes[1, 0].set_title('Flow sampling')\n",
    "axes[1, 0].scatter(X_flow[:, i], X_flow[:, j])\n",
    "axes[1, 1].set_title('Map from samples to prior')\n",
    "axes[1, 1].scatter(X_sample_prior[:, i], X_sample_prior[:, j]) \n",
    "plt.show()"
   ]
  },
  {
   "cell_type": "code",
   "execution_count": 252,
   "metadata": {},
   "outputs": [
    {
     "data": {
      "text/plain": [
       "((2000, 795), (2000, 795))"
      ]
     },
     "execution_count": 252,
     "metadata": {},
     "output_type": "execute_result"
    }
   ],
   "source": [
    "W1 = samples(model1)\n",
    "W2 = samples(model2)\n",
    "W1.shape, W2.shape"
   ]
  },
  {
   "cell_type": "code",
   "execution_count": 253,
   "metadata": {},
   "outputs": [],
   "source": [
    "flow.cpu()\n",
    "W_pre = 1/np.sqrt(2)*flow.f(torch.FloatTensor(W1))[0]+1/np.sqrt(2)*flow.f(torch.FloatTensor(W2))[0]\n",
    "W = flow.g(W_pre)"
   ]
  },
  {
   "cell_type": "code",
   "execution_count": 254,
   "metadata": {},
   "outputs": [],
   "source": [
    "# W_pre = 1/np.sqrt(2)*flow.f(torch.FloatTensor(W1).cuda())[0]+1/np.sqrt(2)*flow.f(torch.FloatTensor(W2).cuda())[0]\n",
    "# W = flow.g(W_pre)"
   ]
  },
  {
   "cell_type": "code",
   "execution_count": 255,
   "metadata": {},
   "outputs": [],
   "source": [
    "# X_prior = W_pre[:N].cpu().data.numpy()\n",
    "# X_sample = W[:N].cpu().data.numpy()\n",
    "\n",
    "# i, j = 500, -1\n",
    "# fig, axes = plt.subplots(2, 2,)\n",
    "# axes[0, 0].set_title('Samples')\n",
    "# axes[0, 0].scatter(X_sample[:, i], X_sample[:, j])\n",
    "# axes[0, 1].set_title('Prior')\n",
    "# axes[0, 1].scatter(X_prior[:, i], X_prior[:, j])\n",
    "# plt.show()"
   ]
  },
  {
   "cell_type": "code",
   "execution_count": 256,
   "metadata": {},
   "outputs": [
    {
     "data": {
      "text/plain": [
       "torch.Size([2000, 795])"
      ]
     },
     "execution_count": 256,
     "metadata": {},
     "output_type": "execute_result"
    }
   ],
   "source": [
    "W.shape"
   ]
  },
  {
   "cell_type": "code",
   "execution_count": 257,
   "metadata": {},
   "outputs": [],
   "source": [
    "B = []\n",
    "B.append(list(model1.parameters())[-1].data.numpy())\n",
    "B.append(list(model2.parameters())[-1].data.numpy())\n",
    "B = np.array(B)"
   ]
  },
  {
   "cell_type": "code",
   "execution_count": 258,
   "metadata": {},
   "outputs": [
    {
     "data": {
      "text/plain": [
       "array([-0.14534715,  0.14893281, -0.01729663, -0.10356466, -0.00152205,\n",
       "        0.17101075, -0.00292133,  0.10191716, -0.11753058, -0.00322389],\n",
       "      dtype=float32)"
      ]
     },
     "execution_count": 258,
     "metadata": {},
     "output_type": "execute_result"
    }
   ],
   "source": [
    "B[0]"
   ]
  },
  {
   "cell_type": "code",
   "execution_count": 259,
   "metadata": {},
   "outputs": [],
   "source": [
    "def get_model(W, B):\n",
    "    model_sampled = architecture.base(num_classes=10, **architecture.kwargs)\n",
    "    model_samples = W.cpu().data.numpy()\n",
    "    SIZE = 2000\n",
    "\n",
    "    offset = 0\n",
    "    for parameter in list(model_sampled.parameters())[:-1]:\n",
    "        size = int(np.prod(parameter.size())/SIZE)\n",
    "        value = model_samples[:, offset:offset+size]\n",
    "        if size==10 or size==1:\n",
    "             value = value.T\n",
    "#         print(value.shape)\n",
    "        value = value.reshape(parameter.size())\n",
    "#         print(value.shape)\n",
    "        parameter.data.copy_(torch.from_numpy(value))\n",
    "        offset += size\n",
    "\n",
    "    list(model_sampled.parameters())[-1].data.copy_(torch.from_numpy(B.mean(0)))\n",
    "    \n",
    "    return model_sampled"
   ]
  },
  {
   "cell_type": "code",
   "execution_count": 260,
   "metadata": {},
   "outputs": [],
   "source": [
    "model_samples = get_model(W, B)"
   ]
  },
  {
   "cell_type": "code",
   "execution_count": 261,
   "metadata": {},
   "outputs": [],
   "source": [
    "criterion = F.cross_entropy\n",
    "regularizer = None "
   ]
  },
  {
   "cell_type": "code",
   "execution_count": 262,
   "metadata": {},
   "outputs": [],
   "source": [
    "model_sampled = get_model(W, B)"
   ]
  },
  {
   "cell_type": "code",
   "execution_count": 272,
   "metadata": {},
   "outputs": [],
   "source": [
    "def test(model):\n",
    "    train_res = utils.test(loaders['train'], model, criterion, regularizer)\n",
    "    test_res = utils.test(loaders['test'], model, criterion, regularizer) \n",
    "    print(train_res)\n",
    "    print(test_res)"
   ]
  },
  {
   "cell_type": "code",
   "execution_count": 273,
   "metadata": {},
   "outputs": [
    {
     "name": "stdout",
     "output_type": "stream",
     "text": [
      "{'nll': 0.18562655256589253, 'loss': 0.18562655256589253, 'accuracy': 94.97166666666666}\n",
      "{'nll': 0.19069762821197508, 'loss': 0.19069762821197508, 'accuracy': 94.57}\n"
     ]
    }
   ],
   "source": [
    "test(model_sampled)"
   ]
  },
  {
   "cell_type": "code",
   "execution_count": 264,
   "metadata": {},
   "outputs": [],
   "source": [
    "flow.cuda();\n",
    "X_flow = flow.sample(N, ).data.cpu()"
   ]
  },
  {
   "cell_type": "code",
   "execution_count": 265,
   "metadata": {},
   "outputs": [
    {
     "data": {
      "text/plain": [
       "torch.Size([2000, 795])"
      ]
     },
     "execution_count": 265,
     "metadata": {},
     "output_type": "execute_result"
    }
   ],
   "source": [
    "X_flow.shape"
   ]
  },
  {
   "cell_type": "code",
   "execution_count": 266,
   "metadata": {},
   "outputs": [],
   "source": [
    "model_flow = get_model(X_flow, B)"
   ]
  },
  {
   "cell_type": "code",
   "execution_count": 267,
   "metadata": {},
   "outputs": [
    {
     "data": {
      "text/plain": [
       "({'nll': 0.38163312414487205, 'loss': 0.38163312414487205, 'accuracy': 87.59},\n",
       " {'nll': 0.37870460305213927, 'loss': 0.37870460305213927, 'accuracy': 87.62})"
      ]
     },
     "execution_count": 267,
     "metadata": {},
     "output_type": "execute_result"
    }
   ],
   "source": [
    "test(model_flow)"
   ]
  },
  {
   "cell_type": "code",
   "execution_count": 153,
   "metadata": {},
   "outputs": [
    {
     "data": {
      "text/plain": [
       "({'nll': 0.09569888906478882, 'loss': 0.09569888906478882, 'accuracy': 97.49},\n",
       " {'nll': 0.1064903314590454, 'loss': 0.1064903314590454, 'accuracy': 96.85})"
      ]
     },
     "execution_count": 153,
     "metadata": {},
     "output_type": "execute_result"
    }
   ],
   "source": [
    "test(model1)"
   ]
  },
  {
   "cell_type": "code",
   "execution_count": 69,
   "metadata": {},
   "outputs": [],
   "source": [
    "class Gaussian_Flow(nn.Module):\n",
    "    def __init__(self, n_dim=795, N_layers=2):\n",
    "        super(Gaussian_Flow, self).__init__()\n",
    "        \n",
    "        onezero = [0, 1]*n_dim\n",
    "        masks = torch.Tensor([[onezero[:n_dim], onezero[1:n_dim+1]]]*N_layers)\n",
    "        masks = masks.view(2*N_layers, -1)\n",
    "#         print('masks', masks, masks.shape)\n",
    "        prior = distributions.MultivariateNormal(torch.zeros(n_dim), torch.eye(n_dim))\n",
    "        \n",
    "        self.nvp = RealNVP(nets, nett, masks, prior)\n",
    "        self.relu = nn.ReLU()\n",
    "        data_b2 = torch.FloatTensor(np.random.normal(size=(10, )))\n",
    "        self.b2 = nn.Parameter(data = data_b2, requires_grad=True)\n",
    "\n",
    "\n",
    "    def forward(self, x, K=2000):\n",
    "\n",
    "        x = x.view(x.size(0), -1)\n",
    "        W = self.nvp.sample(K)\n",
    "        W1 = W[:, :784]\n",
    "        b1 = W[:, 784:785]\n",
    "        W2 =  W[:, 785:].transpose(0,1)\n",
    "        \n",
    "        print('x', x.shape)\n",
    "        print('W1', W1.shape)\n",
    "        print('b1', b1.shape)\n",
    "        x = F.linear(x, W1, b1[:, 0])\n",
    "        print('x', x.shape)\n",
    "#         x = W1 @ x #+ b1\n",
    "        print(x.shape)\n",
    "        x = self.relu(x)\n",
    "#         print('W2', W2.shape)\n",
    "        x = F.linear(x, W2, self.b2) \n",
    "        x = 1/K*x\n",
    "        print(x.shape)\n",
    "        return x"
   ]
  },
  {
   "cell_type": "code",
   "execution_count": 51,
   "metadata": {},
   "outputs": [],
   "source": [
    "GF = Gaussian_Flow(n_dim=795, N_layers=1)"
   ]
  },
  {
   "cell_type": "code",
   "execution_count": 52,
   "metadata": {},
   "outputs": [],
   "source": [
    "criterion = F.cross_entropy\n",
    "regularizer = None \n",
    "optimizer = torch.optim.SGD(\n",
    "    filter(lambda param: param.requires_grad, GF.parameters()),\n",
    "    lr=0.01,\n",
    "    momentum=0.9,\n",
    "    weight_decay=0.0\n",
    ")"
   ]
  },
  {
   "cell_type": "code",
   "execution_count": 53,
   "metadata": {},
   "outputs": [
    {
     "name": "stdout",
     "output_type": "stream",
     "text": [
      "x torch.Size([128, 784])\n",
      "W1 torch.Size([2000, 784])\n",
      "b1 torch.Size([2000, 1])\n",
      "x torch.Size([128, 2000])\n",
      "torch.Size([128, 2000])\n",
      "torch.Size([128, 10])\n"
     ]
    },
    {
     "name": "stderr",
     "output_type": "stream",
     "text": [
      "Traceback (most recent call last):\n",
      "  File \"/anaconda3/lib/python3.6/multiprocessing/queues.py\", line 240, in _feed\n",
      "    send_bytes(obj)\n",
      "  File \"/anaconda3/lib/python3.6/multiprocessing/connection.py\", line 200, in send_bytes\n",
      "    self._send_bytes(m[offset:offset + size])\n",
      "  File \"/anaconda3/lib/python3.6/multiprocessing/connection.py\", line 404, in _send_bytes\n",
      "    self._send(header + buf)\n",
      "  File \"/anaconda3/lib/python3.6/multiprocessing/connection.py\", line 368, in _send\n",
      "    n = write(self._handle, buf)\n",
      "BrokenPipeError: [Errno 32] Broken pipe\n"
     ]
    },
    {
     "ename": "KeyboardInterrupt",
     "evalue": "",
     "output_type": "error",
     "traceback": [
      "\u001b[0;31m---------------------------------------------------------------------------\u001b[0m",
      "\u001b[0;31mKeyboardInterrupt\u001b[0m                         Traceback (most recent call last)",
      "\u001b[0;32m<ipython-input-53-ad60b322f4dd>\u001b[0m in \u001b[0;36m<module>\u001b[0;34m()\u001b[0m\n\u001b[1;32m      6\u001b[0m     \u001b[0mutils\u001b[0m\u001b[0;34m.\u001b[0m\u001b[0madjust_learning_rate\u001b[0m\u001b[0;34m(\u001b[0m\u001b[0moptimizer\u001b[0m\u001b[0;34m,\u001b[0m \u001b[0mlr\u001b[0m\u001b[0;34m)\u001b[0m\u001b[0;34m\u001b[0m\u001b[0m\n\u001b[1;32m      7\u001b[0m \u001b[0;34m\u001b[0m\u001b[0m\n\u001b[0;32m----> 8\u001b[0;31m     \u001b[0mtrain_res\u001b[0m \u001b[0;34m=\u001b[0m \u001b[0mutils\u001b[0m\u001b[0;34m.\u001b[0m\u001b[0mtrain\u001b[0m\u001b[0;34m(\u001b[0m\u001b[0mloaders\u001b[0m\u001b[0;34m[\u001b[0m\u001b[0;34m'train'\u001b[0m\u001b[0;34m]\u001b[0m\u001b[0;34m,\u001b[0m \u001b[0mGF\u001b[0m\u001b[0;34m,\u001b[0m \u001b[0moptimizer\u001b[0m\u001b[0;34m,\u001b[0m \u001b[0mcriterion\u001b[0m\u001b[0;34m,\u001b[0m \u001b[0mregularizer\u001b[0m\u001b[0;34m)\u001b[0m\u001b[0;34m\u001b[0m\u001b[0m\n\u001b[0m\u001b[1;32m      9\u001b[0m     \u001b[0mtest_res\u001b[0m \u001b[0;34m=\u001b[0m \u001b[0mutils\u001b[0m\u001b[0;34m.\u001b[0m\u001b[0mtest\u001b[0m\u001b[0;34m(\u001b[0m\u001b[0mloaders\u001b[0m\u001b[0;34m[\u001b[0m\u001b[0;34m'test'\u001b[0m\u001b[0;34m]\u001b[0m\u001b[0;34m,\u001b[0m \u001b[0mGF\u001b[0m\u001b[0;34m,\u001b[0m \u001b[0mcriterion\u001b[0m\u001b[0;34m,\u001b[0m \u001b[0mregularizer\u001b[0m\u001b[0;34m)\u001b[0m\u001b[0;34m\u001b[0m\u001b[0m\n\u001b[1;32m     10\u001b[0m \u001b[0;34m\u001b[0m\u001b[0m\n",
      "\u001b[0;32m~/Documents/thesis/dnn-mode-connectivity/utils.py\u001b[0m in \u001b[0;36mtrain\u001b[0;34m(train_loader, model, optimizer, criterion, regularizer, lr_schedule, cuda)\u001b[0m\n\u001b[1;32m     73\u001b[0m             \u001b[0mtarget\u001b[0m \u001b[0;34m=\u001b[0m \u001b[0mtarget\u001b[0m\u001b[0;34m.\u001b[0m\u001b[0mcuda\u001b[0m\u001b[0;34m(\u001b[0m\u001b[0mnon_blocking\u001b[0m\u001b[0;34m=\u001b[0m\u001b[0;32mTrue\u001b[0m\u001b[0;34m)\u001b[0m\u001b[0;34m\u001b[0m\u001b[0m\n\u001b[1;32m     74\u001b[0m \u001b[0;34m\u001b[0m\u001b[0m\n\u001b[0;32m---> 75\u001b[0;31m         \u001b[0moutput\u001b[0m \u001b[0;34m=\u001b[0m \u001b[0mmodel\u001b[0m\u001b[0;34m(\u001b[0m\u001b[0minput\u001b[0m\u001b[0;34m)\u001b[0m\u001b[0;34m\u001b[0m\u001b[0m\n\u001b[0m\u001b[1;32m     76\u001b[0m         \u001b[0mloss\u001b[0m \u001b[0;34m=\u001b[0m \u001b[0mcriterion\u001b[0m\u001b[0;34m(\u001b[0m\u001b[0moutput\u001b[0m\u001b[0;34m,\u001b[0m \u001b[0mtarget\u001b[0m\u001b[0;34m)\u001b[0m\u001b[0;34m\u001b[0m\u001b[0m\n\u001b[1;32m     77\u001b[0m         \u001b[0;32mif\u001b[0m \u001b[0mregularizer\u001b[0m \u001b[0;32mis\u001b[0m \u001b[0;32mnot\u001b[0m \u001b[0;32mNone\u001b[0m\u001b[0;34m:\u001b[0m\u001b[0;34m\u001b[0m\u001b[0m\n",
      "\u001b[0;32m/anaconda3/lib/python3.6/site-packages/torch/nn/modules/module.py\u001b[0m in \u001b[0;36m__call__\u001b[0;34m(self, *input, **kwargs)\u001b[0m\n\u001b[1;32m    487\u001b[0m             \u001b[0mresult\u001b[0m \u001b[0;34m=\u001b[0m \u001b[0mself\u001b[0m\u001b[0;34m.\u001b[0m\u001b[0m_slow_forward\u001b[0m\u001b[0;34m(\u001b[0m\u001b[0;34m*\u001b[0m\u001b[0minput\u001b[0m\u001b[0;34m,\u001b[0m \u001b[0;34m**\u001b[0m\u001b[0mkwargs\u001b[0m\u001b[0;34m)\u001b[0m\u001b[0;34m\u001b[0m\u001b[0m\n\u001b[1;32m    488\u001b[0m         \u001b[0;32melse\u001b[0m\u001b[0;34m:\u001b[0m\u001b[0;34m\u001b[0m\u001b[0m\n\u001b[0;32m--> 489\u001b[0;31m             \u001b[0mresult\u001b[0m \u001b[0;34m=\u001b[0m \u001b[0mself\u001b[0m\u001b[0;34m.\u001b[0m\u001b[0mforward\u001b[0m\u001b[0;34m(\u001b[0m\u001b[0;34m*\u001b[0m\u001b[0minput\u001b[0m\u001b[0;34m,\u001b[0m \u001b[0;34m**\u001b[0m\u001b[0mkwargs\u001b[0m\u001b[0;34m)\u001b[0m\u001b[0;34m\u001b[0m\u001b[0m\n\u001b[0m\u001b[1;32m    490\u001b[0m         \u001b[0;32mfor\u001b[0m \u001b[0mhook\u001b[0m \u001b[0;32min\u001b[0m \u001b[0mself\u001b[0m\u001b[0;34m.\u001b[0m\u001b[0m_forward_hooks\u001b[0m\u001b[0;34m.\u001b[0m\u001b[0mvalues\u001b[0m\u001b[0;34m(\u001b[0m\u001b[0;34m)\u001b[0m\u001b[0;34m:\u001b[0m\u001b[0;34m\u001b[0m\u001b[0m\n\u001b[1;32m    491\u001b[0m             \u001b[0mhook_result\u001b[0m \u001b[0;34m=\u001b[0m \u001b[0mhook\u001b[0m\u001b[0;34m(\u001b[0m\u001b[0mself\u001b[0m\u001b[0;34m,\u001b[0m \u001b[0minput\u001b[0m\u001b[0;34m,\u001b[0m \u001b[0mresult\u001b[0m\u001b[0;34m)\u001b[0m\u001b[0;34m\u001b[0m\u001b[0m\n",
      "\u001b[0;32m<ipython-input-50-988a60230630>\u001b[0m in \u001b[0;36mforward\u001b[0;34m(self, x, K)\u001b[0m\n\u001b[1;32m     18\u001b[0m \u001b[0;34m\u001b[0m\u001b[0m\n\u001b[1;32m     19\u001b[0m         \u001b[0mx\u001b[0m \u001b[0;34m=\u001b[0m \u001b[0mx\u001b[0m\u001b[0;34m.\u001b[0m\u001b[0mview\u001b[0m\u001b[0;34m(\u001b[0m\u001b[0mx\u001b[0m\u001b[0;34m.\u001b[0m\u001b[0msize\u001b[0m\u001b[0;34m(\u001b[0m\u001b[0;36m0\u001b[0m\u001b[0;34m)\u001b[0m\u001b[0;34m,\u001b[0m \u001b[0;34m-\u001b[0m\u001b[0;36m1\u001b[0m\u001b[0;34m)\u001b[0m\u001b[0;34m\u001b[0m\u001b[0m\n\u001b[0;32m---> 20\u001b[0;31m         \u001b[0mW\u001b[0m \u001b[0;34m=\u001b[0m \u001b[0mself\u001b[0m\u001b[0;34m.\u001b[0m\u001b[0mnvp\u001b[0m\u001b[0;34m.\u001b[0m\u001b[0msample\u001b[0m\u001b[0;34m(\u001b[0m\u001b[0mK\u001b[0m\u001b[0;34m)\u001b[0m\u001b[0;34m\u001b[0m\u001b[0m\n\u001b[0m\u001b[1;32m     21\u001b[0m         \u001b[0mW1\u001b[0m \u001b[0;34m=\u001b[0m \u001b[0mW\u001b[0m\u001b[0;34m[\u001b[0m\u001b[0;34m:\u001b[0m\u001b[0;34m,\u001b[0m \u001b[0;34m:\u001b[0m\u001b[0;36m784\u001b[0m\u001b[0;34m]\u001b[0m\u001b[0;34m\u001b[0m\u001b[0m\n\u001b[1;32m     22\u001b[0m         \u001b[0mb1\u001b[0m \u001b[0;34m=\u001b[0m \u001b[0mW\u001b[0m\u001b[0;34m[\u001b[0m\u001b[0;34m:\u001b[0m\u001b[0;34m,\u001b[0m \u001b[0;36m784\u001b[0m\u001b[0;34m:\u001b[0m\u001b[0;36m785\u001b[0m\u001b[0;34m]\u001b[0m\u001b[0;34m\u001b[0m\u001b[0m\n",
      "\u001b[0;32m<ipython-input-49-285d7e64106b>\u001b[0m in \u001b[0;36msample\u001b[0;34m(self, K)\u001b[0m\n\u001b[1;32m     58\u001b[0m \u001b[0;34m\u001b[0m\u001b[0m\n\u001b[1;32m     59\u001b[0m \u001b[0;31m#         m = MultivariateNormal(torch.zeros(batchSize), torch.eye(batchSize))\u001b[0m\u001b[0;34m\u001b[0m\u001b[0;34m\u001b[0m\u001b[0m\n\u001b[0;32m---> 60\u001b[0;31m         \u001b[0mz\u001b[0m \u001b[0;34m=\u001b[0m \u001b[0mself\u001b[0m\u001b[0;34m.\u001b[0m\u001b[0mprior\u001b[0m\u001b[0;34m.\u001b[0m\u001b[0msample\u001b[0m\u001b[0;34m(\u001b[0m\u001b[0;34m(\u001b[0m\u001b[0mK\u001b[0m\u001b[0;34m,\u001b[0m \u001b[0;34m)\u001b[0m\u001b[0;34m)\u001b[0m\u001b[0;34m\u001b[0m\u001b[0m\n\u001b[0m\u001b[1;32m     61\u001b[0m         \u001b[0mx\u001b[0m \u001b[0;34m=\u001b[0m \u001b[0mself\u001b[0m\u001b[0;34m.\u001b[0m\u001b[0mg\u001b[0m\u001b[0;34m(\u001b[0m\u001b[0mz\u001b[0m\u001b[0;34m)\u001b[0m\u001b[0;34m\u001b[0m\u001b[0m\n\u001b[1;32m     62\u001b[0m \u001b[0;34m\u001b[0m\u001b[0m\n",
      "\u001b[0;32m/anaconda3/lib/python3.6/site-packages/torch/distributions/distribution.py\u001b[0m in \u001b[0;36msample\u001b[0;34m(self, sample_shape)\u001b[0m\n\u001b[1;32m    116\u001b[0m         \"\"\"\n\u001b[1;32m    117\u001b[0m         \u001b[0;32mwith\u001b[0m \u001b[0mtorch\u001b[0m\u001b[0;34m.\u001b[0m\u001b[0mno_grad\u001b[0m\u001b[0;34m(\u001b[0m\u001b[0;34m)\u001b[0m\u001b[0;34m:\u001b[0m\u001b[0;34m\u001b[0m\u001b[0m\n\u001b[0;32m--> 118\u001b[0;31m             \u001b[0;32mreturn\u001b[0m \u001b[0mself\u001b[0m\u001b[0;34m.\u001b[0m\u001b[0mrsample\u001b[0m\u001b[0;34m(\u001b[0m\u001b[0msample_shape\u001b[0m\u001b[0;34m)\u001b[0m\u001b[0;34m\u001b[0m\u001b[0m\n\u001b[0m\u001b[1;32m    119\u001b[0m \u001b[0;34m\u001b[0m\u001b[0m\n\u001b[1;32m    120\u001b[0m     \u001b[0;32mdef\u001b[0m \u001b[0mrsample\u001b[0m\u001b[0;34m(\u001b[0m\u001b[0mself\u001b[0m\u001b[0;34m,\u001b[0m \u001b[0msample_shape\u001b[0m\u001b[0;34m=\u001b[0m\u001b[0mtorch\u001b[0m\u001b[0;34m.\u001b[0m\u001b[0mSize\u001b[0m\u001b[0;34m(\u001b[0m\u001b[0;34m)\u001b[0m\u001b[0;34m)\u001b[0m\u001b[0;34m:\u001b[0m\u001b[0;34m\u001b[0m\u001b[0m\n",
      "\u001b[0;32m/anaconda3/lib/python3.6/site-packages/torch/distributions/multivariate_normal.py\u001b[0m in \u001b[0;36mrsample\u001b[0;34m(self, sample_shape)\u001b[0m\n\u001b[1;32m    180\u001b[0m         \u001b[0mshape\u001b[0m \u001b[0;34m=\u001b[0m \u001b[0mself\u001b[0m\u001b[0;34m.\u001b[0m\u001b[0m_extended_shape\u001b[0m\u001b[0;34m(\u001b[0m\u001b[0msample_shape\u001b[0m\u001b[0;34m)\u001b[0m\u001b[0;34m\u001b[0m\u001b[0m\n\u001b[1;32m    181\u001b[0m         \u001b[0meps\u001b[0m \u001b[0;34m=\u001b[0m \u001b[0m_standard_normal\u001b[0m\u001b[0;34m(\u001b[0m\u001b[0mshape\u001b[0m\u001b[0;34m,\u001b[0m \u001b[0mdtype\u001b[0m\u001b[0;34m=\u001b[0m\u001b[0mself\u001b[0m\u001b[0;34m.\u001b[0m\u001b[0mloc\u001b[0m\u001b[0;34m.\u001b[0m\u001b[0mdtype\u001b[0m\u001b[0;34m,\u001b[0m \u001b[0mdevice\u001b[0m\u001b[0;34m=\u001b[0m\u001b[0mself\u001b[0m\u001b[0;34m.\u001b[0m\u001b[0mloc\u001b[0m\u001b[0;34m.\u001b[0m\u001b[0mdevice\u001b[0m\u001b[0;34m)\u001b[0m\u001b[0;34m\u001b[0m\u001b[0m\n\u001b[0;32m--> 182\u001b[0;31m         \u001b[0;32mreturn\u001b[0m \u001b[0mself\u001b[0m\u001b[0;34m.\u001b[0m\u001b[0mloc\u001b[0m \u001b[0;34m+\u001b[0m \u001b[0m_batch_mv\u001b[0m\u001b[0;34m(\u001b[0m\u001b[0mself\u001b[0m\u001b[0;34m.\u001b[0m\u001b[0m_unbroadcasted_scale_tril\u001b[0m\u001b[0;34m,\u001b[0m \u001b[0meps\u001b[0m\u001b[0;34m)\u001b[0m\u001b[0;34m\u001b[0m\u001b[0m\n\u001b[0m\u001b[1;32m    183\u001b[0m \u001b[0;34m\u001b[0m\u001b[0m\n\u001b[1;32m    184\u001b[0m     \u001b[0;32mdef\u001b[0m \u001b[0mlog_prob\u001b[0m\u001b[0;34m(\u001b[0m\u001b[0mself\u001b[0m\u001b[0;34m,\u001b[0m \u001b[0mvalue\u001b[0m\u001b[0;34m)\u001b[0m\u001b[0;34m:\u001b[0m\u001b[0;34m\u001b[0m\u001b[0m\n",
      "\u001b[0;32m/anaconda3/lib/python3.6/site-packages/torch/distributions/multivariate_normal.py\u001b[0m in \u001b[0;36m_batch_mv\u001b[0;34m(bmat, bvec)\u001b[0m\n\u001b[1;32m     18\u001b[0m     \u001b[0mjust\u001b[0m \u001b[0mones\u001b[0m \u001b[0mwhich\u001b[0m \u001b[0mcan\u001b[0m \u001b[0mbe\u001b[0m \u001b[0mbroadcasted\u001b[0m\u001b[0;34m.\u001b[0m\u001b[0;34m\u001b[0m\u001b[0m\n\u001b[1;32m     19\u001b[0m     \"\"\"\n\u001b[0;32m---> 20\u001b[0;31m     \u001b[0;32mreturn\u001b[0m \u001b[0mtorch\u001b[0m\u001b[0;34m.\u001b[0m\u001b[0mmatmul\u001b[0m\u001b[0;34m(\u001b[0m\u001b[0mbmat\u001b[0m\u001b[0;34m,\u001b[0m \u001b[0mbvec\u001b[0m\u001b[0;34m.\u001b[0m\u001b[0munsqueeze\u001b[0m\u001b[0;34m(\u001b[0m\u001b[0;34m-\u001b[0m\u001b[0;36m1\u001b[0m\u001b[0;34m)\u001b[0m\u001b[0;34m)\u001b[0m\u001b[0;34m.\u001b[0m\u001b[0msqueeze\u001b[0m\u001b[0;34m(\u001b[0m\u001b[0;34m-\u001b[0m\u001b[0;36m1\u001b[0m\u001b[0;34m)\u001b[0m\u001b[0;34m\u001b[0m\u001b[0m\n\u001b[0m\u001b[1;32m     21\u001b[0m \u001b[0;34m\u001b[0m\u001b[0m\n\u001b[1;32m     22\u001b[0m \u001b[0;34m\u001b[0m\u001b[0m\n",
      "\u001b[0;31mKeyboardInterrupt\u001b[0m: "
     ]
    }
   ],
   "source": [
    "columns = ['ep', 'lr', 'tr_loss', 'tr_acc', 'te_nll', 'te_acc', 'time']\n",
    "for epoch in range(0, 10 + 1):\n",
    "    time_ep = time.time()\n",
    "\n",
    "    lr = 1e-3\n",
    "    utils.adjust_learning_rate(optimizer, lr)\n",
    "\n",
    "    train_res = utils.train(loaders['train'], GF, optimizer, criterion, regularizer)\n",
    "    test_res = utils.test(loaders['test'], GF, criterion, regularizer)\n",
    "\n",
    "    time_ep = time.time() - time_ep\n",
    "    values = [epoch, lr, train_res['loss'], train_res['accuracy'], test_res['nll'],\n",
    "              test_res['accuracy'], time_ep]\n",
    "\n",
    "    table = tabulate.tabulate([values], columns, tablefmt='simple', floatfmt='9.4f')\n",
    "    print(table)"
   ]
  },
  {
   "cell_type": "markdown",
   "metadata": {},
   "source": [
    "## Trainig mean and covariance matrix One hidden layer"
   ]
  },
  {
   "cell_type": "code",
   "execution_count": 18,
   "metadata": {},
   "outputs": [],
   "source": [
    "class Gaussian_model(nn.Module):\n",
    "    def __init__(self, n_dim=795):\n",
    "        super(Gaussian_model, self).__init__()\n",
    "        self.A = nn.Linear(n_dim, n_dim)\n",
    "        self.relu = nn.ReLU()\n",
    "        self.in_dim = n_dim\n",
    "        data_mean = torch.FloatTensor(np.random.normal(size=(n_dim, )))\n",
    "        self.mean= nn.Parameter(data = data_mean, requires_grad=True)\n",
    "        \n",
    "        data_b2 = torch.FloatTensor(np.random.normal(size=(10, )))\n",
    "        self.b2 = nn.Parameter(data = data_b2, requires_grad=True)\n",
    "\n",
    "    def sample(self, K, cuda=True):\n",
    "        \n",
    "        if cuda:\n",
    "            shape = torch.Size((K, self.in_dim))\n",
    "            e = torch.cuda.FloatTensor(shape)\n",
    "            torch.randn(shape, out=e)   \n",
    "        else:          \n",
    "            e = torch.randn((K, self.in_dim))\n",
    "        W = (self.mean + self.A(e))       \n",
    "        return W\n",
    "    \n",
    "\n",
    "    def forward(self, x, K=20000):\n",
    "\n",
    "        x = x.view(x.size(0), -1)\n",
    "        W = self.sample(K)\n",
    "        W1 = W[:, :784]\n",
    "        b1 = W[:, 784:785]\n",
    "        W2 =  W[:, 785:].transpose(0,1)\n",
    "        \n",
    "        x = F.linear(x, W1, b1[:, 0])\n",
    "        x = self.relu(x)\n",
    "        x = F.linear(x, W2, self.b2) \n",
    "        x = 1/K*x\n",
    "\n",
    "        return x"
   ]
  },
  {
   "cell_type": "code",
   "execution_count": 19,
   "metadata": {},
   "outputs": [],
   "source": [
    "GM = Gaussian_model()\n",
    "GM.cuda();"
   ]
  },
  {
   "cell_type": "code",
   "execution_count": 22,
   "metadata": {},
   "outputs": [],
   "source": [
    "criterion = F.cross_entropy\n",
    "regularizer = None \n",
    "optimizer = torch.optim.Adam(\n",
    "    filter(lambda param: param.requires_grad, GM.parameters()),\n",
    "    lr=0.01,\n",
    "#     momentum=0.9,\n",
    ")"
   ]
  },
  {
   "cell_type": "code",
   "execution_count": 23,
   "metadata": {
    "scrolled": false
   },
   "outputs": [
    {
     "name": "stdout",
     "output_type": "stream",
     "text": [
      "  ep    tr_loss     tr_acc     te_nll     te_acc       time\n",
      "----  ---------  ---------  ---------  ---------  ---------\n",
      "   0     0.3081    91.3167     0.2685    91.9900     7.5937\n",
      "  ep    tr_loss     tr_acc     te_nll     te_acc       time\n",
      "----  ---------  ---------  ---------  ---------  ---------\n",
      "   1     0.2685    92.0917     0.2484    93.2200     7.5749\n",
      "  ep    tr_loss     tr_acc     te_nll     te_acc       time\n",
      "----  ---------  ---------  ---------  ---------  ---------\n",
      "   2     0.2631    92.3567     0.2584    92.7600     7.6197\n",
      "  ep    tr_loss     tr_acc     te_nll     te_acc       time\n",
      "----  ---------  ---------  ---------  ---------  ---------\n",
      "   3     0.2607    92.3900     0.2583    92.8700     7.6181\n",
      "  ep    tr_loss     tr_acc     te_nll     te_acc       time\n",
      "----  ---------  ---------  ---------  ---------  ---------\n",
      "   4     0.2516    92.5583     0.2549    92.8400     7.6093\n",
      "  ep    tr_loss     tr_acc     te_nll     te_acc       time\n",
      "----  ---------  ---------  ---------  ---------  ---------\n",
      "   5     0.2509    92.6567     0.2622    92.8700     7.6031\n",
      "  ep    tr_loss     tr_acc     te_nll     te_acc       time\n",
      "----  ---------  ---------  ---------  ---------  ---------\n",
      "   6     0.2509    92.5133     0.2957    91.5300     7.6064\n",
      "  ep    tr_loss     tr_acc     te_nll     te_acc       time\n",
      "----  ---------  ---------  ---------  ---------  ---------\n",
      "   7     0.2511    92.5117     0.2631    92.8400     7.6257\n",
      "  ep    tr_loss     tr_acc     te_nll     te_acc       time\n",
      "----  ---------  ---------  ---------  ---------  ---------\n",
      "   8     0.2448    92.6950     0.2799    92.3200     7.6205\n",
      "  ep    tr_loss     tr_acc     te_nll     te_acc       time\n",
      "----  ---------  ---------  ---------  ---------  ---------\n",
      "   9     0.2547    92.4200     0.2805    92.4400     7.6202\n",
      "  ep    tr_loss     tr_acc     te_nll     te_acc       time\n",
      "----  ---------  ---------  ---------  ---------  ---------\n",
      "  10     0.2541    92.5683     0.2733    92.3300     7.6296\n"
     ]
    }
   ],
   "source": [
    "columns = ['ep', 'tr_loss', 'tr_acc', 'te_nll', 'te_acc', 'time']\n",
    "for epoch in range(0, 10 + 1):\n",
    "    time_ep = time.time()\n",
    "\n",
    "\n",
    "    train_res = utils.train(loaders['train'], GM, optimizer, criterion, regularizer, cuda=True)\n",
    "    test_res = utils.test(loaders['test'], GM, criterion, regularizer, cuda=True)\n",
    "\n",
    "    time_ep = time.time() - time_ep\n",
    "    values = [epoch, train_res['loss'], train_res['accuracy'], test_res['nll'],\n",
    "              test_res['accuracy'], time_ep]\n",
    "\n",
    "    table = tabulate.tabulate([values], columns, tablefmt='simple', floatfmt='9.4f')\n",
    "    print(table)"
   ]
  },
  {
   "cell_type": "code",
   "execution_count": 884,
   "metadata": {},
   "outputs": [],
   "source": [
    "# GM(X)[0]"
   ]
  },
  {
   "cell_type": "code",
   "execution_count": 887,
   "metadata": {},
   "outputs": [],
   "source": [
    "# test_res = utils.test(loaders['test'], GM, criterion, regularizer, cuda=True)\n",
    "# test_res"
   ]
  },
  {
   "cell_type": "code",
   "execution_count": 260,
   "metadata": {},
   "outputs": [],
   "source": [
    "samples = GM.sample(2000).data.numpy()\n",
    "sns.kdeplot(samples[:, 0], samples[:, 70], shade=True,  cbar=True)"
   ]
  },
  {
   "cell_type": "code",
   "execution_count": 264,
   "metadata": {},
   "outputs": [
    {
     "name": "stderr",
     "output_type": "stream",
     "text": [
      "/anaconda3/lib/python3.6/site-packages/scipy/stats/stats.py:1706: FutureWarning: Using a non-tuple sequence for multidimensional indexing is deprecated; use `arr[tuple(seq)]` instead of `arr[seq]`. In the future this will be interpreted as an array index, `arr[np.array(seq)]`, which will result either in an error or a different result.\n",
      "  return np.add.reduce(sorted[indexer] * weights, axis=axis) / sumval\n"
     ]
    },
    {
     "data": {
      "text/plain": [
       "<matplotlib.axes._subplots.AxesSubplot at 0x1a3e6529e8>"
      ]
     },
     "execution_count": 264,
     "metadata": {},
     "output_type": "execute_result"
    },
    {
     "data": {
      "image/png": "[encoded data removed]",
      "text/plain": [
       "<matplotlib.figure.Figure at 0x1a3e66b7b8>"
      ]
     },
     "metadata": {},
     "output_type": "display_data"
    }
   ],
   "source": [
    "sns.kdeplot(samples[:, 0], samples[:, 70], shade=True,  cbar=True)"
   ]
  },
  {
   "cell_type": "code",
   "execution_count": 277,
   "metadata": {},
   "outputs": [],
   "source": [
    "X_embeddeds = TSNE(n_components=2).fit_transform(samples)"
   ]
  },
  {
   "cell_type": "code",
   "execution_count": 279,
   "metadata": {},
   "outputs": [
    {
     "name": "stderr",
     "output_type": "stream",
     "text": [
      "/anaconda3/lib/python3.6/site-packages/scipy/stats/stats.py:1706: FutureWarning: Using a non-tuple sequence for multidimensional indexing is deprecated; use `arr[tuple(seq)]` instead of `arr[seq]`. In the future this will be interpreted as an array index, `arr[np.array(seq)]`, which will result either in an error or a different result.\n",
      "  return np.add.reduce(sorted[indexer] * weights, axis=axis) / sumval\n"
     ]
    },
    {
     "data": {
      "text/plain": [
       "<matplotlib.axes._subplots.AxesSubplot at 0x1a362774e0>"
      ]
     },
     "execution_count": 279,
     "metadata": {},
     "output_type": "execute_result"
    },
    {
     "data": {
      "image/png": "[encoded data removed]",
      "text/plain": [
       "<matplotlib.figure.Figure at 0x1a3087f400>"
      ]
     },
     "metadata": {},
     "output_type": "display_data"
    }
   ],
   "source": [
    "sns.kdeplot(X_embeddeds[:, 0], X_embeddeds[:, 1], shade=True,  cbar=True)"
   ]
  },
  {
   "cell_type": "markdown",
   "metadata": {},
   "source": [
    "## Trainig mean and covariance matrix Several hidden layer"
   ]
  },
  {
   "cell_type": "code",
   "execution_count": 249,
   "metadata": {},
   "outputs": [],
   "source": [
    "class GMMultyLayer(nn.Module):\n",
    "    def __init__(self, n_dim=809):\n",
    "        super(GMMultyLayer, self).__init__()\n",
    "        self.n_dim = n_dim\n",
    "        self.A = nn.Linear(n_dim, n_dim)\n",
    "        self.relu = nn.ReLU()\n",
    "        data_mean = torch.FloatTensor(np.random.normal(size=(n_dim, )))\n",
    "        self.mean= nn.Parameter(data = data_mean, requires_grad=True)\n",
    "        \n",
    "        data_bf = torch.FloatTensor(np.random.normal(size=(10, )))\n",
    "        self.bf = nn.Parameter(data = data_bf, requires_grad=True)\n",
    "\n",
    "    def sample(self, K):\n",
    "        e = torch.randn((K, self.mean.size()[0]))\n",
    "        W = (self.mean + self.A(e))       \n",
    "        return W\n",
    "    \n",
    "\n",
    "    def forward(self, x, K=4000):\n",
    "\n",
    "        x = x.view(x.size(0), -1)\n",
    "        W = self.sample(K)\n",
    "        W1 = W[:, :784]\n",
    "        b1 = W[:, 784]\n",
    "        \n",
    "        W2 = W[:, 785]\n",
    "        b2 = W[:, 786]\n",
    "        Wf =  W[:, -10:].transpose(0,1)\n",
    "        \n",
    "        x = F.linear(x, W1, b1)\n",
    "        x = self.relu(x)\n",
    "        for i in range(int(self.n_dim-784-10/2), 2):\n",
    "            Wi = W[:, 785+i]\n",
    "            bi = W[:, 786+i]\n",
    "            x = self.relu(Wi*x+bi)\n",
    "            \n",
    "        x = F.linear(x, Wf, self.bf) \n",
    "        x = 1/K*x\n",
    "#         print(x.shape)\n",
    "        return x"
   ]
  },
  {
   "cell_type": "code",
   "execution_count": 250,
   "metadata": {},
   "outputs": [],
   "source": [
    "GML = GMMultyLayer()"
   ]
  },
  {
   "cell_type": "code",
   "execution_count": 251,
   "metadata": {},
   "outputs": [],
   "source": [
    "criterion = F.cross_entropy\n",
    "regularizer = None \n",
    "optimizer = torch.optim.SGD(\n",
    "    filter(lambda param: param.requires_grad, GML.parameters()),\n",
    "    lr=0.01,\n",
    "    momentum=0.9,\n",
    "    weight_decay=0.0\n",
    ")"
   ]
  },
  {
   "cell_type": "code",
   "execution_count": 252,
   "metadata": {
    "scrolled": false
   },
   "outputs": [
    {
     "name": "stdout",
     "output_type": "stream",
     "text": [
      "  ep         lr    tr_loss     tr_acc     te_nll     te_acc       time\n",
      "----  ---------  ---------  ---------  ---------  ---------  ---------\n",
      "   0     0.0010     2.7916    14.3017     2.2235    14.8000    93.5746\n",
      "  ep         lr    tr_loss     tr_acc     te_nll     te_acc       time\n",
      "----  ---------  ---------  ---------  ---------  ---------  ---------\n",
      "   1     0.0010     2.1833    15.8317     2.1439    18.0300    91.0075\n",
      "  ep         lr    tr_loss     tr_acc     te_nll     te_acc       time\n",
      "----  ---------  ---------  ---------  ---------  ---------  ---------\n",
      "   2     0.0010     2.0937    24.0500     2.0191    30.7600    90.9785\n",
      "  ep         lr    tr_loss     tr_acc     te_nll     te_acc       time\n",
      "----  ---------  ---------  ---------  ---------  ---------  ---------\n",
      "   3     0.0010     1.9095    36.9383     1.7213    47.6100    90.6315\n",
      "  ep         lr    tr_loss     tr_acc     te_nll     te_acc       time\n",
      "----  ---------  ---------  ---------  ---------  ---------  ---------\n",
      "   4     0.0010     1.4738    59.3883     1.1794    67.9500    90.9084\n",
      "  ep         lr    tr_loss     tr_acc     te_nll     te_acc       time\n",
      "----  ---------  ---------  ---------  ---------  ---------  ---------\n",
      "   5     0.0010     1.0308    71.7517     0.8680    74.5800    92.7320\n",
      "  ep         lr    tr_loss     tr_acc     te_nll     te_acc       time\n",
      "----  ---------  ---------  ---------  ---------  ---------  ---------\n",
      "   6     0.0010     0.8114    75.2483     0.7091    76.9900    91.3537\n",
      "  ep         lr    tr_loss     tr_acc     te_nll     te_acc       time\n",
      "----  ---------  ---------  ---------  ---------  ---------  ---------\n",
      "   7     0.0010     0.6591    83.7533     0.5690    87.6800    91.7474\n",
      "  ep         lr    tr_loss     tr_acc     te_nll     te_acc       time\n",
      "----  ---------  ---------  ---------  ---------  ---------  ---------\n",
      "   8     0.0010     0.5372    87.2150     0.4731    88.2000    92.4704\n",
      "  ep         lr    tr_loss     tr_acc     te_nll     te_acc       time\n",
      "----  ---------  ---------  ---------  ---------  ---------  ---------\n",
      "   9     0.0010     0.4687    87.5850     0.4266    88.3400    91.7914\n",
      "  ep         lr    tr_loss     tr_acc     te_nll     te_acc       time\n",
      "----  ---------  ---------  ---------  ---------  ---------  ---------\n",
      "  10     0.0010     0.4312    88.0667     0.3999    88.9800    92.3218\n"
     ]
    }
   ],
   "source": [
    "columns = ['ep', 'lr', 'tr_loss', 'tr_acc', 'te_nll', 'te_acc', 'time']\n",
    "for epoch in range(0, 10 + 1):\n",
    "    time_ep = time.time()\n",
    "\n",
    "    lr = 1e-3\n",
    "    utils.adjust_learning_rate(optimizer, lr)\n",
    "\n",
    "    train_res = utils.train(loaders['train'], GML, optimizer, criterion, regularizer)\n",
    "    test_res = utils.test(loaders['test'], GML, criterion, regularizer)\n",
    "\n",
    "    time_ep = time.time() - time_ep\n",
    "    values = [epoch, lr, train_res['loss'], train_res['accuracy'], test_res['nll'],\n",
    "              test_res['accuracy'], time_ep]\n",
    "\n",
    "    table = tabulate.tabulate([values], columns, tablefmt='simple', floatfmt='9.4f')\n",
    "    print(table)"
   ]
  }
 ],
 "metadata": {
  "kernelspec": {
   "display_name": "Python 3",
   "language": "python",
   "name": "python3"
  },
  "language_info": {
   "codemirror_mode": {
    "name": "ipython",
    "version": 3
   },
   "file_extension": ".py",
   "mimetype": "text/x-python",
   "name": "python",
   "nbconvert_exporter": "python",
   "pygments_lexer": "ipython3",
   "version": "3.7.1"
  }
 },
 "nbformat": 4,
 "nbformat_minor": 2
}
