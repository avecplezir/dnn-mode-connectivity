{
 "cells": [
  {
   "cell_type": "code",
   "execution_count": 1,
   "metadata": {},
   "outputs": [],
   "source": [
    "import argparse\n",
    "import numpy as np\n",
    "import os\n",
    "import tabulate\n",
    "import torch\n",
    "import torch.nn.functional as F\n",
    "import torch.nn\n",
    "\n",
    "import data\n",
    "import models\n",
    "import curves\n",
    "import utils\n",
    "\n",
    "import pickle"
   ]
  },
  {
   "cell_type": "code",
   "execution_count": 2,
   "metadata": {},
   "outputs": [],
   "source": [
    "import numpy as np\n",
    "import matplotlib.mlab as mlab\n",
    "import matplotlib.pyplot as plt\n",
    "\n",
    "from scipy.stats import norm\n",
    "\n",
    "import utils\n",
    "import time\n",
    "from torch import nn\n",
    "import seaborn as sns\n",
    "from sklearn.manifold import TSNE"
   ]
  },
  {
   "cell_type": "markdown",
   "metadata": {},
   "source": [
    "VGG16\n",
    "\n",
    "Computing mean distance.\n",
    "\n",
    "Initialization for the layer in NN: \n",
    "\n",
    "$W_i \\sim U(-\\sqrt{k}, \\sqrt{k})$\n",
    "where $k = \\frac 1 {N_{in}}$\n",
    "\n",
    "$N_{in}$ - nubmer of input parameters for the weights. \n",
    "\n",
    "$N_{w}$ - numver of weights in the layer.\n",
    "\n",
    "mean square dist between two layers in Linear layer:\n",
    "\n",
    "$E [dist^2(L^1, L^2)] = E\\sum_i (L_1^i-L_i^2)^2 = N_{w} (2 E (L_i^1)^2) = 2 N_{w} \\frac{ \\left (2 \\sqrt k \\right )^2} {12}  = \\frac {2 N_{w}} {3 N_{in}}$\n",
    "\n",
    "for convolution layer:\n",
    "\n",
    "$E [dist^2(L^1, L^2)] = E\\sum_i (L_1^i-L_i^2)^2 = N_{w} (2 E (L_i^1)^2) = 2 N_{w} \\left (\\sqrt \\frac 2 {n} \\right )$\n",
    "\n",
    "where n = m.kernel_size[0] * m.kernel_size[1] * m.out_channels"
   ]
  },
  {
   "cell_type": "code",
   "execution_count": 3,
   "metadata": {},
   "outputs": [],
   "source": [
    "architecture = getattr(models, \"LinearOneLayer\")\n",
    "\n",
    "model = architecture.base(num_classes=10, **architecture.kwargs)"
   ]
  },
  {
   "cell_type": "code",
   "execution_count": 4,
   "metadata": {},
   "outputs": [
    {
     "name": "stdout",
     "output_type": "stream",
     "text": [
      "You are going to run models on the test set. Are you sure?\n"
     ]
    }
   ],
   "source": [
    "loaders, num_classes = data.loaders(\n",
    "    \"MNIST\",\n",
    "    \"data\",\n",
    "    128,\n",
    "    1,\n",
    "    \"VGG\",\n",
    "    True)"
   ]
  },
  {
   "cell_type": "code",
   "execution_count": 5,
   "metadata": {},
   "outputs": [
    {
     "name": "stdout",
     "output_type": "stream",
     "text": [
      "1 Linear(in_features=784, out_features=2000, bias=True)\n",
      "N_in 784\n",
      "N_w 1570000\n",
      "2 Linear(in_features=2000, out_features=10, bias=True)\n",
      "N_in 2000\n",
      "N_w 20010\n",
      "\n",
      "Distance 36.629278092878685\n"
     ]
    }
   ],
   "source": [
    "# distance for VGG16 network:\n",
    "DIST = 0\n",
    "i=1\n",
    "for m in model.modules():\n",
    "    if isinstance(m, torch.nn.Conv2d):\n",
    "        print(i, m)\n",
    "        i+=1\n",
    "        N_in = m.in_channels*np.prod(m.kernel_size)\n",
    "        n = m.kernel_size[0] * m.kernel_size[1] * m.out_channels\n",
    "        N_w = np.prod(m.weight.shape)\n",
    "#         +np.prod(m.bias.shape)\n",
    "        print('N_in', N_in)\n",
    "        print('N_w', N_w)\n",
    "        DIST+=2*N_w*2/n\n",
    "    if isinstance(m, torch.nn.Linear):\n",
    "        print(i, m)\n",
    "        i+=1\n",
    "        N_in = m.in_features\n",
    "        N_w = np.prod(m.weight.shape)+np.prod(m.bias.shape)\n",
    "        print('N_in', N_in)\n",
    "        print('N_w', N_w)\n",
    "        DIST+=2/3*float(N_w)/float(N_in)\n",
    "        \n",
    "\n",
    "print()        \n",
    "print('Distance', (np.sqrt(DIST)))"
   ]
  },
  {
   "cell_type": "code",
   "execution_count": 6,
   "metadata": {},
   "outputs": [],
   "source": [
    "def distance(model1, model2):\n",
    "    par1 = np.concatenate([p.data.cpu().numpy().ravel() for p in model1.parameters()])\n",
    "    par2 = np.concatenate([p.data.cpu().numpy().ravel() for p in model2.parameters()])\n",
    "    u = par2 - par1\n",
    "    dx = np.linalg.norm(u)\n",
    "    return dx"
   ]
  },
  {
   "cell_type": "code",
   "execution_count": 7,
   "metadata": {},
   "outputs": [],
   "source": [
    "architecture = getattr(models, \"LinearOneLayer\") #LinearOneLayer LogRegression\n",
    "model1 = architecture.base(num_classes=10, **architecture.kwargs)\n",
    "model2 = architecture.base(num_classes=10, **architecture.kwargs)\n",
    "model3 = architecture.base(num_classes=10, **architecture.kwargs)\n",
    "model4 = architecture.base(num_classes=10, **architecture.kwargs)\n",
    "m = architecture.base(num_classes=10, **architecture.kwargs)\n",
    "model_Arc = architecture.base(num_classes=10, **architecture.kwargs)\n",
    "\n",
    "model5 = architecture.base(num_classes=10, **architecture.kwargs)\n",
    "# model5.load_state_dict(torch.load('curves_mnist/LinearOneLayer/curve3/checkpoint-0.pt')['model_state'])\n",
    "\n",
    "# model1.load_state_dict(torch.load('curves_mnist/LogRegression/curve1/checkpoint-20.pt')['model_state'])\n",
    "# model2.load_state_dict(torch.load('curves_mnist/LogRegression/curve2/checkpoint-20.pt')['model_state'])\n",
    "\n",
    "# model1.load_state_dict(torch.load('curves_mnist/LinearOneLayer/curve3/checkpoint-12.pt')['model_state'])\n",
    "# model2.load_state_dict(torch.load('curves_mnist/LinearOneLayer/curve4/checkpoint-12.pt')['model_state'])\n",
    "# model_Arc.load_state_dict(torch.load('curves_mnist/LinearOneLayer/curve3/checkpoint-12.pt')['model_state'])\n",
    "# model4.load_state_dict(torch.load('curves_mnist/LinearOneLayer/curve4/checkpoint-12.pt')['model_state'])"
   ]
  },
  {
   "cell_type": "code",
   "execution_count": 8,
   "metadata": {},
   "outputs": [],
   "source": [
    "class LinearOneLayerBase(nn.Module):\n",
    "    def __init__(self, num_classes, in_dim):\n",
    "        super(LinearOneLayerBase, self).__init__()\n",
    "        self.fc = nn.Sequential(\n",
    "            nn.Linear(in_dim, 2000),\n",
    "            nn.ReLU(True),\n",
    "            nn.Linear(2000, num_classes),\n",
    "        )\n",
    "        \n",
    "        for m in self.modules():\n",
    "            if isinstance(m, nn.Linear):\n",
    "#                 print('dd')\n",
    "                n = 28*28\n",
    "#                 n = m.kernel_size[0] * m.kernel_size[1] * m.out_channels\n",
    "                m.weight.data.normal_(0, np.sqrt(2. / n))\n",
    "                m.bias.data.zero_()\n",
    "\n",
    "\n",
    "    def forward(self, x):\n",
    "        x = x.view(x.size(0), -1)\n",
    "        x = self.fc(x)\n",
    "        return x"
   ]
  },
  {
   "cell_type": "code",
   "execution_count": 9,
   "metadata": {},
   "outputs": [],
   "source": [
    "model2 = LinearOneLayerBase(10, 784)\n",
    "model1 = LinearOneLayerBase(10, 784)"
   ]
  },
  {
   "cell_type": "code",
   "execution_count": 10,
   "metadata": {},
   "outputs": [],
   "source": [
    "list(model1.parameters())[0].requires_grad = False\n",
    "list(model1.parameters())[1].requires_grad = False"
   ]
  },
  {
   "cell_type": "code",
   "execution_count": 758,
   "metadata": {},
   "outputs": [
    {
     "data": {
      "text/plain": [
       "89.957855"
      ]
     },
     "execution_count": 758,
     "metadata": {},
     "output_type": "execute_result"
    }
   ],
   "source": [
    "distance(model1, model2)"
   ]
  },
  {
   "cell_type": "code",
   "execution_count": 748,
   "metadata": {},
   "outputs": [],
   "source": [
    "S_initial1 = samples(model1)\n",
    "S_initial2 = samples(model2)"
   ]
  },
  {
   "cell_type": "code",
   "execution_count": 750,
   "metadata": {},
   "outputs": [
    {
     "data": {
      "text/plain": [
       "<matplotlib.axes._subplots.AxesSubplot at 0x7f7822185c88>"
      ]
     },
     "execution_count": 750,
     "metadata": {},
     "output_type": "execute_result"
    },
    {
     "data": {
      "image/png": "[encoded data removed]",
      "text/plain": [
       "<Figure size 432x288 with 2 Axes>"
      ]
     },
     "metadata": {
      "needs_background": "light"
     },
     "output_type": "display_data"
    }
   ],
   "source": [
    "sns.kdeplot(S_initial1[:, 1], S_initial1[:, 2], shade=True,  cbar=True)"
   ]
  },
  {
   "cell_type": "code",
   "execution_count": 698,
   "metadata": {},
   "outputs": [
    {
     "data": {
      "text/plain": [
       "<matplotlib.axes._subplots.AxesSubplot at 0x7f7823375048>"
      ]
     },
     "execution_count": 698,
     "metadata": {},
     "output_type": "execute_result"
    },
    {
     "data": {
      "image/png": "[encoded data removed]",
      "text/plain": [
       "<Figure size 432x288 with 2 Axes>"
      ]
     },
     "metadata": {
      "needs_background": "light"
     },
     "output_type": "display_data"
    }
   ],
   "source": [
    "sns.kdeplot(S1[:, -1], S1[:, -2], shade=True,  cbar=True)"
   ]
  },
  {
   "cell_type": "code",
   "execution_count": 694,
   "metadata": {},
   "outputs": [
    {
     "data": {
      "text/plain": [
       "<matplotlib.axes._subplots.AxesSubplot at 0x7f782345d550>"
      ]
     },
     "execution_count": 694,
     "metadata": {},
     "output_type": "execute_result"
    },
    {
     "data": {
      "image/png": "[encoded data removed]",
      "text/plain": [
       "<Figure size 432x288 with 2 Axes>"
      ]
     },
     "metadata": {
      "needs_background": "light"
     },
     "output_type": "display_data"
    }
   ],
   "source": [
    "sns.kdeplot(S_initial2[:, -1], S_initial2[:, -2], shade=True,  cbar=True)"
   ]
  },
  {
   "cell_type": "code",
   "execution_count": 699,
   "metadata": {},
   "outputs": [
    {
     "data": {
      "text/plain": [
       "<matplotlib.axes._subplots.AxesSubplot at 0x7f7823285e48>"
      ]
     },
     "execution_count": 699,
     "metadata": {},
     "output_type": "execute_result"
    },
    {
     "data": {
      "image/png": "[encoded data removed]",
      "text/plain": [
       "<Figure size 432x288 with 2 Axes>"
      ]
     },
     "metadata": {
      "needs_background": "light"
     },
     "output_type": "display_data"
    }
   ],
   "source": [
    "sns.kdeplot(S2[:, -1], S2[:, -2], shade=True,  cbar=True)"
   ]
  },
  {
   "cell_type": "code",
   "execution_count": 759,
   "metadata": {},
   "outputs": [
    {
     "name": "stdout",
     "output_type": "stream",
     "text": [
      "  ep         lr    tr_loss     tr_acc     te_nll     te_acc       time\n",
      "----  ---------  ---------  ---------  ---------  ---------  ---------\n",
      "   0     0.0000     1.1512    85.9417     0.4095    89.7500     4.2297\n",
      "  ep         lr    tr_loss     tr_acc     te_nll     te_acc       time\n",
      "----  ---------  ---------  ---------  ---------  ---------  ---------\n",
      "   1     0.0000     0.3238    92.2033     0.2578    92.7100     4.1757\n",
      "  ep         lr    tr_loss     tr_acc     te_nll     te_acc       time\n",
      "----  ---------  ---------  ---------  ---------  ---------  ---------\n",
      "   2     0.0000     0.2378    93.8050     0.1675    95.0900     4.2152\n",
      "  ep         lr    tr_loss     tr_acc     te_nll     te_acc       time\n",
      "----  ---------  ---------  ---------  ---------  ---------  ---------\n",
      "   3     0.0000     0.1710    95.0583     0.1669    95.1700     4.0876\n",
      "  ep         lr    tr_loss     tr_acc     te_nll     te_acc       time\n",
      "----  ---------  ---------  ---------  ---------  ---------  ---------\n",
      "   4     0.0000     0.1482    95.7533     0.2936    91.1500     4.3647\n",
      "  ep         lr    tr_loss     tr_acc     te_nll     te_acc       time\n",
      "----  ---------  ---------  ---------  ---------  ---------  ---------\n",
      "   5     0.0000     0.1897    95.5733     0.1339    95.6800     4.1072\n",
      "  ep         lr    tr_loss     tr_acc     te_nll     te_acc       time\n",
      "----  ---------  ---------  ---------  ---------  ---------  ---------\n",
      "   6     0.0000     0.1210    96.2417     0.1279    95.9900     4.1185\n",
      "  ep         lr    tr_loss     tr_acc     te_nll     te_acc       time\n",
      "----  ---------  ---------  ---------  ---------  ---------  ---------\n",
      "   7     0.0000     0.1034    96.8600     0.1333    95.9200     4.1584\n",
      "  ep         lr    tr_loss     tr_acc     te_nll     te_acc       time\n",
      "----  ---------  ---------  ---------  ---------  ---------  ---------\n",
      "   8     0.0000     0.1040    96.9783     0.1327    95.8800     4.1856\n",
      "  ep         lr    tr_loss     tr_acc     te_nll     te_acc       time\n",
      "----  ---------  ---------  ---------  ---------  ---------  ---------\n",
      "   9     0.0000     0.0903    97.2467     0.1293    95.9000     4.0856\n",
      "  ep         lr    tr_loss     tr_acc     te_nll     te_acc       time\n",
      "----  ---------  ---------  ---------  ---------  ---------  ---------\n",
      "  10     0.0000     0.0880    97.3400     0.1067    96.8500     4.1299\n"
     ]
    }
   ],
   "source": [
    "model1.cuda()\n",
    "optimizer = torch.optim.SGD(\n",
    "    filter(lambda param: param.requires_grad, model1.parameters()),\n",
    "    lr=1,\n",
    "    weight_decay=0.\n",
    ")\n",
    "\n",
    "columns = ['ep', 'lr', 'tr_loss', 'tr_acc', 'te_nll', 'te_acc', 'time']\n",
    "for epoch in range(0, 10 + 1):\n",
    "    time_ep = time.time()\n",
    "\n",
    "    train_res = utils.train(loaders['train'], model1, optimizer, criterion, regularizer, cuda=True)\n",
    "    test_res = utils.test(loaders['test'], model1, criterion, regularizer, cuda=True)\n",
    "\n",
    "    time_ep = time.time() - time_ep\n",
    "    values = [epoch, lr, train_res['loss'], train_res['accuracy'], test_res['nll'],\n",
    "              test_res['accuracy'], time_ep]\n",
    "\n",
    "    table = tabulate.tabulate([values], columns, tablefmt='simple', floatfmt='9.4f')\n",
    "    print(table)"
   ]
  },
  {
   "cell_type": "code",
   "execution_count": 760,
   "metadata": {},
   "outputs": [
    {
     "name": "stdout",
     "output_type": "stream",
     "text": [
      "  ep         lr    tr_loss     tr_acc     te_nll     te_acc       time\n",
      "----  ---------  ---------  ---------  ---------  ---------  ---------\n",
      "   0     0.0000     0.3951    91.9050     0.1074    96.6700     4.2495\n",
      "  ep         lr    tr_loss     tr_acc     te_nll     te_acc       time\n",
      "----  ---------  ---------  ---------  ---------  ---------  ---------\n",
      "   1     0.0000     0.0850    97.3917     0.0844    97.4000     4.1439\n",
      "  ep         lr    tr_loss     tr_acc     te_nll     te_acc       time\n",
      "----  ---------  ---------  ---------  ---------  ---------  ---------\n",
      "   2     0.0000     0.0558    98.3750     0.0724    97.8400     4.1502\n",
      "  ep         lr    tr_loss     tr_acc     te_nll     te_acc       time\n",
      "----  ---------  ---------  ---------  ---------  ---------  ---------\n",
      "   3     0.0000     0.0380    98.9183     0.0629    98.1300     4.1418\n",
      "  ep         lr    tr_loss     tr_acc     te_nll     te_acc       time\n",
      "----  ---------  ---------  ---------  ---------  ---------  ---------\n",
      "   4     0.0000     0.0262    99.2717     0.0576    98.2200     4.1718\n",
      "  ep         lr    tr_loss     tr_acc     te_nll     te_acc       time\n",
      "----  ---------  ---------  ---------  ---------  ---------  ---------\n",
      "   5     0.0000     0.0175    99.5667     0.0685    98.1400     4.1438\n",
      "  ep         lr    tr_loss     tr_acc     te_nll     te_acc       time\n",
      "----  ---------  ---------  ---------  ---------  ---------  ---------\n",
      "   6     0.0000     0.0114    99.7650     0.0594    98.2000     4.1542\n",
      "  ep         lr    tr_loss     tr_acc     te_nll     te_acc       time\n",
      "----  ---------  ---------  ---------  ---------  ---------  ---------\n",
      "   7     0.0000     0.0083    99.8583     0.0618    98.2400     4.1515\n",
      "  ep         lr    tr_loss     tr_acc     te_nll     te_acc       time\n",
      "----  ---------  ---------  ---------  ---------  ---------  ---------\n",
      "   8     0.0000     0.0058    99.9283     0.0562    98.3900     4.1028\n",
      "  ep         lr    tr_loss     tr_acc     te_nll     te_acc       time\n",
      "----  ---------  ---------  ---------  ---------  ---------  ---------\n",
      "   9     0.0000     0.0041    99.9650     0.0579    98.4200     4.1598\n",
      "  ep         lr    tr_loss     tr_acc     te_nll     te_acc       time\n",
      "----  ---------  ---------  ---------  ---------  ---------  ---------\n",
      "  10     0.0000     0.0030    99.9800     0.0593    98.3200     4.1139\n"
     ]
    }
   ],
   "source": [
    "model2.cuda()\n",
    "optimizer = torch.optim.SGD(\n",
    "    filter(lambda param: param.requires_grad, model2.parameters()),\n",
    "    lr=1,\n",
    "    weight_decay=0.\n",
    ")\n",
    "\n",
    "columns = ['ep', 'lr', 'tr_loss', 'tr_acc', 'te_nll', 'te_acc', 'time']\n",
    "for epoch in range(0, 10 + 1):\n",
    "    time_ep = time.time()\n",
    "\n",
    "    train_res = utils.train(loaders['train'], model2, optimizer, criterion, regularizer, cuda=True)\n",
    "    test_res = utils.test(loaders['test'], model2, criterion, regularizer, cuda=True)\n",
    "\n",
    "    time_ep = time.time() - time_ep\n",
    "    values = [epoch, lr, train_res['loss'], train_res['accuracy'], test_res['nll'],\n",
    "              test_res['accuracy'], time_ep]\n",
    "\n",
    "    table = tabulate.tabulate([values], columns, tablefmt='simple', floatfmt='9.4f')\n",
    "    print(table)"
   ]
  },
  {
   "cell_type": "code",
   "execution_count": 761,
   "metadata": {},
   "outputs": [
    {
     "data": {
      "text/plain": [
       "103.84035"
      ]
     },
     "execution_count": 761,
     "metadata": {},
     "output_type": "execute_result"
    }
   ],
   "source": [
    "distance(model1, model2)"
   ]
  },
  {
   "cell_type": "code",
   "execution_count": 762,
   "metadata": {},
   "outputs": [],
   "source": [
    "model1.cpu();\n",
    "S1 = samples(model1)\n",
    "model2.cpu();\n",
    "S2 = samples(model2)"
   ]
  },
  {
   "cell_type": "code",
   "execution_count": 763,
   "metadata": {},
   "outputs": [],
   "source": [
    "def get_importante_weights(S, koef=0.01):\n",
    "    mask = np.zeros(795)\n",
    "    mask[S[:, :].var(axis=0)>koef]=1\n",
    "    mask = mask[:784].reshape((28, 28))\n",
    "    return mask"
   ]
  },
  {
   "cell_type": "code",
   "execution_count": 774,
   "metadata": {},
   "outputs": [],
   "source": [
    "mask1 = get_importante_weights(S1, koef=0.001)\n",
    "mask2 = get_importante_weights(S2, koef=0.001)"
   ]
  },
  {
   "cell_type": "code",
   "execution_count": 780,
   "metadata": {},
   "outputs": [],
   "source": [
    "# mask1"
   ]
  },
  {
   "cell_type": "code",
   "execution_count": 775,
   "metadata": {},
   "outputs": [],
   "source": [
    "def find_masked_distance(mask1, mask2, S_initial1, S_initial2):\n",
    "\n",
    "    mask = mask1*mask2\n",
    "    mask = mask.reshape(-1).astype(int)\n",
    "    S_initial1, S_initial2 = S_initial1[:, :784], S_initial2[:, :784]\n",
    "#     print(mask)\n",
    "#     print(S_initial1.shape)\n",
    "#     mask = np.ones(784)\n",
    "    S_initial1, S_initial2 = S_initial1[: :]*mask, S_initial2[:, :]*mask\n",
    "#     print(S_initial1)\n",
    "    dx = S_initial1 - S_initial2\n",
    "    distance = np.sqrt((dx*dx).sum())\n",
    "    return distance, S_initial1"
   ]
  },
  {
   "cell_type": "code",
   "execution_count": 776,
   "metadata": {},
   "outputs": [
    {
     "data": {
      "text/plain": [
       "93.9687482583595"
      ]
     },
     "execution_count": 776,
     "metadata": {},
     "output_type": "execute_result"
    }
   ],
   "source": [
    "a, b = find_masked_distance(mask1, mask2, S1, S2)\n",
    "a"
   ]
  },
  {
   "cell_type": "code",
   "execution_count": 777,
   "metadata": {},
   "outputs": [
    {
     "data": {
      "image/png": "[encoded data removed]",
      "text/plain": [
       "<Figure size 432x288 with 1 Axes>"
      ]
     },
     "metadata": {
      "needs_background": "light"
     },
     "output_type": "display_data"
    },
    {
     "data": {
      "text/plain": [
       "<matplotlib.image.AxesImage at 0x7f78215fd208>"
      ]
     },
     "execution_count": 777,
     "metadata": {},
     "output_type": "execute_result"
    },
    {
     "data": {
      "image/png": "[encoded data removed]",
      "text/plain": [
       "<Figure size 432x288 with 1 Axes>"
      ]
     },
     "metadata": {
      "needs_background": "light"
     },
     "output_type": "display_data"
    }
   ],
   "source": [
    "plt.imshow(mask1)\n",
    "plt.show()\n",
    "plt.imshow(mask2)"
   ]
  },
  {
   "cell_type": "code",
   "execution_count": 781,
   "metadata": {},
   "outputs": [],
   "source": [
    "# np.arange(795)[S1[:, :].var(axis=0)>0.001]"
   ]
  },
  {
   "cell_type": "code",
   "execution_count": 782,
   "metadata": {},
   "outputs": [
    {
     "data": {
      "text/plain": [
       "<matplotlib.axes._subplots.AxesSubplot at 0x7f7821673a20>"
      ]
     },
     "execution_count": 782,
     "metadata": {},
     "output_type": "execute_result"
    },
    {
     "data": {
      "image/png": "[encoded data removed]",
      "text/plain": [
       "<Figure size 432x288 with 1 Axes>"
      ]
     },
     "metadata": {
      "needs_background": "light"
     },
     "output_type": "display_data"
    }
   ],
   "source": [
    "sns.kdeplot(S1[:, 500], shade=True,  cbar=True)"
   ]
  },
  {
   "cell_type": "code",
   "execution_count": 783,
   "metadata": {},
   "outputs": [
    {
     "data": {
      "text/plain": [
       "0.0026000175"
      ]
     },
     "execution_count": 783,
     "metadata": {},
     "output_type": "execute_result"
    }
   ],
   "source": [
    "S1[:, 500].var()"
   ]
  },
  {
   "cell_type": "code",
   "execution_count": 784,
   "metadata": {},
   "outputs": [
    {
     "data": {
      "text/plain": [
       "0.07577849"
      ]
     },
     "execution_count": 784,
     "metadata": {},
     "output_type": "execute_result"
    }
   ],
   "source": [
    "S1[:, 790].var()"
   ]
  },
  {
   "cell_type": "code",
   "execution_count": 711,
   "metadata": {},
   "outputs": [
    {
     "data": {
      "text/plain": [
       "(2000, 795)"
      ]
     },
     "execution_count": 711,
     "metadata": {},
     "output_type": "execute_result"
    }
   ],
   "source": [
    "S1.shape"
   ]
  },
  {
   "cell_type": "code",
   "execution_count": 791,
   "metadata": {},
   "outputs": [
    {
     "data": {
      "text/plain": [
       "<matplotlib.axes._subplots.AxesSubplot at 0x7f782138c1d0>"
      ]
     },
     "execution_count": 791,
     "metadata": {},
     "output_type": "execute_result"
    },
    {
     "data": {
      "image/png": "[encoded data removed]",
      "text/plain": [
       "<Figure size 432x288 with 1 Axes>"
      ]
     },
     "metadata": {
      "needs_background": "light"
     },
     "output_type": "display_data"
    }
   ],
   "source": [
    "sns.kdeplot(S1[:, 500], shade=True,  cbar=True)"
   ]
  },
  {
   "cell_type": "code",
   "execution_count": 792,
   "metadata": {},
   "outputs": [
    {
     "data": {
      "text/plain": [
       "<matplotlib.axes._subplots.AxesSubplot at 0x7f7821353828>"
      ]
     },
     "execution_count": 792,
     "metadata": {},
     "output_type": "execute_result"
    },
    {
     "data": {
      "image/png": "[encoded data removed]",
      "text/plain": [
       "<Figure size 432x288 with 1 Axes>"
      ]
     },
     "metadata": {
      "needs_background": "light"
     },
     "output_type": "display_data"
    }
   ],
   "source": [
    "sns.kdeplot(S2[:, 500], shade=True,  cbar=True)"
   ]
  },
  {
   "cell_type": "code",
   "execution_count": 793,
   "metadata": {},
   "outputs": [
    {
     "data": {
      "text/plain": [
       "<matplotlib.axes._subplots.AxesSubplot at 0x7f78212c1278>"
      ]
     },
     "execution_count": 793,
     "metadata": {},
     "output_type": "execute_result"
    },
    {
     "data": {
      "image/png": "[encoded data removed]",
      "text/plain": [
       "<Figure size 432x288 with 2 Axes>"
      ]
     },
     "metadata": {
      "needs_background": "light"
     },
     "output_type": "display_data"
    }
   ],
   "source": [
    "sns.kdeplot(S1[:, 37], S1[:, 500], shade=True,  cbar=True)"
   ]
  },
  {
   "cell_type": "code",
   "execution_count": 794,
   "metadata": {},
   "outputs": [
    {
     "data": {
      "text/plain": [
       "<matplotlib.axes._subplots.AxesSubplot at 0x7f78211ef710>"
      ]
     },
     "execution_count": 794,
     "metadata": {},
     "output_type": "execute_result"
    },
    {
     "data": {
      "image/png": "[encoded data removed]",
      "text/plain": [
       "<Figure size 432x288 with 2 Axes>"
      ]
     },
     "metadata": {
      "needs_background": "light"
     },
     "output_type": "display_data"
    }
   ],
   "source": [
    "sns.kdeplot(S2[:, 37], S2[:, 500], shade=True,  cbar=True)"
   ]
  },
  {
   "cell_type": "code",
   "execution_count": 795,
   "metadata": {},
   "outputs": [],
   "source": [
    "# train_res = utils.test(loaders['train'], model1, criterion, regularizer)\n",
    "# test_res = utils.test(loaders['test'], model1, criterion, regularizer) \n",
    "# train_res, test_res"
   ]
  },
  {
   "cell_type": "code",
   "execution_count": 796,
   "metadata": {},
   "outputs": [],
   "source": [
    "for parameter, p1, p2 in zip(model5.parameters(), model1.parameters(), model2.parameters()):\n",
    "    parameter.data.copy_((p1+p2)/2)"
   ]
  },
  {
   "cell_type": "code",
   "execution_count": 797,
   "metadata": {},
   "outputs": [
    {
     "name": "stdout",
     "output_type": "stream",
     "text": [
      "ind 22\n"
     ]
    }
   ],
   "source": [
    "ind = 1\n",
    "T = True\n",
    "\n",
    "while ind<22:\n",
    "\n",
    "    ckpt = 'curves_mnist/LinearOneLayer/curve'+str(2+ind)+'/checkpoint-12.pt'\n",
    "    checkpoint = torch.load(ckpt)\n",
    "    m.load_state_dict(checkpoint['model_state'])\n",
    "    \n",
    "    for parameter, p in zip(model4.parameters(), m.parameters()):\n",
    "        if ind == 1:\n",
    "            parameter.data.copy_((p))\n",
    "        else:\n",
    "            parameter.data.copy_((parameter+p))\n",
    "            \n",
    "    ind+=1\n",
    "\n",
    "print('ind', ind)\n",
    "for parameter in model4.parameters():\n",
    "    parameter.data.copy_(parameter/ind)\n"
   ]
  },
  {
   "cell_type": "code",
   "execution_count": 798,
   "metadata": {},
   "outputs": [],
   "source": [
    "for i, (parameter, p1, p2, mu) in enumerate(zip(model_Arc.parameters(), model1.parameters(), model2.parameters(), model4.parameters())):    \n",
    "    if i!=3:\n",
    "        parameter.data.copy_(mu + (1/np.sqrt(2))*(p1-mu)+(1/np.sqrt(2))*(p2-mu))\n",
    "    "
   ]
  },
  {
   "cell_type": "code",
   "execution_count": 799,
   "metadata": {},
   "outputs": [
    {
     "name": "stdout",
     "output_type": "stream",
     "text": [
      "Saving checkpoint for node changing\n"
     ]
    }
   ],
   "source": [
    "checkpoints = torch.load('curves_mnist/LinearOneLayer/curve3/checkpoint-12.pt')\n",
    "\n",
    "print(\"Saving checkpoint for node changing\")\n",
    "\n",
    "utils.save_checkpoint(\n",
    "            'curves_mnist/LinearOneLayer/curve3',\n",
    "            100,\n",
    "            name='E',\n",
    "            model_state=model4.state_dict(),\n",
    "            optimizer_state=checkpoints['optimizer_state']\n",
    "            )"
   ]
  },
  {
   "cell_type": "code",
   "execution_count": 800,
   "metadata": {},
   "outputs": [],
   "source": [
    "criterion = F.cross_entropy\n",
    "regularizer = None \n",
    "optimizer = torch.optim.SGD(\n",
    "    filter(lambda param: param.requires_grad, model3.parameters()),\n",
    "    lr=0.01,\n",
    "    momentum=0.9,\n",
    "    weight_decay=0.0\n",
    ")"
   ]
  },
  {
   "cell_type": "code",
   "execution_count": 802,
   "metadata": {},
   "outputs": [
    {
     "data": {
      "text/plain": [
       "Parameter containing:\n",
       "tensor([ 0.0019, -0.0058,  0.0146,  0.0130, -0.0033, -0.0084,  0.0086,  0.0032,\n",
       "         0.0040,  0.0099], requires_grad=True)"
      ]
     },
     "execution_count": 802,
     "metadata": {},
     "output_type": "execute_result"
    }
   ],
   "source": [
    "list(model_Arc.parameters())[-1]"
   ]
  },
  {
   "cell_type": "code",
   "execution_count": 803,
   "metadata": {},
   "outputs": [
    {
     "data": {
      "text/plain": [
       "Parameter containing:\n",
       "tensor([-0.0120,  0.1344, -0.2833, -0.2432, -0.0804,  0.1758,  0.0160, -0.2058,\n",
       "         0.2666,  0.2318], requires_grad=True)"
      ]
     },
     "execution_count": 803,
     "metadata": {},
     "output_type": "execute_result"
    }
   ],
   "source": [
    "list(model1.parameters())[-1]"
   ]
  },
  {
   "cell_type": "code",
   "execution_count": 804,
   "metadata": {},
   "outputs": [
    {
     "data": {
      "text/plain": [
       "Parameter containing:\n",
       "tensor([-0.2141, -0.4169, -0.2648, -0.3136,  0.0217, -0.1371,  0.3147, -0.6727,\n",
       "         1.4842,  0.1983], requires_grad=True)"
      ]
     },
     "execution_count": 804,
     "metadata": {},
     "output_type": "execute_result"
    }
   ],
   "source": [
    "list(model2.parameters())[-1]"
   ]
  },
  {
   "cell_type": "code",
   "execution_count": 805,
   "metadata": {},
   "outputs": [
    {
     "data": {
      "text/plain": [
       "({'nll': 0.10031545708576838, 'loss': 0.10031545708576838, 'accuracy': 96.815},\n",
       " {'nll': 0.1456833489894867, 'loss': 0.1456833489894867, 'accuracy': 95.49})"
      ]
     },
     "execution_count": 805,
     "metadata": {},
     "output_type": "execute_result"
    }
   ],
   "source": [
    "train_res = utils.test(loaders['train'], model_Arc, criterion, regularizer)\n",
    "test_res = utils.test(loaders['test'], model_Arc, criterion, regularizer) \n",
    "train_res, test_res"
   ]
  },
  {
   "cell_type": "code",
   "execution_count": 806,
   "metadata": {},
   "outputs": [
    {
     "data": {
      "text/plain": [
       "({'nll': 0.22981266481876372,\n",
       "  'loss': 0.22981266481876372,\n",
       "  'accuracy': 96.25166666666667},\n",
       " {'nll': 0.2497264081954956, 'loss': 0.2497264081954956, 'accuracy': 95.0})"
      ]
     },
     "execution_count": 806,
     "metadata": {},
     "output_type": "execute_result"
    }
   ],
   "source": [
    "train_res = utils.test(loaders['train'], model5, criterion, regularizer)\n",
    "test_res = utils.test(loaders['test'], model5, criterion, regularizer) \n",
    "train_res, test_res"
   ]
  },
  {
   "cell_type": "code",
   "execution_count": 807,
   "metadata": {},
   "outputs": [
    {
     "data": {
      "text/plain": [
       "({'nll': 0.06437447655002276, 'loss': 0.06437447655002276, 'accuracy': 98.12},\n",
       " {'nll': 0.1066709920167923, 'loss': 0.1066709920167923, 'accuracy': 96.85})"
      ]
     },
     "execution_count": 807,
     "metadata": {},
     "output_type": "execute_result"
    }
   ],
   "source": [
    "train_res = utils.test(loaders['train'], model1, criterion, regularizer)\n",
    "test_res = utils.test(loaders['test'], model1, criterion, regularizer) \n",
    "train_res, test_res"
   ]
  },
  {
   "cell_type": "code",
   "execution_count": 808,
   "metadata": {},
   "outputs": [
    {
     "data": {
      "text/plain": [
       "({'nll': 2.1608021107991537,\n",
       "  'loss': 2.1608021107991537,\n",
       "  'accuracy': 22.321666666666665},\n",
       " {'nll': 2.1599566329956055, 'loss': 2.1599566329956055, 'accuracy': 22.4})"
      ]
     },
     "execution_count": 808,
     "metadata": {},
     "output_type": "execute_result"
    }
   ],
   "source": [
    "train_res = utils.test(loaders['train'], model4, criterion, regularizer)\n",
    "test_res = utils.test(loaders['test'], model4, criterion, regularizer) \n",
    "train_res, test_res"
   ]
  },
  {
   "cell_type": "code",
   "execution_count": 809,
   "metadata": {},
   "outputs": [
    {
     "data": {
      "text/plain": [
       "({'nll': 0.0024662952263529102,\n",
       "  'loss': 0.0024662952263529102,\n",
       "  'accuracy': 99.99333333333334},\n",
       " {'nll': 0.0592628039598465, 'loss': 0.0592628039598465, 'accuracy': 98.32})"
      ]
     },
     "execution_count": 809,
     "metadata": {},
     "output_type": "execute_result"
    }
   ],
   "source": [
    "train_res = utils.test(loaders['train'], model2, criterion, regularizer)\n",
    "test_res = utils.test(loaders['test'], model2, criterion, regularizer) \n",
    "train_res, test_res"
   ]
  },
  {
   "cell_type": "code",
   "execution_count": 810,
   "metadata": {},
   "outputs": [
    {
     "data": {
      "text/plain": [
       "({'nll': 2.3043077946980794,\n",
       "  'loss': 2.3043077946980794,\n",
       "  'accuracy': 7.826666666666667},\n",
       " {'nll': 2.30461701965332, 'loss': 2.30461701965332, 'accuracy': 7.87})"
      ]
     },
     "execution_count": 810,
     "metadata": {},
     "output_type": "execute_result"
    }
   ],
   "source": [
    "train_res = utils.test(loaders['train'], model3, criterion, regularizer)\n",
    "test_res = utils.test(loaders['test'], model3, criterion, regularizer) \n",
    "train_res, test_res"
   ]
  },
  {
   "cell_type": "code",
   "execution_count": 23,
   "metadata": {},
   "outputs": [
    {
     "data": {
      "text/plain": [
       "(torch.Size([2000, 784]), torch.Size([2000]), torch.Size([2000, 10]))"
      ]
     },
     "execution_count": 23,
     "metadata": {},
     "output_type": "execute_result"
    }
   ],
   "source": [
    "list(model1.parameters())[0].shape, list(model1.parameters())[1].shape, list(model1.parameters())[2].transpose(0,1).shape"
   ]
  },
  {
   "cell_type": "code",
   "execution_count": 811,
   "metadata": {},
   "outputs": [],
   "source": [
    "def samples(model):\n",
    "    p1 = list(model.parameters())[0].data.numpy()\n",
    "    p2 = list(model.parameters())[1].data.numpy()\n",
    "    p3 = list(model.parameters())[2].transpose(0,1).data.numpy()\n",
    "#     print(p1.shape, p2.shape, p3.shape)\n",
    "    samples = np.hstack([p1, p2[:, None], p3])\n",
    "    \n",
    "    return samples"
   ]
  },
  {
   "cell_type": "code",
   "execution_count": 814,
   "metadata": {},
   "outputs": [],
   "source": [
    "S1 = 2000*samples(model1)\n",
    "S2 = 2000*samples(model2)"
   ]
  },
  {
   "cell_type": "code",
   "execution_count": 815,
   "metadata": {},
   "outputs": [],
   "source": [
    "CM1 = np.cov(S1, rowvar=False)\n",
    "CM2 = np.cov(S2, rowvar=False)"
   ]
  },
  {
   "cell_type": "code",
   "execution_count": 816,
   "metadata": {},
   "outputs": [],
   "source": [
    "from scipy.stats import kde"
   ]
  },
  {
   "cell_type": "code",
   "execution_count": 817,
   "metadata": {},
   "outputs": [
    {
     "data": {
      "text/plain": [
       "<matplotlib.colorbar.Colorbar at 0x7f78210f1f60>"
      ]
     },
     "execution_count": 817,
     "metadata": {},
     "output_type": "execute_result"
    },
    {
     "data": {
      "image/png": "[encoded data removed]",
      "text/plain": [
       "<Figure size 432x288 with 2 Axes>"
      ]
     },
     "metadata": {
      "needs_background": "light"
     },
     "output_type": "display_data"
    }
   ],
   "source": [
    "plt.hexbin(S1[:, 0], S1[:, 70], gridsize=10, cmap=plt.cm.BuGn_r)\n",
    "plt.colorbar()"
   ]
  },
  {
   "cell_type": "code",
   "execution_count": 34,
   "metadata": {},
   "outputs": [],
   "source": [
    "X_embedded1 = TSNE(n_components=2).fit_transform(S1)\n",
    "X_embedded2 = TSNE(n_components=2).fit_transform(S2)"
   ]
  },
  {
   "cell_type": "code",
   "execution_count": 845,
   "metadata": {},
   "outputs": [
    {
     "data": {
      "text/plain": [
       "<matplotlib.axes._subplots.AxesSubplot at 0x7f7820d48e48>"
      ]
     },
     "execution_count": 845,
     "metadata": {},
     "output_type": "execute_result"
    },
    {
     "data": {
      "image/png": "[encoded data removed]",
      "text/plain": [
       "<Figure size 432x288 with 2 Axes>"
      ]
     },
     "metadata": {
      "needs_background": "light"
     },
     "output_type": "display_data"
    }
   ],
   "source": [
    "sns.kdeplot(S_initial1[:, 0], S_initial1[:, 790], shade=True,  cbar=True)"
   ]
  },
  {
   "cell_type": "code",
   "execution_count": 844,
   "metadata": {},
   "outputs": [
    {
     "data": {
      "text/plain": [
       "<matplotlib.axes._subplots.AxesSubplot at 0x7f7820ddb160>"
      ]
     },
     "execution_count": 844,
     "metadata": {},
     "output_type": "execute_result"
    },
    {
     "data": {
      "image/png": "[encoded data removed]",
      "text/plain": [
       "<Figure size 432x288 with 2 Axes>"
      ]
     },
     "metadata": {
      "needs_background": "light"
     },
     "output_type": "display_data"
    }
   ],
   "source": [
    "sns.kdeplot(S1[:, 0], S1[:, 70], shade=True,  cbar=True)"
   ]
  },
  {
   "cell_type": "code",
   "execution_count": 305,
   "metadata": {},
   "outputs": [
    {
     "data": {
      "text/plain": [
       "<matplotlib.axes._subplots.AxesSubplot at 0x7f783b3a8128>"
      ]
     },
     "execution_count": 305,
     "metadata": {},
     "output_type": "execute_result"
    },
    {
     "data": {
      "image/png": "[encoded data removed]",
      "text/plain": [
       "<Figure size 432x288 with 2 Axes>"
      ]
     },
     "metadata": {
      "needs_background": "light"
     },
     "output_type": "display_data"
    }
   ],
   "source": [
    "sns.kdeplot(S2[:, 0], S2[:, 790], shade=True,  cbar=True)"
   ]
  },
  {
   "cell_type": "code",
   "execution_count": 842,
   "metadata": {},
   "outputs": [
    {
     "ename": "NameError",
     "evalue": "name 'X_embedded1' is not defined",
     "output_type": "error",
     "traceback": [
      "\u001b[0;31m---------------------------------------------------------------------------\u001b[0m",
      "\u001b[0;31mNameError\u001b[0m                                 Traceback (most recent call last)",
      "\u001b[0;32m<ipython-input-842-3cd13181fbba>\u001b[0m in \u001b[0;36m<module>\u001b[0;34m\u001b[0m\n\u001b[0;32m----> 1\u001b[0;31m \u001b[0msns\u001b[0m\u001b[0;34m.\u001b[0m\u001b[0mkdeplot\u001b[0m\u001b[0;34m(\u001b[0m\u001b[0mX_embedded1\u001b[0m\u001b[0;34m[\u001b[0m\u001b[0;34m:\u001b[0m\u001b[0;34m,\u001b[0m \u001b[0;36m0\u001b[0m\u001b[0;34m]\u001b[0m\u001b[0;34m,\u001b[0m \u001b[0mX_embedded1\u001b[0m\u001b[0;34m[\u001b[0m\u001b[0;34m:\u001b[0m\u001b[0;34m,\u001b[0m \u001b[0;36m1\u001b[0m\u001b[0;34m]\u001b[0m\u001b[0;34m,\u001b[0m \u001b[0mshade\u001b[0m\u001b[0;34m=\u001b[0m\u001b[0;32mTrue\u001b[0m\u001b[0;34m,\u001b[0m \u001b[0mcbar\u001b[0m\u001b[0;34m=\u001b[0m\u001b[0;32mTrue\u001b[0m\u001b[0;34m)\u001b[0m\u001b[0;34m\u001b[0m\u001b[0;34m\u001b[0m\u001b[0m\n\u001b[0m",
      "\u001b[0;31mNameError\u001b[0m: name 'X_embedded1' is not defined"
     ]
    }
   ],
   "source": [
    "sns.kdeplot(X_embedded1[:, 0], X_embedded1[:, 1], shade=True, cbar=True)"
   ]
  },
  {
   "cell_type": "code",
   "execution_count": 44,
   "metadata": {},
   "outputs": [
    {
     "name": "stderr",
     "output_type": "stream",
     "text": [
      "/anaconda3/lib/python3.6/site-packages/scipy/stats/stats.py:1706: FutureWarning: Using a non-tuple sequence for multidimensional indexing is deprecated; use `arr[tuple(seq)]` instead of `arr[seq]`. In the future this will be interpreted as an array index, `arr[np.array(seq)]`, which will result either in an error or a different result.\n",
      "  return np.add.reduce(sorted[indexer] * weights, axis=axis) / sumval\n"
     ]
    },
    {
     "data": {
      "text/plain": [
       "<matplotlib.axes._subplots.AxesSubplot at 0x1a2bb51438>"
      ]
     },
     "execution_count": 44,
     "metadata": {},
     "output_type": "execute_result"
    },
    {
     "data": {
      "image/png": "[encoded data removed]",
      "text/plain": [
       "<matplotlib.figure.Figure at 0x1a2ba94f60>"
      ]
     },
     "metadata": {},
     "output_type": "display_data"
    }
   ],
   "source": [
    "sns.kdeplot(X_embedded2[:, 0], X_embedded2[:, 1], shade=True, cbar=True)"
   ]
  },
  {
   "cell_type": "code",
   "execution_count": 45,
   "metadata": {},
   "outputs": [],
   "source": [
    "from sklearn.decomposition import PCA"
   ]
  },
  {
   "cell_type": "code",
   "execution_count": 46,
   "metadata": {},
   "outputs": [],
   "source": [
    "pca = PCA(n_components=2, svd_solver='full')\n",
    "PCA1 = pca.fit_transform(S1)  \n",
    "PCA2 = pca.fit_transform(S2)  "
   ]
  },
  {
   "cell_type": "code",
   "execution_count": 47,
   "metadata": {},
   "outputs": [
    {
     "name": "stderr",
     "output_type": "stream",
     "text": [
      "/anaconda3/lib/python3.6/site-packages/scipy/stats/stats.py:1706: FutureWarning: Using a non-tuple sequence for multidimensional indexing is deprecated; use `arr[tuple(seq)]` instead of `arr[seq]`. In the future this will be interpreted as an array index, `arr[np.array(seq)]`, which will result either in an error or a different result.\n",
      "  return np.add.reduce(sorted[indexer] * weights, axis=axis) / sumval\n"
     ]
    },
    {
     "data": {
      "text/plain": [
       "<matplotlib.axes._subplots.AxesSubplot at 0x1a2bc9d358>"
      ]
     },
     "execution_count": 47,
     "metadata": {},
     "output_type": "execute_result"
    },
    {
     "data": {
      "image/png": "[encoded data removed]",
      "text/plain": [
       "<matplotlib.figure.Figure at 0x1a2bb9b9e8>"
      ]
     },
     "metadata": {},
     "output_type": "display_data"
    }
   ],
   "source": [
    "sns.kdeplot(PCA1[:, 0], PCA1[:, 1], shade=True, cbar=True)"
   ]
  },
  {
   "cell_type": "code",
   "execution_count": 48,
   "metadata": {},
   "outputs": [
    {
     "name": "stderr",
     "output_type": "stream",
     "text": [
      "/anaconda3/lib/python3.6/site-packages/scipy/stats/stats.py:1706: FutureWarning: Using a non-tuple sequence for multidimensional indexing is deprecated; use `arr[tuple(seq)]` instead of `arr[seq]`. In the future this will be interpreted as an array index, `arr[np.array(seq)]`, which will result either in an error or a different result.\n",
      "  return np.add.reduce(sorted[indexer] * weights, axis=axis) / sumval\n"
     ]
    },
    {
     "data": {
      "text/plain": [
       "<matplotlib.axes._subplots.AxesSubplot at 0x1a2bce99e8>"
      ]
     },
     "execution_count": 48,
     "metadata": {},
     "output_type": "execute_result"
    },
    {
     "data": {
      "image/png": "[encoded data removed]",
      "text/plain": [
       "<matplotlib.figure.Figure at 0x1a2c22b7f0>"
      ]
     },
     "metadata": {},
     "output_type": "display_data"
    }
   ],
   "source": [
    "sns.kdeplot(PCA2[:, 0], PCA2[:, 1], shade=True, cbar=True)"
   ]
  },
  {
   "cell_type": "markdown",
   "metadata": {},
   "source": [
    "## Let model distribution be gaussian, sample from it and see what results we get"
   ]
  },
  {
   "cell_type": "code",
   "execution_count": 820,
   "metadata": {},
   "outputs": [],
   "source": [
    "ind = 1\n",
    "T = True\n",
    "S = []\n",
    "B = []\n",
    "# while ind<10:\n",
    "\n",
    "#     ckpt = 'curves_mnist/LinearOneLayer/curve'+str(2+ind)+'/checkpoint-12.pt'\n",
    "#     checkpoint = torch.load(ckpt)\n",
    "#     m.load_state_dict(checkpoint['model_state'])\n",
    "    \n",
    "#     S.append(2000*samples(m))\n",
    "#     B.append(list(m.parameters())[-1].data.numpy())\n",
    "#     ind+=1"
   ]
  },
  {
   "cell_type": "code",
   "execution_count": 821,
   "metadata": {},
   "outputs": [],
   "source": [
    "B.append(list(model1.parameters())[-1].data.numpy())"
   ]
  },
  {
   "cell_type": "code",
   "execution_count": 822,
   "metadata": {},
   "outputs": [],
   "source": [
    "B = np.array(B)"
   ]
  },
  {
   "cell_type": "code",
   "execution_count": 837,
   "metadata": {},
   "outputs": [
    {
     "data": {
      "text/plain": [
       "array([-0.01198832,  0.13439709, -0.28331888, -0.24317376, -0.08038262,\n",
       "        0.17582034,  0.01595621, -0.20576544,  0.266556  ,  0.23180848],\n",
       "      dtype=float32)"
      ]
     },
     "execution_count": 837,
     "metadata": {},
     "output_type": "execute_result"
    }
   ],
   "source": [
    "B[0]"
   ]
  },
  {
   "cell_type": "code",
   "execution_count": 824,
   "metadata": {},
   "outputs": [],
   "source": [
    "# S = np.vstack(S)"
   ]
  },
  {
   "cell_type": "code",
   "execution_count": 857,
   "metadata": {},
   "outputs": [],
   "source": [
    "S = samples(model2)"
   ]
  },
  {
   "cell_type": "code",
   "execution_count": 858,
   "metadata": {},
   "outputs": [
    {
     "data": {
      "text/plain": [
       "(2000, 795)"
      ]
     },
     "execution_count": 858,
     "metadata": {},
     "output_type": "execute_result"
    }
   ],
   "source": [
    "S.shape"
   ]
  },
  {
   "cell_type": "code",
   "execution_count": 859,
   "metadata": {},
   "outputs": [],
   "source": [
    "CM = np.cov(S, rowvar=False)"
   ]
  },
  {
   "cell_type": "code",
   "execution_count": 860,
   "metadata": {},
   "outputs": [],
   "source": [
    "SIZE = 2000\n",
    "model_samples = np.random.multivariate_normal(S.mean(0), CM, size=SIZE)"
   ]
  },
  {
   "cell_type": "code",
   "execution_count": 861,
   "metadata": {},
   "outputs": [
    {
     "data": {
      "text/plain": [
       "<matplotlib.axes._subplots.AxesSubplot at 0x7f7820b52400>"
      ]
     },
     "execution_count": 861,
     "metadata": {},
     "output_type": "execute_result"
    },
    {
     "data": {
      "image/png": "[encoded data removed]",
      "text/plain": [
       "<Figure size 432x288 with 2 Axes>"
      ]
     },
     "metadata": {
      "needs_background": "light"
     },
     "output_type": "display_data"
    }
   ],
   "source": [
    "sns.kdeplot(model_samples[:, 0], model_samples[:, 1], shade=True, cbar=True)"
   ]
  },
  {
   "cell_type": "code",
   "execution_count": 862,
   "metadata": {},
   "outputs": [],
   "source": [
    "model_sampled = architecture.base(num_classes=10, **architecture.kwargs)\n",
    "# model_sampled.load_state_dict(torch.load('curves_mnist/LinearOneLayer/curve3/checkpoint-12.pt')['model_state'])"
   ]
  },
  {
   "cell_type": "code",
   "execution_count": 863,
   "metadata": {},
   "outputs": [
    {
     "name": "stdout",
     "output_type": "stream",
     "text": [
      "(2000, 784)\n",
      "(2000, 784)\n",
      "(1, 2000)\n",
      "(2000,)\n",
      "(10, 2000)\n",
      "(10, 2000)\n"
     ]
    },
    {
     "data": {
      "text/plain": [
       "tensor([-0.0120,  0.1344, -0.2833, -0.2432, -0.0804,  0.1758,  0.0160, -0.2058,\n",
       "         0.2666,  0.2318])"
      ]
     },
     "execution_count": 863,
     "metadata": {},
     "output_type": "execute_result"
    }
   ],
   "source": [
    "offset = 0\n",
    "for parameter in list(model_sampled.parameters())[:-1]:\n",
    "    size = int(np.prod(parameter.size())/SIZE)\n",
    "    value = model_samples[:, offset:offset+size]\n",
    "    if size==10 or size==1:\n",
    "         value = value.T\n",
    "    print(value.shape)\n",
    "    value = value.reshape(parameter.size())\n",
    "    print(value.shape)\n",
    "    parameter.data.copy_(torch.from_numpy(value))\n",
    "    offset += size\n",
    "\n",
    "list(model_sampled.parameters())[-1].data.copy_(torch.from_numpy(B.mean(0)))"
   ]
  },
  {
   "cell_type": "code",
   "execution_count": 864,
   "metadata": {},
   "outputs": [
    {
     "data": {
      "text/plain": [
       "({'nll': 57.40088598022461,\n",
       "  'loss': 57.40088598022461,\n",
       "  'accuracy': 17.263333333333332},\n",
       " {'nll': 58.56353099365234, 'loss': 58.56353099365234, 'accuracy': 17.25})"
      ]
     },
     "execution_count": 864,
     "metadata": {},
     "output_type": "execute_result"
    }
   ],
   "source": [
    "train_res = utils.test(loaders['train'], model_sampled, criterion, regularizer)\n",
    "test_res = utils.test(loaders['test'], model_sampled, criterion, regularizer) \n",
    "train_res, test_res"
   ]
  },
  {
   "cell_type": "markdown",
   "metadata": {},
   "source": [
    "## What if train the model"
   ]
  },
  {
   "cell_type": "code",
   "execution_count": 865,
   "metadata": {},
   "outputs": [
    {
     "data": {
      "text/plain": [
       "317205"
      ]
     },
     "execution_count": 865,
     "metadata": {},
     "output_type": "execute_result"
    }
   ],
   "source": [
    "int((795*795-795)/2+2*795)"
   ]
  },
  {
   "cell_type": "code",
   "execution_count": 866,
   "metadata": {},
   "outputs": [
    {
     "data": {
      "text/plain": [
       "1590000"
      ]
     },
     "execution_count": 866,
     "metadata": {},
     "output_type": "execute_result"
    }
   ],
   "source": [
    "795*2000"
   ]
  },
  {
   "cell_type": "code",
   "execution_count": 867,
   "metadata": {},
   "outputs": [
    {
     "data": {
      "text/plain": [
       "784"
      ]
     },
     "execution_count": 867,
     "metadata": {},
     "output_type": "execute_result"
    }
   ],
   "source": [
    "28*28"
   ]
  },
  {
   "cell_type": "code",
   "execution_count": 868,
   "metadata": {},
   "outputs": [
    {
     "name": "stdout",
     "output_type": "stream",
     "text": [
      "You are going to run models on the test set. Are you sure?\n"
     ]
    }
   ],
   "source": [
    "loaders, num_classes = data.loaders(\n",
    "    \"MNIST\",\n",
    "    \"data\",\n",
    "    128,\n",
    "    1,\n",
    "    \"VGG\",\n",
    "    True\n",
    ")"
   ]
  },
  {
   "cell_type": "code",
   "execution_count": 869,
   "metadata": {},
   "outputs": [],
   "source": [
    "for X, y in loaders['test']:\n",
    "    break"
   ]
  },
  {
   "cell_type": "code",
   "execution_count": null,
   "metadata": {},
   "outputs": [],
   "source": []
  },
  {
   "cell_type": "markdown",
   "metadata": {},
   "source": [
    "## Generator "
   ]
  },
  {
   "cell_type": "code",
   "execution_count": 296,
   "metadata": {},
   "outputs": [],
   "source": [
    "class Generator(nn.Module):\n",
    "    def __init__(self, n_dim=795, N_layers=2):\n",
    "        super(Generator, self).__init__()\n",
    "        \n",
    "        self.in_dim = 795\n",
    "        self.proposal = nn.Sequential(nn.Linear(795, 795*2),\n",
    "                                nn.Tanh(),\n",
    "                                nn.Linear(795*2, 795),\n",
    "                                nn.Tanh(),\n",
    "                                nn.Linear(795, 795*2),\n",
    "                                nn.Tanh(),\n",
    "                                nn.Linear(795*2, 795),\n",
    "                                nn.Tanh(),\n",
    "#                                 nn.Linear(795, 795*2),\n",
    "#                                 nn.Tanh(),\n",
    "#                                 nn.Linear(795*2, 795),\n",
    "#                                 nn.Tanh(),\n",
    "                               )\n",
    "        \n",
    "        \n",
    "        self.W1 = nn.Linear(795, 784)\n",
    "        self.b1 = nn.Linear(795, 1)\n",
    "        self.W2 = nn.Linear(795, 10)\n",
    "        \n",
    "        data_b2 = torch.FloatTensor(np.random.normal(size=(10, )))\n",
    "        self.b2 = nn.Parameter(data = data_b2, requires_grad=True)\n",
    "        \n",
    "        self.relu = nn.ReLU()\n",
    "        \n",
    "        self.mult = torch.tensor([1/28]*785 + [1/np.sqrt(2000)]*10).cuda()\n",
    "\n",
    "    def sample(self, K, cuda=True):\n",
    "        \n",
    "        if cuda:\n",
    "            shape = torch.Size((K, self.in_dim))\n",
    "            e = torch.cuda.FloatTensor(shape)\n",
    "            torch.randn(shape, out=e) \n",
    "            e = 2*(e-0.5)\n",
    "#             e = self.mult*e\n",
    "        else:\n",
    "            e = torch.randn((K, self.in_dim)).cuda()  \n",
    "        return e\n",
    "    \n",
    "    def sample_weights(self, K, cuda=True):\n",
    "        \n",
    "        if cuda:\n",
    "            shape = torch.Size((K, self.in_dim))\n",
    "            e = torch.cuda.FloatTensor(shape)\n",
    "            torch.rand(shape, out=e)  \n",
    "        else:\n",
    "            e = torch.rand((K, self.in_dim))  \n",
    "            \n",
    "        z = self.proposal(e)\n",
    "        W1 = self.W1(z)\n",
    "        b1 = self.b1(z)\n",
    "        W2 = self.W2(z)\n",
    "        \n",
    "        e = torch.cat([W1, b1, W2], -1)\n",
    "        return e\n",
    "\n",
    "    def forward(self, x, K=2000):\n",
    "\n",
    "        x = x.view(x.size(0), -1)\n",
    "        e = self.sample(K)\n",
    "        z = self.proposal(e)\n",
    "        W1 = self.W1(z)\n",
    "        b1 = self.b1(z)[:, 0]\n",
    "        \n",
    "        x = F.linear(x, W1, b1)\n",
    "        x = self.relu(x)\n",
    "        \n",
    "#         for i in range(int(self.n_dim-784-10/2), 2):\n",
    "#             Wi = W[:, 785+i]\n",
    "#             bi = W[:, 786+i]\n",
    "#             x = self.relu(Wi*x+bi)\n",
    "        \n",
    "        W2 = self.W2(z).transpose(0,1)\n",
    " \n",
    "\n",
    "        x = F.linear(x, W2, self.b2) \n",
    "        x = 1/K*x\n",
    "\n",
    "        return x"
   ]
  },
  {
   "cell_type": "code",
   "execution_count": 297,
   "metadata": {},
   "outputs": [],
   "source": [
    "G = Generator()"
   ]
  },
  {
   "cell_type": "code",
   "execution_count": 298,
   "metadata": {},
   "outputs": [],
   "source": [
    "G.cuda();"
   ]
  },
  {
   "cell_type": "code",
   "execution_count": 299,
   "metadata": {},
   "outputs": [],
   "source": [
    "criterion = F.cross_entropy\n",
    "regularizer = None "
   ]
  },
  {
   "cell_type": "code",
   "execution_count": 302,
   "metadata": {},
   "outputs": [
    {
     "name": "stdout",
     "output_type": "stream",
     "text": [
      "  ep         lr    tr_loss     tr_acc     te_nll     te_acc       time\n",
      "----  ---------  ---------  ---------  ---------  ---------  ---------\n",
      "   0     0.0000     0.1378    95.8117     0.1807    94.9700     5.8845\n",
      "  ep         lr    tr_loss     tr_acc     te_nll     te_acc       time\n",
      "----  ---------  ---------  ---------  ---------  ---------  ---------\n",
      "   1     0.0000     0.1359    95.9000     0.1793    94.9700     5.8723\n",
      "  ep         lr    tr_loss     tr_acc     te_nll     te_acc       time\n",
      "----  ---------  ---------  ---------  ---------  ---------  ---------\n",
      "   2     0.0000     0.1368    95.8833     0.1818    94.8900     5.8820\n",
      "  ep         lr    tr_loss     tr_acc     te_nll     te_acc       time\n",
      "----  ---------  ---------  ---------  ---------  ---------  ---------\n",
      "   3     0.0000     0.1371    95.8900     0.1796    94.9700     5.8741\n",
      "  ep         lr    tr_loss     tr_acc     te_nll     te_acc       time\n",
      "----  ---------  ---------  ---------  ---------  ---------  ---------\n",
      "   4     0.0000     0.1360    95.9467     0.1813    94.9300     5.8798\n",
      "  ep         lr    tr_loss     tr_acc     te_nll     te_acc       time\n",
      "----  ---------  ---------  ---------  ---------  ---------  ---------\n",
      "   5     0.0000     0.1365    95.8950     0.1781    95.2000     5.8704\n",
      "  ep         lr    tr_loss     tr_acc     te_nll     te_acc       time\n",
      "----  ---------  ---------  ---------  ---------  ---------  ---------\n",
      "   6     0.0000     0.1356    95.9250     0.1804    95.1300     5.8814\n",
      "  ep         lr    tr_loss     tr_acc     te_nll     te_acc       time\n",
      "----  ---------  ---------  ---------  ---------  ---------  ---------\n",
      "   7     0.0000     0.1355    95.9183     0.1809    94.8700     5.8856\n",
      "  ep         lr    tr_loss     tr_acc     te_nll     te_acc       time\n",
      "----  ---------  ---------  ---------  ---------  ---------  ---------\n",
      "   8     0.0000     0.1360    95.9150     0.1815    94.9000     5.8754\n",
      "  ep         lr    tr_loss     tr_acc     te_nll     te_acc       time\n",
      "----  ---------  ---------  ---------  ---------  ---------  ---------\n",
      "   9     0.0000     0.1356    95.9350     0.1819    94.8900     5.8889\n",
      "  ep         lr    tr_loss     tr_acc     te_nll     te_acc       time\n",
      "----  ---------  ---------  ---------  ---------  ---------  ---------\n",
      "  10     0.0000     0.1357    95.9400     0.1825    94.9200     5.8960\n"
     ]
    }
   ],
   "source": [
    "optimizer = torch.optim.Adam(\n",
    "    filter(lambda param: param.requires_grad, G.parameters()),\n",
    "    lr=0.000001,\n",
    "    weight_decay=0.\n",
    ")\n",
    "\n",
    "columns = ['ep', 'lr', 'tr_loss', 'tr_acc', 'te_nll', 'te_acc', 'time']\n",
    "for epoch in range(0, 10 + 1):\n",
    "    time_ep = time.time()\n",
    "\n",
    "    train_res = utils.train(loaders['train'], G, optimizer, criterion, regularizer, cuda=True)\n",
    "    test_res = utils.test(loaders['test'], G, criterion, regularizer, cuda=True)\n",
    "\n",
    "    time_ep = time.time() - time_ep\n",
    "    values = [epoch, lr, train_res['loss'], train_res['accuracy'], test_res['nll'],\n",
    "              test_res['accuracy'], time_ep]\n",
    "\n",
    "    table = tabulate.tabulate([values], columns, tablefmt='simple', floatfmt='9.4f')\n",
    "    print(table)"
   ]
  },
  {
   "cell_type": "code",
   "execution_count": 304,
   "metadata": {},
   "outputs": [
    {
     "data": {
      "text/plain": [
       "<matplotlib.axes._subplots.AxesSubplot at 0x7f783b467748>"
      ]
     },
     "execution_count": 304,
     "metadata": {},
     "output_type": "execute_result"
    },
    {
     "data": {
      "image/png": "[encoded data removed]",
      "text/plain": [
       "<Figure size 432x288 with 2 Axes>"
      ]
     },
     "metadata": {
      "needs_background": "light"
     },
     "output_type": "display_data"
    }
   ],
   "source": [
    "samples = G.sample_weights(2000).cpu().data.numpy()\n",
    "sns.kdeplot(samples[:, 0], samples[:, 70], shade=True,  cbar=True)"
   ]
  },
  {
   "cell_type": "code",
   "execution_count": 99,
   "metadata": {},
   "outputs": [
    {
     "name": "stdout",
     "output_type": "stream",
     "text": [
      "  ep         lr    tr_loss     tr_acc     te_nll     te_acc       time\n",
      "----  ---------  ---------  ---------  ---------  ---------  ---------\n",
      "   0     0.0000     0.1212    96.3533     0.1743    95.7300     5.7522\n",
      "  ep         lr    tr_loss     tr_acc     te_nll     te_acc       time\n",
      "----  ---------  ---------  ---------  ---------  ---------  ---------\n",
      "   1     0.0000     0.1116    96.5467     0.1623    95.6400     5.7388\n",
      "  ep         lr    tr_loss     tr_acc     te_nll     te_acc       time\n",
      "----  ---------  ---------  ---------  ---------  ---------  ---------\n",
      "   2     0.0000     0.1040    96.7817     0.1624    95.8700     5.7500\n",
      "  ep         lr    tr_loss     tr_acc     te_nll     te_acc       time\n",
      "----  ---------  ---------  ---------  ---------  ---------  ---------\n",
      "   3     0.0000     0.1013    96.8750     0.1676    96.0500     5.7654\n",
      "  ep         lr    tr_loss     tr_acc     te_nll     te_acc       time\n",
      "----  ---------  ---------  ---------  ---------  ---------  ---------\n",
      "   4     0.0000     0.0968    96.9917     0.1590    95.8800     5.7755\n",
      "  ep         lr    tr_loss     tr_acc     te_nll     te_acc       time\n",
      "----  ---------  ---------  ---------  ---------  ---------  ---------\n",
      "   5     0.0000     0.0956    96.9800     0.1553    96.1200     5.7759\n",
      "  ep         lr    tr_loss     tr_acc     te_nll     te_acc       time\n",
      "----  ---------  ---------  ---------  ---------  ---------  ---------\n",
      "   6     0.0000     0.0926    97.0300     0.1554    95.9600     5.8127\n",
      "  ep         lr    tr_loss     tr_acc     te_nll     te_acc       time\n",
      "----  ---------  ---------  ---------  ---------  ---------  ---------\n",
      "   7     0.0000     0.0899    97.1333     0.1548    96.0500     5.7871\n",
      "  ep         lr    tr_loss     tr_acc     te_nll     te_acc       time\n",
      "----  ---------  ---------  ---------  ---------  ---------  ---------\n",
      "   8     0.0000     0.0866    97.2433     0.1546    96.1400     5.7900\n",
      "  ep         lr    tr_loss     tr_acc     te_nll     te_acc       time\n",
      "----  ---------  ---------  ---------  ---------  ---------  ---------\n",
      "   9     0.0000     0.0853    97.3817     0.1605    96.1000     5.7825\n",
      "  ep         lr    tr_loss     tr_acc     te_nll     te_acc       time\n",
      "----  ---------  ---------  ---------  ---------  ---------  ---------\n",
      "  10     0.0000     0.0826    97.3533     0.1492    96.2600     5.7954\n"
     ]
    }
   ],
   "source": [
    "optimizer = torch.optim.Adam(\n",
    "    filter(lambda param: param.requires_grad, G.parameters()),\n",
    "    lr=0.0001,\n",
    "    weight_decay=0.\n",
    ")\n",
    "\n",
    "columns = ['ep', 'lr', 'tr_loss', 'tr_acc', 'te_nll', 'te_acc', 'time']\n",
    "for epoch in range(0, 10 + 1):\n",
    "    time_ep = time.time()\n",
    "\n",
    "    train_res = utils.train(loaders['train'], G, optimizer, criterion, regularizer, cuda=True)\n",
    "    test_res = utils.test(loaders['test'], G, criterion, regularizer, cuda=True)\n",
    "\n",
    "    time_ep = time.time() - time_ep\n",
    "    values = [epoch, lr, train_res['loss'], train_res['accuracy'], test_res['nll'],\n",
    "              test_res['accuracy'], time_ep]\n",
    "\n",
    "    table = tabulate.tabulate([values], columns, tablefmt='simple', floatfmt='9.4f')\n",
    "    print(table)"
   ]
  },
  {
   "cell_type": "code",
   "execution_count": 148,
   "metadata": {},
   "outputs": [],
   "source": [
    "def di(samples1, samples2):\n",
    "    dx = (samples1 - samples2)\n",
    "    dictance = np.sqrt((dx*dx).sum())\n",
    "    print(dictance)"
   ]
  },
  {
   "cell_type": "code",
   "execution_count": 150,
   "metadata": {},
   "outputs": [],
   "source": [
    "S = [1/2000*G.sample_weights(2000).cpu().data.numpy() for _ in range(4)]\n"
   ]
  },
  {
   "cell_type": "code",
   "execution_count": 152,
   "metadata": {},
   "outputs": [
    {
     "name": "stdout",
     "output_type": "stream",
     "text": [
      "0 1\n",
      "6.028146\n",
      "0 2\n",
      "5.991811\n",
      "0 3\n",
      "6.0165396\n",
      "1 2\n",
      "6.0026054\n",
      "1 3\n",
      "6.0141177\n",
      "2 3\n",
      "5.9938226\n"
     ]
    }
   ],
   "source": [
    "for i in range(4):\n",
    "    for j in range(i+1, 4):\n",
    "        print(i, j) \n",
    "        di(S[i], S[j])"
   ]
  },
  {
   "cell_type": "code",
   "execution_count": null,
   "metadata": {},
   "outputs": [
    {
     "name": "stdout",
     "output_type": "stream",
     "text": [
      "  ep         lr    tr_loss     tr_acc     te_nll     te_acc       time\n",
      "----  ---------  ---------  ---------  ---------  ---------  ---------\n",
      "   0     0.0010     2.2896    11.5267     2.2839    11.1000   244.8504\n"
     ]
    }
   ],
   "source": [
    "optimizer = torch.optim.Adam(\n",
    "    filter(lambda param: param.requires_grad, G.parameters()),\n",
    "    lr=0.01,\n",
    "    weight_decay=0.\n",
    ")\n",
    "columns = ['ep', 'lr', 'tr_loss', 'tr_acc', 'te_nll', 'te_acc', 'time']\n",
    "for epoch in range(0, 10 + 1):\n",
    "    time_ep = time.time()\n",
    "\n",
    "#     utils.adjust_learning_rate(optimizer, lr)\n",
    "\n",
    "    train_res = utils.train(loaders['train'], G, optimizer, criterion, regularizer)\n",
    "    test_res = utils.test(loaders['test'], G, criterion, regularizer)\n",
    "\n",
    "    time_ep = time.time() - time_ep\n",
    "    values = [epoch, lr, train_res['loss'], train_res['accuracy'], test_res['nll'],\n",
    "              test_res['accuracy'], time_ep]\n",
    "\n",
    "    table = tabulate.tabulate([values], columns, tablefmt='simple', floatfmt='9.4f')\n",
    "    print(table)"
   ]
  },
  {
   "cell_type": "code",
   "execution_count": 116,
   "metadata": {},
   "outputs": [
    {
     "ename": "KeyboardInterrupt",
     "evalue": "",
     "output_type": "error",
     "traceback": [
      "\u001b[0;31m---------------------------------------------------------------------------\u001b[0m",
      "\u001b[0;31mKeyboardInterrupt\u001b[0m                         Traceback (most recent call last)",
      "\u001b[0;32m<ipython-input-116-c510dcaba43d>\u001b[0m in \u001b[0;36m<module>\u001b[0;34m()\u001b[0m\n\u001b[1;32m      6\u001b[0m     \u001b[0mutils\u001b[0m\u001b[0;34m.\u001b[0m\u001b[0madjust_learning_rate\u001b[0m\u001b[0;34m(\u001b[0m\u001b[0moptimizer\u001b[0m\u001b[0;34m,\u001b[0m \u001b[0mlr\u001b[0m\u001b[0;34m)\u001b[0m\u001b[0;34m\u001b[0m\u001b[0m\n\u001b[1;32m      7\u001b[0m \u001b[0;34m\u001b[0m\u001b[0m\n\u001b[0;32m----> 8\u001b[0;31m     \u001b[0mtrain_res\u001b[0m \u001b[0;34m=\u001b[0m \u001b[0mutils\u001b[0m\u001b[0;34m.\u001b[0m\u001b[0mtrain\u001b[0m\u001b[0;34m(\u001b[0m\u001b[0mloaders\u001b[0m\u001b[0;34m[\u001b[0m\u001b[0;34m'train'\u001b[0m\u001b[0;34m]\u001b[0m\u001b[0;34m,\u001b[0m \u001b[0mG\u001b[0m\u001b[0;34m,\u001b[0m \u001b[0moptimizer\u001b[0m\u001b[0;34m,\u001b[0m \u001b[0mcriterion\u001b[0m\u001b[0;34m,\u001b[0m \u001b[0mregularizer\u001b[0m\u001b[0;34m)\u001b[0m\u001b[0;34m\u001b[0m\u001b[0m\n\u001b[0m\u001b[1;32m      9\u001b[0m     \u001b[0mtest_res\u001b[0m \u001b[0;34m=\u001b[0m \u001b[0mutils\u001b[0m\u001b[0;34m.\u001b[0m\u001b[0mtest\u001b[0m\u001b[0;34m(\u001b[0m\u001b[0mloaders\u001b[0m\u001b[0;34m[\u001b[0m\u001b[0;34m'test'\u001b[0m\u001b[0;34m]\u001b[0m\u001b[0;34m,\u001b[0m \u001b[0mG\u001b[0m\u001b[0;34m,\u001b[0m \u001b[0mcriterion\u001b[0m\u001b[0;34m,\u001b[0m \u001b[0mregularizer\u001b[0m\u001b[0;34m)\u001b[0m\u001b[0;34m\u001b[0m\u001b[0m\n\u001b[1;32m     10\u001b[0m \u001b[0;34m\u001b[0m\u001b[0m\n",
      "\u001b[0;32m~/Documents/thesis/dnn-mode-connectivity/utils.py\u001b[0m in \u001b[0;36mtrain\u001b[0;34m(train_loader, model, optimizer, criterion, regularizer, lr_schedule, cuda)\u001b[0m\n\u001b[1;32m     79\u001b[0m \u001b[0;34m\u001b[0m\u001b[0m\n\u001b[1;32m     80\u001b[0m         \u001b[0moptimizer\u001b[0m\u001b[0;34m.\u001b[0m\u001b[0mzero_grad\u001b[0m\u001b[0;34m(\u001b[0m\u001b[0;34m)\u001b[0m\u001b[0;34m\u001b[0m\u001b[0m\n\u001b[0;32m---> 81\u001b[0;31m         \u001b[0mloss\u001b[0m\u001b[0;34m.\u001b[0m\u001b[0mbackward\u001b[0m\u001b[0;34m(\u001b[0m\u001b[0;34m)\u001b[0m\u001b[0;34m\u001b[0m\u001b[0m\n\u001b[0m\u001b[1;32m     82\u001b[0m         \u001b[0moptimizer\u001b[0m\u001b[0;34m.\u001b[0m\u001b[0mstep\u001b[0m\u001b[0;34m(\u001b[0m\u001b[0;34m)\u001b[0m\u001b[0;34m\u001b[0m\u001b[0m\n\u001b[1;32m     83\u001b[0m \u001b[0;34m\u001b[0m\u001b[0m\n",
      "\u001b[0;32m/anaconda3/lib/python3.6/site-packages/torch/tensor.py\u001b[0m in \u001b[0;36mbackward\u001b[0;34m(self, gradient, retain_graph, create_graph)\u001b[0m\n\u001b[1;32m    100\u001b[0m                 \u001b[0mproducts\u001b[0m\u001b[0;34m.\u001b[0m \u001b[0mDefaults\u001b[0m \u001b[0mto\u001b[0m\u001b[0;31m \u001b[0m\u001b[0;31m`\u001b[0m\u001b[0;31m`\u001b[0m\u001b[0;32mFalse\u001b[0m\u001b[0;31m`\u001b[0m\u001b[0;31m`\u001b[0m\u001b[0;34m.\u001b[0m\u001b[0;34m\u001b[0m\u001b[0m\n\u001b[1;32m    101\u001b[0m         \"\"\"\n\u001b[0;32m--> 102\u001b[0;31m         \u001b[0mtorch\u001b[0m\u001b[0;34m.\u001b[0m\u001b[0mautograd\u001b[0m\u001b[0;34m.\u001b[0m\u001b[0mbackward\u001b[0m\u001b[0;34m(\u001b[0m\u001b[0mself\u001b[0m\u001b[0;34m,\u001b[0m \u001b[0mgradient\u001b[0m\u001b[0;34m,\u001b[0m \u001b[0mretain_graph\u001b[0m\u001b[0;34m,\u001b[0m \u001b[0mcreate_graph\u001b[0m\u001b[0;34m)\u001b[0m\u001b[0;34m\u001b[0m\u001b[0m\n\u001b[0m\u001b[1;32m    103\u001b[0m \u001b[0;34m\u001b[0m\u001b[0m\n\u001b[1;32m    104\u001b[0m     \u001b[0;32mdef\u001b[0m \u001b[0mregister_hook\u001b[0m\u001b[0;34m(\u001b[0m\u001b[0mself\u001b[0m\u001b[0;34m,\u001b[0m \u001b[0mhook\u001b[0m\u001b[0;34m)\u001b[0m\u001b[0;34m:\u001b[0m\u001b[0;34m\u001b[0m\u001b[0m\n",
      "\u001b[0;32m/anaconda3/lib/python3.6/site-packages/torch/autograd/__init__.py\u001b[0m in \u001b[0;36mbackward\u001b[0;34m(tensors, grad_tensors, retain_graph, create_graph, grad_variables)\u001b[0m\n\u001b[1;32m     88\u001b[0m     Variable._execution_engine.run_backward(\n\u001b[1;32m     89\u001b[0m         \u001b[0mtensors\u001b[0m\u001b[0;34m,\u001b[0m \u001b[0mgrad_tensors\u001b[0m\u001b[0;34m,\u001b[0m \u001b[0mretain_graph\u001b[0m\u001b[0;34m,\u001b[0m \u001b[0mcreate_graph\u001b[0m\u001b[0;34m,\u001b[0m\u001b[0;34m\u001b[0m\u001b[0m\n\u001b[0;32m---> 90\u001b[0;31m         allow_unreachable=True)  # allow_unreachable flag\n\u001b[0m\u001b[1;32m     91\u001b[0m \u001b[0;34m\u001b[0m\u001b[0m\n\u001b[1;32m     92\u001b[0m \u001b[0;34m\u001b[0m\u001b[0m\n",
      "\u001b[0;31mKeyboardInterrupt\u001b[0m: "
     ]
    }
   ],
   "source": [
    "columns = ['ep', 'lr', 'tr_loss', 'tr_acc', 'te_nll', 'te_acc', 'time']\n",
    "for epoch in range(0, 10 + 1):\n",
    "    time_ep = time.time()\n",
    "\n",
    "    lr = 1e-3\n",
    "    utils.adjust_learning_rate(optimizer, lr)\n",
    "\n",
    "    train_res = utils.train(loaders['train'], G, optimizer, criterion, regularizer)\n",
    "    test_res = utils.test(loaders['test'], G, criterion, regularizer)\n",
    "\n",
    "    time_ep = time.time() - time_ep\n",
    "    values = [epoch, lr, train_res['loss'], train_res['accuracy'], test_res['nll'],\n",
    "              test_res['accuracy'], time_ep]\n",
    "\n",
    "    table = tabulate.tabulate([values], columns, tablefmt='simple', floatfmt='9.4f')\n",
    "    print(table)"
   ]
  },
  {
   "cell_type": "code",
   "execution_count": 112,
   "metadata": {},
   "outputs": [
    {
     "name": "stdout",
     "output_type": "stream",
     "text": [
      "  ep         lr    tr_loss     tr_acc     te_nll     te_acc       time\n",
      "----  ---------  ---------  ---------  ---------  ---------  ---------\n",
      "   0     0.0010     1.7253    39.2683     2.1102    20.6800   214.1120\n",
      "  ep         lr    tr_loss     tr_acc     te_nll     te_acc       time\n",
      "----  ---------  ---------  ---------  ---------  ---------  ---------\n",
      "   1     0.0010     2.1600    20.8400     2.2362    20.8700   227.0089\n",
      "  ep         lr    tr_loss     tr_acc     te_nll     te_acc       time\n",
      "----  ---------  ---------  ---------  ---------  ---------  ---------\n",
      "   2     0.0010     2.2721    19.5883     2.2902    19.2900   504.5819\n"
     ]
    },
    {
     "name": "stderr",
     "output_type": "stream",
     "text": [
      "Traceback (most recent call last):\n",
      "  File \"/anaconda3/lib/python3.6/multiprocessing/queues.py\", line 240, in _feed\n",
      "    send_bytes(obj)\n",
      "  File \"/anaconda3/lib/python3.6/multiprocessing/connection.py\", line 200, in send_bytes\n",
      "    self._send_bytes(m[offset:offset + size])\n",
      "  File \"/anaconda3/lib/python3.6/multiprocessing/connection.py\", line 404, in _send_bytes\n",
      "    self._send(header + buf)\n",
      "  File \"/anaconda3/lib/python3.6/multiprocessing/connection.py\", line 368, in _send\n",
      "    n = write(self._handle, buf)\n",
      "BrokenPipeError: [Errno 32] Broken pipe\n"
     ]
    },
    {
     "ename": "KeyboardInterrupt",
     "evalue": "",
     "output_type": "error",
     "traceback": [
      "\u001b[0;31m---------------------------------------------------------------------------\u001b[0m",
      "\u001b[0;31mKeyboardInterrupt\u001b[0m                         Traceback (most recent call last)",
      "\u001b[0;32m<ipython-input-112-07aed3397097>\u001b[0m in \u001b[0;36m<module>\u001b[0;34m()\u001b[0m\n\u001b[1;32m     11\u001b[0m     \u001b[0mutils\u001b[0m\u001b[0;34m.\u001b[0m\u001b[0madjust_learning_rate\u001b[0m\u001b[0;34m(\u001b[0m\u001b[0moptimizer\u001b[0m\u001b[0;34m,\u001b[0m \u001b[0mlr\u001b[0m\u001b[0;34m)\u001b[0m\u001b[0;34m\u001b[0m\u001b[0m\n\u001b[1;32m     12\u001b[0m \u001b[0;34m\u001b[0m\u001b[0m\n\u001b[0;32m---> 13\u001b[0;31m     \u001b[0mtrain_res\u001b[0m \u001b[0;34m=\u001b[0m \u001b[0mutils\u001b[0m\u001b[0;34m.\u001b[0m\u001b[0mtrain\u001b[0m\u001b[0;34m(\u001b[0m\u001b[0mloaders\u001b[0m\u001b[0;34m[\u001b[0m\u001b[0;34m'train'\u001b[0m\u001b[0;34m]\u001b[0m\u001b[0;34m,\u001b[0m \u001b[0mG\u001b[0m\u001b[0;34m,\u001b[0m \u001b[0moptimizer\u001b[0m\u001b[0;34m,\u001b[0m \u001b[0mcriterion\u001b[0m\u001b[0;34m,\u001b[0m \u001b[0mregularizer\u001b[0m\u001b[0;34m)\u001b[0m\u001b[0;34m\u001b[0m\u001b[0m\n\u001b[0m\u001b[1;32m     14\u001b[0m     \u001b[0mtest_res\u001b[0m \u001b[0;34m=\u001b[0m \u001b[0mutils\u001b[0m\u001b[0;34m.\u001b[0m\u001b[0mtest\u001b[0m\u001b[0;34m(\u001b[0m\u001b[0mloaders\u001b[0m\u001b[0;34m[\u001b[0m\u001b[0;34m'test'\u001b[0m\u001b[0;34m]\u001b[0m\u001b[0;34m,\u001b[0m \u001b[0mG\u001b[0m\u001b[0;34m,\u001b[0m \u001b[0mcriterion\u001b[0m\u001b[0;34m,\u001b[0m \u001b[0mregularizer\u001b[0m\u001b[0;34m)\u001b[0m\u001b[0;34m\u001b[0m\u001b[0m\n\u001b[1;32m     15\u001b[0m \u001b[0;34m\u001b[0m\u001b[0m\n",
      "\u001b[0;32m~/Documents/thesis/dnn-mode-connectivity/utils.py\u001b[0m in \u001b[0;36mtrain\u001b[0;34m(train_loader, model, optimizer, criterion, regularizer, lr_schedule, cuda)\u001b[0m\n\u001b[1;32m     79\u001b[0m \u001b[0;34m\u001b[0m\u001b[0m\n\u001b[1;32m     80\u001b[0m         \u001b[0moptimizer\u001b[0m\u001b[0;34m.\u001b[0m\u001b[0mzero_grad\u001b[0m\u001b[0;34m(\u001b[0m\u001b[0;34m)\u001b[0m\u001b[0;34m\u001b[0m\u001b[0m\n\u001b[0;32m---> 81\u001b[0;31m         \u001b[0mloss\u001b[0m\u001b[0;34m.\u001b[0m\u001b[0mbackward\u001b[0m\u001b[0;34m(\u001b[0m\u001b[0;34m)\u001b[0m\u001b[0;34m\u001b[0m\u001b[0m\n\u001b[0m\u001b[1;32m     82\u001b[0m         \u001b[0moptimizer\u001b[0m\u001b[0;34m.\u001b[0m\u001b[0mstep\u001b[0m\u001b[0;34m(\u001b[0m\u001b[0;34m)\u001b[0m\u001b[0;34m\u001b[0m\u001b[0m\n\u001b[1;32m     83\u001b[0m \u001b[0;34m\u001b[0m\u001b[0m\n",
      "\u001b[0;32m/anaconda3/lib/python3.6/site-packages/torch/tensor.py\u001b[0m in \u001b[0;36mbackward\u001b[0;34m(self, gradient, retain_graph, create_graph)\u001b[0m\n\u001b[1;32m    100\u001b[0m                 \u001b[0mproducts\u001b[0m\u001b[0;34m.\u001b[0m \u001b[0mDefaults\u001b[0m \u001b[0mto\u001b[0m\u001b[0;31m \u001b[0m\u001b[0;31m`\u001b[0m\u001b[0;31m`\u001b[0m\u001b[0;32mFalse\u001b[0m\u001b[0;31m`\u001b[0m\u001b[0;31m`\u001b[0m\u001b[0;34m.\u001b[0m\u001b[0;34m\u001b[0m\u001b[0m\n\u001b[1;32m    101\u001b[0m         \"\"\"\n\u001b[0;32m--> 102\u001b[0;31m         \u001b[0mtorch\u001b[0m\u001b[0;34m.\u001b[0m\u001b[0mautograd\u001b[0m\u001b[0;34m.\u001b[0m\u001b[0mbackward\u001b[0m\u001b[0;34m(\u001b[0m\u001b[0mself\u001b[0m\u001b[0;34m,\u001b[0m \u001b[0mgradient\u001b[0m\u001b[0;34m,\u001b[0m \u001b[0mretain_graph\u001b[0m\u001b[0;34m,\u001b[0m \u001b[0mcreate_graph\u001b[0m\u001b[0;34m)\u001b[0m\u001b[0;34m\u001b[0m\u001b[0m\n\u001b[0m\u001b[1;32m    103\u001b[0m \u001b[0;34m\u001b[0m\u001b[0m\n\u001b[1;32m    104\u001b[0m     \u001b[0;32mdef\u001b[0m \u001b[0mregister_hook\u001b[0m\u001b[0;34m(\u001b[0m\u001b[0mself\u001b[0m\u001b[0;34m,\u001b[0m \u001b[0mhook\u001b[0m\u001b[0;34m)\u001b[0m\u001b[0;34m:\u001b[0m\u001b[0;34m\u001b[0m\u001b[0m\n",
      "\u001b[0;32m/anaconda3/lib/python3.6/site-packages/torch/autograd/__init__.py\u001b[0m in \u001b[0;36mbackward\u001b[0;34m(tensors, grad_tensors, retain_graph, create_graph, grad_variables)\u001b[0m\n\u001b[1;32m     88\u001b[0m     Variable._execution_engine.run_backward(\n\u001b[1;32m     89\u001b[0m         \u001b[0mtensors\u001b[0m\u001b[0;34m,\u001b[0m \u001b[0mgrad_tensors\u001b[0m\u001b[0;34m,\u001b[0m \u001b[0mretain_graph\u001b[0m\u001b[0;34m,\u001b[0m \u001b[0mcreate_graph\u001b[0m\u001b[0;34m,\u001b[0m\u001b[0;34m\u001b[0m\u001b[0m\n\u001b[0;32m---> 90\u001b[0;31m         allow_unreachable=True)  # allow_unreachable flag\n\u001b[0m\u001b[1;32m     91\u001b[0m \u001b[0;34m\u001b[0m\u001b[0m\n\u001b[1;32m     92\u001b[0m \u001b[0;34m\u001b[0m\u001b[0m\n",
      "\u001b[0;31mKeyboardInterrupt\u001b[0m: "
     ]
    }
   ],
   "source": [
    "optimizer = torch.optim.Adam(\n",
    "    filter(lambda param: param.requires_grad, G.parameters()),\n",
    "    lr=0.001,\n",
    "    weight_decay=0.5\n",
    ")\n",
    "columns = ['ep', 'lr', 'tr_loss', 'tr_acc', 'te_nll', 'te_acc', 'time']\n",
    "for epoch in range(0, 10 + 1):\n",
    "    time_ep = time.time()\n",
    "\n",
    "#     utils.adjust_learning_rate(optimizer, lr)\n",
    "\n",
    "    train_res = utils.train(loaders['train'], G, optimizer, criterion, regularizer)\n",
    "    test_res = utils.test(loaders['test'], G, criterion, regularizer)\n",
    "\n",
    "    time_ep = time.time() - time_ep\n",
    "    values = [epoch, lr, train_res['loss'], train_res['accuracy'], test_res['nll'],\n",
    "              test_res['accuracy'], time_ep]\n",
    "\n",
    "    table = tabulate.tabulate([values], columns, tablefmt='simple', floatfmt='9.4f')\n",
    "    print(table)"
   ]
  },
  {
   "cell_type": "markdown",
   "metadata": {},
   "source": [
    "## Flow Generator "
   ]
  },
  {
   "cell_type": "code",
   "execution_count": 45,
   "metadata": {},
   "outputs": [],
   "source": [
    "class SNet(nn.Module):\n",
    "    def __init__(self, dim_in, dim_middle):\n",
    "        super(SNet, self).__init__()\n",
    "        self.fc = nn.Sequential(\n",
    "            nn.Linear(dim_in, dim_middle),\n",
    "            nn.Tanh(),\n",
    "            nn.Linear(dim_middle, dim_middle),\n",
    "            nn.Tanh(),\n",
    "            nn.Linear(dim_middle, dim_in)\n",
    "        )\n",
    "        \n",
    "    def forward(self, x):   \n",
    "        x = self.fc(x)\n",
    "        return x\n",
    "    \n",
    "class TNet(nn.Module):\n",
    "    def __init__(self, dim_in, dim_middle):\n",
    "        super(TNet, self).__init__()\n",
    "        self.fc = nn.Sequential(\n",
    "            nn.Linear(dim_in, dim_middle),\n",
    "            nn.Tanh(),\n",
    "            nn.Linear(dim_middle, dim_middle),\n",
    "            nn.Tanh(),\n",
    "            nn.Linear(dim_middle, dim_in),\n",
    "        )\n",
    "        \n",
    "    def forward(self, x):   \n",
    "        x = self.fc(x)\n",
    "        return x"
   ]
  },
  {
   "cell_type": "code",
   "execution_count": 46,
   "metadata": {},
   "outputs": [],
   "source": [
    "nets = SNet# a function that take no arguments and return a pytorch model, dim(X) -> dim(X)\n",
    "nett = TNet# a function that take no arguments and return a pytorch model, dim(X) -> dim(X)\n",
    "\n",
    "# Check nets and nett are working i.e., computing without errors\n",
    "# Check that resulting dimensions s and t are the same and equal dim(X)\n",
    "# ex_nets = nets(dim_in, dim_middle)\n",
    "# ex_mett = nett(dim_in, dim_middle)"
   ]
  },
  {
   "cell_type": "code",
   "execution_count": 47,
   "metadata": {},
   "outputs": [],
   "source": [
    "import numpy as np\n",
    "N_layers = 3\n",
    "masks = torch.Tensor((np.vstack([[1, 0]*N_layers, [0, 1]*N_layers]).T)) # torch.Tensor of size #number_of_coupling_layers x #dim(X)\n",
    "# Check that when dim(X) == 2, the mask for every layer has just one 1.0 and one 0.0 elements."
   ]
  },
  {
   "cell_type": "code",
   "execution_count": 48,
   "metadata": {},
   "outputs": [],
   "source": [
    "from torch import distributions"
   ]
  },
  {
   "cell_type": "code",
   "execution_count": 49,
   "metadata": {},
   "outputs": [],
   "source": [
    "class RealNVP(nn.Module):\n",
    "    def __init__(self, nets, nett, mask, prior):\n",
    "        super(RealNVP, self).__init__()\n",
    "        \n",
    "        # Create a flow\n",
    "        # nets:  a function that return a pytocrn neurel network e.g., nn.Sequential, s = nets(), s: dim(X) -> dim(X)\n",
    "        # nett:  a function that return a pytocrn neurel network e.g., nn.Sequential, t = nett(), t: dim(X) -> dim(X)\n",
    "        # mask:  a torch.Tensor of size #number_of_coupling_layers x #dim(X)\n",
    "        # prior: an object from torch.distributions e.g., torch.distributions.MultivariateNormal\n",
    "        \n",
    "        self.prior = prior\n",
    "        self.mask = nn.Parameter(mask, requires_grad=False)\n",
    "#         print('len', len(mask))\n",
    "        self.t = torch.nn.ModuleList([nett(dim_in=795, dim_middle=1000) for _ in range(len(mask))])\n",
    "        self.s = torch.nn.ModuleList([nets(dim_in=795, dim_middle=1000) for _ in range(len(mask))])\n",
    "        \n",
    "    def g(self, z):\n",
    "        # Compute and return g(z) = x, \n",
    "        #    where self.mask[i], self.t[i], self.s[i] define a i-th masked coupling layer   \n",
    "        # z: a torch.Tensor of shape batchSize x 1 x dim(X)\n",
    "        # return x: a torch.Tensor of shape batchSize x 1 x dim(X)\n",
    "        for i, (s, t) in enumerate(zip(reversed(self.s), reversed(self.t))):\n",
    "            m = self.mask[-i-1]\n",
    "#             print('i', i, 'm', m)\n",
    "#             print('z', z.shape)\n",
    "            z = m*z +(1-m)*(z-t(m*z))*(-s(m*z)).exp()\n",
    "        x = z\n",
    "        return x\n",
    "\n",
    "    def f(self, x):\n",
    "        # Compute f(x) = z and log_det_Jakobian of f, \n",
    "        #    where self.mask[i], self.t[i], self.s[i] define a i-th masked coupling layer   \n",
    "        # x: a torch.Tensor, of shape batchSize x dim(X), is a datapoint\n",
    "        # return z: a torch.Tensor of shape batchSize x dim(X), a hidden representations\n",
    "        # return log_det_J: a torch.Tensor of len batchSize\n",
    "        \n",
    "        z = x\n",
    "        log_det_J = 0\n",
    "        for s, t, m in zip(self.s, self.t, self.mask):\n",
    "            s_res = s(m*z)\n",
    "            z = m*z +(1-m)*(z*s_res.exp()+t(m*z))\n",
    "            log_det_J += ((1-m)*s_res).sum(-1)\n",
    "        \n",
    "        return z, log_det_J\n",
    "    \n",
    "    def log_prob(self,x):\n",
    "        # Compute and return log p(x)\n",
    "        # using the change of variable formula and log_det_J computed by f\n",
    "        # return logp: torch.Tensor of len batchSize\n",
    "        z, log_det_J = self.f(x)\n",
    "        logp = self.prior.log_prob(z)\n",
    "        \n",
    "        return logp+log_det_J\n",
    "        \n",
    "    def sample(self, K): \n",
    "        # Draw and return batchSize samples from flow using implementation of g\n",
    "        # return x: torch.Tensor of shape batchSize x 1 x dim(X)\n",
    "        \n",
    "#         m = MultivariateNormal(torch.zeros(batchSize), torch.eye(batchSize))\n",
    "        z = self.prior.sample((K, ))\n",
    "        x = self.g(z)\n",
    "        \n",
    "        return x"
   ]
  },
  {
   "cell_type": "code",
   "execution_count": 50,
   "metadata": {},
   "outputs": [],
   "source": [
    "class Gaussian_Flow(nn.Module):\n",
    "    def __init__(self, n_dim=795, N_layers=2):\n",
    "        super(Gaussian_Flow, self).__init__()\n",
    "        \n",
    "        onezero = [0, 1]*n_dim\n",
    "        masks = torch.Tensor([[onezero[:n_dim], onezero[1:n_dim+1]]]*N_layers)\n",
    "        masks = masks.view(2*N_layers, -1)\n",
    "#         print('masks', masks, masks.shape)\n",
    "        prior = distributions.MultivariateNormal(torch.zeros(n_dim), torch.eye(n_dim))\n",
    "        \n",
    "        self.nvp = RealNVP(nets, nett, masks, prior)\n",
    "        self.relu = nn.ReLU()\n",
    "        data_b2 = torch.FloatTensor(np.random.normal(size=(10, )))\n",
    "        self.b2 = nn.Parameter(data = data_b2, requires_grad=True)\n",
    "\n",
    "\n",
    "    def forward(self, x, K=2000):\n",
    "\n",
    "        x = x.view(x.size(0), -1)\n",
    "        W = self.nvp.sample(K)\n",
    "        W1 = W[:, :784]\n",
    "        b1 = W[:, 784:785]\n",
    "        W2 =  W[:, 785:].transpose(0,1)\n",
    "        \n",
    "        print('x', x.shape)\n",
    "        print('W1', W1.shape)\n",
    "        print('b1', b1.shape)\n",
    "        x = F.linear(x, W1, b1[:, 0])\n",
    "        print('x', x.shape)\n",
    "#         x = W1 @ x #+ b1\n",
    "        print(x.shape)\n",
    "        x = self.relu(x)\n",
    "#         print('W2', W2.shape)\n",
    "        x = F.linear(x, W2, self.b2) \n",
    "        x = 1/K*x\n",
    "        print(x.shape)\n",
    "        return x"
   ]
  },
  {
   "cell_type": "code",
   "execution_count": 51,
   "metadata": {},
   "outputs": [],
   "source": [
    "GF = Gaussian_Flow(n_dim=795, N_layers=1)"
   ]
  },
  {
   "cell_type": "code",
   "execution_count": 52,
   "metadata": {},
   "outputs": [],
   "source": [
    "criterion = F.cross_entropy\n",
    "regularizer = None \n",
    "optimizer = torch.optim.SGD(\n",
    "    filter(lambda param: param.requires_grad, GF.parameters()),\n",
    "    lr=0.01,\n",
    "    momentum=0.9,\n",
    "    weight_decay=0.0\n",
    ")"
   ]
  },
  {
   "cell_type": "code",
   "execution_count": 53,
   "metadata": {},
   "outputs": [
    {
     "name": "stdout",
     "output_type": "stream",
     "text": [
      "x torch.Size([128, 784])\n",
      "W1 torch.Size([2000, 784])\n",
      "b1 torch.Size([2000, 1])\n",
      "x torch.Size([128, 2000])\n",
      "torch.Size([128, 2000])\n",
      "torch.Size([128, 10])\n"
     ]
    },
    {
     "name": "stderr",
     "output_type": "stream",
     "text": [
      "Traceback (most recent call last):\n",
      "  File \"/anaconda3/lib/python3.6/multiprocessing/queues.py\", line 240, in _feed\n",
      "    send_bytes(obj)\n",
      "  File \"/anaconda3/lib/python3.6/multiprocessing/connection.py\", line 200, in send_bytes\n",
      "    self._send_bytes(m[offset:offset + size])\n",
      "  File \"/anaconda3/lib/python3.6/multiprocessing/connection.py\", line 404, in _send_bytes\n",
      "    self._send(header + buf)\n",
      "  File \"/anaconda3/lib/python3.6/multiprocessing/connection.py\", line 368, in _send\n",
      "    n = write(self._handle, buf)\n",
      "BrokenPipeError: [Errno 32] Broken pipe\n"
     ]
    },
    {
     "ename": "KeyboardInterrupt",
     "evalue": "",
     "output_type": "error",
     "traceback": [
      "\u001b[0;31m---------------------------------------------------------------------------\u001b[0m",
      "\u001b[0;31mKeyboardInterrupt\u001b[0m                         Traceback (most recent call last)",
      "\u001b[0;32m<ipython-input-53-ad60b322f4dd>\u001b[0m in \u001b[0;36m<module>\u001b[0;34m()\u001b[0m\n\u001b[1;32m      6\u001b[0m     \u001b[0mutils\u001b[0m\u001b[0;34m.\u001b[0m\u001b[0madjust_learning_rate\u001b[0m\u001b[0;34m(\u001b[0m\u001b[0moptimizer\u001b[0m\u001b[0;34m,\u001b[0m \u001b[0mlr\u001b[0m\u001b[0;34m)\u001b[0m\u001b[0;34m\u001b[0m\u001b[0m\n\u001b[1;32m      7\u001b[0m \u001b[0;34m\u001b[0m\u001b[0m\n\u001b[0;32m----> 8\u001b[0;31m     \u001b[0mtrain_res\u001b[0m \u001b[0;34m=\u001b[0m \u001b[0mutils\u001b[0m\u001b[0;34m.\u001b[0m\u001b[0mtrain\u001b[0m\u001b[0;34m(\u001b[0m\u001b[0mloaders\u001b[0m\u001b[0;34m[\u001b[0m\u001b[0;34m'train'\u001b[0m\u001b[0;34m]\u001b[0m\u001b[0;34m,\u001b[0m \u001b[0mGF\u001b[0m\u001b[0;34m,\u001b[0m \u001b[0moptimizer\u001b[0m\u001b[0;34m,\u001b[0m \u001b[0mcriterion\u001b[0m\u001b[0;34m,\u001b[0m \u001b[0mregularizer\u001b[0m\u001b[0;34m)\u001b[0m\u001b[0;34m\u001b[0m\u001b[0m\n\u001b[0m\u001b[1;32m      9\u001b[0m     \u001b[0mtest_res\u001b[0m \u001b[0;34m=\u001b[0m \u001b[0mutils\u001b[0m\u001b[0;34m.\u001b[0m\u001b[0mtest\u001b[0m\u001b[0;34m(\u001b[0m\u001b[0mloaders\u001b[0m\u001b[0;34m[\u001b[0m\u001b[0;34m'test'\u001b[0m\u001b[0;34m]\u001b[0m\u001b[0;34m,\u001b[0m \u001b[0mGF\u001b[0m\u001b[0;34m,\u001b[0m \u001b[0mcriterion\u001b[0m\u001b[0;34m,\u001b[0m \u001b[0mregularizer\u001b[0m\u001b[0;34m)\u001b[0m\u001b[0;34m\u001b[0m\u001b[0m\n\u001b[1;32m     10\u001b[0m \u001b[0;34m\u001b[0m\u001b[0m\n",
      "\u001b[0;32m~/Documents/thesis/dnn-mode-connectivity/utils.py\u001b[0m in \u001b[0;36mtrain\u001b[0;34m(train_loader, model, optimizer, criterion, regularizer, lr_schedule, cuda)\u001b[0m\n\u001b[1;32m     73\u001b[0m             \u001b[0mtarget\u001b[0m \u001b[0;34m=\u001b[0m \u001b[0mtarget\u001b[0m\u001b[0;34m.\u001b[0m\u001b[0mcuda\u001b[0m\u001b[0;34m(\u001b[0m\u001b[0mnon_blocking\u001b[0m\u001b[0;34m=\u001b[0m\u001b[0;32mTrue\u001b[0m\u001b[0;34m)\u001b[0m\u001b[0;34m\u001b[0m\u001b[0m\n\u001b[1;32m     74\u001b[0m \u001b[0;34m\u001b[0m\u001b[0m\n\u001b[0;32m---> 75\u001b[0;31m         \u001b[0moutput\u001b[0m \u001b[0;34m=\u001b[0m \u001b[0mmodel\u001b[0m\u001b[0;34m(\u001b[0m\u001b[0minput\u001b[0m\u001b[0;34m)\u001b[0m\u001b[0;34m\u001b[0m\u001b[0m\n\u001b[0m\u001b[1;32m     76\u001b[0m         \u001b[0mloss\u001b[0m \u001b[0;34m=\u001b[0m \u001b[0mcriterion\u001b[0m\u001b[0;34m(\u001b[0m\u001b[0moutput\u001b[0m\u001b[0;34m,\u001b[0m \u001b[0mtarget\u001b[0m\u001b[0;34m)\u001b[0m\u001b[0;34m\u001b[0m\u001b[0m\n\u001b[1;32m     77\u001b[0m         \u001b[0;32mif\u001b[0m \u001b[0mregularizer\u001b[0m \u001b[0;32mis\u001b[0m \u001b[0;32mnot\u001b[0m \u001b[0;32mNone\u001b[0m\u001b[0;34m:\u001b[0m\u001b[0;34m\u001b[0m\u001b[0m\n",
      "\u001b[0;32m/anaconda3/lib/python3.6/site-packages/torch/nn/modules/module.py\u001b[0m in \u001b[0;36m__call__\u001b[0;34m(self, *input, **kwargs)\u001b[0m\n\u001b[1;32m    487\u001b[0m             \u001b[0mresult\u001b[0m \u001b[0;34m=\u001b[0m \u001b[0mself\u001b[0m\u001b[0;34m.\u001b[0m\u001b[0m_slow_forward\u001b[0m\u001b[0;34m(\u001b[0m\u001b[0;34m*\u001b[0m\u001b[0minput\u001b[0m\u001b[0;34m,\u001b[0m \u001b[0;34m**\u001b[0m\u001b[0mkwargs\u001b[0m\u001b[0;34m)\u001b[0m\u001b[0;34m\u001b[0m\u001b[0m\n\u001b[1;32m    488\u001b[0m         \u001b[0;32melse\u001b[0m\u001b[0;34m:\u001b[0m\u001b[0;34m\u001b[0m\u001b[0m\n\u001b[0;32m--> 489\u001b[0;31m             \u001b[0mresult\u001b[0m \u001b[0;34m=\u001b[0m \u001b[0mself\u001b[0m\u001b[0;34m.\u001b[0m\u001b[0mforward\u001b[0m\u001b[0;34m(\u001b[0m\u001b[0;34m*\u001b[0m\u001b[0minput\u001b[0m\u001b[0;34m,\u001b[0m \u001b[0;34m**\u001b[0m\u001b[0mkwargs\u001b[0m\u001b[0;34m)\u001b[0m\u001b[0;34m\u001b[0m\u001b[0m\n\u001b[0m\u001b[1;32m    490\u001b[0m         \u001b[0;32mfor\u001b[0m \u001b[0mhook\u001b[0m \u001b[0;32min\u001b[0m \u001b[0mself\u001b[0m\u001b[0;34m.\u001b[0m\u001b[0m_forward_hooks\u001b[0m\u001b[0;34m.\u001b[0m\u001b[0mvalues\u001b[0m\u001b[0;34m(\u001b[0m\u001b[0;34m)\u001b[0m\u001b[0;34m:\u001b[0m\u001b[0;34m\u001b[0m\u001b[0m\n\u001b[1;32m    491\u001b[0m             \u001b[0mhook_result\u001b[0m \u001b[0;34m=\u001b[0m \u001b[0mhook\u001b[0m\u001b[0;34m(\u001b[0m\u001b[0mself\u001b[0m\u001b[0;34m,\u001b[0m \u001b[0minput\u001b[0m\u001b[0;34m,\u001b[0m \u001b[0mresult\u001b[0m\u001b[0;34m)\u001b[0m\u001b[0;34m\u001b[0m\u001b[0m\n",
      "\u001b[0;32m<ipython-input-50-988a60230630>\u001b[0m in \u001b[0;36mforward\u001b[0;34m(self, x, K)\u001b[0m\n\u001b[1;32m     18\u001b[0m \u001b[0;34m\u001b[0m\u001b[0m\n\u001b[1;32m     19\u001b[0m         \u001b[0mx\u001b[0m \u001b[0;34m=\u001b[0m \u001b[0mx\u001b[0m\u001b[0;34m.\u001b[0m\u001b[0mview\u001b[0m\u001b[0;34m(\u001b[0m\u001b[0mx\u001b[0m\u001b[0;34m.\u001b[0m\u001b[0msize\u001b[0m\u001b[0;34m(\u001b[0m\u001b[0;36m0\u001b[0m\u001b[0;34m)\u001b[0m\u001b[0;34m,\u001b[0m \u001b[0;34m-\u001b[0m\u001b[0;36m1\u001b[0m\u001b[0;34m)\u001b[0m\u001b[0;34m\u001b[0m\u001b[0m\n\u001b[0;32m---> 20\u001b[0;31m         \u001b[0mW\u001b[0m \u001b[0;34m=\u001b[0m \u001b[0mself\u001b[0m\u001b[0;34m.\u001b[0m\u001b[0mnvp\u001b[0m\u001b[0;34m.\u001b[0m\u001b[0msample\u001b[0m\u001b[0;34m(\u001b[0m\u001b[0mK\u001b[0m\u001b[0;34m)\u001b[0m\u001b[0;34m\u001b[0m\u001b[0m\n\u001b[0m\u001b[1;32m     21\u001b[0m         \u001b[0mW1\u001b[0m \u001b[0;34m=\u001b[0m \u001b[0mW\u001b[0m\u001b[0;34m[\u001b[0m\u001b[0;34m:\u001b[0m\u001b[0;34m,\u001b[0m \u001b[0;34m:\u001b[0m\u001b[0;36m784\u001b[0m\u001b[0;34m]\u001b[0m\u001b[0;34m\u001b[0m\u001b[0m\n\u001b[1;32m     22\u001b[0m         \u001b[0mb1\u001b[0m \u001b[0;34m=\u001b[0m \u001b[0mW\u001b[0m\u001b[0;34m[\u001b[0m\u001b[0;34m:\u001b[0m\u001b[0;34m,\u001b[0m \u001b[0;36m784\u001b[0m\u001b[0;34m:\u001b[0m\u001b[0;36m785\u001b[0m\u001b[0;34m]\u001b[0m\u001b[0;34m\u001b[0m\u001b[0m\n",
      "\u001b[0;32m<ipython-input-49-285d7e64106b>\u001b[0m in \u001b[0;36msample\u001b[0;34m(self, K)\u001b[0m\n\u001b[1;32m     58\u001b[0m \u001b[0;34m\u001b[0m\u001b[0m\n\u001b[1;32m     59\u001b[0m \u001b[0;31m#         m = MultivariateNormal(torch.zeros(batchSize), torch.eye(batchSize))\u001b[0m\u001b[0;34m\u001b[0m\u001b[0;34m\u001b[0m\u001b[0m\n\u001b[0;32m---> 60\u001b[0;31m         \u001b[0mz\u001b[0m \u001b[0;34m=\u001b[0m \u001b[0mself\u001b[0m\u001b[0;34m.\u001b[0m\u001b[0mprior\u001b[0m\u001b[0;34m.\u001b[0m\u001b[0msample\u001b[0m\u001b[0;34m(\u001b[0m\u001b[0;34m(\u001b[0m\u001b[0mK\u001b[0m\u001b[0;34m,\u001b[0m \u001b[0;34m)\u001b[0m\u001b[0;34m)\u001b[0m\u001b[0;34m\u001b[0m\u001b[0m\n\u001b[0m\u001b[1;32m     61\u001b[0m         \u001b[0mx\u001b[0m \u001b[0;34m=\u001b[0m \u001b[0mself\u001b[0m\u001b[0;34m.\u001b[0m\u001b[0mg\u001b[0m\u001b[0;34m(\u001b[0m\u001b[0mz\u001b[0m\u001b[0;34m)\u001b[0m\u001b[0;34m\u001b[0m\u001b[0m\n\u001b[1;32m     62\u001b[0m \u001b[0;34m\u001b[0m\u001b[0m\n",
      "\u001b[0;32m/anaconda3/lib/python3.6/site-packages/torch/distributions/distribution.py\u001b[0m in \u001b[0;36msample\u001b[0;34m(self, sample_shape)\u001b[0m\n\u001b[1;32m    116\u001b[0m         \"\"\"\n\u001b[1;32m    117\u001b[0m         \u001b[0;32mwith\u001b[0m \u001b[0mtorch\u001b[0m\u001b[0;34m.\u001b[0m\u001b[0mno_grad\u001b[0m\u001b[0;34m(\u001b[0m\u001b[0;34m)\u001b[0m\u001b[0;34m:\u001b[0m\u001b[0;34m\u001b[0m\u001b[0m\n\u001b[0;32m--> 118\u001b[0;31m             \u001b[0;32mreturn\u001b[0m \u001b[0mself\u001b[0m\u001b[0;34m.\u001b[0m\u001b[0mrsample\u001b[0m\u001b[0;34m(\u001b[0m\u001b[0msample_shape\u001b[0m\u001b[0;34m)\u001b[0m\u001b[0;34m\u001b[0m\u001b[0m\n\u001b[0m\u001b[1;32m    119\u001b[0m \u001b[0;34m\u001b[0m\u001b[0m\n\u001b[1;32m    120\u001b[0m     \u001b[0;32mdef\u001b[0m \u001b[0mrsample\u001b[0m\u001b[0;34m(\u001b[0m\u001b[0mself\u001b[0m\u001b[0;34m,\u001b[0m \u001b[0msample_shape\u001b[0m\u001b[0;34m=\u001b[0m\u001b[0mtorch\u001b[0m\u001b[0;34m.\u001b[0m\u001b[0mSize\u001b[0m\u001b[0;34m(\u001b[0m\u001b[0;34m)\u001b[0m\u001b[0;34m)\u001b[0m\u001b[0;34m:\u001b[0m\u001b[0;34m\u001b[0m\u001b[0m\n",
      "\u001b[0;32m/anaconda3/lib/python3.6/site-packages/torch/distributions/multivariate_normal.py\u001b[0m in \u001b[0;36mrsample\u001b[0;34m(self, sample_shape)\u001b[0m\n\u001b[1;32m    180\u001b[0m         \u001b[0mshape\u001b[0m \u001b[0;34m=\u001b[0m \u001b[0mself\u001b[0m\u001b[0;34m.\u001b[0m\u001b[0m_extended_shape\u001b[0m\u001b[0;34m(\u001b[0m\u001b[0msample_shape\u001b[0m\u001b[0;34m)\u001b[0m\u001b[0;34m\u001b[0m\u001b[0m\n\u001b[1;32m    181\u001b[0m         \u001b[0meps\u001b[0m \u001b[0;34m=\u001b[0m \u001b[0m_standard_normal\u001b[0m\u001b[0;34m(\u001b[0m\u001b[0mshape\u001b[0m\u001b[0;34m,\u001b[0m \u001b[0mdtype\u001b[0m\u001b[0;34m=\u001b[0m\u001b[0mself\u001b[0m\u001b[0;34m.\u001b[0m\u001b[0mloc\u001b[0m\u001b[0;34m.\u001b[0m\u001b[0mdtype\u001b[0m\u001b[0;34m,\u001b[0m \u001b[0mdevice\u001b[0m\u001b[0;34m=\u001b[0m\u001b[0mself\u001b[0m\u001b[0;34m.\u001b[0m\u001b[0mloc\u001b[0m\u001b[0;34m.\u001b[0m\u001b[0mdevice\u001b[0m\u001b[0;34m)\u001b[0m\u001b[0;34m\u001b[0m\u001b[0m\n\u001b[0;32m--> 182\u001b[0;31m         \u001b[0;32mreturn\u001b[0m \u001b[0mself\u001b[0m\u001b[0;34m.\u001b[0m\u001b[0mloc\u001b[0m \u001b[0;34m+\u001b[0m \u001b[0m_batch_mv\u001b[0m\u001b[0;34m(\u001b[0m\u001b[0mself\u001b[0m\u001b[0;34m.\u001b[0m\u001b[0m_unbroadcasted_scale_tril\u001b[0m\u001b[0;34m,\u001b[0m \u001b[0meps\u001b[0m\u001b[0;34m)\u001b[0m\u001b[0;34m\u001b[0m\u001b[0m\n\u001b[0m\u001b[1;32m    183\u001b[0m \u001b[0;34m\u001b[0m\u001b[0m\n\u001b[1;32m    184\u001b[0m     \u001b[0;32mdef\u001b[0m \u001b[0mlog_prob\u001b[0m\u001b[0;34m(\u001b[0m\u001b[0mself\u001b[0m\u001b[0;34m,\u001b[0m \u001b[0mvalue\u001b[0m\u001b[0;34m)\u001b[0m\u001b[0;34m:\u001b[0m\u001b[0;34m\u001b[0m\u001b[0m\n",
      "\u001b[0;32m/anaconda3/lib/python3.6/site-packages/torch/distributions/multivariate_normal.py\u001b[0m in \u001b[0;36m_batch_mv\u001b[0;34m(bmat, bvec)\u001b[0m\n\u001b[1;32m     18\u001b[0m     \u001b[0mjust\u001b[0m \u001b[0mones\u001b[0m \u001b[0mwhich\u001b[0m \u001b[0mcan\u001b[0m \u001b[0mbe\u001b[0m \u001b[0mbroadcasted\u001b[0m\u001b[0;34m.\u001b[0m\u001b[0;34m\u001b[0m\u001b[0m\n\u001b[1;32m     19\u001b[0m     \"\"\"\n\u001b[0;32m---> 20\u001b[0;31m     \u001b[0;32mreturn\u001b[0m \u001b[0mtorch\u001b[0m\u001b[0;34m.\u001b[0m\u001b[0mmatmul\u001b[0m\u001b[0;34m(\u001b[0m\u001b[0mbmat\u001b[0m\u001b[0;34m,\u001b[0m \u001b[0mbvec\u001b[0m\u001b[0;34m.\u001b[0m\u001b[0munsqueeze\u001b[0m\u001b[0;34m(\u001b[0m\u001b[0;34m-\u001b[0m\u001b[0;36m1\u001b[0m\u001b[0;34m)\u001b[0m\u001b[0;34m)\u001b[0m\u001b[0;34m.\u001b[0m\u001b[0msqueeze\u001b[0m\u001b[0;34m(\u001b[0m\u001b[0;34m-\u001b[0m\u001b[0;36m1\u001b[0m\u001b[0;34m)\u001b[0m\u001b[0;34m\u001b[0m\u001b[0m\n\u001b[0m\u001b[1;32m     21\u001b[0m \u001b[0;34m\u001b[0m\u001b[0m\n\u001b[1;32m     22\u001b[0m \u001b[0;34m\u001b[0m\u001b[0m\n",
      "\u001b[0;31mKeyboardInterrupt\u001b[0m: "
     ]
    }
   ],
   "source": [
    "columns = ['ep', 'lr', 'tr_loss', 'tr_acc', 'te_nll', 'te_acc', 'time']\n",
    "for epoch in range(0, 10 + 1):\n",
    "    time_ep = time.time()\n",
    "\n",
    "    lr = 1e-3\n",
    "    utils.adjust_learning_rate(optimizer, lr)\n",
    "\n",
    "    train_res = utils.train(loaders['train'], GF, optimizer, criterion, regularizer)\n",
    "    test_res = utils.test(loaders['test'], GF, criterion, regularizer)\n",
    "\n",
    "    time_ep = time.time() - time_ep\n",
    "    values = [epoch, lr, train_res['loss'], train_res['accuracy'], test_res['nll'],\n",
    "              test_res['accuracy'], time_ep]\n",
    "\n",
    "    table = tabulate.tabulate([values], columns, tablefmt='simple', floatfmt='9.4f')\n",
    "    print(table)"
   ]
  },
  {
   "cell_type": "markdown",
   "metadata": {},
   "source": [
    "## Trainig mean and covariance matrix One hidden layer"
   ]
  },
  {
   "cell_type": "code",
   "execution_count": 18,
   "metadata": {},
   "outputs": [],
   "source": [
    "class Gaussian_model(nn.Module):\n",
    "    def __init__(self, n_dim=795):\n",
    "        super(Gaussian_model, self).__init__()\n",
    "        self.A = nn.Linear(n_dim, n_dim)\n",
    "        self.relu = nn.ReLU()\n",
    "        self.in_dim = n_dim\n",
    "        data_mean = torch.FloatTensor(np.random.normal(size=(n_dim, )))\n",
    "        self.mean= nn.Parameter(data = data_mean, requires_grad=True)\n",
    "        \n",
    "        data_b2 = torch.FloatTensor(np.random.normal(size=(10, )))\n",
    "        self.b2 = nn.Parameter(data = data_b2, requires_grad=True)\n",
    "\n",
    "    def sample(self, K, cuda=True):\n",
    "        \n",
    "        if cuda:\n",
    "            shape = torch.Size((K, self.in_dim))\n",
    "            e = torch.cuda.FloatTensor(shape)\n",
    "            torch.randn(shape, out=e)   \n",
    "        else:          \n",
    "            e = torch.randn((K, self.in_dim))\n",
    "        W = (self.mean + self.A(e))       \n",
    "        return W\n",
    "    \n",
    "\n",
    "    def forward(self, x, K=20000):\n",
    "\n",
    "        x = x.view(x.size(0), -1)\n",
    "        W = self.sample(K)\n",
    "        W1 = W[:, :784]\n",
    "        b1 = W[:, 784:785]\n",
    "        W2 =  W[:, 785:].transpose(0,1)\n",
    "        \n",
    "        x = F.linear(x, W1, b1[:, 0])\n",
    "        x = self.relu(x)\n",
    "        x = F.linear(x, W2, self.b2) \n",
    "        x = 1/K*x\n",
    "\n",
    "        return x"
   ]
  },
  {
   "cell_type": "code",
   "execution_count": 19,
   "metadata": {},
   "outputs": [],
   "source": [
    "GM = Gaussian_model()\n",
    "GM.cuda();"
   ]
  },
  {
   "cell_type": "code",
   "execution_count": 22,
   "metadata": {},
   "outputs": [],
   "source": [
    "criterion = F.cross_entropy\n",
    "regularizer = None \n",
    "optimizer = torch.optim.Adam(\n",
    "    filter(lambda param: param.requires_grad, GM.parameters()),\n",
    "    lr=0.01,\n",
    "#     momentum=0.9,\n",
    ")"
   ]
  },
  {
   "cell_type": "code",
   "execution_count": 23,
   "metadata": {
    "scrolled": false
   },
   "outputs": [
    {
     "name": "stdout",
     "output_type": "stream",
     "text": [
      "  ep    tr_loss     tr_acc     te_nll     te_acc       time\n",
      "----  ---------  ---------  ---------  ---------  ---------\n",
      "   0     0.3081    91.3167     0.2685    91.9900     7.5937\n",
      "  ep    tr_loss     tr_acc     te_nll     te_acc       time\n",
      "----  ---------  ---------  ---------  ---------  ---------\n",
      "   1     0.2685    92.0917     0.2484    93.2200     7.5749\n",
      "  ep    tr_loss     tr_acc     te_nll     te_acc       time\n",
      "----  ---------  ---------  ---------  ---------  ---------\n",
      "   2     0.2631    92.3567     0.2584    92.7600     7.6197\n",
      "  ep    tr_loss     tr_acc     te_nll     te_acc       time\n",
      "----  ---------  ---------  ---------  ---------  ---------\n",
      "   3     0.2607    92.3900     0.2583    92.8700     7.6181\n",
      "  ep    tr_loss     tr_acc     te_nll     te_acc       time\n",
      "----  ---------  ---------  ---------  ---------  ---------\n",
      "   4     0.2516    92.5583     0.2549    92.8400     7.6093\n",
      "  ep    tr_loss     tr_acc     te_nll     te_acc       time\n",
      "----  ---------  ---------  ---------  ---------  ---------\n",
      "   5     0.2509    92.6567     0.2622    92.8700     7.6031\n",
      "  ep    tr_loss     tr_acc     te_nll     te_acc       time\n",
      "----  ---------  ---------  ---------  ---------  ---------\n",
      "   6     0.2509    92.5133     0.2957    91.5300     7.6064\n",
      "  ep    tr_loss     tr_acc     te_nll     te_acc       time\n",
      "----  ---------  ---------  ---------  ---------  ---------\n",
      "   7     0.2511    92.5117     0.2631    92.8400     7.6257\n",
      "  ep    tr_loss     tr_acc     te_nll     te_acc       time\n",
      "----  ---------  ---------  ---------  ---------  ---------\n",
      "   8     0.2448    92.6950     0.2799    92.3200     7.6205\n",
      "  ep    tr_loss     tr_acc     te_nll     te_acc       time\n",
      "----  ---------  ---------  ---------  ---------  ---------\n",
      "   9     0.2547    92.4200     0.2805    92.4400     7.6202\n",
      "  ep    tr_loss     tr_acc     te_nll     te_acc       time\n",
      "----  ---------  ---------  ---------  ---------  ---------\n",
      "  10     0.2541    92.5683     0.2733    92.3300     7.6296\n"
     ]
    }
   ],
   "source": [
    "columns = ['ep', 'tr_loss', 'tr_acc', 'te_nll', 'te_acc', 'time']\n",
    "for epoch in range(0, 10 + 1):\n",
    "    time_ep = time.time()\n",
    "\n",
    "\n",
    "    train_res = utils.train(loaders['train'], GM, optimizer, criterion, regularizer, cuda=True)\n",
    "    test_res = utils.test(loaders['test'], GM, criterion, regularizer, cuda=True)\n",
    "\n",
    "    time_ep = time.time() - time_ep\n",
    "    values = [epoch, train_res['loss'], train_res['accuracy'], test_res['nll'],\n",
    "              test_res['accuracy'], time_ep]\n",
    "\n",
    "    table = tabulate.tabulate([values], columns, tablefmt='simple', floatfmt='9.4f')\n",
    "    print(table)"
   ]
  },
  {
   "cell_type": "code",
   "execution_count": 884,
   "metadata": {},
   "outputs": [],
   "source": [
    "# GM(X)[0]"
   ]
  },
  {
   "cell_type": "code",
   "execution_count": 887,
   "metadata": {},
   "outputs": [],
   "source": [
    "# test_res = utils.test(loaders['test'], GM, criterion, regularizer, cuda=True)\n",
    "# test_res"
   ]
  },
  {
   "cell_type": "code",
   "execution_count": 260,
   "metadata": {},
   "outputs": [],
   "source": [
    "samples = GM.sample(2000).data.numpy()\n",
    "sns.kdeplot(samples[:, 0], samples[:, 70], shade=True,  cbar=True)"
   ]
  },
  {
   "cell_type": "code",
   "execution_count": 264,
   "metadata": {},
   "outputs": [
    {
     "name": "stderr",
     "output_type": "stream",
     "text": [
      "/anaconda3/lib/python3.6/site-packages/scipy/stats/stats.py:1706: FutureWarning: Using a non-tuple sequence for multidimensional indexing is deprecated; use `arr[tuple(seq)]` instead of `arr[seq]`. In the future this will be interpreted as an array index, `arr[np.array(seq)]`, which will result either in an error or a different result.\n",
      "  return np.add.reduce(sorted[indexer] * weights, axis=axis) / sumval\n"
     ]
    },
    {
     "data": {
      "text/plain": [
       "<matplotlib.axes._subplots.AxesSubplot at 0x1a3e6529e8>"
      ]
     },
     "execution_count": 264,
     "metadata": {},
     "output_type": "execute_result"
    },
    {
     "data": {
      "image/png": "[encoded data removed]",
      "text/plain": [
       "<matplotlib.figure.Figure at 0x1a3e66b7b8>"
      ]
     },
     "metadata": {},
     "output_type": "display_data"
    }
   ],
   "source": [
    "sns.kdeplot(samples[:, 0], samples[:, 70], shade=True,  cbar=True)"
   ]
  },
  {
   "cell_type": "code",
   "execution_count": 277,
   "metadata": {},
   "outputs": [],
   "source": [
    "X_embeddeds = TSNE(n_components=2).fit_transform(samples)"
   ]
  },
  {
   "cell_type": "code",
   "execution_count": 279,
   "metadata": {},
   "outputs": [
    {
     "name": "stderr",
     "output_type": "stream",
     "text": [
      "/anaconda3/lib/python3.6/site-packages/scipy/stats/stats.py:1706: FutureWarning: Using a non-tuple sequence for multidimensional indexing is deprecated; use `arr[tuple(seq)]` instead of `arr[seq]`. In the future this will be interpreted as an array index, `arr[np.array(seq)]`, which will result either in an error or a different result.\n",
      "  return np.add.reduce(sorted[indexer] * weights, axis=axis) / sumval\n"
     ]
    },
    {
     "data": {
      "text/plain": [
       "<matplotlib.axes._subplots.AxesSubplot at 0x1a362774e0>"
      ]
     },
     "execution_count": 279,
     "metadata": {},
     "output_type": "execute_result"
    },
    {
     "data": {
      "image/png": "[encoded data removed]",
      "text/plain": [
       "<matplotlib.figure.Figure at 0x1a3087f400>"
      ]
     },
     "metadata": {},
     "output_type": "display_data"
    }
   ],
   "source": [
    "sns.kdeplot(X_embeddeds[:, 0], X_embeddeds[:, 1], shade=True,  cbar=True)"
   ]
  },
  {
   "cell_type": "markdown",
   "metadata": {},
   "source": [
    "## Trainig mean and covariance matrix Several hidden layer"
   ]
  },
  {
   "cell_type": "code",
   "execution_count": 249,
   "metadata": {},
   "outputs": [],
   "source": [
    "class GMMultyLayer(nn.Module):\n",
    "    def __init__(self, n_dim=809):\n",
    "        super(GMMultyLayer, self).__init__()\n",
    "        self.n_dim = n_dim\n",
    "        self.A = nn.Linear(n_dim, n_dim)\n",
    "        self.relu = nn.ReLU()\n",
    "        data_mean = torch.FloatTensor(np.random.normal(size=(n_dim, )))\n",
    "        self.mean= nn.Parameter(data = data_mean, requires_grad=True)\n",
    "        \n",
    "        data_bf = torch.FloatTensor(np.random.normal(size=(10, )))\n",
    "        self.bf = nn.Parameter(data = data_bf, requires_grad=True)\n",
    "\n",
    "    def sample(self, K):\n",
    "        e = torch.randn((K, self.mean.size()[0]))\n",
    "        W = (self.mean + self.A(e))       \n",
    "        return W\n",
    "    \n",
    "\n",
    "    def forward(self, x, K=4000):\n",
    "\n",
    "        x = x.view(x.size(0), -1)\n",
    "        W = self.sample(K)\n",
    "        W1 = W[:, :784]\n",
    "        b1 = W[:, 784]\n",
    "        \n",
    "        W2 = W[:, 785]\n",
    "        b2 = W[:, 786]\n",
    "        Wf =  W[:, -10:].transpose(0,1)\n",
    "        \n",
    "        x = F.linear(x, W1, b1)\n",
    "        x = self.relu(x)\n",
    "        for i in range(int(self.n_dim-784-10/2), 2):\n",
    "            Wi = W[:, 785+i]\n",
    "            bi = W[:, 786+i]\n",
    "            x = self.relu(Wi*x+bi)\n",
    "            \n",
    "        x = F.linear(x, Wf, self.bf) \n",
    "        x = 1/K*x\n",
    "#         print(x.shape)\n",
    "        return x"
   ]
  },
  {
   "cell_type": "code",
   "execution_count": 250,
   "metadata": {},
   "outputs": [],
   "source": [
    "GML = GMMultyLayer()"
   ]
  },
  {
   "cell_type": "code",
   "execution_count": 251,
   "metadata": {},
   "outputs": [],
   "source": [
    "criterion = F.cross_entropy\n",
    "regularizer = None \n",
    "optimizer = torch.optim.SGD(\n",
    "    filter(lambda param: param.requires_grad, GML.parameters()),\n",
    "    lr=0.01,\n",
    "    momentum=0.9,\n",
    "    weight_decay=0.0\n",
    ")"
   ]
  },
  {
   "cell_type": "code",
   "execution_count": 252,
   "metadata": {
    "scrolled": false
   },
   "outputs": [
    {
     "name": "stdout",
     "output_type": "stream",
     "text": [
      "  ep         lr    tr_loss     tr_acc     te_nll     te_acc       time\n",
      "----  ---------  ---------  ---------  ---------  ---------  ---------\n",
      "   0     0.0010     2.7916    14.3017     2.2235    14.8000    93.5746\n",
      "  ep         lr    tr_loss     tr_acc     te_nll     te_acc       time\n",
      "----  ---------  ---------  ---------  ---------  ---------  ---------\n",
      "   1     0.0010     2.1833    15.8317     2.1439    18.0300    91.0075\n",
      "  ep         lr    tr_loss     tr_acc     te_nll     te_acc       time\n",
      "----  ---------  ---------  ---------  ---------  ---------  ---------\n",
      "   2     0.0010     2.0937    24.0500     2.0191    30.7600    90.9785\n",
      "  ep         lr    tr_loss     tr_acc     te_nll     te_acc       time\n",
      "----  ---------  ---------  ---------  ---------  ---------  ---------\n",
      "   3     0.0010     1.9095    36.9383     1.7213    47.6100    90.6315\n",
      "  ep         lr    tr_loss     tr_acc     te_nll     te_acc       time\n",
      "----  ---------  ---------  ---------  ---------  ---------  ---------\n",
      "   4     0.0010     1.4738    59.3883     1.1794    67.9500    90.9084\n",
      "  ep         lr    tr_loss     tr_acc     te_nll     te_acc       time\n",
      "----  ---------  ---------  ---------  ---------  ---------  ---------\n",
      "   5     0.0010     1.0308    71.7517     0.8680    74.5800    92.7320\n",
      "  ep         lr    tr_loss     tr_acc     te_nll     te_acc       time\n",
      "----  ---------  ---------  ---------  ---------  ---------  ---------\n",
      "   6     0.0010     0.8114    75.2483     0.7091    76.9900    91.3537\n",
      "  ep         lr    tr_loss     tr_acc     te_nll     te_acc       time\n",
      "----  ---------  ---------  ---------  ---------  ---------  ---------\n",
      "   7     0.0010     0.6591    83.7533     0.5690    87.6800    91.7474\n",
      "  ep         lr    tr_loss     tr_acc     te_nll     te_acc       time\n",
      "----  ---------  ---------  ---------  ---------  ---------  ---------\n",
      "   8     0.0010     0.5372    87.2150     0.4731    88.2000    92.4704\n",
      "  ep         lr    tr_loss     tr_acc     te_nll     te_acc       time\n",
      "----  ---------  ---------  ---------  ---------  ---------  ---------\n",
      "   9     0.0010     0.4687    87.5850     0.4266    88.3400    91.7914\n",
      "  ep         lr    tr_loss     tr_acc     te_nll     te_acc       time\n",
      "----  ---------  ---------  ---------  ---------  ---------  ---------\n",
      "  10     0.0010     0.4312    88.0667     0.3999    88.9800    92.3218\n"
     ]
    }
   ],
   "source": [
    "columns = ['ep', 'lr', 'tr_loss', 'tr_acc', 'te_nll', 'te_acc', 'time']\n",
    "for epoch in range(0, 10 + 1):\n",
    "    time_ep = time.time()\n",
    "\n",
    "    lr = 1e-3\n",
    "    utils.adjust_learning_rate(optimizer, lr)\n",
    "\n",
    "    train_res = utils.train(loaders['train'], GML, optimizer, criterion, regularizer)\n",
    "    test_res = utils.test(loaders['test'], GML, criterion, regularizer)\n",
    "\n",
    "    time_ep = time.time() - time_ep\n",
    "    values = [epoch, lr, train_res['loss'], train_res['accuracy'], test_res['nll'],\n",
    "              test_res['accuracy'], time_ep]\n",
    "\n",
    "    table = tabulate.tabulate([values], columns, tablefmt='simple', floatfmt='9.4f')\n",
    "    print(table)"
   ]
  }
 ],
 "metadata": {
  "kernelspec": {
   "display_name": "Python 3",
   "language": "python",
   "name": "python3"
  },
  "language_info": {
   "codemirror_mode": {
    "name": "ipython",
    "version": 3
   },
   "file_extension": ".py",
   "mimetype": "text/x-python",
   "name": "python",
   "nbconvert_exporter": "python",
   "pygments_lexer": "ipython3",
   "version": "3.7.1"
  }
 },
 "nbformat": 4,
 "nbformat_minor": 2
}
