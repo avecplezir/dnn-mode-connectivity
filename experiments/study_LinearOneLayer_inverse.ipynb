{
 "cells": [
  {
   "cell_type": "code",
   "execution_count": 1,
   "metadata": {},
   "outputs": [],
   "source": [
    "import argparse\n",
    "import numpy as np\n",
    "import os\n",
    "import tabulate\n",
    "import torch\n",
    "import torch.nn.functional as F\n",
    "import torch.nn\n",
    "\n",
    "import data\n",
    "import models\n",
    "import curves\n",
    "import utils\n",
    "\n",
    "import pickle\n",
    "from pylab import rcParams"
   ]
  },
  {
   "cell_type": "code",
   "execution_count": 2,
   "metadata": {},
   "outputs": [],
   "source": [
    "import numpy as np\n",
    "import matplotlib.mlab as mlab\n",
    "import matplotlib.pyplot as plt\n",
    "\n",
    "from scipy.stats import norm\n",
    "\n",
    "import utils\n",
    "import time\n",
    "from torch import nn\n",
    "import seaborn as sns\n",
    "from sklearn.manifold import TSNE"
   ]
  },
  {
   "cell_type": "code",
   "execution_count": 3,
   "metadata": {},
   "outputs": [
    {
     "name": "stdout",
     "output_type": "stream",
     "text": [
      "You are going to run models on the test set. Are you sure?\n"
     ]
    }
   ],
   "source": [
    "architecture = getattr(models, \"LinearOneLayer\")\n",
    "\n",
    "model = architecture.base(num_classes=10, **architecture.kwargs)\n",
    "\n",
    "loaders, num_classes = data.loaders(\n",
    "    \"MNIST\",\n",
    "    \"data\",\n",
    "    128,\n",
    "    1,\n",
    "    \"VGG\",\n",
    "    True)\n",
    "\n",
    "criterion = F.cross_entropy\n",
    "regularizer = None \n",
    "\n",
    "\n",
    "architecture = getattr(models, \"LinearOneLayer\") #LinearOneLayer LogRegression\n",
    "model1 = architecture.base(num_classes=10, **architecture.kwargs)\n",
    "model2 = architecture.base(num_classes=10, **architecture.kwargs)\n",
    "model3 = architecture.base(num_classes=10, **architecture.kwargs)\n",
    "model4 = architecture.base(num_classes=10, **architecture.kwargs)"
   ]
  },
  {
   "cell_type": "code",
   "execution_count": 7,
   "metadata": {},
   "outputs": [],
   "source": [
    "model1.load_state_dict(torch.load('curves_mnist/LinearOneLayer/LongTraining//curve6/checkpoint-30.pt')['model_state'])\n",
    "model2.load_state_dict(torch.load('curves_mnist/LinearOneLayer/LongTraining//curve8/checkpoint-30.pt')['model_state'])\n",
    "\n",
    "model3.load_state_dict(torch.load('curves_mnist/LinearOneLayer/LongTraining/curve6/checkpoint-0.pt')['model_state'])\n",
    "model4.load_state_dict(torch.load('curves_mnist/LinearOneLayer/LongTraining/curve8/checkpoint-0.pt')['model_state'])\n",
    "\n",
    "# look_at_models(model1, model2, model3, model4, architecture)"
   ]
  },
  {
   "cell_type": "code",
   "execution_count": 8,
   "metadata": {},
   "outputs": [],
   "source": [
    "# model1.load_state_dict(torch.load('curves_mnist/LinearOneLayer/Adam/curve5/checkpoint-30.pt')['model_state'])\n",
    "# model2.load_state_dict(torch.load('curves_mnist/LinearOneLayer/Adam/curve6/checkpoint-30.pt')['model_state'])\n",
    "\n",
    "# model3.load_state_dict(torch.load('curves_mnist/LinearOneLayer/Adam/curve5/checkpoint-0.pt')['model_state'])\n",
    "# model4.load_state_dict(torch.load('curves_mnist/LinearOneLayer/Adam/curve6/checkpoint-0.pt')['model_state'])\n"
   ]
  },
  {
   "cell_type": "code",
   "execution_count": 9,
   "metadata": {},
   "outputs": [],
   "source": [
    "def get_model(W, B, architecture):\n",
    "    model_sampled = architecture.base(num_classes=10, **architecture.kwargs)\n",
    "    model_samples = np.array(W) #.cpu().data.numpy()\n",
    "    SIZE = model_sampled.middle_dim\n",
    "\n",
    "    offset = 0\n",
    "    for parameter in list(model_sampled.parameters())[:-1]:\n",
    "        size = int(np.prod(parameter.size())/SIZE)\n",
    "        value = model_samples[:, offset:offset+size]\n",
    "        if size==10 or size==1:\n",
    "             value = value.T\n",
    "#         print(value.shape)\n",
    "        value = value.reshape(parameter.size())\n",
    "#         print(value.shape)\n",
    "        parameter.data.copy_(torch.from_numpy(value))\n",
    "        offset += size\n",
    "\n",
    "    list(model_sampled.parameters())[-1].data.copy_(B.mean(0)) #torch.from_numpy(\n",
    "    \n",
    "    return model_sampled\n",
    "\n",
    "def test(model):\n",
    "    criterion = F.cross_entropy\n",
    "    regularizer = None \n",
    "    train_res = utils.test(loaders['train'], model, criterion, regularizer)\n",
    "    test_res = utils.test(loaders['test'], model, criterion, regularizer) \n",
    "    print(train_res)\n",
    "    print(test_res)\n",
    "\n",
    "def samples(model):\n",
    "    p1 = list(model.parameters())[0].data.cpu().numpy()\n",
    "    p2 = list(model.parameters())[1].data.cpu().numpy()\n",
    "    p3 = list(model.parameters())[2].transpose(0,1).data.cpu().numpy()\n",
    "    samples = np.hstack([p1, p2[:, None], p3])\n",
    "    \n",
    "    return samples"
   ]
  },
  {
   "cell_type": "code",
   "execution_count": 10,
   "metadata": {},
   "outputs": [],
   "source": [
    "def get_vector(model1):\n",
    "    par1 = np.concatenate([p.data.cpu().numpy().ravel() for p in model1.parameters()])\n",
    "    return par1"
   ]
  },
  {
   "cell_type": "code",
   "execution_count": 11,
   "metadata": {},
   "outputs": [],
   "source": [
    "def distance(model1, model2):\n",
    "    par1 = np.concatenate([p.data.cpu().numpy().ravel() for p in model1.parameters()])\n",
    "    par2 = np.concatenate([p.data.cpu().numpy().ravel() for p in model2.parameters()])\n",
    "    u = par2 - par1\n",
    "    dx = np.linalg.norm(u)\n",
    "    return dx"
   ]
  },
  {
   "cell_type": "code",
   "execution_count": 12,
   "metadata": {},
   "outputs": [],
   "source": [
    "class distribution():\n",
    "    def __init__(self, X):\n",
    "        self.sorted_X = np.sort(X)\n",
    "        self.uniform = np.arange(len(X)+1)/len(X)\n",
    "        \n",
    "    \n",
    "    def F(self, x):\n",
    "        b = self.sorted_X>=x\n",
    "        ind = np.argmax(b)\n",
    "#         print(ind)\n",
    "#         print(b)\n",
    "        if ~b[-1] and ind==0:\n",
    "            return 1\n",
    "        elif b[0] and ind==0:\n",
    "            return 0\n",
    "        else:\n",
    "            delta = (x-self.sorted_X[ind-1])/(self.sorted_X[ind]-self.sorted_X[ind-1])\n",
    "            return self.uniform[ind]+delta*(1/len(self.sorted_X))\n",
    "\n",
    "    def inv_F(self, u):\n",
    "        \n",
    "        b = self.uniform[1:]>=u\n",
    "        ind = np.argmax(b)\n",
    "#         print(b)\n",
    "#         print(ind)\n",
    "#         print(len(self.sorted_X))\n",
    "        if b[-1] and ind==(len(self.sorted_X)-1):\n",
    "            return self.sorted_X[-1]\n",
    "        elif b[0] and ind==0:\n",
    "            return self.sorted_X[0]\n",
    "        else:\n",
    "#             print('u', self.uniform[ind])\n",
    "            delta = (u-self.uniform[ind])/(1/len(self.sorted_X))\n",
    "#             print('delta', delta)\n",
    "            return self.sorted_X[ind-1]+delta*(self.sorted_X[ind]-self.sorted_X[ind-1])\n"
   ]
  },
  {
   "cell_type": "code",
   "execution_count": 13,
   "metadata": {},
   "outputs": [],
   "source": [
    "S1 = samples(model1)\n",
    "S2 = samples(model2)"
   ]
  },
  {
   "cell_type": "code",
   "execution_count": 14,
   "metadata": {},
   "outputs": [
    {
     "data": {
      "text/plain": [
       "(4000, 795)"
      ]
     },
     "execution_count": 14,
     "metadata": {},
     "output_type": "execute_result"
    }
   ],
   "source": [
    "S = np.vstack([S1, S2])\n",
    "S.shape"
   ]
  },
  {
   "cell_type": "code",
   "execution_count": 15,
   "metadata": {},
   "outputs": [],
   "source": [
    "def f(Z):\n",
    "    X, All = Z\n",
    "    distr = distribution(All)\n",
    "    u = []\n",
    "    for x in X:\n",
    "        u.append(distr.F(x))\n",
    "        \n",
    "    return np.array(u)\n",
    "\n",
    "def g(Z):\n",
    "    \n",
    "    X, U = Z\n",
    "    distr = distribution(X)\n",
    "    u = []\n",
    "    for x in U:\n",
    "        u.append(distr.inv_F(x))\n",
    "        \n",
    "    return  np.array(u)"
   ]
  },
  {
   "cell_type": "code",
   "execution_count": 45,
   "metadata": {
    "scrolled": false
   },
   "outputs": [
    {
     "data": {
      "image/png": "[encoded data removed]",
      "text/plain": [
       "<Figure size 600x400 with 1 Axes>"
      ]
     },
     "metadata": {
      "needs_background": "light"
     },
     "output_type": "display_data"
    },
    {
     "data": {
      "image/png": "[encoded data removed]",
      "text/plain": [
       "<Figure size 600x400 with 1 Axes>"
      ]
     },
     "metadata": {
      "needs_background": "light"
     },
     "output_type": "display_data"
    },
    {
     "data": {
      "image/png": "[encoded data removed]",
      "text/plain": [
       "<Figure size 600x400 with 1 Axes>"
      ]
     },
     "metadata": {
      "needs_background": "light"
     },
     "output_type": "display_data"
    },
    {
     "data": {
      "image/png": "[encoded data removed]",
      "text/plain": [
       "<Figure size 600x400 with 1 Axes>"
      ]
     },
     "metadata": {
      "needs_background": "light"
     },
     "output_type": "display_data"
    },
    {
     "data": {
      "image/png": "[encoded data removed]",
      "text/plain": [
       "<Figure size 600x400 with 1 Axes>"
      ]
     },
     "metadata": {
      "needs_background": "light"
     },
     "output_type": "display_data"
    },
    {
     "data": {
      "image/png": "[encoded data removed]",
      "text/plain": [
       "<Figure size 600x400 with 1 Axes>"
      ]
     },
     "metadata": {
      "needs_background": "light"
     },
     "output_type": "display_data"
    }
   ],
   "source": [
    "ind = -4\n",
    "rcParams['figure.dpi'] = 100\n",
    "plt.hist(S2[:, ind], bins=30);\n",
    "plt.show()\n",
    "plt.hist(res2[:, ind], bins=30);\n",
    "plt.show()\n",
    "plt.hist(nres2[:, ind], bins = 50);\n",
    "plt.show()\n",
    "plt.hist(nfin[:, ind], bins = 50); \n",
    "plt.show()\n",
    "plt.hist(ufin[:, ind], bins = 50); \n",
    "plt.show()\n",
    "plt.hist(PS_fin[:, ind], bins = 50);  \n",
    "plt.show()"
   ]
  },
  {
   "cell_type": "code",
   "execution_count": 17,
   "metadata": {},
   "outputs": [],
   "source": [
    "import sklearn"
   ]
  },
  {
   "cell_type": "code",
   "execution_count": 18,
   "metadata": {},
   "outputs": [],
   "source": [
    "from sklearn.decomposition import PCA"
   ]
  },
  {
   "cell_type": "code",
   "execution_count": 21,
   "metadata": {},
   "outputs": [],
   "source": [
    "def get_par(S, mean):\n",
    "    new_S = S - mean\n",
    "    cov = new_S.T @ new_S\n",
    "    U, sigma, V = np.linalg.svd(cov)\n",
    "    return U, sigma\n",
    "\n",
    "def get_new_S(S, U, mean):\n",
    "    new = (S-mean)@U\n",
    "    return new\n",
    "\n",
    "def get_inverse_new_S(V, U, mean):\n",
    "#     S = (U @ V.T).T+mean\n",
    "    S = V@np.linalg.inv(U)+mean\n",
    "#     S = V@U2_temp.T*np.sqrt(sigma1)@U1.T*+mean\n",
    "    return S"
   ]
  },
  {
   "cell_type": "code",
   "execution_count": 64,
   "metadata": {},
   "outputs": [],
   "source": [
    "ebs = 0.\n",
    "\n",
    "mean1 = S1.mean(0)\n",
    "mean2 = S2.mean(0)\n",
    "mmean = S.mean(0)\n",
    "\n",
    "K = 795\n",
    "# transPSA1 = PCA(n_components = K)\n",
    "# transPSA2 = PCA(n_components = K)\n",
    "transPSA = PCA(n_components = K)\n",
    "\n",
    "# PS1 = transPSA1.fit_transform(S1)\n",
    "# PS2 = transPSA1.fit_transform(S2)\n",
    "SPS = transPSA.fit_transform(S-mmean)\n",
    "SPS1 = transPSA.transform(S1-mmean)\n",
    "SPS2 = transPSA.transform(S2-mmean)\n",
    "\n",
    "SPS = S\n",
    "SPS1 = S1\n",
    "SPS2 = S2\n",
    "\n",
    "SPS = S-mmean\n",
    "SPS1 = S1-mmean\n",
    "SPS2 = S2-mmean\n",
    "\n",
    "# mean = 0\n",
    "\n",
    "# U1, sigma1 = get_par(SPS1, mean)\n",
    "# U2, sigma2 = get_par(SPS2, mean)\n",
    "# U, _ = get_par(SPS, mean)\n",
    "\n",
    "# U_temp = U1*(1/np.sqrt(sigma1+ebs))\n",
    "\n",
    "# S2_temp = (SPS2-mean)@U_temp\n",
    "# U2_temp, sigma2_temp = get_par(S2_temp, 0)\n",
    "# U = U_temp@U2_temp\n",
    "\n",
    "# PS11 = get_new_S(SPS1, U_temp, mean)\n",
    "# PS111 = get_new_S(PS11, U2_temp, 0)\n",
    "# *(1/np.sqrt(sigma2+0.01))\n",
    "\n",
    "# PS1 = get_new_S(SPS1, U, mean)\n",
    "# PS2 = get_new_S(SPS2, U, mean)\n",
    "# PS = get_new_S(SPS, U, mean)\n",
    "\n",
    "\n",
    "# PS1 = S1\n",
    "# PS2 = S2\n",
    "\n",
    "#inverse\n",
    "# S1 = U @ PS1.T+mean"
   ]
  },
  {
   "cell_type": "code",
   "execution_count": 65,
   "metadata": {},
   "outputs": [],
   "source": [
    "PS1 = SPS1\n",
    "PS2 = SPS2\n",
    "PS = SPS"
   ]
  },
  {
   "cell_type": "code",
   "execution_count": 66,
   "metadata": {},
   "outputs": [
    {
     "data": {
      "text/plain": [
       "((2000, 795), (4000, 795))"
      ]
     },
     "execution_count": 66,
     "metadata": {},
     "output_type": "execute_result"
    }
   ],
   "source": [
    "PS1.shape, PS.shape"
   ]
  },
  {
   "cell_type": "code",
   "execution_count": 67,
   "metadata": {},
   "outputs": [],
   "source": [
    "# def constract_U(S1, S2, S):\n",
    "    \n",
    "#     mean1 = S1.mean(0)\n",
    "#     mean2 = S2.mean(0)\n",
    "#     mean = S.mean(0)\n",
    "    \n",
    "#     SPS = S\n",
    "#     SPS1 = S1\n",
    "#     SPS2 = S2\n",
    "\n",
    "#     U1, sigma1 = get_par(SPS1, mean)\n",
    "#     U2, sigma2 = get_par(SPS2, mean)\n",
    "#     U, _ = get_par(SPS, mean)\n",
    "\n",
    "#     U_temp = U1*(1/np.sqrt(sigma1+ebs))\n",
    "\n",
    "#     S2_temp = (SPS2-mean)@U_temp\n",
    "#     U2_temp, sigma2_temp = get_par(S2_temp, 0)\n",
    "#     U = U_temp@U2_temp\n",
    "\n",
    "#     # PS11 = get_new_S(SPS1, U_temp, mean)\n",
    "#     # PS111 = get_new_S(PS11, U2_temp, 0)\n",
    "#     # *(1/np.sqrt(sigma2+0.01))\n",
    "\n",
    "#     PS1 = get_new_S(SPS1, U, mean)\n",
    "#     PS2 = get_new_S(SPS2, U, mean)\n",
    "#     PS = get_new_S(SPS, U, mean)\n",
    "    \n",
    "#     return U"
   ]
  },
  {
   "cell_type": "code",
   "execution_count": 68,
   "metadata": {},
   "outputs": [],
   "source": [
    "# U1 = constract_U(S1, S2, S)\n",
    "# U2 = constract_U(S2, S1, S)"
   ]
  },
  {
   "cell_type": "code",
   "execution_count": 69,
   "metadata": {},
   "outputs": [],
   "source": [
    "# mean = mmean\n",
    "# U = (U1+U2)\n",
    "# U=U2\n",
    "# PS1 = get_new_S(S1, U, mean)\n",
    "# PS2 = get_new_S(S2, U, mean)\n",
    "# PS = get_new_S(S, U, mean)"
   ]
  },
  {
   "cell_type": "code",
   "execution_count": 70,
   "metadata": {},
   "outputs": [],
   "source": [
    "# # K = 700\n",
    "# transPSA1 = PCA(n_components = K)\n",
    "# transPSA2 = PCA(n_components = K)\n",
    "# transPSA = PCA(n_components = K)\n",
    "\n",
    "# # PS1 = transPSA1.fit_transform(S1)\n",
    "# # PS2 = transPSA1.fit_transform(S2)\n",
    "# # PS = transPSA.fit_transform(S)\n",
    "# # PS1 = transPSA.transform(S1)\n",
    "# # PS2 = transPSA.transform(S2)\n",
    "\n",
    "\n",
    "# mean1 = S1.mean(0)\n",
    "# mean2 = S1.mean(0)\n",
    "# mean = S.mean(0)\n",
    "\n",
    "# U1, sigma1 = get_par(S1, mean1)\n",
    "# U2, sigma2 = get_par(S2, mean2)\n",
    "# U, _ = get_par(S, mean)\n",
    "\n",
    "# U_temp = (1/np.sqrt(sigma1))*U1\n",
    "\n",
    "# S2_temp = (S2-mean2)@U_temp\n",
    "# U2_temp, sigma2_temp = get_par(S2_temp, 0)\n",
    "# # U = U_temp@U2_temp\n",
    "\n",
    "# PS1 = get_new_S(S1, U1, mean1)\n",
    "# PS2 = get_new_S(S2, U2, mean2)\n",
    "# PS = get_new_S(S, U, mean)\n",
    "\n",
    "\n",
    "# # PS1 = S1\n",
    "# # PS2 = S2\n",
    "\n",
    "# #inverse\n",
    "# # S1 = U @ PS1.T+mean"
   ]
  },
  {
   "cell_type": "code",
   "execution_count": 71,
   "metadata": {},
   "outputs": [
    {
     "data": {
      "text/plain": [
       "array([ 0.7030486 ,  0.04101427,  0.01144511,  0.01326988, -0.00185434,\n",
       "       -0.00894011, -0.0067679 ,  0.00130924, -0.01082845, -0.00163303,\n",
       "        0.00683653,  0.01345853,  0.01093168, -0.02140704, -0.00898273,\n",
       "       -0.0131399 ,  0.01477692, -0.01244958,  0.02444052,  0.00415961],\n",
       "      dtype=float32)"
      ]
     },
     "execution_count": 71,
     "metadata": {},
     "output_type": "execute_result"
    }
   ],
   "source": [
    "(PS1.T@PS1)[0][:20]"
   ]
  },
  {
   "cell_type": "code",
   "execution_count": 72,
   "metadata": {},
   "outputs": [
    {
     "data": {
      "text/plain": [
       "array([ 0.727078  ,  0.02376222, -0.00190478,  0.04031616, -0.04862988,\n",
       "        0.00431213, -0.024453  , -0.00413233,  0.02044014,  0.00907686,\n",
       "        0.03443566, -0.01026399, -0.00687521,  0.01437629, -0.00720086,\n",
       "        0.00852482,  0.02827173, -0.02652249, -0.00143928, -0.01155313],\n",
       "      dtype=float32)"
      ]
     },
     "execution_count": 72,
     "metadata": {},
     "output_type": "execute_result"
    }
   ],
   "source": [
    "(PS2.T@PS2)[0][:20]"
   ]
  },
  {
   "cell_type": "code",
   "execution_count": 73,
   "metadata": {},
   "outputs": [
    {
     "data": {
      "text/plain": [
       "array([ 1.4301265 ,  0.06477649,  0.00954033,  0.05358604, -0.05048422,\n",
       "       -0.00462799, -0.03122089, -0.00282309,  0.0096117 ,  0.00744382],\n",
       "      dtype=float32)"
      ]
     },
     "execution_count": 73,
     "metadata": {},
     "output_type": "execute_result"
    }
   ],
   "source": [
    "(PS.T@PS)[0][:10]"
   ]
  },
  {
   "cell_type": "code",
   "execution_count": 74,
   "metadata": {},
   "outputs": [],
   "source": [
    "TR1 = PS\n",
    "TR2 = PS\n",
    "TRF = PS"
   ]
  },
  {
   "cell_type": "code",
   "execution_count": 75,
   "metadata": {},
   "outputs": [],
   "source": [
    "import multiprocessing\n",
    "pool = multiprocessing.Pool(200)\n",
    "res1 = np.array(pool.map(f, zip(PS1.T, TR1.T))).T\n",
    "res2 = np.array(pool.map(f, zip(PS2.T, TR2.T))).T"
   ]
  },
  {
   "cell_type": "code",
   "execution_count": 76,
   "metadata": {},
   "outputs": [
    {
     "data": {
      "text/plain": [
       "((2000, 795), (2000, 795))"
      ]
     },
     "execution_count": 76,
     "metadata": {},
     "output_type": "execute_result"
    }
   ],
   "source": [
    "res1.shape, res2.shape"
   ]
  },
  {
   "cell_type": "code",
   "execution_count": 77,
   "metadata": {},
   "outputs": [],
   "source": [
    "import scipy\n",
    "from scipy.stats import norm"
   ]
  },
  {
   "cell_type": "code",
   "execution_count": 78,
   "metadata": {},
   "outputs": [],
   "source": [
    "rv = norm()"
   ]
  },
  {
   "cell_type": "code",
   "execution_count": 79,
   "metadata": {},
   "outputs": [],
   "source": [
    "nres1 = np.clip(rv.ppf(res1), -10, 10)\n",
    "nres2 =  np.clip(rv.ppf(res2), -10, 10)"
   ]
  },
  {
   "cell_type": "code",
   "execution_count": 80,
   "metadata": {},
   "outputs": [
    {
     "data": {
      "text/plain": [
       "((2000, 795), (2000, 795))"
      ]
     },
     "execution_count": 80,
     "metadata": {},
     "output_type": "execute_result"
    }
   ],
   "source": [
    "nres2.shape, nres1.shape"
   ]
  },
  {
   "cell_type": "code",
   "execution_count": 81,
   "metadata": {},
   "outputs": [],
   "source": [
    "nfin = 1/np.sqrt(2)*nres1+(1/np.sqrt(2))*nres2\n",
    "\n",
    "ufin = rv.cdf(nfin)\n",
    "\n",
    "fin = np.array(pool.map(g, zip(TRF.T, ufin.T))).T\n",
    "\n",
    "# PS_fin = transPSA.inverse_transform(fin)\n",
    "\n",
    "PS_fin = fin\n",
    "\n",
    "# PS_fin = get_inverse_new_S(fin, U, mean) \n",
    "\n",
    "# PS_fin = transPSA.inverse_transform(PS_fin)\n",
    "\n",
    "PS_fin +=mmean"
   ]
  },
  {
   "cell_type": "code",
   "execution_count": 82,
   "metadata": {},
   "outputs": [
    {
     "name": "stdout",
     "output_type": "stream",
     "text": [
      "{'nll': 0.08749410342375437, 'loss': 0.08749410342375437, 'accuracy': 97.75166666666667}\n",
      "{'nll': 0.112172785282135, 'loss': 0.112172785282135, 'accuracy': 96.91}\n"
     ]
    }
   ],
   "source": [
    "B = []\n",
    "B.append(list(model1.parameters())[-1].data.numpy())\n",
    "B.append(list(model2.parameters())[-1].data.numpy())\n",
    "B = torch.tensor(np.array(B))\n",
    "\n",
    "model_inv = get_model(PS_fin, B, architecture)\n",
    "\n",
    "test(model_inv)"
   ]
  },
  {
   "cell_type": "code",
   "execution_count": 42,
   "metadata": {},
   "outputs": [
    {
     "name": "stdout",
     "output_type": "stream",
     "text": [
      "{'nll': 0.04299221709916989, 'loss': 0.04299221709916989, 'accuracy': 99.02166666666666}\n",
      "{'nll': 0.06919561448097229, 'loss': 0.06919561448097229, 'accuracy': 97.81}\n"
     ]
    }
   ],
   "source": [
    "test(model1)"
   ]
  },
  {
   "cell_type": "code",
   "execution_count": 1108,
   "metadata": {},
   "outputs": [
    {
     "name": "stdout",
     "output_type": "stream",
     "text": [
      "{'nll': 0.0429922171096007, 'loss': 0.0429922171096007, 'accuracy': 99.02166666666666}\n",
      "{'nll': 0.06919561448097229, 'loss': 0.06919561448097229, 'accuracy': 97.81}\n"
     ]
    }
   ],
   "source": [
    "test(model1)"
   ]
  },
  {
   "cell_type": "code",
   "execution_count": 992,
   "metadata": {},
   "outputs": [
    {
     "name": "stdout",
     "output_type": "stream",
     "text": [
      "{'nll': 0.04327474986811479, 'loss': 0.04327474986811479, 'accuracy': 99.02833333333334}\n",
      "{'nll': 0.06961786441802978, 'loss': 0.06961786441802978, 'accuracy': 97.95}\n"
     ]
    }
   ],
   "source": [
    "test(model2)"
   ]
  },
  {
   "cell_type": "code",
   "execution_count": 211,
   "metadata": {},
   "outputs": [],
   "source": [
    "from scipy.stats import norm\n",
    "rv = norm()"
   ]
  },
  {
   "cell_type": "code",
   "execution_count": 370,
   "metadata": {},
   "outputs": [
    {
     "name": "stdout",
     "output_type": "stream",
     "text": [
      "X (2000, 795)\n",
      "uni (2001,)\n",
      "6\n"
     ]
    },
    {
     "ename": "ValueError",
     "evalue": "The truth value of an array with more than one element is ambiguous. Use a.any() or a.all()",
     "output_type": "error",
     "traceback": [
      "\u001b[0;31m---------------------------------------------------------------------------\u001b[0m",
      "\u001b[0;31mValueError\u001b[0m                                Traceback (most recent call last)",
      "\u001b[0;32m<ipython-input-370-a220f8592df3>\u001b[0m in \u001b[0;36m<module>\u001b[0;34m\u001b[0m\n\u001b[1;32m      5\u001b[0m \u001b[0mx\u001b[0m \u001b[0;34m=\u001b[0m \u001b[0;36m6\u001b[0m\u001b[0;34m\u001b[0m\u001b[0;34m\u001b[0m\u001b[0m\n\u001b[1;32m      6\u001b[0m \u001b[0mprint\u001b[0m\u001b[0;34m(\u001b[0m\u001b[0mx\u001b[0m\u001b[0;34m)\u001b[0m\u001b[0;34m\u001b[0m\u001b[0;34m\u001b[0m\u001b[0m\n\u001b[0;32m----> 7\u001b[0;31m \u001b[0mprint\u001b[0m\u001b[0;34m(\u001b[0m\u001b[0;34m'u'\u001b[0m\u001b[0;34m,\u001b[0m \u001b[0mdistr\u001b[0m\u001b[0;34m.\u001b[0m\u001b[0mF\u001b[0m\u001b[0;34m(\u001b[0m\u001b[0mx\u001b[0m\u001b[0;34m)\u001b[0m\u001b[0;34m)\u001b[0m\u001b[0;34m\u001b[0m\u001b[0;34m\u001b[0m\u001b[0m\n\u001b[0m\u001b[1;32m      8\u001b[0m \u001b[0mprint\u001b[0m\u001b[0;34m(\u001b[0m\u001b[0;34m'x'\u001b[0m\u001b[0;34m,\u001b[0m \u001b[0mdistr\u001b[0m\u001b[0;34m.\u001b[0m\u001b[0minv_F\u001b[0m\u001b[0;34m(\u001b[0m\u001b[0mdistr\u001b[0m\u001b[0;34m.\u001b[0m\u001b[0mF\u001b[0m\u001b[0;34m(\u001b[0m\u001b[0mx\u001b[0m\u001b[0;34m)\u001b[0m\u001b[0;34m)\u001b[0m\u001b[0;34m)\u001b[0m\u001b[0;34m\u001b[0m\u001b[0;34m\u001b[0m\u001b[0m\n",
      "\u001b[0;32m<ipython-input-366-e08d0443e848>\u001b[0m in \u001b[0;36mF\u001b[0;34m(self, x)\u001b[0m\n\u001b[1;32m     10\u001b[0m \u001b[0;31m#         print(ind)\u001b[0m\u001b[0;34m\u001b[0m\u001b[0;34m\u001b[0m\u001b[0;34m\u001b[0m\u001b[0m\n\u001b[1;32m     11\u001b[0m \u001b[0;31m#         print(b)\u001b[0m\u001b[0;34m\u001b[0m\u001b[0;34m\u001b[0m\u001b[0;34m\u001b[0m\u001b[0m\n\u001b[0;32m---> 12\u001b[0;31m         \u001b[0;32mif\u001b[0m \u001b[0;34m~\u001b[0m\u001b[0mb\u001b[0m\u001b[0;34m[\u001b[0m\u001b[0;34m-\u001b[0m\u001b[0;36m1\u001b[0m\u001b[0;34m]\u001b[0m \u001b[0;32mand\u001b[0m \u001b[0mind\u001b[0m\u001b[0;34m==\u001b[0m\u001b[0;36m0\u001b[0m\u001b[0;34m:\u001b[0m\u001b[0;34m\u001b[0m\u001b[0;34m\u001b[0m\u001b[0m\n\u001b[0m\u001b[1;32m     13\u001b[0m             \u001b[0;32mreturn\u001b[0m \u001b[0;36m1\u001b[0m\u001b[0;34m\u001b[0m\u001b[0;34m\u001b[0m\u001b[0m\n\u001b[1;32m     14\u001b[0m         \u001b[0;32melif\u001b[0m \u001b[0mb\u001b[0m\u001b[0;34m[\u001b[0m\u001b[0;36m0\u001b[0m\u001b[0;34m]\u001b[0m \u001b[0;32mand\u001b[0m \u001b[0mind\u001b[0m\u001b[0;34m==\u001b[0m\u001b[0;36m0\u001b[0m\u001b[0;34m:\u001b[0m\u001b[0;34m\u001b[0m\u001b[0;34m\u001b[0m\u001b[0m\n",
      "\u001b[0;31mValueError\u001b[0m: The truth value of an array with more than one element is ambiguous. Use a.any() or a.all()"
     ]
    }
   ],
   "source": [
    "distr = distribution(S1)\n",
    "print('X', distr.sorted_X.shape)\n",
    "print('uni', distr.uniform.shape)\n",
    "# x = [6]*795\n",
    "x = 6\n",
    "print(x)\n",
    "print('u', distr.F(x))\n",
    "print('x', distr.inv_F(distr.F(x)))"
   ]
  },
  {
   "cell_type": "code",
   "execution_count": 251,
   "metadata": {},
   "outputs": [
    {
     "name": "stdout",
     "output_type": "stream",
     "text": [
      "X [1 2 5 7 9]\n",
      "uni [0.  0.2 0.4 0.6 0.8 1. ]\n",
      "6\n",
      "u 0.7\n",
      "x 6.0\n"
     ]
    }
   ],
   "source": [
    "distr = distribution(X)\n",
    "print('X', distr.sorted_X)\n",
    "print('uni', distr.uniform)\n",
    "x = 6\n",
    "print(x)\n",
    "print('u', distr.F(x))\n",
    "print('x', distr.inv_F(distr.F(x)))"
   ]
  },
  {
   "cell_type": "code",
   "execution_count": 18,
   "metadata": {},
   "outputs": [],
   "source": [
    "from pylab import rcParams\n",
    "rcParams['figure.figsize'] = 12, 10\n",
    "rcParams['figure.dpi'] = 100"
   ]
  }
 ],
 "metadata": {
  "kernelspec": {
   "display_name": "Python 3",
   "language": "python",
   "name": "python3"
  },
  "language_info": {
   "codemirror_mode": {
    "name": "ipython",
    "version": 3
   },
   "file_extension": ".py",
   "mimetype": "text/x-python",
   "name": "python",
   "nbconvert_exporter": "python",
   "pygments_lexer": "ipython3",
   "version": "3.7.1"
  }
 },
 "nbformat": 4,
 "nbformat_minor": 2
}
