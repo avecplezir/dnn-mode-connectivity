{
 "cells": [
  {
   "cell_type": "code",
   "execution_count": 1,
   "metadata": {},
   "outputs": [],
   "source": [
    "import sys\n",
    "sys.path.append('/home/ivan/distribution_connector')\n",
    "import os\n",
    "\n",
    "from sklearn.decomposition import TruncatedSVD\n"
   ]
  },
  {
   "cell_type": "code",
   "execution_count": 2,
   "metadata": {},
   "outputs": [],
   "source": [
    "from sklearn import datasets\n",
    "import numpy as np\n",
    "import torch\n",
    "from tqdm import tqdm\n",
    "from connector_utils import test_models, gather_statistics, test_func\n",
    "import matplotlib.pyplot as plt"
   ]
  },
  {
   "cell_type": "code",
   "execution_count": 3,
   "metadata": {},
   "outputs": [],
   "source": [
    "from connector import Connector\n",
    "# from one_layer_utils import samples, make_dataset, get_model, get_b\n",
    "from utils import test_model\n",
    "from tqdm import tqdm"
   ]
  },
  {
   "cell_type": "code",
   "execution_count": 4,
   "metadata": {},
   "outputs": [
    {
     "name": "stdout",
     "output_type": "stream",
     "text": [
      "Files already downloaded and verified\n",
      "You are going to run models on the test set. Are you sure?\n",
      "Files already downloaded and verified\n"
     ]
    },
    {
     "data": {
      "text/plain": [
       "IncompatibleKeys(missing_keys=[], unexpected_keys=[])"
      ]
     },
     "execution_count": 4,
     "metadata": {},
     "output_type": "execute_result"
    }
   ],
   "source": [
    "import models\n",
    "model_name = 'LinearOneLayer500'\n",
    "architecture = getattr(models, model_name) #LinearOneLayer LogRegression\n",
    "\n",
    "import data\n",
    "loaders, num_classes = data.loaders(\n",
    "    \"CIFAR10\",\n",
    "    \"data\",\n",
    "    1024,\n",
    "    1,\n",
    "    \"VGG\",\n",
    "    True,\n",
    "    train_random=True,\n",
    "    shuffle_train=False)\n",
    "\n",
    "model1 = architecture.base(num_classes=10, **architecture.kwargs)\n",
    "model2 = architecture.base(num_classes=10, **architecture.kwargs)\n",
    "\n",
    "model1.load_state_dict(torch.load('curves/'+model_name+'/curve1/checkpoint-400.pt')['model_state'])\n",
    "model2.load_state_dict(torch.load('curves/'+model_name+'/curve2/checkpoint-400.pt')['model_state'])\n"
   ]
  },
  {
   "cell_type": "code",
   "execution_count": 5,
   "metadata": {},
   "outputs": [
    {
     "name": "stderr",
     "output_type": "stream",
     "text": [
      " 14%|█▍        | 1/7 [00:20<02:05, 20.88s/it]"
     ]
    },
    {
     "name": "stdout",
     "output_type": "stream",
     "text": [
      "train results {'nll': 0.9828831523132324, 'loss': 0.9828831523132324, 'accuracy': 65.73}\n",
      "test results {'nll': 1.2116106088638305, 'loss': 1.2116106088638305, 'accuracy': 59.5}\n"
     ]
    },
    {
     "name": "stderr",
     "output_type": "stream",
     "text": [
      "\r",
      " 29%|██▊       | 2/7 [00:42<01:45, 21.05s/it]"
     ]
    },
    {
     "name": "stdout",
     "output_type": "stream",
     "text": [
      "train results {'nll': 0.9816506908035278, 'loss': 0.9816506908035278, 'accuracy': 65.836}\n",
      "test results {'nll': 1.206659547996521, 'loss': 1.206659547996521, 'accuracy': 60.09}\n"
     ]
    },
    {
     "name": "stderr",
     "output_type": "stream",
     "text": [
      "\r",
      " 43%|████▎     | 3/7 [01:02<01:23, 20.82s/it]"
     ]
    },
    {
     "name": "stdout",
     "output_type": "stream",
     "text": [
      "train results {'nll': 0.9808937463569641, 'loss': 0.9808937463569641, 'accuracy': 65.626}\n",
      "test results {'nll': 1.2181825088500977, 'loss': 1.2181825088500977, 'accuracy': 59.13}\n"
     ]
    },
    {
     "name": "stderr",
     "output_type": "stream",
     "text": [
      "\r",
      " 57%|█████▋    | 4/7 [01:24<01:02, 21.00s/it]"
     ]
    },
    {
     "name": "stdout",
     "output_type": "stream",
     "text": [
      "train results {'nll': 0.981028369922638, 'loss': 0.981028369922638, 'accuracy': 65.672}\n",
      "test results {'nll': 1.2144161085128784, 'loss': 1.2144161085128784, 'accuracy': 59.83}\n"
     ]
    },
    {
     "name": "stderr",
     "output_type": "stream",
     "text": [
      "\r",
      " 71%|███████▏  | 5/7 [01:45<00:41, 20.99s/it]"
     ]
    },
    {
     "name": "stdout",
     "output_type": "stream",
     "text": [
      "train results {'nll': 0.9842919643402099, 'loss': 0.9842919643402099, 'accuracy': 65.666}\n",
      "test results {'nll': 1.2196703121185302, 'loss': 1.2196703121185302, 'accuracy': 59.45}\n"
     ]
    },
    {
     "name": "stderr",
     "output_type": "stream",
     "text": [
      "\r",
      " 86%|████████▌ | 6/7 [02:06<00:21, 21.18s/it]"
     ]
    },
    {
     "name": "stdout",
     "output_type": "stream",
     "text": [
      "train results {'nll': 0.9822860567855835, 'loss': 0.9822860567855835, 'accuracy': 65.654}\n",
      "test results {'nll': 1.2171074127197266, 'loss': 1.2171074127197266, 'accuracy': 59.48}\n"
     ]
    },
    {
     "name": "stderr",
     "output_type": "stream",
     "text": [
      "\r",
      "100%|██████████| 7/7 [02:28<00:00, 21.49s/it]"
     ]
    },
    {
     "name": "stdout",
     "output_type": "stream",
     "text": [
      "train results {'nll': 0.9824488757896424, 'loss': 0.9824488757896424, 'accuracy': 65.614}\n",
      "test results {'nll': 1.2187187656402587, 'loss': 1.2187187656402587, 'accuracy': 59.14}\n"
     ]
    },
    {
     "name": "stderr",
     "output_type": "stream",
     "text": [
      "\n"
     ]
    }
   ],
   "source": [
    "model1.cuda()\n",
    "model2.cuda()\n",
    "stat = {'train': [], 'test': []}\n",
    "for i in tqdm(range(1, 8)):\n",
    "    model1.load_state_dict(torch.load('curves/'+model_name+'/curve'+str(i)+'/checkpoint-400.pt')['model_state'])\n",
    "    res = test_model(model1, loaders, cuda=True)\n",
    "    stat['train'].append(res[0]['accuracy'])\n",
    "    stat['test'].append(res[1]['accuracy'])\n"
   ]
  },
  {
   "cell_type": "code",
   "execution_count": 6,
   "metadata": {},
   "outputs": [
    {
     "data": {
      "text/plain": [
       "(0.07054655432074972, 0.3216792673151445)"
      ]
     },
     "execution_count": 6,
     "metadata": {},
     "output_type": "execute_result"
    }
   ],
   "source": [
    "np.array(stat['train']).std(), np.array(stat['test']).std()"
   ]
  },
  {
   "cell_type": "code",
   "execution_count": 7,
   "metadata": {},
   "outputs": [
    {
     "data": {
      "text/plain": [
       "(65.68542857142857, 59.51714285714286)"
      ]
     },
     "execution_count": 7,
     "metadata": {},
     "output_type": "execute_result"
    }
   ],
   "source": [
    "np.array(stat['train']).mean(), np.array(stat['test']).mean()"
   ]
  },
  {
   "cell_type": "code",
   "execution_count": 8,
   "metadata": {},
   "outputs": [],
   "source": [
    "# model1.cuda();\n",
    "# model1.eval();\n",
    "# test_model(model1, loaders, cuda=True)"
   ]
  },
  {
   "cell_type": "code",
   "execution_count": 9,
   "metadata": {},
   "outputs": [],
   "source": [
    "# model2.cuda();\n",
    "# model2.eval();\n",
    "# test_model(model2, loaders, cuda=True)"
   ]
  },
  {
   "cell_type": "code",
   "execution_count": 10,
   "metadata": {},
   "outputs": [],
   "source": [
    "def get_data(data_type='train'):\n",
    "    targ = []\n",
    "    data = []\n",
    "    for X, y in loaders[data_type]:\n",
    "        data.append(X.view(-1,3*32*32).cpu().data.numpy())\n",
    "        targ.append(y)\n",
    "\n",
    "    data = np.concatenate(data)\n",
    "    targ = np.concatenate(targ)\n",
    "    \n",
    "    return data, targ"
   ]
  },
  {
   "cell_type": "code",
   "execution_count": 11,
   "metadata": {},
   "outputs": [],
   "source": [
    "data, targ = get_data(data_type='train')"
   ]
  },
  {
   "cell_type": "code",
   "execution_count": 12,
   "metadata": {},
   "outputs": [
    {
     "data": {
      "text/plain": [
       "((50000, 3072), (50000,))"
      ]
     },
     "execution_count": 12,
     "metadata": {},
     "output_type": "execute_result"
    }
   ],
   "source": [
    "data.shape, targ.shape"
   ]
  },
  {
   "cell_type": "code",
   "execution_count": 13,
   "metadata": {},
   "outputs": [],
   "source": [
    "data_test, targ_test = get_data(data_type='test')"
   ]
  },
  {
   "cell_type": "code",
   "execution_count": 14,
   "metadata": {},
   "outputs": [],
   "source": [
    "def next_layer(W, b, data):\n",
    "    funcs = np.maximum(data @ W.T + b, 0)\n",
    "    return funcs\n",
    "\n",
    "    \n",
    "def accuracy(pred, targ):\n",
    "    ens_acc = 100.0 * np.mean(np.argmax(pred, axis=1) == targ)\n",
    "    return ens_acc\n",
    "\n",
    "def get_pred(W1, b1, W0, b0, data):\n",
    "    pred =  np.maximum( data @ W0.T + b0, 0) @ W1.T  + b1\n",
    "    return pred"
   ]
  },
  {
   "cell_type": "code",
   "execution_count": 15,
   "metadata": {},
   "outputs": [],
   "source": [
    "class PointFinderInverse2():\n",
    "    def __init__(self, model1, model2):\n",
    "        out = {}\n",
    "        self.W10 = list(model1.parameters())[0].data.cpu().numpy()\n",
    "        self.W20 = list(model2.parameters())[0].data.cpu().numpy()\n",
    "\n",
    "        self.b10 = list(model1.parameters())[1].data.cpu().numpy()\n",
    "        self.b20 = list(model2.parameters())[1].data.cpu().numpy()\n",
    "\n",
    "        self.W11 = list(model1.parameters())[2].data.cpu().numpy()\n",
    "        self.W21 = list(model2.parameters())[2].data.cpu().numpy()\n",
    "\n",
    "        self.b11 = list(model1.parameters())[3].data.cpu().numpy()\n",
    "        self.b21 = list(model2.parameters())[3].data.cpu().numpy()\n",
    "\n",
    "        self.funcs11 = next_layer(self.W10, self.b10, data=data) \n",
    "        self.funcs21 = next_layer(self.W20, self.b20, data=data)\n",
    "        \n",
    "        self.f_inv21 = np.linalg.pinv(self.funcs21.T)\n",
    "        self.W11b2 = self.W11 @ self.funcs11.T @ self.f_inv21\n",
    "        \n",
    "        self.W10b = np.concatenate([self.W10, np.expand_dims(self.b10, axis=1)], axis=1)\n",
    "        self.W20b = np.concatenate([self.W20, np.expand_dims(self.b20, axis=1)], axis=1)\n",
    "        \n",
    "    def find_point(self, t=0.5, method='arc_connect'):\n",
    "\n",
    "        out = {}\n",
    "        if 0<=t<=1:\n",
    "            s = t\n",
    "            # go from model1 basic to model2 basis weight in 2th layer\n",
    "            Wn0 = getattr(Connector(self.W10b, self.W20b), method)(t=s)[1]\n",
    "            Wn0 = Wn0[:, :-1]\n",
    "            bn0 = Wn0[:, -1]\n",
    "            \n",
    "            funcs = next_layer(Wn0, bn0, data=data)\n",
    "            f_inv = np.linalg.pinv(funcs.T)\n",
    "            Wn1 = self.W11 @ self.funcs11.T @ f_inv\n",
    "            \n",
    "            pred = get_pred(Wn1, self.b11, Wn0, bn0, data) \n",
    "            out['train'] = accuracy(pred, targ)\n",
    "\n",
    "            pred_test = get_pred(Wn1, self.b11, Wn0, bn0, data_test)\n",
    "            out['test'] = accuracy(pred_test, targ_test)\n",
    "            \n",
    "        elif 1<t<=2:\n",
    "            s = t - 1\n",
    "            Wn1 = getattr(Connector(self.W11b2, self.W21), method)(t=s)[1]\n",
    "            bn1 = getattr(Connector(self.b11, self.b21), method)(t=s)[1]\n",
    "            \n",
    "            pred = get_pred(Wn1, bn1, self.W20, self.b20, data) \n",
    "            out['train'] = accuracy(pred, targ)\n",
    "\n",
    "            pred_test = pred = get_pred(Wn1, bn1, self.W20, self.b20, data_test) \n",
    "            out['test'] = accuracy(pred_test, targ_test)\n",
    "            \n",
    "        else:\n",
    "            assert not  0<=t<=2, 't is not in [0, 2]'\n",
    "            \n",
    "        print(t, out)\n",
    "\n",
    "        return out"
   ]
  },
  {
   "cell_type": "markdown",
   "metadata": {},
   "source": [
    "# Path Visualization "
   ]
  },
  {
   "cell_type": "code",
   "execution_count": 16,
   "metadata": {},
   "outputs": [],
   "source": [
    "# finder = PointFinderInverse(model1, model2) \n",
    "finder = PointFinderInverse2(model1, model2)"
   ]
  },
  {
   "cell_type": "code",
   "execution_count": 17,
   "metadata": {},
   "outputs": [],
   "source": [
    "time = np.linspace(0, 2, 9)"
   ]
  },
  {
   "cell_type": "code",
   "execution_count": 18,
   "metadata": {},
   "outputs": [
    {
     "data": {
      "text/plain": [
       "array([0.  , 0.25, 0.5 , 0.75, 1.  , 1.25, 1.5 , 1.75, 2.  ])"
      ]
     },
     "execution_count": 18,
     "metadata": {},
     "output_type": "execute_result"
    }
   ],
   "source": [
    "time"
   ]
  },
  {
   "cell_type": "code",
   "execution_count": 19,
   "metadata": {
    "scrolled": false
   },
   "outputs": [
    {
     "name": "stderr",
     "output_type": "stream",
     "text": [
      " 11%|█         | 1/9 [00:13<01:49, 13.64s/it]"
     ]
    },
    {
     "name": "stdout",
     "output_type": "stream",
     "text": [
      "0.0 {'train': 65.33200000000001, 'test': 57.43000000000001}\n"
     ]
    },
    {
     "name": "stderr",
     "output_type": "stream",
     "text": [
      "\r",
      " 22%|██▏       | 2/9 [00:29<01:40, 14.36s/it]"
     ]
    },
    {
     "name": "stdout",
     "output_type": "stream",
     "text": [
      "0.25 {'train': 59.9, 'test': 55.54}\n"
     ]
    },
    {
     "name": "stderr",
     "output_type": "stream",
     "text": [
      "\r",
      " 33%|███▎      | 3/9 [00:44<01:26, 14.43s/it]"
     ]
    },
    {
     "name": "stdout",
     "output_type": "stream",
     "text": [
      "0.5 {'train': 52.616, 'test': 51.5}\n"
     ]
    },
    {
     "name": "stderr",
     "output_type": "stream",
     "text": [
      "\r",
      " 44%|████▍     | 4/9 [00:59<01:13, 14.68s/it]"
     ]
    },
    {
     "name": "stdout",
     "output_type": "stream",
     "text": [
      "0.75 {'train': 59.45, 'test': 55.46}\n"
     ]
    },
    {
     "name": "stderr",
     "output_type": "stream",
     "text": [
      "\r",
      " 56%|█████▌    | 5/9 [01:13<00:57, 14.46s/it]"
     ]
    },
    {
     "name": "stdout",
     "output_type": "stream",
     "text": [
      "1.0 {'train': 64.322, 'test': 58.8}\n"
     ]
    },
    {
     "name": "stderr",
     "output_type": "stream",
     "text": [
      "\r",
      " 67%|██████▋   | 6/9 [01:14<00:31, 10.54s/it]"
     ]
    },
    {
     "name": "stdout",
     "output_type": "stream",
     "text": [
      "1.25 {'train': 64.538, 'test': 59.8}\n"
     ]
    },
    {
     "name": "stderr",
     "output_type": "stream",
     "text": [
      "\r",
      " 78%|███████▊  | 7/9 [01:16<00:15,  7.82s/it]"
     ]
    },
    {
     "name": "stdout",
     "output_type": "stream",
     "text": [
      "1.5 {'train': 64.666, 'test': 59.58}\n"
     ]
    },
    {
     "name": "stderr",
     "output_type": "stream",
     "text": [
      "\r",
      " 89%|████████▉ | 8/9 [01:17<00:05,  5.95s/it]"
     ]
    },
    {
     "name": "stdout",
     "output_type": "stream",
     "text": [
      "1.75 {'train': 65.12400000000001, 'test': 59.86}\n"
     ]
    },
    {
     "name": "stderr",
     "output_type": "stream",
     "text": [
      "\r",
      "100%|██████████| 9/9 [01:19<00:00,  4.65s/it]"
     ]
    },
    {
     "name": "stdout",
     "output_type": "stream",
     "text": [
      "2.0 {'train': 65.586, 'test': 60.089999999999996}\n"
     ]
    },
    {
     "name": "stderr",
     "output_type": "stream",
     "text": [
      "\n"
     ]
    }
   ],
   "source": [
    "path = {'test': [], 'train': []}\n",
    "for t in tqdm(time):\n",
    "    point = finder.find_point(t=t, method='arc_connect')\n",
    "    path['test'].append(100-point['test']) \n",
    "    path['train'].append(100-point['train']) "
   ]
  },
  {
   "cell_type": "code",
   "execution_count": 22,
   "metadata": {},
   "outputs": [
    {
     "data": {
      "image/png": "[encoded data removed]",
      "text/plain": [
       "<Figure size 432x288 with 1 Axes>"
      ]
     },
     "metadata": {
      "needs_background": "light"
     },
     "output_type": "display_data"
    }
   ],
   "source": [
    "plt.plot(time, path['train'], label='train')\n",
    "plt.plot(time, path['test'], label='test') \n",
    "plt.legend()\n",
    "plt.xlabel('time')\n",
    "plt.ylabel('error (%)')\n",
    "plt.show()"
   ]
  },
  {
   "cell_type": "code",
   "execution_count": 23,
   "metadata": {},
   "outputs": [
    {
     "name": "stderr",
     "output_type": "stream",
     "text": [
      " 11%|█         | 1/9 [00:20<02:43, 20.40s/it]"
     ]
    },
    {
     "name": "stdout",
     "output_type": "stream",
     "text": [
      "0.0 {'train': 65.33200000000001, 'test': 57.43000000000001}\n"
     ]
    },
    {
     "name": "stderr",
     "output_type": "stream",
     "text": [
      "\r",
      " 22%|██▏       | 2/9 [00:36<02:13, 19.12s/it]"
     ]
    },
    {
     "name": "stdout",
     "output_type": "stream",
     "text": [
      "0.25 {'train': 61.18599999999999, 'test': 55.879999999999995}\n"
     ]
    },
    {
     "name": "stderr",
     "output_type": "stream",
     "text": [
      "\r",
      " 33%|███▎      | 3/9 [00:52<01:49, 18.18s/it]"
     ]
    },
    {
     "name": "stdout",
     "output_type": "stream",
     "text": [
      "0.5 {'train': 51.078, 'test': 50.660000000000004}\n"
     ]
    },
    {
     "name": "stderr",
     "output_type": "stream",
     "text": [
      "\r",
      " 44%|████▍     | 4/9 [01:10<01:31, 18.21s/it]"
     ]
    },
    {
     "name": "stdout",
     "output_type": "stream",
     "text": [
      "0.75 {'train': 60.577999999999996, 'test': 55.88999999999999}\n"
     ]
    },
    {
     "name": "stderr",
     "output_type": "stream",
     "text": [
      "\r",
      " 56%|█████▌    | 5/9 [01:26<01:09, 17.37s/it]"
     ]
    },
    {
     "name": "stdout",
     "output_type": "stream",
     "text": [
      "1.0 {'train': 64.322, 'test': 58.8}\n"
     ]
    },
    {
     "name": "stderr",
     "output_type": "stream",
     "text": [
      "\r",
      " 67%|██████▋   | 6/9 [01:28<00:38, 12.72s/it]"
     ]
    },
    {
     "name": "stdout",
     "output_type": "stream",
     "text": [
      "1.25 {'train': 64.984, 'test': 60.58}\n"
     ]
    },
    {
     "name": "stderr",
     "output_type": "stream",
     "text": [
      "\r",
      " 78%|███████▊  | 7/9 [01:29<00:18,  9.38s/it]"
     ]
    },
    {
     "name": "stdout",
     "output_type": "stream",
     "text": [
      "1.5 {'train': 65.358, 'test': 60.61}\n"
     ]
    },
    {
     "name": "stderr",
     "output_type": "stream",
     "text": [
      "\r",
      " 89%|████████▉ | 8/9 [01:30<00:06,  6.96s/it]"
     ]
    },
    {
     "name": "stdout",
     "output_type": "stream",
     "text": [
      "1.75 {'train': 65.512, 'test': 60.51}\n"
     ]
    },
    {
     "name": "stderr",
     "output_type": "stream",
     "text": [
      "\r",
      "100%|██████████| 9/9 [01:32<00:00,  5.38s/it]"
     ]
    },
    {
     "name": "stdout",
     "output_type": "stream",
     "text": [
      "2.0 {'train': 65.586, 'test': 60.089999999999996}\n"
     ]
    },
    {
     "name": "stderr",
     "output_type": "stream",
     "text": [
      "\n"
     ]
    }
   ],
   "source": [
    "path_l = {'test': [], 'train': []}\n",
    "for t in tqdm(time):\n",
    "    point = finder.find_point(t=t, method='lin_connect')\n",
    "    path_l['test'].append(100-point['test']) \n",
    "    path_l['train'].append(100-point['train']) "
   ]
  },
  {
   "cell_type": "code",
   "execution_count": 24,
   "metadata": {},
   "outputs": [
    {
     "data": {
      "image/png": "[encoded data removed]",
      "text/plain": [
       "<Figure size 432x288 with 1 Axes>"
      ]
     },
     "metadata": {
      "needs_background": "light"
     },
     "output_type": "display_data"
    }
   ],
   "source": [
    "plt.plot(time, path_l['train'], label='train')\n",
    "plt.plot(time, path_l['test'], label='test') \n",
    "plt.legend()\n",
    "plt.xlabel('time')\n",
    "plt.ylabel('error (%)')\n",
    "plt.show()"
   ]
  },
  {
   "cell_type": "markdown",
   "metadata": {},
   "source": [
    "# Count statistic in the fixed point"
   ]
  },
  {
   "cell_type": "code",
   "execution_count": 25,
   "metadata": {},
   "outputs": [],
   "source": [
    "def get_stat(pointfinder, t=.5, method='arc_connect'):\n",
    "    stat = {'test': [], 'train': []}\n",
    "    for i in tqdm(range(1, 7)):\n",
    "        model1.load_state_dict(torch.load('curves/'+model_name+'/curve'+str(i)+'/checkpoint-400.pt')['model_state'])\n",
    "        model2.load_state_dict(torch.load('curves/'+model_name+'/curve'+str(i+1)+'/checkpoint-400.pt')['model_state'])\n",
    "        finder = pointfinder(model1, model2) \n",
    "        point = finder.find_point(t=t, method=method)\n",
    "        stat['test'].append(point['test']) \n",
    "        stat['train'].append(point['train']) \n",
    "    return stat"
   ]
  },
  {
   "cell_type": "code",
   "execution_count": 26,
   "metadata": {},
   "outputs": [],
   "source": [
    "def get_mean_svd(stat):\n",
    "    train = np.array(stat['train'])\n",
    "    test = np.array(stat['test'])\n",
    "    return train.mean(), train.std(), test.mean(), test.std()"
   ]
  },
  {
   "cell_type": "code",
   "execution_count": 27,
   "metadata": {},
   "outputs": [
    {
     "name": "stderr",
     "output_type": "stream",
     "text": [
      " 17%|█▋        | 1/6 [00:23<01:59, 23.95s/it]"
     ]
    },
    {
     "name": "stdout",
     "output_type": "stream",
     "text": [
      "0.5 {'train': 50.808, 'test': 49.69}\n"
     ]
    },
    {
     "name": "stderr",
     "output_type": "stream",
     "text": [
      "\r",
      " 33%|███▎      | 2/6 [00:59<01:50, 27.55s/it]"
     ]
    },
    {
     "name": "stdout",
     "output_type": "stream",
     "text": [
      "0.5 {'train': 50.928, 'test': 50.23}\n"
     ]
    },
    {
     "name": "stderr",
     "output_type": "stream",
     "text": [
      "\r",
      " 50%|█████     | 3/6 [01:30<01:25, 28.61s/it]"
     ]
    },
    {
     "name": "stdout",
     "output_type": "stream",
     "text": [
      "0.5 {'train': 50.916, 'test': 49.04}\n"
     ]
    },
    {
     "name": "stderr",
     "output_type": "stream",
     "text": [
      "\r",
      " 67%|██████▋   | 4/6 [02:03<00:59, 29.86s/it]"
     ]
    },
    {
     "name": "stdout",
     "output_type": "stream",
     "text": [
      "0.5 {'train': 51.239999999999995, 'test': 49.66}\n"
     ]
    },
    {
     "name": "stderr",
     "output_type": "stream",
     "text": [
      "\r",
      " 83%|████████▎ | 5/6 [02:33<00:29, 29.83s/it]"
     ]
    },
    {
     "name": "stdout",
     "output_type": "stream",
     "text": [
      "0.5 {'train': 51.498, 'test': 49.63}\n"
     ]
    },
    {
     "name": "stderr",
     "output_type": "stream",
     "text": [
      "\r",
      "100%|██████████| 6/6 [03:05<00:00, 30.58s/it]"
     ]
    },
    {
     "name": "stdout",
     "output_type": "stream",
     "text": [
      "0.5 {'train': 51.086, 'test': 50.68}\n"
     ]
    },
    {
     "name": "stderr",
     "output_type": "stream",
     "text": [
      "\n"
     ]
    }
   ],
   "source": [
    "linpseudo = get_stat(PointFinderInverse2, t=.5, method='lin_connect')"
   ]
  },
  {
   "cell_type": "code",
   "execution_count": 28,
   "metadata": {},
   "outputs": [
    {
     "data": {
      "text/plain": [
       "{'test': [49.69, 50.23, 49.04, 49.66, 49.63, 50.68],\n",
       " 'train': [50.808, 50.928, 50.916, 51.239999999999995, 51.498, 51.086]}"
      ]
     },
     "execution_count": 28,
     "metadata": {},
     "output_type": "execute_result"
    }
   ],
   "source": [
    "linpseudo"
   ]
  },
  {
   "cell_type": "code",
   "execution_count": 29,
   "metadata": {},
   "outputs": [
    {
     "data": {
      "text/plain": [
       "(51.07933333333333, 0.2325013739505395, 49.82166666666666, 0.515539092170085)"
      ]
     },
     "execution_count": 29,
     "metadata": {},
     "output_type": "execute_result"
    }
   ],
   "source": [
    "get_mean_svd(linpseudo)"
   ]
  },
  {
   "cell_type": "code",
   "execution_count": 30,
   "metadata": {},
   "outputs": [
    {
     "name": "stderr",
     "output_type": "stream",
     "text": [
      " 17%|█▋        | 1/6 [00:34<02:51, 34.22s/it]"
     ]
    },
    {
     "name": "stdout",
     "output_type": "stream",
     "text": [
      "0.5 {'train': 52.459999999999994, 'test': 50.580000000000005}\n"
     ]
    },
    {
     "name": "stderr",
     "output_type": "stream",
     "text": [
      "\r",
      " 33%|███▎      | 2/6 [01:06<02:15, 33.77s/it]"
     ]
    },
    {
     "name": "stdout",
     "output_type": "stream",
     "text": [
      "0.5 {'train': 52.244, 'test': 51.24999999999999}\n"
     ]
    },
    {
     "name": "stderr",
     "output_type": "stream",
     "text": [
      "\r",
      " 50%|█████     | 3/6 [01:33<01:34, 31.55s/it]"
     ]
    },
    {
     "name": "stdout",
     "output_type": "stream",
     "text": [
      "0.5 {'train': 52.402, 'test': 50.67}\n"
     ]
    },
    {
     "name": "stderr",
     "output_type": "stream",
     "text": [
      "\r",
      " 67%|██████▋   | 4/6 [02:06<01:04, 32.14s/it]"
     ]
    },
    {
     "name": "stdout",
     "output_type": "stream",
     "text": [
      "0.5 {'train': 52.26, 'test': 50.74999999999999}\n"
     ]
    },
    {
     "name": "stderr",
     "output_type": "stream",
     "text": [
      "\r",
      " 83%|████████▎ | 5/6 [02:36<00:31, 31.47s/it]"
     ]
    },
    {
     "name": "stdout",
     "output_type": "stream",
     "text": [
      "0.5 {'train': 52.717999999999996, 'test': 50.61}\n"
     ]
    },
    {
     "name": "stderr",
     "output_type": "stream",
     "text": [
      "\r",
      "100%|██████████| 6/6 [03:06<00:00, 31.10s/it]"
     ]
    },
    {
     "name": "stdout",
     "output_type": "stream",
     "text": [
      "0.5 {'train': 52.556000000000004, 'test': 51.42}\n"
     ]
    },
    {
     "name": "stderr",
     "output_type": "stream",
     "text": [
      "\n"
     ]
    }
   ],
   "source": [
    "arcpseudo = get_stat(PointFinderInverse2, t=.5, method='arc_connect')"
   ]
  },
  {
   "cell_type": "code",
   "execution_count": 31,
   "metadata": {},
   "outputs": [
    {
     "data": {
      "text/plain": [
       "{'test': [50.580000000000005,\n",
       "  51.24999999999999,\n",
       "  50.67,\n",
       "  50.74999999999999,\n",
       "  50.61,\n",
       "  51.42],\n",
       " 'train': [52.459999999999994,\n",
       "  52.244,\n",
       "  52.402,\n",
       "  52.26,\n",
       "  52.717999999999996,\n",
       "  52.556000000000004]}"
      ]
     },
     "execution_count": 31,
     "metadata": {},
     "output_type": "execute_result"
    }
   ],
   "source": [
    "arcpseudo"
   ]
  },
  {
   "cell_type": "code",
   "execution_count": 32,
   "metadata": {},
   "outputs": [
    {
     "data": {
      "text/plain": [
       "(52.44, 0.16502525059315395, 50.88, 0.32974737805376475)"
      ]
     },
     "execution_count": 32,
     "metadata": {},
     "output_type": "execute_result"
    }
   ],
   "source": [
    "get_mean_svd(arcpseudo)"
   ]
  },
  {
   "cell_type": "code",
   "execution_count": null,
   "metadata": {},
   "outputs": [],
   "source": [
    "f_inv1 = np.linalg.pinv(funcs1.T)"
   ]
  },
  {
   "cell_type": "code",
   "execution_count": null,
   "metadata": {},
   "outputs": [],
   "source": [
    "f_inv2 = np.linalg.pinv(funcs2.T)"
   ]
  },
  {
   "cell_type": "code",
   "execution_count": 62,
   "metadata": {},
   "outputs": [
    {
     "data": {
      "text/plain": [
       "95.27799999999999"
      ]
     },
     "execution_count": 62,
     "metadata": {},
     "output_type": "execute_result"
    }
   ],
   "source": [
    "pred = W12 @ np.maximum(W11 @ np.maximum(W10 @ data.T, 0), 0)\n",
    "accuracy(pred.T, targ)"
   ]
  },
  {
   "cell_type": "code",
   "execution_count": 70,
   "metadata": {},
   "outputs": [
    {
     "data": {
      "text/plain": [
       "95.27799999999999"
      ]
     },
     "execution_count": 70,
     "metadata": {},
     "output_type": "execute_result"
    }
   ],
   "source": [
    "pred = W12 @ np.maximum(W11 @ np.maximum(W10 @ data.T, 0), 0)\n",
    "accuracy(pred.T, targ)"
   ]
  },
  {
   "cell_type": "code",
   "execution_count": 64,
   "metadata": {},
   "outputs": [
    {
     "data": {
      "text/plain": [
       "61.07"
      ]
     },
     "execution_count": 64,
     "metadata": {},
     "output_type": "execute_result"
    }
   ],
   "source": [
    "t=0.5\n",
    "pred = Connector(W12.T, W22.T).arc_connect(t=t)[1].T @ np.maximum(Connector(W11, (W21 @ funcs2.T @ f_inv1)).arc_connect(t=t)[1] @  np.maximum(W10 @ data.T, 0), 0)\n",
    "accuracy(pred.T, targ)"
   ]
  },
  {
   "cell_type": "code",
   "execution_count": 65,
   "metadata": {},
   "outputs": [
    {
     "data": {
      "text/plain": [
       "78.448"
      ]
     },
     "execution_count": 65,
     "metadata": {},
     "output_type": "execute_result"
    }
   ],
   "source": [
    "t = 0.5\n",
    "pred = W22 @ np.maximum(Connector((W21 @ funcs2.T @ f_inv1).T, W21.T).arc_connect(t=t)[1].T @ np.maximum(Connector(W10, W20).arc_connect(t=t)[1]  @ data.T, 0), 0)\n",
    "accuracy(pred.T, targ)"
   ]
  },
  {
   "cell_type": "code",
   "execution_count": null,
   "metadata": {},
   "outputs": [],
   "source": []
  }
 ],
 "metadata": {
  "kernelspec": {
   "display_name": "Python 3",
   "language": "python",
   "name": "python3"
  },
  "language_info": {
   "codemirror_mode": {
    "name": "ipython",
    "version": 3
   },
   "file_extension": ".py",
   "mimetype": "text/x-python",
   "name": "python",
   "nbconvert_exporter": "python",
   "pygments_lexer": "ipython3",
   "version": "3.6.7"
  }
 },
 "nbformat": 4,
 "nbformat_minor": 2
}
