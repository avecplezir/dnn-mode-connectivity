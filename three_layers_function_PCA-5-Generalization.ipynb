{
 "cells": [
  {
   "cell_type": "code",
   "execution_count": 1,
   "metadata": {},
   "outputs": [],
   "source": [
    "import sys\n",
    "sys.path.append('/home/ivan/distribution_connector')\n",
    "import os\n",
    "\n",
    "from sklearn.decomposition import TruncatedSVD\n"
   ]
  },
  {
   "cell_type": "code",
   "execution_count": 2,
   "metadata": {},
   "outputs": [],
   "source": [
    "from sklearn import datasets\n",
    "import numpy as np\n",
    "import torch\n",
    "from tqdm import tqdm\n",
    "from connector_utils import test_models, gather_statistics, test_func\n",
    "import matplotlib.pyplot as plt"
   ]
  },
  {
   "cell_type": "code",
   "execution_count": 3,
   "metadata": {},
   "outputs": [],
   "source": [
    "from connector import Connector\n",
    "# from one_layer_utils import samples, make_dataset, get_model, get_b\n",
    "from utils import test_model\n",
    "from tqdm import tqdm"
   ]
  },
  {
   "cell_type": "code",
   "execution_count": 4,
   "metadata": {},
   "outputs": [
    {
     "name": "stdout",
     "output_type": "stream",
     "text": [
      "Files already downloaded and verified\n",
      "You are going to run models on the test set. Are you sure?\n",
      "Files already downloaded and verified\n"
     ]
    },
    {
     "data": {
      "text/plain": [
       "IncompatibleKeys(missing_keys=[], unexpected_keys=[])"
      ]
     },
     "execution_count": 4,
     "metadata": {},
     "output_type": "execute_result"
    }
   ],
   "source": [
    "import models\n",
    "architecture = getattr(models, \"Linear3NoBias\") #LinearOneLayer LogRegression\n",
    "\n",
    "import data\n",
    "loaders, num_classes = data.loaders(\n",
    "    \"CIFAR10\",\n",
    "    \"data\",\n",
    "    1024,\n",
    "    1,\n",
    "    \"VGG\",\n",
    "    True,\n",
    "    train_random=False,\n",
    "    shuffle_train=False)\n",
    "\n",
    "model1 = architecture.base(num_classes=10, **architecture.kwargs)\n",
    "model2 = architecture.base(num_classes=10, **architecture.kwargs)\n",
    "\n",
    "model1.load_state_dict(torch.load('curves/Linear3NoBias/curve3/checkpoint-400.pt')['model_state'])\n",
    "model2.load_state_dict(torch.load('curves/Linear3NoBias/curve4/checkpoint-400.pt')['model_state'])\n"
   ]
  },
  {
   "cell_type": "code",
   "execution_count": 5,
   "metadata": {},
   "outputs": [
    {
     "name": "stdout",
     "output_type": "stream",
     "text": [
      "train results {'nll': 0.14886100863456725, 'loss': 0.14886100863456725, 'accuracy': 95.12}\n",
      "test results {'nll': 2.030786293411255, 'loss': 2.030786293411255, 'accuracy': 62.54}\n"
     ]
    },
    {
     "data": {
      "text/plain": [
       "({'nll': 0.14886100863456725, 'loss': 0.14886100863456725, 'accuracy': 95.12},\n",
       " {'nll': 2.030786293411255, 'loss': 2.030786293411255, 'accuracy': 62.54})"
      ]
     },
     "execution_count": 5,
     "metadata": {},
     "output_type": "execute_result"
    }
   ],
   "source": [
    "model1.cuda();\n",
    "model1.eval();\n",
    "test_model(model1, loaders, cuda=True)"
   ]
  },
  {
   "cell_type": "code",
   "execution_count": 6,
   "metadata": {},
   "outputs": [
    {
     "name": "stdout",
     "output_type": "stream",
     "text": [
      "train results {'nll': 0.1461340056180954, 'loss': 0.1461340056180954, 'accuracy': 95.278}\n",
      "test results {'nll': 2.016615950393677, 'loss': 2.016615950393677, 'accuracy': 63.44}\n"
     ]
    },
    {
     "data": {
      "text/plain": [
       "({'nll': 0.1461340056180954, 'loss': 0.1461340056180954, 'accuracy': 95.278},\n",
       " {'nll': 2.016615950393677, 'loss': 2.016615950393677, 'accuracy': 63.44})"
      ]
     },
     "execution_count": 6,
     "metadata": {},
     "output_type": "execute_result"
    }
   ],
   "source": [
    "model2.cuda();\n",
    "model2.eval();\n",
    "test_model(model2, loaders, cuda=True)"
   ]
  },
  {
   "cell_type": "code",
   "execution_count": 7,
   "metadata": {},
   "outputs": [],
   "source": [
    "def get_data(data_type='train'):\n",
    "\n",
    "    layer = 0\n",
    "    targ = []\n",
    "    data = []\n",
    "    for X, y in loaders[data_type]:\n",
    "        data.append(X.view(-1,3*32*32).cpu().data.numpy())\n",
    "        targ.append(y)\n",
    "        \n",
    "    data = np.concatenate(data)\n",
    "    targ = np.concatenate(targ)\n",
    "    \n",
    "    return data, targ"
   ]
  },
  {
   "cell_type": "code",
   "execution_count": 8,
   "metadata": {},
   "outputs": [
    {
     "name": "stdout",
     "output_type": "stream",
     "text": [
      "l torch.Size([1024, 6144])\n"
     ]
    }
   ],
   "source": [
    "data, targ = get_data(data_type='train')"
   ]
  },
  {
   "cell_type": "code",
   "execution_count": 9,
   "metadata": {},
   "outputs": [
    {
     "data": {
      "text/plain": [
       "((50000, 3072), (50000,))"
      ]
     },
     "execution_count": 9,
     "metadata": {},
     "output_type": "execute_result"
    }
   ],
   "source": [
    "data.shape, targ.shape"
   ]
  },
  {
   "cell_type": "code",
   "execution_count": 13,
   "metadata": {},
   "outputs": [
    {
     "name": "stdout",
     "output_type": "stream",
     "text": [
      "l torch.Size([1024, 6144])\n"
     ]
    }
   ],
   "source": [
    "data_test, targ_test = get_data(data_type='test')"
   ]
  },
  {
   "cell_type": "code",
   "execution_count": 39,
   "metadata": {},
   "outputs": [],
   "source": [
    "N_data = 10 #6144\n",
    "data, targ = data[:N_data], targ[:N_data]"
   ]
  },
  {
   "cell_type": "code",
   "execution_count": 15,
   "metadata": {},
   "outputs": [],
   "source": [
    "def next_layer(W, data):\n",
    "    funcs = np.maximum(data @ W.T, 0)\n",
    "    return funcs\n",
    "\n",
    "    \n",
    "def accuracy(pred, targ):\n",
    "    ens_acc = 100.0 * np.mean(np.argmax(pred, axis=1) == targ)\n",
    "    return ens_acc"
   ]
  },
  {
   "cell_type": "code",
   "execution_count": 16,
   "metadata": {},
   "outputs": [],
   "source": [
    "def get_model_weights(model):\n",
    "    p = [list(model.parameters())[i].data.cpu().numpy() for i in range(len(list(model.parameters())))]\n",
    "    return p\n",
    "\n",
    "def get_model_from_weights(W, architecture):\n",
    "    model_sampled = architecture.base(num_classes=10, **architecture.kwargs)\n",
    "    model_samples = np.array(W)  \n",
    "\n",
    "    for parameter, w in zip(model_sampled.parameters(), W):\n",
    "        parameter.data.copy_(torch.from_numpy(w))\n",
    "            \n",
    "    return model_sampled"
   ]
  },
  {
   "cell_type": "code",
   "execution_count": 28,
   "metadata": {},
   "outputs": [],
   "source": [
    "class PointFinderSimultaneous():\n",
    "    def __init__(self, model1, model2):\n",
    "        self.model1 = model1\n",
    "        self.model2 = model2\n",
    "        self.weights_model1 = get_model_weights(model1)\n",
    "        self.weights_model2 = get_model_weights(model2)\n",
    "        self.depth = len(self.weights_model1)\n",
    "        \n",
    "    def find_point(self, t, method='arc_connect'):\n",
    "        \n",
    "        weights_model_new = []\n",
    "        assert 0 <= t <= 1, 't must be between 0 and 1'\n",
    "        for W1, W2 in zip(self.weights_model1, self.weights_model2):\n",
    "            Wn = getattr(Connector(W1, W2), method)(t=t)[1]\n",
    "            weights_model_new.append(Wn)\n",
    "            \n",
    "        m = get_model_from_weights(weights_model_new, architecture)\n",
    "        m.cuda();\n",
    "        res = test_model(m, loaders, cuda=True)\n",
    "        out = {'train':res[0]['accuracy'], 'test': res[1]['accuracy']}\n",
    "\n",
    "        return out"
   ]
  },
  {
   "cell_type": "code",
   "execution_count": 29,
   "metadata": {},
   "outputs": [],
   "source": [
    "def get_stat(pointfinder, t=0.5, method='arc_connect'):\n",
    "    stat = {'test': [], 'train': []}\n",
    "    for i in tqdm(range(3, 9)):\n",
    "        model1.load_state_dict(torch.load('curves/Linear3NoBias/curve'+str(i)+'/checkpoint-400.pt')['model_state'])\n",
    "        model2.load_state_dict(torch.load('curves/Linear3NoBias/curve'+str(i+1)+'/checkpoint-400.pt')['model_state'])\n",
    "        finder = pointfinder(model1, model2) \n",
    "        point = finder.find_point(t=t, method=method)\n",
    "        stat['test'].append(point['test']) \n",
    "        stat['train'].append(point['train']) \n",
    "    return stat"
   ]
  },
  {
   "cell_type": "code",
   "execution_count": 30,
   "metadata": {},
   "outputs": [],
   "source": [
    "# stat = get_stat(PointFinderSimultaneous, 0.5)"
   ]
  },
  {
   "cell_type": "code",
   "execution_count": 31,
   "metadata": {},
   "outputs": [],
   "source": [
    "# np.array(stat['test']).mean(), np.array(stat['train']).mean()"
   ]
  },
  {
   "cell_type": "code",
   "execution_count": 36,
   "metadata": {},
   "outputs": [],
   "source": [
    "class PointFinderStepWiseButterfly(PointFinderSimultaneous):\n",
    "    def __init__(self, model1, model2):\n",
    "        super().__init__(model1, model2)\n",
    "        self.funcs1 = self.find_feature_maps(self.weights_model1, data)\n",
    "        self.funcs2 = self.find_feature_maps(self.weights_model2, data)\n",
    "        self.weights_adjusted = self.adjust_all_weights()\n",
    "\n",
    "    def find_feature_maps(self, weights_model, data):\n",
    "        \"\"\"find feature maps for 2, 3 ,..., N-2 layers of network\"\"\"\n",
    "        print('finding feature maps')\n",
    "        funcs_list = []\n",
    "        funcs = data\n",
    "        for W in tqdm(list(weights_model)[:-2]):\n",
    "            funcs = next_layer(W, data=funcs)\n",
    "            funcs_list.append(funcs)\n",
    "        return funcs_list\n",
    "        \n",
    "    def connect_butterflies(self, W10, W20, W11, W11b2,\n",
    "                            t=0.5, method='arc_connect'):\n",
    "        Wn0 = getattr(Connector(W10, W20), method)(t=t)[1]\n",
    "        Wn1 = getattr(Connector(W11.T, W11b2.T), method)(t=t)[1].T\n",
    "        return Wn0, Wn1\n",
    "    \n",
    "    def adjust_weights(self, f1, f2, W):\n",
    "        f_inv2 = np.linalg.pinv(f2.T)\n",
    "        Wb2 = W @ f1.T @ f_inv2\n",
    "        return Wb2\n",
    "        \n",
    "    def adjust_all_weights(self, ):\n",
    "        \"\"\"find intermidiate weights between \\Theta^A and \\Theta^B (see the the paper for the notation) \"\"\"\n",
    "        print('adjusting weights')\n",
    "        Wb2_list = []\n",
    "        Wb2_list.append(self.weights_model1[0])\n",
    "        for i, (f1, f2, W) in tqdm(enumerate(zip(self.funcs1, \n",
    "                                       self.funcs2, \n",
    "                                       self.weights_model1[1:-1]))):  \n",
    "            Wb2 = self.adjust_weights(f1, f2, W)\n",
    "            Wb2_list.append(Wb2)\n",
    "        Wb2_list.append(self.weights_model2[-1])\n",
    "        return Wb2_list\n",
    "            \n",
    "    def find_point(self, t=0.5, method='arc_connect'):\n",
    "        \n",
    "        layer = int(t // 1)\n",
    "        t = t - layer\n",
    "        if layer == self.depth - 1:\n",
    "            layer -= 1\n",
    "            t = 1\n",
    "        assert layer <self.depth, 'the network is shot for this t value'\n",
    "        W11 = self.weights_model1[layer+1]\n",
    "        W20 = self.weights_model2[layer]\n",
    "        W10 = self.weights_adjusted[layer]\n",
    "        W11b2 = self.weights_adjusted[layer+1]\n",
    "        Wn0, Wn1 = self.connect_butterflies(W10, W20, W11, W11b2,\n",
    "                                            t=t, method=method)\n",
    "        weights_model_t = self.weights_model2[:layer] + [Wn0, Wn1] + self.weights_model1[layer+2:]\n",
    "        m = get_model_from_weights(weights_model_t, architecture)\n",
    "        m.cuda();\n",
    "        res = test_model(m, loaders, cuda=True)\n",
    "        out = {'train':res[0]['accuracy'], 'test': res[1]['accuracy']}\n",
    "\n",
    "        return out"
   ]
  },
  {
   "cell_type": "code",
   "execution_count": 23,
   "metadata": {},
   "outputs": [
    {
     "name": "stderr",
     "output_type": "stream",
     "text": [
      "  0%|          | 0/6 [00:00<?, ?it/s]\n",
      "  0%|          | 0/1 [00:00<?, ?it/s]\u001b[A"
     ]
    },
    {
     "name": "stdout",
     "output_type": "stream",
     "text": [
      "finding feature maps\n"
     ]
    },
    {
     "name": "stderr",
     "output_type": "stream",
     "text": [
      "\n",
      "100%|██████████| 1/1 [00:12<00:00, 12.62s/it]\u001b[A\n",
      "\u001b[A\n",
      "  0%|          | 0/1 [00:00<?, ?it/s]\u001b[A"
     ]
    },
    {
     "name": "stdout",
     "output_type": "stream",
     "text": [
      "finding feature maps\n"
     ]
    },
    {
     "name": "stderr",
     "output_type": "stream",
     "text": [
      "\n",
      "100%|██████████| 1/1 [00:12<00:00, 12.54s/it]\u001b[A\n",
      "\u001b[A\n",
      "0it [00:00, ?it/s]\u001b[A"
     ]
    },
    {
     "name": "stdout",
     "output_type": "stream",
     "text": [
      "adjusting weights\n"
     ]
    },
    {
     "name": "stderr",
     "output_type": "stream",
     "text": [
      "\n",
      "1it [06:44, 404.75s/it]\u001b[A\n",
      "\u001b[A"
     ]
    },
    {
     "name": "stdout",
     "output_type": "stream",
     "text": [
      "connect butterfly\n"
     ]
    },
    {
     "name": "stderr",
     "output_type": "stream",
     "text": [
      "\r",
      " 17%|█▋        | 1/6 [07:29<37:27, 449.52s/it]"
     ]
    },
    {
     "name": "stdout",
     "output_type": "stream",
     "text": [
      "train results {'nll': 1.5519071600341796, 'loss': 1.5519071600341796, 'accuracy': 46.738}\n",
      "test results {'nll': 1.7943129163742066, 'loss': 1.7943129163742066, 'accuracy': 36.93}\n"
     ]
    },
    {
     "name": "stderr",
     "output_type": "stream",
     "text": [
      "\n",
      "  0%|          | 0/1 [00:00<?, ?it/s]\u001b[A"
     ]
    },
    {
     "name": "stdout",
     "output_type": "stream",
     "text": [
      "finding feature maps\n"
     ]
    },
    {
     "name": "stderr",
     "output_type": "stream",
     "text": [
      "\n",
      "100%|██████████| 1/1 [00:12<00:00, 12.08s/it]\u001b[A\n",
      "\u001b[A\n",
      "  0%|          | 0/1 [00:00<?, ?it/s]\u001b[A"
     ]
    },
    {
     "name": "stdout",
     "output_type": "stream",
     "text": [
      "finding feature maps\n"
     ]
    },
    {
     "name": "stderr",
     "output_type": "stream",
     "text": [
      "\n",
      "100%|██████████| 1/1 [00:12<00:00, 12.24s/it]\u001b[A\n",
      "\u001b[A\n",
      "0it [00:00, ?it/s]\u001b[A"
     ]
    },
    {
     "name": "stdout",
     "output_type": "stream",
     "text": [
      "adjusting weights\n"
     ]
    },
    {
     "name": "stderr",
     "output_type": "stream",
     "text": [
      "\n",
      "1it [06:51, 411.10s/it]\u001b[A\n",
      "\u001b[A"
     ]
    },
    {
     "name": "stdout",
     "output_type": "stream",
     "text": [
      "connect butterfly\n"
     ]
    },
    {
     "name": "stderr",
     "output_type": "stream",
     "text": [
      "\r",
      " 33%|███▎      | 2/6 [15:04<30:05, 451.30s/it]"
     ]
    },
    {
     "name": "stdout",
     "output_type": "stream",
     "text": [
      "train results {'nll': 1.5088456756973267, 'loss': 1.5088456756973267, 'accuracy': 48.374}\n",
      "test results {'nll': 1.7399790252685547, 'loss': 1.7399790252685547, 'accuracy': 39.17}\n"
     ]
    },
    {
     "name": "stderr",
     "output_type": "stream",
     "text": [
      "\n",
      "  0%|          | 0/1 [00:00<?, ?it/s]\u001b[A"
     ]
    },
    {
     "name": "stdout",
     "output_type": "stream",
     "text": [
      "finding feature maps\n"
     ]
    },
    {
     "name": "stderr",
     "output_type": "stream",
     "text": [
      "\n",
      "100%|██████████| 1/1 [00:12<00:00, 12.92s/it]\u001b[A\n",
      "\u001b[A\n",
      "  0%|          | 0/1 [00:00<?, ?it/s]\u001b[A"
     ]
    },
    {
     "name": "stdout",
     "output_type": "stream",
     "text": [
      "finding feature maps\n"
     ]
    },
    {
     "name": "stderr",
     "output_type": "stream",
     "text": [
      "\n",
      "100%|██████████| 1/1 [00:11<00:00, 11.80s/it]\u001b[A\n",
      "\u001b[A\n",
      "0it [00:00, ?it/s]\u001b[A"
     ]
    },
    {
     "name": "stdout",
     "output_type": "stream",
     "text": [
      "adjusting weights\n"
     ]
    },
    {
     "name": "stderr",
     "output_type": "stream",
     "text": [
      "\n",
      "1it [06:46, 406.29s/it]\u001b[A\n",
      "\u001b[A"
     ]
    },
    {
     "name": "stdout",
     "output_type": "stream",
     "text": [
      "connect butterfly\n"
     ]
    },
    {
     "name": "stderr",
     "output_type": "stream",
     "text": [
      "\r",
      " 50%|█████     | 3/6 [22:35<22:33, 451.19s/it]"
     ]
    },
    {
     "name": "stdout",
     "output_type": "stream",
     "text": [
      "train results {'nll': 1.517370428237915, 'loss': 1.517370428237915, 'accuracy': 48.088}\n",
      "test results {'nll': 1.7433960430145263, 'loss': 1.7433960430145263, 'accuracy': 39.38}\n"
     ]
    },
    {
     "name": "stderr",
     "output_type": "stream",
     "text": [
      "\n",
      "  0%|          | 0/1 [00:00<?, ?it/s]\u001b[A"
     ]
    },
    {
     "name": "stdout",
     "output_type": "stream",
     "text": [
      "finding feature maps\n"
     ]
    },
    {
     "name": "stderr",
     "output_type": "stream",
     "text": [
      "\n",
      "100%|██████████| 1/1 [00:12<00:00, 12.56s/it]\u001b[A\n",
      "\u001b[A\n",
      "  0%|          | 0/1 [00:00<?, ?it/s]\u001b[A"
     ]
    },
    {
     "name": "stdout",
     "output_type": "stream",
     "text": [
      "finding feature maps\n"
     ]
    },
    {
     "name": "stderr",
     "output_type": "stream",
     "text": [
      "\n",
      "100%|██████████| 1/1 [00:12<00:00, 12.52s/it]\u001b[A\n",
      "\u001b[A\n",
      "0it [00:00, ?it/s]\u001b[A"
     ]
    },
    {
     "name": "stdout",
     "output_type": "stream",
     "text": [
      "adjusting weights\n"
     ]
    },
    {
     "name": "stderr",
     "output_type": "stream",
     "text": [
      "\n",
      "1it [06:41, 401.21s/it]\u001b[A\n",
      "\u001b[A"
     ]
    },
    {
     "name": "stdout",
     "output_type": "stream",
     "text": [
      "connect butterfly\n"
     ]
    },
    {
     "name": "stderr",
     "output_type": "stream",
     "text": [
      "\r",
      " 67%|██████▋   | 4/6 [30:00<14:58, 449.34s/it]"
     ]
    },
    {
     "name": "stdout",
     "output_type": "stream",
     "text": [
      "train results {'nll': 1.4952188411331178, 'loss': 1.4952188411331178, 'accuracy': 49.036}\n",
      "test results {'nll': 1.7285956281661987, 'loss': 1.7285956281661987, 'accuracy': 39.21}\n"
     ]
    },
    {
     "name": "stderr",
     "output_type": "stream",
     "text": [
      "\n",
      "  0%|          | 0/1 [00:00<?, ?it/s]\u001b[A"
     ]
    },
    {
     "name": "stdout",
     "output_type": "stream",
     "text": [
      "finding feature maps\n"
     ]
    },
    {
     "name": "stderr",
     "output_type": "stream",
     "text": [
      "\n",
      "100%|██████████| 1/1 [00:13<00:00, 13.56s/it]\u001b[A\n",
      "\u001b[A\n",
      "  0%|          | 0/1 [00:00<?, ?it/s]\u001b[A"
     ]
    },
    {
     "name": "stdout",
     "output_type": "stream",
     "text": [
      "finding feature maps\n"
     ]
    },
    {
     "name": "stderr",
     "output_type": "stream",
     "text": [
      "\n",
      "100%|██████████| 1/1 [00:12<00:00, 12.61s/it]\u001b[A\n",
      "\u001b[A\n",
      "0it [00:00, ?it/s]\u001b[A"
     ]
    },
    {
     "name": "stdout",
     "output_type": "stream",
     "text": [
      "adjusting weights\n"
     ]
    },
    {
     "name": "stderr",
     "output_type": "stream",
     "text": [
      "\n",
      "1it [06:37, 397.41s/it]\u001b[A\n",
      "\u001b[A"
     ]
    },
    {
     "name": "stdout",
     "output_type": "stream",
     "text": [
      "connect butterfly\n"
     ]
    },
    {
     "name": "stderr",
     "output_type": "stream",
     "text": [
      "\r",
      " 83%|████████▎ | 5/6 [37:26<07:28, 448.11s/it]"
     ]
    },
    {
     "name": "stdout",
     "output_type": "stream",
     "text": [
      "train results {'nll': 1.5365932415390016, 'loss': 1.5365932415390016, 'accuracy': 47.356}\n",
      "test results {'nll': 1.7638778604507446, 'loss': 1.7638778604507446, 'accuracy': 38.12}\n"
     ]
    },
    {
     "name": "stderr",
     "output_type": "stream",
     "text": [
      "\n",
      "  0%|          | 0/1 [00:00<?, ?it/s]\u001b[A"
     ]
    },
    {
     "name": "stdout",
     "output_type": "stream",
     "text": [
      "finding feature maps\n"
     ]
    },
    {
     "name": "stderr",
     "output_type": "stream",
     "text": [
      "\n",
      "100%|██████████| 1/1 [00:12<00:00, 12.31s/it]\u001b[A\n",
      "\u001b[A\n",
      "  0%|          | 0/1 [00:00<?, ?it/s]\u001b[A"
     ]
    },
    {
     "name": "stdout",
     "output_type": "stream",
     "text": [
      "finding feature maps\n"
     ]
    },
    {
     "name": "stderr",
     "output_type": "stream",
     "text": [
      "\n",
      "100%|██████████| 1/1 [00:13<00:00, 13.23s/it]\u001b[A\n",
      "\u001b[A\n",
      "0it [00:00, ?it/s]\u001b[A"
     ]
    },
    {
     "name": "stdout",
     "output_type": "stream",
     "text": [
      "adjusting weights\n"
     ]
    },
    {
     "name": "stderr",
     "output_type": "stream",
     "text": [
      "\n",
      "1it [06:47, 407.83s/it]\u001b[A\n",
      "\u001b[A"
     ]
    },
    {
     "name": "stdout",
     "output_type": "stream",
     "text": [
      "connect butterfly\n"
     ]
    },
    {
     "name": "stderr",
     "output_type": "stream",
     "text": [
      "\r",
      "100%|██████████| 6/6 [44:59<00:00, 449.79s/it]"
     ]
    },
    {
     "name": "stdout",
     "output_type": "stream",
     "text": [
      "train results {'nll': 1.5415855751800538, 'loss': 1.5415855751800538, 'accuracy': 47.326}\n",
      "test results {'nll': 1.7778395641326905, 'loss': 1.7778395641326905, 'accuracy': 37.75}\n"
     ]
    },
    {
     "name": "stderr",
     "output_type": "stream",
     "text": [
      "\n"
     ]
    }
   ],
   "source": [
    "linbutterfly = get_stat(PointFinderStepWiseButterfly, t=1.5, method='lin_connect')"
   ]
  },
  {
   "cell_type": "code",
   "execution_count": 24,
   "metadata": {},
   "outputs": [
    {
     "data": {
      "text/plain": [
       "{'test': [36.93, 39.17, 39.38, 39.21, 38.12, 37.75],\n",
       " 'train': [46.738, 48.374, 48.088, 49.036, 47.356, 47.326]}"
      ]
     },
     "execution_count": 24,
     "metadata": {},
     "output_type": "execute_result"
    }
   ],
   "source": [
    "linbutterfly"
   ]
  },
  {
   "cell_type": "code",
   "execution_count": 26,
   "metadata": {},
   "outputs": [
    {
     "data": {
      "text/plain": [
       "(47.81966666666667, 0.7623922146040645, 38.42666666666667, 0.9006417465094306)"
      ]
     },
     "execution_count": 26,
     "metadata": {},
     "output_type": "execute_result"
    }
   ],
   "source": [
    "get_mean_svd(linbutterfly)"
   ]
  },
  {
   "cell_type": "code",
   "execution_count": 53,
   "metadata": {},
   "outputs": [
    {
     "name": "stderr",
     "output_type": "stream",
     "text": [
      "\r",
      "  0%|          | 0/1 [00:00<?, ?it/s]"
     ]
    },
    {
     "name": "stdout",
     "output_type": "stream",
     "text": [
      "finding feature maps\n"
     ]
    },
    {
     "name": "stderr",
     "output_type": "stream",
     "text": [
      "100%|██████████| 1/1 [00:03<00:00,  3.10s/it]\n",
      "  0%|          | 0/1 [00:00<?, ?it/s]"
     ]
    },
    {
     "name": "stdout",
     "output_type": "stream",
     "text": [
      "finding feature maps\n"
     ]
    },
    {
     "name": "stderr",
     "output_type": "stream",
     "text": [
      "100%|██████████| 1/1 [00:02<00:00,  2.91s/it]\n",
      "0it [00:00, ?it/s]"
     ]
    },
    {
     "name": "stdout",
     "output_type": "stream",
     "text": [
      "adjusting weights\n"
     ]
    },
    {
     "name": "stderr",
     "output_type": "stream",
     "text": [
      "1it [04:18, 258.21s/it]\n"
     ]
    }
   ],
   "source": [
    "finder = PointFinderStepWiseButterfly(model1, model2) "
   ]
  },
  {
   "cell_type": "code",
   "execution_count": 54,
   "metadata": {},
   "outputs": [
    {
     "name": "stdout",
     "output_type": "stream",
     "text": [
      "connect butterfly\n",
      "test results {'nll': 2.030786293411255, 'loss': 2.030786293411255, 'accuracy': 62.54}\n"
     ]
    },
    {
     "data": {
      "text/plain": [
       "{'train': 0, 'test': 62.54}"
      ]
     },
     "execution_count": 54,
     "metadata": {},
     "output_type": "execute_result"
    }
   ],
   "source": [
    "finder.find_point(0)"
   ]
  },
  {
   "cell_type": "code",
   "execution_count": 55,
   "metadata": {},
   "outputs": [
    {
     "name": "stdout",
     "output_type": "stream",
     "text": [
      "connect butterfly\n",
      "test results {'nll': 2.0266584243774415, 'loss': 2.0266584243774415, 'accuracy': 62.31}\n"
     ]
    },
    {
     "data": {
      "text/plain": [
       "{'train': 0, 'test': 62.31}"
      ]
     },
     "execution_count": 55,
     "metadata": {},
     "output_type": "execute_result"
    }
   ],
   "source": [
    "finder.find_point(1)"
   ]
  },
  {
   "cell_type": "code",
   "execution_count": 56,
   "metadata": {},
   "outputs": [
    {
     "name": "stdout",
     "output_type": "stream",
     "text": [
      "connect butterfly\n",
      "test results {'nll': 2.016615913772583, 'loss': 2.016615913772583, 'accuracy': 63.44}\n"
     ]
    },
    {
     "data": {
      "text/plain": [
       "{'train': 0, 'test': 63.44}"
      ]
     },
     "execution_count": 56,
     "metadata": {},
     "output_type": "execute_result"
    }
   ],
   "source": [
    "finder.find_point(2)"
   ]
  },
  {
   "cell_type": "code",
   "execution_count": 57,
   "metadata": {},
   "outputs": [
    {
     "name": "stdout",
     "output_type": "stream",
     "text": [
      "connect butterfly\n",
      "test results {'nll': 3.9138029922485353, 'loss': 3.9138029922485353, 'accuracy': 52.54}\n"
     ]
    },
    {
     "data": {
      "text/plain": [
       "{'train': 0, 'test': 52.54}"
      ]
     },
     "execution_count": 57,
     "metadata": {},
     "output_type": "execute_result"
    }
   ],
   "source": [
    "finder.find_point(0.5)"
   ]
  },
  {
   "cell_type": "code",
   "execution_count": 58,
   "metadata": {},
   "outputs": [
    {
     "name": "stdout",
     "output_type": "stream",
     "text": [
      "connect butterfly\n",
      "test results {'nll': 3.188697088623047, 'loss': 3.188697088623047, 'accuracy': 48.84}\n"
     ]
    },
    {
     "data": {
      "text/plain": [
       "{'train': 0, 'test': 48.84}"
      ]
     },
     "execution_count": 58,
     "metadata": {},
     "output_type": "execute_result"
    }
   ],
   "source": [
    "finder.find_point(1.5)"
   ]
  },
  {
   "cell_type": "code",
   "execution_count": 60,
   "metadata": {},
   "outputs": [
    {
     "name": "stdout",
     "output_type": "stream",
     "text": [
      "connect butterfly\n",
      "train results {'nll': 0.14886100863456725, 'loss': 0.14886100863456725, 'accuracy': 95.12}\n",
      "test results {'nll': 2.030786293411255, 'loss': 2.030786293411255, 'accuracy': 62.54}\n"
     ]
    },
    {
     "data": {
      "text/plain": [
       "{'train': 95.12, 'test': 62.54}"
      ]
     },
     "execution_count": 60,
     "metadata": {},
     "output_type": "execute_result"
    }
   ],
   "source": [
    "finder.find_point(0)"
   ]
  },
  {
   "cell_type": "code",
   "execution_count": 63,
   "metadata": {},
   "outputs": [
    {
     "name": "stdout",
     "output_type": "stream",
     "text": [
      "connect butterfly\n",
      "train results {'nll': 0.14886100863456725, 'loss': 0.14886100863456725, 'accuracy': 95.12}\n",
      "test results {'nll': 2.030786293411255, 'loss': 2.030786293411255, 'accuracy': 62.54}\n"
     ]
    },
    {
     "data": {
      "text/plain": [
       "{'train': 95.12, 'test': 62.54}"
      ]
     },
     "execution_count": 63,
     "metadata": {},
     "output_type": "execute_result"
    }
   ],
   "source": [
    "finder.find_point(1.5)"
   ]
  },
  {
   "cell_type": "code",
   "execution_count": 66,
   "metadata": {},
   "outputs": [
    {
     "data": {
      "text/plain": [
       "array([0.        , 0.05714286, 0.11428571, 0.17142857, 0.22857143,\n",
       "       0.28571429, 0.34285714, 0.4       , 0.45714286, 0.51428571,\n",
       "       0.57142857, 0.62857143, 0.68571429, 0.74285714, 0.8       ,\n",
       "       0.85714286, 0.91428571, 0.97142857, 1.02857143, 1.08571429,\n",
       "       1.14285714, 1.2       , 1.25714286, 1.31428571, 1.37142857,\n",
       "       1.42857143, 1.48571429, 1.54285714, 1.6       , 1.65714286,\n",
       "       1.71428571, 1.77142857, 1.82857143, 1.88571429, 1.94285714,\n",
       "       2.        ])"
      ]
     },
     "execution_count": 66,
     "metadata": {},
     "output_type": "execute_result"
    }
   ],
   "source": [
    "time = np.linspace(0, 2, 36)\n",
    "time"
   ]
  },
  {
   "cell_type": "code",
   "execution_count": 69,
   "metadata": {},
   "outputs": [],
   "source": [
    "# time = np.linspace(0, 2, 36)\n",
    "# path = {'test': [], 'train': []}\n",
    "# for t in tqdm(time):\n",
    "#     point = finder.find_point(t=t, method='arc_connect')\n",
    "#     path['test'].append(100-point['test']) \n",
    "#     path['train'].append(100-point['train']) "
   ]
  },
  {
   "cell_type": "code",
   "execution_count": 68,
   "metadata": {},
   "outputs": [
    {
     "data": {
      "image/png": "[encoded data removed]",
      "text/plain": [
       "<Figure size 432x288 with 1 Axes>"
      ]
     },
     "metadata": {
      "needs_background": "light"
     },
     "output_type": "display_data"
    }
   ],
   "source": [
    "# plt.plot(time, path['train'], label='train')\n",
    "plt.plot(time, path['test'], label='test') \n",
    "plt.legend()\n",
    "plt.xlabel('time')\n",
    "plt.ylabel('error (%)')\n",
    "plt.show()"
   ]
  },
  {
   "cell_type": "code",
   "execution_count": 47,
   "metadata": {},
   "outputs": [],
   "source": [
    "class PointFinderStepWiseInverse(PointFinderStepWiseButterfly):\n",
    "    def __init__(self, model1, model2):\n",
    "        super().__init__(model1, model2)\n",
    "\n",
    "    def find_feature_maps(self, weights_model, data):\n",
    "        \"\"\"find feature maps of functions \\theta_2^AB, ..., \\theta_{N-1}^AB \n",
    "        (see the the paper for the notation)\"\"\"\n",
    "        \n",
    "        print('finding feature maps')\n",
    "        funcs_list = []\n",
    "        funcs = data\n",
    "        funcs_list.append(funcs)\n",
    "        for W in tqdm(list(weights_model)[:-1]):\n",
    "            funcs = next_layer(W, data=funcs)\n",
    "            funcs_list.append(funcs)\n",
    "        return funcs_list\n",
    "    \n",
    "    def connect(self, W10, W20, t, method='arc_connect'):\n",
    "        print('connect weights')\n",
    "        Wn0 = getattr(Connector(W10, W20), method)(t=t)[1]\n",
    "        return Wn0\n",
    "        \n",
    "    def adjust_all_weights(self, ):\n",
    "        \"\"\"adjust weights of the first model (model1) according to feature maps of model1, model2 \n",
    "        in a way that resulting model will have the output of the model1 \"\"\"\n",
    "        \n",
    "        print('adjusting weights')\n",
    "        Wb2_list = []\n",
    "        Wb2_list.append(self.weights_model1[0])\n",
    "        for i, (f1, f2, W) in tqdm(enumerate(zip(self.funcs1[1:], \n",
    "                                       self.funcs2[1:], \n",
    "                                       self.weights_model1[1:]))):  \n",
    "            Wb2 = self.adjust_weights(f1, f2, W)\n",
    "            Wb2_list.append(Wb2)\n",
    "        Wb2_list.append(self.weights_model2[-1])\n",
    "        return Wb2_list\n",
    "            \n",
    "    def find_point(self, t=0.5, method='arc_connect'):\n",
    "        \n",
    "        layer = int(t // 1)\n",
    "        t = t - layer\n",
    "        if layer == self.depth:\n",
    "            layer -= 1\n",
    "            t = 1\n",
    "        assert layer <= self.depth, 'the network is shot for this t value'\n",
    "        \n",
    "        W20 = self.weights_model2[layer]\n",
    "        W10 = self.weights_adjusted[layer]\n",
    "        Wn0 = self.connect(W10, W20, t=t, method=method)\n",
    "        f1 = self.funcs1[layer+1]\n",
    "        f2 = next_layer(self.funcs2[layer], Wn0) \n",
    "        W11 = self.weights_model1[layer+1]\n",
    "        if t == 0 or t == 1:\n",
    "            Wn1 = self.weights_adjusted[layer+1]\n",
    "        else:\n",
    "            Wn1 = self.adjust_weights(f1, f2, W11)\n",
    "        \n",
    "        weights_model_t = self.weights_model2[:layer] + [Wn0, Wn1] + self.weights_model1[layer+2:]\n",
    "        m = get_model_from_weights(weights_model_t, architecture)\n",
    "        m.cuda();\n",
    "        res = test_model(m, loaders, cuda=True)\n",
    "        out = {'train':res[0]['accuracy'], 'test': res[1]['accuracy']}\n",
    "        return out"
   ]
  },
  {
   "cell_type": "code",
   "execution_count": 48,
   "metadata": {},
   "outputs": [],
   "source": [
    "# class PointFinderStepWiseInverse():\n",
    "#     def __init__(self, model1, model2):\n",
    "        \n",
    "#         self.model1 = model1\n",
    "#         self.model2 = model2\n",
    "#         self.weights_model1 = get_model_weights(model1)\n",
    "#         self.weights_model2 = get_model_weights(model2)\n",
    "#         self.depth = len(self.weights_model1)\n",
    "#         self.funcs1 = self.find_feature_maps(self.weights_model1, data)\n",
    "#         self.funcs2 = self.find_feature_maps(self.weights_model2, data)\n",
    "\n",
    "#     def find_feature_maps(self, weights_model, data):\n",
    "#         \"\"\"find feature maps of functions starting from 1\"\"\"\n",
    "        \n",
    "#         print('finding feature maps')\n",
    "#         funcs_list = []\n",
    "#         funcs = data\n",
    "#         funcs_list.append(funcs)\n",
    "#         for W in list(weights_model)[:-1]:\n",
    "#             print('-')\n",
    "#             funcs = next_layer(W, data=funcs)\n",
    "#             funcs_list.append(funcs)\n",
    "#         return funcs_list\n",
    "        \n",
    "#     def connect(self, W10, W20, t=0.5, method='arc_connect'):\n",
    "#         print('connect weights')\n",
    "#         Wn0 = getattr(Connector(W10, W20), method)(t=s)[1]\n",
    "#         return Wn0\n",
    "    \n",
    "#     def adjust_weights(self, f1, f2, W):\n",
    "#         f_inv2 = np.linalg.pinv(f2.T)\n",
    "#         Wb2 = W @ f1.T @ f_inv2\n",
    "#         return Wb2\n",
    "        \n",
    "            \n",
    "#     def find_point(self, t=0.5, method='arc_connect'):\n",
    "        \n",
    "#         layer = t // 1\n",
    "#         assert layer <self.depth, 'the network is shot for this t value'\n",
    "#         t = t - layer\n",
    "#         W10, W11 = self.weights_model1[layer:layer+2]\n",
    "#         Wn0 = self.connect(W10, W20,t=t, method=method)\n",
    "#         W20 = self.weights_model2[layer:layer+1]\n",
    "#         f1 = self.funcs1[layer+1]\n",
    "#         f2 = self.funcs2[layer-1]\n",
    "#         Wn1 = self.adjust_weights(f1, f2, W20)\n",
    "        \n",
    "#         weights_model_t = self.weights_model2[:layer] + [Wn0, Wn1] + self.weights_model1[layer+2:]\n",
    "#         m = get_model_from_weights(weights_model_t, architecture)\n",
    "#         m.cuda();\n",
    "#         res = test_model(model1, loaders, cuda=True)\n",
    "#         out = {'train':res[0]['accuracy'], 'test': res[1]['accuracy']}\n",
    "\n",
    "#         return out"
   ]
  },
  {
   "cell_type": "code",
   "execution_count": 49,
   "metadata": {},
   "outputs": [
    {
     "name": "stderr",
     "output_type": "stream",
     "text": [
      "\n",
      "  0%|          | 0/2 [00:00<?, ?it/s]\u001b[A\n",
      "100%|██████████| 2/2 [00:00<00:00, 72.21it/s]\u001b[A\n",
      "  0%|          | 0/2 [00:00<?, ?it/s]\u001b[A\n",
      "100%|██████████| 2/2 [00:00<00:00, 66.48it/s]\u001b[A\n",
      "0it [00:00, ?it/s]\u001b[A\n",
      "1it [00:00,  9.57it/s]\u001b[A"
     ]
    },
    {
     "name": "stdout",
     "output_type": "stream",
     "text": [
      "finding feature maps\n",
      "finding feature maps\n",
      "adjusting weights\n"
     ]
    },
    {
     "name": "stderr",
     "output_type": "stream",
     "text": [
      "\n",
      "2it [00:00,  7.06it/s]\u001b[A\n",
      "\u001b[A"
     ]
    }
   ],
   "source": [
    "finder = PointFinderStepWiseInverse(model1, model2) "
   ]
  },
  {
   "cell_type": "code",
   "execution_count": 51,
   "metadata": {},
   "outputs": [
    {
     "name": "stdout",
     "output_type": "stream",
     "text": [
      "connect weights\n"
     ]
    },
    {
     "ename": "ValueError",
     "evalue": "shapes (2000,10) and (6144,10) not aligned: 10 (dim 1) != 6144 (dim 0)",
     "output_type": "error",
     "traceback": [
      "\u001b[0;31m---------------------------------------------------------------------------\u001b[0m",
      "\u001b[0;31mValueError\u001b[0m                                Traceback (most recent call last)",
      "\u001b[0;32m<ipython-input-51-5be82ffb29ba>\u001b[0m in \u001b[0;36m<module>\u001b[0;34m\u001b[0m\n\u001b[0;32m----> 1\u001b[0;31m \u001b[0mfinder\u001b[0m\u001b[0;34m.\u001b[0m\u001b[0mfind_point\u001b[0m\u001b[0;34m(\u001b[0m\u001b[0;36m0.5\u001b[0m\u001b[0;34m)\u001b[0m\u001b[0;34m\u001b[0m\u001b[0;34m\u001b[0m\u001b[0m\n\u001b[0m",
      "\u001b[0;32m<ipython-input-47-9b016ff31237>\u001b[0m in \u001b[0;36mfind_point\u001b[0;34m(self, t, method)\u001b[0m\n\u001b[1;32m     54\u001b[0m             \u001b[0mWn1\u001b[0m \u001b[0;34m=\u001b[0m \u001b[0mself\u001b[0m\u001b[0;34m.\u001b[0m\u001b[0mweights_adjusted\u001b[0m\u001b[0;34m[\u001b[0m\u001b[0mlayer\u001b[0m\u001b[0;34m+\u001b[0m\u001b[0;36m1\u001b[0m\u001b[0;34m]\u001b[0m\u001b[0;34m\u001b[0m\u001b[0;34m\u001b[0m\u001b[0m\n\u001b[1;32m     55\u001b[0m         \u001b[0;32melse\u001b[0m\u001b[0;34m:\u001b[0m\u001b[0;34m\u001b[0m\u001b[0;34m\u001b[0m\u001b[0m\n\u001b[0;32m---> 56\u001b[0;31m             \u001b[0mWn1\u001b[0m \u001b[0;34m=\u001b[0m \u001b[0mself\u001b[0m\u001b[0;34m.\u001b[0m\u001b[0madjust_weights\u001b[0m\u001b[0;34m(\u001b[0m\u001b[0mf1\u001b[0m\u001b[0;34m,\u001b[0m \u001b[0mf2\u001b[0m\u001b[0;34m,\u001b[0m \u001b[0mW11\u001b[0m\u001b[0;34m)\u001b[0m\u001b[0;34m\u001b[0m\u001b[0;34m\u001b[0m\u001b[0m\n\u001b[0m\u001b[1;32m     57\u001b[0m \u001b[0;34m\u001b[0m\u001b[0m\n\u001b[1;32m     58\u001b[0m         \u001b[0mweights_model_t\u001b[0m \u001b[0;34m=\u001b[0m \u001b[0mself\u001b[0m\u001b[0;34m.\u001b[0m\u001b[0mweights_model2\u001b[0m\u001b[0;34m[\u001b[0m\u001b[0;34m:\u001b[0m\u001b[0mlayer\u001b[0m\u001b[0;34m]\u001b[0m \u001b[0;34m+\u001b[0m \u001b[0;34m[\u001b[0m\u001b[0mWn0\u001b[0m\u001b[0;34m,\u001b[0m \u001b[0mWn1\u001b[0m\u001b[0;34m]\u001b[0m \u001b[0;34m+\u001b[0m \u001b[0mself\u001b[0m\u001b[0;34m.\u001b[0m\u001b[0mweights_model1\u001b[0m\u001b[0;34m[\u001b[0m\u001b[0mlayer\u001b[0m\u001b[0;34m+\u001b[0m\u001b[0;36m2\u001b[0m\u001b[0;34m:\u001b[0m\u001b[0;34m]\u001b[0m\u001b[0;34m\u001b[0m\u001b[0;34m\u001b[0m\u001b[0m\n",
      "\u001b[0;32m<ipython-input-36-cca89dd417bc>\u001b[0m in \u001b[0;36madjust_weights\u001b[0;34m(self, f1, f2, W)\u001b[0m\n\u001b[1;32m     24\u001b[0m     \u001b[0;32mdef\u001b[0m \u001b[0madjust_weights\u001b[0m\u001b[0;34m(\u001b[0m\u001b[0mself\u001b[0m\u001b[0;34m,\u001b[0m \u001b[0mf1\u001b[0m\u001b[0;34m,\u001b[0m \u001b[0mf2\u001b[0m\u001b[0;34m,\u001b[0m \u001b[0mW\u001b[0m\u001b[0;34m)\u001b[0m\u001b[0;34m:\u001b[0m\u001b[0;34m\u001b[0m\u001b[0;34m\u001b[0m\u001b[0m\n\u001b[1;32m     25\u001b[0m         \u001b[0mf_inv2\u001b[0m \u001b[0;34m=\u001b[0m \u001b[0mnp\u001b[0m\u001b[0;34m.\u001b[0m\u001b[0mlinalg\u001b[0m\u001b[0;34m.\u001b[0m\u001b[0mpinv\u001b[0m\u001b[0;34m(\u001b[0m\u001b[0mf2\u001b[0m\u001b[0;34m.\u001b[0m\u001b[0mT\u001b[0m\u001b[0;34m)\u001b[0m\u001b[0;34m\u001b[0m\u001b[0;34m\u001b[0m\u001b[0m\n\u001b[0;32m---> 26\u001b[0;31m         \u001b[0mWb2\u001b[0m \u001b[0;34m=\u001b[0m \u001b[0mW\u001b[0m \u001b[0;34m@\u001b[0m \u001b[0mf1\u001b[0m\u001b[0;34m.\u001b[0m\u001b[0mT\u001b[0m \u001b[0;34m@\u001b[0m \u001b[0mf_inv2\u001b[0m\u001b[0;34m\u001b[0m\u001b[0;34m\u001b[0m\u001b[0m\n\u001b[0m\u001b[1;32m     27\u001b[0m         \u001b[0;32mreturn\u001b[0m \u001b[0mWb2\u001b[0m\u001b[0;34m\u001b[0m\u001b[0;34m\u001b[0m\u001b[0m\n\u001b[1;32m     28\u001b[0m \u001b[0;34m\u001b[0m\u001b[0m\n",
      "\u001b[0;31mValueError\u001b[0m: shapes (2000,10) and (6144,10) not aligned: 10 (dim 1) != 6144 (dim 0)"
     ]
    }
   ],
   "source": [
    "finder.find_point(0.5)"
   ]
  },
  {
   "cell_type": "code",
   "execution_count": null,
   "metadata": {},
   "outputs": [],
   "source": [
    "finder"
   ]
  },
  {
   "cell_type": "code",
   "execution_count": null,
   "metadata": {},
   "outputs": [],
   "source": [
    "# simple layerwise conection for 3d \n",
    "\n",
    "model1.cuda()\n",
    "model2.cuda()\n",
    "acc_train = []\n",
    "acc_test = []\n",
    "t = 0.5\n",
    "stat = {'train': [], 'test': []}\n",
    "for i in tqdm(range(3, 10)):\n",
    "    model1.load_state_dict(torch.load('curves/Linear3NoBias/curve'+str(i)+'/checkpoint-400.pt')['model_state'])\n",
    "    model2.load_state_dict(torch.load('curves/Linear3NoBias/curve'+str(i+1)+'/checkpoint-400.pt')['model_state'])\n",
    "\n",
    "    W10 = list(model1.parameters())[0].data.cpu().numpy()\n",
    "    W20 = list(model2.parameters())[0].data.cpu().numpy()\n",
    "\n",
    "    W11 = list(model1.parameters())[-2].data.cpu().numpy()\n",
    "    W21 = list(model2.parameters())[-2].data.cpu().numpy()\n",
    "\n",
    "    W12 = list(model1.parameters())[-1].data.cpu().numpy()\n",
    "    W22 = list(model2.parameters())[-1].data.cpu().numpy()\n",
    "    \n",
    "#     W2n = Connector(W12.T, W22.T).arc_connect(t=t)[1].T\n",
    "#     W1n = Connector(W11.T, W21.T).arc_connect(t=t)[1].T\n",
    "#     W0n = Connector(W10.T, W20.T).arc_connect(t=t)[1].T\n",
    "    \n",
    "    W2n = Connector(W12, W22).lin_connect(t=t)[1]\n",
    "    W1n = Connector(W11, W21).lin_connect(t=t)[1]\n",
    "    W0n = Connector(W10, W20).lin_connect(t=t)[1]\n",
    "    \n",
    "#     W2n = Connector(W12, W22).arc_connect(t=t)[1]\n",
    "#     W1n = Connector(W11.T, W21.T).arc_connect(t=t)[1].T\n",
    "#     W0n = Connector(W10, W20).arc_connect(t=t)[1]\n",
    "    \n",
    "    pred = W2n @ np.maximum(W1n @ np.maximum(W0n @ data.T, 0), 0)\n",
    "    acc = accuracy(pred.T, targ)\n",
    "    acc_train.append(acc)\n",
    "    \n",
    "    pred = W2n @ np.maximum(W1n @ np.maximum(W0n @ data_test.T, 0), 0)\n",
    "    acc = accuracy(pred.T, targ_test)\n",
    "    acc_test.append(acc)\n",
    "    \n",
    "acc_train = np.array(acc_train)\n",
    "acc_test = np.array(acc_test)\n"
   ]
  },
  {
   "cell_type": "code",
   "execution_count": 38,
   "metadata": {},
   "outputs": [
    {
     "name": "stderr",
     "output_type": "stream",
     "text": [
      "\n",
      "\n",
      "  0%|          | 0/7 [00:00<?, ?it/s]\u001b[A\u001b[A\n",
      "\n",
      " 14%|█▍        | 1/7 [00:07<00:46,  7.83s/it]\u001b[A\u001b[A\n",
      "\n",
      " 29%|██▊       | 2/7 [00:15<00:39,  7.83s/it]\u001b[A\u001b[A\n",
      "\n",
      " 43%|████▎     | 3/7 [00:23<00:31,  7.83s/it]\u001b[A\u001b[A\n",
      "\n",
      " 57%|█████▋    | 4/7 [00:31<00:23,  7.83s/it]\u001b[A\u001b[A\n",
      "\n",
      " 71%|███████▏  | 5/7 [00:39<00:15,  7.83s/it]\u001b[A\u001b[A\n",
      "\n",
      " 86%|████████▌ | 6/7 [00:46<00:07,  7.83s/it]\u001b[A\u001b[A\n",
      "\n",
      "100%|██████████| 7/7 [00:54<00:00,  7.83s/it]\u001b[A\u001b[A\n",
      "\n",
      "\u001b[A\u001b[A"
     ]
    }
   ],
   "source": [
    "model1.cuda()\n",
    "model2.cuda()\n",
    "acc_train = []\n",
    "acc_test = []\n",
    "t = 0.5\n",
    "stat = {'train': [], 'test': []}\n",
    "for i in tqdm(range(3, 10)):\n",
    "    model1.load_state_dict(torch.load('curves/Linear3NoBias/curve'+str(i)+'/checkpoint-400.pt')['model_state'])\n",
    "    model2.load_state_dict(torch.load('curves/Linear3NoBias/curve'+str(i+1)+'/checkpoint-400.pt')['model_state'])\n",
    "\n",
    "    W10 = list(model1.parameters())[0].data.cpu().numpy()\n",
    "    W20 = list(model2.parameters())[0].data.cpu().numpy()\n",
    "\n",
    "    W11 = list(model1.parameters())[-2].data.cpu().numpy()\n",
    "    W21 = list(model2.parameters())[-2].data.cpu().numpy()\n",
    "\n",
    "    W12 = list(model1.parameters())[-1].data.cpu().numpy()\n",
    "    W22 = list(model2.parameters())[-1].data.cpu().numpy()\n",
    "    \n",
    "#     W2n = Connector(W12.T, W22.T).arc_connect(t=t)[1].T\n",
    "#     W1n = Connector(W11.T, W21.T).arc_connect(t=t)[1].T\n",
    "#     W0n = Connector(W10.T, W20.T).arc_connect(t=t)[1].T\n",
    "    \n",
    "    W2n = Connector(W12, W22).lin_connect(t=t)[1]\n",
    "    W1n = Connector(W11, W21).lin_connect(t=t)[1]\n",
    "    W0n = Connector(W10, W20).lin_connect(t=t)[1]\n",
    "    \n",
    "#     W2n = Connector(W12, W22).arc_connect(t=t)[1]\n",
    "#     W1n = Connector(W11.T, W21.T).arc_connect(t=t)[1].T\n",
    "#     W0n = Connector(W10, W20).arc_connect(t=t)[1]\n",
    "    \n",
    "    pred = W2n @ np.maximum(W1n @ np.maximum(W0n @ data.T, 0), 0)\n",
    "    acc = accuracy(pred.T, targ)\n",
    "    acc_train.append(acc)\n",
    "    \n",
    "    pred = W2n @ np.maximum(W1n @ np.maximum(W0n @ data_test.T, 0), 0)\n",
    "    acc = accuracy(pred.T, targ_test)\n",
    "    acc_test.append(acc)\n",
    "    \n",
    "acc_train = np.array(acc_train)\n",
    "acc_test = np.array(acc_test)\n"
   ]
  },
  {
   "cell_type": "code",
   "execution_count": 39,
   "metadata": {},
   "outputs": [
    {
     "data": {
      "text/plain": [
       "array([29.808, 31.914, 32.098, 32.012, 30.91 , 30.298, 30.706])"
      ]
     },
     "execution_count": 39,
     "metadata": {},
     "output_type": "execute_result"
    }
   ],
   "source": [
    "acc_train"
   ]
  },
  {
   "cell_type": "code",
   "execution_count": 40,
   "metadata": {},
   "outputs": [
    {
     "data": {
      "text/plain": [
       "array([25.47, 27.71, 28.94, 27.67, 28.01, 26.21, 26.38])"
      ]
     },
     "execution_count": 40,
     "metadata": {},
     "output_type": "execute_result"
    }
   ],
   "source": [
    "acc_test"
   ]
  },
  {
   "cell_type": "code",
   "execution_count": 41,
   "metadata": {},
   "outputs": [
    {
     "data": {
      "text/plain": [
       "(31.106571428571424, 0.8446339625022451, 27.19857142857143, 1.1218661566645942)"
      ]
     },
     "execution_count": 41,
     "metadata": {},
     "output_type": "execute_result"
    }
   ],
   "source": [
    "acc_train.mean(), acc_train.std(), acc_test.mean(), acc_test.std()"
   ]
  },
  {
   "cell_type": "code",
   "execution_count": 30,
   "metadata": {},
   "outputs": [
    {
     "data": {
      "text/plain": [
       "(46.398, 1.0352705650491292, 40.17285714285714, 0.8496674019153343)"
      ]
     },
     "execution_count": 30,
     "metadata": {},
     "output_type": "execute_result"
    }
   ],
   "source": [
    "acc_train.mean(), acc_train.std(), acc_test.mean(), acc_test.std()"
   ]
  },
  {
   "cell_type": "code",
   "execution_count": 28,
   "metadata": {},
   "outputs": [
    {
     "data": {
      "text/plain": [
       "(44.5, 0.6738511917118114, 37.55142857142857, 0.7603651110097153)"
      ]
     },
     "execution_count": 28,
     "metadata": {},
     "output_type": "execute_result"
    }
   ],
   "source": [
    "acc_train.mean(), acc_train.std(), acc_test.mean(), acc_test.std()"
   ]
  },
  {
   "cell_type": "code",
   "execution_count": 111,
   "metadata": {},
   "outputs": [],
   "source": [
    "# data = data[:2000]\n",
    "# targ = targ[:2000]"
   ]
  },
  {
   "cell_type": "code",
   "execution_count": 112,
   "metadata": {},
   "outputs": [],
   "source": [
    "# pred = W12 @ np.maximum(W11 @ np.maximum(W10 @ data.T, 0), 0)\n",
    "# pred_test = W12 @ np.maximum(W11 @ np.maximum(W10 @ data_test.T, 0), 0)\n",
    "# print(accuracy(pred.T, targ), accuracy(pred_test.T, targ_test))"
   ]
  },
  {
   "cell_type": "code",
   "execution_count": 113,
   "metadata": {},
   "outputs": [],
   "source": [
    "# pred = W22 @ np.maximum(W21 @ np.maximum(W20 @ data.T, 0), 0)\n",
    "# pred_test = W22 @ np.maximum(W21 @ np.maximum(W20 @ data_test.T, 0), 0)\n",
    "# print(accuracy(pred.T, targ), accuracy(pred_test.T, targ_test))"
   ]
  },
  {
   "cell_type": "code",
   "execution_count": 114,
   "metadata": {},
   "outputs": [],
   "source": [
    "# funcs1 = next_layer(W10, data=data)\n",
    "# funcs2  = next_layer(W20, data=data)"
   ]
  },
  {
   "cell_type": "code",
   "execution_count": 115,
   "metadata": {},
   "outputs": [],
   "source": [
    "# f_inv2 = np.linalg.pinv(funcs2.T)\n",
    "# W11b2 = W11 @ funcs1.T @ f_inv2"
   ]
  },
  {
   "cell_type": "code",
   "execution_count": 116,
   "metadata": {},
   "outputs": [],
   "source": [
    "# pred = W12 @ np.maximum(W11b2 @ np.maximum(W20 @ data.T, 0), 0)\n",
    "# pred_test = W12 @ np.maximum(W11b2 @ np.maximum(W20 @ data_test.T, 0), 0)\n",
    "# print(accuracy(pred.T, targ), accuracy(pred_test.T, targ_test))"
   ]
  },
  {
   "cell_type": "code",
   "execution_count": 117,
   "metadata": {},
   "outputs": [],
   "source": [
    "# funcs12 = next_layer(W11, data=funcs1)\n",
    "# funcs22  = next_layer(W21, data=funcs2)"
   ]
  },
  {
   "cell_type": "code",
   "execution_count": 118,
   "metadata": {},
   "outputs": [],
   "source": [
    "# f_inv22 = np.linalg.pinv(funcs22.T)\n",
    "# W12b2 = W12 @ funcs12.T @ f_inv22"
   ]
  },
  {
   "cell_type": "code",
   "execution_count": 119,
   "metadata": {},
   "outputs": [],
   "source": [
    "# pred = W12 @ np.maximum(W11b2 @ np.maximum(W20 @ data.T, 0), 0)\n",
    "# pred_test = W12b2 @ np.maximum(W21 @ np.maximum(W20 @ data_test.T, 0), 0)\n",
    "# print(accuracy(pred.T, targ), accuracy(pred_test.T, targ_test))"
   ]
  },
  {
   "cell_type": "code",
   "execution_count": 120,
   "metadata": {},
   "outputs": [],
   "source": [
    "# print(W10.shape, W11.shape, W12.shape)"
   ]
  },
  {
   "cell_type": "code",
   "execution_count": 121,
   "metadata": {},
   "outputs": [],
   "source": [
    "class PointFinder():\n",
    "    def __init__(self, model1, model2):\n",
    "        \n",
    "        self.model1 = model1\n",
    "        self.model2 = model2\n",
    "        self.depth = \n",
    "        self.W10 = list(model1.parameters())[0].data.cpu().numpy()\n",
    "        self.W20 = list(model2.parameters())[0].data.cpu().numpy()\n",
    "\n",
    "        self.W11 = list(model1.parameters())[-2].data.cpu().numpy()\n",
    "        self.W21 = list(model2.parameters())[-2].data.cpu().numpy()\n",
    "\n",
    "        self.W12 = list(model1.parameters())[-1].data.cpu().numpy()\n",
    "        self.W22 = list(model2.parameters())[-1].data.cpu().numpy()\n",
    "\n",
    "        self.funcs1 = next_layer(self.W10, data=data)\n",
    "        self.funcs2  = next_layer(self.W20, data=data)\n",
    "        self.f_inv2 = np.linalg.pinv(self.funcs2.T)\n",
    "        self.W11b2 = self.W11 @ self.funcs1.T @ self.f_inv2\n",
    "        \n",
    "    def connect_butterflies(self, W10, W20, W11, W11b2,\n",
    "                            t=0.5, method='arc_connect'):\n",
    "        Wn0 = getattr(Connector(W10, W20), method)(t=s)[1]\n",
    "        Wn1 = getattr(Connector(W11.T, W11b2.T), method)(t=s)[1].T\n",
    "\n",
    "        return Wn0, Wn1\n",
    "\n",
    "    def find_point(self, t=0.5, method='arc_connect'):\n",
    "        \n",
    "        for \n",
    "\n",
    "        out = {}\n",
    "        if 0<=t<1:\n",
    "            s = t\n",
    "            # go from model1 basic to model2 basis weight in 2th layer\n",
    "            Wn0 = getattr(Connector(self.W10, self.W20), method)(t=s)[1]\n",
    "            Wn1 = getattr(Connector(self.W11.T, self.W11b2.T), method)(t=s)[1].T\n",
    "            \n",
    "            pred = self.W12 @ np.maximum( Wn1 @ np.maximum(Wn0 @ data.T, 0), 0)\n",
    "            out['train'] = accuracy(pred.T, targ)\n",
    "\n",
    "            pred_test = self.W12 @ np.maximum( Wn1 @ np.maximum(Wn0 @ data_test.T, 0), 0)\n",
    "            out['test'] = accuracy(pred_test.T, targ_test)\n",
    "        elif 1<=t<=2:\n",
    "            s = t - 1\n",
    "            # go from model1 basic to model2 basis weight in 3th layer\n",
    "            Wn1 = getattr(Connector(self.W11b2, self.W21), method)(t=s)[1]\n",
    "            Wn2 = getattr(Connector(self.W12.T, self.W22.T), method)(t=s)[1].T\n",
    "            \n",
    "            pred = Wn2 @ np.maximum( Wn1 @ np.maximum(self.W20 @ data.T, 0), 0)\n",
    "            out['train'] = accuracy(pred.T, targ)\n",
    "\n",
    "            pred_test = Wn2 @ np.maximum( Wn1 @ np.maximum(self.W20 @ data_test.T, 0), 0)\n",
    "            out['test'] = accuracy(pred_test.T, targ_test)\n",
    "  \n",
    "        else:\n",
    "            assert not  0<=t<=2, 't is not in [0, 2]'\n",
    "\n",
    "        return out"
   ]
  },
  {
   "cell_type": "code",
   "execution_count": 122,
   "metadata": {},
   "outputs": [],
   "source": [
    "class PointFinderInverse():\n",
    "    def __init__(self, model1, model2):\n",
    "        out = {}\n",
    "        self.W10 = list(model1.parameters())[0].data.cpu().numpy()\n",
    "        self.W20 = list(model2.parameters())[0].data.cpu().numpy()\n",
    "\n",
    "        self.W11 = list(model1.parameters())[-2].data.cpu().numpy()\n",
    "        self.W21 = list(model2.parameters())[-2].data.cpu().numpy()\n",
    "\n",
    "        self.W12 = list(model1.parameters())[-1].data.cpu().numpy()\n",
    "        self.W22 = list(model2.parameters())[-1].data.cpu().numpy()\n",
    "\n",
    "        self.funcs11 = next_layer(self.W10, data=data)\n",
    "        self.funcs12 = next_layer(self.W11, data=self.funcs11)\n",
    "        \n",
    "        self.funcs21 = next_layer(self.W20, data=data)\n",
    "        self.funcs22 = next_layer(self.W21, data=self.funcs21)\n",
    "        \n",
    "        self.f_inv21 = np.linalg.pinv(self.funcs21.T)\n",
    "        self.W11b2 = self.W11 @ self.funcs11.T @ self.f_inv21\n",
    "        \n",
    "        self.f_inv22 = np.linalg.pinv(self.funcs22.T)\n",
    "        self.W12b2 = self.W12 @ self.funcs12.T @ self.f_inv22\n",
    "        \n",
    "    def find_point(self, t=0.5, method='arc_connect'):\n",
    "\n",
    "        out = {}\n",
    "        if 0<=t<=1:\n",
    "            s = t\n",
    "            # go from model1 basic to model2 basis weight in 2th layer\n",
    "            \n",
    "            Wn0 = getattr(Connector(self.W10, self.W20), method)(t=s)[1]\n",
    "            \n",
    "            funcs = next_layer(Wn0, data=data)\n",
    "            f_inv = np.linalg.pinv(funcs.T)\n",
    "            Wn1 = self.W11 @ self.funcs11.T @ f_inv\n",
    "            \n",
    "            pred = self.W12 @ np.maximum( Wn1 @ np.maximum(Wn0 @ data.T, 0), 0)\n",
    "            out['train'] = accuracy(pred.T, targ)\n",
    "\n",
    "            pred_test = self.W12 @ np.maximum( Wn1 @ np.maximum(Wn0 @ data_test.T, 0), 0)\n",
    "            out['test'] = accuracy(pred_test.T, targ_test)\n",
    "\n",
    "        elif 1<t<=2:\n",
    "            s = t - 1\n",
    "            # go from model1 basic to model2 basis weight in 3th layer\n",
    "            Wn1 = getattr(Connector(self.W11b2, self.W21), method)(t=s)[1]\n",
    "\n",
    "            funcs = next_layer(Wn1, data=self.funcs21)\n",
    "            f_inv = np.linalg.pinv(funcs.T)\n",
    "            Wn2 = self.W12 @ self.funcs12.T @ f_inv\n",
    "\n",
    "            pred = Wn2 @ np.maximum( Wn1 @ np.maximum(self.W20 @ data.T, 0), 0)\n",
    "            out['train'] = accuracy(pred.T, targ)\n",
    "\n",
    "            pred_test = Wn2 @ np.maximum( Wn1 @ np.maximum(self.W20 @ data_test.T, 0), 0)\n",
    "            out['test'] = accuracy(pred_test.T, targ_test)\n",
    "            \n",
    "        elif 2<t<=3:\n",
    "            s = t - 2\n",
    "            Wn1 = getattr(Connector(self.W12b2, self.W22), method)(t=s)[1]\n",
    "               \n",
    "            pred = Wn1 @ np.maximum( self.W21 @ np.maximum(self.W20 @ data.T, 0), 0)\n",
    "            out['train'] = accuracy(pred.T, targ)\n",
    "\n",
    "            pred_test = Wn1 @ np.maximum( self.W21 @ np.maximum(self.W20 @ data_test.T, 0), 0)\n",
    "            out['test'] = accuracy(pred_test.T, targ_test)\n",
    "            \n",
    "        else:\n",
    "            assert not  0<=t<=3, 't is not in [0, 3]'\n",
    "            \n",
    "        print(t, out)\n",
    "\n",
    "        return out"
   ]
  },
  {
   "cell_type": "markdown",
   "metadata": {},
   "source": [
    "# Path Visualization "
   ]
  },
  {
   "cell_type": "code",
   "execution_count": 123,
   "metadata": {},
   "outputs": [],
   "source": [
    "finder = PointFinderInverse(model1, model2) \n",
    "# finder = PointFinder(model1, model2)"
   ]
  },
  {
   "cell_type": "code",
   "execution_count": 84,
   "metadata": {},
   "outputs": [
    {
     "name": "stdout",
     "output_type": "stream",
     "text": [
      "0 {'train': 98.095703125, 'test': 64.4}\n"
     ]
    }
   ],
   "source": [
    "point = finder.find_point(t=0, method='arc_connect')"
   ]
  },
  {
   "cell_type": "code",
   "execution_count": 85,
   "metadata": {},
   "outputs": [
    {
     "data": {
      "text/plain": [
       "{'train': 98.095703125, 'test': 64.4}"
      ]
     },
     "execution_count": 85,
     "metadata": {},
     "output_type": "execute_result"
    }
   ],
   "source": [
    "point"
   ]
  },
  {
   "cell_type": "code",
   "execution_count": 86,
   "metadata": {},
   "outputs": [
    {
     "name": "stdout",
     "output_type": "stream",
     "text": [
      "1 {'train': 98.03059895833334, 'test': 10.27}\n"
     ]
    },
    {
     "data": {
      "text/plain": [
       "{'train': 98.03059895833334, 'test': 10.27}"
      ]
     },
     "execution_count": 86,
     "metadata": {},
     "output_type": "execute_result"
    }
   ],
   "source": [
    "point1 = finder.find_point(t=1, method='arc_connect')\n",
    "point1"
   ]
  },
  {
   "cell_type": "code",
   "execution_count": 87,
   "metadata": {},
   "outputs": [
    {
     "name": "stdout",
     "output_type": "stream",
     "text": [
      "2 {'train': 98.095703125, 'test': 10.79}\n"
     ]
    },
    {
     "data": {
      "text/plain": [
       "{'train': 98.095703125, 'test': 10.79}"
      ]
     },
     "execution_count": 87,
     "metadata": {},
     "output_type": "execute_result"
    }
   ],
   "source": [
    "point2 = finder.find_point(t=2, method='arc_connect')\n",
    "point2"
   ]
  },
  {
   "cell_type": "code",
   "execution_count": 88,
   "metadata": {},
   "outputs": [
    {
     "name": "stdout",
     "output_type": "stream",
     "text": [
      "2.5 {'train': 98.86067708333334, 'test': 11.600000000000001}\n"
     ]
    },
    {
     "data": {
      "text/plain": [
       "{'train': 98.86067708333334, 'test': 11.600000000000001}"
      ]
     },
     "execution_count": 88,
     "metadata": {},
     "output_type": "execute_result"
    }
   ],
   "source": [
    "point3 = finder.find_point(t=2.5, method='arc_connect')\n",
    "point3"
   ]
  },
  {
   "cell_type": "code",
   "execution_count": 130,
   "metadata": {},
   "outputs": [],
   "source": [
    "time = np.linspace(0, 2, 9)"
   ]
  },
  {
   "cell_type": "code",
   "execution_count": 132,
   "metadata": {},
   "outputs": [],
   "source": [
    "time = list(time) + [2.5, 3] "
   ]
  },
  {
   "cell_type": "code",
   "execution_count": 133,
   "metadata": {},
   "outputs": [
    {
     "data": {
      "text/plain": [
       "[0.0, 0.25, 0.5, 0.75, 1.0, 1.25, 1.5, 1.75, 2.0, 2.5, 3]"
      ]
     },
     "execution_count": 133,
     "metadata": {},
     "output_type": "execute_result"
    }
   ],
   "source": [
    "time"
   ]
  },
  {
   "cell_type": "code",
   "execution_count": 134,
   "metadata": {},
   "outputs": [
    {
     "data": {
      "text/plain": [
       "{'train': 98.095703125, 'test': 10.79}"
      ]
     },
     "execution_count": 134,
     "metadata": {},
     "output_type": "execute_result"
    }
   ],
   "source": [
    "point"
   ]
  },
  {
   "cell_type": "code",
   "execution_count": 135,
   "metadata": {
    "scrolled": false
   },
   "outputs": [
    {
     "name": "stderr",
     "output_type": "stream",
     "text": [
      "  9%|▉         | 1/11 [02:09<21:32, 129.25s/it]"
     ]
    },
    {
     "name": "stdout",
     "output_type": "stream",
     "text": [
      "0.0 {'train': 97.68599999999999, 'test': 64.4}\n"
     ]
    },
    {
     "name": "stderr",
     "output_type": "stream",
     "text": [
      "\r",
      " 18%|█▊        | 2/11 [04:18<19:23, 129.26s/it]"
     ]
    },
    {
     "name": "stdout",
     "output_type": "stream",
     "text": [
      "0.25 {'train': 97.404, 'test': 64.01}\n"
     ]
    },
    {
     "name": "stderr",
     "output_type": "stream",
     "text": [
      "\r",
      " 27%|██▋       | 3/11 [06:27<17:13, 129.19s/it]"
     ]
    },
    {
     "name": "stdout",
     "output_type": "stream",
     "text": [
      "0.5 {'train': 96.878, 'test': 63.839999999999996}\n"
     ]
    },
    {
     "name": "stderr",
     "output_type": "stream",
     "text": [
      "\r",
      " 36%|███▋      | 4/11 [08:36<15:04, 129.17s/it]"
     ]
    },
    {
     "name": "stdout",
     "output_type": "stream",
     "text": [
      "0.75 {'train': 96.746, 'test': 63.7}\n"
     ]
    },
    {
     "name": "stderr",
     "output_type": "stream",
     "text": [
      "\r",
      " 45%|████▌     | 5/11 [10:45<12:54, 129.13s/it]"
     ]
    },
    {
     "name": "stdout",
     "output_type": "stream",
     "text": [
      "1.0 {'train': 96.808, 'test': 63.739999999999995}\n"
     ]
    },
    {
     "name": "stderr",
     "output_type": "stream",
     "text": [
      "\r",
      " 55%|█████▍    | 6/11 [12:46<10:33, 126.71s/it]"
     ]
    },
    {
     "name": "stdout",
     "output_type": "stream",
     "text": [
      "1.25 {'train': 92.268, 'test': 62.8}\n"
     ]
    },
    {
     "name": "stderr",
     "output_type": "stream",
     "text": [
      "\r",
      " 64%|██████▎   | 7/11 [14:47<08:19, 125.00s/it]"
     ]
    },
    {
     "name": "stdout",
     "output_type": "stream",
     "text": [
      "1.5 {'train': 83.91, 'test': 61.71}\n"
     ]
    },
    {
     "name": "stderr",
     "output_type": "stream",
     "text": [
      "\r",
      " 73%|███████▎  | 8/11 [16:48<06:11, 123.83s/it]"
     ]
    },
    {
     "name": "stdout",
     "output_type": "stream",
     "text": [
      "1.75 {'train': 89.932, 'test': 63.2}\n"
     ]
    },
    {
     "name": "stderr",
     "output_type": "stream",
     "text": [
      "\r",
      " 82%|████████▏ | 9/11 [18:49<04:06, 123.00s/it]"
     ]
    },
    {
     "name": "stdout",
     "output_type": "stream",
     "text": [
      "2.0 {'train': 94.774, 'test': 64.05999999999999}\n"
     ]
    },
    {
     "name": "stderr",
     "output_type": "stream",
     "text": [
      "\r",
      " 91%|█████████ | 10/11 [19:02<01:29, 89.73s/it]"
     ]
    },
    {
     "name": "stdout",
     "output_type": "stream",
     "text": [
      "2.5 {'train': 97.234, 'test': 65.11}\n"
     ]
    },
    {
     "name": "stderr",
     "output_type": "stream",
     "text": [
      "\r",
      "100%|██████████| 11/11 [19:14<00:00, 66.44s/it]"
     ]
    },
    {
     "name": "stdout",
     "output_type": "stream",
     "text": [
      "3 {'train': 97.832, 'test': 64.66}\n"
     ]
    },
    {
     "name": "stderr",
     "output_type": "stream",
     "text": [
      "\n"
     ]
    }
   ],
   "source": [
    "time = np.linspace(0, 2, 9)\n",
    "path = {'test': [], 'train': []}\n",
    "for t in tqdm(time):\n",
    "    point = finder.find_point(t=t, method='arc_connect')\n",
    "    path['test'].append(100-point['test']) \n",
    "    path['train'].append(100-point['train']) "
   ]
  },
  {
   "cell_type": "code",
   "execution_count": 136,
   "metadata": {},
   "outputs": [
    {
     "data": {
      "text/plain": [
       "array([97.686, 97.404, 96.878, 96.746, 96.808, 92.268, 83.91 , 89.932,\n",
       "       94.774, 97.234, 97.832])"
      ]
     },
     "execution_count": 136,
     "metadata": {},
     "output_type": "execute_result"
    }
   ],
   "source": [
    "100 - np.array(path['train'])"
   ]
  },
  {
   "cell_type": "code",
   "execution_count": 137,
   "metadata": {},
   "outputs": [
    {
     "data": {
      "text/plain": [
       "array([64.4 , 64.01, 63.84, 63.7 , 63.74, 62.8 , 61.71, 63.2 , 64.06,\n",
       "       65.11, 64.66])"
      ]
     },
     "execution_count": 137,
     "metadata": {},
     "output_type": "execute_result"
    }
   ],
   "source": [
    "100 - np.array(path['test'])"
   ]
  },
  {
   "cell_type": "code",
   "execution_count": 138,
   "metadata": {},
   "outputs": [
    {
     "data": {
      "image/png": "[encoded data removed]",
      "text/plain": [
       "<Figure size 432x288 with 1 Axes>"
      ]
     },
     "metadata": {
      "needs_background": "light"
     },
     "output_type": "display_data"
    }
   ],
   "source": [
    "plt.plot(time, path['train'], label='train')\n",
    "plt.plot(time, path['test'], label='test') \n",
    "plt.legend()\n",
    "plt.xlabel('time')\n",
    "plt.ylabel('error (%)')\n",
    "plt.show()"
   ]
  },
  {
   "cell_type": "code",
   "execution_count": 36,
   "metadata": {},
   "outputs": [
    {
     "name": "stderr",
     "output_type": "stream",
     "text": [
      "100%|██████████| 61/61 [07:43<00:00,  7.45s/it]\n"
     ]
    }
   ],
   "source": [
    "path_l = {'test': [], 'train': []}\n",
    "for t in tqdm(time):\n",
    "    point = finder.find_point(t=t, method='lin_connect')\n",
    "    path_l['test'].append(100-point['test']) \n",
    "    path_l['train'].append(100-point['train']) "
   ]
  },
  {
   "cell_type": "code",
   "execution_count": 37,
   "metadata": {},
   "outputs": [
    {
     "data": {
      "image/png": "[encoded data removed]",
      "text/plain": [
       "<Figure size 432x288 with 1 Axes>"
      ]
     },
     "metadata": {
      "needs_background": "light"
     },
     "output_type": "display_data"
    }
   ],
   "source": [
    "plt.plot(time, path_l['train'], label='train')\n",
    "plt.plot(time, path_l['test'], label='test') \n",
    "plt.legend()\n",
    "plt.xlabel('time')\n",
    "plt.ylabel('error (%)')\n",
    "plt.show()"
   ]
  },
  {
   "cell_type": "markdown",
   "metadata": {},
   "source": [
    "# Count statistic in the fixed point"
   ]
  },
  {
   "cell_type": "code",
   "execution_count": 45,
   "metadata": {},
   "outputs": [],
   "source": [
    "def get_stat(pointfinder, t=1.5, method='arc_connect'):\n",
    "    stat = {'test': [], 'train': []}\n",
    "    for i in tqdm(range(3, 9)):\n",
    "        model1.load_state_dict(torch.load('curves/Linear3NoBias/curve'+str(i)+'/checkpoint-400.pt')['model_state'])\n",
    "        model2.load_state_dict(torch.load('curves/Linear3NoBias/curve'+str(i+1)+'/checkpoint-400.pt')['model_state'])\n",
    "        finder = pointfinder(model1, model2) \n",
    "        point = finder.find_point(t=t, method=method)\n",
    "        stat['test'].append(point['test']) \n",
    "        stat['train'].append(point['train']) \n",
    "    return stat"
   ]
  },
  {
   "cell_type": "code",
   "execution_count": 46,
   "metadata": {},
   "outputs": [
    {
     "name": "stderr",
     "output_type": "stream",
     "text": [
      "\n",
      "  0%|          | 0/6 [00:00<?, ?it/s]\u001b[A\n",
      " 17%|█▋        | 1/6 [02:01<10:06, 121.29s/it]\u001b[A\n",
      " 33%|███▎      | 2/6 [04:02<08:05, 121.31s/it]\u001b[A\n",
      " 50%|█████     | 3/6 [06:03<06:03, 121.27s/it]\u001b[A\n",
      " 67%|██████▋   | 4/6 [08:05<04:02, 121.25s/it]\u001b[A\n",
      " 83%|████████▎ | 5/6 [10:06<02:01, 121.22s/it]\u001b[A\n",
      "100%|██████████| 6/6 [12:07<00:00, 121.25s/it]\u001b[A\n",
      "\u001b[A"
     ]
    }
   ],
   "source": [
    "arcbutterfly = get_stat(PointFinder, t=1.5, method='arc_connect')"
   ]
  },
  {
   "cell_type": "code",
   "execution_count": 49,
   "metadata": {},
   "outputs": [
    {
     "data": {
      "text/plain": [
       "{'test': [48.77, 50.42, 49.46, 51.32, 49.09, 48.82],\n",
       " 'train': [59.931999999999995,\n",
       "  60.978,\n",
       "  60.397999999999996,\n",
       "  62.21600000000001,\n",
       "  60.01,\n",
       "  60.124]}"
      ]
     },
     "execution_count": 49,
     "metadata": {},
     "output_type": "execute_result"
    }
   ],
   "source": [
    "arcbutterfly"
   ]
  },
  {
   "cell_type": "code",
   "execution_count": 25,
   "metadata": {},
   "outputs": [],
   "source": [
    "def get_mean_svd(stat):\n",
    "    train = np.array(stat['train'])\n",
    "    test = np.array(stat['test'])\n",
    "    return train.mean(), train.std(), test.mean(), test.std()"
   ]
  },
  {
   "cell_type": "code",
   "execution_count": 53,
   "metadata": {},
   "outputs": [
    {
     "data": {
      "text/plain": [
       "(60.60966666666667, 0.7974420912448094, 49.64666666666667, 0.930477774527091)"
      ]
     },
     "execution_count": 53,
     "metadata": {},
     "output_type": "execute_result"
    }
   ],
   "source": [
    "get_mean_svd(arcbutterfly)"
   ]
  },
  {
   "cell_type": "code",
   "execution_count": 54,
   "metadata": {},
   "outputs": [
    {
     "name": "stderr",
     "output_type": "stream",
     "text": [
      "\n",
      "  0%|          | 0/6 [00:00<?, ?it/s]\u001b[A\n",
      " 17%|█▋        | 1/6 [02:01<10:05, 121.01s/it]\u001b[A\n",
      " 33%|███▎      | 2/6 [04:01<08:03, 120.98s/it]\u001b[A\n",
      " 50%|█████     | 3/6 [06:02<06:02, 121.00s/it]\u001b[A\n",
      " 67%|██████▋   | 4/6 [08:04<04:02, 121.02s/it]\u001b[A\n",
      " 83%|████████▎ | 5/6 [10:04<02:01, 121.00s/it]\u001b[A\n",
      "100%|██████████| 6/6 [12:06<00:00, 121.03s/it]\u001b[A\n",
      "\u001b[A"
     ]
    }
   ],
   "source": [
    "linbutterfly = get_stat(PointFinder, t=1.5, method='lin_connect')"
   ]
  },
  {
   "cell_type": "code",
   "execution_count": 55,
   "metadata": {},
   "outputs": [
    {
     "data": {
      "text/plain": [
       "{'test': [36.93, 39.17, 39.379999999999995, 39.21, 38.12, 37.75],\n",
       " 'train': [46.738,\n",
       "  48.374,\n",
       "  48.087999999999994,\n",
       "  49.036,\n",
       "  47.355999999999995,\n",
       "  47.326]}"
      ]
     },
     "execution_count": 55,
     "metadata": {},
     "output_type": "execute_result"
    }
   ],
   "source": [
    "linbutterfly"
   ]
  },
  {
   "cell_type": "code",
   "execution_count": 56,
   "metadata": {},
   "outputs": [
    {
     "data": {
      "text/plain": [
       "(47.81966666666667, 0.7623922146040647, 38.42666666666667, 0.9006417465094294)"
      ]
     },
     "execution_count": 56,
     "metadata": {},
     "output_type": "execute_result"
    }
   ],
   "source": [
    "get_mean_svd(linbutterfly)"
   ]
  },
  {
   "cell_type": "code",
   "execution_count": 57,
   "metadata": {},
   "outputs": [
    {
     "name": "stderr",
     "output_type": "stream",
     "text": [
      "\n",
      "  0%|          | 0/6 [00:00<?, ?it/s]\u001b[A\n",
      " 17%|█▋        | 1/6 [02:26<12:13, 146.64s/it]\u001b[A"
     ]
    },
    {
     "name": "stdout",
     "output_type": "stream",
     "text": [
      "1.5 {'train': 61.026, 'test': 51.839999999999996}\n"
     ]
    },
    {
     "name": "stderr",
     "output_type": "stream",
     "text": [
      "\n",
      " 33%|███▎      | 2/6 [04:53<09:46, 146.74s/it]\u001b[A"
     ]
    },
    {
     "name": "stdout",
     "output_type": "stream",
     "text": [
      "1.5 {'train': 60.948, 'test': 51.64}\n"
     ]
    },
    {
     "name": "stderr",
     "output_type": "stream",
     "text": [
      "\n",
      " 50%|█████     | 3/6 [07:20<07:20, 146.78s/it]\u001b[A"
     ]
    },
    {
     "name": "stdout",
     "output_type": "stream",
     "text": [
      "1.5 {'train': 60.784000000000006, 'test': 51.68000000000001}\n"
     ]
    },
    {
     "name": "stderr",
     "output_type": "stream",
     "text": [
      "\n",
      " 67%|██████▋   | 4/6 [09:47<04:53, 146.83s/it]\u001b[A"
     ]
    },
    {
     "name": "stdout",
     "output_type": "stream",
     "text": [
      "1.5 {'train': 61.419999999999995, 'test': 52.18000000000001}\n"
     ]
    },
    {
     "name": "stderr",
     "output_type": "stream",
     "text": [
      "\n",
      " 83%|████████▎ | 5/6 [12:14<02:26, 146.83s/it]\u001b[A"
     ]
    },
    {
     "name": "stdout",
     "output_type": "stream",
     "text": [
      "1.5 {'train': 60.846000000000004, 'test': 52.23}\n"
     ]
    },
    {
     "name": "stderr",
     "output_type": "stream",
     "text": [
      "\n",
      "100%|██████████| 6/6 [14:41<00:00, 146.84s/it]\u001b[A\n",
      "\u001b[A"
     ]
    },
    {
     "name": "stdout",
     "output_type": "stream",
     "text": [
      "1.5 {'train': 60.57599999999999, 'test': 51.68000000000001}\n"
     ]
    }
   ],
   "source": [
    "linpseudo = get_stat(PointFinderInverse, t=1.5, method='lin_connect')"
   ]
  },
  {
   "cell_type": "code",
   "execution_count": 63,
   "metadata": {},
   "outputs": [
    {
     "data": {
      "text/plain": [
       "{'test': [51.839999999999996,\n",
       "  51.64,\n",
       "  51.68000000000001,\n",
       "  52.18000000000001,\n",
       "  52.23,\n",
       "  51.68000000000001],\n",
       " 'train': [61.026,\n",
       "  60.948,\n",
       "  60.784000000000006,\n",
       "  61.419999999999995,\n",
       "  60.846000000000004,\n",
       "  60.57599999999999]}"
      ]
     },
     "execution_count": 63,
     "metadata": {},
     "output_type": "execute_result"
    }
   ],
   "source": [
    "linpseudo"
   ]
  },
  {
   "cell_type": "code",
   "execution_count": 64,
   "metadata": {},
   "outputs": [
    {
     "data": {
      "text/plain": [
       "(60.93333333333334, 0.2592493437257302, 51.875, 0.2420571557848809)"
      ]
     },
     "execution_count": 64,
     "metadata": {},
     "output_type": "execute_result"
    }
   ],
   "source": [
    "get_mean_svd(linpseudo)"
   ]
  },
  {
   "cell_type": "code",
   "execution_count": null,
   "metadata": {},
   "outputs": [
    {
     "name": "stderr",
     "output_type": "stream",
     "text": [
      "\n",
      "  0%|          | 0/6 [00:00<?, ?it/s]\u001b[A\n",
      " 17%|█▋        | 1/6 [02:26<12:14, 146.96s/it]\u001b[A"
     ]
    },
    {
     "name": "stdout",
     "output_type": "stream",
     "text": [
      "1.5 {'train': 71.096, 'test': 59.47}\n"
     ]
    }
   ],
   "source": [
    "arcpseudo = get_stat(PointFinderInverse, t=1.5, method='arc_connect')"
   ]
  },
  {
   "cell_type": "code",
   "execution_count": 65,
   "metadata": {},
   "outputs": [
    {
     "data": {
      "text/plain": [
       "{'test': [59.47,\n",
       "  59.38,\n",
       "  58.540000000000006,\n",
       "  58.95,\n",
       "  58.650000000000006,\n",
       "  58.699999999999996],\n",
       " 'train': [71.096, 71.356, 70.706, 71.394, 71.134, 70.922]}"
      ]
     },
     "execution_count": 65,
     "metadata": {},
     "output_type": "execute_result"
    }
   ],
   "source": [
    "arcpseudo"
   ]
  },
  {
   "cell_type": "code",
   "execution_count": 66,
   "metadata": {},
   "outputs": [
    {
     "data": {
      "text/plain": [
       "(71.10133333333334,\n",
       " 0.23806628395376653,\n",
       " 58.94833333333333,\n",
       " 0.35960240389753795)"
      ]
     },
     "execution_count": 66,
     "metadata": {},
     "output_type": "execute_result"
    }
   ],
   "source": [
    "get_mean_svd(arcpseudo)"
   ]
  },
  {
   "cell_type": "code",
   "execution_count": 59,
   "metadata": {},
   "outputs": [],
   "source": [
    "f_inv1 = np.linalg.pinv(funcs1.T)"
   ]
  },
  {
   "cell_type": "code",
   "execution_count": 60,
   "metadata": {},
   "outputs": [],
   "source": [
    "f_inv2 = np.linalg.pinv(funcs2.T)"
   ]
  },
  {
   "cell_type": "code",
   "execution_count": 62,
   "metadata": {},
   "outputs": [
    {
     "data": {
      "text/plain": [
       "95.27799999999999"
      ]
     },
     "execution_count": 62,
     "metadata": {},
     "output_type": "execute_result"
    }
   ],
   "source": [
    "pred = W12 @ np.maximum(W11 @ np.maximum(W10 @ data.T, 0), 0)\n",
    "accuracy(pred.T, targ)"
   ]
  },
  {
   "cell_type": "code",
   "execution_count": 70,
   "metadata": {},
   "outputs": [
    {
     "data": {
      "text/plain": [
       "95.27799999999999"
      ]
     },
     "execution_count": 70,
     "metadata": {},
     "output_type": "execute_result"
    }
   ],
   "source": [
    "pred = W12 @ np.maximum(W11 @ np.maximum(W10 @ data.T, 0), 0)\n",
    "accuracy(pred.T, targ)"
   ]
  },
  {
   "cell_type": "code",
   "execution_count": 64,
   "metadata": {},
   "outputs": [
    {
     "data": {
      "text/plain": [
       "61.07"
      ]
     },
     "execution_count": 64,
     "metadata": {},
     "output_type": "execute_result"
    }
   ],
   "source": [
    "t=0.5\n",
    "pred = Connector(W12.T, W22.T).arc_connect(t=t)[1].T @ np.maximum(Connector(W11, (W21 @ funcs2.T @ f_inv1)).arc_connect(t=t)[1] @  np.maximum(W10 @ data.T, 0), 0)\n",
    "accuracy(pred.T, targ)"
   ]
  },
  {
   "cell_type": "code",
   "execution_count": 65,
   "metadata": {},
   "outputs": [
    {
     "data": {
      "text/plain": [
       "78.448"
      ]
     },
     "execution_count": 65,
     "metadata": {},
     "output_type": "execute_result"
    }
   ],
   "source": [
    "t = 0.5\n",
    "pred = W22 @ np.maximum(Connector((W21 @ funcs2.T @ f_inv1).T, W21.T).arc_connect(t=t)[1].T @ np.maximum(Connector(W10, W20).arc_connect(t=t)[1]  @ data.T, 0), 0)\n",
    "accuracy(pred.T, targ)"
   ]
  },
  {
   "cell_type": "code",
   "execution_count": null,
   "metadata": {},
   "outputs": [],
   "source": []
  }
 ],
 "metadata": {
  "kernelspec": {
   "display_name": "Python 3",
   "language": "python",
   "name": "python3"
  },
  "language_info": {
   "codemirror_mode": {
    "name": "ipython",
    "version": 3
   },
   "file_extension": ".py",
   "mimetype": "text/x-python",
   "name": "python",
   "nbconvert_exporter": "python",
   "pygments_lexer": "ipython3",
   "version": "3.6.7"
  }
 },
 "nbformat": 4,
 "nbformat_minor": 2
}
