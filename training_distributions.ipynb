{
 "cells": [
  {
   "cell_type": "code",
   "execution_count": 1,
   "metadata": {},
   "outputs": [],
   "source": [
    "import argparse\n",
    "import numpy as np\n",
    "import os\n",
    "import tabulate\n",
    "import torch\n",
    "import torch.nn.functional as F\n",
    "import torch.nn\n",
    "\n",
    "import data\n",
    "import models\n",
    "import curves\n",
    "import utils\n",
    "\n",
    "import pickle"
   ]
  },
  {
   "cell_type": "code",
   "execution_count": 2,
   "metadata": {},
   "outputs": [],
   "source": [
    "import numpy as np\n",
    "import matplotlib.mlab as mlab\n",
    "import matplotlib.pyplot as plt\n",
    "\n",
    "from scipy.stats import norm"
   ]
  },
  {
   "cell_type": "markdown",
   "metadata": {},
   "source": [
    "VGG16\n",
    "\n",
    "Computing mean distance.\n",
    "\n",
    "Initialization for the layer in NN: \n",
    "\n",
    "$W_i \\sim U(-\\sqrt{k}, \\sqrt{k})$\n",
    "where $k = \\frac 1 {N_{in}}$\n",
    "\n",
    "$N_{in}$ - nubmer of input parameters for the weights. \n",
    "\n",
    "$N_{w}$ - numver of weights in the layer.\n",
    "\n",
    "mean square dist between two layers in Linear layer:\n",
    "\n",
    "$E [dist^2(L^1, L^2)] = E\\sum_i (L_1^i-L_i^2)^2 = N_{w} (2 E (L_i^1)^2) = 2 N_{w} \\frac{ \\left (2 \\sqrt k \\right )^2} {12}  = \\frac {2 N_{w}} {3 N_{in}}$\n",
    "\n",
    "for convolution layer:\n",
    "\n",
    "$E [dist^2(L^1, L^2)] = E\\sum_i (L_1^i-L_i^2)^2 = N_{w} (2 E (L_i^1)^2) = 2 N_{w} \\left (\\sqrt \\frac 2 {n} \\right )$\n",
    "\n",
    "where n = m.kernel_size[0] * m.kernel_size[1] * m.out_channels"
   ]
  },
  {
   "cell_type": "code",
   "execution_count": 3,
   "metadata": {},
   "outputs": [],
   "source": [
    "architecture = getattr(models, \"LinearOneLayer\")\n",
    "\n",
    "model = architecture.base(num_classes=10, **architecture.kwargs)"
   ]
  },
  {
   "cell_type": "code",
   "execution_count": 4,
   "metadata": {},
   "outputs": [],
   "source": [
    "# for m in self.modules():\n",
    "#     if isinstance(m, nn.Conv2d):\n",
    "#         n = m.kernel_size[0] * m.kernel_size[1] * m.out_channels\n",
    "#         m.weight.data.normal_(0, math.sqrt(2. / n))\n",
    "#         m.bias.data.zero_()"
   ]
  },
  {
   "cell_type": "code",
   "execution_count": 5,
   "metadata": {},
   "outputs": [
    {
     "name": "stdout",
     "output_type": "stream",
     "text": [
      "1 Linear(in_features=784, out_features=2000, bias=True)\n",
      "N_in 784\n",
      "N_w 1570000\n",
      "2 Linear(in_features=2000, out_features=10, bias=True)\n",
      "N_in 2000\n",
      "N_w 20010\n",
      "\n",
      "Distance 36.629278092878685\n"
     ]
    }
   ],
   "source": [
    "# distance for VGG16 network:\n",
    "DIST = 0\n",
    "i=1\n",
    "for m in model.modules():\n",
    "    if isinstance(m, torch.nn.Conv2d):\n",
    "        print(i, m)\n",
    "        i+=1\n",
    "        N_in = m.in_channels*np.prod(m.kernel_size)\n",
    "        n = m.kernel_size[0] * m.kernel_size[1] * m.out_channels\n",
    "        N_w = np.prod(m.weight.shape)\n",
    "#         +np.prod(m.bias.shape)\n",
    "        print('N_in', N_in)\n",
    "        print('N_w', N_w)\n",
    "        DIST+=2*N_w*2/n\n",
    "    if isinstance(m, torch.nn.Linear):\n",
    "        print(i, m)\n",
    "        i+=1\n",
    "        N_in = m.in_features\n",
    "        N_w = np.prod(m.weight.shape)+np.prod(m.bias.shape)\n",
    "        print('N_in', N_in)\n",
    "        print('N_w', N_w)\n",
    "        DIST+=2/3*float(N_w)/float(N_in)\n",
    "        \n",
    "\n",
    "print()        \n",
    "print('Distance', (np.sqrt(DIST)))"
   ]
  },
  {
   "cell_type": "code",
   "execution_count": 6,
   "metadata": {},
   "outputs": [],
   "source": [
    "def distance(model1, model2):\n",
    "    par1 = np.concatenate([p.data.cpu().numpy().ravel() for p in model1.parameters()])\n",
    "    par2 = np.concatenate([p.data.cpu().numpy().ravel() for p in model2.parameters()])\n",
    "    u = par2 - par1\n",
    "    dx = np.linalg.norm(u)\n",
    "    return dx"
   ]
  },
  {
   "cell_type": "code",
   "execution_count": 7,
   "metadata": {},
   "outputs": [],
   "source": [
    "architecture = getattr(models, \"LogRegression\") #LinearOneLayer LogRegression\n",
    "model1 = architecture.base(num_classes=10, **architecture.kwargs)\n",
    "model2 = architecture.base(num_classes=10, **architecture.kwargs)\n",
    "model3 = architecture.base(num_classes=10, **architecture.kwargs)\n",
    "model4 = architecture.base(num_classes=10, **architecture.kwargs)\n",
    "m = architecture.base(num_classes=10, **architecture.kwargs)\n",
    "model_Arc = architecture.base(num_classes=10, **architecture.kwargs)\n",
    "\n",
    "model5 = architecture.base(num_classes=10, **architecture.kwargs)\n",
    "# model5.load_state_dict(torch.load('curves_mnist/LinearOneLayer/curve3/checkpoint-0.pt')['model_state'])\n",
    "\n",
    "model1.load_state_dict(torch.load('curves_mnist/LogRegression/curve1/checkpoint-20.pt')['model_state'])\n",
    "model2.load_state_dict(torch.load('curves_mnist/LogRegression/curve2/checkpoint-20.pt')['model_state'])\n",
    "\n",
    "# model1.load_state_dict(torch.load('curves_mnist/LinearOneLayer/curve3/checkpoint-12.pt')['model_state'])\n",
    "# model2.load_state_dict(torch.load('curves_mnist/LinearOneLayer/curve4/checkpoint-12.pt')['model_state'])\n",
    "# model_Arc.load_state_dict(torch.load('curves_mnist/LinearOneLayer/curve3/checkpoint-12.pt')['model_state'])\n",
    "# model4.load_state_dict(torch.load('curves_mnist/LinearOneLayer/curve4/checkpoint-12.pt')['model_state'])"
   ]
  },
  {
   "cell_type": "code",
   "execution_count": 8,
   "metadata": {},
   "outputs": [
    {
     "data": {
      "text/plain": [
       "2.1721811"
      ]
     },
     "execution_count": 8,
     "metadata": {},
     "output_type": "execute_result"
    }
   ],
   "source": [
    "distance(model1, model2)"
   ]
  },
  {
   "cell_type": "code",
   "execution_count": 9,
   "metadata": {},
   "outputs": [],
   "source": [
    "# train_res = utils.test(loaders['train'], model1, criterion, regularizer)\n",
    "# test_res = utils.test(loaders['test'], model1, criterion, regularizer) \n",
    "# train_res, test_res"
   ]
  },
  {
   "cell_type": "code",
   "execution_count": 10,
   "metadata": {},
   "outputs": [],
   "source": [
    "for parameter, p1, p2 in zip(model5.parameters(), model1.parameters(), model2.parameters()):\n",
    "    parameter.data.copy_((p1+p2)/2)"
   ]
  },
  {
   "cell_type": "code",
   "execution_count": 274,
   "metadata": {},
   "outputs": [
    {
     "name": "stdout",
     "output_type": "stream",
     "text": [
      "ind 22\n"
     ]
    }
   ],
   "source": [
    "ind = 1\n",
    "T = True\n",
    "\n",
    "while ind<22:\n",
    "\n",
    "    ckpt = 'curves_mnist/LinearOneLayer/curve'+str(2+ind)+'/checkpoint-12.pt'\n",
    "    checkpoint = torch.load(ckpt)\n",
    "    m.load_state_dict(checkpoint['model_state'])\n",
    "    \n",
    "    for parameter, p in zip(model4.parameters(), m.parameters()):\n",
    "        if ind == 1:\n",
    "            parameter.data.copy_((p))\n",
    "        else:\n",
    "            parameter.data.copy_((parameter+p))\n",
    "            \n",
    "    ind+=1\n",
    "\n",
    "print('ind', ind)\n",
    "for parameter in model4.parameters():\n",
    "    parameter.data.copy_(parameter/ind)\n"
   ]
  },
  {
   "cell_type": "code",
   "execution_count": 275,
   "metadata": {},
   "outputs": [],
   "source": [
    "for i, (parameter, p1, p2, mu) in enumerate(zip(model_Arc.parameters(), model1.parameters(), model2.parameters(), model4.parameters())):    \n",
    "    if i!=3:\n",
    "        parameter.data.copy_(mu + (1/np.sqrt(2))*(p1-mu)+(1/np.sqrt(2))*(p2-mu))\n",
    "    "
   ]
  },
  {
   "cell_type": "code",
   "execution_count": 276,
   "metadata": {},
   "outputs": [
    {
     "name": "stdout",
     "output_type": "stream",
     "text": [
      "Saving checkpoint for node changing\n"
     ]
    }
   ],
   "source": [
    "checkpoints = torch.load('curves_mnist/LinearOneLayer/curve3/checkpoint-12.pt')\n",
    "\n",
    "print(\"Saving checkpoint for node changing\")\n",
    "\n",
    "utils.save_checkpoint(\n",
    "            'curves_mnist/LinearOneLayer/curve3',\n",
    "            100,\n",
    "            name='E',\n",
    "            model_state=model4.state_dict(),\n",
    "            optimizer_state=checkpoints['optimizer_state']\n",
    "            )"
   ]
  },
  {
   "cell_type": "code",
   "execution_count": 12,
   "metadata": {},
   "outputs": [],
   "source": [
    "import utils"
   ]
  },
  {
   "cell_type": "code",
   "execution_count": 13,
   "metadata": {},
   "outputs": [],
   "source": [
    "criterion = F.cross_entropy\n",
    "regularizer = None \n",
    "optimizer = torch.optim.SGD(\n",
    "    filter(lambda param: param.requires_grad, model3.parameters()),\n",
    "    lr=0.01,\n",
    "    momentum=0.9,\n",
    "    weight_decay=0.0\n",
    ")"
   ]
  },
  {
   "cell_type": "code",
   "execution_count": 14,
   "metadata": {},
   "outputs": [
    {
     "name": "stdout",
     "output_type": "stream",
     "text": [
      "You are going to run models on the test set. Are you sure?\n"
     ]
    },
    {
     "name": "stderr",
     "output_type": "stream",
     "text": [
      "/anaconda3/lib/python3.6/site-packages/torchvision/datasets/mnist.py:43: UserWarning: train_labels has been renamed targets\n",
      "  warnings.warn(\"train_labels has been renamed targets\")\n"
     ]
    }
   ],
   "source": [
    "loaders, num_classes = data.loaders(\n",
    "    \"MNIST\",\n",
    "    \"data\",\n",
    "    128,\n",
    "    1,\n",
    "    \"VGG\",\n",
    "    True)"
   ]
  },
  {
   "cell_type": "code",
   "execution_count": 15,
   "metadata": {},
   "outputs": [
    {
     "data": {
      "text/plain": [
       "Parameter containing:\n",
       "tensor([-0.1453,  0.1489, -0.0173, -0.1036, -0.0015,  0.1710, -0.0029,  0.1019,\n",
       "        -0.1175, -0.0032], requires_grad=True)"
      ]
     },
     "execution_count": 15,
     "metadata": {},
     "output_type": "execute_result"
    }
   ],
   "source": [
    "list(model_Arc.parameters())[-1]"
   ]
  },
  {
   "cell_type": "code",
   "execution_count": 16,
   "metadata": {},
   "outputs": [
    {
     "data": {
      "text/plain": [
       "Parameter containing:\n",
       "tensor([-0.1453,  0.1489, -0.0173, -0.1036, -0.0015,  0.1710, -0.0029,  0.1019,\n",
       "        -0.1175, -0.0032], requires_grad=True)"
      ]
     },
     "execution_count": 16,
     "metadata": {},
     "output_type": "execute_result"
    }
   ],
   "source": [
    "list(model1.parameters())[-1]"
   ]
  },
  {
   "cell_type": "code",
   "execution_count": 17,
   "metadata": {},
   "outputs": [
    {
     "data": {
      "text/plain": [
       "Parameter containing:\n",
       "tensor([-0.1460,  0.1592, -0.0186, -0.1145,  0.0061,  0.2123, -0.0114,  0.0754,\n",
       "        -0.1284, -0.0018], requires_grad=True)"
      ]
     },
     "execution_count": 17,
     "metadata": {},
     "output_type": "execute_result"
    }
   ],
   "source": [
    "list(model2.parameters())[-1]"
   ]
  },
  {
   "cell_type": "code",
   "execution_count": 18,
   "metadata": {},
   "outputs": [
    {
     "data": {
      "text/plain": [
       "({'accuracy': 96.26166666666667,\n",
       "  'loss': 0.14937926355202993,\n",
       "  'nll': 0.14937926355202993},\n",
       " {'accuracy': 95.91, 'loss': 0.1539917501449585, 'nll': 0.1539917501449585})"
      ]
     },
     "execution_count": 18,
     "metadata": {},
     "output_type": "execute_result"
    }
   ],
   "source": [
    "train_res = utils.test(loaders['train'], model_Arc, criterion, regularizer)\n",
    "test_res = utils.test(loaders['test'], model_Arc, criterion, regularizer) \n",
    "train_res, test_res"
   ]
  },
  {
   "cell_type": "code",
   "execution_count": 308,
   "metadata": {},
   "outputs": [
    {
     "data": {
      "text/plain": [
       "({'accuracy': 8.013333333333334,\n",
       "  'loss': 2.315858253097534,\n",
       "  'nll': 2.315858253097534},\n",
       " {'accuracy': 7.37, 'loss': 2.315081142807007, 'nll': 2.315081142807007})"
      ]
     },
     "execution_count": 308,
     "metadata": {},
     "output_type": "execute_result"
    }
   ],
   "source": [
    "train_res = utils.test(loaders['train'], model5, criterion, regularizer)\n",
    "test_res = utils.test(loaders['test'], model5, criterion, regularizer) \n",
    "train_res, test_res"
   ]
  },
  {
   "cell_type": "code",
   "execution_count": 19,
   "metadata": {},
   "outputs": [
    {
     "data": {
      "text/plain": [
       "({'accuracy': 97.49, 'loss': 0.09569889086882273, 'nll': 0.09569889086882273},\n",
       " {'accuracy': 96.85, 'loss': 0.10649033370018006, 'nll': 0.10649033370018006})"
      ]
     },
     "execution_count": 19,
     "metadata": {},
     "output_type": "execute_result"
    }
   ],
   "source": [
    "train_res = utils.test(loaders['train'], model1, criterion, regularizer)\n",
    "test_res = utils.test(loaders['test'], model1, criterion, regularizer) \n",
    "train_res, test_res"
   ]
  },
  {
   "cell_type": "code",
   "execution_count": 314,
   "metadata": {},
   "outputs": [
    {
     "data": {
      "text/plain": [
       "({'accuracy': 11.886666666666667,\n",
       "  'loss': 2.287731131617228,\n",
       "  'nll': 2.287731131617228},\n",
       " {'accuracy': 11.68, 'loss': 2.289980832290649, 'nll': 2.289980832290649})"
      ]
     },
     "execution_count": 314,
     "metadata": {},
     "output_type": "execute_result"
    }
   ],
   "source": [
    "train_res = utils.test(loaders['train'], model4, criterion, regularizer)\n",
    "test_res = utils.test(loaders['test'], model4, criterion, regularizer) \n",
    "train_res, test_res"
   ]
  },
  {
   "cell_type": "code",
   "execution_count": 21,
   "metadata": {},
   "outputs": [
    {
     "data": {
      "text/plain": [
       "({'accuracy': 97.48166666666667,\n",
       "  'loss': 0.09568042931556701,\n",
       "  'nll': 0.09568042931556701},\n",
       " {'accuracy': 96.9, 'loss': 0.10741572513580322, 'nll': 0.10741572513580322})"
      ]
     },
     "execution_count": 21,
     "metadata": {},
     "output_type": "execute_result"
    }
   ],
   "source": [
    "train_res = utils.test(loaders['train'], model2, criterion, regularizer)\n",
    "test_res = utils.test(loaders['test'], model2, criterion, regularizer) \n",
    "train_res, test_res"
   ]
  },
  {
   "cell_type": "code",
   "execution_count": 22,
   "metadata": {},
   "outputs": [
    {
     "data": {
      "text/plain": [
       "({'accuracy': 94.39333333333333,\n",
       "  'loss': 0.3771916723251343,\n",
       "  'nll': 0.3771916723251343},\n",
       " {'accuracy': 94.37, 'loss': 0.37200074133872985, 'nll': 0.37200074133872985})"
      ]
     },
     "execution_count": 22,
     "metadata": {},
     "output_type": "execute_result"
    }
   ],
   "source": [
    "train_res = utils.test(loaders['train'], model3, criterion, regularizer)\n",
    "test_res = utils.test(loaders['test'], model3, criterion, regularizer) \n",
    "train_res, test_res"
   ]
  },
  {
   "cell_type": "code",
   "execution_count": 23,
   "metadata": {},
   "outputs": [
    {
     "data": {
      "text/plain": [
       "(torch.Size([2000, 784]), torch.Size([2000]), torch.Size([2000, 10]))"
      ]
     },
     "execution_count": 23,
     "metadata": {},
     "output_type": "execute_result"
    }
   ],
   "source": [
    "list(model1.parameters())[0].shape, list(model1.parameters())[1].shape, list(model1.parameters())[2].transpose(0,1).shape"
   ]
  },
  {
   "cell_type": "code",
   "execution_count": 301,
   "metadata": {},
   "outputs": [],
   "source": [
    "def samples(model):\n",
    "    p1 = list(model.parameters())[0].data.numpy()\n",
    "    p2 = list(model.parameters())[1].data.numpy()\n",
    "    p3 = list(model.parameters())[2].transpose(0,1).data.numpy()\n",
    "#     print(p1.shape, p2.shape, p3.shape)\n",
    "    samples = np.hstack([p1, p2[:, None], p3])\n",
    "    \n",
    "    return samples"
   ]
  },
  {
   "cell_type": "code",
   "execution_count": 25,
   "metadata": {},
   "outputs": [],
   "source": [
    "S1 = 2000*samples(model1)\n",
    "S2 = 2000*samples(model2)"
   ]
  },
  {
   "cell_type": "code",
   "execution_count": 26,
   "metadata": {},
   "outputs": [],
   "source": [
    "CM1 = np.cov(S1, rowvar=False)\n",
    "CM2 = np.cov(S2, rowvar=False)"
   ]
  },
  {
   "cell_type": "code",
   "execution_count": 30,
   "metadata": {},
   "outputs": [],
   "source": [
    "from scipy.stats import kde"
   ]
  },
  {
   "cell_type": "code",
   "execution_count": 31,
   "metadata": {},
   "outputs": [
    {
     "data": {
      "text/plain": [
       "<matplotlib.colorbar.Colorbar at 0x1a1d421cc0>"
      ]
     },
     "execution_count": 31,
     "metadata": {},
     "output_type": "execute_result"
    },
    {
     "data": {
      "image/png": "[encoded data removed]",
      "text/plain": [
       "<matplotlib.figure.Figure at 0x102edf668>"
      ]
     },
     "metadata": {},
     "output_type": "display_data"
    }
   ],
   "source": [
    "plt.hexbin(S1[:, 0], S1[:, 70], gridsize=10, cmap=plt.cm.BuGn_r)\n",
    "plt.colorbar()\n"
   ]
  },
  {
   "cell_type": "code",
   "execution_count": 32,
   "metadata": {},
   "outputs": [
    {
     "data": {
      "text/plain": [
       "<matplotlib.colorbar.Colorbar at 0x1a1d390b70>"
      ]
     },
     "execution_count": 32,
     "metadata": {},
     "output_type": "execute_result"
    },
    {
     "data": {
      "image/png": "[encoded data removed]",
      "text/plain": [
       "<matplotlib.figure.Figure at 0x102edf4a8>"
      ]
     },
     "metadata": {},
     "output_type": "display_data"
    }
   ],
   "source": [
    "plt.hexbin(S2[:, 0], S2[:, 70], gridsize=10, cmap=plt.cm.BuGn_r)\n",
    "plt.colorbar()"
   ]
  },
  {
   "cell_type": "code",
   "execution_count": 33,
   "metadata": {},
   "outputs": [],
   "source": [
    "from sklearn.manifold import TSNE"
   ]
  },
  {
   "cell_type": "code",
   "execution_count": 34,
   "metadata": {},
   "outputs": [],
   "source": [
    "X_embedded1 = TSNE(n_components=2).fit_transform(S1)\n",
    "X_embedded2 = TSNE(n_components=2).fit_transform(S2)"
   ]
  },
  {
   "cell_type": "code",
   "execution_count": 35,
   "metadata": {},
   "outputs": [
    {
     "data": {
      "text/plain": [
       "<matplotlib.colorbar.Colorbar at 0x1a1f6fa198>"
      ]
     },
     "execution_count": 35,
     "metadata": {},
     "output_type": "execute_result"
    },
    {
     "data": {
      "image/png": "[encoded data removed]",
      "text/plain": [
       "<matplotlib.figure.Figure at 0x1a21b58dd8>"
      ]
     },
     "metadata": {},
     "output_type": "display_data"
    }
   ],
   "source": [
    "plt.hexbin(X_embedded1[:, 0], X_embedded1[:, 1], gridsize=10, cmap=plt.cm.BuGn_r)\n",
    "plt.colorbar()"
   ]
  },
  {
   "cell_type": "code",
   "execution_count": 36,
   "metadata": {},
   "outputs": [
    {
     "data": {
      "text/plain": [
       "<matplotlib.colorbar.Colorbar at 0x1a1d4f6860>"
      ]
     },
     "execution_count": 36,
     "metadata": {},
     "output_type": "execute_result"
    },
    {
     "data": {
      "image/png": "[encoded data removed]",
      "text/plain": [
       "<matplotlib.figure.Figure at 0x1a1f4cdf60>"
      ]
     },
     "metadata": {},
     "output_type": "display_data"
    }
   ],
   "source": [
    "plt.hexbin(X_embedded2[:, 0], X_embedded2[:, 1], gridsize=10, cmap=plt.cm.BuGn_r)\n",
    "plt.colorbar()"
   ]
  },
  {
   "cell_type": "code",
   "execution_count": 37,
   "metadata": {},
   "outputs": [
    {
     "data": {
      "text/plain": [
       "<matplotlib.colorbar.Colorbar at 0x1a1d8e9be0>"
      ]
     },
     "execution_count": 37,
     "metadata": {},
     "output_type": "execute_result"
    },
    {
     "data": {
      "image/png": "[encoded data removed]",
      "text/plain": [
       "<matplotlib.figure.Figure at 0x1a1d5a13c8>"
      ]
     },
     "metadata": {},
     "output_type": "display_data"
    }
   ],
   "source": [
    "plt.hist2d(X_embedded2[:, 0], X_embedded2[:, 1], bins=10, cmap=plt.cm.BuGn_r);\n",
    "plt.colorbar()"
   ]
  },
  {
   "cell_type": "code",
   "execution_count": 38,
   "metadata": {},
   "outputs": [],
   "source": [
    "k = kde.gaussian_kde(X_embedded2.T)"
   ]
  },
  {
   "cell_type": "code",
   "execution_count": 39,
   "metadata": {},
   "outputs": [
    {
     "data": {
      "text/plain": [
       "<matplotlib.colorbar.Colorbar at 0x1a1edba898>"
      ]
     },
     "execution_count": 39,
     "metadata": {},
     "output_type": "execute_result"
    },
    {
     "data": {
      "image/png": "[encoded data removed]",
      "text/plain": [
       "<matplotlib.figure.Figure at 0x1a21b41828>"
      ]
     },
     "metadata": {},
     "output_type": "display_data"
    }
   ],
   "source": [
    "x, y = X_embedded2[:, 0], X_embedded2[:, 1]\n",
    "nbins = 10\n",
    "xi, yi = np.mgrid[x.min():x.max():nbins*1j, y.min():y.max():nbins*1j]\n",
    "zi = k(np.vstack([xi.flatten(), yi.flatten()]))\n",
    " \n",
    "# plot a density\n",
    "plt.pcolormesh(xi, yi, zi.reshape(xi.shape), cmap=plt.cm.BuGn_r)\n",
    "plt.colorbar()\n"
   ]
  },
  {
   "cell_type": "code",
   "execution_count": 40,
   "metadata": {},
   "outputs": [],
   "source": [
    "import seaborn as sns"
   ]
  },
  {
   "cell_type": "code",
   "execution_count": 305,
   "metadata": {},
   "outputs": [],
   "source": [
    "S_initial1 = samples(model5)"
   ]
  },
  {
   "cell_type": "code",
   "execution_count": 307,
   "metadata": {},
   "outputs": [
    {
     "data": {
      "text/plain": [
       "<matplotlib.colorbar.Colorbar at 0x1a1a675d30>"
      ]
     },
     "execution_count": 307,
     "metadata": {},
     "output_type": "execute_result"
    },
    {
     "data": {
      "image/png": "[encoded data removed]",
      "text/plain": [
       "<matplotlib.figure.Figure at 0x1a1a607080>"
      ]
     },
     "metadata": {},
     "output_type": "display_data"
    }
   ],
   "source": [
    "plt.hexbin(S_initial1[:, 0], S_initial1[:, 70], gridsize=10, cmap=plt.cm.BuGn_r)\n",
    "plt.colorbar()"
   ]
  },
  {
   "cell_type": "code",
   "execution_count": 306,
   "metadata": {},
   "outputs": [
    {
     "name": "stderr",
     "output_type": "stream",
     "text": [
      "/anaconda3/lib/python3.6/site-packages/scipy/stats/stats.py:1706: FutureWarning: Using a non-tuple sequence for multidimensional indexing is deprecated; use `arr[tuple(seq)]` instead of `arr[seq]`. In the future this will be interpreted as an array index, `arr[np.array(seq)]`, which will result either in an error or a different result.\n",
      "  return np.add.reduce(sorted[indexer] * weights, axis=axis) / sumval\n"
     ]
    },
    {
     "data": {
      "text/plain": [
       "<matplotlib.axes._subplots.AxesSubplot at 0x1a1a4fc358>"
      ]
     },
     "execution_count": 306,
     "metadata": {},
     "output_type": "execute_result"
    },
    {
     "data": {
      "image/png": "[encoded data removed]",
      "text/plain": [
       "<matplotlib.figure.Figure at 0x1a1a373d30>"
      ]
     },
     "metadata": {},
     "output_type": "display_data"
    }
   ],
   "source": [
    "sns.kdeplot(S_initial1[:, 0], S_initial1[:, 1], shade=True,  cbar=True)"
   ]
  },
  {
   "cell_type": "code",
   "execution_count": 298,
   "metadata": {},
   "outputs": [
    {
     "name": "stderr",
     "output_type": "stream",
     "text": [
      "/anaconda3/lib/python3.6/site-packages/scipy/stats/stats.py:1706: FutureWarning: Using a non-tuple sequence for multidimensional indexing is deprecated; use `arr[tuple(seq)]` instead of `arr[seq]`. In the future this will be interpreted as an array index, `arr[np.array(seq)]`, which will result either in an error or a different result.\n",
      "  return np.add.reduce(sorted[indexer] * weights, axis=axis) / sumval\n"
     ]
    },
    {
     "data": {
      "text/plain": [
       "<matplotlib.axes._subplots.AxesSubplot at 0x1a23b10dd8>"
      ]
     },
     "execution_count": 298,
     "metadata": {},
     "output_type": "execute_result"
    },
    {
     "data": {
      "image/png": "[encoded data removed]",
      "text/plain": [
       "<matplotlib.figure.Figure at 0x1a1a15a3c8>"
      ]
     },
     "metadata": {},
     "output_type": "display_data"
    }
   ],
   "source": [
    "sns.kdeplot(1/2000*S1[:, 0], 1/2000*S1[:, 790], shade=True,  cbar=True)"
   ]
  },
  {
   "cell_type": "code",
   "execution_count": 297,
   "metadata": {},
   "outputs": [
    {
     "name": "stderr",
     "output_type": "stream",
     "text": [
      "/anaconda3/lib/python3.6/site-packages/scipy/stats/stats.py:1706: FutureWarning: Using a non-tuple sequence for multidimensional indexing is deprecated; use `arr[tuple(seq)]` instead of `arr[seq]`. In the future this will be interpreted as an array index, `arr[np.array(seq)]`, which will result either in an error or a different result.\n",
      "  return np.add.reduce(sorted[indexer] * weights, axis=axis) / sumval\n"
     ]
    },
    {
     "data": {
      "text/plain": [
       "<matplotlib.axes._subplots.AxesSubplot at 0x1a3194ef98>"
      ]
     },
     "execution_count": 297,
     "metadata": {},
     "output_type": "execute_result"
    },
    {
     "data": {
      "image/png": "[encoded data removed]",
      "text/plain": [
       "<matplotlib.figure.Figure at 0x1a308e7e10>"
      ]
     },
     "metadata": {},
     "output_type": "display_data"
    }
   ],
   "source": [
    "sns.kdeplot(S2[:, 0], S2[:, 790], shade=True,  cbar=True)"
   ]
  },
  {
   "cell_type": "code",
   "execution_count": 43,
   "metadata": {},
   "outputs": [
    {
     "name": "stderr",
     "output_type": "stream",
     "text": [
      "/anaconda3/lib/python3.6/site-packages/scipy/stats/stats.py:1706: FutureWarning: Using a non-tuple sequence for multidimensional indexing is deprecated; use `arr[tuple(seq)]` instead of `arr[seq]`. In the future this will be interpreted as an array index, `arr[np.array(seq)]`, which will result either in an error or a different result.\n",
      "  return np.add.reduce(sorted[indexer] * weights, axis=axis) / sumval\n"
     ]
    },
    {
     "data": {
      "text/plain": [
       "<matplotlib.axes._subplots.AxesSubplot at 0x1a2b9274e0>"
      ]
     },
     "execution_count": 43,
     "metadata": {},
     "output_type": "execute_result"
    },
    {
     "data": {
      "image/png": "[encoded data removed]",
      "text/plain": [
       "<matplotlib.figure.Figure at 0x1a2b9784a8>"
      ]
     },
     "metadata": {},
     "output_type": "display_data"
    }
   ],
   "source": [
    "sns.kdeplot(X_embedded1[:, 0], X_embedded1[:, 1], shade=True, cbar=True)"
   ]
  },
  {
   "cell_type": "code",
   "execution_count": 44,
   "metadata": {},
   "outputs": [
    {
     "name": "stderr",
     "output_type": "stream",
     "text": [
      "/anaconda3/lib/python3.6/site-packages/scipy/stats/stats.py:1706: FutureWarning: Using a non-tuple sequence for multidimensional indexing is deprecated; use `arr[tuple(seq)]` instead of `arr[seq]`. In the future this will be interpreted as an array index, `arr[np.array(seq)]`, which will result either in an error or a different result.\n",
      "  return np.add.reduce(sorted[indexer] * weights, axis=axis) / sumval\n"
     ]
    },
    {
     "data": {
      "text/plain": [
       "<matplotlib.axes._subplots.AxesSubplot at 0x1a2bb51438>"
      ]
     },
     "execution_count": 44,
     "metadata": {},
     "output_type": "execute_result"
    },
    {
     "data": {
      "image/png": "[encoded data removed]",
      "text/plain": [
       "<matplotlib.figure.Figure at 0x1a2ba94f60>"
      ]
     },
     "metadata": {},
     "output_type": "display_data"
    }
   ],
   "source": [
    "sns.kdeplot(X_embedded2[:, 0], X_embedded2[:, 1], shade=True, cbar=True)"
   ]
  },
  {
   "cell_type": "code",
   "execution_count": 45,
   "metadata": {},
   "outputs": [],
   "source": [
    "from sklearn.decomposition import PCA"
   ]
  },
  {
   "cell_type": "code",
   "execution_count": 46,
   "metadata": {},
   "outputs": [],
   "source": [
    "pca = PCA(n_components=2, svd_solver='full')\n",
    "PCA1 = pca.fit_transform(S1)  \n",
    "PCA2 = pca.fit_transform(S2)  "
   ]
  },
  {
   "cell_type": "code",
   "execution_count": 47,
   "metadata": {},
   "outputs": [
    {
     "name": "stderr",
     "output_type": "stream",
     "text": [
      "/anaconda3/lib/python3.6/site-packages/scipy/stats/stats.py:1706: FutureWarning: Using a non-tuple sequence for multidimensional indexing is deprecated; use `arr[tuple(seq)]` instead of `arr[seq]`. In the future this will be interpreted as an array index, `arr[np.array(seq)]`, which will result either in an error or a different result.\n",
      "  return np.add.reduce(sorted[indexer] * weights, axis=axis) / sumval\n"
     ]
    },
    {
     "data": {
      "text/plain": [
       "<matplotlib.axes._subplots.AxesSubplot at 0x1a2bc9d358>"
      ]
     },
     "execution_count": 47,
     "metadata": {},
     "output_type": "execute_result"
    },
    {
     "data": {
      "image/png": "[encoded data removed]",
      "text/plain": [
       "<matplotlib.figure.Figure at 0x1a2bb9b9e8>"
      ]
     },
     "metadata": {},
     "output_type": "display_data"
    }
   ],
   "source": [
    "sns.kdeplot(PCA1[:, 0], PCA1[:, 1], shade=True, cbar=True)"
   ]
  },
  {
   "cell_type": "code",
   "execution_count": 48,
   "metadata": {},
   "outputs": [
    {
     "name": "stderr",
     "output_type": "stream",
     "text": [
      "/anaconda3/lib/python3.6/site-packages/scipy/stats/stats.py:1706: FutureWarning: Using a non-tuple sequence for multidimensional indexing is deprecated; use `arr[tuple(seq)]` instead of `arr[seq]`. In the future this will be interpreted as an array index, `arr[np.array(seq)]`, which will result either in an error or a different result.\n",
      "  return np.add.reduce(sorted[indexer] * weights, axis=axis) / sumval\n"
     ]
    },
    {
     "data": {
      "text/plain": [
       "<matplotlib.axes._subplots.AxesSubplot at 0x1a2bce99e8>"
      ]
     },
     "execution_count": 48,
     "metadata": {},
     "output_type": "execute_result"
    },
    {
     "data": {
      "image/png": "[encoded data removed]",
      "text/plain": [
       "<matplotlib.figure.Figure at 0x1a2c22b7f0>"
      ]
     },
     "metadata": {},
     "output_type": "display_data"
    }
   ],
   "source": [
    "sns.kdeplot(PCA2[:, 0], PCA2[:, 1], shade=True, cbar=True)"
   ]
  },
  {
   "cell_type": "markdown",
   "metadata": {},
   "source": [
    "## Let model distribution be gaussian, sample from it and see what results we get"
   ]
  },
  {
   "cell_type": "code",
   "execution_count": 49,
   "metadata": {},
   "outputs": [],
   "source": [
    "ind = 1\n",
    "T = True\n",
    "S = []\n",
    "B = []\n",
    "while ind<10:\n",
    "\n",
    "    ckpt = 'curves_mnist/LinearOneLayer/curve'+str(2+ind)+'/checkpoint-12.pt'\n",
    "    checkpoint = torch.load(ckpt)\n",
    "    m.load_state_dict(checkpoint['model_state'])\n",
    "    \n",
    "    S.append(2000*samples(m))\n",
    "    B.append(list(m.parameters())[-1].data.numpy())\n",
    "    ind+=1"
   ]
  },
  {
   "cell_type": "code",
   "execution_count": 50,
   "metadata": {},
   "outputs": [],
   "source": [
    "B = np.array(B)"
   ]
  },
  {
   "cell_type": "code",
   "execution_count": 51,
   "metadata": {},
   "outputs": [
    {
     "data": {
      "text/plain": [
       "array([-0.13601124,  0.15003507, -0.02160466, -0.12569954,  0.04714897,\n",
       "        0.18384232, -0.00895376,  0.10256343, -0.11956317, -0.02627095],\n",
       "      dtype=float32)"
      ]
     },
     "execution_count": 51,
     "metadata": {},
     "output_type": "execute_result"
    }
   ],
   "source": [
    "B.mean(0)"
   ]
  },
  {
   "cell_type": "code",
   "execution_count": 52,
   "metadata": {},
   "outputs": [],
   "source": [
    "S = np.vstack(S)"
   ]
  },
  {
   "cell_type": "code",
   "execution_count": 53,
   "metadata": {},
   "outputs": [
    {
     "data": {
      "text/plain": [
       "(18000, 795)"
      ]
     },
     "execution_count": 53,
     "metadata": {},
     "output_type": "execute_result"
    }
   ],
   "source": [
    "S.shape"
   ]
  },
  {
   "cell_type": "code",
   "execution_count": 54,
   "metadata": {},
   "outputs": [],
   "source": [
    "CM = np.cov(S, rowvar=False)"
   ]
  },
  {
   "cell_type": "code",
   "execution_count": 55,
   "metadata": {},
   "outputs": [],
   "source": [
    "SIZE = 2000\n",
    "model_samples = (1/SIZE)*np.random.multivariate_normal(S.mean(0), CM, size=SIZE)"
   ]
  },
  {
   "cell_type": "code",
   "execution_count": 56,
   "metadata": {},
   "outputs": [
    {
     "data": {
      "text/plain": [
       "(2000, 795)"
      ]
     },
     "execution_count": 56,
     "metadata": {},
     "output_type": "execute_result"
    }
   ],
   "source": [
    "S1.shape"
   ]
  },
  {
   "cell_type": "code",
   "execution_count": 57,
   "metadata": {},
   "outputs": [],
   "source": [
    "model_sampled = architecture.base(num_classes=10, **architecture.kwargs)\n",
    "model_sampled.load_state_dict(torch.load('curves_mnist/LinearOneLayer/curve3/checkpoint-12.pt')['model_state'])"
   ]
  },
  {
   "cell_type": "code",
   "execution_count": 58,
   "metadata": {},
   "outputs": [
    {
     "name": "stdout",
     "output_type": "stream",
     "text": [
      "(2000, 784)\n",
      "(2000, 784)\n",
      "(1, 2000)\n",
      "(2000,)\n",
      "(10, 2000)\n",
      "(10, 2000)\n"
     ]
    },
    {
     "data": {
      "text/plain": [
       "tensor([-0.1360,  0.1500, -0.0216, -0.1257,  0.0471,  0.1838, -0.0090,  0.1026,\n",
       "        -0.1196, -0.0263])"
      ]
     },
     "execution_count": 58,
     "metadata": {},
     "output_type": "execute_result"
    }
   ],
   "source": [
    "offset = 0\n",
    "for parameter in list(model_sampled.parameters())[:-1]:\n",
    "    size = int(np.prod(parameter.size())/SIZE)\n",
    "    value = model_samples[:, offset:offset+size]\n",
    "    if size==10 or size==1:\n",
    "         value = value.T\n",
    "    print(value.shape)\n",
    "    value = value.reshape(parameter.size())\n",
    "    print(value.shape)\n",
    "    parameter.data.copy_(torch.from_numpy(value))\n",
    "    offset += size\n",
    "\n",
    "list(model_sampled.parameters())[-1].data.copy_(torch.from_numpy(B.mean(0)))"
   ]
  },
  {
   "cell_type": "code",
   "execution_count": 59,
   "metadata": {},
   "outputs": [
    {
     "data": {
      "text/plain": [
       "({'accuracy': 85.79333333333334,\n",
       "  'loss': 0.46645612772305806,\n",
       "  'nll': 0.46645612772305806},\n",
       " {'accuracy': 86.14, 'loss': 0.45779162068367, 'nll': 0.45779162068367})"
      ]
     },
     "execution_count": 59,
     "metadata": {},
     "output_type": "execute_result"
    }
   ],
   "source": [
    "train_res = utils.test(loaders['train'], model_sampled, criterion, regularizer)\n",
    "test_res = utils.test(loaders['test'], model_sampled, criterion, regularizer) \n",
    "train_res, test_res"
   ]
  },
  {
   "cell_type": "markdown",
   "metadata": {},
   "source": [
    "## What if train the model"
   ]
  },
  {
   "cell_type": "code",
   "execution_count": 12,
   "metadata": {},
   "outputs": [
    {
     "data": {
      "text/plain": [
       "317205"
      ]
     },
     "execution_count": 12,
     "metadata": {},
     "output_type": "execute_result"
    }
   ],
   "source": [
    "int((795*795-795)/2+2*795)"
   ]
  },
  {
   "cell_type": "code",
   "execution_count": 13,
   "metadata": {},
   "outputs": [
    {
     "data": {
      "text/plain": [
       "1590000"
      ]
     },
     "execution_count": 13,
     "metadata": {},
     "output_type": "execute_result"
    }
   ],
   "source": [
    "795*2000"
   ]
  },
  {
   "cell_type": "code",
   "execution_count": 14,
   "metadata": {},
   "outputs": [
    {
     "data": {
      "text/plain": [
       "784"
      ]
     },
     "execution_count": 14,
     "metadata": {},
     "output_type": "execute_result"
    }
   ],
   "source": [
    "28*28"
   ]
  },
  {
   "cell_type": "code",
   "execution_count": 15,
   "metadata": {},
   "outputs": [],
   "source": [
    "from torch import nn"
   ]
  },
  {
   "cell_type": "code",
   "execution_count": 121,
   "metadata": {},
   "outputs": [
    {
     "name": "stdout",
     "output_type": "stream",
     "text": [
      "You are going to run models on the test set. Are you sure?\n"
     ]
    },
    {
     "name": "stderr",
     "output_type": "stream",
     "text": [
      "/anaconda3/lib/python3.6/site-packages/torchvision/datasets/mnist.py:43: UserWarning: train_labels has been renamed targets\n",
      "  warnings.warn(\"train_labels has been renamed targets\")\n"
     ]
    }
   ],
   "source": [
    "loaders, num_classes = data.loaders(\n",
    "    \"MNIST\",\n",
    "    \"data\",\n",
    "    128,\n",
    "    1,\n",
    "    \"VGG\",\n",
    "    True\n",
    ")"
   ]
  },
  {
   "cell_type": "code",
   "execution_count": 122,
   "metadata": {},
   "outputs": [],
   "source": [
    "for X, y in loaders['test']:\n",
    "    break"
   ]
  },
  {
   "cell_type": "code",
   "execution_count": 123,
   "metadata": {},
   "outputs": [],
   "source": [
    "import time"
   ]
  },
  {
   "cell_type": "markdown",
   "metadata": {},
   "source": [
    "## Generator "
   ]
  },
  {
   "cell_type": "code",
   "execution_count": 136,
   "metadata": {},
   "outputs": [],
   "source": [
    "class Generator(nn.Module):\n",
    "    def __init__(self, n_dim=795, N_layers=2):\n",
    "        super(Generator, self).__init__()\n",
    "        \n",
    "        self.in_dim = 795\n",
    "        self.proposal = nn.Sequential(nn.Linear(795, 795*2),\n",
    "                                nn.Tanh(),\n",
    "                                nn.Linear(795*2, 795),\n",
    "                                nn.Tanh(),\n",
    "#                                 nn.Linear(795, 795*2),\n",
    "#                                 nn.LeakyReLU(),\n",
    "#                                 nn.Linear(795*2, 795),\n",
    "#                                 nn.LeakyReLU()\n",
    "                               )\n",
    "        \n",
    "        \n",
    "        self.W1 = nn.Linear(795, 784)\n",
    "        self.b1 = nn.Linear(795, 1)\n",
    "        self.W2 = nn.Linear(795, 10)\n",
    "        \n",
    "        data_b2 = torch.FloatTensor(np.random.normal(size=(10, )))\n",
    "        self.b2 = nn.Parameter(data = data_b2, requires_grad=True)\n",
    "        \n",
    "        self.relu = nn.ReLU()\n",
    "\n",
    "    def sample(self, K):\n",
    "        e = torch.randn((K, self.in_dim))  \n",
    "        return e\n",
    "    \n",
    "\n",
    "    def forward(self, x, K=2000):\n",
    "\n",
    "        x = x.view(x.size(0), -1)\n",
    "        e = self.sample(K)\n",
    "        z = self.proposal(e)\n",
    "        W1 = self.W1(z)\n",
    "        b1 = self.b1(z)[:, 0]\n",
    "        \n",
    "        x = F.linear(x, W1, b1)\n",
    "        x = self.relu(x)\n",
    "        \n",
    "#         for i in range(int(self.n_dim-784-10/2), 2):\n",
    "#             Wi = W[:, 785+i]\n",
    "#             bi = W[:, 786+i]\n",
    "#             x = self.relu(Wi*x+bi)\n",
    "        \n",
    "        W2 = self.W2(z).transpose(0,1)\n",
    " \n",
    "\n",
    "        x = F.linear(x, W2, self.b2) \n",
    "        x = 1/K*x\n",
    "\n",
    "        return x"
   ]
  },
  {
   "cell_type": "code",
   "execution_count": 137,
   "metadata": {},
   "outputs": [],
   "source": [
    "G = Generator()"
   ]
  },
  {
   "cell_type": "code",
   "execution_count": 138,
   "metadata": {},
   "outputs": [],
   "source": [
    "criterion = F.cross_entropy\n",
    "regularizer = None \n",
    "optimizer = torch.optim.Adam(\n",
    "    filter(lambda param: param.requires_grad, G.parameters()),\n",
    "    lr=0.01,\n",
    "    weight_decay=0.0\n",
    ")"
   ]
  },
  {
   "cell_type": "code",
   "execution_count": null,
   "metadata": {},
   "outputs": [
    {
     "name": "stdout",
     "output_type": "stream",
     "text": [
      "  ep         lr    tr_loss     tr_acc     te_nll     te_acc       time\n",
      "----  ---------  ---------  ---------  ---------  ---------  ---------\n",
      "   0     0.0010     2.2896    11.5267     2.2839    11.1000   244.8504\n"
     ]
    }
   ],
   "source": [
    "optimizer = torch.optim.Adam(\n",
    "    filter(lambda param: param.requires_grad, G.parameters()),\n",
    "    lr=0.01,\n",
    "    weight_decay=0.5\n",
    ")\n",
    "columns = ['ep', 'lr', 'tr_loss', 'tr_acc', 'te_nll', 'te_acc', 'time']\n",
    "for epoch in range(0, 10 + 1):\n",
    "    time_ep = time.time()\n",
    "\n",
    "#     utils.adjust_learning_rate(optimizer, lr)\n",
    "\n",
    "    train_res = utils.train(loaders['train'], G, optimizer, criterion, regularizer)\n",
    "    test_res = utils.test(loaders['test'], G, criterion, regularizer)\n",
    "\n",
    "    time_ep = time.time() - time_ep\n",
    "    values = [epoch, lr, train_res['loss'], train_res['accuracy'], test_res['nll'],\n",
    "              test_res['accuracy'], time_ep]\n",
    "\n",
    "    table = tabulate.tabulate([values], columns, tablefmt='simple', floatfmt='9.4f')\n",
    "    print(table)"
   ]
  },
  {
   "cell_type": "code",
   "execution_count": 116,
   "metadata": {},
   "outputs": [
    {
     "ename": "KeyboardInterrupt",
     "evalue": "",
     "output_type": "error",
     "traceback": [
      "\u001b[0;31m---------------------------------------------------------------------------\u001b[0m",
      "\u001b[0;31mKeyboardInterrupt\u001b[0m                         Traceback (most recent call last)",
      "\u001b[0;32m<ipython-input-116-c510dcaba43d>\u001b[0m in \u001b[0;36m<module>\u001b[0;34m()\u001b[0m\n\u001b[1;32m      6\u001b[0m     \u001b[0mutils\u001b[0m\u001b[0;34m.\u001b[0m\u001b[0madjust_learning_rate\u001b[0m\u001b[0;34m(\u001b[0m\u001b[0moptimizer\u001b[0m\u001b[0;34m,\u001b[0m \u001b[0mlr\u001b[0m\u001b[0;34m)\u001b[0m\u001b[0;34m\u001b[0m\u001b[0m\n\u001b[1;32m      7\u001b[0m \u001b[0;34m\u001b[0m\u001b[0m\n\u001b[0;32m----> 8\u001b[0;31m     \u001b[0mtrain_res\u001b[0m \u001b[0;34m=\u001b[0m \u001b[0mutils\u001b[0m\u001b[0;34m.\u001b[0m\u001b[0mtrain\u001b[0m\u001b[0;34m(\u001b[0m\u001b[0mloaders\u001b[0m\u001b[0;34m[\u001b[0m\u001b[0;34m'train'\u001b[0m\u001b[0;34m]\u001b[0m\u001b[0;34m,\u001b[0m \u001b[0mG\u001b[0m\u001b[0;34m,\u001b[0m \u001b[0moptimizer\u001b[0m\u001b[0;34m,\u001b[0m \u001b[0mcriterion\u001b[0m\u001b[0;34m,\u001b[0m \u001b[0mregularizer\u001b[0m\u001b[0;34m)\u001b[0m\u001b[0;34m\u001b[0m\u001b[0m\n\u001b[0m\u001b[1;32m      9\u001b[0m     \u001b[0mtest_res\u001b[0m \u001b[0;34m=\u001b[0m \u001b[0mutils\u001b[0m\u001b[0;34m.\u001b[0m\u001b[0mtest\u001b[0m\u001b[0;34m(\u001b[0m\u001b[0mloaders\u001b[0m\u001b[0;34m[\u001b[0m\u001b[0;34m'test'\u001b[0m\u001b[0;34m]\u001b[0m\u001b[0;34m,\u001b[0m \u001b[0mG\u001b[0m\u001b[0;34m,\u001b[0m \u001b[0mcriterion\u001b[0m\u001b[0;34m,\u001b[0m \u001b[0mregularizer\u001b[0m\u001b[0;34m)\u001b[0m\u001b[0;34m\u001b[0m\u001b[0m\n\u001b[1;32m     10\u001b[0m \u001b[0;34m\u001b[0m\u001b[0m\n",
      "\u001b[0;32m~/Documents/thesis/dnn-mode-connectivity/utils.py\u001b[0m in \u001b[0;36mtrain\u001b[0;34m(train_loader, model, optimizer, criterion, regularizer, lr_schedule, cuda)\u001b[0m\n\u001b[1;32m     79\u001b[0m \u001b[0;34m\u001b[0m\u001b[0m\n\u001b[1;32m     80\u001b[0m         \u001b[0moptimizer\u001b[0m\u001b[0;34m.\u001b[0m\u001b[0mzero_grad\u001b[0m\u001b[0;34m(\u001b[0m\u001b[0;34m)\u001b[0m\u001b[0;34m\u001b[0m\u001b[0m\n\u001b[0;32m---> 81\u001b[0;31m         \u001b[0mloss\u001b[0m\u001b[0;34m.\u001b[0m\u001b[0mbackward\u001b[0m\u001b[0;34m(\u001b[0m\u001b[0;34m)\u001b[0m\u001b[0;34m\u001b[0m\u001b[0m\n\u001b[0m\u001b[1;32m     82\u001b[0m         \u001b[0moptimizer\u001b[0m\u001b[0;34m.\u001b[0m\u001b[0mstep\u001b[0m\u001b[0;34m(\u001b[0m\u001b[0;34m)\u001b[0m\u001b[0;34m\u001b[0m\u001b[0m\n\u001b[1;32m     83\u001b[0m \u001b[0;34m\u001b[0m\u001b[0m\n",
      "\u001b[0;32m/anaconda3/lib/python3.6/site-packages/torch/tensor.py\u001b[0m in \u001b[0;36mbackward\u001b[0;34m(self, gradient, retain_graph, create_graph)\u001b[0m\n\u001b[1;32m    100\u001b[0m                 \u001b[0mproducts\u001b[0m\u001b[0;34m.\u001b[0m \u001b[0mDefaults\u001b[0m \u001b[0mto\u001b[0m\u001b[0;31m \u001b[0m\u001b[0;31m`\u001b[0m\u001b[0;31m`\u001b[0m\u001b[0;32mFalse\u001b[0m\u001b[0;31m`\u001b[0m\u001b[0;31m`\u001b[0m\u001b[0;34m.\u001b[0m\u001b[0;34m\u001b[0m\u001b[0m\n\u001b[1;32m    101\u001b[0m         \"\"\"\n\u001b[0;32m--> 102\u001b[0;31m         \u001b[0mtorch\u001b[0m\u001b[0;34m.\u001b[0m\u001b[0mautograd\u001b[0m\u001b[0;34m.\u001b[0m\u001b[0mbackward\u001b[0m\u001b[0;34m(\u001b[0m\u001b[0mself\u001b[0m\u001b[0;34m,\u001b[0m \u001b[0mgradient\u001b[0m\u001b[0;34m,\u001b[0m \u001b[0mretain_graph\u001b[0m\u001b[0;34m,\u001b[0m \u001b[0mcreate_graph\u001b[0m\u001b[0;34m)\u001b[0m\u001b[0;34m\u001b[0m\u001b[0m\n\u001b[0m\u001b[1;32m    103\u001b[0m \u001b[0;34m\u001b[0m\u001b[0m\n\u001b[1;32m    104\u001b[0m     \u001b[0;32mdef\u001b[0m \u001b[0mregister_hook\u001b[0m\u001b[0;34m(\u001b[0m\u001b[0mself\u001b[0m\u001b[0;34m,\u001b[0m \u001b[0mhook\u001b[0m\u001b[0;34m)\u001b[0m\u001b[0;34m:\u001b[0m\u001b[0;34m\u001b[0m\u001b[0m\n",
      "\u001b[0;32m/anaconda3/lib/python3.6/site-packages/torch/autograd/__init__.py\u001b[0m in \u001b[0;36mbackward\u001b[0;34m(tensors, grad_tensors, retain_graph, create_graph, grad_variables)\u001b[0m\n\u001b[1;32m     88\u001b[0m     Variable._execution_engine.run_backward(\n\u001b[1;32m     89\u001b[0m         \u001b[0mtensors\u001b[0m\u001b[0;34m,\u001b[0m \u001b[0mgrad_tensors\u001b[0m\u001b[0;34m,\u001b[0m \u001b[0mretain_graph\u001b[0m\u001b[0;34m,\u001b[0m \u001b[0mcreate_graph\u001b[0m\u001b[0;34m,\u001b[0m\u001b[0;34m\u001b[0m\u001b[0m\n\u001b[0;32m---> 90\u001b[0;31m         allow_unreachable=True)  # allow_unreachable flag\n\u001b[0m\u001b[1;32m     91\u001b[0m \u001b[0;34m\u001b[0m\u001b[0m\n\u001b[1;32m     92\u001b[0m \u001b[0;34m\u001b[0m\u001b[0m\n",
      "\u001b[0;31mKeyboardInterrupt\u001b[0m: "
     ]
    }
   ],
   "source": [
    "columns = ['ep', 'lr', 'tr_loss', 'tr_acc', 'te_nll', 'te_acc', 'time']\n",
    "for epoch in range(0, 10 + 1):\n",
    "    time_ep = time.time()\n",
    "\n",
    "    lr = 1e-3\n",
    "    utils.adjust_learning_rate(optimizer, lr)\n",
    "\n",
    "    train_res = utils.train(loaders['train'], G, optimizer, criterion, regularizer)\n",
    "    test_res = utils.test(loaders['test'], G, criterion, regularizer)\n",
    "\n",
    "    time_ep = time.time() - time_ep\n",
    "    values = [epoch, lr, train_res['loss'], train_res['accuracy'], test_res['nll'],\n",
    "              test_res['accuracy'], time_ep]\n",
    "\n",
    "    table = tabulate.tabulate([values], columns, tablefmt='simple', floatfmt='9.4f')\n",
    "    print(table)"
   ]
  },
  {
   "cell_type": "code",
   "execution_count": 112,
   "metadata": {},
   "outputs": [
    {
     "name": "stdout",
     "output_type": "stream",
     "text": [
      "  ep         lr    tr_loss     tr_acc     te_nll     te_acc       time\n",
      "----  ---------  ---------  ---------  ---------  ---------  ---------\n",
      "   0     0.0010     1.7253    39.2683     2.1102    20.6800   214.1120\n",
      "  ep         lr    tr_loss     tr_acc     te_nll     te_acc       time\n",
      "----  ---------  ---------  ---------  ---------  ---------  ---------\n",
      "   1     0.0010     2.1600    20.8400     2.2362    20.8700   227.0089\n",
      "  ep         lr    tr_loss     tr_acc     te_nll     te_acc       time\n",
      "----  ---------  ---------  ---------  ---------  ---------  ---------\n",
      "   2     0.0010     2.2721    19.5883     2.2902    19.2900   504.5819\n"
     ]
    },
    {
     "name": "stderr",
     "output_type": "stream",
     "text": [
      "Traceback (most recent call last):\n",
      "  File \"/anaconda3/lib/python3.6/multiprocessing/queues.py\", line 240, in _feed\n",
      "    send_bytes(obj)\n",
      "  File \"/anaconda3/lib/python3.6/multiprocessing/connection.py\", line 200, in send_bytes\n",
      "    self._send_bytes(m[offset:offset + size])\n",
      "  File \"/anaconda3/lib/python3.6/multiprocessing/connection.py\", line 404, in _send_bytes\n",
      "    self._send(header + buf)\n",
      "  File \"/anaconda3/lib/python3.6/multiprocessing/connection.py\", line 368, in _send\n",
      "    n = write(self._handle, buf)\n",
      "BrokenPipeError: [Errno 32] Broken pipe\n"
     ]
    },
    {
     "ename": "KeyboardInterrupt",
     "evalue": "",
     "output_type": "error",
     "traceback": [
      "\u001b[0;31m---------------------------------------------------------------------------\u001b[0m",
      "\u001b[0;31mKeyboardInterrupt\u001b[0m                         Traceback (most recent call last)",
      "\u001b[0;32m<ipython-input-112-07aed3397097>\u001b[0m in \u001b[0;36m<module>\u001b[0;34m()\u001b[0m\n\u001b[1;32m     11\u001b[0m     \u001b[0mutils\u001b[0m\u001b[0;34m.\u001b[0m\u001b[0madjust_learning_rate\u001b[0m\u001b[0;34m(\u001b[0m\u001b[0moptimizer\u001b[0m\u001b[0;34m,\u001b[0m \u001b[0mlr\u001b[0m\u001b[0;34m)\u001b[0m\u001b[0;34m\u001b[0m\u001b[0m\n\u001b[1;32m     12\u001b[0m \u001b[0;34m\u001b[0m\u001b[0m\n\u001b[0;32m---> 13\u001b[0;31m     \u001b[0mtrain_res\u001b[0m \u001b[0;34m=\u001b[0m \u001b[0mutils\u001b[0m\u001b[0;34m.\u001b[0m\u001b[0mtrain\u001b[0m\u001b[0;34m(\u001b[0m\u001b[0mloaders\u001b[0m\u001b[0;34m[\u001b[0m\u001b[0;34m'train'\u001b[0m\u001b[0;34m]\u001b[0m\u001b[0;34m,\u001b[0m \u001b[0mG\u001b[0m\u001b[0;34m,\u001b[0m \u001b[0moptimizer\u001b[0m\u001b[0;34m,\u001b[0m \u001b[0mcriterion\u001b[0m\u001b[0;34m,\u001b[0m \u001b[0mregularizer\u001b[0m\u001b[0;34m)\u001b[0m\u001b[0;34m\u001b[0m\u001b[0m\n\u001b[0m\u001b[1;32m     14\u001b[0m     \u001b[0mtest_res\u001b[0m \u001b[0;34m=\u001b[0m \u001b[0mutils\u001b[0m\u001b[0;34m.\u001b[0m\u001b[0mtest\u001b[0m\u001b[0;34m(\u001b[0m\u001b[0mloaders\u001b[0m\u001b[0;34m[\u001b[0m\u001b[0;34m'test'\u001b[0m\u001b[0;34m]\u001b[0m\u001b[0;34m,\u001b[0m \u001b[0mG\u001b[0m\u001b[0;34m,\u001b[0m \u001b[0mcriterion\u001b[0m\u001b[0;34m,\u001b[0m \u001b[0mregularizer\u001b[0m\u001b[0;34m)\u001b[0m\u001b[0;34m\u001b[0m\u001b[0m\n\u001b[1;32m     15\u001b[0m \u001b[0;34m\u001b[0m\u001b[0m\n",
      "\u001b[0;32m~/Documents/thesis/dnn-mode-connectivity/utils.py\u001b[0m in \u001b[0;36mtrain\u001b[0;34m(train_loader, model, optimizer, criterion, regularizer, lr_schedule, cuda)\u001b[0m\n\u001b[1;32m     79\u001b[0m \u001b[0;34m\u001b[0m\u001b[0m\n\u001b[1;32m     80\u001b[0m         \u001b[0moptimizer\u001b[0m\u001b[0;34m.\u001b[0m\u001b[0mzero_grad\u001b[0m\u001b[0;34m(\u001b[0m\u001b[0;34m)\u001b[0m\u001b[0;34m\u001b[0m\u001b[0m\n\u001b[0;32m---> 81\u001b[0;31m         \u001b[0mloss\u001b[0m\u001b[0;34m.\u001b[0m\u001b[0mbackward\u001b[0m\u001b[0;34m(\u001b[0m\u001b[0;34m)\u001b[0m\u001b[0;34m\u001b[0m\u001b[0m\n\u001b[0m\u001b[1;32m     82\u001b[0m         \u001b[0moptimizer\u001b[0m\u001b[0;34m.\u001b[0m\u001b[0mstep\u001b[0m\u001b[0;34m(\u001b[0m\u001b[0;34m)\u001b[0m\u001b[0;34m\u001b[0m\u001b[0m\n\u001b[1;32m     83\u001b[0m \u001b[0;34m\u001b[0m\u001b[0m\n",
      "\u001b[0;32m/anaconda3/lib/python3.6/site-packages/torch/tensor.py\u001b[0m in \u001b[0;36mbackward\u001b[0;34m(self, gradient, retain_graph, create_graph)\u001b[0m\n\u001b[1;32m    100\u001b[0m                 \u001b[0mproducts\u001b[0m\u001b[0;34m.\u001b[0m \u001b[0mDefaults\u001b[0m \u001b[0mto\u001b[0m\u001b[0;31m \u001b[0m\u001b[0;31m`\u001b[0m\u001b[0;31m`\u001b[0m\u001b[0;32mFalse\u001b[0m\u001b[0;31m`\u001b[0m\u001b[0;31m`\u001b[0m\u001b[0;34m.\u001b[0m\u001b[0;34m\u001b[0m\u001b[0m\n\u001b[1;32m    101\u001b[0m         \"\"\"\n\u001b[0;32m--> 102\u001b[0;31m         \u001b[0mtorch\u001b[0m\u001b[0;34m.\u001b[0m\u001b[0mautograd\u001b[0m\u001b[0;34m.\u001b[0m\u001b[0mbackward\u001b[0m\u001b[0;34m(\u001b[0m\u001b[0mself\u001b[0m\u001b[0;34m,\u001b[0m \u001b[0mgradient\u001b[0m\u001b[0;34m,\u001b[0m \u001b[0mretain_graph\u001b[0m\u001b[0;34m,\u001b[0m \u001b[0mcreate_graph\u001b[0m\u001b[0;34m)\u001b[0m\u001b[0;34m\u001b[0m\u001b[0m\n\u001b[0m\u001b[1;32m    103\u001b[0m \u001b[0;34m\u001b[0m\u001b[0m\n\u001b[1;32m    104\u001b[0m     \u001b[0;32mdef\u001b[0m \u001b[0mregister_hook\u001b[0m\u001b[0;34m(\u001b[0m\u001b[0mself\u001b[0m\u001b[0;34m,\u001b[0m \u001b[0mhook\u001b[0m\u001b[0;34m)\u001b[0m\u001b[0;34m:\u001b[0m\u001b[0;34m\u001b[0m\u001b[0m\n",
      "\u001b[0;32m/anaconda3/lib/python3.6/site-packages/torch/autograd/__init__.py\u001b[0m in \u001b[0;36mbackward\u001b[0;34m(tensors, grad_tensors, retain_graph, create_graph, grad_variables)\u001b[0m\n\u001b[1;32m     88\u001b[0m     Variable._execution_engine.run_backward(\n\u001b[1;32m     89\u001b[0m         \u001b[0mtensors\u001b[0m\u001b[0;34m,\u001b[0m \u001b[0mgrad_tensors\u001b[0m\u001b[0;34m,\u001b[0m \u001b[0mretain_graph\u001b[0m\u001b[0;34m,\u001b[0m \u001b[0mcreate_graph\u001b[0m\u001b[0;34m,\u001b[0m\u001b[0;34m\u001b[0m\u001b[0m\n\u001b[0;32m---> 90\u001b[0;31m         allow_unreachable=True)  # allow_unreachable flag\n\u001b[0m\u001b[1;32m     91\u001b[0m \u001b[0;34m\u001b[0m\u001b[0m\n\u001b[1;32m     92\u001b[0m \u001b[0;34m\u001b[0m\u001b[0m\n",
      "\u001b[0;31mKeyboardInterrupt\u001b[0m: "
     ]
    }
   ],
   "source": [
    "optimizer = torch.optim.Adam(\n",
    "    filter(lambda param: param.requires_grad, G.parameters()),\n",
    "    lr=0.001,\n",
    "    weight_decay=0.5\n",
    ")\n",
    "columns = ['ep', 'lr', 'tr_loss', 'tr_acc', 'te_nll', 'te_acc', 'time']\n",
    "for epoch in range(0, 10 + 1):\n",
    "    time_ep = time.time()\n",
    "\n",
    "#     utils.adjust_learning_rate(optimizer, lr)\n",
    "\n",
    "    train_res = utils.train(loaders['train'], G, optimizer, criterion, regularizer)\n",
    "    test_res = utils.test(loaders['test'], G, criterion, regularizer)\n",
    "\n",
    "    time_ep = time.time() - time_ep\n",
    "    values = [epoch, lr, train_res['loss'], train_res['accuracy'], test_res['nll'],\n",
    "              test_res['accuracy'], time_ep]\n",
    "\n",
    "    table = tabulate.tabulate([values], columns, tablefmt='simple', floatfmt='9.4f')\n",
    "    print(table)"
   ]
  },
  {
   "cell_type": "markdown",
   "metadata": {},
   "source": [
    "## Flow Generator "
   ]
  },
  {
   "cell_type": "code",
   "execution_count": 45,
   "metadata": {},
   "outputs": [],
   "source": [
    "class SNet(nn.Module):\n",
    "    def __init__(self, dim_in, dim_middle):\n",
    "        super(SNet, self).__init__()\n",
    "        self.fc = nn.Sequential(\n",
    "            nn.Linear(dim_in, dim_middle),\n",
    "            nn.Tanh(),\n",
    "            nn.Linear(dim_middle, dim_middle),\n",
    "            nn.Tanh(),\n",
    "            nn.Linear(dim_middle, dim_in)\n",
    "        )\n",
    "        \n",
    "    def forward(self, x):   \n",
    "        x = self.fc(x)\n",
    "        return x\n",
    "    \n",
    "class TNet(nn.Module):\n",
    "    def __init__(self, dim_in, dim_middle):\n",
    "        super(TNet, self).__init__()\n",
    "        self.fc = nn.Sequential(\n",
    "            nn.Linear(dim_in, dim_middle),\n",
    "            nn.Tanh(),\n",
    "            nn.Linear(dim_middle, dim_middle),\n",
    "            nn.Tanh(),\n",
    "            nn.Linear(dim_middle, dim_in),\n",
    "        )\n",
    "        \n",
    "    def forward(self, x):   \n",
    "        x = self.fc(x)\n",
    "        return x"
   ]
  },
  {
   "cell_type": "code",
   "execution_count": 46,
   "metadata": {},
   "outputs": [],
   "source": [
    "nets = SNet# a function that take no arguments and return a pytorch model, dim(X) -> dim(X)\n",
    "nett = TNet# a function that take no arguments and return a pytorch model, dim(X) -> dim(X)\n",
    "\n",
    "# Check nets and nett are working i.e., computing without errors\n",
    "# Check that resulting dimensions s and t are the same and equal dim(X)\n",
    "# ex_nets = nets(dim_in, dim_middle)\n",
    "# ex_mett = nett(dim_in, dim_middle)"
   ]
  },
  {
   "cell_type": "code",
   "execution_count": 47,
   "metadata": {},
   "outputs": [],
   "source": [
    "import numpy as np\n",
    "N_layers = 3\n",
    "masks = torch.Tensor((np.vstack([[1, 0]*N_layers, [0, 1]*N_layers]).T)) # torch.Tensor of size #number_of_coupling_layers x #dim(X)\n",
    "# Check that when dim(X) == 2, the mask for every layer has just one 1.0 and one 0.0 elements."
   ]
  },
  {
   "cell_type": "code",
   "execution_count": 48,
   "metadata": {},
   "outputs": [],
   "source": [
    "from torch import distributions"
   ]
  },
  {
   "cell_type": "code",
   "execution_count": 49,
   "metadata": {},
   "outputs": [],
   "source": [
    "class RealNVP(nn.Module):\n",
    "    def __init__(self, nets, nett, mask, prior):\n",
    "        super(RealNVP, self).__init__()\n",
    "        \n",
    "        # Create a flow\n",
    "        # nets:  a function that return a pytocrn neurel network e.g., nn.Sequential, s = nets(), s: dim(X) -> dim(X)\n",
    "        # nett:  a function that return a pytocrn neurel network e.g., nn.Sequential, t = nett(), t: dim(X) -> dim(X)\n",
    "        # mask:  a torch.Tensor of size #number_of_coupling_layers x #dim(X)\n",
    "        # prior: an object from torch.distributions e.g., torch.distributions.MultivariateNormal\n",
    "        \n",
    "        self.prior = prior\n",
    "        self.mask = nn.Parameter(mask, requires_grad=False)\n",
    "#         print('len', len(mask))\n",
    "        self.t = torch.nn.ModuleList([nett(dim_in=795, dim_middle=1000) for _ in range(len(mask))])\n",
    "        self.s = torch.nn.ModuleList([nets(dim_in=795, dim_middle=1000) for _ in range(len(mask))])\n",
    "        \n",
    "    def g(self, z):\n",
    "        # Compute and return g(z) = x, \n",
    "        #    where self.mask[i], self.t[i], self.s[i] define a i-th masked coupling layer   \n",
    "        # z: a torch.Tensor of shape batchSize x 1 x dim(X)\n",
    "        # return x: a torch.Tensor of shape batchSize x 1 x dim(X)\n",
    "        for i, (s, t) in enumerate(zip(reversed(self.s), reversed(self.t))):\n",
    "            m = self.mask[-i-1]\n",
    "#             print('i', i, 'm', m)\n",
    "#             print('z', z.shape)\n",
    "            z = m*z +(1-m)*(z-t(m*z))*(-s(m*z)).exp()\n",
    "        x = z\n",
    "        return x\n",
    "\n",
    "    def f(self, x):\n",
    "        # Compute f(x) = z and log_det_Jakobian of f, \n",
    "        #    where self.mask[i], self.t[i], self.s[i] define a i-th masked coupling layer   \n",
    "        # x: a torch.Tensor, of shape batchSize x dim(X), is a datapoint\n",
    "        # return z: a torch.Tensor of shape batchSize x dim(X), a hidden representations\n",
    "        # return log_det_J: a torch.Tensor of len batchSize\n",
    "        \n",
    "        z = x\n",
    "        log_det_J = 0\n",
    "        for s, t, m in zip(self.s, self.t, self.mask):\n",
    "            s_res = s(m*z)\n",
    "            z = m*z +(1-m)*(z*s_res.exp()+t(m*z))\n",
    "            log_det_J += ((1-m)*s_res).sum(-1)\n",
    "        \n",
    "        return z, log_det_J\n",
    "    \n",
    "    def log_prob(self,x):\n",
    "        # Compute and return log p(x)\n",
    "        # using the change of variable formula and log_det_J computed by f\n",
    "        # return logp: torch.Tensor of len batchSize\n",
    "        z, log_det_J = self.f(x)\n",
    "        logp = self.prior.log_prob(z)\n",
    "        \n",
    "        return logp+log_det_J\n",
    "        \n",
    "    def sample(self, K): \n",
    "        # Draw and return batchSize samples from flow using implementation of g\n",
    "        # return x: torch.Tensor of shape batchSize x 1 x dim(X)\n",
    "        \n",
    "#         m = MultivariateNormal(torch.zeros(batchSize), torch.eye(batchSize))\n",
    "        z = self.prior.sample((K, ))\n",
    "        x = self.g(z)\n",
    "        \n",
    "        return x"
   ]
  },
  {
   "cell_type": "code",
   "execution_count": 50,
   "metadata": {},
   "outputs": [],
   "source": [
    "class Gaussian_Flow(nn.Module):\n",
    "    def __init__(self, n_dim=795, N_layers=2):\n",
    "        super(Gaussian_Flow, self).__init__()\n",
    "        \n",
    "        onezero = [0, 1]*n_dim\n",
    "        masks = torch.Tensor([[onezero[:n_dim], onezero[1:n_dim+1]]]*N_layers)\n",
    "        masks = masks.view(2*N_layers, -1)\n",
    "#         print('masks', masks, masks.shape)\n",
    "        prior = distributions.MultivariateNormal(torch.zeros(n_dim), torch.eye(n_dim))\n",
    "        \n",
    "        self.nvp = RealNVP(nets, nett, masks, prior)\n",
    "        self.relu = nn.ReLU()\n",
    "        data_b2 = torch.FloatTensor(np.random.normal(size=(10, )))\n",
    "        self.b2 = nn.Parameter(data = data_b2, requires_grad=True)\n",
    "\n",
    "\n",
    "    def forward(self, x, K=2000):\n",
    "\n",
    "        x = x.view(x.size(0), -1)\n",
    "        W = self.nvp.sample(K)\n",
    "        W1 = W[:, :784]\n",
    "        b1 = W[:, 784:785]\n",
    "        W2 =  W[:, 785:].transpose(0,1)\n",
    "        \n",
    "        print('x', x.shape)\n",
    "        print('W1', W1.shape)\n",
    "        print('b1', b1.shape)\n",
    "        x = F.linear(x, W1, b1[:, 0])\n",
    "        print('x', x.shape)\n",
    "#         x = W1 @ x #+ b1\n",
    "        print(x.shape)\n",
    "        x = self.relu(x)\n",
    "#         print('W2', W2.shape)\n",
    "        x = F.linear(x, W2, self.b2) \n",
    "        x = 1/K*x\n",
    "        print(x.shape)\n",
    "        return x"
   ]
  },
  {
   "cell_type": "code",
   "execution_count": 51,
   "metadata": {},
   "outputs": [],
   "source": [
    "GF = Gaussian_Flow(n_dim=795, N_layers=1)"
   ]
  },
  {
   "cell_type": "code",
   "execution_count": 52,
   "metadata": {},
   "outputs": [],
   "source": [
    "criterion = F.cross_entropy\n",
    "regularizer = None \n",
    "optimizer = torch.optim.SGD(\n",
    "    filter(lambda param: param.requires_grad, GF.parameters()),\n",
    "    lr=0.01,\n",
    "    momentum=0.9,\n",
    "    weight_decay=0.0\n",
    ")"
   ]
  },
  {
   "cell_type": "code",
   "execution_count": 53,
   "metadata": {},
   "outputs": [
    {
     "name": "stdout",
     "output_type": "stream",
     "text": [
      "x torch.Size([128, 784])\n",
      "W1 torch.Size([2000, 784])\n",
      "b1 torch.Size([2000, 1])\n",
      "x torch.Size([128, 2000])\n",
      "torch.Size([128, 2000])\n",
      "torch.Size([128, 10])\n"
     ]
    },
    {
     "name": "stderr",
     "output_type": "stream",
     "text": [
      "Traceback (most recent call last):\n",
      "  File \"/anaconda3/lib/python3.6/multiprocessing/queues.py\", line 240, in _feed\n",
      "    send_bytes(obj)\n",
      "  File \"/anaconda3/lib/python3.6/multiprocessing/connection.py\", line 200, in send_bytes\n",
      "    self._send_bytes(m[offset:offset + size])\n",
      "  File \"/anaconda3/lib/python3.6/multiprocessing/connection.py\", line 404, in _send_bytes\n",
      "    self._send(header + buf)\n",
      "  File \"/anaconda3/lib/python3.6/multiprocessing/connection.py\", line 368, in _send\n",
      "    n = write(self._handle, buf)\n",
      "BrokenPipeError: [Errno 32] Broken pipe\n"
     ]
    },
    {
     "ename": "KeyboardInterrupt",
     "evalue": "",
     "output_type": "error",
     "traceback": [
      "\u001b[0;31m---------------------------------------------------------------------------\u001b[0m",
      "\u001b[0;31mKeyboardInterrupt\u001b[0m                         Traceback (most recent call last)",
      "\u001b[0;32m<ipython-input-53-ad60b322f4dd>\u001b[0m in \u001b[0;36m<module>\u001b[0;34m()\u001b[0m\n\u001b[1;32m      6\u001b[0m     \u001b[0mutils\u001b[0m\u001b[0;34m.\u001b[0m\u001b[0madjust_learning_rate\u001b[0m\u001b[0;34m(\u001b[0m\u001b[0moptimizer\u001b[0m\u001b[0;34m,\u001b[0m \u001b[0mlr\u001b[0m\u001b[0;34m)\u001b[0m\u001b[0;34m\u001b[0m\u001b[0m\n\u001b[1;32m      7\u001b[0m \u001b[0;34m\u001b[0m\u001b[0m\n\u001b[0;32m----> 8\u001b[0;31m     \u001b[0mtrain_res\u001b[0m \u001b[0;34m=\u001b[0m \u001b[0mutils\u001b[0m\u001b[0;34m.\u001b[0m\u001b[0mtrain\u001b[0m\u001b[0;34m(\u001b[0m\u001b[0mloaders\u001b[0m\u001b[0;34m[\u001b[0m\u001b[0;34m'train'\u001b[0m\u001b[0;34m]\u001b[0m\u001b[0;34m,\u001b[0m \u001b[0mGF\u001b[0m\u001b[0;34m,\u001b[0m \u001b[0moptimizer\u001b[0m\u001b[0;34m,\u001b[0m \u001b[0mcriterion\u001b[0m\u001b[0;34m,\u001b[0m \u001b[0mregularizer\u001b[0m\u001b[0;34m)\u001b[0m\u001b[0;34m\u001b[0m\u001b[0m\n\u001b[0m\u001b[1;32m      9\u001b[0m     \u001b[0mtest_res\u001b[0m \u001b[0;34m=\u001b[0m \u001b[0mutils\u001b[0m\u001b[0;34m.\u001b[0m\u001b[0mtest\u001b[0m\u001b[0;34m(\u001b[0m\u001b[0mloaders\u001b[0m\u001b[0;34m[\u001b[0m\u001b[0;34m'test'\u001b[0m\u001b[0;34m]\u001b[0m\u001b[0;34m,\u001b[0m \u001b[0mGF\u001b[0m\u001b[0;34m,\u001b[0m \u001b[0mcriterion\u001b[0m\u001b[0;34m,\u001b[0m \u001b[0mregularizer\u001b[0m\u001b[0;34m)\u001b[0m\u001b[0;34m\u001b[0m\u001b[0m\n\u001b[1;32m     10\u001b[0m \u001b[0;34m\u001b[0m\u001b[0m\n",
      "\u001b[0;32m~/Documents/thesis/dnn-mode-connectivity/utils.py\u001b[0m in \u001b[0;36mtrain\u001b[0;34m(train_loader, model, optimizer, criterion, regularizer, lr_schedule, cuda)\u001b[0m\n\u001b[1;32m     73\u001b[0m             \u001b[0mtarget\u001b[0m \u001b[0;34m=\u001b[0m \u001b[0mtarget\u001b[0m\u001b[0;34m.\u001b[0m\u001b[0mcuda\u001b[0m\u001b[0;34m(\u001b[0m\u001b[0mnon_blocking\u001b[0m\u001b[0;34m=\u001b[0m\u001b[0;32mTrue\u001b[0m\u001b[0;34m)\u001b[0m\u001b[0;34m\u001b[0m\u001b[0m\n\u001b[1;32m     74\u001b[0m \u001b[0;34m\u001b[0m\u001b[0m\n\u001b[0;32m---> 75\u001b[0;31m         \u001b[0moutput\u001b[0m \u001b[0;34m=\u001b[0m \u001b[0mmodel\u001b[0m\u001b[0;34m(\u001b[0m\u001b[0minput\u001b[0m\u001b[0;34m)\u001b[0m\u001b[0;34m\u001b[0m\u001b[0m\n\u001b[0m\u001b[1;32m     76\u001b[0m         \u001b[0mloss\u001b[0m \u001b[0;34m=\u001b[0m \u001b[0mcriterion\u001b[0m\u001b[0;34m(\u001b[0m\u001b[0moutput\u001b[0m\u001b[0;34m,\u001b[0m \u001b[0mtarget\u001b[0m\u001b[0;34m)\u001b[0m\u001b[0;34m\u001b[0m\u001b[0m\n\u001b[1;32m     77\u001b[0m         \u001b[0;32mif\u001b[0m \u001b[0mregularizer\u001b[0m \u001b[0;32mis\u001b[0m \u001b[0;32mnot\u001b[0m \u001b[0;32mNone\u001b[0m\u001b[0;34m:\u001b[0m\u001b[0;34m\u001b[0m\u001b[0m\n",
      "\u001b[0;32m/anaconda3/lib/python3.6/site-packages/torch/nn/modules/module.py\u001b[0m in \u001b[0;36m__call__\u001b[0;34m(self, *input, **kwargs)\u001b[0m\n\u001b[1;32m    487\u001b[0m             \u001b[0mresult\u001b[0m \u001b[0;34m=\u001b[0m \u001b[0mself\u001b[0m\u001b[0;34m.\u001b[0m\u001b[0m_slow_forward\u001b[0m\u001b[0;34m(\u001b[0m\u001b[0;34m*\u001b[0m\u001b[0minput\u001b[0m\u001b[0;34m,\u001b[0m \u001b[0;34m**\u001b[0m\u001b[0mkwargs\u001b[0m\u001b[0;34m)\u001b[0m\u001b[0;34m\u001b[0m\u001b[0m\n\u001b[1;32m    488\u001b[0m         \u001b[0;32melse\u001b[0m\u001b[0;34m:\u001b[0m\u001b[0;34m\u001b[0m\u001b[0m\n\u001b[0;32m--> 489\u001b[0;31m             \u001b[0mresult\u001b[0m \u001b[0;34m=\u001b[0m \u001b[0mself\u001b[0m\u001b[0;34m.\u001b[0m\u001b[0mforward\u001b[0m\u001b[0;34m(\u001b[0m\u001b[0;34m*\u001b[0m\u001b[0minput\u001b[0m\u001b[0;34m,\u001b[0m \u001b[0;34m**\u001b[0m\u001b[0mkwargs\u001b[0m\u001b[0;34m)\u001b[0m\u001b[0;34m\u001b[0m\u001b[0m\n\u001b[0m\u001b[1;32m    490\u001b[0m         \u001b[0;32mfor\u001b[0m \u001b[0mhook\u001b[0m \u001b[0;32min\u001b[0m \u001b[0mself\u001b[0m\u001b[0;34m.\u001b[0m\u001b[0m_forward_hooks\u001b[0m\u001b[0;34m.\u001b[0m\u001b[0mvalues\u001b[0m\u001b[0;34m(\u001b[0m\u001b[0;34m)\u001b[0m\u001b[0;34m:\u001b[0m\u001b[0;34m\u001b[0m\u001b[0m\n\u001b[1;32m    491\u001b[0m             \u001b[0mhook_result\u001b[0m \u001b[0;34m=\u001b[0m \u001b[0mhook\u001b[0m\u001b[0;34m(\u001b[0m\u001b[0mself\u001b[0m\u001b[0;34m,\u001b[0m \u001b[0minput\u001b[0m\u001b[0;34m,\u001b[0m \u001b[0mresult\u001b[0m\u001b[0;34m)\u001b[0m\u001b[0;34m\u001b[0m\u001b[0m\n",
      "\u001b[0;32m<ipython-input-50-988a60230630>\u001b[0m in \u001b[0;36mforward\u001b[0;34m(self, x, K)\u001b[0m\n\u001b[1;32m     18\u001b[0m \u001b[0;34m\u001b[0m\u001b[0m\n\u001b[1;32m     19\u001b[0m         \u001b[0mx\u001b[0m \u001b[0;34m=\u001b[0m \u001b[0mx\u001b[0m\u001b[0;34m.\u001b[0m\u001b[0mview\u001b[0m\u001b[0;34m(\u001b[0m\u001b[0mx\u001b[0m\u001b[0;34m.\u001b[0m\u001b[0msize\u001b[0m\u001b[0;34m(\u001b[0m\u001b[0;36m0\u001b[0m\u001b[0;34m)\u001b[0m\u001b[0;34m,\u001b[0m \u001b[0;34m-\u001b[0m\u001b[0;36m1\u001b[0m\u001b[0;34m)\u001b[0m\u001b[0;34m\u001b[0m\u001b[0m\n\u001b[0;32m---> 20\u001b[0;31m         \u001b[0mW\u001b[0m \u001b[0;34m=\u001b[0m \u001b[0mself\u001b[0m\u001b[0;34m.\u001b[0m\u001b[0mnvp\u001b[0m\u001b[0;34m.\u001b[0m\u001b[0msample\u001b[0m\u001b[0;34m(\u001b[0m\u001b[0mK\u001b[0m\u001b[0;34m)\u001b[0m\u001b[0;34m\u001b[0m\u001b[0m\n\u001b[0m\u001b[1;32m     21\u001b[0m         \u001b[0mW1\u001b[0m \u001b[0;34m=\u001b[0m \u001b[0mW\u001b[0m\u001b[0;34m[\u001b[0m\u001b[0;34m:\u001b[0m\u001b[0;34m,\u001b[0m \u001b[0;34m:\u001b[0m\u001b[0;36m784\u001b[0m\u001b[0;34m]\u001b[0m\u001b[0;34m\u001b[0m\u001b[0m\n\u001b[1;32m     22\u001b[0m         \u001b[0mb1\u001b[0m \u001b[0;34m=\u001b[0m \u001b[0mW\u001b[0m\u001b[0;34m[\u001b[0m\u001b[0;34m:\u001b[0m\u001b[0;34m,\u001b[0m \u001b[0;36m784\u001b[0m\u001b[0;34m:\u001b[0m\u001b[0;36m785\u001b[0m\u001b[0;34m]\u001b[0m\u001b[0;34m\u001b[0m\u001b[0m\n",
      "\u001b[0;32m<ipython-input-49-285d7e64106b>\u001b[0m in \u001b[0;36msample\u001b[0;34m(self, K)\u001b[0m\n\u001b[1;32m     58\u001b[0m \u001b[0;34m\u001b[0m\u001b[0m\n\u001b[1;32m     59\u001b[0m \u001b[0;31m#         m = MultivariateNormal(torch.zeros(batchSize), torch.eye(batchSize))\u001b[0m\u001b[0;34m\u001b[0m\u001b[0;34m\u001b[0m\u001b[0m\n\u001b[0;32m---> 60\u001b[0;31m         \u001b[0mz\u001b[0m \u001b[0;34m=\u001b[0m \u001b[0mself\u001b[0m\u001b[0;34m.\u001b[0m\u001b[0mprior\u001b[0m\u001b[0;34m.\u001b[0m\u001b[0msample\u001b[0m\u001b[0;34m(\u001b[0m\u001b[0;34m(\u001b[0m\u001b[0mK\u001b[0m\u001b[0;34m,\u001b[0m \u001b[0;34m)\u001b[0m\u001b[0;34m)\u001b[0m\u001b[0;34m\u001b[0m\u001b[0m\n\u001b[0m\u001b[1;32m     61\u001b[0m         \u001b[0mx\u001b[0m \u001b[0;34m=\u001b[0m \u001b[0mself\u001b[0m\u001b[0;34m.\u001b[0m\u001b[0mg\u001b[0m\u001b[0;34m(\u001b[0m\u001b[0mz\u001b[0m\u001b[0;34m)\u001b[0m\u001b[0;34m\u001b[0m\u001b[0m\n\u001b[1;32m     62\u001b[0m \u001b[0;34m\u001b[0m\u001b[0m\n",
      "\u001b[0;32m/anaconda3/lib/python3.6/site-packages/torch/distributions/distribution.py\u001b[0m in \u001b[0;36msample\u001b[0;34m(self, sample_shape)\u001b[0m\n\u001b[1;32m    116\u001b[0m         \"\"\"\n\u001b[1;32m    117\u001b[0m         \u001b[0;32mwith\u001b[0m \u001b[0mtorch\u001b[0m\u001b[0;34m.\u001b[0m\u001b[0mno_grad\u001b[0m\u001b[0;34m(\u001b[0m\u001b[0;34m)\u001b[0m\u001b[0;34m:\u001b[0m\u001b[0;34m\u001b[0m\u001b[0m\n\u001b[0;32m--> 118\u001b[0;31m             \u001b[0;32mreturn\u001b[0m \u001b[0mself\u001b[0m\u001b[0;34m.\u001b[0m\u001b[0mrsample\u001b[0m\u001b[0;34m(\u001b[0m\u001b[0msample_shape\u001b[0m\u001b[0;34m)\u001b[0m\u001b[0;34m\u001b[0m\u001b[0m\n\u001b[0m\u001b[1;32m    119\u001b[0m \u001b[0;34m\u001b[0m\u001b[0m\n\u001b[1;32m    120\u001b[0m     \u001b[0;32mdef\u001b[0m \u001b[0mrsample\u001b[0m\u001b[0;34m(\u001b[0m\u001b[0mself\u001b[0m\u001b[0;34m,\u001b[0m \u001b[0msample_shape\u001b[0m\u001b[0;34m=\u001b[0m\u001b[0mtorch\u001b[0m\u001b[0;34m.\u001b[0m\u001b[0mSize\u001b[0m\u001b[0;34m(\u001b[0m\u001b[0;34m)\u001b[0m\u001b[0;34m)\u001b[0m\u001b[0;34m:\u001b[0m\u001b[0;34m\u001b[0m\u001b[0m\n",
      "\u001b[0;32m/anaconda3/lib/python3.6/site-packages/torch/distributions/multivariate_normal.py\u001b[0m in \u001b[0;36mrsample\u001b[0;34m(self, sample_shape)\u001b[0m\n\u001b[1;32m    180\u001b[0m         \u001b[0mshape\u001b[0m \u001b[0;34m=\u001b[0m \u001b[0mself\u001b[0m\u001b[0;34m.\u001b[0m\u001b[0m_extended_shape\u001b[0m\u001b[0;34m(\u001b[0m\u001b[0msample_shape\u001b[0m\u001b[0;34m)\u001b[0m\u001b[0;34m\u001b[0m\u001b[0m\n\u001b[1;32m    181\u001b[0m         \u001b[0meps\u001b[0m \u001b[0;34m=\u001b[0m \u001b[0m_standard_normal\u001b[0m\u001b[0;34m(\u001b[0m\u001b[0mshape\u001b[0m\u001b[0;34m,\u001b[0m \u001b[0mdtype\u001b[0m\u001b[0;34m=\u001b[0m\u001b[0mself\u001b[0m\u001b[0;34m.\u001b[0m\u001b[0mloc\u001b[0m\u001b[0;34m.\u001b[0m\u001b[0mdtype\u001b[0m\u001b[0;34m,\u001b[0m \u001b[0mdevice\u001b[0m\u001b[0;34m=\u001b[0m\u001b[0mself\u001b[0m\u001b[0;34m.\u001b[0m\u001b[0mloc\u001b[0m\u001b[0;34m.\u001b[0m\u001b[0mdevice\u001b[0m\u001b[0;34m)\u001b[0m\u001b[0;34m\u001b[0m\u001b[0m\n\u001b[0;32m--> 182\u001b[0;31m         \u001b[0;32mreturn\u001b[0m \u001b[0mself\u001b[0m\u001b[0;34m.\u001b[0m\u001b[0mloc\u001b[0m \u001b[0;34m+\u001b[0m \u001b[0m_batch_mv\u001b[0m\u001b[0;34m(\u001b[0m\u001b[0mself\u001b[0m\u001b[0;34m.\u001b[0m\u001b[0m_unbroadcasted_scale_tril\u001b[0m\u001b[0;34m,\u001b[0m \u001b[0meps\u001b[0m\u001b[0;34m)\u001b[0m\u001b[0;34m\u001b[0m\u001b[0m\n\u001b[0m\u001b[1;32m    183\u001b[0m \u001b[0;34m\u001b[0m\u001b[0m\n\u001b[1;32m    184\u001b[0m     \u001b[0;32mdef\u001b[0m \u001b[0mlog_prob\u001b[0m\u001b[0;34m(\u001b[0m\u001b[0mself\u001b[0m\u001b[0;34m,\u001b[0m \u001b[0mvalue\u001b[0m\u001b[0;34m)\u001b[0m\u001b[0;34m:\u001b[0m\u001b[0;34m\u001b[0m\u001b[0m\n",
      "\u001b[0;32m/anaconda3/lib/python3.6/site-packages/torch/distributions/multivariate_normal.py\u001b[0m in \u001b[0;36m_batch_mv\u001b[0;34m(bmat, bvec)\u001b[0m\n\u001b[1;32m     18\u001b[0m     \u001b[0mjust\u001b[0m \u001b[0mones\u001b[0m \u001b[0mwhich\u001b[0m \u001b[0mcan\u001b[0m \u001b[0mbe\u001b[0m \u001b[0mbroadcasted\u001b[0m\u001b[0;34m.\u001b[0m\u001b[0;34m\u001b[0m\u001b[0m\n\u001b[1;32m     19\u001b[0m     \"\"\"\n\u001b[0;32m---> 20\u001b[0;31m     \u001b[0;32mreturn\u001b[0m \u001b[0mtorch\u001b[0m\u001b[0;34m.\u001b[0m\u001b[0mmatmul\u001b[0m\u001b[0;34m(\u001b[0m\u001b[0mbmat\u001b[0m\u001b[0;34m,\u001b[0m \u001b[0mbvec\u001b[0m\u001b[0;34m.\u001b[0m\u001b[0munsqueeze\u001b[0m\u001b[0;34m(\u001b[0m\u001b[0;34m-\u001b[0m\u001b[0;36m1\u001b[0m\u001b[0;34m)\u001b[0m\u001b[0;34m)\u001b[0m\u001b[0;34m.\u001b[0m\u001b[0msqueeze\u001b[0m\u001b[0;34m(\u001b[0m\u001b[0;34m-\u001b[0m\u001b[0;36m1\u001b[0m\u001b[0;34m)\u001b[0m\u001b[0;34m\u001b[0m\u001b[0m\n\u001b[0m\u001b[1;32m     21\u001b[0m \u001b[0;34m\u001b[0m\u001b[0m\n\u001b[1;32m     22\u001b[0m \u001b[0;34m\u001b[0m\u001b[0m\n",
      "\u001b[0;31mKeyboardInterrupt\u001b[0m: "
     ]
    }
   ],
   "source": [
    "columns = ['ep', 'lr', 'tr_loss', 'tr_acc', 'te_nll', 'te_acc', 'time']\n",
    "for epoch in range(0, 10 + 1):\n",
    "    time_ep = time.time()\n",
    "\n",
    "    lr = 1e-3\n",
    "    utils.adjust_learning_rate(optimizer, lr)\n",
    "\n",
    "    train_res = utils.train(loaders['train'], GF, optimizer, criterion, regularizer)\n",
    "    test_res = utils.test(loaders['test'], GF, criterion, regularizer)\n",
    "\n",
    "    time_ep = time.time() - time_ep\n",
    "    values = [epoch, lr, train_res['loss'], train_res['accuracy'], test_res['nll'],\n",
    "              test_res['accuracy'], time_ep]\n",
    "\n",
    "    table = tabulate.tabulate([values], columns, tablefmt='simple', floatfmt='9.4f')\n",
    "    print(table)"
   ]
  },
  {
   "cell_type": "markdown",
   "metadata": {},
   "source": [
    "## Trainig mean and covariance matrix One hidden layer"
   ]
  },
  {
   "cell_type": "code",
   "execution_count": 191,
   "metadata": {},
   "outputs": [],
   "source": [
    "class Gaussian_model(nn.Module):\n",
    "    def __init__(self, n_dim=795):\n",
    "        super(Gaussian_model, self).__init__()\n",
    "        self.A = nn.Linear(n_dim, n_dim)\n",
    "        self.relu = nn.ReLU()\n",
    "        data_mean = torch.FloatTensor(np.random.normal(size=(n_dim, )))\n",
    "        self.mean= nn.Parameter(data = data_mean, requires_grad=True)\n",
    "        \n",
    "        data_b2 = torch.FloatTensor(np.random.normal(size=(10, )))\n",
    "        self.b2 = nn.Parameter(data = data_b2, requires_grad=True)\n",
    "\n",
    "    def sample(self, K):\n",
    "        e = torch.randn((K, self.mean.size()[0]))\n",
    "        W = (self.mean + self.A(e))       \n",
    "        return W\n",
    "    \n",
    "\n",
    "    def forward(self, x, K=2000):\n",
    "\n",
    "        x = x.view(x.size(0), -1)\n",
    "        W = self.sample(K)\n",
    "        W1 = W[:, :784]\n",
    "        b1 = W[:, 784:785]\n",
    "        W2 =  W[:, 785:].transpose(0,1)\n",
    "        \n",
    "#         print('x', x.shape)\n",
    "#         print('W1', W1.shape)\n",
    "#         print('b1', b1.shape)\n",
    "#         print('r', W1.repeat(x.size()[0], 1, 1).shape)\n",
    "#         print('rb', b1.repeat(x.size()[0], 1, 1).shape)\n",
    "        x = F.linear(x, W1, b1[:, 0])\n",
    "#         print('x', x.shape)\n",
    "#         x = W1 @ x #+ b1\n",
    "#         print(x.shape)\n",
    "        x = self.relu(x)\n",
    "#         print('W2', W2.shape)\n",
    "        x = F.linear(x, W2, self.b2) \n",
    "        x = 1/K*x\n",
    "#         print(x.shape)\n",
    "        return x"
   ]
  },
  {
   "cell_type": "code",
   "execution_count": 192,
   "metadata": {},
   "outputs": [],
   "source": [
    "GM = Gaussian_model()"
   ]
  },
  {
   "cell_type": "code",
   "execution_count": 256,
   "metadata": {},
   "outputs": [
    {
     "data": {
      "text/plain": [
       "tensor([ 1.9040, -2.8658,  2.0356,  4.9194, -1.0913,  1.2477, -4.9191, 10.4211,\n",
       "         2.0114,  4.8194], grad_fn=<SelectBackward>)"
      ]
     },
     "execution_count": 256,
     "metadata": {},
     "output_type": "execute_result"
    }
   ],
   "source": [
    "GM(X)[0]"
   ]
  },
  {
   "cell_type": "code",
   "execution_count": 257,
   "metadata": {},
   "outputs": [
    {
     "data": {
      "text/plain": [
       "{'accuracy': 90.3, 'loss': 0.3399368374824524, 'nll': 0.3399368374824524}"
      ]
     },
     "execution_count": 257,
     "metadata": {},
     "output_type": "execute_result"
    }
   ],
   "source": [
    "test_res = utils.test(loaders['test'], GM, criterion, regularizer)\n",
    "test_res"
   ]
  },
  {
   "cell_type": "code",
   "execution_count": 260,
   "metadata": {},
   "outputs": [],
   "source": [
    "samples = GM.sample(2000).data.numpy()"
   ]
  },
  {
   "cell_type": "code",
   "execution_count": 264,
   "metadata": {},
   "outputs": [
    {
     "name": "stderr",
     "output_type": "stream",
     "text": [
      "/anaconda3/lib/python3.6/site-packages/scipy/stats/stats.py:1706: FutureWarning: Using a non-tuple sequence for multidimensional indexing is deprecated; use `arr[tuple(seq)]` instead of `arr[seq]`. In the future this will be interpreted as an array index, `arr[np.array(seq)]`, which will result either in an error or a different result.\n",
      "  return np.add.reduce(sorted[indexer] * weights, axis=axis) / sumval\n"
     ]
    },
    {
     "data": {
      "text/plain": [
       "<matplotlib.axes._subplots.AxesSubplot at 0x1a3e6529e8>"
      ]
     },
     "execution_count": 264,
     "metadata": {},
     "output_type": "execute_result"
    },
    {
     "data": {
      "image/png": "[encoded data removed]",
      "text/plain": [
       "<matplotlib.figure.Figure at 0x1a3e66b7b8>"
      ]
     },
     "metadata": {},
     "output_type": "display_data"
    }
   ],
   "source": [
    "sns.kdeplot(samples[:, 0], samples[:, 70], shade=True,  cbar=True)"
   ]
  },
  {
   "cell_type": "code",
   "execution_count": 277,
   "metadata": {},
   "outputs": [],
   "source": [
    "X_embeddeds = TSNE(n_components=2).fit_transform(samples)"
   ]
  },
  {
   "cell_type": "code",
   "execution_count": 279,
   "metadata": {},
   "outputs": [
    {
     "name": "stderr",
     "output_type": "stream",
     "text": [
      "/anaconda3/lib/python3.6/site-packages/scipy/stats/stats.py:1706: FutureWarning: Using a non-tuple sequence for multidimensional indexing is deprecated; use `arr[tuple(seq)]` instead of `arr[seq]`. In the future this will be interpreted as an array index, `arr[np.array(seq)]`, which will result either in an error or a different result.\n",
      "  return np.add.reduce(sorted[indexer] * weights, axis=axis) / sumval\n"
     ]
    },
    {
     "data": {
      "text/plain": [
       "<matplotlib.axes._subplots.AxesSubplot at 0x1a362774e0>"
      ]
     },
     "execution_count": 279,
     "metadata": {},
     "output_type": "execute_result"
    },
    {
     "data": {
      "image/png": "[encoded data removed]",
      "text/plain": [
       "<matplotlib.figure.Figure at 0x1a3087f400>"
      ]
     },
     "metadata": {},
     "output_type": "display_data"
    }
   ],
   "source": [
    "sns.kdeplot(X_embeddeds[:, 0], X_embeddeds[:, 1], shade=True,  cbar=True)"
   ]
  },
  {
   "cell_type": "code",
   "execution_count": 46,
   "metadata": {},
   "outputs": [],
   "source": [
    "import utils\n",
    "import time  "
   ]
  },
  {
   "cell_type": "code",
   "execution_count": 195,
   "metadata": {},
   "outputs": [],
   "source": [
    "criterion = F.cross_entropy\n",
    "regularizer = None \n",
    "optimizer = torch.optim.SGD(\n",
    "    filter(lambda param: param.requires_grad, GM.parameters()),\n",
    "    lr=0.01,\n",
    "    momentum=0.9,\n",
    "    weight_decay=0.0\n",
    ")"
   ]
  },
  {
   "cell_type": "code",
   "execution_count": 196,
   "metadata": {},
   "outputs": [
    {
     "name": "stdout",
     "output_type": "stream",
     "text": [
      "  ep         lr    tr_loss     tr_acc     te_nll     te_acc       time\n",
      "----  ---------  ---------  ---------  ---------  ---------  ---------\n",
      "   0     0.0010     2.4137    12.8100     2.2361    14.9600    45.1423\n",
      "  ep         lr    tr_loss     tr_acc     te_nll     te_acc       time\n",
      "----  ---------  ---------  ---------  ---------  ---------  ---------\n",
      "   1     0.0010     2.1792    22.4883     2.1099    29.9800    45.8918\n",
      "  ep         lr    tr_loss     tr_acc     te_nll     te_acc       time\n",
      "----  ---------  ---------  ---------  ---------  ---------  ---------\n",
      "   2     0.0010     1.9677    38.5583     1.7556    51.8600    46.2762\n",
      "  ep         lr    tr_loss     tr_acc     te_nll     te_acc       time\n",
      "----  ---------  ---------  ---------  ---------  ---------  ---------\n",
      "   3     0.0010     1.4053    62.8650     1.0324    72.9600    47.0621\n",
      "  ep         lr    tr_loss     tr_acc     te_nll     te_acc       time\n",
      "----  ---------  ---------  ---------  ---------  ---------  ---------\n",
      "   4     0.0010     0.8231    77.9817     0.6490    83.5400    47.4103\n",
      "  ep         lr    tr_loss     tr_acc     te_nll     te_acc       time\n",
      "----  ---------  ---------  ---------  ---------  ---------  ---------\n",
      "   5     0.0010     0.5972    84.0550     0.5146    86.1600    46.4467\n",
      "  ep         lr    tr_loss     tr_acc     te_nll     te_acc       time\n",
      "----  ---------  ---------  ---------  ---------  ---------  ---------\n",
      "   6     0.0010     0.5086    85.8433     0.4569    87.2700    46.8997\n",
      "  ep         lr    tr_loss     tr_acc     te_nll     te_acc       time\n",
      "----  ---------  ---------  ---------  ---------  ---------  ---------\n",
      "   7     0.0010     0.4666    86.7283     0.4284    87.9400    46.6091\n",
      "  ep         lr    tr_loss     tr_acc     te_nll     te_acc       time\n",
      "----  ---------  ---------  ---------  ---------  ---------  ---------\n",
      "   8     0.0010     0.4417    87.4467     0.4019    88.7200    47.4827\n",
      "  ep         lr    tr_loss     tr_acc     te_nll     te_acc       time\n",
      "----  ---------  ---------  ---------  ---------  ---------  ---------\n",
      "   9     0.0010     0.4206    87.9017     0.3919    88.8500    47.8366\n",
      "  ep         lr    tr_loss     tr_acc     te_nll     te_acc       time\n",
      "----  ---------  ---------  ---------  ---------  ---------  ---------\n",
      "  10     0.0010     0.4074    88.4117     0.3879    88.8300    46.5626\n"
     ]
    }
   ],
   "source": [
    "columns = ['ep', 'lr', 'tr_loss', 'tr_acc', 'te_nll', 'te_acc', 'time']\n",
    "for epoch in range(0, 10 + 1):\n",
    "    time_ep = time.time()\n",
    "\n",
    "    lr = 1e-3\n",
    "    utils.adjust_learning_rate(optimizer, lr)\n",
    "\n",
    "    train_res = utils.train(loaders['train'], GM, optimizer, criterion, regularizer)\n",
    "    test_res = utils.test(loaders['test'], GM, criterion, regularizer)\n",
    "\n",
    "    time_ep = time.time() - time_ep\n",
    "    values = [epoch, lr, train_res['loss'], train_res['accuracy'], test_res['nll'],\n",
    "              test_res['accuracy'], time_ep]\n",
    "\n",
    "    table = tabulate.tabulate([values], columns, tablefmt='simple', floatfmt='9.4f')\n",
    "    print(table)"
   ]
  },
  {
   "cell_type": "markdown",
   "metadata": {},
   "source": [
    "## Trainig mean and covariance matrix Several hidden layer"
   ]
  },
  {
   "cell_type": "code",
   "execution_count": 249,
   "metadata": {},
   "outputs": [],
   "source": [
    "class GMMultyLayer(nn.Module):\n",
    "    def __init__(self, n_dim=809):\n",
    "        super(GMMultyLayer, self).__init__()\n",
    "        self.n_dim = n_dim\n",
    "        self.A = nn.Linear(n_dim, n_dim)\n",
    "        self.relu = nn.ReLU()\n",
    "        data_mean = torch.FloatTensor(np.random.normal(size=(n_dim, )))\n",
    "        self.mean= nn.Parameter(data = data_mean, requires_grad=True)\n",
    "        \n",
    "        data_bf = torch.FloatTensor(np.random.normal(size=(10, )))\n",
    "        self.bf = nn.Parameter(data = data_bf, requires_grad=True)\n",
    "\n",
    "    def sample(self, K):\n",
    "        e = torch.randn((K, self.mean.size()[0]))\n",
    "        W = (self.mean + self.A(e))       \n",
    "        return W\n",
    "    \n",
    "\n",
    "    def forward(self, x, K=4000):\n",
    "\n",
    "        x = x.view(x.size(0), -1)\n",
    "        W = self.sample(K)\n",
    "        W1 = W[:, :784]\n",
    "        b1 = W[:, 784]\n",
    "        \n",
    "        W2 = W[:, 785]\n",
    "        b2 = W[:, 786]\n",
    "        Wf =  W[:, -10:].transpose(0,1)\n",
    "        \n",
    "        x = F.linear(x, W1, b1)\n",
    "        x = self.relu(x)\n",
    "        for i in range(int(self.n_dim-784-10/2), 2):\n",
    "            Wi = W[:, 785+i]\n",
    "            bi = W[:, 786+i]\n",
    "            x = self.relu(Wi*x+bi)\n",
    "            \n",
    "        x = F.linear(x, Wf, self.bf) \n",
    "        x = 1/K*x\n",
    "#         print(x.shape)\n",
    "        return x"
   ]
  },
  {
   "cell_type": "code",
   "execution_count": 250,
   "metadata": {},
   "outputs": [],
   "source": [
    "GML = GMMultyLayer()"
   ]
  },
  {
   "cell_type": "code",
   "execution_count": 251,
   "metadata": {},
   "outputs": [],
   "source": [
    "criterion = F.cross_entropy\n",
    "regularizer = None \n",
    "optimizer = torch.optim.SGD(\n",
    "    filter(lambda param: param.requires_grad, GML.parameters()),\n",
    "    lr=0.01,\n",
    "    momentum=0.9,\n",
    "    weight_decay=0.0\n",
    ")"
   ]
  },
  {
   "cell_type": "code",
   "execution_count": 252,
   "metadata": {
    "scrolled": false
   },
   "outputs": [
    {
     "name": "stdout",
     "output_type": "stream",
     "text": [
      "  ep         lr    tr_loss     tr_acc     te_nll     te_acc       time\n",
      "----  ---------  ---------  ---------  ---------  ---------  ---------\n",
      "   0     0.0010     2.7916    14.3017     2.2235    14.8000    93.5746\n",
      "  ep         lr    tr_loss     tr_acc     te_nll     te_acc       time\n",
      "----  ---------  ---------  ---------  ---------  ---------  ---------\n",
      "   1     0.0010     2.1833    15.8317     2.1439    18.0300    91.0075\n",
      "  ep         lr    tr_loss     tr_acc     te_nll     te_acc       time\n",
      "----  ---------  ---------  ---------  ---------  ---------  ---------\n",
      "   2     0.0010     2.0937    24.0500     2.0191    30.7600    90.9785\n",
      "  ep         lr    tr_loss     tr_acc     te_nll     te_acc       time\n",
      "----  ---------  ---------  ---------  ---------  ---------  ---------\n",
      "   3     0.0010     1.9095    36.9383     1.7213    47.6100    90.6315\n",
      "  ep         lr    tr_loss     tr_acc     te_nll     te_acc       time\n",
      "----  ---------  ---------  ---------  ---------  ---------  ---------\n",
      "   4     0.0010     1.4738    59.3883     1.1794    67.9500    90.9084\n",
      "  ep         lr    tr_loss     tr_acc     te_nll     te_acc       time\n",
      "----  ---------  ---------  ---------  ---------  ---------  ---------\n",
      "   5     0.0010     1.0308    71.7517     0.8680    74.5800    92.7320\n",
      "  ep         lr    tr_loss     tr_acc     te_nll     te_acc       time\n",
      "----  ---------  ---------  ---------  ---------  ---------  ---------\n",
      "   6     0.0010     0.8114    75.2483     0.7091    76.9900    91.3537\n",
      "  ep         lr    tr_loss     tr_acc     te_nll     te_acc       time\n",
      "----  ---------  ---------  ---------  ---------  ---------  ---------\n",
      "   7     0.0010     0.6591    83.7533     0.5690    87.6800    91.7474\n",
      "  ep         lr    tr_loss     tr_acc     te_nll     te_acc       time\n",
      "----  ---------  ---------  ---------  ---------  ---------  ---------\n",
      "   8     0.0010     0.5372    87.2150     0.4731    88.2000    92.4704\n",
      "  ep         lr    tr_loss     tr_acc     te_nll     te_acc       time\n",
      "----  ---------  ---------  ---------  ---------  ---------  ---------\n",
      "   9     0.0010     0.4687    87.5850     0.4266    88.3400    91.7914\n",
      "  ep         lr    tr_loss     tr_acc     te_nll     te_acc       time\n",
      "----  ---------  ---------  ---------  ---------  ---------  ---------\n",
      "  10     0.0010     0.4312    88.0667     0.3999    88.9800    92.3218\n"
     ]
    }
   ],
   "source": [
    "columns = ['ep', 'lr', 'tr_loss', 'tr_acc', 'te_nll', 'te_acc', 'time']\n",
    "for epoch in range(0, 10 + 1):\n",
    "    time_ep = time.time()\n",
    "\n",
    "    lr = 1e-3\n",
    "    utils.adjust_learning_rate(optimizer, lr)\n",
    "\n",
    "    train_res = utils.train(loaders['train'], GML, optimizer, criterion, regularizer)\n",
    "    test_res = utils.test(loaders['test'], GML, criterion, regularizer)\n",
    "\n",
    "    time_ep = time.time() - time_ep\n",
    "    values = [epoch, lr, train_res['loss'], train_res['accuracy'], test_res['nll'],\n",
    "              test_res['accuracy'], time_ep]\n",
    "\n",
    "    table = tabulate.tabulate([values], columns, tablefmt='simple', floatfmt='9.4f')\n",
    "    print(table)"
   ]
  }
 ],
 "metadata": {
  "kernelspec": {
   "display_name": "Python 3",
   "language": "python",
   "name": "python3"
  },
  "language_info": {
   "codemirror_mode": {
    "name": "ipython",
    "version": 3
   },
   "file_extension": ".py",
   "mimetype": "text/x-python",
   "name": "python",
   "nbconvert_exporter": "python",
   "pygments_lexer": "ipython3",
   "version": "3.6.4"
  }
 },
 "nbformat": 4,
 "nbformat_minor": 2
}
