{
 "cells": [
  {
   "cell_type": "code",
   "execution_count": 96,
   "metadata": {},
   "outputs": [],
   "source": [
    "import sys\n",
    "sys.path.append('/home/ivan/distribution_connector')\n",
    "import os\n",
    "\n",
    "from sklearn.decomposition import TruncatedSVD"
   ]
  },
  {
   "cell_type": "code",
   "execution_count": 2,
   "metadata": {},
   "outputs": [],
   "source": [
    "from sklearn import datasets\n",
    "import numpy as np\n",
    "import torch\n",
    "from tqdm import tqdm\n",
    "from connector_utils import test_models, gather_statistics, test_func\n",
    "import matplotlib.pyplot as plt"
   ]
  },
  {
   "cell_type": "code",
   "execution_count": 3,
   "metadata": {},
   "outputs": [],
   "source": [
    "from connector import Connector\n",
    "# from one_layer_utils import samples, make_dataset, get_model, get_b\n",
    "from utils import test_model"
   ]
  },
  {
   "cell_type": "code",
   "execution_count": 4,
   "metadata": {},
   "outputs": [
    {
     "name": "stdout",
     "output_type": "stream",
     "text": [
      "Files already downloaded and verified\n",
      "You are going to run models on the test set. Are you sure?\n",
      "Files already downloaded and verified\n"
     ]
    },
    {
     "data": {
      "text/plain": [
       "IncompatibleKeys(missing_keys=[], unexpected_keys=[])"
      ]
     },
     "execution_count": 4,
     "metadata": {},
     "output_type": "execute_result"
    }
   ],
   "source": [
    "import models\n",
    "architecture = getattr(models, \"Linear3NoBias\") #LinearOneLayer LogRegression\n",
    "\n",
    "import data\n",
    "loaders, num_classes = data.loaders(\n",
    "    \"CIFAR10\",\n",
    "    \"data\",\n",
    "    1024,\n",
    "    1,\n",
    "    \"VGG\",\n",
    "    True,\n",
    "    shuffle_train=False)\n",
    "\n",
    "model1 = architecture.base(num_classes=10, **architecture.kwargs)\n",
    "model2 = architecture.base(num_classes=10, **architecture.kwargs)\n",
    "\n",
    "model1.load_state_dict(torch.load('curves/Linear3NoBias/curve1/checkpoint-100.pt')['model_state'])\n",
    "model2.load_state_dict(torch.load('curves/Linear3NoBias/curve2/checkpoint-100.pt')['model_state'])\n"
   ]
  },
  {
   "cell_type": "code",
   "execution_count": 5,
   "metadata": {},
   "outputs": [
    {
     "name": "stdout",
     "output_type": "stream",
     "text": [
      "train results {'nll': 0.45399812195777894, 'loss': 0.45399812195777894, 'accuracy': 84.832}\n",
      "test results {'nll': 1.2863960428237915, 'loss': 1.2863960428237915, 'accuracy': 60.34}\n"
     ]
    },
    {
     "data": {
      "text/plain": [
       "({'nll': 0.45399812195777894, 'loss': 0.45399812195777894, 'accuracy': 84.832},\n",
       " {'nll': 1.2863960428237915, 'loss': 1.2863960428237915, 'accuracy': 60.34})"
      ]
     },
     "execution_count": 5,
     "metadata": {},
     "output_type": "execute_result"
    }
   ],
   "source": [
    "model1.cuda();\n",
    "model1.eval();\n",
    "test_model(model1, loaders, cuda=True)"
   ]
  },
  {
   "cell_type": "code",
   "execution_count": 6,
   "metadata": {},
   "outputs": [],
   "source": [
    "def get_model(W, architecture, bias=False, per_layer=True):\n",
    "    model_sampled = architecture.base(num_classes=10, **architecture.kwargs)\n",
    "    model_samples = np.array(W)  \n",
    "\n",
    "    if per_layer:\n",
    "        for parameter, w in zip(model_sampled.parameters(), W):\n",
    "            parameter.data.copy_(torch.from_numpy(w))\n",
    "    else:\n",
    "        for i, parameter in enumerate(model_sampled.parameters()):\n",
    "            w = W[i//2]\n",
    "            if i % 2 == 0:\n",
    "                offset = 0\n",
    "            N = parameter.data.shape[1]\n",
    "            w_part = w[:, offset:offset+N]\n",
    "            offset = N\n",
    "            if i % 2 == 0:\n",
    "                parameter.data.copy_(torch.from_numpy(w_part))\n",
    "            else:\n",
    "                parameter.data.copy_(torch.from_numpy(w_part.T))\n",
    "            \n",
    "\n",
    "    return model_sampled\n",
    "\n",
    "def samples(model):\n",
    "    p = [list(model.parameters())[i].data.cpu().numpy() for i in range(len(list(model.parameters())))]\n",
    "    return p\n",
    "\n",
    "def samples_per_layer(model, bias=True):\n",
    "    p = samples(model)\n",
    "    if bias:\n",
    "        p = [np.hstack([p[i], p[i+1][:, None]]) for i in range(0, len(p), 2)]        \n",
    "    return p"
   ]
  },
  {
   "cell_type": "code",
   "execution_count": 7,
   "metadata": {},
   "outputs": [
    {
     "name": "stdout",
     "output_type": "stream",
     "text": [
      "l torch.Size([1024, 6144])\n"
     ]
    }
   ],
   "source": [
    "layer = 0\n",
    "model1.cuda()\n",
    "model1.eval()\n",
    "functions = []\n",
    "targ = []\n",
    "for X, y in loaders['test']:\n",
    "    functions.append(model1(X.cuda(), N=layer))\n",
    "    targ.append(y)\n",
    "\n",
    "print('l', functions[0].shape)\n",
    "targ = np.concatenate(targ)\n",
    "funcs = np.concatenate([p.cpu().data.numpy() for p in functions])"
   ]
  },
  {
   "cell_type": "code",
   "execution_count": 8,
   "metadata": {},
   "outputs": [],
   "source": [
    "def get_X(data='test'):\n",
    "    dataset = []\n",
    "    for X, y in loaders[data]:\n",
    "        dataset.append(X)\n",
    "\n",
    "    dataset = np.concatenate([p.view(-1,3*32*32).cpu().data.numpy() for p in dataset])\n",
    "    \n",
    "    return dataset"
   ]
  },
  {
   "cell_type": "code",
   "execution_count": 9,
   "metadata": {},
   "outputs": [],
   "source": [
    "data = get_X()"
   ]
  },
  {
   "cell_type": "code",
   "execution_count": 10,
   "metadata": {},
   "outputs": [
    {
     "data": {
      "text/plain": [
       "(10000, 3072)"
      ]
     },
     "execution_count": 10,
     "metadata": {},
     "output_type": "execute_result"
    }
   ],
   "source": [
    "data.shape"
   ]
  },
  {
   "cell_type": "code",
   "execution_count": 11,
   "metadata": {},
   "outputs": [],
   "source": [
    "def get_funcs(model1, data='test', layer=0):\n",
    "    model1.cuda()\n",
    "    model1.eval()\n",
    "    functions = []\n",
    "    for X, y in loaders[data]:\n",
    "        functions.append(model1(X.cuda(), N=layer))\n",
    "\n",
    "    funcs = np.concatenate([p.cpu().data.numpy() for p in functions])\n",
    "    \n",
    "    return funcs\n",
    "\n",
    "def get_alpha(funcs, V):\n",
    "    alpha = funcs.T @ V.T\n",
    "    return alpha\n",
    "\n",
    "def get_betas(funcs, V):\n",
    "    betas = np.linalg.inv(funcs.T @ V.T)\n",
    "#     f_inv = np.linalg.pinv(funcs.T)\n",
    "    betas = V @ f_inv\n",
    "    return betas\n",
    "\n",
    "def accuracy(pred):\n",
    "    ens_acc = 100.0 * np.mean(np.argmax(pred, axis=1) == targ)\n",
    "    print(ens_acc)"
   ]
  },
  {
   "cell_type": "code",
   "execution_count": 102,
   "metadata": {},
   "outputs": [],
   "source": [
    "f_inv = np.linalg.pinv(funcs.T)"
   ]
  },
  {
   "cell_type": "code",
   "execution_count": 103,
   "metadata": {},
   "outputs": [],
   "source": [
    "f_inv2 = np.linalg.pinv(funcs2.T)"
   ]
  },
  {
   "cell_type": "code",
   "execution_count": 104,
   "metadata": {},
   "outputs": [
    {
     "data": {
      "text/plain": [
       "(10000, 6144)"
      ]
     },
     "execution_count": 104,
     "metadata": {},
     "output_type": "execute_result"
    }
   ],
   "source": [
    "f_inv.shape"
   ]
  },
  {
   "cell_type": "code",
   "execution_count": 105,
   "metadata": {},
   "outputs": [
    {
     "data": {
      "text/plain": [
       "((6144, 10000), (10000, 6144))"
      ]
     },
     "execution_count": 105,
     "metadata": {},
     "output_type": "execute_result"
    }
   ],
   "source": [
    "funcs.T.shape, f_inv.shape"
   ]
  },
  {
   "cell_type": "code",
   "execution_count": 106,
   "metadata": {},
   "outputs": [],
   "source": [
    "# (f_inv @ funcs.T).shape"
   ]
  },
  {
   "cell_type": "code",
   "execution_count": 107,
   "metadata": {},
   "outputs": [],
   "source": [
    "funcs = get_funcs(model1, data='test')\n",
    "funcs2  = get_funcs(model2, data='test')\n",
    "\n",
    "# funcs2 = funcs2[:10000]"
   ]
  },
  {
   "cell_type": "code",
   "execution_count": 108,
   "metadata": {},
   "outputs": [
    {
     "data": {
      "text/plain": [
       "((10000, 6144), (10000, 6144))"
      ]
     },
     "execution_count": 108,
     "metadata": {},
     "output_type": "execute_result"
    }
   ],
   "source": [
    "funcs.shape, funcs2.shape"
   ]
  },
  {
   "cell_type": "code",
   "execution_count": 89,
   "metadata": {},
   "outputs": [],
   "source": [
    "U_init, Sigma_init, V_init = np.linalg.svd(funcs.T)"
   ]
  },
  {
   "cell_type": "code",
   "execution_count": 16,
   "metadata": {},
   "outputs": [
    {
     "data": {
      "text/plain": [
       "(6144,)"
      ]
     },
     "execution_count": 16,
     "metadata": {},
     "output_type": "execute_result"
    }
   ],
   "source": [
    "Sigma_init.shape"
   ]
  },
  {
   "cell_type": "code",
   "execution_count": 243,
   "metadata": {},
   "outputs": [],
   "source": [
    "U_init0, Sigma_init0, V_init0 =  np.linalg.svd(data.T)"
   ]
  },
  {
   "cell_type": "code",
   "execution_count": null,
   "metadata": {},
   "outputs": [],
   "source": []
  },
  {
   "cell_type": "code",
   "execution_count": 64,
   "metadata": {},
   "outputs": [],
   "source": [
    "U_init2, Sigma_init2, V_init2 = np.linalg.svd(funcs2.T)"
   ]
  },
  {
   "cell_type": "code",
   "execution_count": 66,
   "metadata": {},
   "outputs": [
    {
     "data": {
      "text/plain": [
       "array([[ 0.09596302,  0.00412305, -0.03508306, ..., -0.00094693,\n",
       "        -0.01262829,  0.00524393],\n",
       "       [-0.08779276,  0.03962382,  0.07021306, ...,  0.01515507,\n",
       "        -0.01558601, -0.01281927],\n",
       "       [ 0.05324541, -0.0160114 , -0.05011205, ..., -0.0056352 ,\n",
       "         0.01498281,  0.0052655 ],\n",
       "       ...,\n",
       "       [-0.01893221, -0.01234936,  0.00509776, ...,  0.16162594,\n",
       "        -0.01053133, -0.01030669],\n",
       "       [ 0.00291595,  0.00819505, -0.01673825, ..., -0.00081445,\n",
       "         0.08962141, -0.00716509],\n",
       "       [ 0.00310175,  0.01450393,  0.00831493, ...,  0.01208472,\n",
       "         0.01484879,  0.14524095]], dtype=float32)"
      ]
     },
     "execution_count": 66,
     "metadata": {},
     "output_type": "execute_result"
    }
   ],
   "source": [
    "V_init2.T @ V_init"
   ]
  },
  {
   "cell_type": "code",
   "execution_count": 74,
   "metadata": {},
   "outputs": [],
   "source": [
    "# s1 = np.zeros(10000)\n",
    "# s1[:6144] = Sigma_init\n",
    "# s2 = np.zeros(10000)\n",
    "# s2[:6144] = 1"
   ]
  },
  {
   "cell_type": "code",
   "execution_count": 73,
   "metadata": {},
   "outputs": [],
   "source": [
    "# (V_init @ V_init2.T) @ (s2 * V_init2)"
   ]
  },
  {
   "cell_type": "code",
   "execution_count": 90,
   "metadata": {},
   "outputs": [
    {
     "data": {
      "text/plain": [
       "((6144, 6144), (6144,), (10000, 10000))"
      ]
     },
     "execution_count": 90,
     "metadata": {},
     "output_type": "execute_result"
    }
   ],
   "source": [
    "U_init.shape, Sigma_init.shape, V_init.shape"
   ]
  },
  {
   "cell_type": "code",
   "execution_count": 91,
   "metadata": {},
   "outputs": [],
   "source": [
    "# (U_init * Sigma_init) @ V_init\n"
   ]
  },
  {
   "cell_type": "code",
   "execution_count": 92,
   "metadata": {},
   "outputs": [],
   "source": [
    "comp = 6144 #6144\n",
    "U, Sigma, V = U_init[:, :comp], Sigma_init[:comp], V_init[:comp]"
   ]
  },
  {
   "cell_type": "code",
   "execution_count": 93,
   "metadata": {},
   "outputs": [
    {
     "data": {
      "text/plain": [
       "(6144, 10000)"
      ]
     },
     "execution_count": 93,
     "metadata": {},
     "output_type": "execute_result"
    }
   ],
   "source": [
    "V.shape"
   ]
  },
  {
   "cell_type": "code",
   "execution_count": 195,
   "metadata": {},
   "outputs": [],
   "source": [
    "V = np.eye(10000)[:6144]"
   ]
  },
  {
   "cell_type": "code",
   "execution_count": 220,
   "metadata": {},
   "outputs": [],
   "source": [
    "alpha1 = get_alpha(funcs, V)\n",
    "alpha2 = get_alpha(funcs2, V)"
   ]
  },
  {
   "cell_type": "code",
   "execution_count": 221,
   "metadata": {},
   "outputs": [
    {
     "data": {
      "text/plain": [
       "(6144, 6144)"
      ]
     },
     "execution_count": 221,
     "metadata": {},
     "output_type": "execute_result"
    }
   ],
   "source": [
    "alpha1.shape"
   ]
  },
  {
   "cell_type": "code",
   "execution_count": 222,
   "metadata": {},
   "outputs": [],
   "source": [
    "betas1 = get_betas(funcs, V)\n",
    "betas2 =  get_betas(funcs2, V)"
   ]
  },
  {
   "cell_type": "code",
   "execution_count": 223,
   "metadata": {},
   "outputs": [],
   "source": [
    "# betas1@f"
   ]
  },
  {
   "cell_type": "code",
   "execution_count": 35,
   "metadata": {},
   "outputs": [],
   "source": [
    "# betas1.shape"
   ]
  },
  {
   "cell_type": "code",
   "execution_count": 36,
   "metadata": {},
   "outputs": [],
   "source": [
    "W10 = list(model1.parameters())[0].data.cpu().numpy()\n",
    "W20 = list(model2.parameters())[0].data.cpu().numpy()"
   ]
  },
  {
   "cell_type": "code",
   "execution_count": 37,
   "metadata": {},
   "outputs": [
    {
     "data": {
      "text/plain": [
       "((6144, 3072), (6144, 3072))"
      ]
     },
     "execution_count": 37,
     "metadata": {},
     "output_type": "execute_result"
    }
   ],
   "source": [
    "W10.shape, W20.shape"
   ]
  },
  {
   "cell_type": "code",
   "execution_count": 38,
   "metadata": {},
   "outputs": [
    {
     "ename": "NameError",
     "evalue": "name 'U_init0' is not defined",
     "output_type": "error",
     "traceback": [
      "\u001b[0;31m---------------------------------------------------------------------------\u001b[0m",
      "\u001b[0;31mNameError\u001b[0m                                 Traceback (most recent call last)",
      "\u001b[0;32m<ipython-input-38-567c11b091fe>\u001b[0m in \u001b[0;36m<module>\u001b[0;34m\u001b[0m\n\u001b[0;32m----> 1\u001b[0;31m \u001b[0mU_init0\u001b[0m\u001b[0;34m.\u001b[0m\u001b[0mshape\u001b[0m\u001b[0;34m\u001b[0m\u001b[0;34m\u001b[0m\u001b[0m\n\u001b[0m",
      "\u001b[0;31mNameError\u001b[0m: name 'U_init0' is not defined"
     ]
    }
   ],
   "source": [
    "U_init0.shape"
   ]
  },
  {
   "cell_type": "code",
   "execution_count": 250,
   "metadata": {},
   "outputs": [],
   "source": [
    "W10_n = W10 @ U_init0\n",
    "W20_n = W20 @ U_init0"
   ]
  },
  {
   "cell_type": "code",
   "execution_count": 257,
   "metadata": {},
   "outputs": [
    {
     "data": {
      "text/plain": [
       "array([6.544975  , 5.4749255 , 5.3777485 , ..., 0.19082779, 0.18902187,\n",
       "       0.18870509], dtype=float32)"
      ]
     },
     "execution_count": 257,
     "metadata": {},
     "output_type": "execute_result"
    }
   ],
   "source": [
    "np.linalg.svd(W10)[1]"
   ]
  },
  {
   "cell_type": "code",
   "execution_count": 258,
   "metadata": {},
   "outputs": [
    {
     "data": {
      "text/plain": [
       "array([6.4968715 , 5.515618  , 5.3739834 , ..., 0.19163038, 0.1903389 ,\n",
       "       0.18875374], dtype=float32)"
      ]
     },
     "execution_count": 258,
     "metadata": {},
     "output_type": "execute_result"
    }
   ],
   "source": [
    "np.linalg.svd(W20)[1]"
   ]
  },
  {
   "cell_type": "code",
   "execution_count": 255,
   "metadata": {},
   "outputs": [
    {
     "data": {
      "text/plain": [
       "array([6.544975  , 5.4749255 , 5.3777485 , ..., 0.19082779, 0.18902187,\n",
       "       0.18870507], dtype=float32)"
      ]
     },
     "execution_count": 255,
     "metadata": {},
     "output_type": "execute_result"
    }
   ],
   "source": [
    "np.linalg.svd(W10_n)[1]"
   ]
  },
  {
   "cell_type": "code",
   "execution_count": 256,
   "metadata": {},
   "outputs": [
    {
     "data": {
      "text/plain": [
       "array([6.4968715 , 5.515618  , 5.3739834 , ..., 0.19163038, 0.1903389 ,\n",
       "       0.18875374], dtype=float32)"
      ]
     },
     "execution_count": 256,
     "metadata": {},
     "output_type": "execute_result"
    }
   ],
   "source": [
    "np.linalg.svd(W20_n)[1]"
   ]
  },
  {
   "cell_type": "code",
   "execution_count": 109,
   "metadata": {},
   "outputs": [
    {
     "name": "stdout",
     "output_type": "stream",
     "text": [
      "60.34\n"
     ]
    }
   ],
   "source": [
    "pred = W12 @ np.maximum(W11 @ np.maximum(W10 @ data.T, 0), 0)\n",
    "accuracy(pred.T)"
   ]
  },
  {
   "cell_type": "code",
   "execution_count": 114,
   "metadata": {},
   "outputs": [
    {
     "name": "stdout",
     "output_type": "stream",
     "text": [
      "60.34\n"
     ]
    }
   ],
   "source": [
    "pred = W12 @ np.maximum(W11 @ funcs.T, 0)\n",
    "accuracy(pred.T)"
   ]
  },
  {
   "cell_type": "code",
   "execution_count": 116,
   "metadata": {},
   "outputs": [
    {
     "data": {
      "text/plain": [
       "array([[ 0.00209087, -0.01183992, -0.03358892, ..., -0.01675107,\n",
       "         0.00135146, -0.01833726],\n",
       "       [-0.01591677, -0.00552126,  0.04036836, ..., -0.04225153,\n",
       "         0.01808026, -0.00903646],\n",
       "       [-0.00392423,  0.02599351, -0.00139501, ...,  0.0003346 ,\n",
       "        -0.01566672,  0.03327934],\n",
       "       ...,\n",
       "       [-0.01516421, -0.00625636,  0.00496992, ..., -0.01260684,\n",
       "         0.0340665 , -0.04136172],\n",
       "       [-0.00196367,  0.01392346, -0.02947181, ...,  0.00024454,\n",
       "        -0.06954266,  0.03346093],\n",
       "       [-0.01038512, -0.00194788,  0.0028613 , ...,  0.00840465,\n",
       "         0.04643633, -0.02032827]], dtype=float32)"
      ]
     },
     "execution_count": 116,
     "metadata": {},
     "output_type": "execute_result"
    }
   ],
   "source": [
    "W21 @ funcs2.T @ f_inv"
   ]
  },
  {
   "cell_type": "code",
   "execution_count": 128,
   "metadata": {},
   "outputs": [
    {
     "name": "stdout",
     "output_type": "stream",
     "text": [
      "52.12\n"
     ]
    }
   ],
   "source": [
    "pred = Connector(W12.T, W22.T).arc_connect(t=0.5)[1].T @ np.maximum(Connector((W21 @ funcs2.T @ f_inv), W11).arc_connect(t=0.5)[1] @  funcs.T, 0)\n",
    "accuracy(pred.T)"
   ]
  },
  {
   "cell_type": "code",
   "execution_count": 78,
   "metadata": {},
   "outputs": [
    {
     "name": "stdout",
     "output_type": "stream",
     "text": [
      "60.34\n"
     ]
    }
   ],
   "source": [
    "pred = W12 @ np.maximum(W11 @ funcs.T @ V.T @ V, 0)\n",
    "accuracy(pred.T)"
   ]
  },
  {
   "cell_type": "code",
   "execution_count": 85,
   "metadata": {},
   "outputs": [
    {
     "name": "stdout",
     "output_type": "stream",
     "text": [
      "8.780000000000001\n"
     ]
    }
   ],
   "source": [
    "pred = ( W22) @ np.maximum((W21 @ funcs.T @ V.T) @ V, 0)\n",
    "accuracy(pred.T)"
   ]
  },
  {
   "cell_type": "code",
   "execution_count": 77,
   "metadata": {},
   "outputs": [
    {
     "data": {
      "text/plain": [
       "((6144, 10000), (6144, 10000))"
      ]
     },
     "execution_count": 77,
     "metadata": {},
     "output_type": "execute_result"
    }
   ],
   "source": [
    "funcs.T.shape, V.shape"
   ]
  },
  {
   "cell_type": "code",
   "execution_count": 45,
   "metadata": {},
   "outputs": [
    {
     "name": "stdout",
     "output_type": "stream",
     "text": [
      "60.34\n"
     ]
    }
   ],
   "source": [
    "pred = W12 @ np.maximum(W11 @ funcs.T, 0)\n",
    "accuracy(pred.T)"
   ]
  },
  {
   "cell_type": "code",
   "execution_count": 59,
   "metadata": {},
   "outputs": [
    {
     "name": "stdout",
     "output_type": "stream",
     "text": [
      "60.33\n"
     ]
    }
   ],
   "source": [
    "def accuracy(pred, N=10000):\n",
    "    ens_acc = 100.0 * np.mean(np.argmax(pred[:N], axis=1) == targ[:N])\n",
    "    print(ens_acc)\n",
    "    \n",
    "pred = W12 @ np.maximum(W11 @ funcs.T[:, :6144] @  f_inv @ funcs.T, 0)\n",
    "accuracy(pred.T)"
   ]
  },
  {
   "cell_type": "code",
   "execution_count": 65,
   "metadata": {},
   "outputs": [
    {
     "name": "stdout",
     "output_type": "stream",
     "text": [
      "60.33\n"
     ]
    }
   ],
   "source": [
    "def accuracy(pred, N=10000):\n",
    "    ens_acc = 100.0 * np.mean(np.argmax(pred[:N], axis=1) == targ[:N])\n",
    "    print(ens_acc)\n",
    "    \n",
    "pred = W12 @ np.maximum(W11 @ funcs.T[:, :6144] @  f_inv @ funcs.T, 0)\n",
    "accuracy(pred.T)"
   ]
  },
  {
   "cell_type": "code",
   "execution_count": 98,
   "metadata": {},
   "outputs": [
    {
     "name": "stdout",
     "output_type": "stream",
     "text": [
      "60.34\n"
     ]
    }
   ],
   "source": [
    "pred = W12 @ np.maximum(W11 @ funcs.T[:, :] @  f_inv @ funcs.T, 0)\n",
    "accuracy(pred.T)"
   ]
  },
  {
   "cell_type": "code",
   "execution_count": null,
   "metadata": {},
   "outputs": [],
   "source": [
    "pred = W12 @ np.maximum(W11 @ funcs.T[:, :] @  f_inv @ funcs.T, 0)\n",
    "accuracy(pred.T)"
   ]
  },
  {
   "cell_type": "code",
   "execution_count": 99,
   "metadata": {},
   "outputs": [
    {
     "name": "stdout",
     "output_type": "stream",
     "text": [
      "60.050000000000004\n"
     ]
    }
   ],
   "source": [
    "pred = W22 @ np.maximum(W21 @ funcs2.T[:, :] @  f_inv @ funcs.T, 0)\n",
    "accuracy(pred.T)"
   ]
  },
  {
   "cell_type": "code",
   "execution_count": 101,
   "metadata": {},
   "outputs": [
    {
     "name": "stdout",
     "output_type": "stream",
     "text": [
      "45.72\n"
     ]
    }
   ],
   "source": [
    "Wn1 = W11 @ funcs.T[:, :] @  f_inv \n",
    "Wn2 = W21 @ funcs2.T[:, :] @  f_inv \n",
    "cntr = Connector(Wn1, Wn2)\n",
    "Wn = cntr.arc_connect(t=0.5)[1]\n",
    "\n",
    "pred = W22 @ np.maximum(Wn @ funcs.T, 0)\n",
    "accuracy(pred.T)"
   ]
  },
  {
   "cell_type": "code",
   "execution_count": 97,
   "metadata": {},
   "outputs": [
    {
     "data": {
      "text/plain": [
       "(10000, 6144)"
      ]
     },
     "execution_count": 97,
     "metadata": {},
     "output_type": "execute_result"
    }
   ],
   "source": [
    "f_inv.shape"
   ]
  },
  {
   "cell_type": "code",
   "execution_count": 72,
   "metadata": {},
   "outputs": [
    {
     "data": {
      "text/plain": [
       "(10, 10000)"
      ]
     },
     "execution_count": 72,
     "metadata": {},
     "output_type": "execute_result"
    }
   ],
   "source": [
    "pred.shape"
   ]
  },
  {
   "cell_type": "code",
   "execution_count": 61,
   "metadata": {},
   "outputs": [
    {
     "name": "stdout",
     "output_type": "stream",
     "text": [
      "60.419999999999995\n"
     ]
    }
   ],
   "source": [
    "    \n",
    "pred = W22 @ np.maximum(W21 @ funcs2.T, 0)\n",
    "accuracy(pred.T)"
   ]
  },
  {
   "cell_type": "code",
   "execution_count": 68,
   "metadata": {},
   "outputs": [
    {
     "name": "stdout",
     "output_type": "stream",
     "text": [
      "60.758463541666664\n"
     ]
    }
   ],
   "source": [
    "    \n",
    "pred = W22 @ np.maximum(W21 @ funcs2.T[:, :6144] @ f_inv @ funcs.T[:, :6144] , 0)\n",
    "accuracy(pred.T, N=6144) "
   ]
  },
  {
   "cell_type": "code",
   "execution_count": 70,
   "metadata": {},
   "outputs": [
    {
     "name": "stdout",
     "output_type": "stream",
     "text": [
      "42.07\n"
     ]
    }
   ],
   "source": [
    "    \n",
    "pred = W22 @ np.maximum(W21 @ funcs2.T[:, :6144] @ f_inv @ funcs.T[:, :] , 0)\n",
    "accuracy(pred.T) "
   ]
  },
  {
   "cell_type": "code",
   "execution_count": 64,
   "metadata": {},
   "outputs": [
    {
     "data": {
      "text/plain": [
       "((6144, 10000), (2000, 6144), (6144, 6144), (6144, 10000))"
      ]
     },
     "execution_count": 64,
     "metadata": {},
     "output_type": "execute_result"
    }
   ],
   "source": [
    "funcs.T.shape, W11.shape, f_inv.shape, funcs2.T.shape"
   ]
  },
  {
   "cell_type": "code",
   "execution_count": 49,
   "metadata": {},
   "outputs": [],
   "source": [
    "# f_inv = np.linalg.inv(funcs.T[:, :6144])"
   ]
  },
  {
   "cell_type": "code",
   "execution_count": 278,
   "metadata": {},
   "outputs": [
    {
     "data": {
      "text/plain": [
       "array([[-6.9393394e+01, -3.6944726e+00, -2.5505659e-01, ...,\n",
       "        -1.5883979e-03,  3.4995936e-03, -1.1651417e-03],\n",
       "       [-1.8697100e+01, -2.1300530e-01, -1.1048281e+01, ...,\n",
       "        -4.2271642e-03,  2.0189788e-03, -4.7966675e-04],\n",
       "       [-6.5082275e+01, -8.4967957e+00, -7.8768616e+01, ...,\n",
       "        -1.2863235e-04,  1.5900825e-03, -2.6306489e-03],\n",
       "       ...,\n",
       "       [-9.8739281e+01, -2.7278234e+01, -6.1139725e+01, ...,\n",
       "         1.7832149e-03, -1.2008103e-03,  4.6887463e-03],\n",
       "       [-3.4055332e+01,  1.4878210e+01, -2.6090891e+01, ...,\n",
       "         7.7544688e-03,  5.6731161e-03, -4.3090750e-03],\n",
       "       [ 1.9557550e+01,  1.3253250e+01, -2.7822254e+01, ...,\n",
       "        -1.9443581e-03,  1.5113211e-03,  2.5002116e-03]], dtype=float32)"
      ]
     },
     "execution_count": 278,
     "metadata": {},
     "output_type": "execute_result"
    }
   ],
   "source": [
    "W10_n* Sigma_init0"
   ]
  },
  {
   "cell_type": "code",
   "execution_count": 282,
   "metadata": {},
   "outputs": [
    {
     "name": "stdout",
     "output_type": "stream",
     "text": [
      "48.93\n"
     ]
    }
   ],
   "source": [
    "pred = W12 @ np.maximum(W11 @ np.maximum(((W10_n+W20_n)/2 * Sigma_init0) @ V_init0[:len(Sigma_init0)], 0), 0)\n",
    "accuracy(pred.T)"
   ]
  },
  {
   "cell_type": "code",
   "execution_count": null,
   "metadata": {},
   "outputs": [],
   "source": [
    "Connector(W10_n, W20_n).arc_connect(t=0.5)[1]"
   ]
  },
  {
   "cell_type": "code",
   "execution_count": 288,
   "metadata": {},
   "outputs": [
    {
     "name": "stdout",
     "output_type": "stream",
     "text": [
      "48.699999999999996\n"
     ]
    }
   ],
   "source": [
    "cntr = Connector(W10_n, W20_n)\n",
    "Wh0 = cntr.arc_connect(t=0.5)[1]\n",
    "pred = W12 @ np.maximum(W11 @ np.maximum((Wh0 * Sigma_init0) @ V_init0[:len(Sigma_init0)], 0), 0)\n",
    "accuracy(pred.T)"
   ]
  },
  {
   "cell_type": "code",
   "execution_count": 286,
   "metadata": {},
   "outputs": [
    {
     "name": "stdout",
     "output_type": "stream",
     "text": [
      "49.07\n"
     ]
    }
   ],
   "source": [
    "cntr = Connector(W10.T, W20.T)\n",
    "Wh0 = cntr.arc_connect(t=0.5)[1].T\n",
    "pred = W12 @ np.maximum(W11 @ np.maximum(Wh0 @ data.T, 0), 0)\n",
    "accuracy(pred.T)"
   ]
  },
  {
   "cell_type": "code",
   "execution_count": 39,
   "metadata": {},
   "outputs": [],
   "source": [
    "W11 = list(model1.parameters())[-2].data.cpu().numpy()\n",
    "W21 = list(model2.parameters())[-2].data.cpu().numpy()"
   ]
  },
  {
   "cell_type": "code",
   "execution_count": 40,
   "metadata": {},
   "outputs": [],
   "source": [
    "W12 = list(model1.parameters())[-1].data.cpu().numpy()\n",
    "W22 = list(model2.parameters())[-1].data.cpu().numpy()"
   ]
  },
  {
   "cell_type": "code",
   "execution_count": 41,
   "metadata": {},
   "outputs": [],
   "source": [
    "Wmodel1 = samples_per_layer(model1, bias=False)\n",
    "Wmodel2 = samples_per_layer(model2, bias=False)"
   ]
  },
  {
   "cell_type": "code",
   "execution_count": 229,
   "metadata": {},
   "outputs": [
    {
     "name": "stdout",
     "output_type": "stream",
     "text": [
      "(3072, 6144)\n",
      "(2000, 6144)\n",
      "(10, 2000)\n"
     ]
    }
   ],
   "source": [
    "Wmodel = []\n",
    "for i, (S1, S2) in enumerate(zip(Wmodel1, Wmodel2)):\n",
    "    if i==0:\n",
    "        print(S1.T.shape)\n",
    "        cntr = Connector(S1.T, S2.T)\n",
    "        S = cntr.lin_connect(t=0.5)[1].T\n",
    "    else:\n",
    "        print(S1.shape)\n",
    "        cntr = Connector(S1, S2)\n",
    "        S = cntr.lin_connect(t=0.5)[1]\n",
    "    Wmodel.append(S)"
   ]
  },
  {
   "cell_type": "code",
   "execution_count": 230,
   "metadata": {},
   "outputs": [],
   "source": [
    "model = get_model(Wmodel, architecture, bias=False, per_layer=True)\n",
    "funcs3 =  get_funcs(model, data='test')"
   ]
  },
  {
   "cell_type": "code",
   "execution_count": 231,
   "metadata": {},
   "outputs": [
    {
     "name": "stdout",
     "output_type": "stream",
     "text": [
      "train results {'nll': 1.9967549339294433, 'loss': 1.9967549339294433, 'accuracy': 51.482}\n",
      "test results {'nll': 2.162593546295166, 'loss': 2.162593546295166, 'accuracy': 29.76}\n"
     ]
    },
    {
     "data": {
      "text/plain": [
       "({'nll': 1.9967549339294433, 'loss': 1.9967549339294433, 'accuracy': 51.482},\n",
       " {'nll': 2.162593546295166, 'loss': 2.162593546295166, 'accuracy': 29.76})"
      ]
     },
     "execution_count": 231,
     "metadata": {},
     "output_type": "execute_result"
    }
   ],
   "source": [
    "model.cuda();\n",
    "model.eval();\n",
    "test_model(model, loaders, cuda=True)"
   ]
  },
  {
   "cell_type": "code",
   "execution_count": 232,
   "metadata": {},
   "outputs": [],
   "source": [
    "alpha3 = get_alpha(funcs3, V) \n",
    "betas3 =  get_betas(funcs3, V)\n",
    "# W31 = list(model.parameters())[-2].data.cpu().numpy()\n",
    "# W31 = list(model.parameters())[-2].data.cpu().numpy()"
   ]
  },
  {
   "cell_type": "code",
   "execution_count": 233,
   "metadata": {},
   "outputs": [],
   "source": [
    "# pred = np.maximum(funcs3 @ betas3.T @ alpha2.T @ W21.T, 0) @ W22.T\n",
    "# accuracy(pred)"
   ]
  },
  {
   "cell_type": "code",
   "execution_count": 267,
   "metadata": {},
   "outputs": [
    {
     "name": "stdout",
     "output_type": "stream",
     "text": [
      "39.86\n"
     ]
    }
   ],
   "source": [
    "pred = np.maximum(funcs3 @ betas3.T @ alpha2.T @ W21.T, 0) @ W22.T\n",
    "accuracy(pred)"
   ]
  },
  {
   "cell_type": "code",
   "execution_count": 235,
   "metadata": {},
   "outputs": [
    {
     "name": "stdout",
     "output_type": "stream",
     "text": [
      "48.93\n"
     ]
    }
   ],
   "source": [
    "pred = np.maximum(funcs3 @ betas3.T @ alpha1.T @ W11.T, 0) @ W12.T\n",
    "accuracy(pred)"
   ]
  },
  {
   "cell_type": "code",
   "execution_count": 236,
   "metadata": {},
   "outputs": [],
   "source": [
    "Wh1 = alpha1.T @ W11.T\n",
    "Wh2 = alpha2.T @ W21.T\n",
    "cntr = Connector(Wh1.T, Wh2.T)\n",
    "Wh = cntr.arc_connect(t=0.5)[1].T"
   ]
  },
  {
   "cell_type": "code",
   "execution_count": 237,
   "metadata": {},
   "outputs": [
    {
     "name": "stdout",
     "output_type": "stream",
     "text": [
      "51.76\n"
     ]
    }
   ],
   "source": [
    "pred = np.maximum(funcs @ betas1.T @ Wh, 0) @ (W12.T+W22.T)/2\n",
    "accuracy(pred)"
   ]
  },
  {
   "cell_type": "code",
   "execution_count": 238,
   "metadata": {},
   "outputs": [
    {
     "name": "stdout",
     "output_type": "stream",
     "text": [
      "9.51\n"
     ]
    }
   ],
   "source": [
    "pred = np.maximum(funcs2 @ betas2.T @ (alpha1.T @ W11.T + alpha2.T @ W21.T)/2, 0) @ (W12.T+W22.T)/2\n",
    "accuracy(pred)"
   ]
  },
  {
   "cell_type": "code",
   "execution_count": 239,
   "metadata": {},
   "outputs": [
    {
     "name": "stdout",
     "output_type": "stream",
     "text": [
      "11.91\n"
     ]
    }
   ],
   "source": [
    "pred = np.maximum(funcs2 @ betas2.T @ (alpha1.T @ W11.T + alpha1.T @ W11.T)/2, 0) @ (W12.T+W22.T)/2\n",
    "accuracy(pred)"
   ]
  },
  {
   "cell_type": "code",
   "execution_count": 268,
   "metadata": {},
   "outputs": [
    {
     "name": "stdout",
     "output_type": "stream",
     "text": [
      "60.34\n",
      "60.419999999999995\n",
      "60.34\n",
      "9.32\n",
      "60.050000000000004\n",
      "11.26\n"
     ]
    }
   ],
   "source": [
    "pred = np.maximum(funcs @ W11.T, 0) @ W12.T\n",
    "accuracy(pred)\n",
    "pred = np.maximum(funcs2 @ W21.T, 0) @ W22.T\n",
    "accuracy(pred)\n",
    "pred = np.maximum(funcs @ betas1.T @ alpha1.T @ W11.T, 0) @ W12.T\n",
    "accuracy(pred)\n",
    "pred = np.maximum(funcs2 @ betas2.T @ alpha2.T @ W21.T, 0) @ W22.T\n",
    "accuracy(pred)\n",
    "pred = np.maximum(funcs @ betas1.T @ alpha2.T @ W21.T, 0) @ W22.T\n",
    "accuracy(pred)\n",
    "pred = np.maximum(funcs2 @ betas2.T  @ alpha1.T @ W11.T, 0) @ W12.T\n",
    "accuracy(pred)"
   ]
  },
  {
   "cell_type": "code",
   "execution_count": 241,
   "metadata": {},
   "outputs": [],
   "source": [
    "g1 = get_funcs(model1, data='test', layer=1)\n",
    "g2 = get_funcs(model2, data='test', layer=1)\n"
   ]
  },
  {
   "cell_type": "code",
   "execution_count": 130,
   "metadata": {},
   "outputs": [
    {
     "ename": "NameError",
     "evalue": "name 'alpha1' is not defined",
     "output_type": "error",
     "traceback": [
      "\u001b[0;31m---------------------------------------------------------------------------\u001b[0m",
      "\u001b[0;31mNameError\u001b[0m                                 Traceback (most recent call last)",
      "\u001b[0;32m<ipython-input-130-2e0e3e85f162>\u001b[0m in \u001b[0;36m<module>\u001b[0;34m\u001b[0m\n\u001b[0;32m----> 1\u001b[0;31m \u001b[0mWh1\u001b[0m \u001b[0;34m=\u001b[0m \u001b[0malpha1\u001b[0m\u001b[0;34m.\u001b[0m\u001b[0mT\u001b[0m \u001b[0;34m@\u001b[0m \u001b[0mW11\u001b[0m\u001b[0;34m.\u001b[0m\u001b[0mT\u001b[0m\u001b[0;34m\u001b[0m\u001b[0;34m\u001b[0m\u001b[0m\n\u001b[0m\u001b[1;32m      2\u001b[0m \u001b[0mWh2\u001b[0m \u001b[0;34m=\u001b[0m \u001b[0malpha2\u001b[0m\u001b[0;34m.\u001b[0m\u001b[0mT\u001b[0m \u001b[0;34m@\u001b[0m \u001b[0mW21\u001b[0m\u001b[0;34m.\u001b[0m\u001b[0mT\u001b[0m\u001b[0;34m\u001b[0m\u001b[0;34m\u001b[0m\u001b[0m\n\u001b[1;32m      3\u001b[0m \u001b[0mcntr\u001b[0m \u001b[0;34m=\u001b[0m \u001b[0mConnector\u001b[0m\u001b[0;34m(\u001b[0m\u001b[0mWh1\u001b[0m\u001b[0;34m.\u001b[0m\u001b[0mT\u001b[0m\u001b[0;34m,\u001b[0m \u001b[0mWh2\u001b[0m\u001b[0;34m.\u001b[0m\u001b[0mT\u001b[0m\u001b[0;34m)\u001b[0m\u001b[0;34m\u001b[0m\u001b[0;34m\u001b[0m\u001b[0m\n\u001b[1;32m      4\u001b[0m \u001b[0mWh\u001b[0m \u001b[0;34m=\u001b[0m \u001b[0mcntr\u001b[0m\u001b[0;34m.\u001b[0m\u001b[0marc_connect\u001b[0m\u001b[0;34m(\u001b[0m\u001b[0mt\u001b[0m\u001b[0;34m=\u001b[0m\u001b[0;36m0.5\u001b[0m\u001b[0;34m)\u001b[0m\u001b[0;34m[\u001b[0m\u001b[0;36m1\u001b[0m\u001b[0;34m]\u001b[0m\u001b[0;34m.\u001b[0m\u001b[0mT\u001b[0m\u001b[0;34m\u001b[0m\u001b[0;34m\u001b[0m\u001b[0m\n\u001b[1;32m      5\u001b[0m \u001b[0mprint\u001b[0m\u001b[0;34m(\u001b[0m\u001b[0mWh1\u001b[0m\u001b[0;34m.\u001b[0m\u001b[0mshape\u001b[0m\u001b[0;34m)\u001b[0m\u001b[0;34m\u001b[0m\u001b[0;34m\u001b[0m\u001b[0m\n",
      "\u001b[0;31mNameError\u001b[0m: name 'alpha1' is not defined"
     ]
    }
   ],
   "source": [
    "Wh1 = alpha1.T @ W11.T\n",
    "Wh2 = alpha2.T @ W21.T\n",
    "cntr = Connector(Wh1.T, Wh2.T)\n",
    "Wh = cntr.arc_connect(t=0.5)[1].T\n",
    "print(Wh1.shape)\n",
    "\n",
    "g3 = np.maximum(funcs2 @ betas2.T @ Wh, 0)"
   ]
  },
  {
   "cell_type": "code",
   "execution_count": 157,
   "metadata": {},
   "outputs": [],
   "source": [
    "U_init2, Sigma_init2, V_init2 = np.linalg.svd(g1.T)"
   ]
  },
  {
   "cell_type": "code",
   "execution_count": 158,
   "metadata": {},
   "outputs": [
    {
     "data": {
      "text/plain": [
       "((2000, 2000), (2000,), (10000, 10000))"
      ]
     },
     "execution_count": 158,
     "metadata": {},
     "output_type": "execute_result"
    }
   ],
   "source": [
    "U_init2.shape, Sigma_init2.shape, V_init2.shape"
   ]
  },
  {
   "cell_type": "code",
   "execution_count": 159,
   "metadata": {},
   "outputs": [],
   "source": [
    "comp = 10000\n",
    "U2, Sigma2, V2 = U_init2[:, :comp], Sigma_init2[:comp], V_init2[:comp]"
   ]
  },
  {
   "cell_type": "code",
   "execution_count": 160,
   "metadata": {},
   "outputs": [],
   "source": [
    "V2 = np.eye(10000)"
   ]
  },
  {
   "cell_type": "code",
   "execution_count": null,
   "metadata": {},
   "outputs": [],
   "source": []
  },
  {
   "cell_type": "code",
   "execution_count": 161,
   "metadata": {},
   "outputs": [],
   "source": [
    "alpha12 = get_alpha(g1, V2)\n",
    "alpha22 = get_alpha(g2, V2)\n",
    "\n",
    "betas12 = get_betas(g1, V2)\n",
    "betas22 =  get_betas(g2, V2)\n"
   ]
  },
  {
   "cell_type": "code",
   "execution_count": 162,
   "metadata": {},
   "outputs": [],
   "source": [
    "alpha32 = get_alpha(g3, V2) \n",
    "betas32 =  get_betas(g3, V2)"
   ]
  },
  {
   "cell_type": "code",
   "execution_count": 163,
   "metadata": {},
   "outputs": [
    {
     "name": "stdout",
     "output_type": "stream",
     "text": [
      "58.45\n"
     ]
    }
   ],
   "source": [
    "pred = g3 @ betas32.T @ alpha12.T @ W12.T\n",
    "accuracy(pred)"
   ]
  },
  {
   "cell_type": "code",
   "execution_count": 164,
   "metadata": {},
   "outputs": [
    {
     "name": "stdout",
     "output_type": "stream",
     "text": [
      "58.45\n"
     ]
    }
   ],
   "source": [
    "pred = g3 @ betas32.T @ alpha22.T @ W22.T\n",
    "accuracy(pred)"
   ]
  },
  {
   "cell_type": "code",
   "execution_count": 129,
   "metadata": {},
   "outputs": [
    {
     "ename": "NameError",
     "evalue": "name 'g3' is not defined",
     "output_type": "error",
     "traceback": [
      "\u001b[0;31m---------------------------------------------------------------------------\u001b[0m",
      "\u001b[0;31mNameError\u001b[0m                                 Traceback (most recent call last)",
      "\u001b[0;32m<ipython-input-129-149269c80c97>\u001b[0m in \u001b[0;36m<module>\u001b[0;34m\u001b[0m\n\u001b[0;32m----> 1\u001b[0;31m \u001b[0mpred\u001b[0m \u001b[0;34m=\u001b[0m \u001b[0mg3\u001b[0m \u001b[0;34m@\u001b[0m \u001b[0mbetas32\u001b[0m\u001b[0;34m.\u001b[0m\u001b[0mT\u001b[0m \u001b[0;34m@\u001b[0m \u001b[0;34m(\u001b[0m\u001b[0malpha12\u001b[0m\u001b[0;34m.\u001b[0m\u001b[0mT\u001b[0m \u001b[0;34m@\u001b[0m \u001b[0mW12\u001b[0m\u001b[0;34m.\u001b[0m\u001b[0mT\u001b[0m \u001b[0;34m+\u001b[0m \u001b[0malpha22\u001b[0m\u001b[0;34m.\u001b[0m\u001b[0mT\u001b[0m \u001b[0;34m@\u001b[0m \u001b[0mW22\u001b[0m\u001b[0;34m.\u001b[0m\u001b[0mT\u001b[0m\u001b[0;34m)\u001b[0m\u001b[0;34m/\u001b[0m\u001b[0;36m2\u001b[0m\u001b[0;34m\u001b[0m\u001b[0;34m\u001b[0m\u001b[0m\n\u001b[0m\u001b[1;32m      2\u001b[0m \u001b[0maccuracy\u001b[0m\u001b[0;34m(\u001b[0m\u001b[0mpred\u001b[0m\u001b[0;34m)\u001b[0m\u001b[0;34m\u001b[0m\u001b[0;34m\u001b[0m\u001b[0m\n",
      "\u001b[0;31mNameError\u001b[0m: name 'g3' is not defined"
     ]
    }
   ],
   "source": [
    "pred = g3 @ betas32.T @ (alpha12.T @ W12.T + alpha22.T @ W22.T)/2\n",
    "accuracy(pred)"
   ]
  },
  {
   "cell_type": "code",
   "execution_count": 180,
   "metadata": {},
   "outputs": [
    {
     "name": "stdout",
     "output_type": "stream",
     "text": [
      "59.309999999999995\n"
     ]
    }
   ],
   "source": [
    "Wh1 = alpha12.T @ W12.T\n",
    "Wh2 = alpha22.T @ W22.T\n",
    "cntr = Connector(Wh1.T, Wh2.T)\n",
    "Whh = cntr.arc_connect(t=0.5)[1].T\n",
    "pred = g3 @ betas32.T @ Whh\n",
    "accuracy(pred)"
   ]
  },
  {
   "cell_type": "code",
   "execution_count": 178,
   "metadata": {},
   "outputs": [
    {
     "name": "stdout",
     "output_type": "stream",
     "text": [
      "59.150000000000006\n"
     ]
    }
   ],
   "source": [
    "pred = g3 @ betas32.T @ Whh\n",
    "accuracy(pred)"
   ]
  },
  {
   "cell_type": "code",
   "execution_count": 130,
   "metadata": {},
   "outputs": [
    {
     "name": "stdout",
     "output_type": "stream",
     "text": [
      "60.86\n"
     ]
    }
   ],
   "source": [
    "pred = g1 @ betas12.T @ (alpha12.T @ W12.T + alpha22.T @ W22.T)/2\n",
    "accuracy(pred)"
   ]
  },
  {
   "cell_type": "code",
   "execution_count": 131,
   "metadata": {},
   "outputs": [
    {
     "name": "stdout",
     "output_type": "stream",
     "text": [
      "60.34\n"
     ]
    }
   ],
   "source": [
    "pred = g1 @ betas12.T @ alpha12.T @ W12.T\n",
    "accuracy(pred)"
   ]
  },
  {
   "cell_type": "code",
   "execution_count": 132,
   "metadata": {},
   "outputs": [
    {
     "name": "stdout",
     "output_type": "stream",
     "text": [
      "59.95\n"
     ]
    }
   ],
   "source": [
    "pred = g2 @ betas22.T @ alpha12.T @ W12.T\n",
    "accuracy(pred)"
   ]
  },
  {
   "cell_type": "code",
   "execution_count": 133,
   "metadata": {},
   "outputs": [
    {
     "name": "stdout",
     "output_type": "stream",
     "text": [
      "60.419999999999995\n"
     ]
    }
   ],
   "source": [
    "pred = g2 @ betas22.T @ alpha22.T @ W22.T\n",
    "accuracy(pred)"
   ]
  },
  {
   "cell_type": "code",
   "execution_count": 134,
   "metadata": {},
   "outputs": [
    {
     "name": "stdout",
     "output_type": "stream",
     "text": [
      "59.699999999999996\n"
     ]
    }
   ],
   "source": [
    "pred = g1 @ betas12.T @ alpha22.T @ W22.T\n",
    "accuracy(pred)"
   ]
  },
  {
   "cell_type": "code",
   "execution_count": null,
   "metadata": {},
   "outputs": [],
   "source": []
  }
 ],
 "metadata": {
  "kernelspec": {
   "display_name": "Python 3",
   "language": "python",
   "name": "python3"
  },
  "language_info": {
   "codemirror_mode": {
    "name": "ipython",
    "version": 3
   },
   "file_extension": ".py",
   "mimetype": "text/x-python",
   "name": "python",
   "nbconvert_exporter": "python",
   "pygments_lexer": "ipython3",
   "version": "3.6.7"
  }
 },
 "nbformat": 4,
 "nbformat_minor": 2
}
