{
 "cells": [
  {
   "cell_type": "code",
   "execution_count": 1,
   "metadata": {},
   "outputs": [],
   "source": [
    "import sys\n",
    "sys.path.append('/home/ivan/distribution_connector')\n",
    "import os"
   ]
  },
  {
   "cell_type": "code",
   "execution_count": 2,
   "metadata": {},
   "outputs": [],
   "source": [
    "from sklearn import datasets\n",
    "import numpy as np\n",
    "import torch\n",
    "from tqdm import tqdm\n",
    "from connector_utils import test_models, gather_statistics, test_func\n",
    "import matplotlib.pyplot as plt"
   ]
  },
  {
   "cell_type": "code",
   "execution_count": 3,
   "metadata": {},
   "outputs": [],
   "source": [
    "from connector import Connector\n",
    "# from one_layer_utils import samples, make_dataset, get_model, get_b\n",
    "from utils import test_model\n",
    "from flows.models.utils import test_flow"
   ]
  },
  {
   "cell_type": "markdown",
   "metadata": {},
   "source": [
    "# MNIST"
   ]
  },
  {
   "cell_type": "code",
   "execution_count": 7,
   "metadata": {},
   "outputs": [
    {
     "name": "stdout",
     "output_type": "stream",
     "text": [
      "You are going to run models on the test set. Are you sure?\n"
     ]
    }
   ],
   "source": [
    "import models\n",
    "architecture = getattr(models, \"LinearOneLayer\") #LinearOneLayer LogRegression\n",
    "\n",
    "import data\n",
    "loaders, num_classes = data.loaders(\n",
    "    \"MNIST\",\n",
    "    \"data\",\n",
    "    1024,\n",
    "    1,\n",
    "    \"VGG\",\n",
    "    True)\n",
    "\n",
    "model1 = architecture.base(num_classes=10, **architecture.kwargs)\n",
    "model2 = architecture.base(num_classes=10, **architecture.kwargs)\n",
    "\n",
    "model1.load_state_dict(torch.load('curves_mnist/LinearOneLayer/LongTraining/curve16/checkpoint-30.pt')['model_state'])\n",
    "model2.load_state_dict(torch.load('curves_mnist/LinearOneLayer/LongTraining/curve17/checkpoint-30.pt')['model_state'])\n",
    "\n",
    "import pickle\n",
    "data_path = '/home/ivan/dnn-mode-connectivity/data/MNIST.pickle'\n",
    "with open(data_path, 'rb') as handle:\n",
    "    dataset, B = pickle.load(handle)\n",
    "b2 = torch.FloatTensor([np.array(B).mean(0)])\n",
    "b = np.array(B).mean(0)\n",
    "\n",
    "train_dataset, test_dataset = dataset[:-8000], dataset[-8000:]\n",
    "modes = [dataset[-4000:-2000], dataset[-2000:]]"
   ]
  },
  {
   "cell_type": "code",
   "execution_count": 12,
   "metadata": {},
   "outputs": [
    {
     "name": "stdout",
     "output_type": "stream",
     "text": [
      "train results {'nll': 0.03891415004928907, 'loss': 0.03891415004928907, 'accuracy': 99.14333333333333}\n",
      "test results {'nll': 0.06730707376003266, 'loss': 0.06730707376003266, 'accuracy': 97.95}\n",
      "train results {'nll': 0.039054598027467725, 'loss': 0.039054598027467725, 'accuracy': 99.145}\n",
      "test results {'nll': 0.06708879473209381, 'loss': 0.06708879473209381, 'accuracy': 98.03}\n",
      "train results {'nll': 0.03940047723849614, 'loss': 0.03940047723849614, 'accuracy': 99.12833333333333}\n",
      "test results {'nll': 0.06816846108436585, 'loss': 0.06816846108436585, 'accuracy': 97.98}\n",
      "train results {'nll': 0.039004734847942986, 'loss': 0.039004734847942986, 'accuracy': 99.13666666666667}\n",
      "test results {'nll': 0.06703689527511597, 'loss': 0.06703689527511597, 'accuracy': 97.99}\n",
      "train results {'nll': 0.0389949737071991, 'loss': 0.0389949737071991, 'accuracy': 99.15166666666667}\n",
      "test results {'nll': 0.0677187137722969, 'loss': 0.0677187137722969, 'accuracy': 97.99}\n",
      "train results {'nll': 0.038988523644208906, 'loss': 0.038988523644208906, 'accuracy': 99.145}\n",
      "test results {'nll': 0.06702336953878403, 'loss': 0.06702336953878403, 'accuracy': 98.02}\n",
      "train results {'nll': 0.03894316188295682, 'loss': 0.03894316188295682, 'accuracy': 99.14166666666667}\n",
      "test results {'nll': 0.06751221206188202, 'loss': 0.06751221206188202, 'accuracy': 98.04}\n",
      "train results {'nll': 0.03913569076657295, 'loss': 0.03913569076657295, 'accuracy': 99.14166666666667}\n",
      "test results {'nll': 0.06730295692682266, 'loss': 0.06730295692682266, 'accuracy': 98.0}\n",
      "train results {'nll': 0.039205350402990974, 'loss': 0.039205350402990974, 'accuracy': 99.15}\n",
      "test results {'nll': 0.06743125017881393, 'loss': 0.06743125017881393, 'accuracy': 98.03}\n",
      "train results {'nll': 0.038849971344073614, 'loss': 0.038849971344073614, 'accuracy': 99.12}\n",
      "test results {'nll': 0.06675445926189423, 'loss': 0.06675445926189423, 'accuracy': 98.06}\n",
      "train results {'nll': 0.039014838816722235, 'loss': 0.039014838816722235, 'accuracy': 99.145}\n",
      "test results {'nll': 0.06770013463497161, 'loss': 0.06770013463497161, 'accuracy': 98.0}\n",
      "train results {'nll': 0.03921978983481725, 'loss': 0.03921978983481725, 'accuracy': 99.13333333333334}\n",
      "test results {'nll': 0.06765862264633178, 'loss': 0.06765862264633178, 'accuracy': 98.06}\n",
      "train results {'nll': 0.03908732688228289, 'loss': 0.03908732688228289, 'accuracy': 99.12833333333333}\n",
      "test results {'nll': 0.06718840792179108, 'loss': 0.06718840792179108, 'accuracy': 98.01}\n",
      "train results {'nll': 0.0392131312529246, 'loss': 0.0392131312529246, 'accuracy': 99.15833333333333}\n",
      "test results {'nll': 0.06704529867172242, 'loss': 0.06704529867172242, 'accuracy': 98.01}\n",
      "train results {'nll': 0.0391340946594874, 'loss': 0.0391340946594874, 'accuracy': 99.12333333333333}\n",
      "test results {'nll': 0.0671922970533371, 'loss': 0.0671922970533371, 'accuracy': 98.0}\n",
      "train results {'nll': 0.039321161297957104, 'loss': 0.039321161297957104, 'accuracy': 99.13833333333334}\n",
      "test results {'nll': 0.06698885906934739, 'loss': 0.06698885906934739, 'accuracy': 98.03}\n",
      "train results {'nll': 0.03909178095261256, 'loss': 0.03909178095261256, 'accuracy': 99.13666666666667}\n",
      "test results {'nll': 0.06854327906370163, 'loss': 0.06854327906370163, 'accuracy': 98.02}\n",
      "train results {'nll': 0.038939054107666016, 'loss': 0.038939054107666016, 'accuracy': 99.155}\n",
      "test results {'nll': 0.06739742512702943, 'loss': 0.06739742512702943, 'accuracy': 98.0}\n",
      "train results {'nll': 0.03914333435495695, 'loss': 0.03914333435495695, 'accuracy': 99.14333333333333}\n",
      "test results {'nll': 0.06738635473251343, 'loss': 0.06738635473251343, 'accuracy': 98.08}\n"
     ]
    }
   ],
   "source": [
    "te_list = []\n",
    "tr_list = []\n",
    "for i in range(1, 20):\n",
    "    path = 'curves_mnist/LinearOneLayer/LongTraining/curve'+str(i)+'/checkpoint-30.pt'\n",
    "    model1.load_state_dict(torch.load(path)['model_state'])\n",
    "    model1.cuda()\n",
    "    tr, te = test_model(model1, loaders, cuda=True)\n",
    "    te_list.append(te['accuracy'])\n",
    "    tr_list.append(tr['accuracy'])\n",
    "    \n",
    "te_list = np.array(te_list)\n",
    "tr_list = np.array(tr_list)"
   ]
  },
  {
   "cell_type": "code",
   "execution_count": 13,
   "metadata": {},
   "outputs": [],
   "source": [
    "te_list = np.array(te_list)\n",
    "tr_list = np.array(tr_list)"
   ]
  },
  {
   "cell_type": "code",
   "execution_count": 14,
   "metadata": {},
   "outputs": [
    {
     "data": {
      "text/plain": [
       "(98.01578947368422,\n",
       " 0.030142781185845187,\n",
       " 99.14026315789475,\n",
       " 0.010047593728614407)"
      ]
     },
     "execution_count": 14,
     "metadata": {},
     "output_type": "execute_result"
    }
   ],
   "source": [
    "te_list.mean(), te_list.std(), tr_list.mean(), tr_list.std()"
   ]
  },
  {
   "cell_type": "code",
   "execution_count": 5,
   "metadata": {},
   "outputs": [],
   "source": [
    "cntr = Connector(None, None)"
   ]
  },
  {
   "cell_type": "markdown",
   "metadata": {},
   "source": [
    "# MNIST PCA"
   ]
  },
  {
   "cell_type": "code",
   "execution_count": 6,
   "metadata": {},
   "outputs": [],
   "source": [
    "# import models\n",
    "# architecture = getattr(models, \"LinearOneLayer\") #LinearOneLayer LogRegression\n",
    "\n",
    "# import data\n",
    "# loaders, num_classes = data.loaders(\n",
    "#     \"MNIST\",\n",
    "#     \"data\",\n",
    "#     1024,\n",
    "#     1,\n",
    "#     \"VGG\",\n",
    "#     True)\n",
    "\n",
    "# import pickle\n",
    "# data_path = '/home/ivan/dnn-mode-connectivity/data/MNIST_PCA.pickle'\n",
    "# with open(data_path, 'rb') as handle:\n",
    "#     dataset, B, transformation = pickle.load(handle)\n",
    "# b2 = torch.FloatTensor([np.array(B).mean(0)])\n",
    "# b = np.array(B).mean(0)\n",
    "\n",
    "# train_dataset, test_dataset = dataset[:-8000], dataset[-8000:]\n",
    "# modes = [dataset[-4000:-2000], dataset[-2000:]]"
   ]
  },
  {
   "cell_type": "code",
   "execution_count": 7,
   "metadata": {},
   "outputs": [
    {
     "data": {
      "text/plain": [
       "(8000, 795)"
      ]
     },
     "execution_count": 7,
     "metadata": {},
     "output_type": "execute_result"
    }
   ],
   "source": [
    "test_dataset.shape"
   ]
  },
  {
   "cell_type": "code",
   "execution_count": 8,
   "metadata": {},
   "outputs": [],
   "source": [
    "# from flows.models import RealNVP, RealNVP_OneLayer_full, IAF_OneLayer_full\n",
    "# flow = RealNVP_OneLayer_full(in_dim=80, dim_middle=200, N_layers=5, batch_norm=False, data_b2=b, transPSA=transformation)\n",
    "# flow.load_state_dict(torch.load('/home/ivan/distribution_connector/flow_models/RealNVP/MNIST_PCA_bijection3/checkpoint-2.pt')['model_state'])\n"
   ]
  },
  {
   "cell_type": "code",
   "execution_count": 9,
   "metadata": {},
   "outputs": [],
   "source": [
    "# flow.cuda();\n",
    "# test_flow(flow, architecture, loaders, b2, cntr=None, verbose=True,\n",
    "#               test_sampling=True, test_flow=False, cuda=True, transPSA=transformation)"
   ]
  },
  {
   "cell_type": "code",
   "execution_count": 10,
   "metadata": {},
   "outputs": [],
   "source": [
    "# flow.cuda();\n",
    "# stat_dict, stat_dict_mean, stat_dict_std = gather_statistics(dataset[-8000:], \n",
    "#                                                              loaders, b2, architecture, \n",
    "#                                                              flow=flow, K=80, t=0.5, \n",
    "#                                                              verbose=True, func_name=['flow_connect'],\n",
    "#                                                              save_stat=True, path='stat/MNIST/bijectionPCA',\n",
    "#                                                              transPSA=transformation)"
   ]
  },
  {
   "cell_type": "markdown",
   "metadata": {},
   "source": [
    "# Gavering sample and error time plots on MNIST"
   ]
  },
  {
   "cell_type": "code",
   "execution_count": 11,
   "metadata": {},
   "outputs": [],
   "source": [
    "funcs = [func for func in dir(cntr) if callable(getattr(cntr, func)) and 'connect' in func \n",
    "         and 'flow' not in func and 'third_cumulant' not in func]"
   ]
  },
  {
   "cell_type": "code",
   "execution_count": 12,
   "metadata": {},
   "outputs": [
    {
     "data": {
      "text/plain": [
       "['arc_connect',\n",
       " 'arc_connect_PCA',\n",
       " 'inverse_connect',\n",
       " 'inverse_connect_PCA',\n",
       " 'lin_connect',\n",
       " 'simul_diag_connect']"
      ]
     },
     "execution_count": 12,
     "metadata": {},
     "output_type": "execute_result"
    }
   ],
   "source": [
    "funcs"
   ]
  },
  {
   "cell_type": "code",
   "execution_count": 13,
   "metadata": {
    "scrolled": false
   },
   "outputs": [],
   "source": [
    "# for func_name in funcs:\n",
    "#     t = np.linspace(0,1, 61)[1:-1]\n",
    "#     stat = test_func(modes, loaders, b, architecture, func_name, flow=None, K=80, t=t, \n",
    "#                      show=False, verbose=False, save_pic=True, path='MNIST', save_samples=False,\n",
    "#                      test_models=True, compute_distribution_stat=False, show_type='hex')\n",
    "#     t = np.linspace(0,1, 5)[1:-1]\n",
    "#     stat = test_func(modes, loaders, b, architecture, func_name, flow=None, K=80, t=t, \n",
    "#                      show=False, verbose=False, save_pic=False, path='MNIST', save_samples=True)\n",
    "    "
   ]
  },
  {
   "cell_type": "markdown",
   "metadata": {},
   "source": [
    "## flow "
   ]
  },
  {
   "cell_type": "code",
   "execution_count": 14,
   "metadata": {},
   "outputs": [],
   "source": [
    "# '/home/ivan/distribution_connector/flow_models/Flow_IAF/MNIST_flow/checkpoint-150.pt'\n",
    "# from flows.models import RealNVP, RealNVP_OneLayer_full, IAF_OneLayer_full\n",
    "# flow = IAF_OneLayer_full(in_dim=795, dim_middle=795, N_layers=2, batch_norm=False, data_b2=b)\n",
    "# flow.load_state_dict(torch.load('/home/ivan/distribution_connector/flow_models/Flow_IAF/MNIST_flow/checkpoint-120.pt')['model_state'])\n",
    "\n",
    "\n",
    "# flow.cuda();\n"
   ]
  },
  {
   "cell_type": "code",
   "execution_count": 17,
   "metadata": {},
   "outputs": [
    {
     "name": "stdout",
     "output_type": "stream",
     "text": [
      "mask len 2\n"
     ]
    }
   ],
   "source": [
    "from flows.models import RealNVP, RealNVP_OneLayer_full\n",
    "\n",
    "flow = RealNVP_OneLayer_full(in_dim=795, dim_middle=2000, N_layers=1, batch_norm=True, data_b2=b)\n",
    "flow.load_state_dict(torch.load('/home/ivan/distribution_connector/flow_models/RealNVP/MNIST_bijection/checkpoint-20.pt')['model_state'])\n",
    "flow.cuda();\n"
   ]
  },
  {
   "cell_type": "code",
   "execution_count": null,
   "metadata": {},
   "outputs": [],
   "source": [
    "t = np.linspace(0,1, 61)[1:-1]\n",
    "stat = test_func(modes, loaders, b2, architecture, 'flow_connect', flow=flow, K=80, t=t, \n",
    "                     show=False, verbose=False, save_pic=True, path='MNIST', save_samples=False,\n",
    "                     test_models=True, compute_distribution_stat=False, show_type='hex')"
   ]
  },
  {
   "cell_type": "markdown",
   "metadata": {},
   "source": [
    "# Computing mean and std for different methods on MNIST"
   ]
  },
  {
   "cell_type": "markdown",
   "metadata": {},
   "source": [
    "## flow "
   ]
  },
  {
   "cell_type": "code",
   "execution_count": 36,
   "metadata": {},
   "outputs": [],
   "source": [
    "# checkpoint-20.pt -- top for MNIST bijection\n",
    "# checkpoint-7 top for CIFAR bijection\n",
    "# checkpoint-120 top for MNIST Flow IAF "
   ]
  },
  {
   "cell_type": "code",
   "execution_count": 61,
   "metadata": {},
   "outputs": [],
   "source": [
    "# '/home/ivan/distribution_connector/flow_models/Flow_IAF/MNIST_flow/checkpoint-150.pt'\n",
    "# from flows.models import RealNVP, RealNVP_OneLayer_full, IAF_OneLayer_full\n",
    "# flow = IAF_OneLayer_full(in_dim=795, dim_middle=795, N_layers=2, batch_norm=False, data_b2=b)\n",
    "# flow.load_state_dict(torch.load('/home/ivan/distribution_connector/flow_models/Flow_IAF/MNIST_flow/checkpoint-120.pt')['model_state'])\n",
    "\n",
    "\n",
    "\n"
   ]
  },
  {
   "cell_type": "code",
   "execution_count": 57,
   "metadata": {},
   "outputs": [],
   "source": [
    "# from flows.models import RealNVP, RealNVP_OneLayer_full\n",
    "\n",
    "# flow = RealNVP_OneLayer_full(in_dim=795, dim_middle=795, N_layers=1, batch_norm=True, data_b2=b)\n",
    "# flow.load_state_dict(torch.load('/home/ivan/distribution_connector/flow_models/RealNVP/MNIST_flow1/checkpoint-8.pt')['model_state'])\n",
    "\n"
   ]
  },
  {
   "cell_type": "code",
   "execution_count": 58,
   "metadata": {},
   "outputs": [],
   "source": [
    "# model = flow"
   ]
  },
  {
   "cell_type": "code",
   "execution_count": 59,
   "metadata": {},
   "outputs": [],
   "source": [
    "# b = b2\n",
    "# cuda = True\n",
    "# verbose = True\n",
    "# transPSA = None\n",
    "# model.eval()\n",
    "# res = model.sample(K=2000).cpu().data.numpy()\n",
    "# if transPSA is not None:\n",
    "#     res = transPSA.inverse_transform(res)\n",
    "# m = get_model(res, b, architecture)\n",
    "# if cuda:\n",
    "#     m.cuda()\n",
    "# result_s = test_model(m, loaders, verbose=verbose, cuda=cuda)"
   ]
  },
  {
   "cell_type": "code",
   "execution_count": 60,
   "metadata": {},
   "outputs": [
    {
     "name": "stdout",
     "output_type": "stream",
     "text": [
      "sampling testing\n",
      "train results {'nll': 0.1873208567937215, 'loss': 0.1873208567937215, 'accuracy': 94.21833333333333}\n",
      "test results {'nll': 0.19890189328193664, 'loss': 0.19890189328193664, 'accuracy': 94.02}\n"
     ]
    },
    {
     "data": {
      "text/plain": [
       "(({'nll': 0.1873208567937215,\n",
       "   'loss': 0.1873208567937215,\n",
       "   'accuracy': 94.21833333333333},\n",
       "  {'nll': 0.19890189328193664,\n",
       "   'loss': 0.19890189328193664,\n",
       "   'accuracy': 94.02}),\n",
       " None)"
      ]
     },
     "execution_count": 60,
     "metadata": {},
     "output_type": "execute_result"
    }
   ],
   "source": [
    "flow.cuda();\n",
    "test_flow(flow, architecture, loaders, b2, cntr=None, verbose=True,\n",
    "              test_sampling=True, test_flow=False, cuda=True, transPSA=None)"
   ]
  },
  {
   "cell_type": "code",
   "execution_count": 62,
   "metadata": {},
   "outputs": [],
   "source": [
    "# flow.cuda();\n",
    "# stat_dict, stat_dict_mean, stat_dict_std = gather_statistics(dataset[-8000:], \n",
    "#                                                              loaders, b2, architecture, \n",
    "#                                                              flow=flow, K=80, t=0.5, \n",
    "#                                                              verbose=True, func_name=['flow_connect'],\n",
    "#                                                              save_stat=True, path='stat/MNIST/IAFflow')"
   ]
  },
  {
   "cell_type": "markdown",
   "metadata": {},
   "source": [
    "## basic "
   ]
  },
  {
   "cell_type": "code",
   "execution_count": 17,
   "metadata": {},
   "outputs": [],
   "source": [
    "test_dataset = dataset[-8000:]"
   ]
  },
  {
   "cell_type": "code",
   "execution_count": 18,
   "metadata": {},
   "outputs": [],
   "source": [
    "funcs = [func for func in dir(cntr) if callable(getattr(cntr, func)) and 'connect' in func \n",
    "         and 'flow' not in func and 'third_cumulant' in func]"
   ]
  },
  {
   "cell_type": "code",
   "execution_count": 19,
   "metadata": {},
   "outputs": [
    {
     "name": "stderr",
     "output_type": "stream",
     "text": [
      "\n",
      "  0%|          | 0/4 [00:00<?, ?it/s]\u001b[A"
     ]
    },
    {
     "name": "stdout",
     "output_type": "stream",
     "text": [
      "N_models 4\n",
      "third_cumulant_connect\n",
      "c 1600.3411257129785 512000\n",
      "0.5\n",
      "train results {'nll': 0.8071608489990234, 'loss': 0.8071608489990234, 'accuracy': 75.44}\n",
      "test results {'nll': 0.788148390865326, 'loss': 0.788148390865326, 'accuracy': 76.12}\n",
      "third_cumulant_connect\n",
      "c 1594.631502638252 512000\n",
      "0.5\n",
      "train results {'nll': 0.6341616157531739, 'loss': 0.6341616157531739, 'accuracy': 78.96333333333334}\n",
      "test results {'nll': 0.6215544948577881, 'loss': 0.6215544948577881, 'accuracy': 79.51}\n",
      "third_cumulant_connect\n",
      "c 1602.5800297365204 512000\n",
      "0.5\n"
     ]
    },
    {
     "name": "stderr",
     "output_type": "stream",
     "text": [
      "\n",
      " 25%|██▌       | 1/4 [01:37<04:51, 97.16s/it]\u001b[A"
     ]
    },
    {
     "name": "stdout",
     "output_type": "stream",
     "text": [
      "train results {'nll': 0.7839152718226114, 'loss': 0.7839152718226114, 'accuracy': 72.36}\n",
      "test results {'nll': 0.7712775550842285, 'loss': 0.7712775550842285, 'accuracy': 72.52}\n",
      "third_cumulant_connect\n",
      "c 1601.0657202684679 512000\n",
      "0.5\n",
      "train results {'nll': 0.7509037694613139, 'loss': 0.7509037694613139, 'accuracy': 74.60666666666667}\n",
      "test results {'nll': 0.7424520283699035, 'loss': 0.7424520283699035, 'accuracy': 74.86}\n",
      "third_cumulant_connect\n",
      "c 1617.6414617463297 512000\n",
      "0.5\n"
     ]
    },
    {
     "name": "stderr",
     "output_type": "stream",
     "text": [
      "\n",
      " 50%|█████     | 2/4 [02:45<02:57, 88.53s/it]\u001b[A"
     ]
    },
    {
     "name": "stdout",
     "output_type": "stream",
     "text": [
      "train results {'nll': 0.8341048234621684, 'loss': 0.8341048234621684, 'accuracy': 73.07}\n",
      "test results {'nll': 0.8145449273109436, 'loss': 0.8145449273109436, 'accuracy': 73.45}\n",
      "third_cumulant_connect\n",
      "c 1609.567649403868 512000\n",
      "0.5\n"
     ]
    },
    {
     "name": "stderr",
     "output_type": "stream",
     "text": [
      "\n",
      " 75%|███████▌  | 3/4 [03:20<01:12, 72.53s/it]\u001b[A\n",
      "100%|██████████| 4/4 [03:20<00:00, 50.19s/it]\u001b[A"
     ]
    },
    {
     "name": "stdout",
     "output_type": "stream",
     "text": [
      "train results {'nll': 0.8697093101183574, 'loss': 0.8697093101183574, 'accuracy': 69.51166666666667}\n",
      "test results {'nll': 0.8651455919265747, 'loss': 0.8651455919265747, 'accuracy': 69.71}\n",
      "saving to  data/stat/MNIST/third_cumulanterror_stat.pickle\n"
     ]
    }
   ],
   "source": [
    "stat_dict, stat_dict_mean, stat_dict_std = gather_statistics(test_dataset, \n",
    "                                                             loaders, b2, architecture, \n",
    "                                                             flow=None, K=80, t=0.5, \n",
    "                                                             verbose=True, func_name=funcs,\n",
    "                                                             save_stat=True, path='stat/MNIST/third_cumulant')"
   ]
  },
  {
   "cell_type": "code",
   "execution_count": 24,
   "metadata": {},
   "outputs": [
    {
     "data": {
      "text/plain": [
       "({'train': {'arc_connect': 97.89348148148149,\n",
       "   'arc_connect_PCA': 97.66703703703703,\n",
       "   'inverse_connect': 97.84737037037036,\n",
       "   'inverse_connect_PCA': 97.46407407407409,\n",
       "   'lin_connect': 96.54114814814814,\n",
       "   'simul_diag_connect': 97.84322222222224},\n",
       "  'test': {'arc_connect': 97.03577777777775,\n",
       "   'arc_connect_PCA': 97.02199999999999,\n",
       "   'inverse_connect': 96.96955555555556,\n",
       "   'inverse_connect_PCA': 96.81,\n",
       "   'lin_connect': 95.87822222222223,\n",
       "   'simul_diag_connect': 97.00844444444445}},\n",
       " {'train': {'arc_connect': 0.11143166107154394,\n",
       "   'arc_connect_PCA': 0.09728974727356571,\n",
       "   'inverse_connect': 0.13658556260530705,\n",
       "   'inverse_connect_PCA': 0.11721224578692356,\n",
       "   'lin_connect': 0.41123118700219913,\n",
       "   'simul_diag_connect': 0.11861827977296019},\n",
       "  'test': {'arc_connect': 0.14210307509205192,\n",
       "   'arc_connect_PCA': 0.13511476603243608,\n",
       "   'inverse_connect': 0.16937736377103318,\n",
       "   'inverse_connect_PCA': 0.16152055252780917,\n",
       "   'lin_connect': 0.40518467059348473,\n",
       "   'simul_diag_connect': 0.1541565662356953}})"
      ]
     },
     "execution_count": 24,
     "metadata": {},
     "output_type": "execute_result"
    }
   ],
   "source": [
    "stat_dict_mean, stat_dict_std"
   ]
  },
  {
   "cell_type": "markdown",
   "metadata": {},
   "source": [
    "# CIFAR10"
   ]
  },
  {
   "cell_type": "code",
   "execution_count": 4,
   "metadata": {},
   "outputs": [
    {
     "name": "stdout",
     "output_type": "stream",
     "text": [
      "Files already downloaded and verified\n",
      "You are going to run models on the test set. Are you sure?\n",
      "Files already downloaded and verified\n"
     ]
    }
   ],
   "source": [
    "import models\n",
    "architecture = getattr(models, \"LinearOneLayerCF\") #LinearOneLayer LogRegression\n",
    "\n",
    "import data\n",
    "loaders, num_classes = data.loaders(\n",
    "    \"CIFAR10\",\n",
    "    \"data\",\n",
    "    1024,\n",
    "    1,\n",
    "    \"VGG\",\n",
    "    False)\n",
    "\n",
    "model1 = architecture.base(num_classes=10, **architecture.kwargs)\n",
    "model2 = architecture.base(num_classes=10, **architecture.kwargs)\n",
    "\n",
    "model1.load_state_dict(torch.load('curves/LinearOneLayer/curve16/checkpoint-400.pt')['model_state'])\n",
    "model2.load_state_dict(torch.load('curves/LinearOneLayer/curve17/checkpoint-400.pt')['model_state'])\n",
    "\n",
    "import pickle\n",
    "data_path = '/home/ivan/dnn-mode-connectivity/data/CIFAR.pickle'\n",
    "with open(data_path, 'rb') as handle:\n",
    "    dataset, B = pickle.load(handle)\n",
    "b2 =  torch.FloatTensor([np.array(B).mean(0)])\n",
    "b = np.array(B).mean(0)\n",
    "\n",
    "train_dataset, test_dataset = dataset[:-8000], dataset[-8000:]\n",
    "modes = [dataset[-4000:-2000], dataset[-2000:]]"
   ]
  },
  {
   "cell_type": "code",
   "execution_count": 13,
   "metadata": {},
   "outputs": [
    {
     "data": {
      "text/plain": [
       "PCA(copy=True, iterated_power='auto', n_components=80, random_state=1,\n",
       "  svd_solver='full', tol=0.0, whiten=False)"
      ]
     },
     "execution_count": 13,
     "metadata": {},
     "output_type": "execute_result"
    }
   ],
   "source": [
    "from sklearn.decomposition import PCA\n",
    "transformation = PCA(n_components=80, svd_solver='full', random_state=1)\n",
    "transformation.fit(dataset)"
   ]
  },
  {
   "cell_type": "code",
   "execution_count": 14,
   "metadata": {},
   "outputs": [],
   "source": [
    "dataset_PCA = transformation.transform(dataset)"
   ]
  },
  {
   "cell_type": "code",
   "execution_count": 15,
   "metadata": {},
   "outputs": [
    {
     "data": {
      "text/plain": [
       "((40000, 80), (40000, 3083))"
      ]
     },
     "execution_count": 15,
     "metadata": {},
     "output_type": "execute_result"
    }
   ],
   "source": [
    "dataset_PCA.shape, dataset.shape"
   ]
  },
  {
   "cell_type": "code",
   "execution_count": 20,
   "metadata": {},
   "outputs": [],
   "source": [
    "def PCA_TR(model):\n",
    "    print(model.shape, transformation.mean_.shape)\n",
    "    model = model - transformation.mean_\n",
    "    print(model.shape, transformation.components_.shape)\n",
    "    model = model @ transformation.components_.T\n",
    "    return model"
   ]
  },
  {
   "cell_type": "code",
   "execution_count": 21,
   "metadata": {},
   "outputs": [
    {
     "name": "stdout",
     "output_type": "stream",
     "text": [
      "(40000, 3083) (3083,)\n",
      "(40000, 3083) (80, 3083)\n"
     ]
    }
   ],
   "source": [
    "dataset_PCA2 = PCA_TR(dataset)"
   ]
  },
  {
   "cell_type": "code",
   "execution_count": 25,
   "metadata": {},
   "outputs": [
    {
     "data": {
      "text/plain": [
       "array([[ 0.08025937,  0.26700705,  0.03110478, ..., -0.02661011,\n",
       "        -0.15267825, -0.01615445],\n",
       "       [ 0.01122742,  0.02091683,  0.03171532, ...,  0.03098021,\n",
       "         0.00724024,  0.02485646],\n",
       "       [-0.24867547,  0.42444724, -0.03872361, ...,  0.06727547,\n",
       "         0.10987452, -0.0476301 ],\n",
       "       ...,\n",
       "       [-0.07434984,  0.05637497,  0.06242565, ..., -0.01822452,\n",
       "        -0.01985219,  0.03664694],\n",
       "       [ 0.1393429 ,  0.28890634, -0.07347254, ...,  0.06800801,\n",
       "         0.01303523, -0.02296821],\n",
       "       [-0.42998293,  0.48278493,  0.18912846, ..., -0.05500802,\n",
       "         0.06839504,  0.06823014]], dtype=float32)"
      ]
     },
     "execution_count": 25,
     "metadata": {},
     "output_type": "execute_result"
    }
   ],
   "source": [
    "dataset_PCA"
   ]
  },
  {
   "cell_type": "code",
   "execution_count": 24,
   "metadata": {},
   "outputs": [
    {
     "data": {
      "text/plain": [
       "array([[ 0.08025937,  0.26700705,  0.03110478, ..., -0.02661011,\n",
       "        -0.15267825, -0.01615445],\n",
       "       [ 0.01122742,  0.02091683,  0.03171532, ...,  0.03098021,\n",
       "         0.00724024,  0.02485646],\n",
       "       [-0.24867547,  0.42444724, -0.03872361, ...,  0.06727547,\n",
       "         0.10987452, -0.0476301 ],\n",
       "       ...,\n",
       "       [-0.07434984,  0.05637497,  0.06242565, ..., -0.01822452,\n",
       "        -0.01985219,  0.03664694],\n",
       "       [ 0.1393429 ,  0.28890634, -0.07347254, ...,  0.06800801,\n",
       "         0.01303523, -0.02296821],\n",
       "       [-0.42998293,  0.48278493,  0.18912846, ..., -0.05500802,\n",
       "         0.06839504,  0.06823014]], dtype=float32)"
      ]
     },
     "execution_count": 24,
     "metadata": {},
     "output_type": "execute_result"
    }
   ],
   "source": [
    "dataset_PCA2"
   ]
  },
  {
   "cell_type": "code",
   "execution_count": 17,
   "metadata": {},
   "outputs": [
    {
     "name": "stdout",
     "output_type": "stream",
     "text": [
      "train results {'nll': 0.8496363522338867, 'loss': 0.8496363522338867, 'accuracy': 70.452}\n",
      "test results {'nll': 1.3088677494049072, 'loss': 1.3088677494049072, 'accuracy': 58.83}\n",
      "train results {'nll': 0.8452534885978699, 'loss': 0.8452534885978699, 'accuracy': 70.65}\n",
      "test results {'nll': 1.298913423347473, 'loss': 1.298913423347473, 'accuracy': 59.53}\n",
      "train results {'nll': 0.8480340089988708, 'loss': 0.8480340089988708, 'accuracy': 70.538}\n",
      "test results {'nll': 1.3227679414749145, 'loss': 1.3227679414749145, 'accuracy': 59.11}\n",
      "train results {'nll': 0.8484666329956054, 'loss': 0.8484666329956054, 'accuracy': 70.484}\n",
      "test results {'nll': 1.3180574544906616, 'loss': 1.3180574544906616, 'accuracy': 59.4}\n",
      "train results {'nll': 0.8432427541923523, 'loss': 0.8432427541923523, 'accuracy': 70.814}\n",
      "test results {'nll': 1.3117229124069214, 'loss': 1.3117229124069214, 'accuracy': 59.09}\n",
      "train results {'nll': 0.8470813488197326, 'loss': 0.8470813488197326, 'accuracy': 70.676}\n",
      "test results {'nll': 1.309335548019409, 'loss': 1.309335548019409, 'accuracy': 59.51}\n",
      "train results {'nll': 0.8469090160942078, 'loss': 0.8469090160942078, 'accuracy': 70.826}\n",
      "test results {'nll': 1.3155865692138673, 'loss': 1.3155865692138673, 'accuracy': 58.91}\n",
      "train results {'nll': 0.8480380541229248, 'loss': 0.8480380541229248, 'accuracy': 70.694}\n",
      "test results {'nll': 1.3110736963272094, 'loss': 1.3110736963272094, 'accuracy': 59.03}\n",
      "train results {'nll': 0.849189211025238, 'loss': 0.849189211025238, 'accuracy': 70.672}\n",
      "test results {'nll': 1.313787916946411, 'loss': 1.313787916946411, 'accuracy': 58.95}\n",
      "train results {'nll': 0.8451738784217835, 'loss': 0.8451738784217835, 'accuracy': 70.684}\n",
      "test results {'nll': 1.3165094848632812, 'loss': 1.3165094848632812, 'accuracy': 59.01}\n",
      "train results {'nll': 0.8462108129882813, 'loss': 0.8462108129882813, 'accuracy': 70.658}\n",
      "test results {'nll': 1.30072581615448, 'loss': 1.30072581615448, 'accuracy': 59.02}\n",
      "train results {'nll': 0.8423525395011902, 'loss': 0.8423525395011902, 'accuracy': 70.764}\n",
      "test results {'nll': 1.3120720491409301, 'loss': 1.3120720491409301, 'accuracy': 59.25}\n",
      "train results {'nll': 0.8504306774520874, 'loss': 0.8504306774520874, 'accuracy': 70.402}\n",
      "test results {'nll': 1.3202203201293945, 'loss': 1.3202203201293945, 'accuracy': 58.53}\n",
      "train results {'nll': 0.8493988193893433, 'loss': 0.8493988193893433, 'accuracy': 70.49}\n",
      "test results {'nll': 1.3042619850158692, 'loss': 1.3042619850158692, 'accuracy': 59.17}\n",
      "train results {'nll': 0.8504048434066772, 'loss': 0.8504048434066772, 'accuracy': 70.614}\n",
      "test results {'nll': 1.3115662397384644, 'loss': 1.3115662397384644, 'accuracy': 58.91}\n",
      "train results {'nll': 0.8479871377944946, 'loss': 0.8479871377944946, 'accuracy': 70.436}\n",
      "test results {'nll': 1.313883560180664, 'loss': 1.313883560180664, 'accuracy': 58.9}\n",
      "train results {'nll': 0.8450906461715698, 'loss': 0.8450906461715698, 'accuracy': 70.692}\n",
      "test results {'nll': 1.3028342874526977, 'loss': 1.3028342874526977, 'accuracy': 59.53}\n",
      "train results {'nll': 0.850815382347107, 'loss': 0.850815382347107, 'accuracy': 70.442}\n",
      "test results {'nll': 1.3092656744003295, 'loss': 1.3092656744003295, 'accuracy': 59.34}\n",
      "train results {'nll': 0.8496593245506286, 'loss': 0.8496593245506286, 'accuracy': 70.592}\n",
      "test results {'nll': 1.3048617879867555, 'loss': 1.3048617879867555, 'accuracy': 59.33}\n"
     ]
    }
   ],
   "source": [
    "te_list = []\n",
    "tr_list = []\n",
    "for i in range(1, 20):\n",
    "    path = 'curves/LinearOneLayer/curve'+str(i)+'/checkpoint-400.pt'\n",
    "    model1.load_state_dict(torch.load(path)['model_state'])\n",
    "    model1.cuda()\n",
    "    tr, te = test_model(model1, loaders, cuda=True)\n",
    "    te_list.append(te['accuracy'])\n",
    "    tr_list.append(tr['accuracy'])\n",
    "    \n",
    "te_list = np.array(te_list)\n",
    "tr_list = np.array(tr_list)"
   ]
  },
  {
   "cell_type": "code",
   "execution_count": 18,
   "metadata": {},
   "outputs": [
    {
     "data": {
      "text/plain": [
       "(59.123684210526314,\n",
       " 0.26230176527519233,\n",
       " 70.60947368421053,\n",
       " 0.12687970615427344)"
      ]
     },
     "execution_count": 18,
     "metadata": {},
     "output_type": "execute_result"
    }
   ],
   "source": [
    "te_list.mean(), te_list.std(), tr_list.mean(), tr_list.std()"
   ]
  },
  {
   "cell_type": "markdown",
   "metadata": {},
   "source": [
    "# Gavering sample and error time plots on CIFAR10"
   ]
  },
  {
   "cell_type": "code",
   "execution_count": 5,
   "metadata": {
    "scrolled": false
   },
   "outputs": [],
   "source": [
    "# for func_name in funcs:\n",
    "#     t = np.linspace(0,1, 61)[1:-1]\n",
    "#     stat = test_func(modes, loaders, b2, architecture, func_name, flow=None, K=400, t=t, \n",
    "#                      show=False, verbose=False, save_pic=True, path='CIFAR', save_samples=False)\n",
    "#     t = np.linspace(0,1, 5)[1:-1]\n",
    "#     stat = test_func(modes, loaders, b2, architecture, func_name, flow=None, K=400, t=t, \n",
    "#                      show=False, verbose=False, save_pic=False, path='CIFAR', save_samples=True)"
   ]
  },
  {
   "cell_type": "markdown",
   "metadata": {},
   "source": [
    "## RNVP flow"
   ]
  },
  {
   "cell_type": "code",
   "execution_count": 6,
   "metadata": {},
   "outputs": [],
   "source": [
    "# t = np.linspace(0,1, 61)[1:-1]\n",
    "# stat = test_func(modes, loaders, b2, architecture, func_name='flow_connect', flow=flow, K=400, t=t, \n",
    "#                  show=False, verbose=False, save_pic=True, test_models=True, path='CIFAR', save_samples=False)"
   ]
  },
  {
   "cell_type": "code",
   "execution_count": 83,
   "metadata": {},
   "outputs": [],
   "source": [
    "# t = np.linspace(0,1, 5)[1:-1]\n",
    "# stat = test_func(modes, loaders, b2, architecture, func_name='flow_connect', flow=flow, K=400, t=t, \n",
    "#                  show=False, verbose=False, save_pic=False, path='CIFAR', save_samples=True)"
   ]
  },
  {
   "cell_type": "markdown",
   "metadata": {},
   "source": [
    "# Computing mean and std for different methods on CIFAR10"
   ]
  },
  {
   "cell_type": "code",
   "execution_count": 14,
   "metadata": {},
   "outputs": [
    {
     "name": "stdout",
     "output_type": "stream",
     "text": [
      "train results {'nll': 0.8489676392555237, 'loss': 0.8489676392555237, 'accuracy': 70.572}\n",
      "test results {'nll': 1.313883560180664, 'loss': 1.313883560180664, 'accuracy': 58.9}\n"
     ]
    },
    {
     "data": {
      "text/plain": [
       "({'nll': 0.8489676392555237, 'loss': 0.8489676392555237, 'accuracy': 70.572},\n",
       " {'nll': 1.313883560180664, 'loss': 1.313883560180664, 'accuracy': 58.9})"
      ]
     },
     "execution_count": 14,
     "metadata": {},
     "output_type": "execute_result"
    }
   ],
   "source": [
    "model1.cuda()\n",
    "test_model(model1, loaders, cuda=True)"
   ]
  },
  {
   "cell_type": "markdown",
   "metadata": {},
   "source": [
    "## flow"
   ]
  },
  {
   "cell_type": "code",
   "execution_count": 87,
   "metadata": {},
   "outputs": [
    {
     "name": "stdout",
     "output_type": "stream",
     "text": [
      "mask len 2\n"
     ]
    },
    {
     "data": {
      "text/plain": [
       "IncompatibleKeys(missing_keys=[], unexpected_keys=[])"
      ]
     },
     "execution_count": 87,
     "metadata": {},
     "output_type": "execute_result"
    }
   ],
   "source": [
    "from flows.models import RealNVP, RealNVP_OneLayer_full, IAF_OneLayer_full\n",
    "\n",
    "flow = RealNVP_OneLayer_full(in_dim=3083, dim_middle=3000, N_layers=1, batch_norm=False, data_b2=b)\n",
    "flow.load_state_dict(torch.load('/home/ivan/distribution_connector/flow_models/RealNVP/CIFAR_test1/checkpoint-7.pt')['model_state'])\n"
   ]
  },
  {
   "cell_type": "code",
   "execution_count": 88,
   "metadata": {},
   "outputs": [],
   "source": [
    "# from flows.models import RealNVP, RealNVP_OneLayer_full, IAF_OneLayer_full\n",
    "# flow = IAF_OneLayer_full(in_dim=3083, dim_middle=3000, N_layers=1, batch_norm=False, data_b2=b)\n",
    "# flow.load_state_dict(torch.load('/home/ivan/distribution_connector/flow_models/RealNVP/CIFAR_test1/checkpoint-7.pt')['model_state'])"
   ]
  },
  {
   "cell_type": "code",
   "execution_count": 89,
   "metadata": {},
   "outputs": [
    {
     "name": "stderr",
     "output_type": "stream",
     "text": [
      "\n",
      "\n",
      "  0%|          | 0/4 [00:00<?, ?it/s]\u001b[A\u001b[A"
     ]
    },
    {
     "name": "stdout",
     "output_type": "stream",
     "text": [
      "N_models 4\n",
      "flow_connect\n",
      "0.5\n",
      "train results {'nll': 1.0533692544174194, 'loss': 1.0533692544174194, 'accuracy': 63.456}\n",
      "test results {'nll': 1.6187260831832886, 'loss': 1.6187260831832886, 'accuracy': 53.59}\n",
      "flow_connect\n",
      "0.5\n",
      "train results {'nll': 1.0545070586013794, 'loss': 1.0545070586013794, 'accuracy': 63.1}\n",
      "test results {'nll': 1.7111023202896118, 'loss': 1.7111023202896118, 'accuracy': 52.64}\n",
      "flow_connect\n",
      "0.5\n"
     ]
    },
    {
     "name": "stderr",
     "output_type": "stream",
     "text": [
      "\n",
      "\n",
      " 25%|██▌       | 1/4 [01:00<03:01, 60.47s/it]\u001b[A\u001b[A"
     ]
    },
    {
     "name": "stdout",
     "output_type": "stream",
     "text": [
      "train results {'nll': 1.0488071635627747, 'loss': 1.0488071635627747, 'accuracy': 63.788}\n",
      "test results {'nll': 1.5592954841613769, 'loss': 1.5592954841613769, 'accuracy': 55.26}\n",
      "flow_connect\n",
      "0.5\n",
      "train results {'nll': 1.0633495126342773, 'loss': 1.0633495126342773, 'accuracy': 63.462}\n",
      "test results {'nll': 1.5593252670288087, 'loss': 1.5593252670288087, 'accuracy': 54.64}\n",
      "flow_connect\n",
      "0.5\n"
     ]
    },
    {
     "name": "stderr",
     "output_type": "stream",
     "text": [
      "\n",
      "\n",
      " 50%|█████     | 2/4 [01:41<01:49, 54.79s/it]\u001b[A\u001b[A"
     ]
    },
    {
     "name": "stdout",
     "output_type": "stream",
     "text": [
      "train results {'nll': 1.0475879463577271, 'loss': 1.0475879463577271, 'accuracy': 63.818}\n",
      "test results {'nll': 1.5472380882263184, 'loss': 1.5472380882263184, 'accuracy': 54.58}\n",
      "flow_connect\n",
      "0.5\n"
     ]
    },
    {
     "name": "stderr",
     "output_type": "stream",
     "text": [
      "\n",
      "\n",
      " 75%|███████▌  | 3/4 [02:03<00:44, 44.90s/it]\u001b[A\u001b[A\n",
      "\n",
      "100%|██████████| 4/4 [02:03<00:00, 30.96s/it]\u001b[A\u001b[A"
     ]
    },
    {
     "name": "stdout",
     "output_type": "stream",
     "text": [
      "train results {'nll': 1.0577251321029664, 'loss': 1.0577251321029664, 'accuracy': 63.144}\n",
      "test results {'nll': 1.6692164546966552, 'loss': 1.6692164546966552, 'accuracy': 52.93}\n",
      "saving to  data/stat/CIFAR/bijectionerror_stat.pickle\n"
     ]
    }
   ],
   "source": [
    "flow.cuda();\n",
    "stat_dict, stat_dict_mean, stat_dict_std = gather_statistics(dataset[-8000:], \n",
    "                                                             loaders, b2, architecture, \n",
    "                                                             flow=flow, K=80, t=0.5, \n",
    "                                                             verbose=True, func_name=['flow_connect'],\n",
    "                                                             save_stat=True, path='stat/CIFAR/bijection')"
   ]
  },
  {
   "cell_type": "markdown",
   "metadata": {},
   "source": [
    "## basic "
   ]
  },
  {
   "cell_type": "code",
   "execution_count": 7,
   "metadata": {},
   "outputs": [],
   "source": [
    "test_dataset = dataset[-8000:]"
   ]
  },
  {
   "cell_type": "code",
   "execution_count": 11,
   "metadata": {},
   "outputs": [],
   "source": [
    "funcs = [func for func in dir(cntr) if callable(getattr(cntr, func)) and 'connect' in func \n",
    "         and 'flow' not in func and 'third_cumulant' in func]"
   ]
  },
  {
   "cell_type": "code",
   "execution_count": 12,
   "metadata": {},
   "outputs": [
    {
     "data": {
      "text/plain": [
       "['third_cumulant_connect']"
      ]
     },
     "execution_count": 12,
     "metadata": {},
     "output_type": "execute_result"
    }
   ],
   "source": [
    "funcs"
   ]
  },
  {
   "cell_type": "code",
   "execution_count": 14,
   "metadata": {
    "scrolled": false
   },
   "outputs": [
    {
     "name": "stderr",
     "output_type": "stream",
     "text": [
      "\n",
      "  0%|          | 0/4 [00:00<?, ?it/s]\u001b[A"
     ]
    },
    {
     "name": "stdout",
     "output_type": "stream",
     "text": [
      "N_models 4\n",
      "third_cumulant_connect\n",
      "c 49339.753945420765 8000000\n",
      "0.5\n",
      "train results {'nll': 192.03328536132813, 'loss': 192.03328536132813, 'accuracy': 10.95}\n",
      "test results {'nll': 159.18884404296875, 'loss': 159.18884404296875, 'accuracy': 11.4}\n",
      "third_cumulant_connect\n",
      "c 49147.18525962689 8000000\n",
      "0.5\n",
      "train results {'nll': 197.92421240234376, 'loss': 197.92421240234376, 'accuracy': 10.81}\n",
      "test results {'nll': 172.68769267578125, 'loss': 172.68769267578125, 'accuracy': 11.54}\n",
      "third_cumulant_connect\n",
      "c 49338.789716830164 8000000\n",
      "0.5\n"
     ]
    },
    {
     "name": "stderr",
     "output_type": "stream",
     "text": [
      "\n",
      " 25%|██▌       | 1/4 [19:02<57:07, 1142.60s/it]\u001b[A"
     ]
    },
    {
     "name": "stdout",
     "output_type": "stream",
     "text": [
      "train results {'nll': 200.2789377734375, 'loss': 200.2789377734375, 'accuracy': 11.184}\n",
      "test results {'nll': 174.5269504638672, 'loss': 174.5269504638672, 'accuracy': 12.38}\n",
      "third_cumulant_connect\n",
      "c 49031.59461684667 8000000\n",
      "0.5\n",
      "train results {'nll': 196.78189912109374, 'loss': 196.78189912109374, 'accuracy': 10.758}\n",
      "test results {'nll': 166.34349104003905, 'loss': 166.34349104003905, 'accuracy': 11.96}\n",
      "third_cumulant_connect\n",
      "c 49216.40067193843 8000000\n",
      "0.5\n"
     ]
    },
    {
     "name": "stderr",
     "output_type": "stream",
     "text": [
      "\n",
      " 50%|█████     | 2/4 [32:55<34:59, 1049.84s/it]\u001b[A"
     ]
    },
    {
     "name": "stdout",
     "output_type": "stream",
     "text": [
      "train results {'nll': 203.76456399902344, 'loss': 203.76456399902344, 'accuracy': 10.178}\n",
      "test results {'nll': 165.93680776367188, 'loss': 165.93680776367188, 'accuracy': 11.31}\n",
      "third_cumulant_connect\n",
      "c 49634.76412962114 8000000\n",
      "0.5\n"
     ]
    },
    {
     "name": "stderr",
     "output_type": "stream",
     "text": [
      "\n",
      " 75%|███████▌  | 3/4 [39:04<14:05, 845.57s/it] \u001b[A\n",
      "100%|██████████| 4/4 [39:04<00:00, 586.23s/it]\u001b[A"
     ]
    },
    {
     "name": "stdout",
     "output_type": "stream",
     "text": [
      "train results {'nll': 204.2034564892578, 'loss': 204.2034564892578, 'accuracy': 10.938}\n",
      "test results {'nll': 168.1272219970703, 'loss': 168.1272219970703, 'accuracy': 12.78}\n",
      "saving to  data/stat/CIFAR/third_cumulanterror_stat.pickle\n"
     ]
    }
   ],
   "source": [
    "stat_dict, stat_dict_mean, stat_dict_std = gather_statistics(test_dataset, \n",
    "                                                             loaders, b2, architecture, \n",
    "                                                             flow=None, K=200, t=0.5, \n",
    "                                                             verbose=True, func_name=funcs,\n",
    "                                                             save_stat=True, path='stat/CIFAR/third_cumulant')"
   ]
  },
  {
   "cell_type": "code",
   "execution_count": null,
   "metadata": {},
   "outputs": [],
   "source": []
  },
  {
   "cell_type": "markdown",
   "metadata": {},
   "source": [
    "# Checking"
   ]
  },
  {
   "cell_type": "code",
   "execution_count": 23,
   "metadata": {},
   "outputs": [],
   "source": [
    "with open('data/stat/CIFAR/third_cumulanterror_stat.pickle', 'rb') as handle:\n",
    "        load = pickle.load(handle)"
   ]
  },
  {
   "cell_type": "code",
   "execution_count": 24,
   "metadata": {},
   "outputs": [
    {
     "data": {
      "text/plain": [
       "{'train': {'third_cumulant_connect': 10.802999999999999},\n",
       " 'test': {'third_cumulant_connect': 11.895000000000001}}"
      ]
     },
     "execution_count": 24,
     "metadata": {},
     "output_type": "execute_result"
    }
   ],
   "source": [
    "load[1]"
   ]
  },
  {
   "cell_type": "code",
   "execution_count": 25,
   "metadata": {},
   "outputs": [
    {
     "data": {
      "text/plain": [
       "{'train': {'third_cumulant_connect': 0.31029394665918486},\n",
       " 'test': {'third_cumulant_connect': 0.5378893938348291}}"
      ]
     },
     "execution_count": 25,
     "metadata": {},
     "output_type": "execute_result"
    }
   ],
   "source": [
    "load[2]"
   ]
  },
  {
   "cell_type": "code",
   "execution_count": 26,
   "metadata": {},
   "outputs": [
    {
     "data": {
      "text/plain": [
       "({'train': {'flow_connect': 63.60966666666667},\n",
       "  'test': {'flow_connect': 53.94}},\n",
       " {'train': {'flow_connect': 0.353156087618808},\n",
       "  'test': {'flow_connect': 0.9552137631615929}})"
      ]
     },
     "execution_count": 26,
     "metadata": {},
     "output_type": "execute_result"
    }
   ],
   "source": [
    "stat_dict_mean, stat_dict_std"
   ]
  },
  {
   "cell_type": "code",
   "execution_count": null,
   "metadata": {},
   "outputs": [],
   "source": []
  }
 ],
 "metadata": {
  "kernelspec": {
   "display_name": "Python 3",
   "language": "python",
   "name": "python3"
  },
  "language_info": {
   "codemirror_mode": {
    "name": "ipython",
    "version": 3
   },
   "file_extension": ".py",
   "mimetype": "text/x-python",
   "name": "python",
   "nbconvert_exporter": "python",
   "pygments_lexer": "ipython3",
   "version": "3.6.7"
  }
 },
 "nbformat": 4,
 "nbformat_minor": 2
}
