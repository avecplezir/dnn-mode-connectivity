{
 "cells": [
  {
   "cell_type": "code",
   "execution_count": 32,
   "metadata": {},
   "outputs": [],
   "source": [
    "import sys\n",
    "sys.path.append('/home/ivan/distribution_connector')\n",
    "import os"
   ]
  },
  {
   "cell_type": "code",
   "execution_count": 33,
   "metadata": {},
   "outputs": [],
   "source": [
    "from sklearn import datasets\n",
    "import numpy as np\n",
    "import torch\n",
    "from tqdm import tqdm\n",
    "from connector_utils import test_models, gather_statistics, test_func\n",
    "import matplotlib.pyplot as plt"
   ]
  },
  {
   "cell_type": "code",
   "execution_count": 34,
   "metadata": {},
   "outputs": [],
   "source": [
    "from connector import Connector\n",
    "# from one_layer_utils import samples, make_dataset, get_model, get_b\n",
    "from utils import test_model"
   ]
  },
  {
   "cell_type": "code",
   "execution_count": 35,
   "metadata": {},
   "outputs": [
    {
     "name": "stdout",
     "output_type": "stream",
     "text": [
      "Files already downloaded and verified\n",
      "You are going to run models on the test set. Are you sure?\n",
      "Files already downloaded and verified\n"
     ]
    },
    {
     "data": {
      "text/plain": [
       "IncompatibleKeys(missing_keys=[], unexpected_keys=[])"
      ]
     },
     "execution_count": 35,
     "metadata": {},
     "output_type": "execute_result"
    }
   ],
   "source": [
    "import models\n",
    "architecture = getattr(models, \"Linear3NoBias\") #LinearOneLayer LogRegression\n",
    "\n",
    "import data\n",
    "loaders, num_classes = data.loaders(\n",
    "    \"CIFAR10\",\n",
    "    \"data\",\n",
    "    1024,\n",
    "    1,\n",
    "    \"VGG\",\n",
    "    True)\n",
    "\n",
    "model1 = architecture.base(num_classes=10, **architecture.kwargs)\n",
    "model2 = architecture.base(num_classes=10, **architecture.kwargs)\n",
    "\n",
    "model1.load_state_dict(torch.load('curves/Linear3NoBias/curve1/checkpoint-100.pt')['model_state'])\n",
    "model2.load_state_dict(torch.load('curves/Linear3NoBias/curve2/checkpoint-100.pt')['model_state'])\n"
   ]
  },
  {
   "cell_type": "code",
   "execution_count": 36,
   "metadata": {},
   "outputs": [],
   "source": [
    "# model1.cuda();\n",
    "# model1.eval();\n",
    "# test_model(model1, loaders, cuda=True)"
   ]
  },
  {
   "cell_type": "code",
   "execution_count": 37,
   "metadata": {},
   "outputs": [],
   "source": [
    "# model2.cuda();\n",
    "# model2.eval();\n",
    "# test_model(model2, loaders, cuda=True)"
   ]
  },
  {
   "cell_type": "code",
   "execution_count": 38,
   "metadata": {},
   "outputs": [],
   "source": [
    "def samples(model):\n",
    "    p = [list(model.parameters())[i].data.cpu().numpy() for i in range(len(list(model.parameters())))]\n",
    "    return p\n",
    "\n",
    "def samples_per_layer(model, bias=True):\n",
    "    p = samples(model)\n",
    "    if bias:\n",
    "        p = [np.hstack([p[i], p[i+1][:, None]]) for i in range(0, len(p), 2)]        \n",
    "    return p\n",
    "\n",
    "def samples_butterfly(model, bias=True):\n",
    "    if bias:\n",
    "        return None\n",
    "    else:   \n",
    "        p = samples_per_layer(model, bias=bias)\n",
    "        parameters = [np.hstack([p[i], p[i+1].T]) for i in range(0, len(p), 2)]\n",
    "    return parameters\n",
    "\n",
    "def get_model(W, architecture, bias=False, per_layer=True):\n",
    "    model_sampled = architecture.base(num_classes=10, **architecture.kwargs)\n",
    "    model_samples = np.array(W)  \n",
    "\n",
    "    if per_layer:\n",
    "        for parameter, w in zip(model_sampled.parameters(), W):\n",
    "            parameter.data.copy_(torch.from_numpy(w))\n",
    "    else:\n",
    "        for i, parameter in enumerate(model_sampled.parameters()):\n",
    "            w = W[i//2]\n",
    "            if i % 2 == 0:\n",
    "                offset = 0\n",
    "            N = parameter.data.shape[1]\n",
    "            w_part = w[:, offset:offset+N]\n",
    "            offset = N\n",
    "            if i % 2 == 0:\n",
    "                parameter.data.copy_(torch.from_numpy(w_part))\n",
    "            else:\n",
    "                parameter.data.copy_(torch.from_numpy(w_part.T))\n",
    "            \n",
    "\n",
    "    return model_sampled"
   ]
  },
  {
   "cell_type": "code",
   "execution_count": 39,
   "metadata": {},
   "outputs": [],
   "source": [
    "def transform(x1, x2, E12, E22_inv, second=False):\n",
    "    y1 = x1 - E12 @ E22_inv @ x2\n",
    "    return y1.T\n",
    "   \n",
    "def inv_transform(y1, y2, E12, E22_inv, second=False):\n",
    "    x1 = y1 + E12 @ E22_inv @ y2\n",
    "    return x1.T"
   ]
  },
  {
   "cell_type": "code",
   "execution_count": 40,
   "metadata": {},
   "outputs": [],
   "source": [
    "parameters1 = samples_per_layer(model1, bias=False)\n",
    "parameters2 = samples_per_layer(model2, bias=False)"
   ]
  },
  {
   "cell_type": "code",
   "execution_count": 51,
   "metadata": {},
   "outputs": [],
   "source": [
    "def connect_simple(W1, W2, lines=True, func='arc_connect'):\n",
    "    \n",
    "    if lines:    \n",
    "        print('W1', W1.shape)\n",
    "        cntr = Connector(W1, W2)\n",
    "        f = getattr(cntr, func)\n",
    "        p_res = f()[1]\n",
    "    else:\n",
    "        print('W1', W1.T.shape)\n",
    "        cntr = Connector(W1.T, W2.T)\n",
    "        f = getattr(cntr, func)\n",
    "        p_res = f()[1].T\n",
    "        \n",
    "    return p_res\n",
    "\n",
    "def connect_cov(W1, W2, P1, P2, P_f, lines=True, inverse=False,  func='arc_connect'):\n",
    "        \n",
    "        if inverse:\n",
    "            P1, W1 = P1.T, W1.T\n",
    "            P2, W2 = P2.T, W2.T\n",
    " \n",
    "        p1 = np.hstack([P1, W1.T])\n",
    "        p2 = np.hstack([P2, W2.T])\n",
    "        len_x2 = len(W1)\n",
    "        p = np.concatenate([p1,p2])\n",
    "        \n",
    "        print('p', p.shape)\n",
    "        print('len', len_x2)\n",
    "        \n",
    "        mu1 = p.mean(0)[:-len_x2]\n",
    "        mu2 = p.mean(0)[len_x2:]\n",
    "\n",
    "        print('p', p.shape)\n",
    "\n",
    "        p = p - p.mean(0)    \n",
    "        cov = p.T @ p\n",
    "\n",
    "        E12 = cov[:-len_x2, -len_x2:]\n",
    "        E22 = cov[-len_x2:, -len_x2:]\n",
    "        E22_inv = np.linalg.inv(E22)\n",
    "\n",
    "        \n",
    "        print(1, P1.T.shape, W1.shape)\n",
    "        W1 = transform(P1.T, W1, E12,  E22_inv)\n",
    "        W2 = transform(P2.T, W2, E12,  E22_inv)\n",
    "        print('W1', W1.shape)\n",
    "    \n",
    "        p_res = connect_simple(W1, W2, lines=lines, func=func)\n",
    "        \n",
    "        print(2, p_res.T.shape, P_f.shape)\n",
    "        p_res_tr = inv_transform(p_res.T, P_f, E12,  E22_inv)\n",
    "        \n",
    "        return p_res_tr"
   ]
  },
  {
   "cell_type": "code",
   "execution_count": 42,
   "metadata": {},
   "outputs": [],
   "source": [
    "# parameters_res_tr = []\n",
    "# parameters_res = []\n",
    "\n",
    "# print(3)\n",
    "# p_res = connect_simple(parameters1[0], parameters2[0], lines=False)\n",
    "# parameters_res_tr.append(p_res)\n",
    "\n",
    "\n",
    "# print(2)\n",
    "# p_res = connect_simple(parameters1[-2], parameters2[-2], lines=False)\n",
    "# parameters_res_tr.append(p_res)\n",
    "\n",
    "\n",
    "# print(1)\n",
    "# print('parameters', parameters2[-1].shape)\n",
    "# # p_res = connect_simple(parameters1[-1], parameters2[-1], lines=True)\n",
    "# p_res = connect_cov(parameters1[1], parameters2[1], parameters1[-1],  parameters2[-1], parameters_res_tr[-1].T, \n",
    "#                     lines=False, inverse=True).T\n",
    "\n",
    "\n",
    "# parameters_res_tr.append(p_res)\n",
    "    \n",
    "# model = get_model(parameters_res_tr, architecture, per_layer=True)\n",
    "# model.cuda();\n",
    "# model.eval();\n",
    "# test_model(model, loaders, cuda=True)\n",
    "\n",
    "    "
   ]
  },
  {
   "cell_type": "code",
   "execution_count": 43,
   "metadata": {},
   "outputs": [
    {
     "data": {
      "text/plain": [
       "(6144, 3072)"
      ]
     },
     "execution_count": 43,
     "metadata": {},
     "output_type": "execute_result"
    }
   ],
   "source": [
    "parameters1[0].shape"
   ]
  },
  {
   "cell_type": "code",
   "execution_count": 44,
   "metadata": {},
   "outputs": [],
   "source": [
    "p_mean = []\n",
    "for i, (p1, p2) in enumerate(zip(parameters1, parameters2)):\n",
    "    p = np.concatenate([p1.T,p2.T])\n",
    "#     print(p.shape)\n",
    "    mean = p.mean(0)\n",
    "    p_mean.append(mean)\n",
    "#     print(p1.T.shape, mean.shape)\n",
    "    parameters1[i] = (p1.T - mean).T\n",
    "    parameters2[i] = (p2.T - mean).T"
   ]
  },
  {
   "cell_type": "code",
   "execution_count": 23,
   "metadata": {},
   "outputs": [
    {
     "name": "stdout",
     "output_type": "stream",
     "text": [
      "(12288, 3072)\n",
      "(4000, 6144)\n",
      "(20, 2000)\n"
     ]
    }
   ],
   "source": [
    "p_mean = []\n",
    "for i, (p1, p2) in enumerate(zip(parameters1, parameters2)):\n",
    "    p = np.concatenate([p1,p2])\n",
    "    print(p.shape)\n",
    "    mean = p.mean(0)\n",
    "    p_mean.append(mean)\n",
    "    parameters1[i] = p1 - mean\n",
    "    parameters2[i] = p2 - mean"
   ]
  },
  {
   "cell_type": "code",
   "execution_count": 24,
   "metadata": {},
   "outputs": [],
   "source": [
    "# plt.hist(parameters1[0][:, 1], bins=100);"
   ]
  },
  {
   "cell_type": "code",
   "execution_count": 93,
   "metadata": {},
   "outputs": [],
   "source": [
    "# parameters1[0] -= parameters1[0].mean(0)\n",
    "# parameters1[0][:, 1].mean(), parameters1[0].T[:, 1].mean()"
   ]
  },
  {
   "cell_type": "code",
   "execution_count": 53,
   "metadata": {},
   "outputs": [
    {
     "data": {
      "text/plain": [
       "(0.006478533, -3.176718e-05)"
      ]
     },
     "execution_count": 53,
     "metadata": {},
     "output_type": "execute_result"
    }
   ],
   "source": [
    "parameters1[0][:, 1].mean(), parameters1[0].T[:, 1].mean()"
   ]
  },
  {
   "cell_type": "code",
   "execution_count": 48,
   "metadata": {},
   "outputs": [
    {
     "data": {
      "text/plain": [
       "(20, 2000)"
      ]
     },
     "execution_count": 48,
     "metadata": {},
     "output_type": "execute_result"
    }
   ],
   "source": [
    "np.vstack([ parameters2[-1],  parameters1[-1]]).shape"
   ]
  },
  {
   "cell_type": "code",
   "execution_count": 67,
   "metadata": {},
   "outputs": [
    {
     "name": "stdout",
     "output_type": "stream",
     "text": [
      "1\n",
      "parameters (10, 2000)\n",
      "W1 (2000, 10)\n",
      "2\n",
      "parameters (2000, 6144)\n",
      "W1 (2000, 6144)\n",
      "3\n",
      "parameters (6144, 3072)\n",
      "W1 (3072, 6144)\n",
      "train results {'nll': 1.271210627593994, 'loss': 1.271210627593994, 'accuracy': 57.922}\n",
      "test results {'nll': 1.6456598905563355, 'loss': 1.6456598905563355, 'accuracy': 42.36}\n"
     ]
    },
    {
     "data": {
      "text/plain": [
       "({'nll': 1.271210627593994, 'loss': 1.271210627593994, 'accuracy': 57.922},\n",
       " {'nll': 1.6456598905563355, 'loss': 1.6456598905563355, 'accuracy': 42.36})"
      ]
     },
     "execution_count": 67,
     "metadata": {},
     "output_type": "execute_result"
    }
   ],
   "source": [
    "parameters_res_tr = []\n",
    "parameters_res = []\n",
    "func = 'arc_connect'\n",
    "\n",
    "print(1)\n",
    "print('parameters', parameters2[-1].shape)\n",
    "p_res = connect_simple(parameters1[-1], parameters2[-1], lines=False, func=func)\n",
    "parameters_res_tr.insert(0, p_res)\n",
    "parameters_res.insert(0, p_res)\n",
    "\n",
    "print(2)\n",
    "print('parameters', parameters2[-2].shape)\n",
    "p_res = connect_simple(parameters1[-2], parameters2[-2], lines=True, func=func)\n",
    "# p_res = connect_cov(parameters1[-1], parameters2[-1], parameters1[-2],  parameters2[-2], parameters_res[0], \n",
    "#                     lines=False, func=func)\n",
    "parameters_res_tr.insert(0, p_res)\n",
    "parameters_res.insert(0, p_res)\n",
    "\n",
    "print(3)\n",
    "print('parameters', parameters2[0].shape)\n",
    "p_res = connect_simple(parameters1[0], parameters2[0], lines=False, func=func)\n",
    "# p_res = connect_cov(parameters1[1], parameters2[1], parameters1[0],  parameters2[0], parameters_res[0], \n",
    "#                     lines=False, func=func)\n",
    "\n",
    "\n",
    "parameters_res_tr.insert(0, p_res)\n",
    "parameters_res.insert(0, p_res)\n",
    "\n",
    "for i, (p, m) in enumerate(zip(parameters_res_tr, p_mean)):\n",
    "    parameters_res_tr[i] = (p.T + m).T\n",
    "\n",
    "    \n",
    "model = get_model(parameters_res_tr, architecture, per_layer=True)\n",
    "model.cuda();\n",
    "model.eval();\n",
    "test_model(model, loaders, cuda=True)\n",
    "\n",
    "    "
   ]
  },
  {
   "cell_type": "code",
   "execution_count": 88,
   "metadata": {},
   "outputs": [
    {
     "name": "stdout",
     "output_type": "stream",
     "text": [
      "1\n",
      "2\n",
      "3\n",
      "parameters (6144, 3072)\n",
      "train results {'nll': 1.3164503594589234, 'loss': 1.3164503594589234, 'accuracy': 57.19}\n",
      "test results {'nll': 1.6831079917907714, 'loss': 1.6831079917907714, 'accuracy': 41.08}\n"
     ]
    },
    {
     "data": {
      "text/plain": [
       "({'nll': 1.3164503594589234, 'loss': 1.3164503594589234, 'accuracy': 57.19},\n",
       " {'nll': 1.6831079917907714, 'loss': 1.6831079917907714, 'accuracy': 41.08})"
      ]
     },
     "execution_count": 88,
     "metadata": {},
     "output_type": "execute_result"
    }
   ],
   "source": [
    "parameters_res_tr = []\n",
    "parameters_res = []\n",
    "func = 'arc_connect'\n",
    "\n",
    "\n",
    "print(1)\n",
    "p_res = connect_simple(parameters1[-1], parameters2[-1], lines=False, func=func)\n",
    "parameters_res_tr.insert(0, p_res)\n",
    "parameters_res.insert(0, p_res)\n",
    "\n",
    "print(2)\n",
    "p_res = connect_simple(parameters1[-2], parameters2[-2], lines=False, func=func)\n",
    "# p_res = connect_cov(parameters1[-1], parameters2[-1], parameters1[-2],  parameters2[-2], parameters_res[0], \n",
    "#                     lines=False, func=func)\n",
    "parameters_res_tr.insert(0, p_res)\n",
    "parameters_res.insert(0, p_res)\n",
    "\n",
    "print(3)\n",
    "p_res = connect_simple(parameters1[0], parameters2[0], lines=False, func=func)\n",
    "# p_res = connect_cov(parameters1[1], parameters2[1], parameters1[0],  parameters2[0], parameters_res[0], \n",
    "#                     lines=False, func=func)\n",
    "print('parameters', parameters2[0].shape)\n",
    "\n",
    "parameters_res_tr.insert(0, p_res)\n",
    "parameters_res.insert(0, p_res)\n",
    "\n",
    "# for i, (p, m) in enumerate(zip(parameters_res_tr, p_mean)):\n",
    "#     parameters_res_tr[i] = p + m\n",
    "\n",
    "    \n",
    "model = get_model(parameters_res_tr, architecture, per_layer=True)\n",
    "model.cuda();\n",
    "model.eval();\n",
    "test_model(model, loaders, cuda=True)\n",
    "\n",
    "    "
   ]
  },
  {
   "cell_type": "code",
   "execution_count": 15,
   "metadata": {},
   "outputs": [],
   "source": [
    "# parameters1 = samples_butterfly(model1, bias=False)\n",
    "# parameters2 = samples_butterfly(model2, bias=False)\n",
    "# for func in ['lin_connect', 'arc_connect', 'arc_connect_PCA', 'inverse_connect_PCA', \n",
    "#              'third_cumulant_connect']:\n",
    "#     parameters_res = []\n",
    "#     print(func)\n",
    "#     for p1, p2 in zip(parameters1, parameters2):\n",
    "#         cntr = Connector(p1, p2)\n",
    "#         f = getattr(cntr, func)\n",
    "#         if 'PCA' in func:\n",
    "#             res = f(K=300)[1]\n",
    "#         elif 'third_cumulant' in func:\n",
    "#             res = f(K=100)[1] \n",
    "#         else:\n",
    "#             res = f()[1]\n",
    "#         parameters_res.append(res)\n",
    "\n",
    "#     model = get_model(parameters_res, architecture, per_layer=False)\n",
    "#     model.cuda();\n",
    "#     model.eval();\n",
    "#     test_model(model, loaders, cuda=True)"
   ]
  },
  {
   "cell_type": "code",
   "execution_count": 17,
   "metadata": {},
   "outputs": [
    {
     "name": "stdout",
     "output_type": "stream",
     "text": [
      "lin_connect\n",
      "train results {'nll': 1.9955093453598023, 'loss': 1.9955093453598023, 'accuracy': 51.474}\n",
      "test results {'nll': 2.162593546295166, 'loss': 2.162593546295166, 'accuracy': 29.76}\n",
      "arc_connect\n",
      "train results {'nll': 1.3757157013320922, 'loss': 1.3757157013320922, 'accuracy': 50.706}\n",
      "test results {'nll': 1.6448731899261475, 'loss': 1.6448731899261475, 'accuracy': 42.03}\n",
      "arc_connect_PCA\n",
      "train results {'nll': 1.5449913298034668, 'loss': 1.5449913298034668, 'accuracy': 42.81}\n",
      "test results {'nll': 1.722438893699646, 'loss': 1.722438893699646, 'accuracy': 36.14}\n"
     ]
    }
   ],
   "source": [
    "parameters1 = samples_per_layer(model1, bias=False)\n",
    "parameters2 = samples_per_layer(model2, bias=False)\n",
    "for func in ['lin_connect', 'arc_connect', 'arc_connect_PCA']:\n",
    "    parameters_res = []\n",
    "    print(func)\n",
    "    for p1, p2 in zip(parameters1, parameters2):\n",
    "        cntr = Connector(p1, p2)\n",
    "        f = getattr(cntr, func)\n",
    "        if 'PCA' in func:\n",
    "            K = min(300, p1.shape[0], p1.shape[1])\n",
    "            res = f(K=K)[1]\n",
    "        elif 'third_cumulant' in func:\n",
    "            K = min(100, p1.shape[0], p1.shape[1])\n",
    "            res = f(K=K)[1] \n",
    "        else:\n",
    "            res = f()[1]\n",
    "        parameters_res.append(res)\n",
    "\n",
    "    model = get_model(parameters_res, architecture, per_layer=True)\n",
    "    model.cuda();\n",
    "    model.eval();\n",
    "    test_model(model, loaders, cuda=True)"
   ]
  },
  {
   "cell_type": "code",
   "execution_count": 18,
   "metadata": {},
   "outputs": [
    {
     "name": "stdout",
     "output_type": "stream",
     "text": [
      "arc_connect\n",
      "train results {'nll': 1.3138795108032226, 'loss': 1.3138795108032226, 'accuracy': 57.49}\n",
      "test results {'nll': 1.6831079917907714, 'loss': 1.6831079917907714, 'accuracy': 41.08}\n",
      "arc_connect_PCA\n",
      "train results {'nll': 1.3796758843994141, 'loss': 1.3796758843994141, 'accuracy': 55.522}\n",
      "test results {'nll': 1.7231661840438843, 'loss': 1.7231661840438843, 'accuracy': 39.77}\n"
     ]
    }
   ],
   "source": [
    "# columns\n",
    "parameters1 = samples_per_layer(model1, bias=False)\n",
    "parameters2 = samples_per_layer(model2, bias=False)\n",
    "for func in ['arc_connect', 'arc_connect_PCA']:\n",
    "    parameters_res = []\n",
    "    print(func)\n",
    "    for p1, p2 in zip(parameters1, parameters2):\n",
    "        cntr = Connector(p1.T, p2.T)\n",
    "        f = getattr(cntr, func)\n",
    "        if 'PCA' in func:\n",
    "            K = min(300, p1.shape[0], p1.shape[1])\n",
    "            res = f(K=K)[1]\n",
    "        elif 'third_cumulant' in func:\n",
    "            K = min(100, p1.shape[0], p1.shape[1])\n",
    "            res = f(K=K)[1] \n",
    "        else:\n",
    "            res = f()[1]\n",
    "        parameters_res.append(res.T)\n",
    "\n",
    "    model = get_model(parameters_res, architecture, per_layer=True)\n",
    "    model.cuda();\n",
    "    model.eval();\n",
    "    test_model(model, loaders, cuda=True)"
   ]
  },
  {
   "cell_type": "code",
   "execution_count": 19,
   "metadata": {},
   "outputs": [
    {
     "name": "stdout",
     "output_type": "stream",
     "text": [
      "arc_connect\n",
      "last\n",
      "train results {'nll': 1.402382646522522, 'loss': 1.402382646522522, 'accuracy': 49.57}\n",
      "test results {'nll': 1.6654330642700195, 'loss': 1.6654330642700195, 'accuracy': 41.36}\n",
      "arc_connect_PCA\n",
      "last\n",
      "train results {'nll': 1.4344119925308227, 'loss': 1.4344119925308227, 'accuracy': 48.944}\n",
      "test results {'nll': 1.6590761445999145, 'loss': 1.6590761445999145, 'accuracy': 41.85}\n"
     ]
    }
   ],
   "source": [
    "# one last column and lines\n",
    "parameters1 = samples_per_layer(model1, bias=False)\n",
    "parameters2 = samples_per_layer(model2, bias=False)\n",
    "for func in ['arc_connect', 'arc_connect_PCA']:\n",
    "    parameters_res = []\n",
    "    print(func)\n",
    "    for ind, (p1, p2) in enumerate(zip(parameters1, parameters2)):\n",
    "        if ind==len(parameters1)-1:\n",
    "            print('last')\n",
    "            p1, p2 = p1.T, p2.T\n",
    "        cntr = Connector(p1, p2)\n",
    "        f = getattr(cntr, func)\n",
    "        if 'PCA' in func:\n",
    "            K = min(300, p1.shape[0], p1.shape[1])\n",
    "            res = f(K=K)[1]\n",
    "        elif 'third_cumulant' in func:\n",
    "            K = min(100, p1.shape[0], p1.shape[1])\n",
    "            res = f(K=K)[1] \n",
    "        else:\n",
    "            res = f()[1]\n",
    "            \n",
    "        if ind==len(parameters1)-1:\n",
    "            res = res.T\n",
    "        parameters_res.append(res)\n",
    "\n",
    "    model = get_model(parameters_res, architecture, per_layer=True)\n",
    "    model.cuda();\n",
    "    model.eval();\n",
    "    test_model(model, loaders, cuda=True)"
   ]
  },
  {
   "cell_type": "code",
   "execution_count": 20,
   "metadata": {},
   "outputs": [
    {
     "name": "stdout",
     "output_type": "stream",
     "text": [
      "arc_connect\n",
      "last\n",
      "last\n",
      "train results {'nll': 1.3678412181472779, 'loss': 1.3678412181472779, 'accuracy': 53.644}\n",
      "test results {'nll': 1.6921545532226563, 'loss': 1.6921545532226563, 'accuracy': 40.73}\n",
      "arc_connect_PCA\n",
      "last\n",
      "last\n",
      "train results {'nll': 1.4357195449066162, 'loss': 1.4357195449066162, 'accuracy': 51.714}\n",
      "test results {'nll': 1.7344378902435302, 'loss': 1.7344378902435302, 'accuracy': 39.71}\n"
     ]
    }
   ],
   "source": [
    "# all columns except first lines\n",
    "parameters1 = samples_per_layer(model1, bias=False)\n",
    "parameters2 = samples_per_layer(model2, bias=False)\n",
    "for func in ['arc_connect', 'arc_connect_PCA']:\n",
    "    parameters_res = []\n",
    "    print(func)\n",
    "    for ind, (p1, p2) in enumerate(zip(parameters1, parameters2)):\n",
    "        if ind!=0:\n",
    "            print('last')\n",
    "            p1, p2 = p1.T, p2.T\n",
    "        cntr = Connector(p1, p2)\n",
    "        f = getattr(cntr, func)\n",
    "        if 'PCA' in func:\n",
    "            K = min(300, p1.shape[0], p1.shape[1])\n",
    "            res = f(K=K)[1]\n",
    "        elif 'third_cumulant' in func:\n",
    "            K = min(100, p1.shape[0], p1.shape[1])\n",
    "            res = f(K=K)[1] \n",
    "        else:\n",
    "            res = f()[1]\n",
    "            \n",
    "        if ind!=0:\n",
    "            res = res.T\n",
    "        parameters_res.append(res)\n",
    "\n",
    "    model = get_model(parameters_res, architecture, per_layer=True)\n",
    "    model.cuda();\n",
    "    model.eval();\n",
    "    test_model(model, loaders, cuda=True)"
   ]
  },
  {
   "cell_type": "code",
   "execution_count": null,
   "metadata": {},
   "outputs": [],
   "source": []
  }
 ],
 "metadata": {
  "kernelspec": {
   "display_name": "Python 3",
   "language": "python",
   "name": "python3"
  },
  "language_info": {
   "codemirror_mode": {
    "name": "ipython",
    "version": 3
   },
   "file_extension": ".py",
   "mimetype": "text/x-python",
   "name": "python",
   "nbconvert_exporter": "python",
   "pygments_lexer": "ipython3",
   "version": "3.6.7"
  }
 },
 "nbformat": 4,
 "nbformat_minor": 2
}
