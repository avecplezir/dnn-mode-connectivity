{
 "cells": [
  {
   "cell_type": "code",
   "execution_count": 1,
   "metadata": {},
   "outputs": [
    {
     "name": "stdout",
     "output_type": "stream",
     "text": [
      "getting loaders\n",
      "Files already downloaded and verified\n",
      "You are going to run models on the test set. Are you sure?\n",
      "Files already downloaded and verified\n",
      "getting data\n"
     ]
    }
   ],
   "source": [
    "from point_finders import *"
   ]
  },
  {
   "cell_type": "code",
   "execution_count": 2,
   "metadata": {},
   "outputs": [],
   "source": [
    "import models\n",
    "model_name = 'Linear7NoBias'\n",
    "architecture = getattr(models, model_name) #LinearOneLayer LogRegression"
   ]
  },
  {
   "cell_type": "code",
   "execution_count": 3,
   "metadata": {},
   "outputs": [
    {
     "data": {
      "text/plain": [
       "IncompatibleKeys(missing_keys=[], unexpected_keys=[])"
      ]
     },
     "execution_count": 3,
     "metadata": {},
     "output_type": "execute_result"
    }
   ],
   "source": [
    "model1 = architecture.base(num_classes=10, **architecture.kwargs)\n",
    "model2 = architecture.base(num_classes=10, **architecture.kwargs)\n",
    "model1.load_state_dict(torch.load('curves/'+model_name+'/curve3/checkpoint-400.pt')['model_state'])\n",
    "model2.load_state_dict(torch.load('curves/'+model_name+'/curve4/checkpoint-400.pt')['model_state'])"
   ]
  },
  {
   "cell_type": "code",
   "execution_count": 5,
   "metadata": {},
   "outputs": [],
   "source": [
    "depth = 7"
   ]
  },
  {
   "cell_type": "code",
   "execution_count": 6,
   "metadata": {},
   "outputs": [],
   "source": [
    "# N_data = 10 #6144\n",
    "# data, targ = data[:N_data], targ[:N_data]"
   ]
  },
  {
   "cell_type": "markdown",
   "metadata": {},
   "source": [
    "# End Point Stat"
   ]
  },
  {
   "cell_type": "code",
   "execution_count": 7,
   "metadata": {},
   "outputs": [
    {
     "name": "stderr",
     "output_type": "stream",
     "text": [
      " 14%|█▍        | 1/7 [00:13<01:20, 13.48s/it]"
     ]
    },
    {
     "name": "stdout",
     "output_type": "stream",
     "text": [
      "train results {'nll': 0.02186687190413475, 'loss': 0.02186687190413475, 'accuracy': 99.372}\n",
      "test results {'nll': 2.85884748878479, 'loss': 2.85884748878479, 'accuracy': 60.81}\n"
     ]
    },
    {
     "name": "stderr",
     "output_type": "stream",
     "text": [
      "\r",
      " 29%|██▊       | 2/7 [00:26<01:07, 13.46s/it]"
     ]
    },
    {
     "name": "stdout",
     "output_type": "stream",
     "text": [
      "train results {'nll': 0.024273808525800706, 'loss': 0.024273808525800706, 'accuracy': 99.308}\n",
      "test results {'nll': 2.8019573253631593, 'loss': 2.8019573253631593, 'accuracy': 60.94}\n"
     ]
    },
    {
     "name": "stderr",
     "output_type": "stream",
     "text": [
      "\r",
      " 43%|████▎     | 3/7 [00:40<00:53, 13.44s/it]"
     ]
    },
    {
     "name": "stdout",
     "output_type": "stream",
     "text": [
      "train results {'nll': 0.02027139685869217, 'loss': 0.02027139685869217, 'accuracy': 99.384}\n",
      "test results {'nll': 2.9237209270477296, 'loss': 2.9237209270477296, 'accuracy': 60.97}\n"
     ]
    },
    {
     "name": "stderr",
     "output_type": "stream",
     "text": [
      "\r",
      " 57%|█████▋    | 4/7 [00:54<00:40, 13.57s/it]"
     ]
    },
    {
     "name": "stdout",
     "output_type": "stream",
     "text": [
      "train results {'nll': 0.022724376260638238, 'loss': 0.022724376260638238, 'accuracy': 99.356}\n",
      "test results {'nll': 2.899928831100464, 'loss': 2.899928831100464, 'accuracy': 61.05}\n"
     ]
    },
    {
     "name": "stderr",
     "output_type": "stream",
     "text": [
      "\r",
      " 71%|███████▏  | 5/7 [01:08<00:27, 13.77s/it]"
     ]
    },
    {
     "name": "stdout",
     "output_type": "stream",
     "text": [
      "train results {'nll': 0.02386071379184723, 'loss': 0.02386071379184723, 'accuracy': 99.28}\n",
      "test results {'nll': 2.847784344482422, 'loss': 2.847784344482422, 'accuracy': 61.59}\n"
     ]
    },
    {
     "name": "stderr",
     "output_type": "stream",
     "text": [
      "\r",
      " 86%|████████▌ | 6/7 [01:21<00:13, 13.52s/it]"
     ]
    },
    {
     "name": "stdout",
     "output_type": "stream",
     "text": [
      "train results {'nll': 0.021244508140683176, 'loss': 0.021244508140683176, 'accuracy': 99.368}\n",
      "test results {'nll': 2.9277551315307617, 'loss': 2.9277551315307617, 'accuracy': 60.85}\n"
     ]
    },
    {
     "name": "stderr",
     "output_type": "stream",
     "text": [
      "\r",
      "100%|██████████| 7/7 [01:34<00:00, 13.33s/it]"
     ]
    },
    {
     "name": "stdout",
     "output_type": "stream",
     "text": [
      "train results {'nll': 0.024875811775922775, 'loss': 0.024875811775922775, 'accuracy': 99.276}\n",
      "test results {'nll': 2.866384768676758, 'loss': 2.866384768676758, 'accuracy': 60.99}\n"
     ]
    },
    {
     "name": "stderr",
     "output_type": "stream",
     "text": [
      "\n"
     ]
    }
   ],
   "source": [
    "stat = get_end_point_stat(architecture, model_name, beg_ind=1, end_ind=8)"
   ]
  },
  {
   "cell_type": "code",
   "execution_count": 8,
   "metadata": {},
   "outputs": [
    {
     "data": {
      "text/plain": [
       "(99.33485714285713,\n",
       " 0.04231659104359584,\n",
       " 61.02857142857143,\n",
       " 0.24144970321719972)"
      ]
     },
     "execution_count": 8,
     "metadata": {},
     "output_type": "execute_result"
    }
   ],
   "source": [
    "get_mean_svd(stat)"
   ]
  },
  {
   "cell_type": "markdown",
   "metadata": {},
   "source": [
    "# Simultaneous Connection Stat"
   ]
  },
  {
   "cell_type": "code",
   "execution_count": 9,
   "metadata": {},
   "outputs": [],
   "source": [
    "pf = PointFinderSimultaneous(model1, model2, architecture)"
   ]
  },
  {
   "cell_type": "code",
   "execution_count": 10,
   "metadata": {},
   "outputs": [
    {
     "name": "stdout",
     "output_type": "stream",
     "text": [
      "train results {'nll': 1.7110936257171632, 'loss': 1.7110936257171632, 'accuracy': 42.5}\n",
      "test results {'nll': 1.801427091217041, 'loss': 1.801427091217041, 'accuracy': 38.36}\n"
     ]
    },
    {
     "data": {
      "text/plain": [
       "{'train': 42.5, 'test': 38.36}"
      ]
     },
     "execution_count": 10,
     "metadata": {},
     "output_type": "execute_result"
    }
   ],
   "source": [
    "pf.find_point(0.5)"
   ]
  },
  {
   "cell_type": "code",
   "execution_count": 11,
   "metadata": {},
   "outputs": [
    {
     "name": "stderr",
     "output_type": "stream",
     "text": [
      " 17%|█▋        | 1/6 [00:13<01:09, 13.82s/it]"
     ]
    },
    {
     "name": "stdout",
     "output_type": "stream",
     "text": [
      "train results {'nll': 1.7646338370895385, 'loss': 1.7646338370895385, 'accuracy': 39.378}\n",
      "test results {'nll': 1.8680181135177611, 'loss': 1.8680181135177611, 'accuracy': 34.59}\n"
     ]
    },
    {
     "name": "stderr",
     "output_type": "stream",
     "text": [
      "\r",
      " 33%|███▎      | 2/6 [00:28<00:55, 13.99s/it]"
     ]
    },
    {
     "name": "stdout",
     "output_type": "stream",
     "text": [
      "train results {'nll': 1.8294139999771117, 'loss': 1.8294139999771117, 'accuracy': 35.29}\n",
      "test results {'nll': 1.9271220064163208, 'loss': 1.9271220064163208, 'accuracy': 30.45}\n"
     ]
    },
    {
     "name": "stderr",
     "output_type": "stream",
     "text": [
      "\r",
      " 50%|█████     | 3/6 [00:42<00:41, 13.98s/it]"
     ]
    },
    {
     "name": "stdout",
     "output_type": "stream",
     "text": [
      "train results {'nll': 1.7110936257171632, 'loss': 1.7110936257171632, 'accuracy': 42.5}\n",
      "test results {'nll': 1.801427091217041, 'loss': 1.801427091217041, 'accuracy': 38.36}\n"
     ]
    },
    {
     "name": "stderr",
     "output_type": "stream",
     "text": [
      "\r",
      " 67%|██████▋   | 4/6 [00:57<00:28, 14.28s/it]"
     ]
    },
    {
     "name": "stdout",
     "output_type": "stream",
     "text": [
      "train results {'nll': 1.7439510138320924, 'loss': 1.7439510138320924, 'accuracy': 41.84}\n",
      "test results {'nll': 1.8460831687927246, 'loss': 1.8460831687927246, 'accuracy': 36.51}\n"
     ]
    },
    {
     "name": "stderr",
     "output_type": "stream",
     "text": [
      "\r",
      " 83%|████████▎ | 5/6 [01:10<00:14, 14.09s/it]"
     ]
    },
    {
     "name": "stdout",
     "output_type": "stream",
     "text": [
      "train results {'nll': 1.7411304644393921, 'loss': 1.7411304644393921, 'accuracy': 42.56}\n",
      "test results {'nll': 1.8469106327056886, 'loss': 1.8469106327056886, 'accuracy': 37.38}\n"
     ]
    },
    {
     "name": "stderr",
     "output_type": "stream",
     "text": [
      "\r",
      "100%|██████████| 6/6 [01:25<00:00, 14.18s/it]"
     ]
    },
    {
     "name": "stdout",
     "output_type": "stream",
     "text": [
      "train results {'nll': 1.7254584986114503, 'loss': 1.7254584986114503, 'accuracy': 43.048}\n",
      "test results {'nll': 1.8211072257995606, 'loss': 1.8211072257995606, 'accuracy': 38.39}\n"
     ]
    },
    {
     "name": "stderr",
     "output_type": "stream",
     "text": [
      "\n"
     ]
    },
    {
     "data": {
      "text/plain": [
       "(40.769333333333336, 2.723332680538478, 35.946666666666665, 2.775479938477108)"
      ]
     },
     "execution_count": 11,
     "metadata": {},
     "output_type": "execute_result"
    }
   ],
   "source": [
    "stat_s = get_stat(PointFinderSimultaneous, model_name, architecture, t=0.5,\n",
    "                  beg_ind=1, end_ind=7)\n",
    "get_mean_svd(stat_s)"
   ]
  },
  {
   "cell_type": "code",
   "execution_count": 12,
   "metadata": {},
   "outputs": [
    {
     "data": {
      "text/plain": [
       "(40.769333333333336, 2.723332680538478, 35.946666666666665, 2.775479938477108)"
      ]
     },
     "execution_count": 12,
     "metadata": {},
     "output_type": "execute_result"
    }
   ],
   "source": [
    "get_mean_svd(stat_s)"
   ]
  },
  {
   "cell_type": "code",
   "execution_count": 14,
   "metadata": {},
   "outputs": [
    {
     "name": "stderr",
     "output_type": "stream",
     "text": [
      " 17%|█▋        | 1/6 [00:13<01:09, 13.95s/it]"
     ]
    },
    {
     "name": "stdout",
     "output_type": "stream",
     "text": [
      "train results {'nll': 2.2858268647766113, 'loss': 2.2858268647766113, 'accuracy': 27.382}\n",
      "test results {'nll': 2.287595408630371, 'loss': 2.287595408630371, 'accuracy': 24.48}\n"
     ]
    },
    {
     "name": "stderr",
     "output_type": "stream",
     "text": [
      "\r",
      " 33%|███▎      | 2/6 [00:27<00:55, 13.98s/it]"
     ]
    },
    {
     "name": "stdout",
     "output_type": "stream",
     "text": [
      "train results {'nll': 2.286721798477173, 'loss': 2.286721798477173, 'accuracy': 23.494}\n",
      "test results {'nll': 2.2883873260498047, 'loss': 2.2883873260498047, 'accuracy': 21.3}\n"
     ]
    },
    {
     "name": "stderr",
     "output_type": "stream",
     "text": [
      "\r",
      " 50%|█████     | 3/6 [00:41<00:41, 13.95s/it]"
     ]
    },
    {
     "name": "stdout",
     "output_type": "stream",
     "text": [
      "train results {'nll': 2.2830883166503906, 'loss': 2.2830883166503906, 'accuracy': 29.818}\n",
      "test results {'nll': 2.285293759536743, 'loss': 2.285293759536743, 'accuracy': 26.5}\n"
     ]
    },
    {
     "name": "stderr",
     "output_type": "stream",
     "text": [
      "\r",
      " 67%|██████▋   | 4/6 [00:55<00:27, 13.93s/it]"
     ]
    },
    {
     "name": "stdout",
     "output_type": "stream",
     "text": [
      "train results {'nll': 2.286270654678345, 'loss': 2.286270654678345, 'accuracy': 30.034}\n",
      "test results {'nll': 2.2883053577423094, 'loss': 2.2883053577423094, 'accuracy': 27.1}\n"
     ]
    },
    {
     "name": "stderr",
     "output_type": "stream",
     "text": [
      "\r",
      " 83%|████████▎ | 5/6 [01:09<00:14, 14.01s/it]"
     ]
    },
    {
     "name": "stdout",
     "output_type": "stream",
     "text": [
      "train results {'nll': 2.2864354685211183, 'loss': 2.2864354685211183, 'accuracy': 29.128}\n",
      "test results {'nll': 2.2884758255004884, 'loss': 2.2884758255004884, 'accuracy': 26.15}\n"
     ]
    },
    {
     "name": "stderr",
     "output_type": "stream",
     "text": [
      "\r",
      "100%|██████████| 6/6 [01:23<00:00, 13.94s/it]"
     ]
    },
    {
     "name": "stdout",
     "output_type": "stream",
     "text": [
      "train results {'nll': 2.285012734146118, 'loss': 2.285012734146118, 'accuracy': 30.094}\n",
      "test results {'nll': 2.286775579071045, 'loss': 2.286775579071045, 'accuracy': 27.07}\n"
     ]
    },
    {
     "name": "stderr",
     "output_type": "stream",
     "text": [
      "\n"
     ]
    },
    {
     "data": {
      "text/plain": [
       "(28.325, 2.35059247850409, 25.433333333333334, 2.045366036244423)"
      ]
     },
     "execution_count": 14,
     "metadata": {},
     "output_type": "execute_result"
    }
   ],
   "source": [
    "stat_sl = get_stat(PointFinderSimultaneous, model_name, architecture, t=0.5,\n",
    "                   \n",
    "                  beg_ind=1, end_ind=7, method='lin_connect')\n",
    "get_mean_svd(stat_sl)"
   ]
  },
  {
   "cell_type": "code",
   "execution_count": 15,
   "metadata": {},
   "outputs": [
    {
     "data": {
      "text/plain": [
       "(28.325, 2.35059247850409, 25.433333333333334, 2.045366036244423)"
      ]
     },
     "execution_count": 15,
     "metadata": {},
     "output_type": "execute_result"
    }
   ],
   "source": [
    "get_mean_svd(stat_sl)"
   ]
  },
  {
   "cell_type": "markdown",
   "metadata": {},
   "source": [
    "# Butterfly Stat"
   ]
  },
  {
   "cell_type": "code",
   "execution_count": 16,
   "metadata": {},
   "outputs": [
    {
     "name": "stderr",
     "output_type": "stream",
     "text": [
      "\r",
      "  0%|          | 0/5 [00:00<?, ?it/s]"
     ]
    },
    {
     "name": "stdout",
     "output_type": "stream",
     "text": [
      "finding feature maps\n"
     ]
    },
    {
     "name": "stderr",
     "output_type": "stream",
     "text": [
      "100%|██████████| 5/5 [00:11<00:00,  2.27s/it]\n",
      "  0%|          | 0/5 [00:00<?, ?it/s]"
     ]
    },
    {
     "name": "stdout",
     "output_type": "stream",
     "text": [
      "finding feature maps\n"
     ]
    },
    {
     "name": "stderr",
     "output_type": "stream",
     "text": [
      "100%|██████████| 5/5 [00:12<00:00,  2.47s/it]\n",
      "0it [00:00, ?it/s]"
     ]
    },
    {
     "name": "stdout",
     "output_type": "stream",
     "text": [
      "adjusting weights\n"
     ]
    },
    {
     "name": "stderr",
     "output_type": "stream",
     "text": [
      "5it [03:27, 46.91s/it] \n"
     ]
    }
   ],
   "source": [
    "pf_b = PointFinderStepWiseButterfly(model1, model2, architecture)"
   ]
  },
  {
   "cell_type": "code",
   "execution_count": 18,
   "metadata": {},
   "outputs": [
    {
     "data": {
      "text/plain": [
       "array([0.        , 0.16666667, 0.33333333, 0.5       , 0.66666667,\n",
       "       0.83333333, 1.        , 1.16666667, 1.33333333, 1.5       ,\n",
       "       1.66666667, 1.83333333, 2.        , 2.16666667, 2.33333333,\n",
       "       2.5       , 2.66666667, 2.83333333, 3.        , 3.16666667,\n",
       "       3.33333333, 3.5       , 3.66666667, 3.83333333, 4.        ,\n",
       "       4.16666667, 4.33333333, 4.5       , 4.66666667, 4.83333333,\n",
       "       5.        , 5.16666667, 5.33333333, 5.5       , 5.66666667,\n",
       "       5.83333333, 6.        ])"
      ]
     },
     "execution_count": 18,
     "metadata": {},
     "output_type": "execute_result"
    }
   ],
   "source": [
    "time = np.linspace(0, depth-1, (depth-1)*6+1)\n",
    "time"
   ]
  },
  {
   "cell_type": "code",
   "execution_count": 19,
   "metadata": {},
   "outputs": [
    {
     "name": "stderr",
     "output_type": "stream",
     "text": [
      "  3%|▎         | 1/37 [00:14<08:51, 14.75s/it]"
     ]
    },
    {
     "name": "stdout",
     "output_type": "stream",
     "text": [
      "train results {'nll': 0.020271396508812906, 'loss': 0.020271396508812906, 'accuracy': 99.384}\n",
      "test results {'nll': 2.9237208782196045, 'loss': 2.9237208782196045, 'accuracy': 60.97}\n"
     ]
    },
    {
     "name": "stderr",
     "output_type": "stream",
     "text": [
      "\r",
      "  5%|▌         | 2/37 [00:28<08:30, 14.60s/it]"
     ]
    },
    {
     "name": "stdout",
     "output_type": "stream",
     "text": [
      "train results {'nll': 0.03208433587193489, 'loss': 0.03208433587193489, 'accuracy': 98.906}\n",
      "test results {'nll': 2.9641803054809572, 'loss': 2.9641803054809572, 'accuracy': 60.26}\n"
     ]
    },
    {
     "name": "stderr",
     "output_type": "stream",
     "text": [
      "\r",
      "  8%|▊         | 3/37 [00:44<08:21, 14.76s/it]"
     ]
    },
    {
     "name": "stdout",
     "output_type": "stream",
     "text": [
      "train results {'nll': 0.10506971950054168, 'loss': 0.10506971950054168, 'accuracy': 96.55}\n",
      "test results {'nll': 3.116132954788208, 'loss': 3.116132954788208, 'accuracy': 58.36}\n"
     ]
    },
    {
     "name": "stderr",
     "output_type": "stream",
     "text": [
      "\r",
      " 11%|█         | 4/37 [00:58<08:02, 14.62s/it]"
     ]
    },
    {
     "name": "stdout",
     "output_type": "stream",
     "text": [
      "train results {'nll': 0.18799395898818969, 'loss': 0.18799395898818969, 'accuracy': 94.108}\n",
      "test results {'nll': 3.223778103637695, 'loss': 3.223778103637695, 'accuracy': 57.17}\n"
     ]
    },
    {
     "name": "stderr",
     "output_type": "stream",
     "text": [
      "\r",
      " 14%|█▎        | 5/37 [01:11<07:34, 14.20s/it]"
     ]
    },
    {
     "name": "stdout",
     "output_type": "stream",
     "text": [
      "train results {'nll': 0.11682862099647522, 'loss': 0.11682862099647522, 'accuracy': 96.142}\n",
      "test results {'nll': 3.1399508113861083, 'loss': 3.1399508113861083, 'accuracy': 57.94}\n"
     ]
    },
    {
     "name": "stderr",
     "output_type": "stream",
     "text": [
      "\r",
      " 16%|█▌        | 6/37 [01:25<07:17, 14.13s/it]"
     ]
    },
    {
     "name": "stdout",
     "output_type": "stream",
     "text": [
      "train results {'nll': 0.03562942425966263, 'loss': 0.03562942425966263, 'accuracy': 98.834}\n",
      "test results {'nll': 2.9818259044647215, 'loss': 2.9818259044647215, 'accuracy': 60.24}\n"
     ]
    },
    {
     "name": "stderr",
     "output_type": "stream",
     "text": [
      "\r",
      " 19%|█▉        | 7/37 [01:39<07:02, 14.08s/it]"
     ]
    },
    {
     "name": "stdout",
     "output_type": "stream",
     "text": [
      "train results {'nll': 0.021782087950110437, 'loss': 0.021782087950110437, 'accuracy': 99.368}\n",
      "test results {'nll': 2.917767116165161, 'loss': 2.917767116165161, 'accuracy': 60.95}\n"
     ]
    },
    {
     "name": "stderr",
     "output_type": "stream",
     "text": [
      "\r",
      " 22%|██▏       | 8/37 [01:53<06:48, 14.07s/it]"
     ]
    },
    {
     "name": "stdout",
     "output_type": "stream",
     "text": [
      "train results {'nll': 1.85817392414093, 'loss': 1.85817392414093, 'accuracy': 86.572}\n",
      "test results {'nll': 4.361799571228027, 'loss': 4.361799571228027, 'accuracy': 54.94}\n"
     ]
    },
    {
     "name": "stderr",
     "output_type": "stream",
     "text": [
      "\r",
      " 24%|██▍       | 9/37 [02:07<06:35, 14.12s/it]"
     ]
    },
    {
     "name": "stdout",
     "output_type": "stream",
     "text": [
      "train results {'nll': 4.446126633758545, 'loss': 4.446126633758545, 'accuracy': 69.738}\n",
      "test results {'nll': 6.406043127441406, 'loss': 6.406043127441406, 'accuracy': 48.89}\n"
     ]
    },
    {
     "name": "stderr",
     "output_type": "stream",
     "text": [
      "\r",
      " 27%|██▋       | 10/37 [02:22<06:22, 14.15s/it]"
     ]
    },
    {
     "name": "stdout",
     "output_type": "stream",
     "text": [
      "train results {'nll': 5.979201112060547, 'loss': 5.979201112060547, 'accuracy': 60.638}\n",
      "test results {'nll': 7.48873729095459, 'loss': 7.48873729095459, 'accuracy': 46.09}\n"
     ]
    },
    {
     "name": "stderr",
     "output_type": "stream",
     "text": [
      "\r",
      " 30%|██▉       | 11/37 [02:35<06:05, 14.06s/it]"
     ]
    },
    {
     "name": "stdout",
     "output_type": "stream",
     "text": [
      "train results {'nll': 4.880527890930176, 'loss': 4.880527890930176, 'accuracy': 65.336}\n",
      "test results {'nll': 6.538219692230225, 'loss': 6.538219692230225, 'accuracy': 48.6}\n"
     ]
    },
    {
     "name": "stderr",
     "output_type": "stream",
     "text": [
      "\r",
      " 32%|███▏      | 12/37 [02:52<06:08, 14.73s/it]"
     ]
    },
    {
     "name": "stdout",
     "output_type": "stream",
     "text": [
      "train results {'nll': 1.6559776515960694, 'loss': 1.6559776515960694, 'accuracy': 83.104}\n",
      "test results {'nll': 3.895987512969971, 'loss': 3.895987512969971, 'accuracy': 55.63}\n"
     ]
    },
    {
     "name": "stderr",
     "output_type": "stream",
     "text": [
      "\r",
      " 35%|███▌      | 13/37 [03:09<06:12, 15.50s/it]"
     ]
    },
    {
     "name": "stdout",
     "output_type": "stream",
     "text": [
      "train results {'nll': 0.12763442078590392, 'loss': 0.12763442078590392, 'accuracy': 95.664}\n",
      "test results {'nll': 2.735128071594238, 'loss': 2.735128071594238, 'accuracy': 60.69}\n"
     ]
    },
    {
     "name": "stderr",
     "output_type": "stream",
     "text": [
      "\r",
      " 38%|███▊      | 14/37 [03:24<05:50, 15.26s/it]"
     ]
    },
    {
     "name": "stdout",
     "output_type": "stream",
     "text": [
      "train results {'nll': 0.2610076479101181, 'loss': 0.2610076479101181, 'accuracy': 91.66}\n",
      "test results {'nll': 2.7441888339996336, 'loss': 2.7441888339996336, 'accuracy': 60.05}\n"
     ]
    },
    {
     "name": "stderr",
     "output_type": "stream",
     "text": [
      "\r",
      " 41%|████      | 15/37 [03:42<05:57, 16.23s/it]"
     ]
    },
    {
     "name": "stdout",
     "output_type": "stream",
     "text": [
      "train results {'nll': 0.7912928758049012, 'loss': 0.7912928758049012, 'accuracy': 79.998}\n",
      "test results {'nll': 2.8199295879364015, 'loss': 2.8199295879364015, 'accuracy': 57.64}\n"
     ]
    },
    {
     "name": "stderr",
     "output_type": "stream",
     "text": [
      "\r",
      " 43%|████▎     | 16/37 [04:01<05:56, 17.00s/it]"
     ]
    },
    {
     "name": "stdout",
     "output_type": "stream",
     "text": [
      "train results {'nll': 1.228397885017395, 'loss': 1.228397885017395, 'accuracy': 72.736}\n",
      "test results {'nll': 2.8190172943115233, 'loss': 2.8190172943115233, 'accuracy': 56.23}\n"
     ]
    },
    {
     "name": "stderr",
     "output_type": "stream",
     "text": [
      "\r",
      " 46%|████▌     | 17/37 [04:18<05:42, 17.11s/it]"
     ]
    },
    {
     "name": "stdout",
     "output_type": "stream",
     "text": [
      "train results {'nll': 0.9884654808425903, 'loss': 0.9884654808425903, 'accuracy': 75.53}\n",
      "test results {'nll': 2.5387165367126463, 'loss': 2.5387165367126463, 'accuracy': 57.57}\n"
     ]
    },
    {
     "name": "stderr",
     "output_type": "stream",
     "text": [
      "\r",
      " 49%|████▊     | 18/37 [04:37<05:33, 17.53s/it]"
     ]
    },
    {
     "name": "stdout",
     "output_type": "stream",
     "text": [
      "train results {'nll': 0.5407243877410889, 'loss': 0.5407243877410889, 'accuracy': 83.718}\n",
      "test results {'nll': 2.250392064666748, 'loss': 2.250392064666748, 'accuracy': 59.81}\n"
     ]
    },
    {
     "name": "stderr",
     "output_type": "stream",
     "text": [
      "\r",
      " 51%|█████▏    | 19/37 [04:56<05:25, 18.10s/it]"
     ]
    },
    {
     "name": "stdout",
     "output_type": "stream",
     "text": [
      "train results {'nll': 0.375023902425766, 'loss': 0.375023902425766, 'accuracy': 87.668}\n",
      "test results {'nll': 2.1775904865264892, 'loss': 2.1775904865264892, 'accuracy': 60.65}\n"
     ]
    },
    {
     "name": "stderr",
     "output_type": "stream",
     "text": [
      "\r",
      " 54%|█████▍    | 20/37 [05:14<05:06, 18.00s/it]"
     ]
    },
    {
     "name": "stdout",
     "output_type": "stream",
     "text": [
      "train results {'nll': 0.40821354369163515, 'loss': 0.40821354369163515, 'accuracy': 86.712}\n",
      "test results {'nll': 2.2198592750549317, 'loss': 2.2198592750549317, 'accuracy': 60.59}\n"
     ]
    },
    {
     "name": "stderr",
     "output_type": "stream",
     "text": [
      "\r",
      " 57%|█████▋    | 21/37 [05:32<04:47, 17.94s/it]"
     ]
    },
    {
     "name": "stdout",
     "output_type": "stream",
     "text": [
      "train results {'nll': 0.4391122312927246, 'loss': 0.4391122312927246, 'accuracy': 86.37}\n",
      "test results {'nll': 2.343649505996704, 'loss': 2.343649505996704, 'accuracy': 59.85}\n"
     ]
    },
    {
     "name": "stderr",
     "output_type": "stream",
     "text": [
      "\r",
      " 59%|█████▉    | 22/37 [05:49<04:27, 17.84s/it]"
     ]
    },
    {
     "name": "stdout",
     "output_type": "stream",
     "text": [
      "train results {'nll': 0.3567091975307465, 'loss': 0.3567091975307465, 'accuracy': 88.934}\n",
      "test results {'nll': 2.4935183193206787, 'loss': 2.4935183193206787, 'accuracy': 59.73}\n"
     ]
    },
    {
     "name": "stderr",
     "output_type": "stream",
     "text": [
      "\r",
      " 62%|██████▏   | 23/37 [06:09<04:17, 18.38s/it]"
     ]
    },
    {
     "name": "stdout",
     "output_type": "stream",
     "text": [
      "train results {'nll': 0.19291576255321502, 'loss': 0.19291576255321502, 'accuracy': 93.57}\n",
      "test results {'nll': 2.6182368110656737, 'loss': 2.6182368110656737, 'accuracy': 60.23}\n"
     ]
    },
    {
     "name": "stderr",
     "output_type": "stream",
     "text": [
      "\r",
      " 65%|██████▍   | 24/37 [06:27<03:55, 18.11s/it]"
     ]
    },
    {
     "name": "stdout",
     "output_type": "stream",
     "text": [
      "train results {'nll': 0.08583237270593644, 'loss': 0.08583237270593644, 'accuracy': 97.056}\n",
      "test results {'nll': 2.7027032203674315, 'loss': 2.7027032203674315, 'accuracy': 61.35}\n"
     ]
    },
    {
     "name": "stderr",
     "output_type": "stream",
     "text": [
      "\r",
      " 68%|██████▊   | 25/37 [06:44<03:33, 17.81s/it]"
     ]
    },
    {
     "name": "stdout",
     "output_type": "stream",
     "text": [
      "train results {'nll': 0.05839925611138344, 'loss': 0.05839925611138344, 'accuracy': 98.104}\n",
      "test results {'nll': 2.729659909439087, 'loss': 2.729659909439087, 'accuracy': 61.68}\n"
     ]
    },
    {
     "name": "stderr",
     "output_type": "stream",
     "text": [
      "\r",
      " 70%|███████   | 26/37 [07:02<03:15, 17.81s/it]"
     ]
    },
    {
     "name": "stdout",
     "output_type": "stream",
     "text": [
      "train results {'nll': 0.0720668491268158, 'loss': 0.0720668491268158, 'accuracy': 97.564}\n",
      "test results {'nll': 2.8309894134521483, 'loss': 2.8309894134521483, 'accuracy': 61.34}\n"
     ]
    },
    {
     "name": "stderr",
     "output_type": "stream",
     "text": [
      "\r",
      " 73%|███████▎  | 27/37 [07:19<02:56, 17.66s/it]"
     ]
    },
    {
     "name": "stdout",
     "output_type": "stream",
     "text": [
      "train results {'nll': 0.10875041671276092, 'loss': 0.10875041671276092, 'accuracy': 96.358}\n",
      "test results {'nll': 2.949852350997925, 'loss': 2.949852350997925, 'accuracy': 60.19}\n"
     ]
    },
    {
     "name": "stderr",
     "output_type": "stream",
     "text": [
      "\r",
      " 76%|███████▌  | 28/37 [07:36<02:37, 17.55s/it]"
     ]
    },
    {
     "name": "stdout",
     "output_type": "stream",
     "text": [
      "train results {'nll': 0.13039242292165756, 'loss': 0.13039242292165756, 'accuracy': 95.646}\n",
      "test results {'nll': 3.0196871334075928, 'loss': 3.0196871334075928, 'accuracy': 59.29}\n"
     ]
    },
    {
     "name": "stderr",
     "output_type": "stream",
     "text": [
      "\r",
      " 78%|███████▊  | 29/37 [07:54<02:21, 17.69s/it]"
     ]
    },
    {
     "name": "stdout",
     "output_type": "stream",
     "text": [
      "train results {'nll': 0.09349549569368362, 'loss': 0.09349549569368362, 'accuracy': 96.79}\n",
      "test results {'nll': 2.9482152770996093, 'loss': 2.9482152770996093, 'accuracy': 59.9}\n"
     ]
    },
    {
     "name": "stderr",
     "output_type": "stream",
     "text": [
      "\r",
      " 81%|████████  | 30/37 [08:10<02:00, 17.28s/it]"
     ]
    },
    {
     "name": "stdout",
     "output_type": "stream",
     "text": [
      "train results {'nll': 0.047134315786361694, 'loss': 0.047134315786361694, 'accuracy': 98.484}\n",
      "test results {'nll': 2.8144220764160157, 'loss': 2.8144220764160157, 'accuracy': 61.21}\n"
     ]
    },
    {
     "name": "stderr",
     "output_type": "stream",
     "text": [
      "\r",
      " 84%|████████▍ | 31/37 [08:30<01:47, 17.95s/it]"
     ]
    },
    {
     "name": "stdout",
     "output_type": "stream",
     "text": [
      "train results {'nll': 0.03092816832661629, 'loss': 0.03092816832661629, 'accuracy': 99.068}\n",
      "test results {'nll': 2.7973120697021483, 'loss': 2.7973120697021483, 'accuracy': 61.65}\n"
     ]
    },
    {
     "name": "stderr",
     "output_type": "stream",
     "text": [
      "\r",
      " 86%|████████▋ | 32/37 [08:46<01:27, 17.46s/it]"
     ]
    },
    {
     "name": "stdout",
     "output_type": "stream",
     "text": [
      "train results {'nll': 0.030096510478258134, 'loss': 0.030096510478258134, 'accuracy': 99.094}\n",
      "test results {'nll': 2.7496227294921876, 'loss': 2.7496227294921876, 'accuracy': 61.85}\n"
     ]
    },
    {
     "name": "stderr",
     "output_type": "stream",
     "text": [
      "\r",
      " 89%|████████▉ | 33/37 [09:02<01:08, 17.02s/it]"
     ]
    },
    {
     "name": "stdout",
     "output_type": "stream",
     "text": [
      "train results {'nll': 0.028053870087265967, 'loss': 0.028053870087265967, 'accuracy': 99.182}\n",
      "test results {'nll': 2.702583487701416, 'loss': 2.702583487701416, 'accuracy': 61.86}\n"
     ]
    },
    {
     "name": "stderr",
     "output_type": "stream",
     "text": [
      "\r",
      " 92%|█████████▏| 34/37 [09:19<00:51, 17.02s/it]"
     ]
    },
    {
     "name": "stdout",
     "output_type": "stream",
     "text": [
      "train results {'nll': 0.02579757787168026, 'loss': 0.02579757787168026, 'accuracy': 99.284}\n",
      "test results {'nll': 2.698321657180786, 'loss': 2.698321657180786, 'accuracy': 61.62}\n"
     ]
    },
    {
     "name": "stderr",
     "output_type": "stream",
     "text": [
      "\r",
      " 95%|█████████▍| 35/37 [09:35<00:32, 16.47s/it]"
     ]
    },
    {
     "name": "stdout",
     "output_type": "stream",
     "text": [
      "train results {'nll': 0.02405867674946785, 'loss': 0.02405867674946785, 'accuracy': 99.334}\n",
      "test results {'nll': 2.7503007301330564, 'loss': 2.7503007301330564, 'accuracy': 61.24}\n"
     ]
    },
    {
     "name": "stderr",
     "output_type": "stream",
     "text": [
      "\r",
      " 97%|█████████▋| 36/37 [09:52<00:16, 16.82s/it]"
     ]
    },
    {
     "name": "stdout",
     "output_type": "stream",
     "text": [
      "train results {'nll': 0.023059520793557168, 'loss': 0.023059520793557168, 'accuracy': 99.33}\n",
      "test results {'nll': 2.8355438140869142, 'loss': 2.8355438140869142, 'accuracy': 61.09}\n"
     ]
    },
    {
     "name": "stderr",
     "output_type": "stream",
     "text": [
      "\r",
      "100%|██████████| 37/37 [10:08<00:00, 16.57s/it]"
     ]
    },
    {
     "name": "stdout",
     "output_type": "stream",
     "text": [
      "train results {'nll': 0.022724376317858695, 'loss': 0.022724376317858695, 'accuracy': 99.356}\n",
      "test results {'nll': 2.899928831100464, 'loss': 2.899928831100464, 'accuracy': 61.05}\n"
     ]
    },
    {
     "name": "stderr",
     "output_type": "stream",
     "text": [
      "\n"
     ]
    }
   ],
   "source": [
    "path_b = find_path(time, pf_b, method='arc_connect')"
   ]
  },
  {
   "cell_type": "code",
   "execution_count": 20,
   "metadata": {},
   "outputs": [
    {
     "data": {
      "image/png": "[encoded data removed]",
      "text/plain": [
       "<Figure size 432x288 with 1 Axes>"
      ]
     },
     "metadata": {
      "needs_background": "light"
     },
     "output_type": "display_data"
    }
   ],
   "source": [
    "plt.plot(time, path_b['train'], label='train')\n",
    "plt.plot(time, path_b['test'], label='test') \n",
    "plt.legend()\n",
    "plt.xlabel('time')\n",
    "plt.ylabel('error (%)')\n",
    "plt.show()"
   ]
  },
  {
   "cell_type": "code",
   "execution_count": 21,
   "metadata": {},
   "outputs": [
    {
     "name": "stderr",
     "output_type": "stream",
     "text": [
      "  3%|▎         | 1/37 [00:15<09:32, 15.90s/it]"
     ]
    },
    {
     "name": "stdout",
     "output_type": "stream",
     "text": [
      "train results {'nll': 0.02027139685869217, 'loss': 0.02027139685869217, 'accuracy': 99.384}\n",
      "test results {'nll': 2.9237209270477296, 'loss': 2.9237209270477296, 'accuracy': 60.97}\n"
     ]
    },
    {
     "name": "stderr",
     "output_type": "stream",
     "text": [
      "\r",
      "  5%|▌         | 2/37 [00:31<09:13, 15.81s/it]"
     ]
    },
    {
     "name": "stdout",
     "output_type": "stream",
     "text": [
      "train results {'nll': 0.09844944579124451, 'loss': 0.09844944579124451, 'accuracy': 97.124}\n",
      "test results {'nll': 2.1143385322570802, 'loss': 2.1143385322570802, 'accuracy': 59.23}\n"
     ]
    },
    {
     "name": "stderr",
     "output_type": "stream",
     "text": [
      "\r",
      "  8%|▊         | 3/37 [00:46<08:52, 15.67s/it]"
     ]
    },
    {
     "name": "stdout",
     "output_type": "stream",
     "text": [
      "train results {'nll': 0.5160093083190918, 'loss': 0.5160093083190918, 'accuracy': 85.118}\n",
      "test results {'nll': 1.9161123050689697, 'loss': 1.9161123050689697, 'accuracy': 53.92}\n"
     ]
    },
    {
     "name": "stderr",
     "output_type": "stream",
     "text": [
      "\r",
      " 11%|█         | 4/37 [01:01<08:22, 15.22s/it]"
     ]
    },
    {
     "name": "stdout",
     "output_type": "stream",
     "text": [
      "train results {'nll': 0.8375010451316833, 'loss': 0.8375010451316833, 'accuracy': 75.85}\n",
      "test results {'nll': 1.970714137840271, 'loss': 1.970714137840271, 'accuracy': 49.98}\n"
     ]
    },
    {
     "name": "stderr",
     "output_type": "stream",
     "text": [
      "\r",
      " 14%|█▎        | 5/37 [01:16<08:13, 15.43s/it]"
     ]
    },
    {
     "name": "stdout",
     "output_type": "stream",
     "text": [
      "train results {'nll': 0.532280230884552, 'loss': 0.532280230884552, 'accuracy': 84.534}\n",
      "test results {'nll': 1.9320291402816772, 'loss': 1.9320291402816772, 'accuracy': 53.52}\n"
     ]
    },
    {
     "name": "stderr",
     "output_type": "stream",
     "text": [
      "\r",
      " 16%|█▌        | 6/37 [01:32<07:59, 15.46s/it]"
     ]
    },
    {
     "name": "stdout",
     "output_type": "stream",
     "text": [
      "train results {'nll': 0.10299285578966141, 'loss': 0.10299285578966141, 'accuracy': 96.96}\n",
      "test results {'nll': 2.118897555923462, 'loss': 2.118897555923462, 'accuracy': 59.14}\n"
     ]
    },
    {
     "name": "stderr",
     "output_type": "stream",
     "text": [
      "\r",
      " 19%|█▉        | 7/37 [01:47<07:40, 15.35s/it]"
     ]
    },
    {
     "name": "stdout",
     "output_type": "stream",
     "text": [
      "train results {'nll': 0.02178208738386631, 'loss': 0.02178208738386631, 'accuracy': 99.368}\n",
      "test results {'nll': 2.9177669940948485, 'loss': 2.9177669940948485, 'accuracy': 60.95}\n"
     ]
    },
    {
     "name": "stderr",
     "output_type": "stream",
     "text": [
      "\r",
      " 22%|██▏       | 8/37 [02:01<07:10, 14.86s/it]"
     ]
    },
    {
     "name": "stdout",
     "output_type": "stream",
     "text": [
      "train results {'nll': 0.8091637930488587, 'loss': 0.8091637930488587, 'accuracy': 90.394}\n",
      "test results {'nll': 2.435530355453491, 'loss': 2.435530355453491, 'accuracy': 55.35}\n"
     ]
    },
    {
     "name": "stderr",
     "output_type": "stream",
     "text": [
      "\r",
      " 24%|██▍       | 9/37 [02:16<06:56, 14.87s/it]"
     ]
    },
    {
     "name": "stdout",
     "output_type": "stream",
     "text": [
      "train results {'nll': 1.5237778686523438, 'loss': 1.5237778686523438, 'accuracy': 76.584}\n",
      "test results {'nll': 2.377400842666626, 'loss': 2.377400842666626, 'accuracy': 50.37}\n"
     ]
    },
    {
     "name": "stderr",
     "output_type": "stream",
     "text": [
      "\r",
      " 27%|██▋       | 10/37 [02:30<06:33, 14.58s/it]"
     ]
    },
    {
     "name": "stdout",
     "output_type": "stream",
     "text": [
      "train results {'nll': 1.767692603149414, 'loss': 1.767692603149414, 'accuracy': 65.118}\n",
      "test results {'nll': 2.267792794036865, 'loss': 2.267792794036865, 'accuracy': 47.97}\n"
     ]
    },
    {
     "name": "stderr",
     "output_type": "stream",
     "text": [
      "\r",
      " 30%|██▉       | 11/37 [02:43<06:13, 14.36s/it]"
     ]
    },
    {
     "name": "stdout",
     "output_type": "stream",
     "text": [
      "train results {'nll': 1.1334726108932496, 'loss': 1.1334726108932496, 'accuracy': 75.852}\n",
      "test results {'nll': 1.8759420202255248, 'loss': 1.8759420202255248, 'accuracy': 53.03}\n"
     ]
    },
    {
     "name": "stderr",
     "output_type": "stream",
     "text": [
      "\r",
      " 32%|███▏      | 12/37 [02:57<05:53, 14.12s/it]"
     ]
    },
    {
     "name": "stdout",
     "output_type": "stream",
     "text": [
      "train results {'nll': 0.3096628565120697, 'loss': 0.3096628565120697, 'accuracy': 91.608}\n",
      "test results {'nll': 1.7693521999359132, 'loss': 1.7693521999359132, 'accuracy': 58.98}\n"
     ]
    },
    {
     "name": "stderr",
     "output_type": "stream",
     "text": [
      "\r",
      " 35%|███▌      | 13/37 [03:11<05:36, 14.01s/it]"
     ]
    },
    {
     "name": "stdout",
     "output_type": "stream",
     "text": [
      "train results {'nll': 0.12763441941261292, 'loss': 0.12763441941261292, 'accuracy': 95.664}\n",
      "test results {'nll': 2.735128096008301, 'loss': 2.735128096008301, 'accuracy': 60.69}\n"
     ]
    },
    {
     "name": "stderr",
     "output_type": "stream",
     "text": [
      "\r",
      " 38%|███▊      | 14/37 [03:25<05:20, 13.95s/it]"
     ]
    },
    {
     "name": "stdout",
     "output_type": "stream",
     "text": [
      "train results {'nll': 0.21638040920257567, 'loss': 0.21638040920257567, 'accuracy': 92.972}\n",
      "test results {'nll': 1.729512251853943, 'loss': 1.729512251853943, 'accuracy': 58.74}\n"
     ]
    },
    {
     "name": "stderr",
     "output_type": "stream",
     "text": [
      "\r",
      " 41%|████      | 15/37 [03:40<05:18, 14.47s/it]"
     ]
    },
    {
     "name": "stdout",
     "output_type": "stream",
     "text": [
      "train results {'nll': 0.6404856070709228, 'loss': 0.6404856070709228, 'accuracy': 79.742}\n",
      "test results {'nll': 1.4359262363433838, 'loss': 1.4359262363433838, 'accuracy': 54.74}\n"
     ]
    },
    {
     "name": "stderr",
     "output_type": "stream",
     "text": [
      "\r",
      " 43%|████▎     | 16/37 [03:54<04:56, 14.11s/it]"
     ]
    },
    {
     "name": "stdout",
     "output_type": "stream",
     "text": [
      "train results {'nll': 0.9818395198631287, 'loss': 0.9818395198631287, 'accuracy': 68.33}\n",
      "test results {'nll': 1.4506009757995606, 'loss': 1.4506009757995606, 'accuracy': 51.66}\n"
     ]
    },
    {
     "name": "stderr",
     "output_type": "stream",
     "text": [
      "\r",
      " 46%|████▌     | 17/37 [04:08<04:44, 14.20s/it]"
     ]
    },
    {
     "name": "stdout",
     "output_type": "stream",
     "text": [
      "train results {'nll': 0.7838382438468933, 'loss': 0.7838382438468933, 'accuracy': 75.24}\n",
      "test results {'nll': 1.3655375379562378, 'loss': 1.3655375379562378, 'accuracy': 55.47}\n"
     ]
    },
    {
     "name": "stderr",
     "output_type": "stream",
     "text": [
      "\r",
      " 49%|████▊     | 18/37 [04:23<04:32, 14.33s/it]"
     ]
    },
    {
     "name": "stdout",
     "output_type": "stream",
     "text": [
      "train results {'nll': 0.43516771122932435, 'loss': 0.43516771122932435, 'accuracy': 85.584}\n",
      "test results {'nll': 1.450766760444641, 'loss': 1.450766760444641, 'accuracy': 59.36}\n"
     ]
    },
    {
     "name": "stderr",
     "output_type": "stream",
     "text": [
      "\r",
      " 51%|█████▏    | 19/37 [04:37<04:18, 14.35s/it]"
     ]
    },
    {
     "name": "stdout",
     "output_type": "stream",
     "text": [
      "train results {'nll': 0.3750239036464691, 'loss': 0.3750239036464691, 'accuracy': 87.668}\n",
      "test results {'nll': 2.177590437698364, 'loss': 2.177590437698364, 'accuracy': 60.65}\n"
     ]
    },
    {
     "name": "stderr",
     "output_type": "stream",
     "text": [
      "\r",
      " 54%|█████▍    | 20/37 [04:51<04:03, 14.30s/it]"
     ]
    },
    {
     "name": "stdout",
     "output_type": "stream",
     "text": [
      "train results {'nll': 0.38486819520950316, 'loss': 0.38486819520950316, 'accuracy': 86.832}\n",
      "test results {'nll': 1.5060779066085817, 'loss': 1.5060779066085817, 'accuracy': 60.33}\n"
     ]
    },
    {
     "name": "stderr",
     "output_type": "stream",
     "text": [
      "\r",
      " 57%|█████▋    | 21/37 [05:06<03:49, 14.34s/it]"
     ]
    },
    {
     "name": "stdout",
     "output_type": "stream",
     "text": [
      "train results {'nll': 0.5056396412754058, 'loss': 0.5056396412754058, 'accuracy': 85.194}\n",
      "test results {'nll': 1.2956116704940797, 'loss': 1.2956116704940797, 'accuracy': 58.51}\n"
     ]
    },
    {
     "name": "stderr",
     "output_type": "stream",
     "text": [
      "\r",
      " 59%|█████▉    | 22/37 [05:20<03:33, 14.24s/it]"
     ]
    },
    {
     "name": "stdout",
     "output_type": "stream",
     "text": [
      "train results {'nll': 0.46866360374450683, 'loss': 0.46866360374450683, 'accuracy': 88.224}\n",
      "test results {'nll': 1.282296883201599, 'loss': 1.282296883201599, 'accuracy': 58.21}\n"
     ]
    },
    {
     "name": "stderr",
     "output_type": "stream",
     "text": [
      "\r",
      " 62%|██████▏   | 23/37 [05:34<03:21, 14.42s/it]"
     ]
    },
    {
     "name": "stdout",
     "output_type": "stream",
     "text": [
      "train results {'nll': 0.22341393729686737, 'loss': 0.22341393729686737, 'accuracy': 94.856}\n",
      "test results {'nll': 1.3755180213928222, 'loss': 1.3755180213928222, 'accuracy': 59.76}\n"
     ]
    },
    {
     "name": "stderr",
     "output_type": "stream",
     "text": [
      "\r",
      " 65%|██████▍   | 24/37 [05:48<03:04, 14.18s/it]"
     ]
    },
    {
     "name": "stdout",
     "output_type": "stream",
     "text": [
      "train results {'nll': 0.08315474558353424, 'loss': 0.08315474558353424, 'accuracy': 97.728}\n",
      "test results {'nll': 1.8207750814437866, 'loss': 1.8207750814437866, 'accuracy': 61.17}\n"
     ]
    },
    {
     "name": "stderr",
     "output_type": "stream",
     "text": [
      "\r",
      " 68%|██████▊   | 25/37 [06:03<02:53, 14.47s/it]"
     ]
    },
    {
     "name": "stdout",
     "output_type": "stream",
     "text": [
      "train results {'nll': 0.05839925566673279, 'loss': 0.05839925566673279, 'accuracy': 98.104}\n",
      "test results {'nll': 2.7296599338531493, 'loss': 2.7296599338531493, 'accuracy': 61.68}\n"
     ]
    },
    {
     "name": "stderr",
     "output_type": "stream",
     "text": [
      "\r",
      " 70%|███████   | 26/37 [06:16<02:34, 14.05s/it]"
     ]
    },
    {
     "name": "stdout",
     "output_type": "stream",
     "text": [
      "train results {'nll': 0.06941503549337387, 'loss': 0.06941503549337387, 'accuracy': 97.79}\n",
      "test results {'nll': 2.183088216018677, 'loss': 2.183088216018677, 'accuracy': 61.47}\n"
     ]
    },
    {
     "name": "stderr",
     "output_type": "stream",
     "text": [
      "\r",
      " 73%|███████▎  | 27/37 [06:30<02:20, 14.08s/it]"
     ]
    },
    {
     "name": "stdout",
     "output_type": "stream",
     "text": [
      "train results {'nll': 0.10441933725118636, 'loss': 0.10441933725118636, 'accuracy': 96.928}\n",
      "test results {'nll': 1.8719836048126222, 'loss': 1.8719836048126222, 'accuracy': 60.42}\n"
     ]
    },
    {
     "name": "stderr",
     "output_type": "stream",
     "text": [
      "\r",
      " 76%|███████▌  | 28/37 [06:44<02:05, 13.96s/it]"
     ]
    },
    {
     "name": "stdout",
     "output_type": "stream",
     "text": [
      "train results {'nll': 0.12286436184644699, 'loss': 0.12286436184644699, 'accuracy': 96.514}\n",
      "test results {'nll': 1.804198694419861, 'loss': 1.804198694419861, 'accuracy': 59.73}\n"
     ]
    },
    {
     "name": "stderr",
     "output_type": "stream",
     "text": [
      "\r",
      " 78%|███████▊  | 29/37 [06:58<01:50, 13.84s/it]"
     ]
    },
    {
     "name": "stdout",
     "output_type": "stream",
     "text": [
      "train results {'nll': 0.07955416050195693, 'loss': 0.07955416050195693, 'accuracy': 97.904}\n",
      "test results {'nll': 1.89474591960907, 'loss': 1.89474591960907, 'accuracy': 60.44}\n"
     ]
    },
    {
     "name": "stderr",
     "output_type": "stream",
     "text": [
      "\r",
      " 81%|████████  | 30/37 [07:12<01:37, 13.89s/it]"
     ]
    },
    {
     "name": "stdout",
     "output_type": "stream",
     "text": [
      "train results {'nll': 0.04171580689191818, 'loss': 0.04171580689191818, 'accuracy': 98.882}\n",
      "test results {'nll': 2.2161430839538574, 'loss': 2.2161430839538574, 'accuracy': 61.67}\n"
     ]
    },
    {
     "name": "stderr",
     "output_type": "stream",
     "text": [
      "\r",
      " 84%|████████▍ | 31/37 [07:26<01:23, 13.95s/it]"
     ]
    },
    {
     "name": "stdout",
     "output_type": "stream",
     "text": [
      "train results {'nll': 0.03092816847920418, 'loss': 0.03092816847920418, 'accuracy': 99.068}\n",
      "test results {'nll': 2.7973120697021483, 'loss': 2.7973120697021483, 'accuracy': 61.65}\n"
     ]
    },
    {
     "name": "stderr",
     "output_type": "stream",
     "text": [
      "\r",
      " 86%|████████▋ | 32/37 [07:39<01:09, 13.81s/it]"
     ]
    },
    {
     "name": "stdout",
     "output_type": "stream",
     "text": [
      "train results {'nll': 0.0365619012093544, 'loss': 0.0365619012093544, 'accuracy': 99.078}\n",
      "test results {'nll': 2.1062443283081054, 'loss': 2.1062443283081054, 'accuracy': 61.8}\n"
     ]
    },
    {
     "name": "stderr",
     "output_type": "stream",
     "text": [
      "\r",
      " 89%|████████▉ | 33/37 [07:54<00:56, 14.03s/it]"
     ]
    },
    {
     "name": "stdout",
     "output_type": "stream",
     "text": [
      "train results {'nll': 0.048860653669834136, 'loss': 0.048860653669834136, 'accuracy': 99.152}\n",
      "test results {'nll': 1.7165781270980836, 'loss': 1.7165781270980836, 'accuracy': 61.77}\n"
     ]
    },
    {
     "name": "stderr",
     "output_type": "stream",
     "text": [
      "\r",
      " 92%|█████████▏| 34/37 [08:08<00:42, 14.05s/it]"
     ]
    },
    {
     "name": "stdout",
     "output_type": "stream",
     "text": [
      "train results {'nll': 0.0543803058385849, 'loss': 0.0543803058385849, 'accuracy': 99.26}\n",
      "test results {'nll': 1.6094184246063232, 'loss': 1.6094184246063232, 'accuracy': 61.35}\n"
     ]
    },
    {
     "name": "stderr",
     "output_type": "stream",
     "text": [
      "\r",
      " 95%|█████████▍| 35/37 [08:21<00:27, 13.86s/it]"
     ]
    },
    {
     "name": "stdout",
     "output_type": "stream",
     "text": [
      "train results {'nll': 0.04195748266220093, 'loss': 0.04195748266220093, 'accuracy': 99.332}\n",
      "test results {'nll': 1.7585787878036498, 'loss': 1.7585787878036498, 'accuracy': 61.11}\n"
     ]
    },
    {
     "name": "stderr",
     "output_type": "stream",
     "text": [
      "\r",
      " 97%|█████████▋| 36/37 [08:37<00:14, 14.30s/it]"
     ]
    },
    {
     "name": "stdout",
     "output_type": "stream",
     "text": [
      "train results {'nll': 0.027954356753230096, 'loss': 0.027954356753230096, 'accuracy': 99.338}\n",
      "test results {'nll': 2.1841207763671875, 'loss': 2.1841207763671875, 'accuracy': 60.96}\n"
     ]
    },
    {
     "name": "stderr",
     "output_type": "stream",
     "text": [
      "\r",
      "100%|██████████| 37/37 [08:51<00:00, 14.37s/it]"
     ]
    },
    {
     "name": "stdout",
     "output_type": "stream",
     "text": [
      "train results {'nll': 0.022724376260638238, 'loss': 0.022724376260638238, 'accuracy': 99.356}\n",
      "test results {'nll': 2.899928831100464, 'loss': 2.899928831100464, 'accuracy': 61.05}\n"
     ]
    },
    {
     "name": "stderr",
     "output_type": "stream",
     "text": [
      "\n"
     ]
    }
   ],
   "source": [
    "path_bl = find_path(time, pf_b, method='lin_connect')"
   ]
  },
  {
   "cell_type": "code",
   "execution_count": 22,
   "metadata": {},
   "outputs": [
    {
     "data": {
      "image/png": "[encoded data removed]",
      "text/plain": [
       "<Figure size 432x288 with 1 Axes>"
      ]
     },
     "metadata": {
      "needs_background": "light"
     },
     "output_type": "display_data"
    }
   ],
   "source": [
    "plt.plot(time, path_bl['train'], label='train')\n",
    "plt.plot(time, path_bl['test'], label='test') \n",
    "plt.legend()\n",
    "plt.xlabel('time')\n",
    "plt.ylabel('error (%)')\n",
    "plt.show()"
   ]
  },
  {
   "cell_type": "code",
   "execution_count": 23,
   "metadata": {
    "scrolled": true
   },
   "outputs": [
    {
     "name": "stderr",
     "output_type": "stream",
     "text": [
      "  0%|          | 0/6 [00:00<?, ?it/s]\n",
      "  0%|          | 0/5 [00:00<?, ?it/s]\u001b[A"
     ]
    },
    {
     "name": "stdout",
     "output_type": "stream",
     "text": [
      "finding feature maps\n"
     ]
    },
    {
     "name": "stderr",
     "output_type": "stream",
     "text": [
      "\n",
      " 20%|██        | 1/5 [00:09<00:36,  9.13s/it]\u001b[A\n",
      " 40%|████      | 2/5 [00:13<00:23,  7.85s/it]\u001b[A\n",
      " 60%|██████    | 3/5 [00:14<00:11,  5.76s/it]\u001b[A\n",
      " 80%|████████  | 4/5 [00:15<00:04,  4.23s/it]\u001b[A\n",
      "100%|██████████| 5/5 [00:16<00:00,  3.16s/it]\u001b[A\n",
      "\u001b[A\n",
      "  0%|          | 0/5 [00:00<?, ?it/s]\u001b[A"
     ]
    },
    {
     "name": "stdout",
     "output_type": "stream",
     "text": [
      "finding feature maps\n"
     ]
    },
    {
     "name": "stderr",
     "output_type": "stream",
     "text": [
      "\n",
      " 20%|██        | 1/5 [00:08<00:32,  8.15s/it]\u001b[A\n",
      " 40%|████      | 2/5 [00:12<00:20,  6.96s/it]\u001b[A\n",
      " 60%|██████    | 3/5 [00:13<00:10,  5.14s/it]\u001b[A\n",
      " 80%|████████  | 4/5 [00:13<00:03,  3.79s/it]\u001b[A\n",
      "100%|██████████| 5/5 [00:14<00:00,  2.86s/it]\u001b[A\n",
      "\u001b[A\n",
      "0it [00:00, ?it/s]\u001b[A"
     ]
    },
    {
     "name": "stdout",
     "output_type": "stream",
     "text": [
      "adjusting weights\n"
     ]
    },
    {
     "name": "stderr",
     "output_type": "stream",
     "text": [
      "\n",
      "1it [03:13, 193.13s/it]\u001b[A\n",
      "2it [03:40, 143.38s/it]\u001b[A\n",
      "3it [03:51, 103.70s/it]\u001b[A\n",
      "4it [04:02, 75.97s/it] \u001b[A\n",
      "5it [04:08, 54.99s/it]\u001b[A\n",
      " 17%|█▋        | 1/6 [04:54<24:33, 294.69s/it]"
     ]
    },
    {
     "name": "stdout",
     "output_type": "stream",
     "text": [
      "train results {'nll': 2.5999706895446777, 'loss': 2.5999706895446777, 'accuracy': 65.55}\n",
      "test results {'nll': 4.4543079246521, 'loss': 4.4543079246521, 'accuracy': 48.92}\n"
     ]
    },
    {
     "name": "stderr",
     "output_type": "stream",
     "text": [
      "\n",
      "  0%|          | 0/5 [00:00<?, ?it/s]\u001b[A"
     ]
    },
    {
     "name": "stdout",
     "output_type": "stream",
     "text": [
      "finding feature maps\n"
     ]
    },
    {
     "name": "stderr",
     "output_type": "stream",
     "text": [
      "\n",
      " 20%|██        | 1/5 [00:07<00:30,  7.54s/it]\u001b[A\n",
      " 40%|████      | 2/5 [00:11<00:19,  6.44s/it]\u001b[A\n",
      " 60%|██████    | 3/5 [00:12<00:09,  4.73s/it]\u001b[A\n",
      " 80%|████████  | 4/5 [00:12<00:03,  3.43s/it]\u001b[A\n",
      "100%|██████████| 5/5 [00:13<00:00,  2.57s/it]\u001b[A\n",
      "\u001b[A\n",
      "  0%|          | 0/5 [00:00<?, ?it/s]\u001b[A"
     ]
    },
    {
     "name": "stdout",
     "output_type": "stream",
     "text": [
      "finding feature maps\n"
     ]
    },
    {
     "name": "stderr",
     "output_type": "stream",
     "text": [
      "\n",
      " 20%|██        | 1/5 [00:06<00:26,  6.54s/it]\u001b[A\n",
      " 40%|████      | 2/5 [00:11<00:18,  6.08s/it]\u001b[A\n",
      " 60%|██████    | 3/5 [00:12<00:09,  4.62s/it]\u001b[A\n",
      " 80%|████████  | 4/5 [00:13<00:03,  3.51s/it]\u001b[A\n",
      "100%|██████████| 5/5 [00:14<00:00,  2.62s/it]\u001b[A\n",
      "\u001b[A\n",
      "0it [00:00, ?it/s]\u001b[A"
     ]
    },
    {
     "name": "stdout",
     "output_type": "stream",
     "text": [
      "adjusting weights\n"
     ]
    },
    {
     "name": "stderr",
     "output_type": "stream",
     "text": [
      "\n",
      "1it [05:17, 317.32s/it]\u001b[A\n",
      "2it [05:37, 228.30s/it]\u001b[A\n",
      "3it [05:46, 162.33s/it]\u001b[A\n",
      "4it [05:53, 115.68s/it]\u001b[A\n",
      "5it [05:58, 82.59s/it] \u001b[A\n",
      " 33%|███▎      | 2/6 [11:35<21:45, 326.46s/it]"
     ]
    },
    {
     "name": "stdout",
     "output_type": "stream",
     "text": [
      "train results {'nll': 2.06863137840271, 'loss': 2.06863137840271, 'accuracy': 67.18}\n",
      "test results {'nll': 3.9253307456970217, 'loss': 3.9253307456970217, 'accuracy': 49.58}\n"
     ]
    },
    {
     "name": "stderr",
     "output_type": "stream",
     "text": [
      "\n",
      "  0%|          | 0/5 [00:00<?, ?it/s]\u001b[A"
     ]
    },
    {
     "name": "stdout",
     "output_type": "stream",
     "text": [
      "finding feature maps\n"
     ]
    },
    {
     "name": "stderr",
     "output_type": "stream",
     "text": [
      "\n",
      " 20%|██        | 1/5 [00:07<00:29,  7.40s/it]\u001b[A\n",
      " 40%|████      | 2/5 [00:11<00:18,  6.33s/it]\u001b[A\n",
      " 60%|██████    | 3/5 [00:12<00:09,  4.68s/it]\u001b[A\n",
      " 80%|████████  | 4/5 [00:12<00:03,  3.45s/it]\u001b[A\n",
      "100%|██████████| 5/5 [00:13<00:00,  2.61s/it]\u001b[A\n",
      "\u001b[A\n",
      "  0%|          | 0/5 [00:00<?, ?it/s]\u001b[A"
     ]
    },
    {
     "name": "stdout",
     "output_type": "stream",
     "text": [
      "finding feature maps\n"
     ]
    },
    {
     "name": "stderr",
     "output_type": "stream",
     "text": [
      "\n",
      " 20%|██        | 1/5 [00:07<00:29,  7.32s/it]\u001b[A\n",
      " 40%|████      | 2/5 [00:11<00:18,  6.23s/it]\u001b[A\n",
      " 60%|██████    | 3/5 [00:11<00:09,  4.60s/it]\u001b[A\n",
      " 80%|████████  | 4/5 [00:12<00:03,  3.38s/it]\u001b[A\n",
      "100%|██████████| 5/5 [00:12<00:00,  2.54s/it]\u001b[A\n",
      "\u001b[A\n",
      "0it [00:00, ?it/s]\u001b[A"
     ]
    },
    {
     "name": "stdout",
     "output_type": "stream",
     "text": [
      "adjusting weights\n"
     ]
    },
    {
     "name": "stderr",
     "output_type": "stream",
     "text": [
      "\n",
      "1it [04:26, 266.48s/it]\u001b[A\n",
      "2it [04:47, 192.71s/it]\u001b[A\n",
      "3it [04:54, 137.11s/it]\u001b[A\n",
      "4it [05:02, 98.34s/it] \u001b[A\n",
      "5it [05:09, 71.01s/it]\u001b[A\n",
      " 50%|█████     | 3/6 [17:26<16:41, 333.88s/it]"
     ]
    },
    {
     "name": "stdout",
     "output_type": "stream",
     "text": [
      "train results {'nll': 5.979201112060547, 'loss': 5.979201112060547, 'accuracy': 60.638}\n",
      "test results {'nll': 7.48873729095459, 'loss': 7.48873729095459, 'accuracy': 46.09}\n"
     ]
    },
    {
     "name": "stderr",
     "output_type": "stream",
     "text": [
      "\n",
      "  0%|          | 0/5 [00:00<?, ?it/s]\u001b[A"
     ]
    },
    {
     "name": "stdout",
     "output_type": "stream",
     "text": [
      "finding feature maps\n"
     ]
    },
    {
     "name": "stderr",
     "output_type": "stream",
     "text": [
      "\n",
      " 20%|██        | 1/5 [00:08<00:35,  8.93s/it]\u001b[A\n",
      " 40%|████      | 2/5 [00:13<00:22,  7.56s/it]\u001b[A\n",
      " 60%|██████    | 3/5 [00:14<00:11,  5.62s/it]\u001b[A\n",
      " 80%|████████  | 4/5 [00:15<00:04,  4.18s/it]\u001b[A\n",
      "100%|██████████| 5/5 [00:16<00:00,  3.17s/it]\u001b[A\n",
      "\u001b[A\n",
      "  0%|          | 0/5 [00:00<?, ?it/s]\u001b[A"
     ]
    },
    {
     "name": "stdout",
     "output_type": "stream",
     "text": [
      "finding feature maps\n"
     ]
    },
    {
     "name": "stderr",
     "output_type": "stream",
     "text": [
      "\n",
      " 20%|██        | 1/5 [00:09<00:36,  9.18s/it]\u001b[A\n",
      " 40%|████      | 2/5 [00:13<00:23,  7.75s/it]\u001b[A\n",
      " 60%|██████    | 3/5 [00:14<00:11,  5.74s/it]\u001b[A\n",
      " 80%|████████  | 4/5 [00:15<00:04,  4.25s/it]\u001b[A\n",
      "100%|██████████| 5/5 [00:16<00:00,  3.23s/it]\u001b[A\n",
      "\u001b[A\n",
      "0it [00:00, ?it/s]\u001b[A"
     ]
    },
    {
     "name": "stdout",
     "output_type": "stream",
     "text": [
      "adjusting weights\n"
     ]
    },
    {
     "name": "stderr",
     "output_type": "stream",
     "text": [
      "\n",
      "1it [03:15, 195.94s/it]\u001b[A\n",
      "2it [03:41, 144.96s/it]\u001b[A\n",
      "3it [03:52, 104.64s/it]\u001b[A\n",
      "4it [04:03, 76.69s/it] \u001b[A\n",
      "5it [04:10, 55.75s/it]\u001b[A\n",
      " 67%|██████▋   | 4/6 [22:24<10:46, 323.17s/it]"
     ]
    },
    {
     "name": "stdout",
     "output_type": "stream",
     "text": [
      "train results {'nll': 4.62877582901001, 'loss': 4.62877582901001, 'accuracy': 57.01}\n",
      "test results {'nll': 6.1142705574035645, 'loss': 6.1142705574035645, 'accuracy': 44.25}\n"
     ]
    },
    {
     "name": "stderr",
     "output_type": "stream",
     "text": [
      "\n",
      "  0%|          | 0/5 [00:00<?, ?it/s]\u001b[A"
     ]
    },
    {
     "name": "stdout",
     "output_type": "stream",
     "text": [
      "finding feature maps\n"
     ]
    },
    {
     "name": "stderr",
     "output_type": "stream",
     "text": [
      "\n",
      " 20%|██        | 1/5 [00:07<00:30,  7.54s/it]\u001b[A\n",
      " 40%|████      | 2/5 [00:11<00:19,  6.46s/it]\u001b[A\n",
      " 60%|██████    | 3/5 [00:12<00:09,  4.78s/it]\u001b[A\n",
      " 80%|████████  | 4/5 [00:12<00:03,  3.47s/it]\u001b[A\n",
      "100%|██████████| 5/5 [00:13<00:00,  2.58s/it]\u001b[A\n",
      "\u001b[A\n",
      "  0%|          | 0/5 [00:00<?, ?it/s]\u001b[A"
     ]
    },
    {
     "name": "stdout",
     "output_type": "stream",
     "text": [
      "finding feature maps\n"
     ]
    },
    {
     "name": "stderr",
     "output_type": "stream",
     "text": [
      "\n",
      " 20%|██        | 1/5 [00:06<00:24,  6.06s/it]\u001b[A\n",
      " 40%|████      | 2/5 [00:10<00:16,  5.47s/it]\u001b[A\n",
      " 60%|██████    | 3/5 [00:10<00:08,  4.06s/it]\u001b[A\n",
      " 80%|████████  | 4/5 [00:11<00:03,  3.03s/it]\u001b[A\n",
      "100%|██████████| 5/5 [00:12<00:00,  2.33s/it]\u001b[A\n",
      "\u001b[A\n",
      "0it [00:00, ?it/s]\u001b[A"
     ]
    },
    {
     "name": "stdout",
     "output_type": "stream",
     "text": [
      "adjusting weights\n"
     ]
    },
    {
     "name": "stderr",
     "output_type": "stream",
     "text": [
      "\n",
      "1it [03:05, 185.02s/it]\u001b[A\n",
      "2it [03:23, 135.16s/it]\u001b[A\n",
      "3it [03:30, 96.54s/it] \u001b[A\n",
      "4it [03:39, 70.34s/it]\u001b[A\n",
      "5it [03:46, 51.30s/it]\u001b[A\n",
      " 83%|████████▎ | 5/6 [26:50<05:06, 306.02s/it]"
     ]
    },
    {
     "name": "stdout",
     "output_type": "stream",
     "text": [
      "train results {'nll': 26.334801163330077, 'loss': 26.334801163330077, 'accuracy': 56.344}\n",
      "test results {'nll': 27.977841259765626, 'loss': 27.977841259765626, 'accuracy': 43.24}\n"
     ]
    },
    {
     "name": "stderr",
     "output_type": "stream",
     "text": [
      "\n",
      "  0%|          | 0/5 [00:00<?, ?it/s]\u001b[A"
     ]
    },
    {
     "name": "stdout",
     "output_type": "stream",
     "text": [
      "finding feature maps\n"
     ]
    },
    {
     "name": "stderr",
     "output_type": "stream",
     "text": [
      "\n",
      " 20%|██        | 1/5 [00:06<00:26,  6.56s/it]\u001b[A\n",
      " 40%|████      | 2/5 [00:11<00:18,  6.03s/it]\u001b[A\n",
      " 60%|██████    | 3/5 [00:12<00:09,  4.53s/it]\u001b[A\n",
      " 80%|████████  | 4/5 [00:13<00:03,  3.37s/it]\u001b[A\n",
      "100%|██████████| 5/5 [00:14<00:00,  2.69s/it]\u001b[A\n",
      "\u001b[A\n",
      "  0%|          | 0/5 [00:00<?, ?it/s]\u001b[A"
     ]
    },
    {
     "name": "stdout",
     "output_type": "stream",
     "text": [
      "finding feature maps\n"
     ]
    },
    {
     "name": "stderr",
     "output_type": "stream",
     "text": [
      "\n",
      " 20%|██        | 1/5 [00:08<00:32,  8.11s/it]\u001b[A\n",
      " 40%|████      | 2/5 [00:11<00:20,  6.77s/it]\u001b[A\n",
      " 60%|██████    | 3/5 [00:12<00:09,  4.96s/it]\u001b[A\n",
      " 80%|████████  | 4/5 [00:13<00:03,  3.63s/it]\u001b[A\n",
      "100%|██████████| 5/5 [00:13<00:00,  2.72s/it]\u001b[A\n",
      "\u001b[A\n",
      "0it [00:00, ?it/s]\u001b[A"
     ]
    },
    {
     "name": "stdout",
     "output_type": "stream",
     "text": [
      "adjusting weights\n"
     ]
    },
    {
     "name": "stderr",
     "output_type": "stream",
     "text": [
      "\n",
      "1it [03:11, 191.27s/it]\u001b[A\n",
      "2it [03:32, 140.12s/it]\u001b[A\n",
      "3it [03:38, 100.04s/it]\u001b[A\n",
      "4it [03:45, 72.19s/it] \u001b[A\n",
      "5it [03:54, 53.02s/it]\u001b[A\n",
      "100%|██████████| 6/6 [31:27<00:00, 297.35s/it]"
     ]
    },
    {
     "name": "stdout",
     "output_type": "stream",
     "text": [
      "train results {'nll': 1.3168875446319581, 'loss': 1.3168875446319581, 'accuracy': 73.268}\n",
      "test results {'nll': 3.3847873058319093, 'loss': 3.3847873058319093, 'accuracy': 52.84}\n"
     ]
    },
    {
     "name": "stderr",
     "output_type": "stream",
     "text": [
      "\n"
     ]
    }
   ],
   "source": [
    "stat_b = get_stat(PointFinderStepWiseButterfly, model_name, architecture, t=1.5, method='arc_connect',\n",
    "                  beg_ind=1, end_ind=7)"
   ]
  },
  {
   "cell_type": "code",
   "execution_count": 63,
   "metadata": {},
   "outputs": [
    {
     "data": {
      "text/plain": [
       "(63.33166666666667, 5.979244480329899, 47.48666666666667, 3.305438279899085)"
      ]
     },
     "execution_count": 63,
     "metadata": {},
     "output_type": "execute_result"
    }
   ],
   "source": [
    "get_mean_svd(stat_b)"
   ]
  },
  {
   "cell_type": "code",
   "execution_count": null,
   "metadata": {},
   "outputs": [
    {
     "name": "stderr",
     "output_type": "stream",
     "text": [
      "  0%|          | 0/6 [00:00<?, ?it/s]\n",
      "  0%|          | 0/5 [00:00<?, ?it/s]\u001b[A"
     ]
    },
    {
     "name": "stdout",
     "output_type": "stream",
     "text": [
      "finding feature maps\n"
     ]
    },
    {
     "name": "stderr",
     "output_type": "stream",
     "text": [
      "\n",
      " 20%|██        | 1/5 [00:08<00:33,  8.30s/it]\u001b[A\n",
      " 40%|████      | 2/5 [00:12<00:20,  6.95s/it]\u001b[A\n",
      " 60%|██████    | 3/5 [00:12<00:10,  5.11s/it]\u001b[A\n",
      " 80%|████████  | 4/5 [00:13<00:03,  3.75s/it]\u001b[A\n",
      "100%|██████████| 5/5 [00:14<00:00,  2.79s/it]\u001b[A\n",
      "\u001b[A\n",
      "  0%|          | 0/5 [00:00<?, ?it/s]\u001b[A"
     ]
    },
    {
     "name": "stdout",
     "output_type": "stream",
     "text": [
      "finding feature maps\n"
     ]
    },
    {
     "name": "stderr",
     "output_type": "stream",
     "text": [
      "\n",
      " 20%|██        | 1/5 [00:09<00:36,  9.21s/it]\u001b[A\n",
      " 40%|████      | 2/5 [00:14<00:23,  7.90s/it]\u001b[A\n",
      " 60%|██████    | 3/5 [00:14<00:11,  5.77s/it]\u001b[A\n",
      " 80%|████████  | 4/5 [00:15<00:04,  4.24s/it]\u001b[A\n",
      "100%|██████████| 5/5 [00:16<00:00,  3.19s/it]\u001b[A\n",
      "\u001b[A\n",
      "0it [00:00, ?it/s]\u001b[A"
     ]
    },
    {
     "name": "stdout",
     "output_type": "stream",
     "text": [
      "adjusting weights\n"
     ]
    },
    {
     "name": "stderr",
     "output_type": "stream",
     "text": [
      "\n",
      "1it [03:09, 189.34s/it]\u001b[A\n",
      "2it [03:35, 140.37s/it]\u001b[A\n",
      "3it [03:44, 101.11s/it]\u001b[A\n",
      "4it [03:54, 73.63s/it] \u001b[A\n",
      "5it [04:04, 54.43s/it]\u001b[A\n",
      " 17%|█▋        | 1/6 [04:49<24:05, 289.01s/it]"
     ]
    },
    {
     "name": "stdout",
     "output_type": "stream",
     "text": [
      "train results {'nll': 1.3196232881164551, 'loss': 1.3196232881164551, 'accuracy': 64.884}\n",
      "test results {'nll': 1.87545148563385, 'loss': 1.87545148563385, 'accuracy': 47.25}\n"
     ]
    },
    {
     "name": "stderr",
     "output_type": "stream",
     "text": [
      "\n",
      "  0%|          | 0/5 [00:00<?, ?it/s]\u001b[A"
     ]
    },
    {
     "name": "stdout",
     "output_type": "stream",
     "text": [
      "finding feature maps\n"
     ]
    },
    {
     "name": "stderr",
     "output_type": "stream",
     "text": [
      "\n",
      " 20%|██        | 1/5 [00:06<00:27,  6.99s/it]\u001b[A\n",
      " 40%|████      | 2/5 [00:10<00:18,  6.03s/it]\u001b[A\n",
      " 60%|██████    | 3/5 [00:11<00:08,  4.46s/it]\u001b[A\n",
      " 80%|████████  | 4/5 [00:12<00:03,  3.28s/it]\u001b[A\n",
      "100%|██████████| 5/5 [00:12<00:00,  2.48s/it]\u001b[A\n",
      "\u001b[A\n",
      "  0%|          | 0/5 [00:00<?, ?it/s]\u001b[A"
     ]
    },
    {
     "name": "stdout",
     "output_type": "stream",
     "text": [
      "finding feature maps\n"
     ]
    },
    {
     "name": "stderr",
     "output_type": "stream",
     "text": [
      "\n",
      " 20%|██        | 1/5 [00:06<00:27,  6.96s/it]\u001b[A\n",
      " 40%|████      | 2/5 [00:10<00:18,  6.01s/it]\u001b[A\n",
      " 60%|██████    | 3/5 [00:11<00:08,  4.47s/it]\u001b[A\n",
      " 80%|████████  | 4/5 [00:12<00:03,  3.31s/it]\u001b[A\n",
      "100%|██████████| 5/5 [00:12<00:00,  2.52s/it]\u001b[A\n",
      "\u001b[A\n",
      "0it [00:00, ?it/s]\u001b[A"
     ]
    },
    {
     "name": "stdout",
     "output_type": "stream",
     "text": [
      "adjusting weights\n"
     ]
    },
    {
     "name": "stderr",
     "output_type": "stream",
     "text": [
      "\n",
      "1it [03:22, 202.70s/it]\u001b[A\n",
      "2it [03:44, 148.44s/it]\u001b[A\n",
      "3it [03:52, 106.21s/it]\u001b[A\n",
      "4it [04:01, 77.01s/it] \u001b[A\n",
      "5it [04:07, 55.93s/it]\u001b[A\n",
      " 33%|███▎      | 2/6 [09:36<19:14, 288.70s/it]"
     ]
    },
    {
     "name": "stdout",
     "output_type": "stream",
     "text": [
      "train results {'nll': 1.1118244944000244, 'loss': 1.1118244944000244, 'accuracy': 65.636}\n",
      "test results {'nll': 1.6346348375320434, 'loss': 1.6346348375320434, 'accuracy': 47.69}\n"
     ]
    },
    {
     "name": "stderr",
     "output_type": "stream",
     "text": [
      "\n",
      "  0%|          | 0/5 [00:00<?, ?it/s]\u001b[A"
     ]
    },
    {
     "name": "stdout",
     "output_type": "stream",
     "text": [
      "finding feature maps\n"
     ]
    },
    {
     "name": "stderr",
     "output_type": "stream",
     "text": [
      "\n",
      " 20%|██        | 1/5 [00:07<00:30,  7.54s/it]\u001b[A\n",
      " 40%|████      | 2/5 [00:11<00:19,  6.43s/it]\u001b[A\n",
      " 60%|██████    | 3/5 [00:12<00:09,  4.76s/it]\u001b[A\n",
      " 80%|████████  | 4/5 [00:12<00:03,  3.51s/it]\u001b[A\n",
      "100%|██████████| 5/5 [00:13<00:00,  2.65s/it]\u001b[A\n",
      "\u001b[A\n",
      "  0%|          | 0/5 [00:00<?, ?it/s]\u001b[A"
     ]
    },
    {
     "name": "stdout",
     "output_type": "stream",
     "text": [
      "finding feature maps\n"
     ]
    },
    {
     "name": "stderr",
     "output_type": "stream",
     "text": [
      "\n",
      " 20%|██        | 1/5 [00:07<00:30,  7.72s/it]\u001b[A\n",
      " 40%|████      | 2/5 [00:11<00:19,  6.61s/it]\u001b[A\n",
      " 60%|██████    | 3/5 [00:12<00:09,  4.87s/it]\u001b[A\n",
      " 80%|████████  | 4/5 [00:13<00:03,  3.60s/it]\u001b[A\n",
      "100%|██████████| 5/5 [00:13<00:00,  2.72s/it]\u001b[A\n",
      "\u001b[A\n",
      "0it [00:00, ?it/s]\u001b[A"
     ]
    },
    {
     "name": "stdout",
     "output_type": "stream",
     "text": [
      "adjusting weights\n"
     ]
    }
   ],
   "source": [
    "stat_bl = get_stat(PointFinderStepWiseButterfly, model_name, architecture, t=1.5,\n",
    "                  beg_ind=1, end_ind=7, method='lin_connect')"
   ]
  },
  {
   "cell_type": "code",
   "execution_count": 64,
   "metadata": {},
   "outputs": [
    {
     "data": {
      "text/plain": [
       "(64.961, 2.131753816305561, 47.38833333333334, 1.289695269778443)"
      ]
     },
     "execution_count": 64,
     "metadata": {},
     "output_type": "execute_result"
    }
   ],
   "source": [
    "get_mean_svd(stat_bl)"
   ]
  },
  {
   "cell_type": "markdown",
   "metadata": {},
   "source": [
    "# Inverse Stat"
   ]
  },
  {
   "cell_type": "code",
   "execution_count": null,
   "metadata": {},
   "outputs": [],
   "source": [
    "pf_inv = PointFinderStepWiseInverse(model1, model2, architecture) "
   ]
  },
  {
   "cell_type": "code",
   "execution_count": null,
   "metadata": {},
   "outputs": [],
   "source": [
    "time = np.linspace(0, depth, (depth)*8+1)\n",
    "time"
   ]
  },
  {
   "cell_type": "code",
   "execution_count": null,
   "metadata": {},
   "outputs": [],
   "source": [
    "path_i = find_path(time, pf_inv, method='arc_connect')"
   ]
  },
  {
   "cell_type": "code",
   "execution_count": 48,
   "metadata": {},
   "outputs": [
    {
     "data": {
      "image/png": "[encoded data removed]",
      "text/plain": [
       "<Figure size 432x288 with 1 Axes>"
      ]
     },
     "metadata": {
      "needs_background": "light"
     },
     "output_type": "display_data"
    }
   ],
   "source": [
    "plt.plot(time, path_i['train'], label='train')\n",
    "plt.plot(time, path_i['test'], label='test') \n",
    "plt.legend()\n",
    "plt.xlabel('time')\n",
    "plt.ylabel('error (%)')\n",
    "plt.show()"
   ]
  },
  {
   "cell_type": "code",
   "execution_count": 53,
   "metadata": {},
   "outputs": [
    {
     "data": {
      "text/plain": [
       "(2.5, 2.375)"
      ]
     },
     "execution_count": 53,
     "metadata": {},
     "output_type": "execute_result"
    }
   ],
   "source": [
    "time[np.argmax(path_i['train'])], time[np.argmax(path_i['test'])]"
   ]
  },
  {
   "cell_type": "code",
   "execution_count": 60,
   "metadata": {},
   "outputs": [
    {
     "data": {
      "text/plain": [
       "([39.98, 39.72],)"
      ]
     },
     "execution_count": 60,
     "metadata": {},
     "output_type": "execute_result"
    }
   ],
   "source": [
    "path_i['test'][np.argmax(path_i['test']):np.argmax(path_i['test'])+2],"
   ]
  },
  {
   "cell_type": "code",
   "execution_count": 54,
   "metadata": {},
   "outputs": [
    {
     "data": {
      "text/plain": [
       "(2.5, 2.5)"
      ]
     },
     "execution_count": 54,
     "metadata": {},
     "output_type": "execute_result"
    }
   ],
   "source": [
    "time[np.argmax(path_il['train'])], time[np.argmax(path_il['test'])]"
   ]
  },
  {
   "cell_type": "code",
   "execution_count": null,
   "metadata": {},
   "outputs": [],
   "source": [
    "path_il = find_path(time, pf_inv, method='lin_connect')"
   ]
  },
  {
   "cell_type": "code",
   "execution_count": 49,
   "metadata": {},
   "outputs": [
    {
     "data": {
      "image/png": "[encoded data removed]",
      "text/plain": [
       "<Figure size 432x288 with 1 Axes>"
      ]
     },
     "metadata": {
      "needs_background": "light"
     },
     "output_type": "display_data"
    }
   ],
   "source": [
    "plt.plot(time, path_il['train'], label='train')\n",
    "plt.plot(time, path_il['test'], label='test') \n",
    "plt.legend()\n",
    "plt.xlabel('time')\n",
    "plt.ylabel('error (%)')\n",
    "plt.show()"
   ]
  },
  {
   "cell_type": "code",
   "execution_count": null,
   "metadata": {},
   "outputs": [
    {
     "name": "stderr",
     "output_type": "stream",
     "text": [
      "  0%|          | 0/6 [00:00<?, ?it/s]\n",
      "  0%|          | 0/6 [00:00<?, ?it/s]\u001b[A"
     ]
    },
    {
     "name": "stdout",
     "output_type": "stream",
     "text": [
      "finding feature maps\n"
     ]
    },
    {
     "name": "stderr",
     "output_type": "stream",
     "text": [
      "\n",
      " 17%|█▋        | 1/6 [00:04<00:20,  4.13s/it]\u001b[A\n",
      " 33%|███▎      | 2/6 [00:06<00:13,  3.49s/it]\u001b[A\n",
      " 50%|█████     | 3/6 [00:06<00:07,  2.59s/it]\u001b[A\n",
      " 67%|██████▋   | 4/6 [00:06<00:03,  1.92s/it]\u001b[A\n",
      " 83%|████████▎ | 5/6 [00:07<00:01,  1.47s/it]\u001b[A\n",
      "100%|██████████| 6/6 [00:07<00:00,  1.15s/it]\u001b[A\n",
      "\u001b[A\n",
      "  0%|          | 0/6 [00:00<?, ?it/s]\u001b[A"
     ]
    },
    {
     "name": "stdout",
     "output_type": "stream",
     "text": [
      "finding feature maps\n"
     ]
    },
    {
     "name": "stderr",
     "output_type": "stream",
     "text": [
      "\n",
      " 17%|█▋        | 1/6 [00:04<00:20,  4.11s/it]\u001b[A\n",
      " 33%|███▎      | 2/6 [00:06<00:13,  3.48s/it]\u001b[A\n",
      " 50%|█████     | 3/6 [00:06<00:07,  2.58s/it]\u001b[A\n",
      " 67%|██████▋   | 4/6 [00:06<00:03,  1.91s/it]\u001b[A\n",
      " 83%|████████▎ | 5/6 [00:07<00:01,  1.47s/it]\u001b[A\n",
      "100%|██████████| 6/6 [00:07<00:00,  1.15s/it]\u001b[A\n",
      "\u001b[A\n",
      "0it [00:00, ?it/s]\u001b[A"
     ]
    },
    {
     "name": "stdout",
     "output_type": "stream",
     "text": [
      "adjusting weights\n"
     ]
    },
    {
     "name": "stderr",
     "output_type": "stream",
     "text": [
      "\n",
      "1it [01:46, 106.41s/it]\u001b[A\n",
      "2it [01:57, 77.71s/it] \u001b[A\n",
      "3it [02:00, 55.48s/it]\u001b[A\n",
      "4it [02:04, 39.92s/it]\u001b[A\n",
      "5it [02:07, 29.02s/it]\u001b[A\n",
      "6it [02:11, 21.30s/it]\u001b[A\n",
      " 17%|█▋        | 1/6 [02:44<13:40, 164.14s/it]"
     ]
    },
    {
     "name": "stdout",
     "output_type": "stream",
     "text": [
      "train results {'nll': 0.6944128613853454, 'loss': 0.6944128613853454, 'accuracy': 79.802}\n",
      "test results {'nll': 2.1922674839019773, 'loss': 2.1922674839019773, 'accuracy': 60.05}\n"
     ]
    },
    {
     "name": "stderr",
     "output_type": "stream",
     "text": [
      "\n",
      "  0%|          | 0/6 [00:00<?, ?it/s]\u001b[A"
     ]
    },
    {
     "name": "stdout",
     "output_type": "stream",
     "text": [
      "finding feature maps\n"
     ]
    },
    {
     "name": "stderr",
     "output_type": "stream",
     "text": [
      "\n",
      " 17%|█▋        | 1/6 [00:04<00:20,  4.11s/it]\u001b[A\n",
      " 33%|███▎      | 2/6 [00:06<00:14,  3.51s/it]\u001b[A\n",
      " 50%|█████     | 3/6 [00:06<00:07,  2.61s/it]\u001b[A\n",
      " 67%|██████▋   | 4/6 [00:07<00:03,  1.94s/it]\u001b[A\n",
      " 83%|████████▎ | 5/6 [00:07<00:01,  1.48s/it]\u001b[A\n",
      "100%|██████████| 6/6 [00:07<00:00,  1.15s/it]\u001b[A\n",
      "\u001b[A\n",
      "  0%|          | 0/6 [00:00<?, ?it/s]\u001b[A"
     ]
    },
    {
     "name": "stdout",
     "output_type": "stream",
     "text": [
      "finding feature maps\n"
     ]
    },
    {
     "name": "stderr",
     "output_type": "stream",
     "text": [
      "\n",
      " 17%|█▋        | 1/6 [00:04<00:20,  4.09s/it]\u001b[A\n",
      " 33%|███▎      | 2/6 [00:06<00:13,  3.47s/it]\u001b[A\n",
      " 50%|█████     | 3/6 [00:06<00:07,  2.57s/it]\u001b[A\n",
      " 67%|██████▋   | 4/6 [00:06<00:03,  1.91s/it]\u001b[A\n",
      " 83%|████████▎ | 5/6 [00:07<00:01,  1.46s/it]\u001b[A\n",
      "100%|██████████| 6/6 [00:07<00:00,  1.14s/it]\u001b[A\n",
      "\u001b[A\n",
      "0it [00:00, ?it/s]\u001b[A"
     ]
    },
    {
     "name": "stdout",
     "output_type": "stream",
     "text": [
      "adjusting weights\n"
     ]
    },
    {
     "name": "stderr",
     "output_type": "stream",
     "text": [
      "\n",
      "1it [01:45, 105.88s/it]\u001b[A\n",
      "2it [01:56, 77.37s/it] \u001b[A\n",
      "3it [02:00, 55.23s/it]\u001b[A\n",
      "4it [02:03, 39.73s/it]\u001b[A\n",
      "5it [02:07, 28.88s/it]\u001b[A\n",
      "6it [02:10, 21.19s/it]\u001b[A\n",
      " 33%|███▎      | 2/6 [05:28<10:56, 164.07s/it]"
     ]
    },
    {
     "name": "stdout",
     "output_type": "stream",
     "text": [
      "train results {'nll': 0.696843747138977, 'loss': 0.696843747138977, 'accuracy': 79.762}\n",
      "test results {'nll': 2.170710676193237, 'loss': 2.170710676193237, 'accuracy': 60.32}\n"
     ]
    },
    {
     "name": "stderr",
     "output_type": "stream",
     "text": [
      "\n",
      "  0%|          | 0/6 [00:00<?, ?it/s]\u001b[A"
     ]
    },
    {
     "name": "stdout",
     "output_type": "stream",
     "text": [
      "finding feature maps\n"
     ]
    },
    {
     "name": "stderr",
     "output_type": "stream",
     "text": [
      "\n",
      " 17%|█▋        | 1/6 [00:04<00:20,  4.13s/it]\u001b[A\n",
      " 33%|███▎      | 2/6 [00:06<00:14,  3.50s/it]\u001b[A\n",
      " 50%|█████     | 3/6 [00:06<00:07,  2.60s/it]\u001b[A\n",
      " 67%|██████▋   | 4/6 [00:07<00:03,  1.93s/it]\u001b[A\n",
      " 83%|████████▎ | 5/6 [00:07<00:01,  1.48s/it]\u001b[A\n",
      "100%|██████████| 6/6 [00:07<00:00,  1.15s/it]\u001b[A\n",
      "\u001b[A\n",
      "  0%|          | 0/6 [00:00<?, ?it/s]\u001b[A"
     ]
    },
    {
     "name": "stdout",
     "output_type": "stream",
     "text": [
      "finding feature maps\n"
     ]
    },
    {
     "name": "stderr",
     "output_type": "stream",
     "text": [
      "\n",
      " 17%|█▋        | 1/6 [00:04<00:20,  4.12s/it]\u001b[A\n",
      " 33%|███▎      | 2/6 [00:06<00:13,  3.49s/it]\u001b[A\n",
      " 50%|█████     | 3/6 [00:06<00:07,  2.59s/it]\u001b[A\n",
      " 67%|██████▋   | 4/6 [00:06<00:03,  1.92s/it]\u001b[A\n",
      " 83%|████████▎ | 5/6 [00:07<00:01,  1.47s/it]\u001b[A\n",
      "100%|██████████| 6/6 [00:07<00:00,  1.15s/it]\u001b[A\n",
      "\u001b[A\n",
      "0it [00:00, ?it/s]\u001b[A"
     ]
    },
    {
     "name": "stdout",
     "output_type": "stream",
     "text": [
      "adjusting weights\n"
     ]
    },
    {
     "name": "stderr",
     "output_type": "stream",
     "text": [
      "\n",
      "1it [01:45, 105.77s/it]\u001b[A\n",
      "2it [01:56, 77.26s/it] \u001b[A\n",
      "3it [02:00, 55.15s/it]\u001b[A\n",
      "4it [02:03, 39.68s/it]\u001b[A\n",
      "5it [02:07, 28.84s/it]\u001b[A\n",
      "6it [02:10, 21.17s/it]\u001b[A\n",
      " 50%|█████     | 3/6 [08:11<08:11, 163.95s/it]"
     ]
    },
    {
     "name": "stdout",
     "output_type": "stream",
     "text": [
      "train results {'nll': 0.7338575082015991, 'loss': 0.7338575082015991, 'accuracy': 79.75}\n",
      "test results {'nll': 2.300750462722778, 'loss': 2.300750462722778, 'accuracy': 60.28}\n"
     ]
    },
    {
     "name": "stderr",
     "output_type": "stream",
     "text": [
      "\n",
      "  0%|          | 0/6 [00:00<?, ?it/s]\u001b[A"
     ]
    },
    {
     "name": "stdout",
     "output_type": "stream",
     "text": [
      "finding feature maps\n"
     ]
    },
    {
     "name": "stderr",
     "output_type": "stream",
     "text": [
      "\n",
      " 17%|█▋        | 1/6 [00:04<00:20,  4.13s/it]\u001b[A\n",
      " 33%|███▎      | 2/6 [00:06<00:13,  3.49s/it]\u001b[A\n",
      " 50%|█████     | 3/6 [00:06<00:07,  2.59s/it]\u001b[A\n",
      " 67%|██████▋   | 4/6 [00:06<00:03,  1.92s/it]\u001b[A\n",
      " 83%|████████▎ | 5/6 [00:07<00:01,  1.47s/it]\u001b[A\n",
      "100%|██████████| 6/6 [00:07<00:00,  1.15s/it]\u001b[A\n",
      "\u001b[A\n",
      "  0%|          | 0/6 [00:00<?, ?it/s]\u001b[A"
     ]
    },
    {
     "name": "stdout",
     "output_type": "stream",
     "text": [
      "finding feature maps\n"
     ]
    },
    {
     "name": "stderr",
     "output_type": "stream",
     "text": [
      "\n",
      " 17%|█▋        | 1/6 [00:04<00:20,  4.10s/it]\u001b[A\n",
      " 33%|███▎      | 2/6 [00:06<00:13,  3.47s/it]\u001b[A\n",
      " 50%|█████     | 3/6 [00:06<00:07,  2.57s/it]\u001b[A\n",
      " 67%|██████▋   | 4/6 [00:06<00:03,  1.91s/it]\u001b[A\n",
      " 83%|████████▎ | 5/6 [00:07<00:01,  1.46s/it]\u001b[A\n",
      "100%|██████████| 6/6 [00:07<00:00,  1.14s/it]\u001b[A\n",
      "\u001b[A\n",
      "0it [00:00, ?it/s]\u001b[A"
     ]
    },
    {
     "name": "stdout",
     "output_type": "stream",
     "text": [
      "adjusting weights\n"
     ]
    },
    {
     "name": "stderr",
     "output_type": "stream",
     "text": [
      "\n",
      "1it [01:46, 106.03s/it]\u001b[A\n",
      "2it [01:56, 77.45s/it] \u001b[A\n",
      "3it [02:00, 55.28s/it]\u001b[A\n",
      "4it [02:03, 39.77s/it]\u001b[A\n",
      "5it [02:07, 28.91s/it]\u001b[A\n",
      "6it [02:10, 21.21s/it]\u001b[A\n",
      " 67%|██████▋   | 4/6 [10:55<05:27, 163.95s/it]"
     ]
    },
    {
     "name": "stdout",
     "output_type": "stream",
     "text": [
      "train results {'nll': 0.7065840306282043, 'loss': 0.7065840306282043, 'accuracy': 79.876}\n",
      "test results {'nll': 2.226865353012085, 'loss': 2.226865353012085, 'accuracy': 60.31}\n"
     ]
    },
    {
     "name": "stderr",
     "output_type": "stream",
     "text": [
      "\n",
      "  0%|          | 0/6 [00:00<?, ?it/s]\u001b[A"
     ]
    },
    {
     "name": "stdout",
     "output_type": "stream",
     "text": [
      "finding feature maps\n"
     ]
    },
    {
     "name": "stderr",
     "output_type": "stream",
     "text": [
      "\n",
      " 17%|█▋        | 1/6 [00:04<00:20,  4.13s/it]\u001b[A\n",
      " 33%|███▎      | 2/6 [00:06<00:13,  3.50s/it]\u001b[A\n",
      " 50%|█████     | 3/6 [00:06<00:07,  2.59s/it]\u001b[A\n",
      " 67%|██████▋   | 4/6 [00:06<00:03,  1.92s/it]\u001b[A\n",
      " 83%|████████▎ | 5/6 [00:07<00:01,  1.47s/it]\u001b[A\n",
      "100%|██████████| 6/6 [00:07<00:00,  1.15s/it]\u001b[A\n",
      "\u001b[A\n",
      "  0%|          | 0/6 [00:00<?, ?it/s]\u001b[A"
     ]
    },
    {
     "name": "stdout",
     "output_type": "stream",
     "text": [
      "finding feature maps\n"
     ]
    },
    {
     "name": "stderr",
     "output_type": "stream",
     "text": [
      "\n",
      " 17%|█▋        | 1/6 [00:04<00:20,  4.12s/it]\u001b[A\n",
      " 33%|███▎      | 2/6 [00:06<00:13,  3.49s/it]\u001b[A\n",
      " 50%|█████     | 3/6 [00:06<00:07,  2.58s/it]\u001b[A\n",
      " 67%|██████▋   | 4/6 [00:06<00:03,  1.92s/it]\u001b[A\n",
      " 83%|████████▎ | 5/6 [00:07<00:01,  1.47s/it]\u001b[A\n",
      "100%|██████████| 6/6 [00:07<00:00,  1.15s/it]\u001b[A\n",
      "\u001b[A\n",
      "0it [00:00, ?it/s]\u001b[A"
     ]
    },
    {
     "name": "stdout",
     "output_type": "stream",
     "text": [
      "adjusting weights\n"
     ]
    },
    {
     "name": "stderr",
     "output_type": "stream",
     "text": [
      "\n",
      "1it [02:11, 131.42s/it]\u001b[A\n",
      "2it [02:32, 98.46s/it] \u001b[A\n",
      "3it [02:42, 71.85s/it]\u001b[A\n",
      "4it [02:52, 53.19s/it]\u001b[A\n",
      "5it [03:02, 40.14s/it]\u001b[A\n",
      "6it [03:10, 30.77s/it]\u001b[A\n",
      " 83%|████████▎ | 5/6 [14:47<03:04, 184.46s/it]"
     ]
    },
    {
     "name": "stdout",
     "output_type": "stream",
     "text": [
      "train results {'nll': 0.6933969321632385, 'loss': 0.6933969321632385, 'accuracy': 79.83}\n",
      "test results {'nll': 2.2088730876922607, 'loss': 2.2088730876922607, 'accuracy': 60.02}\n"
     ]
    },
    {
     "name": "stderr",
     "output_type": "stream",
     "text": [
      "\n",
      "  0%|          | 0/6 [00:00<?, ?it/s]\u001b[A"
     ]
    },
    {
     "name": "stdout",
     "output_type": "stream",
     "text": [
      "finding feature maps\n"
     ]
    },
    {
     "name": "stderr",
     "output_type": "stream",
     "text": [
      "\n",
      " 17%|█▋        | 1/6 [00:06<00:30,  6.19s/it]\u001b[A\n",
      " 33%|███▎      | 2/6 [00:10<00:22,  5.52s/it]\u001b[A\n",
      " 50%|█████     | 3/6 [00:10<00:12,  4.11s/it]\u001b[A\n",
      " 67%|██████▋   | 4/6 [00:11<00:06,  3.06s/it]\u001b[A\n",
      " 83%|████████▎ | 5/6 [00:12<00:02,  2.32s/it]\u001b[A\n",
      "100%|██████████| 6/6 [00:12<00:00,  1.79s/it]\u001b[A\n",
      "\u001b[A\n",
      "  0%|          | 0/6 [00:00<?, ?it/s]\u001b[A"
     ]
    },
    {
     "name": "stdout",
     "output_type": "stream",
     "text": [
      "finding feature maps\n"
     ]
    },
    {
     "name": "stderr",
     "output_type": "stream",
     "text": [
      "\n",
      " 17%|█▋        | 1/6 [00:06<00:34,  6.99s/it]\u001b[A\n",
      " 33%|███▎      | 2/6 [00:10<00:24,  6.03s/it]\u001b[A\n",
      " 50%|█████     | 3/6 [00:11<00:13,  4.46s/it]\u001b[A\n",
      " 67%|██████▋   | 4/6 [00:12<00:06,  3.28s/it]\u001b[A\n",
      " 83%|████████▎ | 5/6 [00:12<00:02,  2.48s/it]\u001b[A\n",
      "100%|██████████| 6/6 [00:13<00:00,  1.90s/it]\u001b[A\n",
      "\u001b[A\n",
      "0it [00:00, ?it/s]\u001b[A"
     ]
    },
    {
     "name": "stdout",
     "output_type": "stream",
     "text": [
      "adjusting weights\n"
     ]
    }
   ],
   "source": [
    "stat_i = get_stat(PointFinderStepWiseInverse, model_name, architecture, t=2.5,\n",
    "                  beg_ind=1, end_ind=7)"
   ]
  },
  {
   "cell_type": "code",
   "execution_count": 61,
   "metadata": {},
   "outputs": [
    {
     "data": {
      "text/plain": [
       "(79.75866666666667,\n",
       " 0.10969452533690731,\n",
       " 60.156666666666666,\n",
       " 0.14951774328003897)"
      ]
     },
     "execution_count": 61,
     "metadata": {},
     "output_type": "execute_result"
    }
   ],
   "source": [
    "get_mean_svd(stat_i)"
   ]
  },
  {
   "cell_type": "code",
   "execution_count": null,
   "metadata": {},
   "outputs": [],
   "source": [
    "stat_il = get_stat(PointFinderStepWiseInverse, model_name, architecture, t=2.5,\n",
    "                  beg_ind=1, end_ind=7, method='lin_connect')"
   ]
  },
  {
   "cell_type": "code",
   "execution_count": 62,
   "metadata": {},
   "outputs": [
    {
     "data": {
      "text/plain": [
       "(75.401, 0.22875532780681135, 58.39666666666667, 0.1696728879016602)"
      ]
     },
     "execution_count": 62,
     "metadata": {},
     "output_type": "execute_result"
    }
   ],
   "source": [
    "get_mean_svd(stat_il)"
   ]
  },
  {
   "cell_type": "code",
   "execution_count": null,
   "metadata": {},
   "outputs": [],
   "source": []
  }
 ],
 "metadata": {
  "kernelspec": {
   "display_name": "Python 3",
   "language": "python",
   "name": "python3"
  },
  "language_info": {
   "codemirror_mode": {
    "name": "ipython",
    "version": 3
   },
   "file_extension": ".py",
   "mimetype": "text/x-python",
   "name": "python",
   "nbconvert_exporter": "python",
   "pygments_lexer": "ipython3",
   "version": "3.6.7"
  }
 },
 "nbformat": 4,
 "nbformat_minor": 2
}
