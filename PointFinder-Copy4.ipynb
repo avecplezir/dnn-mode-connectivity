{
 "cells": [
  {
   "cell_type": "code",
   "execution_count": 1,
   "metadata": {},
   "outputs": [],
   "source": [
    "import numpy as np\n",
    "import matplotlib.pylab as pl\n",
    "import ot\n",
    "import ot.plot\n",
    "from sklearn.decomposition import PCA, KernelPCA\n",
    "\n",
    "# S1 = pfb.weights_model1\n",
    "# S2 = pfb.weights_model2\n",
    "# S = np.vstack([S1, S2])\n",
    "# psa = PCA(n_components=2)\n",
    "# psa.fit(S)\n",
    "# xs = psa.transform(S1)\n",
    "# xt = psa.transform(S2)\n",
    "# n = len(pfb.weights_model1) # nb samples\n",
    "\n",
    "# a, b = np.ones((n,)) / n, np.ones((n,)) / n  # uniform distribution on samples\n",
    "\n",
    "# # loss matrix\n",
    "# M = ot.dist(pfb.weights_model1, pfb.weights_model2)\n",
    "# M /= M.max()\n",
    "\n",
    "# pl.figure(1)\n",
    "# pl.plot(xs[:, 0], xs[:, 1], '+b', label='Source samples')\n",
    "# pl.plot(xt[:, 0], xt[:, 1], 'xr', label='Target samples')\n",
    "# pl.legend(loc=0)\n",
    "# pl.title('Source and target distributions')\n",
    "\n",
    "# pl.figure(2)\n",
    "# pl.imshow(M, interpolation='nearest')\n",
    "# pl.title('Cost matrix M')\n",
    "\n",
    "# G0 = ot.emd(a, b, M)\n",
    "\n",
    "# pl.figure(3)\n",
    "# pl.imshow(G0, interpolation='nearest')\n",
    "# pl.title('OT matrix G0')\n",
    "\n",
    "# pl.figure(4)\n",
    "# ot.plot.plot2D_samples_mat(xs, xt, G0, c=[.5, .5, 1])\n",
    "# pl.plot(xs[:, 0], xs[:, 1], '+b', label='Source samples')\n",
    "# pl.plot(xt[:, 0], xt[:, 1], 'xr', label='Target samples')\n",
    "\n",
    "# pl.legend(loc=0)\n",
    "# pl.title('OT matrix with samples')"
   ]
  },
  {
   "cell_type": "code",
   "execution_count": 2,
   "metadata": {},
   "outputs": [
    {
     "name": "stdout",
     "output_type": "stream",
     "text": [
      "getting loaders\n",
      "Files already downloaded and verified\n",
      "You are going to run models on the test set. Are you sure?\n",
      "Files already downloaded and verified\n",
      "getting data\n",
      "train len 50000 test len 10000\n"
     ]
    }
   ],
   "source": [
    "from point_finders import *"
   ]
  },
  {
   "cell_type": "code",
   "execution_count": 3,
   "metadata": {},
   "outputs": [],
   "source": [
    "import models\n",
    "model_name = 'Linear7NoBias'\n",
    "architecture = getattr(models, model_name) #LinearOneLayer LogRegression"
   ]
  },
  {
   "cell_type": "code",
   "execution_count": 4,
   "metadata": {},
   "outputs": [
    {
     "data": {
      "text/plain": [
       "IncompatibleKeys(missing_keys=[], unexpected_keys=[])"
      ]
     },
     "execution_count": 4,
     "metadata": {},
     "output_type": "execute_result"
    }
   ],
   "source": [
    "model1 = architecture.base(num_classes=10, **architecture.kwargs)\n",
    "model2 = architecture.base(num_classes=10, **architecture.kwargs)\n",
    "model1.load_state_dict(torch.load('curves/'+model_name+'/curve3/checkpoint-400.pt')['model_state'])\n",
    "model2.load_state_dict(torch.load('curves/'+model_name+'/curve4/checkpoint-400.pt')['model_state'])"
   ]
  },
  {
   "cell_type": "code",
   "execution_count": 5,
   "metadata": {},
   "outputs": [
    {
     "name": "stdout",
     "output_type": "stream",
     "text": [
      "train results {'nll': 0.02027139685869217, 'loss': 0.02027139685869217, 'accuracy': 99.384}\n",
      "test results {'nll': 2.9237209270477296, 'loss': 2.9237209270477296, 'accuracy': 60.97}\n"
     ]
    },
    {
     "data": {
      "text/plain": [
       "({'nll': 0.02027139685869217, 'loss': 0.02027139685869217, 'accuracy': 99.384},\n",
       " {'nll': 2.9237209270477296, 'loss': 2.9237209270477296, 'accuracy': 60.97})"
      ]
     },
     "execution_count": 5,
     "metadata": {},
     "output_type": "execute_result"
    }
   ],
   "source": [
    "model1.cuda();\n",
    "test_model(model1, loaders, cuda=True)"
   ]
  },
  {
   "cell_type": "code",
   "execution_count": 6,
   "metadata": {},
   "outputs": [
    {
     "name": "stdout",
     "output_type": "stream",
     "text": [
      "train results {'nll': 0.022724376260638238, 'loss': 0.022724376260638238, 'accuracy': 99.356}\n",
      "test results {'nll': 2.899928831100464, 'loss': 2.899928831100464, 'accuracy': 61.05}\n"
     ]
    },
    {
     "data": {
      "text/plain": [
       "({'nll': 0.022724376260638238,\n",
       "  'loss': 0.022724376260638238,\n",
       "  'accuracy': 99.356},\n",
       " {'nll': 2.899928831100464, 'loss': 2.899928831100464, 'accuracy': 61.05})"
      ]
     },
     "execution_count": 6,
     "metadata": {},
     "output_type": "execute_result"
    }
   ],
   "source": [
    "model2.cuda();\n",
    "test_model(model2, loaders, cuda=True)"
   ]
  },
  {
   "cell_type": "code",
   "execution_count": 9,
   "metadata": {},
   "outputs": [],
   "source": [
    "depth = 7"
   ]
  },
  {
   "cell_type": "code",
   "execution_count": 10,
   "metadata": {},
   "outputs": [],
   "source": [
    "# N_data = 10 #6144\n",
    "# data, targ = data[:N_data], targ[:N_data]"
   ]
  },
  {
   "cell_type": "code",
   "execution_count": 11,
   "metadata": {},
   "outputs": [
    {
     "name": "stderr",
     "output_type": "stream",
     "text": [
      " 50%|█████     | 1/2 [00:06<00:06,  6.93s/it]"
     ]
    },
    {
     "name": "stdout",
     "output_type": "stream",
     "text": [
      "train results {'nll': 0.02027139685869217, 'loss': 0.02027139685869217, 'accuracy': 99.384}\n",
      "test results {'nll': 2.9237209270477296, 'loss': 2.9237209270477296, 'accuracy': 60.97}\n"
     ]
    },
    {
     "name": "stderr",
     "output_type": "stream",
     "text": [
      "\r",
      "100%|██████████| 2/2 [00:13<00:00,  6.91s/it]"
     ]
    },
    {
     "name": "stdout",
     "output_type": "stream",
     "text": [
      "train results {'nll': 0.022724376260638238, 'loss': 0.022724376260638238, 'accuracy': 99.356}\n",
      "test results {'nll': 2.899928831100464, 'loss': 2.899928831100464, 'accuracy': 61.05}\n"
     ]
    },
    {
     "name": "stderr",
     "output_type": "stream",
     "text": [
      "\n"
     ]
    },
    {
     "data": {
      "text/plain": [
       "{'train': [99.384, 99.356], 'test': [60.97, 61.05]}"
      ]
     },
     "execution_count": 11,
     "metadata": {},
     "output_type": "execute_result"
    }
   ],
   "source": [
    "get_end_point_stat(architecture, model_name, beg_ind=3, end_ind=5)"
   ]
  },
  {
   "cell_type": "code",
   "execution_count": 12,
   "metadata": {},
   "outputs": [],
   "source": [
    "class PointFinderStepWiseTransportation(PointFinderStepWiseButterfly):\n",
    "    def __init__(self, model1, model2, architecture):\n",
    "        super().__init__(model1, model2, architecture)\n",
    "        self.GO = []\n",
    "        self.M = []\n",
    "        \n",
    "    def solve_optimal_transport_problem(self, weights1, weights2):\n",
    "        n = len(weights1) \n",
    "        a, b = np.ones((n,)) / n, np.ones((n,)) / n  # uniform distribution on samples\n",
    "        # loss matrix\n",
    "        M = ot.dist(weights1, weights2)\n",
    "        M /= M.max()\n",
    "        self.M.append(M)\n",
    "        GO = ot.emd(a, b, M)\n",
    "        self.GO.append(GO)\n",
    "        return GO\n",
    "    \n",
    "    def butterfly_weights(self, W1, W2):\n",
    "        samples = np.hstack([W1, W2.T])\n",
    "        return samples\n",
    "    \n",
    "    def unbutterfly_weights(self, samples, l1):\n",
    "        Wn0 = samples[:, :l1] \n",
    "        Wn1 = samples[:, l1:].T \n",
    "        return Wn0, Wn1\n",
    "    \n",
    "    def test_one_zeroing(self, layer):\n",
    "        print('testing one zeroing, layer', layer)\n",
    "        Wn0 = self.weights_model2[layer]\n",
    "        Wn1 = self.weights_adjusted[layer + 1]\n",
    "        Wn0[0] = 0\n",
    "        Wn1[:, 0] = 0\n",
    "        weights_model_t = self.weights_model2[:layer] + [Wn0, Wn1] + self.weights_model1[layer + 2:]\n",
    "        \n",
    "        m = get_model_from_weights(weights_model_t, self.architecture)\n",
    "        m.cuda();\n",
    "        res = test_model(m, loaders, cuda=True)\n",
    "        out = {'train': res[0]['accuracy'], 'test': res[1]['accuracy']}\n",
    "        return out\n",
    "    \n",
    "    def test_zeroing(self):\n",
    "        out = {'train': [], 'test': []}\n",
    "        for layer in range(self.depth-1):\n",
    "            res = self.test_one_zeroing(layer)\n",
    "            out['train'].append(res['train'])\n",
    "            out['test'].append(res['test'])\n",
    "        self.zeroing_stat = out\n",
    "        out['train'] = np.min(out['train'])\n",
    "        out['test'] = np.min(out['test'])\n",
    "        return out\n",
    "        \n",
    "    def find_point(self, t=0.5, method='lin_connect'):\n",
    "\n",
    "        layer = int(t // 1)\n",
    "        t = t - layer\n",
    "        if layer >= self.depth - 1:\n",
    "            layer = self.depth - 2\n",
    "            t = 1\n",
    "\n",
    "        assert layer < self.depth, 'the network is shot for this t value'\n",
    "        W11 = self.weights_model1[layer + 1]\n",
    "        W20 = self.weights_model2[layer]\n",
    "        W10 = self.weights_adjusted[layer]\n",
    "        W11b2 = self.weights_adjusted[layer + 1]\n",
    "        weights1 = self.butterfly_weights(W10, W11)\n",
    "        weights2 = self.butterfly_weights(W20, W11b2)\n",
    "        GO = self.solve_optimal_transport_problem(weights1, weights2)\n",
    "        indices = np.argmax(GO, axis=-1)\n",
    "        weights2_permuted = weights2[indices]\n",
    "        weights_model_new = getattr(Connector(weights1, weights2_permuted), method)(t=t)[1]\n",
    "        Wn0, Wn1 = self.unbutterfly_weights(weights_model_new, len(W10.T))\n",
    "        weights_model_t = self.weights_model2[:layer] + [Wn0, Wn1] + self.weights_model1[layer + 2:]\n",
    "        \n",
    "        m = get_model_from_weights(weights_model_t, self.architecture)\n",
    "        m.cuda();\n",
    "        res = test_model(m, loaders, cuda=True)\n",
    "        out = {'train': res[0]['accuracy'], 'test': res[1]['accuracy']}\n",
    "        return out\n"
   ]
  },
  {
   "cell_type": "code",
   "execution_count": 13,
   "metadata": {},
   "outputs": [
    {
     "name": "stderr",
     "output_type": "stream",
     "text": [
      "\r",
      "  0%|          | 0/5 [00:00<?, ?it/s]"
     ]
    },
    {
     "name": "stdout",
     "output_type": "stream",
     "text": [
      "finding feature maps\n"
     ]
    },
    {
     "name": "stderr",
     "output_type": "stream",
     "text": [
      "100%|██████████| 5/5 [00:08<00:00,  1.62s/it]\n",
      "  0%|          | 0/5 [00:00<?, ?it/s]"
     ]
    },
    {
     "name": "stdout",
     "output_type": "stream",
     "text": [
      "finding feature maps\n"
     ]
    },
    {
     "name": "stderr",
     "output_type": "stream",
     "text": [
      "100%|██████████| 5/5 [00:08<00:00,  1.62s/it]\n",
      "0it [00:00, ?it/s]"
     ]
    },
    {
     "name": "stdout",
     "output_type": "stream",
     "text": [
      "adjusting weights\n"
     ]
    },
    {
     "name": "stderr",
     "output_type": "stream",
     "text": [
      "5it [04:25, 59.99s/it] \n"
     ]
    }
   ],
   "source": [
    "pfswt = PointFinderStepWiseTransportation(model1, model2, architecture)"
   ]
  },
  {
   "cell_type": "code",
   "execution_count": 14,
   "metadata": {},
   "outputs": [
    {
     "data": {
      "text/plain": [
       "array([0. , 0.1, 0.2, 0.3, 0.4, 0.5, 0.6, 0.7, 0.8, 0.9, 1. , 1.1, 1.2,\n",
       "       1.3, 1.4, 1.5, 1.6, 1.7, 1.8, 1.9, 2. , 2.1, 2.2, 2.3, 2.4, 2.5,\n",
       "       2.6, 2.7, 2.8, 2.9, 3. , 3.1, 3.2, 3.3, 3.4, 3.5, 3.6, 3.7, 3.8,\n",
       "       3.9, 4. , 4.1, 4.2, 4.3, 4.4, 4.5, 4.6, 4.7, 4.8, 4.9, 5. , 5.1,\n",
       "       5.2, 5.3, 5.4, 5.5, 5.6, 5.7, 5.8, 5.9, 6. ])"
      ]
     },
     "execution_count": 14,
     "metadata": {},
     "output_type": "execute_result"
    }
   ],
   "source": [
    "time = np.linspace(0, 6, 61)\n",
    "time"
   ]
  },
  {
   "cell_type": "code",
   "execution_count": 15,
   "metadata": {
    "scrolled": false
   },
   "outputs": [
    {
     "name": "stderr",
     "output_type": "stream",
     "text": [
      "  0%|          | 0/61 [00:00<?, ?it/s]/home/ivan/.local/lib/python3.6/site-packages/ot/lp/__init__.py:113: UserWarning: numItermax reached before optimality. Try to increase numItermax.\n",
      "  result_code_string = check_result(result_code)\n",
      "  2%|▏         | 1/61 [00:12<12:07, 12.13s/it]"
     ]
    },
    {
     "name": "stdout",
     "output_type": "stream",
     "text": [
      "train results {'nll': 0.02027139685869217, 'loss': 0.02027139685869217, 'accuracy': 99.384}\n",
      "test results {'nll': 2.9237209270477296, 'loss': 2.9237209270477296, 'accuracy': 60.97}\n"
     ]
    },
    {
     "name": "stderr",
     "output_type": "stream",
     "text": [
      "/home/ivan/.local/lib/python3.6/site-packages/ot/lp/__init__.py:113: UserWarning: numItermax reached before optimality. Try to increase numItermax.\n",
      "  result_code_string = check_result(result_code)\n",
      "  3%|▎         | 2/61 [00:24<11:56, 12.14s/it]"
     ]
    },
    {
     "name": "stdout",
     "output_type": "stream",
     "text": [
      "train results {'nll': 0.021409193603992464, 'loss': 0.021409193603992464, 'accuracy': 99.372}\n",
      "test results {'nll': 2.837782989883423, 'loss': 2.837782989883423, 'accuracy': 60.97}\n"
     ]
    },
    {
     "name": "stderr",
     "output_type": "stream",
     "text": [
      "/home/ivan/.local/lib/python3.6/site-packages/ot/lp/__init__.py:113: UserWarning: numItermax reached before optimality. Try to increase numItermax.\n",
      "  result_code_string = check_result(result_code)\n",
      "  5%|▍         | 3/61 [00:36<11:44, 12.14s/it]"
     ]
    },
    {
     "name": "stdout",
     "output_type": "stream",
     "text": [
      "train results {'nll': 0.023584390919804573, 'loss': 0.023584390919804573, 'accuracy': 99.316}\n",
      "test results {'nll': 2.779083687210083, 'loss': 2.779083687210083, 'accuracy': 60.95}\n"
     ]
    },
    {
     "name": "stderr",
     "output_type": "stream",
     "text": [
      "/home/ivan/.local/lib/python3.6/site-packages/ot/lp/__init__.py:113: UserWarning: numItermax reached before optimality. Try to increase numItermax.\n",
      "  result_code_string = check_result(result_code)\n",
      "  7%|▋         | 4/61 [00:48<11:34, 12.18s/it]"
     ]
    },
    {
     "name": "stdout",
     "output_type": "stream",
     "text": [
      "train results {'nll': 0.02627561551272869, 'loss': 0.02627561551272869, 'accuracy': 99.224}\n",
      "test results {'nll': 2.7416775424957276, 'loss': 2.7416775424957276, 'accuracy': 60.8}\n"
     ]
    },
    {
     "name": "stderr",
     "output_type": "stream",
     "text": [
      "/home/ivan/.local/lib/python3.6/site-packages/ot/lp/__init__.py:113: UserWarning: numItermax reached before optimality. Try to increase numItermax.\n",
      "  result_code_string = check_result(result_code)\n",
      "  8%|▊         | 5/61 [01:01<11:24, 12.22s/it]"
     ]
    },
    {
     "name": "stdout",
     "output_type": "stream",
     "text": [
      "train results {'nll': 0.028684038056731222, 'loss': 0.028684038056731222, 'accuracy': 99.148}\n",
      "test results {'nll': 2.720931830215454, 'loss': 2.720931830215454, 'accuracy': 60.8}\n"
     ]
    },
    {
     "name": "stderr",
     "output_type": "stream",
     "text": [
      "/home/ivan/.local/lib/python3.6/site-packages/ot/lp/__init__.py:113: UserWarning: numItermax reached before optimality. Try to increase numItermax.\n",
      "  result_code_string = check_result(result_code)\n",
      " 10%|▉         | 6/61 [01:13<11:12, 12.22s/it]"
     ]
    },
    {
     "name": "stdout",
     "output_type": "stream",
     "text": [
      "train results {'nll': 0.029912945142388344, 'loss': 0.029912945142388344, 'accuracy': 99.094}\n",
      "test results {'nll': 2.71381972694397, 'loss': 2.71381972694397, 'accuracy': 60.88}\n"
     ]
    },
    {
     "name": "stderr",
     "output_type": "stream",
     "text": [
      "/home/ivan/.local/lib/python3.6/site-packages/ot/lp/__init__.py:113: UserWarning: numItermax reached before optimality. Try to increase numItermax.\n",
      "  result_code_string = check_result(result_code)\n",
      " 11%|█▏        | 7/61 [01:25<10:58, 12.20s/it]"
     ]
    },
    {
     "name": "stdout",
     "output_type": "stream",
     "text": [
      "train results {'nll': 0.029495637340545656, 'loss': 0.029495637340545656, 'accuracy': 99.102}\n",
      "test results {'nll': 2.719838575744629, 'loss': 2.719838575744629, 'accuracy': 60.76}\n"
     ]
    },
    {
     "name": "stderr",
     "output_type": "stream",
     "text": [
      "/home/ivan/.local/lib/python3.6/site-packages/ot/lp/__init__.py:113: UserWarning: numItermax reached before optimality. Try to increase numItermax.\n",
      "  result_code_string = check_result(result_code)\n",
      " 13%|█▎        | 8/61 [01:37<10:46, 12.20s/it]"
     ]
    },
    {
     "name": "stdout",
     "output_type": "stream",
     "text": [
      "train results {'nll': 0.02768929915845394, 'loss': 0.02768929915845394, 'accuracy': 99.174}\n",
      "test results {'nll': 2.7413475875854494, 'loss': 2.7413475875854494, 'accuracy': 60.87}\n"
     ]
    },
    {
     "name": "stderr",
     "output_type": "stream",
     "text": [
      "/home/ivan/.local/lib/python3.6/site-packages/ot/lp/__init__.py:113: UserWarning: numItermax reached before optimality. Try to increase numItermax.\n",
      "  result_code_string = check_result(result_code)\n",
      " 15%|█▍        | 9/61 [01:49<10:35, 12.21s/it]"
     ]
    },
    {
     "name": "stdout",
     "output_type": "stream",
     "text": [
      "train results {'nll': 0.025216151416897772, 'loss': 0.025216151416897772, 'accuracy': 99.254}\n",
      "test results {'nll': 2.7789297454833983, 'loss': 2.7789297454833983, 'accuracy': 61.03}\n"
     ]
    },
    {
     "name": "stderr",
     "output_type": "stream",
     "text": [
      "/home/ivan/.local/lib/python3.6/site-packages/ot/lp/__init__.py:113: UserWarning: numItermax reached before optimality. Try to increase numItermax.\n",
      "  result_code_string = check_result(result_code)\n",
      " 16%|█▋        | 10/61 [02:02<10:24, 12.24s/it]"
     ]
    },
    {
     "name": "stdout",
     "output_type": "stream",
     "text": [
      "train results {'nll': 0.022993406769037248, 'loss': 0.022993406769037248, 'accuracy': 99.326}\n",
      "test results {'nll': 2.835988326263428, 'loss': 2.835988326263428, 'accuracy': 60.91}\n"
     ]
    },
    {
     "name": "stderr",
     "output_type": "stream",
     "text": [
      "\r",
      " 18%|█▊        | 11/61 [02:10<09:06, 10.93s/it]"
     ]
    },
    {
     "name": "stdout",
     "output_type": "stream",
     "text": [
      "train results {'nll': 0.021782094185352326, 'loss': 0.021782094185352326, 'accuracy': 99.368}\n",
      "test results {'nll': 2.917767600250244, 'loss': 2.917767600250244, 'accuracy': 60.95}\n"
     ]
    },
    {
     "name": "stderr",
     "output_type": "stream",
     "text": [
      "\r",
      " 20%|█▉        | 12/61 [02:17<08:10, 10.01s/it]"
     ]
    },
    {
     "name": "stdout",
     "output_type": "stream",
     "text": [
      "train results {'nll': 0.1278260725927353, 'loss': 0.1278260725927353, 'accuracy': 97.716}\n",
      "test results {'nll': 2.7279181423187255, 'loss': 2.7279181423187255, 'accuracy': 60.46}\n"
     ]
    },
    {
     "name": "stderr",
     "output_type": "stream",
     "text": [
      "\r",
      " 21%|██▏       | 13/61 [02:25<07:27,  9.32s/it]"
     ]
    },
    {
     "name": "stdout",
     "output_type": "stream",
     "text": [
      "train results {'nll': 0.22242576234817504, 'loss': 0.22242576234817504, 'accuracy': 96.442}\n",
      "test results {'nll': 2.594879341888428, 'loss': 2.594879341888428, 'accuracy': 59.9}\n"
     ]
    },
    {
     "name": "stderr",
     "output_type": "stream",
     "text": [
      "\r",
      " 23%|██▎       | 14/61 [02:33<06:55,  8.85s/it]"
     ]
    },
    {
     "name": "stdout",
     "output_type": "stream",
     "text": [
      "train results {'nll': 0.28016691482543943, 'loss': 0.28016691482543943, 'accuracy': 95.096}\n",
      "test results {'nll': 2.4909541816711425, 'loss': 2.4909541816711425, 'accuracy': 59.47}\n"
     ]
    },
    {
     "name": "stderr",
     "output_type": "stream",
     "text": [
      "\r",
      " 25%|██▍       | 15/61 [02:41<06:31,  8.52s/it]"
     ]
    },
    {
     "name": "stdout",
     "output_type": "stream",
     "text": [
      "train results {'nll': 0.3182644671726227, 'loss': 0.3182644671726227, 'accuracy': 93.694}\n",
      "test results {'nll': 2.413017916870117, 'loss': 2.413017916870117, 'accuracy': 59.3}\n"
     ]
    },
    {
     "name": "stderr",
     "output_type": "stream",
     "text": [
      "\r",
      " 26%|██▌       | 16/61 [02:48<06:14,  8.32s/it]"
     ]
    },
    {
     "name": "stdout",
     "output_type": "stream",
     "text": [
      "train results {'nll': 0.3277843031406403, 'loss': 0.3277843031406403, 'accuracy': 92.596}\n",
      "test results {'nll': 2.358389246368408, 'loss': 2.358389246368408, 'accuracy': 59.02}\n"
     ]
    },
    {
     "name": "stderr",
     "output_type": "stream",
     "text": [
      "\r",
      " 28%|██▊       | 17/61 [02:56<05:58,  8.14s/it]"
     ]
    },
    {
     "name": "stdout",
     "output_type": "stream",
     "text": [
      "train results {'nll': 0.2990291888809204, 'loss': 0.2990291888809204, 'accuracy': 92.54}\n",
      "test results {'nll': 2.3212865547180175, 'loss': 2.3212865547180175, 'accuracy': 59.43}\n"
     ]
    },
    {
     "name": "stderr",
     "output_type": "stream",
     "text": [
      "\r",
      " 30%|██▉       | 18/61 [03:04<05:45,  8.04s/it]"
     ]
    },
    {
     "name": "stdout",
     "output_type": "stream",
     "text": [
      "train results {'nll': 0.23667132732391358, 'loss': 0.23667132732391358, 'accuracy': 93.366}\n",
      "test results {'nll': 2.3170402252197264, 'loss': 2.3170402252197264, 'accuracy': 60.02}\n"
     ]
    },
    {
     "name": "stderr",
     "output_type": "stream",
     "text": [
      "\r",
      " 31%|███       | 19/61 [03:12<05:35,  7.98s/it]"
     ]
    },
    {
     "name": "stdout",
     "output_type": "stream",
     "text": [
      "train results {'nll': 0.1668635315799713, 'loss': 0.1668635315799713, 'accuracy': 94.498}\n",
      "test results {'nll': 2.3720896278381347, 'loss': 2.3720896278381347, 'accuracy': 60.33}\n"
     ]
    },
    {
     "name": "stderr",
     "output_type": "stream",
     "text": [
      "\r",
      " 33%|███▎      | 20/61 [03:20<05:25,  7.93s/it]"
     ]
    },
    {
     "name": "stdout",
     "output_type": "stream",
     "text": [
      "train results {'nll': 0.13156139566659927, 'loss': 0.13156139566659927, 'accuracy': 95.428}\n",
      "test results {'nll': 2.5062075229644774, 'loss': 2.5062075229644774, 'accuracy': 60.77}\n"
     ]
    },
    {
     "name": "stderr",
     "output_type": "stream",
     "text": [
      "\r",
      " 34%|███▍      | 21/61 [03:27<05:07,  7.69s/it]"
     ]
    },
    {
     "name": "stdout",
     "output_type": "stream",
     "text": [
      "train results {'nll': 0.12763441480875015, 'loss': 0.12763441480875015, 'accuracy': 95.664}\n",
      "test results {'nll': 2.735128133392334, 'loss': 2.735128133392334, 'accuracy': 60.69}\n"
     ]
    },
    {
     "name": "stderr",
     "output_type": "stream",
     "text": [
      "\r",
      " 36%|███▌      | 22/61 [03:34<04:51,  7.48s/it]"
     ]
    },
    {
     "name": "stdout",
     "output_type": "stream",
     "text": [
      "train results {'nll': 0.14678273515701293, 'loss': 0.14678273515701293, 'accuracy': 94.94}\n",
      "test results {'nll': 2.3293127670288087, 'loss': 2.3293127670288087, 'accuracy': 60.84}\n"
     ]
    },
    {
     "name": "stderr",
     "output_type": "stream",
     "text": [
      "\r",
      " 38%|███▊      | 23/61 [03:41<04:39,  7.36s/it]"
     ]
    },
    {
     "name": "stdout",
     "output_type": "stream",
     "text": [
      "train results {'nll': 0.2050318616771698, 'loss': 0.2050318616771698, 'accuracy': 92.828}\n",
      "test results {'nll': 2.0525605182647704, 'loss': 2.0525605182647704, 'accuracy': 60.49}\n"
     ]
    },
    {
     "name": "stderr",
     "output_type": "stream",
     "text": [
      "\r",
      " 39%|███▉      | 24/61 [03:48<04:28,  7.26s/it]"
     ]
    },
    {
     "name": "stdout",
     "output_type": "stream",
     "text": [
      "train results {'nll': 0.2980232878780365, 'loss': 0.2980232878780365, 'accuracy': 89.59}\n",
      "test results {'nll': 1.8800542394638062, 'loss': 1.8800542394638062, 'accuracy': 59.88}\n"
     ]
    },
    {
     "name": "stderr",
     "output_type": "stream",
     "text": [
      "\r",
      " 41%|████      | 25/61 [03:55<04:19,  7.20s/it]"
     ]
    },
    {
     "name": "stdout",
     "output_type": "stream",
     "text": [
      "train results {'nll': 0.3990088317203522, 'loss': 0.3990088317203522, 'accuracy': 86.064}\n",
      "test results {'nll': 1.7789380952835083, 'loss': 1.7789380952835083, 'accuracy': 59.46}\n"
     ]
    },
    {
     "name": "stderr",
     "output_type": "stream",
     "text": [
      "\r",
      " 43%|████▎     | 26/61 [04:02<04:10,  7.16s/it]"
     ]
    },
    {
     "name": "stdout",
     "output_type": "stream",
     "text": [
      "train results {'nll': 0.4654298206710815, 'loss': 0.4654298206710815, 'accuracy': 83.934}\n",
      "test results {'nll': 1.72539715423584, 'loss': 1.72539715423584, 'accuracy': 59.15}\n"
     ]
    },
    {
     "name": "stderr",
     "output_type": "stream",
     "text": [
      "\r",
      " 44%|████▍     | 27/61 [04:09<04:02,  7.15s/it]"
     ]
    },
    {
     "name": "stdout",
     "output_type": "stream",
     "text": [
      "train results {'nll': 0.4768267735290527, 'loss': 0.4768267735290527, 'accuracy': 83.504}\n",
      "test results {'nll': 1.7077507928848266, 'loss': 1.7077507928848266, 'accuracy': 59.31}\n"
     ]
    },
    {
     "name": "stderr",
     "output_type": "stream",
     "text": [
      "\r",
      " 46%|████▌     | 28/61 [04:16<03:55,  7.13s/it]"
     ]
    },
    {
     "name": "stdout",
     "output_type": "stream",
     "text": [
      "train results {'nll': 0.4458059111881256, 'loss': 0.4458059111881256, 'accuracy': 84.678}\n",
      "test results {'nll': 1.7268637853622437, 'loss': 1.7268637853622437, 'accuracy': 59.89}\n"
     ]
    },
    {
     "name": "stderr",
     "output_type": "stream",
     "text": [
      "\r",
      " 48%|████▊     | 29/61 [04:23<03:48,  7.13s/it]"
     ]
    },
    {
     "name": "stdout",
     "output_type": "stream",
     "text": [
      "train results {'nll': 0.4004678656959534, 'loss': 0.4004678656959534, 'accuracy': 86.164}\n",
      "test results {'nll': 1.7972159685134887, 'loss': 1.7972159685134887, 'accuracy': 60.58}\n"
     ]
    },
    {
     "name": "stderr",
     "output_type": "stream",
     "text": [
      "\r",
      " 49%|████▉     | 30/61 [04:30<03:40,  7.11s/it]"
     ]
    },
    {
     "name": "stdout",
     "output_type": "stream",
     "text": [
      "train results {'nll': 0.3698246639251709, 'loss': 0.3698246639251709, 'accuracy': 87.226}\n",
      "test results {'nll': 1.938763835144043, 'loss': 1.938763835144043, 'accuracy': 60.71}\n"
     ]
    },
    {
     "name": "stderr",
     "output_type": "stream",
     "text": [
      "\r",
      " 51%|█████     | 31/61 [04:37<03:31,  7.04s/it]"
     ]
    },
    {
     "name": "stdout",
     "output_type": "stream",
     "text": [
      "train results {'nll': 0.37502390303611755, 'loss': 0.37502390303611755, 'accuracy': 87.668}\n",
      "test results {'nll': 2.177590302658081, 'loss': 2.177590302658081, 'accuracy': 60.65}\n"
     ]
    },
    {
     "name": "stderr",
     "output_type": "stream",
     "text": [
      "\r",
      " 52%|█████▏    | 32/61 [04:44<03:23,  7.01s/it]"
     ]
    },
    {
     "name": "stdout",
     "output_type": "stream",
     "text": [
      "train results {'nll': 0.3413470887184143, 'loss': 0.3413470887184143, 'accuracy': 88.28}\n",
      "test results {'nll': 1.9436666458129883, 'loss': 1.9436666458129883, 'accuracy': 60.89}\n"
     ]
    },
    {
     "name": "stderr",
     "output_type": "stream",
     "text": [
      "\r",
      " 54%|█████▍    | 33/61 [04:51<03:16,  7.00s/it]"
     ]
    },
    {
     "name": "stdout",
     "output_type": "stream",
     "text": [
      "train results {'nll': 0.31446670482635497, 'loss': 0.31446670482635497, 'accuracy': 89.02}\n",
      "test results {'nll': 1.7790951044082641, 'loss': 1.7790951044082641, 'accuracy': 61.14}\n"
     ]
    },
    {
     "name": "stderr",
     "output_type": "stream",
     "text": [
      "\r",
      " 56%|█████▌    | 34/61 [04:58<03:09,  7.00s/it]"
     ]
    },
    {
     "name": "stdout",
     "output_type": "stream",
     "text": [
      "train results {'nll': 0.28447018510818484, 'loss': 0.28447018510818484, 'accuracy': 90.178}\n",
      "test results {'nll': 1.6805808376312257, 'loss': 1.6805808376312257, 'accuracy': 61.37}\n"
     ]
    },
    {
     "name": "stderr",
     "output_type": "stream",
     "text": [
      "\r",
      " 57%|█████▋    | 35/61 [05:05<03:02,  7.00s/it]"
     ]
    },
    {
     "name": "stdout",
     "output_type": "stream",
     "text": [
      "train results {'nll': 0.24434209814071656, 'loss': 0.24434209814071656, 'accuracy': 91.74}\n",
      "test results {'nll': 1.6448082540512086, 'loss': 1.6448082540512086, 'accuracy': 61.34}\n"
     ]
    },
    {
     "name": "stderr",
     "output_type": "stream",
     "text": [
      "\r",
      " 59%|█████▉    | 36/61 [05:12<02:54,  7.00s/it]"
     ]
    },
    {
     "name": "stdout",
     "output_type": "stream",
     "text": [
      "train results {'nll': 0.19484073674201965, 'loss': 0.19484073674201965, 'accuracy': 93.648}\n",
      "test results {'nll': 1.671316189956665, 'loss': 1.671316189956665, 'accuracy': 61.67}\n"
     ]
    },
    {
     "name": "stderr",
     "output_type": "stream",
     "text": [
      "\r",
      " 61%|██████    | 37/61 [05:19<02:47,  6.99s/it]"
     ]
    },
    {
     "name": "stdout",
     "output_type": "stream",
     "text": [
      "train results {'nll': 0.14477335588932036, 'loss': 0.14477335588932036, 'accuracy': 95.408}\n",
      "test results {'nll': 1.7610531042098998, 'loss': 1.7610531042098998, 'accuracy': 61.93}\n"
     ]
    },
    {
     "name": "stderr",
     "output_type": "stream",
     "text": [
      "\r",
      " 62%|██████▏   | 38/61 [05:26<02:40,  6.96s/it]"
     ]
    },
    {
     "name": "stdout",
     "output_type": "stream",
     "text": [
      "train results {'nll': 0.10405006152391434, 'loss': 0.10405006152391434, 'accuracy': 96.726}\n",
      "test results {'nll': 1.9152066627502442, 'loss': 1.9152066627502442, 'accuracy': 62.08}\n"
     ]
    },
    {
     "name": "stderr",
     "output_type": "stream",
     "text": [
      "\r",
      " 64%|██████▍   | 39/61 [05:33<02:32,  6.94s/it]"
     ]
    },
    {
     "name": "stdout",
     "output_type": "stream",
     "text": [
      "train results {'nll': 0.07715338457584381, 'loss': 0.07715338457584381, 'accuracy': 97.552}\n",
      "test results {'nll': 2.13096732711792, 'loss': 2.13096732711792, 'accuracy': 61.91}\n"
     ]
    },
    {
     "name": "stderr",
     "output_type": "stream",
     "text": [
      "\r",
      " 66%|██████▌   | 40/61 [05:40<02:25,  6.94s/it]"
     ]
    },
    {
     "name": "stdout",
     "output_type": "stream",
     "text": [
      "train results {'nll': 0.06293855108976364, 'loss': 0.06293855108976364, 'accuracy': 97.97}\n",
      "test results {'nll': 2.403684567260742, 'loss': 2.403684567260742, 'accuracy': 61.82}\n"
     ]
    },
    {
     "name": "stderr",
     "output_type": "stream",
     "text": [
      "\r",
      " 67%|██████▋   | 41/61 [05:47<02:18,  6.93s/it]"
     ]
    },
    {
     "name": "stdout",
     "output_type": "stream",
     "text": [
      "train results {'nll': 0.05839925897359848, 'loss': 0.05839925897359848, 'accuracy': 98.104}\n",
      "test results {'nll': 2.729659860610962, 'loss': 2.729659860610962, 'accuracy': 61.68}\n"
     ]
    },
    {
     "name": "stderr",
     "output_type": "stream",
     "text": [
      "\r",
      " 69%|██████▉   | 42/61 [05:54<02:11,  6.92s/it]"
     ]
    },
    {
     "name": "stdout",
     "output_type": "stream",
     "text": [
      "train results {'nll': 0.06258322205066681, 'loss': 0.06258322205066681, 'accuracy': 98.034}\n",
      "test results {'nll': 3.591412631225586, 'loss': 3.591412631225586, 'accuracy': 61.65}\n"
     ]
    },
    {
     "name": "stderr",
     "output_type": "stream",
     "text": [
      "\r",
      " 70%|███████   | 43/61 [06:01<02:05,  6.96s/it]"
     ]
    },
    {
     "name": "stdout",
     "output_type": "stream",
     "text": [
      "train results {'nll': 0.07047747588396072, 'loss': 0.07047747588396072, 'accuracy': 97.928}\n",
      "test results {'nll': 4.285108560180664, 'loss': 4.285108560180664, 'accuracy': 61.5}\n"
     ]
    },
    {
     "name": "stderr",
     "output_type": "stream",
     "text": [
      "\r",
      " 72%|███████▏  | 44/61 [06:08<01:57,  6.94s/it]"
     ]
    },
    {
     "name": "stdout",
     "output_type": "stream",
     "text": [
      "train results {'nll': 0.07578913475990295, 'loss': 0.07578913475990295, 'accuracy': 97.922}\n",
      "test results {'nll': 4.777217640686035, 'loss': 4.777217640686035, 'accuracy': 61.36}\n"
     ]
    },
    {
     "name": "stderr",
     "output_type": "stream",
     "text": [
      "\r",
      " 74%|███████▍  | 45/61 [06:15<01:51,  6.94s/it]"
     ]
    },
    {
     "name": "stdout",
     "output_type": "stream",
     "text": [
      "train results {'nll': 0.07681496725082397, 'loss': 0.07681496725082397, 'accuracy': 97.984}\n",
      "test results {'nll': 5.053751119232178, 'loss': 5.053751119232178, 'accuracy': 61.34}\n"
     ]
    },
    {
     "name": "stderr",
     "output_type": "stream",
     "text": [
      "\r",
      " 75%|███████▌  | 46/61 [06:22<01:44,  6.95s/it]"
     ]
    },
    {
     "name": "stdout",
     "output_type": "stream",
     "text": [
      "train results {'nll': 0.07310999284982682, 'loss': 0.07310999284982682, 'accuracy': 98.104}\n",
      "test results {'nll': 5.110527430725098, 'loss': 5.110527430725098, 'accuracy': 61.48}\n"
     ]
    },
    {
     "name": "stderr",
     "output_type": "stream",
     "text": [
      "\r",
      " 77%|███████▋  | 47/61 [06:29<01:37,  6.97s/it]"
     ]
    },
    {
     "name": "stdout",
     "output_type": "stream",
     "text": [
      "train results {'nll': 0.06533958672523499, 'loss': 0.06533958672523499, 'accuracy': 98.274}\n",
      "test results {'nll': 4.947825259399414, 'loss': 4.947825259399414, 'accuracy': 61.5}\n"
     ]
    },
    {
     "name": "stderr",
     "output_type": "stream",
     "text": [
      "\r",
      " 79%|███████▊  | 48/61 [06:35<01:30,  6.94s/it]"
     ]
    },
    {
     "name": "stdout",
     "output_type": "stream",
     "text": [
      "train results {'nll': 0.054766805814504625, 'loss': 0.054766805814504625, 'accuracy': 98.466}\n",
      "test results {'nll': 4.5718963493347164, 'loss': 4.5718963493347164, 'accuracy': 61.62}\n"
     ]
    },
    {
     "name": "stderr",
     "output_type": "stream",
     "text": [
      "\r",
      " 80%|████████  | 49/61 [06:42<01:23,  6.95s/it]"
     ]
    },
    {
     "name": "stdout",
     "output_type": "stream",
     "text": [
      "train results {'nll': 0.04327664829969406, 'loss': 0.04327664829969406, 'accuracy': 98.696}\n",
      "test results {'nll': 4.012665299224854, 'loss': 4.012665299224854, 'accuracy': 61.81}\n"
     ]
    },
    {
     "name": "stderr",
     "output_type": "stream",
     "text": [
      "\r",
      " 82%|████████▏ | 50/61 [06:49<01:16,  6.95s/it]"
     ]
    },
    {
     "name": "stdout",
     "output_type": "stream",
     "text": [
      "train results {'nll': 0.034184628450274465, 'loss': 0.034184628450274465, 'accuracy': 98.94}\n",
      "test results {'nll': 3.3644293632507325, 'loss': 3.3644293632507325, 'accuracy': 61.97}\n"
     ]
    },
    {
     "name": "stderr",
     "output_type": "stream",
     "text": [
      "\r",
      " 84%|████████▎ | 51/61 [06:56<01:09,  6.97s/it]"
     ]
    },
    {
     "name": "stdout",
     "output_type": "stream",
     "text": [
      "train results {'nll': 0.03092817055761814, 'loss': 0.03092817055761814, 'accuracy': 99.068}\n",
      "test results {'nll': 2.7973120079040528, 'loss': 2.7973120079040528, 'accuracy': 61.65}\n"
     ]
    },
    {
     "name": "stderr",
     "output_type": "stream",
     "text": [
      "\r",
      " 85%|████████▌ | 52/61 [07:03<01:02,  6.97s/it]"
     ]
    },
    {
     "name": "stdout",
     "output_type": "stream",
     "text": [
      "train results {'nll': 0.02949520364165306, 'loss': 0.02949520364165306, 'accuracy': 99.114}\n",
      "test results {'nll': 2.7106806674957276, 'loss': 2.7106806674957276, 'accuracy': 61.81}\n"
     ]
    },
    {
     "name": "stderr",
     "output_type": "stream",
     "text": [
      "\r",
      " 87%|████████▋ | 53/61 [07:10<00:55,  6.98s/it]"
     ]
    },
    {
     "name": "stdout",
     "output_type": "stream",
     "text": [
      "train results {'nll': 0.028208071210980415, 'loss': 0.028208071210980415, 'accuracy': 99.174}\n",
      "test results {'nll': 2.6451556465148927, 'loss': 2.6451556465148927, 'accuracy': 61.79}\n"
     ]
    },
    {
     "name": "stderr",
     "output_type": "stream",
     "text": [
      "\r",
      " 89%|████████▊ | 54/61 [07:17<00:49,  7.00s/it]"
     ]
    },
    {
     "name": "stdout",
     "output_type": "stream",
     "text": [
      "train results {'nll': 0.02706032864630222, 'loss': 0.02706032864630222, 'accuracy': 99.218}\n",
      "test results {'nll': 2.601340811920166, 'loss': 2.601340811920166, 'accuracy': 61.75}\n"
     ]
    },
    {
     "name": "stderr",
     "output_type": "stream",
     "text": [
      "\r",
      " 90%|█████████ | 55/61 [07:24<00:42,  7.01s/it]"
     ]
    },
    {
     "name": "stdout",
     "output_type": "stream",
     "text": [
      "train results {'nll': 0.02604700124025345, 'loss': 0.02604700124025345, 'accuracy': 99.25}\n",
      "test results {'nll': 2.5794149253845213, 'loss': 2.5794149253845213, 'accuracy': 61.73}\n"
     ]
    },
    {
     "name": "stderr",
     "output_type": "stream",
     "text": [
      "\r",
      " 92%|█████████▏| 56/61 [07:31<00:35,  7.01s/it]"
     ]
    },
    {
     "name": "stdout",
     "output_type": "stream",
     "text": [
      "train results {'nll': 0.02516430973768234, 'loss': 0.02516430973768234, 'accuracy': 99.298}\n",
      "test results {'nll': 2.579377460861206, 'loss': 2.579377460861206, 'accuracy': 61.71}\n"
     ]
    },
    {
     "name": "stderr",
     "output_type": "stream",
     "text": [
      "\r",
      " 93%|█████████▎| 57/61 [07:38<00:28,  7.00s/it]"
     ]
    },
    {
     "name": "stdout",
     "output_type": "stream",
     "text": [
      "train results {'nll': 0.024408908057808876, 'loss': 0.024408908057808876, 'accuracy': 99.322}\n",
      "test results {'nll': 2.6011838466644286, 'loss': 2.6011838466644286, 'accuracy': 61.43}\n"
     ]
    },
    {
     "name": "stderr",
     "output_type": "stream",
     "text": [
      "\r",
      " 95%|█████████▌| 58/61 [07:45<00:20,  7.00s/it]"
     ]
    },
    {
     "name": "stdout",
     "output_type": "stream",
     "text": [
      "train results {'nll': 0.0237810778683424, 'loss': 0.0237810778683424, 'accuracy': 99.35}\n",
      "test results {'nll': 2.6446086921691894, 'loss': 2.6446086921691894, 'accuracy': 61.35}\n"
     ]
    },
    {
     "name": "stderr",
     "output_type": "stream",
     "text": [
      "\r",
      " 97%|█████████▋| 59/61 [07:52<00:14,  7.02s/it]"
     ]
    },
    {
     "name": "stdout",
     "output_type": "stream",
     "text": [
      "train results {'nll': 0.023286706083416937, 'loss': 0.023286706083416937, 'accuracy': 99.35}\n",
      "test results {'nll': 2.709284088897705, 'loss': 2.709284088897705, 'accuracy': 61.23}\n"
     ]
    },
    {
     "name": "stderr",
     "output_type": "stream",
     "text": [
      "\r",
      " 98%|█████████▊| 60/61 [07:59<00:07,  7.02s/it]"
     ]
    },
    {
     "name": "stdout",
     "output_type": "stream",
     "text": [
      "train results {'nll': 0.02293143329143524, 'loss': 0.02293143329143524, 'accuracy': 99.354}\n",
      "test results {'nll': 2.794696636199951, 'loss': 2.794696636199951, 'accuracy': 61.19}\n"
     ]
    },
    {
     "name": "stderr",
     "output_type": "stream",
     "text": [
      "\r",
      "100%|██████████| 61/61 [08:07<00:00,  7.02s/it]"
     ]
    },
    {
     "name": "stdout",
     "output_type": "stream",
     "text": [
      "train results {'nll': 0.02272437646448612, 'loss': 0.02272437646448612, 'accuracy': 99.356}\n",
      "test results {'nll': 2.8999288555145264, 'loss': 2.8999288555145264, 'accuracy': 61.05}\n"
     ]
    },
    {
     "name": "stderr",
     "output_type": "stream",
     "text": [
      "\n"
     ]
    }
   ],
   "source": [
    "path_trl = find_path(time, pfswt, method='lin_connect')"
   ]
  },
  {
   "cell_type": "code",
   "execution_count": 20,
   "metadata": {},
   "outputs": [
    {
     "data": {
      "text/plain": [
       "2.5"
      ]
     },
     "execution_count": 20,
     "metadata": {},
     "output_type": "execute_result"
    }
   ],
   "source": [
    "time[25]"
   ]
  },
  {
   "cell_type": "code",
   "execution_count": 22,
   "metadata": {},
   "outputs": [
    {
     "data": {
      "text/plain": [
       "(2.6, 1.5)"
      ]
     },
     "execution_count": 22,
     "metadata": {},
     "output_type": "execute_result"
    }
   ],
   "source": [
    "time[np.argmax(np.array(path_trl['train']))], time[np.argmax(np.array(path_trl['test']))]"
   ]
  },
  {
   "cell_type": "code",
   "execution_count": 17,
   "metadata": {},
   "outputs": [
    {
     "data": {
      "text/plain": [
       "0.4299999999999926"
      ]
     },
     "execution_count": 17,
     "metadata": {},
     "output_type": "execute_result"
    }
   ],
   "source": [
    "path_trl['train'][np.argmax(np.array(path_trl['train']))] - path_trl['train'][25]"
   ]
  },
  {
   "cell_type": "code",
   "execution_count": 18,
   "metadata": {},
   "outputs": [
    {
     "data": {
      "text/plain": [
       "0.12999999999999545"
      ]
     },
     "execution_count": 18,
     "metadata": {},
     "output_type": "execute_result"
    }
   ],
   "source": [
    "path_trl['test'][np.argmax(np.array(path_trl['test']))] - path_trl['test'][25]"
   ]
  },
  {
   "cell_type": "code",
   "execution_count": 19,
   "metadata": {},
   "outputs": [
    {
     "data": {
      "image/png": "[encoded data removed]",
      "text/plain": [
       "<Figure size 432x288 with 1 Axes>"
      ]
     },
     "metadata": {
      "needs_background": "light"
     },
     "output_type": "display_data"
    }
   ],
   "source": [
    "plt.plot(time, path_trl['train'], label='train')\n",
    "plt.plot(time, path_trl['test'], label='test') \n",
    "plt.legend()\n",
    "plt.xlabel('time')\n",
    "plt.ylabel('error (%)')\n",
    "plt.show()"
   ]
  },
  {
   "cell_type": "code",
   "execution_count": null,
   "metadata": {
    "scrolled": false
   },
   "outputs": [
    {
     "name": "stderr",
     "output_type": "stream",
     "text": [
      "  0%|          | 0/6 [00:00<?, ?it/s]\n",
      "  0%|          | 0/5 [00:00<?, ?it/s]\u001b[A"
     ]
    },
    {
     "name": "stdout",
     "output_type": "stream",
     "text": [
      "finding feature maps\n"
     ]
    },
    {
     "name": "stderr",
     "output_type": "stream",
     "text": [
      "\n",
      " 20%|██        | 1/5 [00:04<00:17,  4.50s/it]\u001b[A\n",
      " 40%|████      | 2/5 [00:06<00:11,  3.81s/it]\u001b[A\n",
      " 60%|██████    | 3/5 [00:07<00:05,  2.84s/it]\u001b[A\n",
      " 80%|████████  | 4/5 [00:07<00:02,  2.11s/it]\u001b[A\n",
      "100%|██████████| 5/5 [00:08<00:00,  1.61s/it]\u001b[A\n",
      "\u001b[A\n",
      "  0%|          | 0/5 [00:00<?, ?it/s]\u001b[A"
     ]
    },
    {
     "name": "stdout",
     "output_type": "stream",
     "text": [
      "finding feature maps\n"
     ]
    },
    {
     "name": "stderr",
     "output_type": "stream",
     "text": [
      "\n",
      " 20%|██        | 1/5 [00:04<00:18,  4.51s/it]\u001b[A\n",
      " 40%|████      | 2/5 [00:06<00:11,  3.82s/it]\u001b[A\n",
      " 60%|██████    | 3/5 [00:07<00:05,  2.85s/it]\u001b[A\n",
      " 80%|████████  | 4/5 [00:07<00:02,  2.12s/it]\u001b[A\n",
      "100%|██████████| 5/5 [00:08<00:00,  1.62s/it]\u001b[A\n",
      "\u001b[A\n",
      "0it [00:00, ?it/s]\u001b[A"
     ]
    },
    {
     "name": "stdout",
     "output_type": "stream",
     "text": [
      "adjusting weights\n"
     ]
    }
   ],
   "source": [
    "stat = get_stat_plus_zeroing(PointFinderStepWiseTransportation, model_name, architecture, t=2.5, method='lin_connect',\n",
    "             beg_ind=1, end_ind=7)\n"
   ]
  },
  {
   "cell_type": "code",
   "execution_count": 28,
   "metadata": {},
   "outputs": [],
   "source": [
    "stat_prl, stat_zero = stat"
   ]
  },
  {
   "cell_type": "code",
   "execution_count": 29,
   "metadata": {},
   "outputs": [
    {
     "data": {
      "text/plain": [
       "(84.16166666666668, 0.28341587033113363, 59.895, 0.4480606357774961)"
      ]
     },
     "execution_count": 29,
     "metadata": {},
     "output_type": "execute_result"
    }
   ],
   "source": [
    "get_mean_svd(stat_prl)"
   ]
  },
  {
   "cell_type": "code",
   "execution_count": 30,
   "metadata": {},
   "outputs": [],
   "source": [
    "# stat_zero = test_zeroing(PointFinderStepWiseTransportation, model_name, architecture, beg_ind=3, end_ind=10)"
   ]
  },
  {
   "cell_type": "code",
   "execution_count": 31,
   "metadata": {},
   "outputs": [
    {
     "data": {
      "text/plain": [
       "(87.34066666666666,\n",
       " 0.25194091017979175,\n",
       " 60.57333333333333,\n",
       " 0.15744487571492685)"
      ]
     },
     "execution_count": 31,
     "metadata": {},
     "output_type": "execute_result"
    }
   ],
   "source": [
    "get_mean_svd(stat_zero)"
   ]
  },
  {
   "cell_type": "code",
   "execution_count": null,
   "metadata": {},
   "outputs": [],
   "source": []
  },
  {
   "cell_type": "code",
   "execution_count": null,
   "metadata": {},
   "outputs": [],
   "source": []
  }
 ],
 "metadata": {
  "kernelspec": {
   "display_name": "Python 3",
   "language": "python",
   "name": "python3"
  },
  "language_info": {
   "codemirror_mode": {
    "name": "ipython",
    "version": 3
   },
   "file_extension": ".py",
   "mimetype": "text/x-python",
   "name": "python",
   "nbconvert_exporter": "python",
   "pygments_lexer": "ipython3",
   "version": "3.6.7"
  }
 },
 "nbformat": 4,
 "nbformat_minor": 2
}
