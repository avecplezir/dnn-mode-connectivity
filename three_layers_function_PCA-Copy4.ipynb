{
 "cells": [
  {
   "cell_type": "code",
   "execution_count": 1,
   "metadata": {},
   "outputs": [],
   "source": [
    "import sys\n",
    "sys.path.append('/home/ivan/distribution_connector')\n",
    "import os\n",
    "\n",
    "from sklearn.decomposition import TruncatedSVD\n"
   ]
  },
  {
   "cell_type": "code",
   "execution_count": 2,
   "metadata": {},
   "outputs": [],
   "source": [
    "from sklearn import datasets\n",
    "import numpy as np\n",
    "import torch\n",
    "from tqdm import tqdm\n",
    "from connector_utils import test_models, gather_statistics, test_func\n",
    "import matplotlib.pyplot as plt"
   ]
  },
  {
   "cell_type": "code",
   "execution_count": 3,
   "metadata": {},
   "outputs": [],
   "source": [
    "from connector import Connector\n",
    "# from one_layer_utils import samples, make_dataset, get_model, get_b\n",
    "from utils import test_model\n",
    "from tqdm import tqdm"
   ]
  },
  {
   "cell_type": "code",
   "execution_count": 4,
   "metadata": {},
   "outputs": [
    {
     "name": "stdout",
     "output_type": "stream",
     "text": [
      "Files already downloaded and verified\n",
      "You are going to run models on the test set. Are you sure?\n",
      "Files already downloaded and verified\n"
     ]
    },
    {
     "data": {
      "text/plain": [
       "IncompatibleKeys(missing_keys=[], unexpected_keys=[])"
      ]
     },
     "execution_count": 4,
     "metadata": {},
     "output_type": "execute_result"
    }
   ],
   "source": [
    "import models\n",
    "model_name = 'LinearOneLayer'\n",
    "architecture = getattr(models, 'LinearOneLayerCF') #LinearOneLayer LogRegression\n",
    "\n",
    "import data\n",
    "loaders, num_classes = data.loaders(\n",
    "    \"CIFAR10\",\n",
    "    \"data\",\n",
    "    1024,\n",
    "    1,\n",
    "    \"VGG\",\n",
    "    True,\n",
    "    train_random=True,\n",
    "    shuffle_train=False)\n",
    "\n",
    "model1 = architecture.base(num_classes=10, **architecture.kwargs)\n",
    "model2 = architecture.base(num_classes=10, **architecture.kwargs)\n",
    "\n",
    "model1.load_state_dict(torch.load('curves/'+model_name+'/curve3/checkpoint-400.pt')['model_state'])\n",
    "model2.load_state_dict(torch.load('curves/'+model_name+'/curve4/checkpoint-400.pt')['model_state'])\n"
   ]
  },
  {
   "cell_type": "code",
   "execution_count": 5,
   "metadata": {},
   "outputs": [
    {
     "name": "stderr",
     "output_type": "stream",
     "text": [
      " 12%|█▎        | 1/8 [00:13<01:37, 13.92s/it]"
     ]
    },
    {
     "name": "stdout",
     "output_type": "stream",
     "text": [
      "train results {'nll': 0.84960984167099, 'loss': 0.84960984167099, 'accuracy': 70.426}\n",
      "test results {'nll': 1.3227679414749145, 'loss': 1.3227679414749145, 'accuracy': 59.11}\n"
     ]
    },
    {
     "name": "stderr",
     "output_type": "stream",
     "text": [
      "\r",
      " 25%|██▌       | 2/8 [00:27<01:23, 13.94s/it]"
     ]
    },
    {
     "name": "stdout",
     "output_type": "stream",
     "text": [
      "train results {'nll': 0.8486003172302246, 'loss': 0.8486003172302246, 'accuracy': 70.568}\n",
      "test results {'nll': 1.3180574544906616, 'loss': 1.3180574544906616, 'accuracy': 59.4}\n"
     ]
    },
    {
     "name": "stderr",
     "output_type": "stream",
     "text": [
      "\r",
      " 38%|███▊      | 3/8 [00:41<01:09, 13.96s/it]"
     ]
    },
    {
     "name": "stdout",
     "output_type": "stream",
     "text": [
      "train results {'nll': 0.8484096311187744, 'loss': 0.8484096311187744, 'accuracy': 70.614}\n",
      "test results {'nll': 1.3117229124069214, 'loss': 1.3117229124069214, 'accuracy': 59.09}\n"
     ]
    },
    {
     "name": "stderr",
     "output_type": "stream",
     "text": [
      "\r",
      " 50%|█████     | 4/8 [00:56<00:56, 14.01s/it]"
     ]
    },
    {
     "name": "stdout",
     "output_type": "stream",
     "text": [
      "train results {'nll': 0.8453139010810852, 'loss': 0.8453139010810852, 'accuracy': 70.672}\n",
      "test results {'nll': 1.309335548019409, 'loss': 1.309335548019409, 'accuracy': 59.51}\n"
     ]
    },
    {
     "name": "stderr",
     "output_type": "stream",
     "text": [
      "\r",
      " 62%|██████▎   | 5/8 [01:10<00:42, 14.02s/it]"
     ]
    },
    {
     "name": "stdout",
     "output_type": "stream",
     "text": [
      "train results {'nll': 0.8470388956642151, 'loss': 0.8470388956642151, 'accuracy': 70.722}\n",
      "test results {'nll': 1.3155865692138673, 'loss': 1.3155865692138673, 'accuracy': 58.91}\n"
     ]
    },
    {
     "name": "stderr",
     "output_type": "stream",
     "text": [
      "\r",
      " 75%|███████▌  | 6/8 [01:24<00:28, 14.28s/it]"
     ]
    },
    {
     "name": "stdout",
     "output_type": "stream",
     "text": [
      "train results {'nll': 0.852236960029602, 'loss': 0.852236960029602, 'accuracy': 70.422}\n",
      "test results {'nll': 1.3110736963272094, 'loss': 1.3110736963272094, 'accuracy': 59.03}\n"
     ]
    },
    {
     "name": "stderr",
     "output_type": "stream",
     "text": [
      "\r",
      " 88%|████████▊ | 7/8 [01:41<00:14, 14.89s/it]"
     ]
    },
    {
     "name": "stdout",
     "output_type": "stream",
     "text": [
      "train results {'nll': 0.8487677566146851, 'loss': 0.8487677566146851, 'accuracy': 70.542}\n",
      "test results {'nll': 1.313787916946411, 'loss': 1.313787916946411, 'accuracy': 58.95}\n"
     ]
    },
    {
     "name": "stderr",
     "output_type": "stream",
     "text": [
      "\r",
      "100%|██████████| 8/8 [01:58<00:00, 15.55s/it]"
     ]
    },
    {
     "name": "stdout",
     "output_type": "stream",
     "text": [
      "train results {'nll': 0.8487152013778686, 'loss': 0.8487152013778686, 'accuracy': 70.574}\n",
      "test results {'nll': 1.3165094848632812, 'loss': 1.3165094848632812, 'accuracy': 59.01}\n"
     ]
    },
    {
     "name": "stderr",
     "output_type": "stream",
     "text": [
      "\n"
     ]
    }
   ],
   "source": [
    "model1.cuda()\n",
    "model2.cuda()\n",
    "stat = {'train': [], 'test': []}\n",
    "for i in tqdm(range(3, 11)):\n",
    "    model1.load_state_dict(torch.load('curves/'+model_name+'/curve'+str(i)+'/checkpoint-400.pt')['model_state'])\n",
    "    res = test_model(model1, loaders, cuda=True)\n",
    "    stat['train'].append(res[0]['accuracy'])\n",
    "    stat['test'].append(res[1]['accuracy'])\n"
   ]
  },
  {
   "cell_type": "code",
   "execution_count": 6,
   "metadata": {},
   "outputs": [
    {
     "data": {
      "text/plain": [
       "(0.09927109347639813, 0.20136642595030527)"
      ]
     },
     "execution_count": 6,
     "metadata": {},
     "output_type": "execute_result"
    }
   ],
   "source": [
    "np.array(stat['train']).std(), np.array(stat['test']).std()"
   ]
  },
  {
   "cell_type": "code",
   "execution_count": 7,
   "metadata": {},
   "outputs": [
    {
     "data": {
      "text/plain": [
       "(70.5675, 59.12625)"
      ]
     },
     "execution_count": 7,
     "metadata": {},
     "output_type": "execute_result"
    }
   ],
   "source": [
    "np.array(stat['train']).mean(), np.array(stat['test']).mean()"
   ]
  },
  {
   "cell_type": "code",
   "execution_count": 8,
   "metadata": {},
   "outputs": [],
   "source": [
    "# model1.cuda();\n",
    "# model1.eval();\n",
    "# test_model(model1, loaders, cuda=True)"
   ]
  },
  {
   "cell_type": "code",
   "execution_count": 9,
   "metadata": {},
   "outputs": [],
   "source": [
    "# model2.cuda();\n",
    "# model2.eval();\n",
    "# test_model(model2, loaders, cuda=True)"
   ]
  },
  {
   "cell_type": "code",
   "execution_count": 10,
   "metadata": {},
   "outputs": [],
   "source": [
    "def get_data(data_type='train'):\n",
    "    targ = []\n",
    "    data = []\n",
    "    for X, y in loaders[data_type]:\n",
    "        data.append(X.view(-1,3*32*32).cpu().data.numpy())\n",
    "        targ.append(y)\n",
    "\n",
    "    data = np.concatenate(data)\n",
    "    targ = np.concatenate(targ)\n",
    "    \n",
    "    return data, targ"
   ]
  },
  {
   "cell_type": "code",
   "execution_count": 11,
   "metadata": {},
   "outputs": [],
   "source": [
    "data, targ = get_data(data_type='train')"
   ]
  },
  {
   "cell_type": "code",
   "execution_count": 12,
   "metadata": {},
   "outputs": [
    {
     "data": {
      "text/plain": [
       "((50000, 3072), (50000,))"
      ]
     },
     "execution_count": 12,
     "metadata": {},
     "output_type": "execute_result"
    }
   ],
   "source": [
    "data.shape, targ.shape"
   ]
  },
  {
   "cell_type": "code",
   "execution_count": 13,
   "metadata": {},
   "outputs": [],
   "source": [
    "data_test, targ_test = get_data(data_type='test')"
   ]
  },
  {
   "cell_type": "code",
   "execution_count": 14,
   "metadata": {},
   "outputs": [],
   "source": [
    "def next_layer(W, b, data):\n",
    "    funcs = np.maximum(data @ W.T + b, 0)\n",
    "    return funcs\n",
    "\n",
    "    \n",
    "def accuracy(pred, targ):\n",
    "    ens_acc = 100.0 * np.mean(np.argmax(pred, axis=1) == targ)\n",
    "    return ens_acc\n",
    "\n",
    "def get_pred(W1, b1, W0, b0, data):\n",
    "    pred =  np.maximum( data @ W0.T + b0, 0) @ W1.T  + b1\n",
    "    return pred"
   ]
  },
  {
   "cell_type": "code",
   "execution_count": 15,
   "metadata": {},
   "outputs": [],
   "source": [
    "class PointFinderInverse2():\n",
    "    def __init__(self, model1, model2):\n",
    "        out = {}\n",
    "        self.W10 = list(model1.parameters())[0].data.cpu().numpy()\n",
    "        self.W20 = list(model2.parameters())[0].data.cpu().numpy()\n",
    "\n",
    "        self.b10 = list(model1.parameters())[1].data.cpu().numpy()\n",
    "        self.b20 = list(model2.parameters())[1].data.cpu().numpy()\n",
    "\n",
    "        self.W11 = list(model1.parameters())[2].data.cpu().numpy()\n",
    "        self.W21 = list(model2.parameters())[2].data.cpu().numpy()\n",
    "\n",
    "        self.b11 = list(model1.parameters())[3].data.cpu().numpy()\n",
    "        self.b21 = list(model2.parameters())[3].data.cpu().numpy()\n",
    "\n",
    "        self.funcs11 = next_layer(self.W10, self.b10, data=data) \n",
    "        self.funcs21 = next_layer(self.W20, self.b20, data=data)\n",
    "        \n",
    "        self.f_inv21 = np.linalg.pinv(self.funcs21.T)\n",
    "        self.W11b2 = self.W11 @ self.funcs11.T @ self.f_inv21\n",
    "        \n",
    "        self.W10b = np.concatenate([self.W10, np.expand_dims(self.b10, axis=1)], axis=1)\n",
    "        self.W20b = np.concatenate([self.W20, np.expand_dims(self.b20, axis=1)], axis=1)\n",
    "        \n",
    "    def find_point(self, t=0.5, method='arc_connect'):\n",
    "\n",
    "        out = {}\n",
    "        if 0<=t<=1:\n",
    "            s = t\n",
    "            # go from model1 basic to model2 basis weight in 2th layer\n",
    "            Wn0 = getattr(Connector(self.W10b, self.W20b), method)(t=s)[1]\n",
    "            Wn0 = Wn0[:, :-1]\n",
    "            bn0 = Wn0[:, -1]\n",
    "            \n",
    "            funcs = next_layer(Wn0, bn0, data=data)\n",
    "            f_inv = np.linalg.pinv(funcs.T)\n",
    "            Wn1 = self.W11 @ self.funcs11.T @ f_inv\n",
    "            \n",
    "            pred = get_pred(Wn1, self.b11, Wn0, bn0, data) \n",
    "            out['train'] = accuracy(pred, targ)\n",
    "\n",
    "            pred_test = get_pred(Wn1, self.b11, Wn0, bn0, data_test)\n",
    "            out['test'] = accuracy(pred_test, targ_test)\n",
    "            \n",
    "        elif 1<t<=2:\n",
    "            s = t - 1\n",
    "            Wn1 = getattr(Connector(self.W11b2, self.W21), method)(t=s)[1]\n",
    "            bn1 = getattr(Connector(self.b11, self.b21), method)(t=s)[1]\n",
    "            \n",
    "            pred = get_pred(Wn1, bn1, self.W20, self.b20, data) \n",
    "            out['train'] = accuracy(pred, targ)\n",
    "\n",
    "            pred_test = pred = get_pred(Wn1, bn1, self.W20, self.b20, data_test) \n",
    "            out['test'] = accuracy(pred_test, targ_test)\n",
    "            \n",
    "        else:\n",
    "            assert not  0<=t<=2, 't is not in [0, 2]'\n",
    "            \n",
    "        print(t, out)\n",
    "\n",
    "        return out"
   ]
  },
  {
   "cell_type": "markdown",
   "metadata": {},
   "source": [
    "# Path Visualization "
   ]
  },
  {
   "cell_type": "code",
   "execution_count": 16,
   "metadata": {},
   "outputs": [],
   "source": [
    "# finder = PointFinderInverse(model1, model2) \n",
    "finder = PointFinderInverse2(model1, model2)"
   ]
  },
  {
   "cell_type": "code",
   "execution_count": 17,
   "metadata": {},
   "outputs": [],
   "source": [
    "time = np.linspace(0, 2, 9)"
   ]
  },
  {
   "cell_type": "code",
   "execution_count": 18,
   "metadata": {},
   "outputs": [
    {
     "data": {
      "text/plain": [
       "array([0.  , 0.25, 0.5 , 0.75, 1.  , 1.25, 1.5 , 1.75, 2.  ])"
      ]
     },
     "execution_count": 18,
     "metadata": {},
     "output_type": "execute_result"
    }
   ],
   "source": [
    "time"
   ]
  },
  {
   "cell_type": "code",
   "execution_count": 19,
   "metadata": {
    "scrolled": false
   },
   "outputs": [
    {
     "name": "stderr",
     "output_type": "stream",
     "text": [
      " 11%|█         | 1/9 [00:32<04:21, 32.66s/it]"
     ]
    },
    {
     "name": "stdout",
     "output_type": "stream",
     "text": [
      "0.0 {'train': 70.212, 'test': 57.769999999999996}\n"
     ]
    },
    {
     "name": "stderr",
     "output_type": "stream",
     "text": [
      "\r",
      " 22%|██▏       | 2/9 [01:02<03:43, 31.88s/it]"
     ]
    },
    {
     "name": "stdout",
     "output_type": "stream",
     "text": [
      "0.25 {'train': 66.78, 'test': 56.93}\n"
     ]
    },
    {
     "name": "stderr",
     "output_type": "stream",
     "text": [
      "\r",
      " 33%|███▎      | 3/9 [01:32<03:07, 31.25s/it]"
     ]
    },
    {
     "name": "stdout",
     "output_type": "stream",
     "text": [
      "0.5 {'train': 62.572, 'test': 55.75}\n"
     ]
    },
    {
     "name": "stderr",
     "output_type": "stream",
     "text": [
      "\r",
      " 44%|████▍     | 4/9 [02:02<02:34, 31.00s/it]"
     ]
    },
    {
     "name": "stdout",
     "output_type": "stream",
     "text": [
      "0.75 {'train': 65.8, 'test': 57.489999999999995}\n"
     ]
    },
    {
     "name": "stderr",
     "output_type": "stream",
     "text": [
      "\r",
      " 56%|█████▌    | 5/9 [02:16<01:43, 25.85s/it]"
     ]
    },
    {
     "name": "stdout",
     "output_type": "stream",
     "text": [
      "1.0 {'train': 68.856, 'test': 58.43000000000001}\n"
     ]
    },
    {
     "name": "stderr",
     "output_type": "stream",
     "text": [
      "\r",
      " 67%|██████▋   | 6/9 [02:18<00:55, 18.57s/it]"
     ]
    },
    {
     "name": "stdout",
     "output_type": "stream",
     "text": [
      "1.25 {'train': 69.542, 'test': 59.75}\n"
     ]
    },
    {
     "name": "stderr",
     "output_type": "stream",
     "text": [
      "\r",
      " 78%|███████▊  | 7/9 [02:19<00:26, 13.48s/it]"
     ]
    },
    {
     "name": "stdout",
     "output_type": "stream",
     "text": [
      "1.5 {'train': 69.604, 'test': 59.63}\n"
     ]
    },
    {
     "name": "stderr",
     "output_type": "stream",
     "text": [
      "\r",
      " 89%|████████▉ | 8/9 [02:21<00:09,  9.92s/it]"
     ]
    },
    {
     "name": "stdout",
     "output_type": "stream",
     "text": [
      "1.75 {'train': 70.182, 'test': 59.660000000000004}\n"
     ]
    },
    {
     "name": "stderr",
     "output_type": "stream",
     "text": [
      "\r",
      "100%|██████████| 9/9 [02:23<00:00,  7.42s/it]"
     ]
    },
    {
     "name": "stdout",
     "output_type": "stream",
     "text": [
      "2.0 {'train': 70.784, 'test': 59.4}\n"
     ]
    },
    {
     "name": "stderr",
     "output_type": "stream",
     "text": [
      "\n"
     ]
    }
   ],
   "source": [
    "path = {'test': [], 'train': []}\n",
    "for t in tqdm(time):\n",
    "    point = finder.find_point(t=t, method='arc_connect')\n",
    "    path['test'].append(100-point['test']) \n",
    "    path['train'].append(100-point['train']) "
   ]
  },
  {
   "cell_type": "code",
   "execution_count": 20,
   "metadata": {},
   "outputs": [
    {
     "data": {
      "text/plain": [
       "array([70.212, 66.78 , 62.572, 65.8  , 68.856, 69.542, 69.604, 70.182,\n",
       "       70.784])"
      ]
     },
     "execution_count": 20,
     "metadata": {},
     "output_type": "execute_result"
    }
   ],
   "source": [
    "100 - np.array(path['train'])"
   ]
  },
  {
   "cell_type": "code",
   "execution_count": 21,
   "metadata": {},
   "outputs": [
    {
     "data": {
      "text/plain": [
       "array([57.77, 56.93, 55.75, 57.49, 58.43, 59.75, 59.63, 59.66, 59.4 ])"
      ]
     },
     "execution_count": 21,
     "metadata": {},
     "output_type": "execute_result"
    }
   ],
   "source": [
    "100 - np.array(path['test'])"
   ]
  },
  {
   "cell_type": "code",
   "execution_count": 22,
   "metadata": {},
   "outputs": [
    {
     "data": {
      "image/png": "[encoded data removed]",
      "text/plain": [
       "<Figure size 432x288 with 1 Axes>"
      ]
     },
     "metadata": {
      "needs_background": "light"
     },
     "output_type": "display_data"
    }
   ],
   "source": [
    "plt.plot(time, path['train'], label='train')\n",
    "plt.plot(time, path['test'], label='test') \n",
    "plt.legend()\n",
    "plt.xlabel('time')\n",
    "plt.ylabel('error (%)')\n",
    "plt.show()"
   ]
  },
  {
   "cell_type": "code",
   "execution_count": null,
   "metadata": {},
   "outputs": [],
   "source": [
    "path_l = {'test': [], 'train': []}\n",
    "for t in tqdm(time):\n",
    "    point = finder.find_point(t=t, method='lin_connect')\n",
    "    path_l['test'].append(100-point['test']) \n",
    "    path_l['train'].append(100-point['train']) "
   ]
  },
  {
   "cell_type": "code",
   "execution_count": null,
   "metadata": {},
   "outputs": [],
   "source": [
    "plt.plot(time, path_l['train'], label='train')\n",
    "plt.plot(time, path_l['test'], label='test') \n",
    "plt.legend()\n",
    "plt.xlabel('time')\n",
    "plt.ylabel('error (%)')\n",
    "plt.show()"
   ]
  },
  {
   "cell_type": "markdown",
   "metadata": {},
   "source": [
    "# Count statistic in the fixed point"
   ]
  },
  {
   "cell_type": "code",
   "execution_count": 23,
   "metadata": {},
   "outputs": [],
   "source": [
    "def get_stat(pointfinder, t=.5, method='arc_connect'):\n",
    "    stat = {'test': [], 'train': []}\n",
    "    for i in tqdm(range(3, 11)):\n",
    "        model1.load_state_dict(torch.load('curves/'+model_name+'/curve'+str(i)+'/checkpoint-400.pt')['model_state'])\n",
    "        model2.load_state_dict(torch.load('curves/'+model_name+'/curve'+str(i+1)+'/checkpoint-400.pt')['model_state'])\n",
    "        finder = pointfinder(model1, model2) \n",
    "        point = finder.find_point(t=t, method=method)\n",
    "        stat['test'].append(point['test']) \n",
    "        stat['train'].append(point['train']) \n",
    "    return stat"
   ]
  },
  {
   "cell_type": "code",
   "execution_count": 24,
   "metadata": {},
   "outputs": [],
   "source": [
    "def get_mean_svd(stat):\n",
    "    train = np.array(stat['train'])\n",
    "    test = np.array(stat['test'])\n",
    "    return train.mean(), train.std(), test.mean(), test.std()"
   ]
  },
  {
   "cell_type": "code",
   "execution_count": 25,
   "metadata": {},
   "outputs": [
    {
     "name": "stderr",
     "output_type": "stream",
     "text": [
      " 12%|█▎        | 1/8 [00:26<03:06, 26.62s/it]"
     ]
    },
    {
     "name": "stdout",
     "output_type": "stream",
     "text": [
      "0.5 {'train': 60.096000000000004, 'test': 53.190000000000005}\n"
     ]
    },
    {
     "name": "stderr",
     "output_type": "stream",
     "text": [
      "\r",
      " 25%|██▌       | 2/8 [00:53<02:39, 26.63s/it]"
     ]
    },
    {
     "name": "stdout",
     "output_type": "stream",
     "text": [
      "0.5 {'train': 60.694, 'test': 54.50000000000001}\n"
     ]
    },
    {
     "name": "stderr",
     "output_type": "stream",
     "text": [
      "\r",
      " 38%|███▊      | 3/8 [01:37<02:39, 31.93s/it]"
     ]
    },
    {
     "name": "stdout",
     "output_type": "stream",
     "text": [
      "0.5 {'train': 60.46, 'test': 53.33}\n"
     ]
    },
    {
     "name": "stderr",
     "output_type": "stream",
     "text": [
      "\r",
      " 50%|█████     | 4/8 [02:34<02:37, 39.47s/it]"
     ]
    },
    {
     "name": "stdout",
     "output_type": "stream",
     "text": [
      "0.5 {'train': 60.116, 'test': 53.2}\n"
     ]
    },
    {
     "name": "stderr",
     "output_type": "stream",
     "text": [
      "\r",
      " 62%|██████▎   | 5/8 [03:20<02:04, 41.54s/it]"
     ]
    },
    {
     "name": "stdout",
     "output_type": "stream",
     "text": [
      "0.5 {'train': 60.492000000000004, 'test': 53.65}\n"
     ]
    },
    {
     "name": "stderr",
     "output_type": "stream",
     "text": [
      "\r",
      " 75%|███████▌  | 6/8 [04:17<01:32, 46.16s/it]"
     ]
    },
    {
     "name": "stdout",
     "output_type": "stream",
     "text": [
      "0.5 {'train': 59.95, 'test': 52.64}\n"
     ]
    },
    {
     "name": "stderr",
     "output_type": "stream",
     "text": [
      "\r",
      " 88%|████████▊ | 7/8 [05:19<00:50, 50.78s/it]"
     ]
    },
    {
     "name": "stdout",
     "output_type": "stream",
     "text": [
      "0.5 {'train': 59.964, 'test': 53.349999999999994}\n"
     ]
    },
    {
     "name": "stderr",
     "output_type": "stream",
     "text": [
      "\r",
      "100%|██████████| 8/8 [06:08<00:00, 50.26s/it]"
     ]
    },
    {
     "name": "stdout",
     "output_type": "stream",
     "text": [
      "0.5 {'train': 60.106, 'test': 53.620000000000005}\n"
     ]
    },
    {
     "name": "stderr",
     "output_type": "stream",
     "text": [
      "\n"
     ]
    }
   ],
   "source": [
    "linpseudo = get_stat(PointFinderInverse2, t=.5, method='lin_connect')"
   ]
  },
  {
   "cell_type": "code",
   "execution_count": 26,
   "metadata": {},
   "outputs": [
    {
     "data": {
      "text/plain": [
       "{'test': [53.190000000000005,\n",
       "  54.50000000000001,\n",
       "  53.33,\n",
       "  53.2,\n",
       "  53.65,\n",
       "  52.64,\n",
       "  53.349999999999994,\n",
       "  53.620000000000005],\n",
       " 'train': [60.096000000000004,\n",
       "  60.694,\n",
       "  60.46,\n",
       "  60.116,\n",
       "  60.492000000000004,\n",
       "  59.95,\n",
       "  59.964,\n",
       "  60.106]}"
      ]
     },
     "execution_count": 26,
     "metadata": {},
     "output_type": "execute_result"
    }
   ],
   "source": [
    "linpseudo"
   ]
  },
  {
   "cell_type": "code",
   "execution_count": 27,
   "metadata": {},
   "outputs": [
    {
     "data": {
      "text/plain": [
       "(60.23475, 0.25791071614029604, 53.435, 0.49751884386423156)"
      ]
     },
     "execution_count": 27,
     "metadata": {},
     "output_type": "execute_result"
    }
   ],
   "source": [
    "get_mean_svd(linpseudo)"
   ]
  },
  {
   "cell_type": "code",
   "execution_count": 28,
   "metadata": {},
   "outputs": [
    {
     "name": "stderr",
     "output_type": "stream",
     "text": [
      " 12%|█▎        | 1/8 [00:55<06:27, 55.31s/it]"
     ]
    },
    {
     "name": "stdout",
     "output_type": "stream",
     "text": [
      "0.5 {'train': 62.316, 'test': 55.31}\n"
     ]
    },
    {
     "name": "stderr",
     "output_type": "stream",
     "text": [
      "\r",
      " 25%|██▌       | 2/8 [01:55<05:40, 56.67s/it]"
     ]
    },
    {
     "name": "stdout",
     "output_type": "stream",
     "text": [
      "0.5 {'train': 63.104000000000006, 'test': 56.56}\n"
     ]
    },
    {
     "name": "stderr",
     "output_type": "stream",
     "text": [
      "\r",
      " 38%|███▊      | 3/8 [02:56<04:49, 57.94s/it]"
     ]
    },
    {
     "name": "stdout",
     "output_type": "stream",
     "text": [
      "0.5 {'train': 63.052, 'test': 55.57}\n"
     ]
    },
    {
     "name": "stderr",
     "output_type": "stream",
     "text": [
      "\r",
      " 50%|█████     | 4/8 [04:22<04:25, 66.38s/it]"
     ]
    },
    {
     "name": "stdout",
     "output_type": "stream",
     "text": [
      "0.5 {'train': 62.562, 'test': 55.04}\n"
     ]
    },
    {
     "name": "stderr",
     "output_type": "stream",
     "text": [
      "\r",
      " 62%|██████▎   | 5/8 [05:57<03:45, 75.01s/it]"
     ]
    },
    {
     "name": "stdout",
     "output_type": "stream",
     "text": [
      "0.5 {'train': 62.842, 'test': 55.76}\n"
     ]
    },
    {
     "name": "stderr",
     "output_type": "stream",
     "text": [
      "\r",
      " 75%|███████▌  | 6/8 [07:27<02:39, 79.58s/it]"
     ]
    },
    {
     "name": "stdout",
     "output_type": "stream",
     "text": [
      "0.5 {'train': 62.624, 'test': 55.53}\n"
     ]
    },
    {
     "name": "stderr",
     "output_type": "stream",
     "text": [
      "\r",
      " 88%|████████▊ | 7/8 [09:04<01:24, 84.80s/it]"
     ]
    },
    {
     "name": "stdout",
     "output_type": "stream",
     "text": [
      "0.5 {'train': 62.588, 'test': 55.589999999999996}\n"
     ]
    },
    {
     "name": "stderr",
     "output_type": "stream",
     "text": [
      "\r",
      "100%|██████████| 8/8 [10:27<00:00, 84.25s/it]"
     ]
    },
    {
     "name": "stdout",
     "output_type": "stream",
     "text": [
      "0.5 {'train': 62.666, 'test': 55.52}\n"
     ]
    },
    {
     "name": "stderr",
     "output_type": "stream",
     "text": [
      "\n"
     ]
    }
   ],
   "source": [
    "arcpseudo = get_stat(PointFinderInverse2, t=.5, method='arc_connect')"
   ]
  },
  {
   "cell_type": "code",
   "execution_count": 29,
   "metadata": {},
   "outputs": [
    {
     "data": {
      "text/plain": [
       "{'test': [55.31, 56.56, 55.57, 55.04, 55.76, 55.53, 55.589999999999996, 55.52],\n",
       " 'train': [62.316,\n",
       "  63.104000000000006,\n",
       "  63.052,\n",
       "  62.562,\n",
       "  62.842,\n",
       "  62.624,\n",
       "  62.588,\n",
       "  62.666]}"
      ]
     },
     "execution_count": 29,
     "metadata": {},
     "output_type": "execute_result"
    }
   ],
   "source": [
    "arcpseudo"
   ]
  },
  {
   "cell_type": "code",
   "execution_count": 30,
   "metadata": {},
   "outputs": [
    {
     "data": {
      "text/plain": [
       "(62.71925, 0.24756198718704844, 55.61, 0.41176449579826613)"
      ]
     },
     "execution_count": 30,
     "metadata": {},
     "output_type": "execute_result"
    }
   ],
   "source": [
    "get_mean_svd(arcpseudo)"
   ]
  },
  {
   "cell_type": "code",
   "execution_count": null,
   "metadata": {},
   "outputs": [],
   "source": []
  }
 ],
 "metadata": {
  "kernelspec": {
   "display_name": "Python 3",
   "language": "python",
   "name": "python3"
  },
  "language_info": {
   "codemirror_mode": {
    "name": "ipython",
    "version": 3
   },
   "file_extension": ".py",
   "mimetype": "text/x-python",
   "name": "python",
   "nbconvert_exporter": "python",
   "pygments_lexer": "ipython3",
   "version": "3.6.7"
  }
 },
 "nbformat": 4,
 "nbformat_minor": 2
}
