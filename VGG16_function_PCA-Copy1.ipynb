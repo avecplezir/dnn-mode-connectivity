{
 "cells": [
  {
   "cell_type": "code",
   "execution_count": 1,
   "metadata": {},
   "outputs": [],
   "source": [
    "import sys\n",
    "sys.path.append('/home/ivan/distribution_connector')\n",
    "import os\n",
    "\n",
    "from sklearn.decomposition import TruncatedSVD\n",
    "\n",
    "import torch.nn.functional as F"
   ]
  },
  {
   "cell_type": "code",
   "execution_count": 2,
   "metadata": {},
   "outputs": [],
   "source": [
    "from sklearn import datasets\n",
    "import numpy as np\n",
    "import torch\n",
    "from tqdm import tqdm\n",
    "from connector_utils import test_models, gather_statistics, test_func\n",
    "import matplotlib.pyplot as plt"
   ]
  },
  {
   "cell_type": "code",
   "execution_count": 3,
   "metadata": {},
   "outputs": [],
   "source": [
    "import torch as th\n",
    "\n",
    "th.cuda.set_device(1)"
   ]
  },
  {
   "cell_type": "code",
   "execution_count": 4,
   "metadata": {},
   "outputs": [],
   "source": [
    "from connector import Connector\n",
    "# from one_layer_utils import samples, make_dataset, get_model, get_b\n",
    "from utils import test_model\n",
    "from utils import test as t"
   ]
  },
  {
   "cell_type": "code",
   "execution_count": 5,
   "metadata": {},
   "outputs": [
    {
     "name": "stdout",
     "output_type": "stream",
     "text": [
      "Files already downloaded and verified\n",
      "You are going to run models on the test set. Are you sure?\n",
      "Files already downloaded and verified\n"
     ]
    },
    {
     "data": {
      "text/plain": [
       "IncompatibleKeys(missing_keys=[], unexpected_keys=[])"
      ]
     },
     "execution_count": 5,
     "metadata": {},
     "output_type": "execute_result"
    }
   ],
   "source": [
    "model_name = 'Linear3NoBias' # VGG16\n",
    "\n",
    "import models\n",
    "architecture = getattr(models, model_name) #LinearOneLayer LogRegression\n",
    "\n",
    "import data\n",
    "loaders, num_classes = data.loaders(\n",
    "    \"CIFAR10\",\n",
    "    \"data\",\n",
    "    128,\n",
    "    1,\n",
    "    \"VGG\",\n",
    "    True,\n",
    "    shuffle_train=False)\n",
    "\n",
    "model1 = architecture.base(num_classes=10, **architecture.kwargs)\n",
    "model2 = architecture.base(num_classes=10, **architecture.kwargs)\n",
    "\n",
    "model1.load_state_dict(torch.load('curves/'+model_name+'/curve3/checkpoint-400.pt')['model_state'])\n",
    "model2.load_state_dict(torch.load('curves/'+model_name+'/curve4/checkpoint-400.pt')['model_state'])\n"
   ]
  },
  {
   "cell_type": "code",
   "execution_count": 6,
   "metadata": {},
   "outputs": [
    {
     "name": "stdout",
     "output_type": "stream",
     "text": [
      "train results {'nll': 0.024497770045995713, 'loss': 0.024497770045995713, 'accuracy': 99.648}\n",
      "test results {'nll': 2.03078635635376, 'loss': 2.03078635635376, 'accuracy': 62.54}\n"
     ]
    }
   ],
   "source": [
    "model1.cuda();\n",
    "model1.eval();\n",
    "_, test = test_model(model1, loaders, cuda=True)"
   ]
  },
  {
   "cell_type": "code",
   "execution_count": 7,
   "metadata": {},
   "outputs": [
    {
     "data": {
      "text/plain": [
       "62.54"
      ]
     },
     "execution_count": 7,
     "metadata": {},
     "output_type": "execute_result"
    }
   ],
   "source": [
    "test['accuracy']"
   ]
  },
  {
   "cell_type": "code",
   "execution_count": 8,
   "metadata": {},
   "outputs": [
    {
     "name": "stdout",
     "output_type": "stream",
     "text": [
      "train results {'nll': 0.02480492816954851, 'loss': 0.02480492816954851, 'accuracy': 99.608}\n",
      "test results {'nll': 2.0166158367156983, 'loss': 2.0166158367156983, 'accuracy': 63.44}\n"
     ]
    },
    {
     "data": {
      "text/plain": [
       "({'nll': 0.02480492816954851, 'loss': 0.02480492816954851, 'accuracy': 99.608},\n",
       " {'nll': 2.0166158367156983, 'loss': 2.0166158367156983, 'accuracy': 63.44})"
      ]
     },
     "execution_count": 8,
     "metadata": {},
     "output_type": "execute_result"
    }
   ],
   "source": [
    "model2.cuda();\n",
    "model2.eval();\n",
    "test_model(model2, loaders, cuda=True)"
   ]
  },
  {
   "cell_type": "code",
   "execution_count": 9,
   "metadata": {},
   "outputs": [],
   "source": [
    "targ = []\n",
    "for X, y in loaders['test']:\n",
    "    targ.append(y)\n",
    "targ = np.concatenate(targ)"
   ]
  },
  {
   "cell_type": "code",
   "execution_count": 10,
   "metadata": {},
   "outputs": [],
   "source": [
    "def get_pred(model):\n",
    "    model.cuda()\n",
    "    model.eval()\n",
    "    pred = []\n",
    "    for X, y in loaders['test']: \n",
    "        pred.append(model(X.cuda()).cpu().data.numpy())\n",
    "    \n",
    "    pred = np.concatenate(pred)\n",
    "    return pred"
   ]
  },
  {
   "cell_type": "code",
   "execution_count": 11,
   "metadata": {},
   "outputs": [],
   "source": [
    "def get_funcs(model1, data='test', layer=0):\n",
    "    model1.cuda()\n",
    "    model1.eval()\n",
    "    functions = []\n",
    "    for X, y in loaders[data]:\n",
    "        functions.append(model1(X.cuda(), N=layer).cpu().data.numpy())\n",
    "\n",
    "    funcs = np.concatenate(functions)\n",
    "    \n",
    "    return funcs\n",
    "\n",
    "def get_alpha(funcs, V):\n",
    "    alpha = funcs.T @ V.T\n",
    "    return alpha\n",
    "\n",
    "def get_betas(funcs, V):\n",
    "    f_inv = np.linalg.pinv(funcs.T)\n",
    "    betas = V @ f_inv\n",
    "    return betas\n",
    "\n",
    "def accuracy(pred, verbose=False):\n",
    "    ens_acc = 100.0 * np.mean(np.argmax(pred, axis=1) == targ)\n",
    "    if verbose:\n",
    "        print(ens_acc)\n",
    "    return ens_acc"
   ]
  },
  {
   "cell_type": "code",
   "execution_count": 12,
   "metadata": {},
   "outputs": [],
   "source": [
    "model1.load_state_dict(torch.load('curves/'+model_name+'/curve3/checkpoint-400.pt')['model_state'])\n",
    "fbase = get_funcs(model1, layer=1)"
   ]
  },
  {
   "cell_type": "code",
   "execution_count": 13,
   "metadata": {},
   "outputs": [
    {
     "data": {
      "text/plain": [
       "(10000, 2000)"
      ]
     },
     "execution_count": 13,
     "metadata": {},
     "output_type": "execute_result"
    }
   ],
   "source": [
    "fbase.shape"
   ]
  },
  {
   "cell_type": "code",
   "execution_count": 14,
   "metadata": {},
   "outputs": [],
   "source": [
    "U_init, Sigma_init, V_init = np.linalg.svd(fbase.T)"
   ]
  },
  {
   "cell_type": "code",
   "execution_count": 15,
   "metadata": {},
   "outputs": [
    {
     "data": {
      "text/plain": [
       "((2000, 2000), (2000,), (10000, 10000))"
      ]
     },
     "execution_count": 15,
     "metadata": {},
     "output_type": "execute_result"
    }
   ],
   "source": [
    "U_init.shape, Sigma_init.shape, V_init.shape"
   ]
  },
  {
   "cell_type": "code",
   "execution_count": 16,
   "metadata": {},
   "outputs": [],
   "source": [
    "comp = 2000\n",
    "U, Sigma, V = U_init[:, :comp], Sigma_init[:comp], V_init[:comp]"
   ]
  },
  {
   "cell_type": "code",
   "execution_count": 17,
   "metadata": {},
   "outputs": [
    {
     "data": {
      "text/plain": [
       "((2000, 2000), (2000,), (2000, 10000))"
      ]
     },
     "execution_count": 17,
     "metadata": {},
     "output_type": "execute_result"
    }
   ],
   "source": [
    "U.shape, Sigma.shape, V.shape "
   ]
  },
  {
   "cell_type": "code",
   "execution_count": 18,
   "metadata": {},
   "outputs": [],
   "source": [
    "V = np.eye(10000)"
   ]
  },
  {
   "cell_type": "code",
   "execution_count": 19,
   "metadata": {},
   "outputs": [],
   "source": [
    "layer = 1\n",
    "m = architecture.base(num_classes=10, **architecture.kwargs)\n",
    "funcs = []\n",
    "alphas = []\n",
    "Ws = []\n",
    "bs = []\n",
    "true_accuracy = []\n",
    "cum_pred = 0\n",
    "assemple_accuracy = []\n",
    "beg = 3\n",
    "\n",
    "for i in range(beg, 11):\n",
    "    m.load_state_dict(torch.load('curves/'+model_name+'/curve'+str(i)+'/checkpoint-400.pt')['model_state'])\n",
    "    m.cuda()\n",
    "    pred = get_pred(m)\n",
    "    cum_pred += pred\n",
    "#     test = t(loaders['test'], m, F.cross_entropy, regularizer=None, cuda=True)\n",
    "    true_accuracy.append(accuracy(pred))\n",
    "    assemple_accuracy.append(accuracy(cum_pred))\n",
    "    f = get_funcs(m, layer=layer)\n",
    "    funcs.append(f)\n",
    "    alpha = get_alpha(f, V)\n",
    "    alphas.append(alpha)\n",
    "    if 'VGG' in model_name:\n",
    "        W = list(m.parameters())[-2].data.cpu().numpy()\n",
    "        b = list(m.parameters())[-1].data.cpu().numpy()\n",
    "    else:\n",
    "        W = list(m.parameters())[-1].data.cpu().numpy()\n",
    "        b = 0\n",
    "    Ws.append(W)\n",
    "    bs.append(b)\n",
    "    \n",
    "    "
   ]
  },
  {
   "cell_type": "code",
   "execution_count": 20,
   "metadata": {},
   "outputs": [
    {
     "data": {
      "text/plain": [
       "((2000, 10000), (10, 2000))"
      ]
     },
     "execution_count": 20,
     "metadata": {},
     "output_type": "execute_result"
    }
   ],
   "source": [
    "alphas[0].shape, Ws[0].shape, #bs[0].shape"
   ]
  },
  {
   "cell_type": "code",
   "execution_count": 21,
   "metadata": {},
   "outputs": [],
   "source": [
    "betas = get_betas(funcs[0], V)\n",
    "# betas = (U/Sigma).T"
   ]
  },
  {
   "cell_type": "code",
   "execution_count": 22,
   "metadata": {},
   "outputs": [
    {
     "data": {
      "text/plain": [
       "(10000, 2000)"
      ]
     },
     "execution_count": 22,
     "metadata": {},
     "output_type": "execute_result"
    }
   ],
   "source": [
    "betas.shape"
   ]
  },
  {
   "cell_type": "code",
   "execution_count": 23,
   "metadata": {},
   "outputs": [],
   "source": [
    "single_VGG = []\n",
    "for i in range(len(alphas)):\n",
    "    pred = fbase @ betas.T @ alphas[i].T @ Ws[i].T + bs[i]\n",
    "    single_VGG.append(accuracy(pred, verbose=False))"
   ]
  },
  {
   "cell_type": "code",
   "execution_count": 24,
   "metadata": {},
   "outputs": [],
   "source": [
    "Assembled_VGG = []\n",
    "# beg = 3\n",
    "\n",
    "for l in range(1, 11-beg+1):\n",
    "\n",
    "    Assemble_W_basis = 0\n",
    "    Assemble_bias = np.array(bs[:l]).mean(0)\n",
    "\n",
    "    for i in range(l):\n",
    "        Assemble_W_basis += alphas[i].T @ Ws[i].T\n",
    "\n",
    "    Assemble_W_basis /= l\n",
    "\n",
    "    pred = fbase @ betas.T @ Assemble_W_basis + Assemble_bias\n",
    "    Assembled_VGG.append(accuracy(pred, verbose=False))\n",
    "\n"
   ]
  },
  {
   "cell_type": "code",
   "execution_count": 25,
   "metadata": {},
   "outputs": [],
   "source": [
    "import matplotlib.pyplot as plt"
   ]
  },
  {
   "cell_type": "code",
   "execution_count": 26,
   "metadata": {},
   "outputs": [
    {
     "data": {
      "text/plain": [
       "[62.53999999999999,\n",
       " 63.72,\n",
       " 64.36,\n",
       " 64.4,\n",
       " 64.63,\n",
       " 64.57000000000001,\n",
       " 64.75999999999999,\n",
       " 64.73]"
      ]
     },
     "execution_count": 26,
     "metadata": {},
     "output_type": "execute_result"
    }
   ],
   "source": [
    "Assembled_VGG"
   ]
  },
  {
   "cell_type": "code",
   "execution_count": 27,
   "metadata": {},
   "outputs": [
    {
     "data": {
      "text/plain": [
       "[62.53999999999999, 65.29, 66.06, 66.69, 66.7, 66.88, 67.04, 67.25999999999999]"
      ]
     },
     "execution_count": 27,
     "metadata": {},
     "output_type": "execute_result"
    }
   ],
   "source": [
    "assemple_accuracy"
   ]
  },
  {
   "cell_type": "code",
   "execution_count": 28,
   "metadata": {},
   "outputs": [
    {
     "data": {
      "image/png": "[encoded data removed]",
      "text/plain": [
       "<Figure size 864x576 with 1 Axes>"
      ]
     },
     "metadata": {
      "needs_background": "light"
     },
     "output_type": "display_data"
    }
   ],
   "source": [
    "from pylab import rcParams\n",
    "rcParams['figure.figsize'] = 12, 8\n",
    "\n",
    "plt.plot(Assembled_VGG, label='Assemble', c='b')\n",
    "plt.plot(assemple_accuracy, label='genuine Assemble', c='g') \n",
    "plt.plot(single_VGG, 'bo', c='b', label='single model performance')\n",
    "plt.plot(true_accuracy, 'bo', c='g', label='genuine single model performance')\n",
    "plt.legend()\n",
    "plt.xlabel('N models in assemble')\n",
    "plt.ylabel('accuracy')\n",
    "plt.title(model_name+ ' - 400 epochs')\n",
    "plt.show()\n"
   ]
  },
  {
   "cell_type": "code",
   "execution_count": 267,
   "metadata": {},
   "outputs": [
    {
     "data": {
      "image/png": "[encoded data removed]",
      "text/plain": [
       "<Figure size 864x576 with 1 Axes>"
      ]
     },
     "metadata": {
      "needs_background": "light"
     },
     "output_type": "display_data"
    }
   ],
   "source": [
    "from pylab import rcParams\n",
    "rcParams['figure.figsize'] = 12, 8\n",
    "\n",
    "plt.plot(Assembled_VGG, label='Assemble')\n",
    "plt.plot(assemple_accuracy, label='genuine Assemble') \n",
    "plt.plot(single_VGG, 'bo', c='b', label='single model performance')\n",
    "plt.plot(true_accuracy, 'bo', c='g', label='genuine single model performance')\n",
    "plt.legend()\n",
    "plt.xlabel('N models in assemble')\n",
    "plt.ylabel('accuracy')\n",
    "plt.title('VGG16 - 400 epochs')\n",
    "plt.show()\n"
   ]
  },
  {
   "cell_type": "code",
   "execution_count": 132,
   "metadata": {},
   "outputs": [
    {
     "data": {
      "text/plain": [
       "((512, 10), (10,), (10,))"
      ]
     },
     "execution_count": 132,
     "metadata": {},
     "output_type": "execute_result"
    }
   ],
   "source": [
    "Assemble_W_basis.shape, Assemble_bias.shape, bs[0].shape"
   ]
  },
  {
   "cell_type": "code",
   "execution_count": 133,
   "metadata": {},
   "outputs": [],
   "source": [
    "# Assemble_W_basis = (alphas[0].T @ Ws[0].T+alphas[2].T @ Ws[2].T)/2 "
   ]
  },
  {
   "cell_type": "code",
   "execution_count": 134,
   "metadata": {},
   "outputs": [
    {
     "name": "stdout",
     "output_type": "stream",
     "text": [
      "92.04\n"
     ]
    }
   ],
   "source": [
    "pred = fbase @ betas.T @ Assemble_W_basis + Assemble_bias\n",
    "accuracy(pred)"
   ]
  },
  {
   "cell_type": "code",
   "execution_count": null,
   "metadata": {},
   "outputs": [],
   "source": []
  }
 ],
 "metadata": {
  "kernelspec": {
   "display_name": "Python 3",
   "language": "python",
   "name": "python3"
  },
  "language_info": {
   "codemirror_mode": {
    "name": "ipython",
    "version": 3
   },
   "file_extension": ".py",
   "mimetype": "text/x-python",
   "name": "python",
   "nbconvert_exporter": "python",
   "pygments_lexer": "ipython3",
   "version": "3.6.7"
  }
 },
 "nbformat": 4,
 "nbformat_minor": 2
}
