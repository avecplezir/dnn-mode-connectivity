{
 "cells": [
  {
   "cell_type": "code",
   "execution_count": 1,
   "metadata": {},
   "outputs": [],
   "source": [
    "import argparse\n",
    "import os\n",
    "import sys\n",
    "import tabulate\n",
    "import time\n",
    "import torch\n",
    "import torch.nn.functional as F\n",
    "\n",
    "import curves\n",
    "import data\n",
    "import models\n",
    "import utils\n",
    "import pickle\n",
    "\n",
    "import copy\n",
    "import torchvision"
   ]
  },
  {
   "cell_type": "code",
   "execution_count": 2,
   "metadata": {},
   "outputs": [],
   "source": [
    "architecture = getattr(models, \"VGG16\")"
   ]
  },
  {
   "cell_type": "code",
   "execution_count": 3,
   "metadata": {},
   "outputs": [
    {
     "data": {
      "text/plain": [
       "models.vgg.VGG16"
      ]
     },
     "execution_count": 3,
     "metadata": {},
     "output_type": "execute_result"
    }
   ],
   "source": [
    "architecture"
   ]
  },
  {
   "cell_type": "code",
   "execution_count": 4,
   "metadata": {},
   "outputs": [],
   "source": [
    "model = architecture.base(num_classes=10, **architecture.kwargs)"
   ]
  },
  {
   "cell_type": "code",
   "execution_count": 9,
   "metadata": {},
   "outputs": [
    {
     "name": "stdout",
     "output_type": "stream",
     "text": [
      "Files already downloaded and verified\n",
      "Using train (45000) + validation (5000)\n",
      "Files already downloaded and verified\n"
     ]
    }
   ],
   "source": [
    "loaders, num_classes = data.loaders(\n",
    "    \"CIFAR10\",\n",
    "    \"data\",\n",
    "    128,\n",
    "    1,\n",
    "    \"VGG\",\n",
    "    False\n",
    ")"
   ]
  },
  {
   "cell_type": "code",
   "execution_count": 10,
   "metadata": {},
   "outputs": [],
   "source": [
    "for X, y in loaders['test']:\n",
    "    break"
   ]
  },
  {
   "cell_type": "code",
   "execution_count": 11,
   "metadata": {},
   "outputs": [],
   "source": [
    "# from matplotlib import pyplot as plt\n",
    "# %matplotlib inline\n",
    "\n",
    "# def show_images(x, scale=15, line_width=10):\n",
    "#     plt.figure(figsize=(scale, scale / line_width * (x.shape[0] // line_width + 1)))\n",
    "#     x = x.view(-1, 1, 28, 28)\n",
    "#     mtx = torchvision.utils.make_grid(x, nrow=line_width, pad_value=1)\n",
    "#     plt.imshow(mtx.permute([1, 2, 0]).numpy(), cmap='Greys_r', vmin=0, vmax=1, interpolation='lanczos')\n",
    "#     plt.axis('off')\n",
    "\n",
    "# show_images(X[:10])"
   ]
  },
  {
   "cell_type": "code",
   "execution_count": 12,
   "metadata": {},
   "outputs": [],
   "source": [
    "y_pred = torch.argmax(model(X), dim=-1)"
   ]
  },
  {
   "cell_type": "code",
   "execution_count": 13,
   "metadata": {},
   "outputs": [
    {
     "data": {
      "text/plain": [
       "tensor([ 7,  1,  4,  1,  0,  2,  2,  5,  9,  6,  0,  1,  3,  1,\n",
       "         1,  2,  1,  8,  5,  6,  9,  2,  4,  2,  8,  8,  3,  7,\n",
       "         1,  7,  1,  7,  5,  9,  7,  0,  7,  8,  3,  6,  1,  2,\n",
       "         2,  5,  9,  8,  4,  8,  9,  4,  2,  5,  9,  3,  7,  9,\n",
       "         9,  3,  7,  9,  2,  7,  8,  9,  0,  7,  3,  0,  1,  7,\n",
       "         1,  4,  6,  8,  2,  3,  4,  1,  6,  2,  6,  0,  3,  5,\n",
       "         1,  0,  9,  7,  0,  0,  9,  3,  4,  9,  8,  8,  0,  1,\n",
       "         6,  1,  4,  9,  0,  7,  8,  1,  0,  9,  5,  2,  4,  4,\n",
       "         7,  0,  4,  8,  9,  3,  1,  2,  2,  4,  4,  0,  4,  5,\n",
       "         1,  7])"
      ]
     },
     "execution_count": 13,
     "metadata": {},
     "output_type": "execute_result"
    }
   ],
   "source": [
    "y"
   ]
  },
  {
   "cell_type": "code",
   "execution_count": 14,
   "metadata": {},
   "outputs": [
    {
     "data": {
      "text/plain": [
       "tensor([ 8,  1,  8,  8,  1,  8,  1,  8,  8,  1,  8,  1,  8,  8,\n",
       "         8,  1,  8,  1,  8,  1,  8,  8,  1,  1,  9,  8,  9,  8,\n",
       "         1,  1,  1,  8,  1,  8,  9,  1,  1,  8,  1,  8,  1,  1,\n",
       "         1,  1,  1,  8,  8,  8,  8,  1,  8,  1,  1,  1,  1,  8,\n",
       "         8,  8,  1,  8,  8,  1,  8,  8,  1,  1,  9,  1,  1,  8,\n",
       "         8,  1,  8,  1,  8,  1,  8,  8,  8,  8,  8,  8,  1,  8,\n",
       "         8,  8,  8,  8,  8,  8,  8,  8,  1,  1,  8,  1,  8,  8,\n",
       "         8,  8,  1,  1,  8,  8,  1,  8,  1,  8,  1,  1,  1,  8,\n",
       "         8,  8,  1,  8,  8,  8,  8,  8,  1,  1,  8,  8,  8,  8,\n",
       "         1,  8])"
      ]
     },
     "execution_count": 14,
     "metadata": {},
     "output_type": "execute_result"
    }
   ],
   "source": [
    "y_pred"
   ]
  },
  {
   "cell_type": "code",
   "execution_count": 15,
   "metadata": {},
   "outputs": [
    {
     "data": {
      "text/plain": [
       "VGGBase(\n",
       "  (layer_blocks): ModuleList(\n",
       "    (0): ModuleList(\n",
       "      (0): Conv2d(3, 64, kernel_size=(3, 3), stride=(1, 1), padding=(1, 1))\n",
       "      (1): Conv2d(64, 64, kernel_size=(3, 3), stride=(1, 1), padding=(1, 1))\n",
       "    )\n",
       "    (1): ModuleList(\n",
       "      (0): Conv2d(64, 128, kernel_size=(3, 3), stride=(1, 1), padding=(1, 1))\n",
       "      (1): Conv2d(128, 128, kernel_size=(3, 3), stride=(1, 1), padding=(1, 1))\n",
       "    )\n",
       "    (2): ModuleList(\n",
       "      (0): Conv2d(128, 256, kernel_size=(3, 3), stride=(1, 1), padding=(1, 1))\n",
       "      (1): Conv2d(256, 256, kernel_size=(3, 3), stride=(1, 1), padding=(1, 1))\n",
       "      (2): Conv2d(256, 256, kernel_size=(3, 3), stride=(1, 1), padding=(1, 1))\n",
       "    )\n",
       "    (3): ModuleList(\n",
       "      (0): Conv2d(256, 512, kernel_size=(3, 3), stride=(1, 1), padding=(1, 1))\n",
       "      (1): Conv2d(512, 512, kernel_size=(3, 3), stride=(1, 1), padding=(1, 1))\n",
       "      (2): Conv2d(512, 512, kernel_size=(3, 3), stride=(1, 1), padding=(1, 1))\n",
       "    )\n",
       "    (4): ModuleList(\n",
       "      (0): Conv2d(512, 512, kernel_size=(3, 3), stride=(1, 1), padding=(1, 1))\n",
       "      (1): Conv2d(512, 512, kernel_size=(3, 3), stride=(1, 1), padding=(1, 1))\n",
       "      (2): Conv2d(512, 512, kernel_size=(3, 3), stride=(1, 1), padding=(1, 1))\n",
       "    )\n",
       "  )\n",
       "  (activation_blocks): ModuleList(\n",
       "    (0): ModuleList(\n",
       "      (0): ReLU(inplace)\n",
       "      (1): ReLU(inplace)\n",
       "    )\n",
       "    (1): ModuleList(\n",
       "      (0): ReLU(inplace)\n",
       "      (1): ReLU(inplace)\n",
       "    )\n",
       "    (2): ModuleList(\n",
       "      (0): ReLU(inplace)\n",
       "      (1): ReLU(inplace)\n",
       "      (2): ReLU(inplace)\n",
       "    )\n",
       "    (3): ModuleList(\n",
       "      (0): ReLU(inplace)\n",
       "      (1): ReLU(inplace)\n",
       "      (2): ReLU(inplace)\n",
       "    )\n",
       "    (4): ModuleList(\n",
       "      (0): ReLU(inplace)\n",
       "      (1): ReLU(inplace)\n",
       "      (2): ReLU(inplace)\n",
       "    )\n",
       "  )\n",
       "  (poolings): ModuleList(\n",
       "    (0): MaxPool2d(kernel_size=2, stride=2, padding=0, dilation=1, ceil_mode=False)\n",
       "    (1): MaxPool2d(kernel_size=2, stride=2, padding=0, dilation=1, ceil_mode=False)\n",
       "    (2): MaxPool2d(kernel_size=2, stride=2, padding=0, dilation=1, ceil_mode=False)\n",
       "    (3): MaxPool2d(kernel_size=2, stride=2, padding=0, dilation=1, ceil_mode=False)\n",
       "    (4): MaxPool2d(kernel_size=2, stride=2, padding=0, dilation=1, ceil_mode=False)\n",
       "  )\n",
       "  (classifier): Sequential(\n",
       "    (0): Dropout(p=0.5)\n",
       "    (1): Linear(in_features=512, out_features=512, bias=True)\n",
       "    (2): ReLU(inplace)\n",
       "    (3): Dropout(p=0.5)\n",
       "    (4): Linear(in_features=512, out_features=512, bias=True)\n",
       "    (5): ReLU(inplace)\n",
       "    (6): Linear(in_features=512, out_features=10, bias=True)\n",
       "  )\n",
       ")"
      ]
     },
     "execution_count": 15,
     "metadata": {},
     "output_type": "execute_result"
    }
   ],
   "source": [
    "model"
   ]
  },
  {
   "cell_type": "markdown",
   "metadata": {},
   "source": [
    "## Rescale"
   ]
  },
  {
   "cell_type": "code",
   "execution_count": 115,
   "metadata": {},
   "outputs": [],
   "source": [
    "model = architecture.base(num_classes=10, **architecture.kwargs)\n",
    "model_base = architecture.base(num_classes=10, **architecture.kwargs)\n",
    "\n",
    "# model.load_state_dict(torch.load('curves/curve1/checkpoint-100.pt')['model_state'])\n",
    "# model_base.load_state_dict(torch.load('curves/curve1/checkpoint-100.pt')['model_state'])\n",
    "\n",
    "for p1, p2 in zip(model_base.parameters(), model.parameters()):\n",
    "    p1.data.copy_(p2)\n",
    "\n",
    "model.train(False);\n",
    "model_base.train(False);"
   ]
  },
  {
   "cell_type": "code",
   "execution_count": 116,
   "metadata": {},
   "outputs": [
    {
     "data": {
      "text/plain": [
       "tensor(0)"
      ]
     },
     "execution_count": 116,
     "metadata": {},
     "output_type": "execute_result"
    }
   ],
   "source": [
    "y_pred1 = torch.argmax(model(X), dim=-1)\n",
    "y_pred2 = torch.argmax(model_base(X), dim=-1)\n",
    "\n",
    "(~(y_pred1 == y_pred2)).sum()"
   ]
  },
  {
   "cell_type": "code",
   "execution_count": 117,
   "metadata": {},
   "outputs": [],
   "source": [
    "def rescale(l, scale):\n",
    "    list(model.modules())[l].weight=torch.nn.Parameter(list(model.modules())[l].weight*scale)\n",
    "    list(model.modules())[l].bias=torch.nn.Parameter(list(model.modules())[l].bias*scale)"
   ]
  },
  {
   "cell_type": "code",
   "execution_count": 118,
   "metadata": {},
   "outputs": [
    {
     "data": {
      "text/plain": [
       "Conv2d(512, 512, kernel_size=(3, 3), stride=(1, 1), padding=(1, 1))"
      ]
     },
     "execution_count": 118,
     "metadata": {},
     "output_type": "execute_result"
    }
   ],
   "source": [
    "list(model.modules())[18]"
   ]
  },
  {
   "cell_type": "code",
   "execution_count": 119,
   "metadata": {},
   "outputs": [],
   "source": [
    "rescale(-3, 10)"
   ]
  },
  {
   "cell_type": "code",
   "execution_count": 120,
   "metadata": {},
   "outputs": [],
   "source": [
    "rescale(-6, 0.1)"
   ]
  },
  {
   "cell_type": "code",
   "execution_count": 121,
   "metadata": {},
   "outputs": [],
   "source": [
    "y_pred_r = torch.argmax(model(X), dim=-1)"
   ]
  },
  {
   "cell_type": "code",
   "execution_count": 123,
   "metadata": {},
   "outputs": [
    {
     "data": {
      "text/plain": [
       "tensor(0, dtype=torch.uint8)"
      ]
     },
     "execution_count": 123,
     "metadata": {},
     "output_type": "execute_result"
    }
   ],
   "source": [
    "sum(~(y_pred2==y_pred_r))"
   ]
  },
  {
   "cell_type": "code",
   "execution_count": 124,
   "metadata": {},
   "outputs": [
    {
     "name": "stdout",
     "output_type": "stream",
     "text": [
      "tensor(0)\n",
      "tensor(0)\n",
      "tensor(0)\n",
      "tensor(0)\n",
      "tensor(0)\n",
      "tensor(0)\n",
      "tensor(0)\n",
      "tensor(0)\n",
      "tensor(0)\n",
      "tensor(0)\n",
      "tensor(0)\n",
      "tensor(0)\n",
      "tensor(0)\n",
      "tensor(0)\n",
      "tensor(0)\n",
      "tensor(0)\n",
      "tensor(0)\n",
      "tensor(0)\n",
      "tensor(0)\n",
      "tensor(0)\n",
      "tensor(0)\n",
      "tensor(0)\n",
      "tensor(0)\n",
      "tensor(1)\n",
      "tensor(0)\n",
      "tensor(0)\n",
      "tensor(0)\n",
      "tensor(0)\n",
      "tensor(0)\n",
      "tensor(0)\n",
      "tensor(1)\n",
      "tensor(0)\n",
      "tensor(0)\n",
      "tensor(0)\n",
      "tensor(0)\n",
      "tensor(0)\n",
      "tensor(0)\n",
      "tensor(0)\n",
      "tensor(0)\n",
      "tensor(0)\n"
     ]
    }
   ],
   "source": [
    "for X, y in loaders['test']:\n",
    "    y_pred1 = torch.argmax(model(X), dim=-1)\n",
    "    y_pred2 = torch.argmax(model_base(X), dim=-1)\n",
    "    print((~(y_pred1 == y_pred2)).sum())"
   ]
  },
  {
   "cell_type": "markdown",
   "metadata": {},
   "source": [
    "## Node"
   ]
  },
  {
   "cell_type": "code",
   "execution_count": 125,
   "metadata": {},
   "outputs": [],
   "source": [
    "def change_node(l1, l2, i, j):\n",
    "    #   matrix\n",
    "    c = copy.deepcopy(torch.nn.Parameter(list(model.modules())[l1].weight[j]))\n",
    "    list(model.modules())[l1].weight[j] = list(model.modules())[l1].weight[i]\n",
    "    list(model.modules())[l1].weight[i] = c\n",
    "\n",
    "    #     bias\n",
    "    c = copy.deepcopy(torch.nn.Parameter(list(model.modules())[l1].bias[j]))\n",
    "    list(model.modules())[l1].bias[j] = list(model.modules())[l1].bias[i]\n",
    "    list(model.modules())[l1].bias[i] = c\n",
    "\n",
    "    c = copy.deepcopy(torch.nn.Parameter(list(model.modules())[l2].weight.transpose(0, 1)[j]))\n",
    "    list(model.modules())[l2].weight.transpose(0, 1)[j] = list(model.modules())[l2].weight.transpose(0, 1)[i]\n",
    "    list(model.modules())[l2].weight.transpose(0, 1)[i] = c"
   ]
  },
  {
   "cell_type": "code",
   "execution_count": 126,
   "metadata": {},
   "outputs": [],
   "source": [
    "model = architecture.base(num_classes=10, **architecture.kwargs)\n",
    "model_base = architecture.base(num_classes=10, **architecture.kwargs)\n",
    "\n",
    "# model.load_state_dict(torch.load('curves/curve1/checkpoint-100.pt')['model_state'])\n",
    "# model_base.load_state_dict(torch.load('curves/curve1/checkpoint-100.pt')['model_state'])\n",
    "\n",
    "for p1, p2 in zip(model_base.parameters(), model.parameters()):\n",
    "    p1.data.copy_(p2)\n",
    "    \n",
    "model.train(False);\n",
    "model_base.train(False);"
   ]
  },
  {
   "cell_type": "code",
   "execution_count": 127,
   "metadata": {},
   "outputs": [
    {
     "data": {
      "text/plain": [
       "tensor(0)"
      ]
     },
     "execution_count": 127,
     "metadata": {},
     "output_type": "execute_result"
    }
   ],
   "source": [
    "y_pred1 = torch.argmax(model(X), dim=-1)\n",
    "y_pred2 = torch.argmax(model_base(X), dim=-1)\n",
    "\n",
    "(~(y_pred1 == y_pred2)).sum()"
   ]
  },
  {
   "cell_type": "code",
   "execution_count": 128,
   "metadata": {},
   "outputs": [
    {
     "name": "stdout",
     "output_type": "stream",
     "text": [
      "0 1.0 torch.Size([64, 3, 3, 3])\n",
      "1 1.0 torch.Size([64])\n",
      "2 1.0 torch.Size([64, 64, 3, 3])\n",
      "3 1.0 torch.Size([64])\n",
      "4 1.0 torch.Size([128, 64, 3, 3])\n",
      "5 1.0 torch.Size([128])\n",
      "6 1.0 torch.Size([128, 128, 3, 3])\n",
      "7 1.0 torch.Size([128])\n",
      "8 1.0 torch.Size([256, 128, 3, 3])\n",
      "9 1.0 torch.Size([256])\n",
      "10 1.0 torch.Size([256, 256, 3, 3])\n",
      "11 1.0 torch.Size([256])\n",
      "12 1.0 torch.Size([256, 256, 3, 3])\n",
      "13 1.0 torch.Size([256])\n",
      "14 1.0 torch.Size([512, 256, 3, 3])\n",
      "15 1.0 torch.Size([512])\n",
      "16 1.0 torch.Size([512, 512, 3, 3])\n",
      "17 1.0 torch.Size([512])\n",
      "18 1.0 torch.Size([512, 512, 3, 3])\n",
      "19 1.0 torch.Size([512])\n",
      "20 1.0 torch.Size([512, 512, 3, 3])\n",
      "21 1.0 torch.Size([512])\n",
      "22 1.0 torch.Size([512, 512, 3, 3])\n",
      "23 1.0 torch.Size([512])\n",
      "24 1.0 torch.Size([512, 512, 3, 3])\n",
      "25 1.0 torch.Size([512])\n",
      "26 1.0 torch.Size([512, 512])\n",
      "27 1.0 torch.Size([512])\n",
      "28 1.0 torch.Size([512, 512])\n",
      "29 1.0 torch.Size([512])\n",
      "30 1.0 torch.Size([10, 512])\n",
      "31 1.0 torch.Size([10])\n"
     ]
    }
   ],
   "source": [
    "i = 10\n",
    "for ind, (p1, p2) in enumerate(zip(model.parameters(), model_base.parameters())):\n",
    "    div = (list(model.parameters())[0]==list(model_base.parameters())[0]).sum().numpy()/np.prod(list(model.parameters())[0].shape)\n",
    "    print(ind, div, p1.shape)"
   ]
  },
  {
   "cell_type": "code",
   "execution_count": 82,
   "metadata": {},
   "outputs": [],
   "source": [
    "# list(model.modules())[0]"
   ]
  },
  {
   "cell_type": "code",
   "execution_count": 129,
   "metadata": {},
   "outputs": [
    {
     "data": {
      "text/plain": [
       "Conv2d(512, 512, kernel_size=(3, 3), stride=(1, 1), padding=(1, 1))"
      ]
     },
     "execution_count": 129,
     "metadata": {},
     "output_type": "execute_result"
    }
   ],
   "source": [
    "list(model.modules())[18]"
   ]
  },
  {
   "cell_type": "code",
   "execution_count": 130,
   "metadata": {},
   "outputs": [],
   "source": [
    "for i in range(256):\n",
    "    change_node(17, 18, i, i+256)"
   ]
  },
  {
   "cell_type": "code",
   "execution_count": 131,
   "metadata": {},
   "outputs": [
    {
     "name": "stdout",
     "output_type": "stream",
     "text": [
      "tensor(0)\n",
      "tensor(0)\n",
      "tensor(0)\n",
      "tensor(0)\n",
      "tensor(0)\n",
      "tensor(0)\n",
      "tensor(0)\n",
      "tensor(0)\n",
      "tensor(0)\n",
      "tensor(0)\n",
      "tensor(0)\n",
      "tensor(0)\n",
      "tensor(0)\n",
      "tensor(0)\n",
      "tensor(0)\n",
      "tensor(0)\n",
      "tensor(0)\n",
      "tensor(0)\n",
      "tensor(0)\n",
      "tensor(0)\n",
      "tensor(0)\n",
      "tensor(0)\n",
      "tensor(0)\n",
      "tensor(0)\n",
      "tensor(0)\n",
      "tensor(0)\n",
      "tensor(0)\n",
      "tensor(0)\n",
      "tensor(0)\n",
      "tensor(0)\n",
      "tensor(0)\n",
      "tensor(0)\n",
      "tensor(0)\n",
      "tensor(0)\n",
      "tensor(0)\n",
      "tensor(0)\n",
      "tensor(0)\n",
      "tensor(0)\n",
      "tensor(0)\n",
      "tensor(0)\n"
     ]
    }
   ],
   "source": [
    "for X, y in loaders['test']:\n",
    "    y_pred1 = torch.argmax(model(X), dim=-1)\n",
    "    y_pred2 = torch.argmax(model_base(X), dim=-1)\n",
    "    print((~(y_pred1 == y_pred2)).sum())"
   ]
  },
  {
   "cell_type": "code",
   "execution_count": 111,
   "metadata": {},
   "outputs": [],
   "source": [
    "y_pred_n = torch.argmax(model(X), dim=-1)"
   ]
  },
  {
   "cell_type": "code",
   "execution_count": 112,
   "metadata": {},
   "outputs": [
    {
     "data": {
      "text/plain": [
       "tensor([ 2,  2,  6,  2,  3,  2,  6,  2,  2,  6,  2,  2,  2,  2,\n",
       "         2,  2,  2,  2,  2,  6,  2,  6,  6,  6,  3,  2,  6,  3,\n",
       "         2,  2,  2,  2,  2,  2,  2,  2,  2,  2,  2,  2,  6,  2,\n",
       "         3,  2,  2,  2,  2,  2,  2,  3,  6,  2,  2,  2,  2,  2,\n",
       "         3,  2,  2,  3,  2,  3,  2,  2,  2,  3,  3,  3,  2,  3,\n",
       "         3,  6,  6,  2,  2,  2,  2,  2,  2,  2,  2,  2,  2,  2,\n",
       "         3,  2,  2,  2,  2,  2,  2,  2,  6,  2,  2,  2,  2,  2,\n",
       "         2,  2,  2,  3,  3,  3,  2,  3,  2,  2,  3,  2,  6,  2,\n",
       "         2,  2,  6,  6,  2,  2,  2,  3,  2,  2,  2,  3,  2,  2,\n",
       "         2,  2])"
      ]
     },
     "execution_count": 112,
     "metadata": {},
     "output_type": "execute_result"
    }
   ],
   "source": [
    "y_pred_n"
   ]
  },
  {
   "cell_type": "code",
   "execution_count": 114,
   "metadata": {},
   "outputs": [
    {
     "name": "stdout",
     "output_type": "stream",
     "text": [
      "eq  tensor(0)\n"
     ]
    }
   ],
   "source": [
    "print(\"eq \", (~(y_pred_n==y_pred1)).sum())"
   ]
  },
  {
   "cell_type": "markdown",
   "metadata": {},
   "source": [
    "## Saving"
   ]
  },
  {
   "cell_type": "code",
   "execution_count": 71,
   "metadata": {},
   "outputs": [],
   "source": [
    "#  torch.load(\"curve/checkpoint-50.pt\")"
   ]
  },
  {
   "cell_type": "code",
   "execution_count": 74,
   "metadata": {},
   "outputs": [
    {
     "name": "stdout",
     "output_type": "stream",
     "text": [
      "p  Aaa\n",
      "k 0\n",
      "p  Bbb\n",
      "k 3\n"
     ]
    }
   ],
   "source": [
    "for path, k in [(\"Aaa\", 0), (\"Bbb\", 4 - 1)]:\n",
    "    print('p ', path)\n",
    "    print('k', k)\n",
    "    "
   ]
  },
  {
   "cell_type": "code",
   "execution_count": 77,
   "metadata": {},
   "outputs": [
    {
     "data": {
      "text/plain": [
       "[0, 3, 6, 9]"
      ]
     },
     "execution_count": 77,
     "metadata": {},
     "output_type": "execute_result"
    }
   ],
   "source": [
    "a = list(range(10))\n",
    "a[::3]"
   ]
  },
  {
   "cell_type": "code",
   "execution_count": 70,
   "metadata": {},
   "outputs": [],
   "source": [
    "architecture = getattr(models, \"VGG16\")\n",
    "curve = getattr(curves, 'PolyChain')"
   ]
  },
  {
   "cell_type": "code",
   "execution_count": 71,
   "metadata": {},
   "outputs": [
    {
     "data": {
      "text/plain": [
       "curves.PolyChain"
      ]
     },
     "execution_count": 71,
     "metadata": {},
     "output_type": "execute_result"
    }
   ],
   "source": [
    "curve"
   ]
  },
  {
   "cell_type": "code",
   "execution_count": 72,
   "metadata": {},
   "outputs": [
    {
     "data": {
      "text/plain": [
       "models.vgg.VGGCurve"
      ]
     },
     "execution_count": 72,
     "metadata": {},
     "output_type": "execute_result"
    }
   ],
   "source": [
    "architecture.curve"
   ]
  },
  {
   "cell_type": "code",
   "execution_count": 73,
   "metadata": {},
   "outputs": [
    {
     "data": {
      "text/plain": [
       "{'batch_norm': False, 'depth': 16}"
      ]
     },
     "execution_count": 73,
     "metadata": {},
     "output_type": "execute_result"
    }
   ],
   "source": [
    "architecture.kwargs"
   ]
  },
  {
   "cell_type": "code",
   "execution_count": 74,
   "metadata": {},
   "outputs": [],
   "source": [
    "model = curves.CurveNet(\n",
    "        10,\n",
    "        curve,\n",
    "        architecture.curve,\n",
    "        3,\n",
    "        True,\n",
    "        True,\n",
    "        architecture_kwargs=architecture.kwargs,\n",
    "    )"
   ]
  },
  {
   "cell_type": "code",
   "execution_count": 75,
   "metadata": {},
   "outputs": [
    {
     "data": {
      "text/plain": [
       "CurveNet(\n",
       "  (coeff_layer): PolyChain()\n",
       "  (net): VGGCurve(\n",
       "    (layer_blocks): ModuleList(\n",
       "      (0): ModuleList(\n",
       "        (0): Conv2d()\n",
       "        (1): Conv2d()\n",
       "      )\n",
       "      (1): ModuleList(\n",
       "        (0): Conv2d()\n",
       "        (1): Conv2d()\n",
       "      )\n",
       "      (2): ModuleList(\n",
       "        (0): Conv2d()\n",
       "        (1): Conv2d()\n",
       "        (2): Conv2d()\n",
       "      )\n",
       "      (3): ModuleList(\n",
       "        (0): Conv2d()\n",
       "        (1): Conv2d()\n",
       "        (2): Conv2d()\n",
       "      )\n",
       "      (4): ModuleList(\n",
       "        (0): Conv2d()\n",
       "        (1): Conv2d()\n",
       "        (2): Conv2d()\n",
       "      )\n",
       "    )\n",
       "    (activation_blocks): ModuleList(\n",
       "      (0): ModuleList(\n",
       "        (0): ReLU(inplace)\n",
       "        (1): ReLU(inplace)\n",
       "      )\n",
       "      (1): ModuleList(\n",
       "        (0): ReLU(inplace)\n",
       "        (1): ReLU(inplace)\n",
       "      )\n",
       "      (2): ModuleList(\n",
       "        (0): ReLU(inplace)\n",
       "        (1): ReLU(inplace)\n",
       "        (2): ReLU(inplace)\n",
       "      )\n",
       "      (3): ModuleList(\n",
       "        (0): ReLU(inplace)\n",
       "        (1): ReLU(inplace)\n",
       "        (2): ReLU(inplace)\n",
       "      )\n",
       "      (4): ModuleList(\n",
       "        (0): ReLU(inplace)\n",
       "        (1): ReLU(inplace)\n",
       "        (2): ReLU(inplace)\n",
       "      )\n",
       "    )\n",
       "    (poolings): ModuleList(\n",
       "      (0): MaxPool2d(kernel_size=2, stride=2, padding=0, dilation=1, ceil_mode=False)\n",
       "      (1): MaxPool2d(kernel_size=2, stride=2, padding=0, dilation=1, ceil_mode=False)\n",
       "      (2): MaxPool2d(kernel_size=2, stride=2, padding=0, dilation=1, ceil_mode=False)\n",
       "      (3): MaxPool2d(kernel_size=2, stride=2, padding=0, dilation=1, ceil_mode=False)\n",
       "      (4): MaxPool2d(kernel_size=2, stride=2, padding=0, dilation=1, ceil_mode=False)\n",
       "    )\n",
       "    (dropout1): Dropout(p=0.5)\n",
       "    (fc1): Linear()\n",
       "    (relu1): ReLU(inplace)\n",
       "    (dropout2): Dropout(p=0.5)\n",
       "    (fc2): Linear()\n",
       "    (relu2): ReLU(inplace)\n",
       "    (fc3): Linear()\n",
       "  )\n",
       ")"
      ]
     },
     "execution_count": 75,
     "metadata": {},
     "output_type": "execute_result"
    }
   ],
   "source": [
    "model"
   ]
  },
  {
   "cell_type": "code",
   "execution_count": 76,
   "metadata": {},
   "outputs": [],
   "source": [
    "curve_parameters = list(model.net.parameters())"
   ]
  },
  {
   "cell_type": "code",
   "execution_count": 87,
   "metadata": {},
   "outputs": [
    {
     "data": {
      "text/plain": [
       "96"
      ]
     },
     "execution_count": 87,
     "metadata": {},
     "output_type": "execute_result"
    }
   ],
   "source": [
    "len(curve_parameters)"
   ]
  },
  {
   "cell_type": "code",
   "execution_count": 88,
   "metadata": {},
   "outputs": [
    {
     "name": "stdout",
     "output_type": "stream",
     "text": [
      "0 torch.Size([64, 3, 3, 3])\n",
      "1 torch.Size([64, 3, 3, 3])\n",
      "2 torch.Size([64, 3, 3, 3])\n",
      "3 torch.Size([64])\n",
      "4 torch.Size([64])\n",
      "5 torch.Size([64])\n",
      "6 torch.Size([64, 64, 3, 3])\n",
      "7 torch.Size([64, 64, 3, 3])\n",
      "8 torch.Size([64, 64, 3, 3])\n",
      "9 torch.Size([64])\n",
      "10 torch.Size([64])\n",
      "11 torch.Size([64])\n",
      "12 torch.Size([128, 64, 3, 3])\n",
      "13 torch.Size([128, 64, 3, 3])\n",
      "14 torch.Size([128, 64, 3, 3])\n",
      "15 torch.Size([128])\n",
      "16 torch.Size([128])\n",
      "17 torch.Size([128])\n",
      "18 torch.Size([128, 128, 3, 3])\n",
      "19 torch.Size([128, 128, 3, 3])\n",
      "20 torch.Size([128, 128, 3, 3])\n",
      "21 torch.Size([128])\n",
      "22 torch.Size([128])\n",
      "23 torch.Size([128])\n",
      "24 torch.Size([256, 128, 3, 3])\n",
      "25 torch.Size([256, 128, 3, 3])\n",
      "26 torch.Size([256, 128, 3, 3])\n",
      "27 torch.Size([256])\n",
      "28 torch.Size([256])\n",
      "29 torch.Size([256])\n",
      "30 torch.Size([256, 256, 3, 3])\n",
      "31 torch.Size([256, 256, 3, 3])\n",
      "32 torch.Size([256, 256, 3, 3])\n",
      "33 torch.Size([256])\n",
      "34 torch.Size([256])\n",
      "35 torch.Size([256])\n",
      "36 torch.Size([256, 256, 3, 3])\n",
      "37 torch.Size([256, 256, 3, 3])\n",
      "38 torch.Size([256, 256, 3, 3])\n",
      "39 torch.Size([256])\n",
      "40 torch.Size([256])\n",
      "41 torch.Size([256])\n",
      "42 torch.Size([512, 256, 3, 3])\n",
      "43 torch.Size([512, 256, 3, 3])\n",
      "44 torch.Size([512, 256, 3, 3])\n",
      "45 torch.Size([512])\n",
      "46 torch.Size([512])\n",
      "47 torch.Size([512])\n",
      "48 torch.Size([512, 512, 3, 3])\n",
      "49 torch.Size([512, 512, 3, 3])\n",
      "50 torch.Size([512, 512, 3, 3])\n",
      "51 torch.Size([512])\n",
      "52 torch.Size([512])\n",
      "53 torch.Size([512])\n",
      "54 torch.Size([512, 512, 3, 3])\n",
      "55 torch.Size([512, 512, 3, 3])\n",
      "56 torch.Size([512, 512, 3, 3])\n",
      "57 torch.Size([512])\n",
      "58 torch.Size([512])\n",
      "59 torch.Size([512])\n",
      "60 torch.Size([512, 512, 3, 3])\n",
      "61 torch.Size([512, 512, 3, 3])\n",
      "62 torch.Size([512, 512, 3, 3])\n",
      "63 torch.Size([512])\n",
      "64 torch.Size([512])\n",
      "65 torch.Size([512])\n",
      "66 torch.Size([512, 512, 3, 3])\n",
      "67 torch.Size([512, 512, 3, 3])\n",
      "68 torch.Size([512, 512, 3, 3])\n",
      "69 torch.Size([512])\n",
      "70 torch.Size([512])\n",
      "71 torch.Size([512])\n",
      "72 torch.Size([512, 512, 3, 3])\n",
      "73 torch.Size([512, 512, 3, 3])\n",
      "74 torch.Size([512, 512, 3, 3])\n",
      "75 torch.Size([512])\n",
      "76 torch.Size([512])\n",
      "77 torch.Size([512])\n",
      "78 torch.Size([512, 512])\n",
      "79 torch.Size([512, 512])\n",
      "80 torch.Size([512, 512])\n",
      "81 torch.Size([512])\n",
      "82 torch.Size([512])\n",
      "83 torch.Size([512])\n",
      "84 torch.Size([512, 512])\n",
      "85 torch.Size([512, 512])\n",
      "86 torch.Size([512, 512])\n",
      "87 torch.Size([512])\n",
      "88 torch.Size([512])\n",
      "89 torch.Size([512])\n",
      "90 torch.Size([10, 512])\n",
      "91 torch.Size([10, 512])\n",
      "92 torch.Size([10, 512])\n",
      "93 torch.Size([10])\n",
      "94 torch.Size([10])\n",
      "95 torch.Size([10])\n"
     ]
    }
   ],
   "source": [
    "for i, p in enumerate(curve_parameters):\n",
    "    print(i, p.shape)"
   ]
  },
  {
   "cell_type": "code",
   "execution_count": 81,
   "metadata": {},
   "outputs": [
    {
     "data": {
      "text/plain": [
       "<generator object Module.parameters at 0x151b1c9a40>"
      ]
     },
     "execution_count": 81,
     "metadata": {},
     "output_type": "execute_result"
    }
   ],
   "source": [
    "model.net.parameters()"
   ]
  },
  {
   "cell_type": "code",
   "execution_count": 89,
   "metadata": {},
   "outputs": [],
   "source": [
    "a = np.array([1,4,5,7])"
   ]
  },
  {
   "cell_type": "code",
   "execution_count": 95,
   "metadata": {},
   "outputs": [
    {
     "data": {
      "text/plain": [
       "array([4, 5])"
      ]
     },
     "execution_count": 95,
     "metadata": {},
     "output_type": "execute_result"
    }
   ],
   "source": [
    "a[(a>3)*(a<7)]"
   ]
  },
  {
   "cell_type": "code",
   "execution_count": 94,
   "metadata": {},
   "outputs": [],
   "source": [
    "pred = model(X)"
   ]
  },
  {
   "cell_type": "code",
   "execution_count": 95,
   "metadata": {},
   "outputs": [
    {
     "data": {
      "text/plain": [
       "torch.Size([128, 10])"
      ]
     },
     "execution_count": 95,
     "metadata": {},
     "output_type": "execute_result"
    }
   ],
   "source": [
    "pred.shape"
   ]
  },
  {
   "cell_type": "code",
   "execution_count": 96,
   "metadata": {},
   "outputs": [],
   "source": [
    "from torch.nn import Module"
   ]
  },
  {
   "cell_type": "code",
   "execution_count": 98,
   "metadata": {},
   "outputs": [],
   "source": [
    "m = Module()"
   ]
  },
  {
   "cell_type": "code",
   "execution_count": 105,
   "metadata": {},
   "outputs": [],
   "source": [
    "m.register_buffer('range', torch.arange(0, float(3)))"
   ]
  },
  {
   "cell_type": "code",
   "execution_count": 106,
   "metadata": {},
   "outputs": [
    {
     "data": {
      "text/plain": [
       "tensor([ 0.,  1.,  2.])"
      ]
     },
     "execution_count": 106,
     "metadata": {},
     "output_type": "execute_result"
    }
   ],
   "source": [
    "m.range"
   ]
  },
  {
   "cell_type": "code",
   "execution_count": 122,
   "metadata": {},
   "outputs": [
    {
     "data": {
      "text/plain": [
       "tensor([ 0.0000,  0.6667,  0.3333])"
      ]
     },
     "execution_count": 122,
     "metadata": {},
     "output_type": "execute_result"
    }
   ],
   "source": [
    "t_n = 2/3 * (3 - 1)\n",
    "torch.max(m.range.new([0.0]), 1.0 - torch.abs(t_n - m.range))"
   ]
  },
  {
   "cell_type": "code",
   "execution_count": null,
   "metadata": {},
   "outputs": [],
   "source": []
  },
  {
   "cell_type": "code",
   "execution_count": null,
   "metadata": {},
   "outputs": [],
   "source": []
  }
 ],
 "metadata": {
  "kernelspec": {
   "display_name": "Python 3",
   "language": "python",
   "name": "python3"
  },
  "language_info": {
   "codemirror_mode": {
    "name": "ipython",
    "version": 3
   },
   "file_extension": ".py",
   "mimetype": "text/x-python",
   "name": "python",
   "nbconvert_exporter": "python",
   "pygments_lexer": "ipython3",
   "version": "3.6.4"
  }
 },
 "nbformat": 4,
 "nbformat_minor": 2
}
