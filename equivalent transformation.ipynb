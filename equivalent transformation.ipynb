{
 "cells": [
  {
   "cell_type": "code",
   "execution_count": 106,
   "metadata": {},
   "outputs": [],
   "source": [
    "import argparse\n",
    "import os\n",
    "import sys\n",
    "import tabulate\n",
    "import time\n",
    "import torch\n",
    "import torch.nn.functional as F\n",
    "\n",
    "import curves\n",
    "import data\n",
    "import models\n",
    "import utils\n",
    "import pickle\n",
    "\n",
    "import copy\n",
    "import numpy as np"
   ]
  },
  {
   "cell_type": "code",
   "execution_count": 107,
   "metadata": {},
   "outputs": [],
   "source": [
    "# architecture = getattr(models, \"VGG16\")\n",
    "architecture = getattr(models, \"Linear\")\n"
   ]
  },
  {
   "cell_type": "code",
   "execution_count": 108,
   "metadata": {},
   "outputs": [
    {
     "data": {
      "text/plain": [
       "models.linear.Linear"
      ]
     },
     "execution_count": 108,
     "metadata": {},
     "output_type": "execute_result"
    }
   ],
   "source": [
    "architecture"
   ]
  },
  {
   "cell_type": "code",
   "execution_count": 109,
   "metadata": {},
   "outputs": [],
   "source": [
    "model = architecture.base(num_classes=10, **architecture.kwargs)\n",
    "checkpoint_name = \"checkpoint-100.pt\"\n",
    "model.load_state_dict(torch.load(\"curves_linear/curve1/\"+checkpoint_name)['model_state'])"
   ]
  },
  {
   "cell_type": "code",
   "execution_count": 110,
   "metadata": {},
   "outputs": [
    {
     "name": "stdout",
     "output_type": "stream",
     "text": [
      "Files already downloaded and verified\n",
      "Using train (45000) + validation (5000)\n",
      "Files already downloaded and verified\n"
     ]
    }
   ],
   "source": [
    "loaders, num_classes = data.loaders(\n",
    "    \"CIFAR10\",\n",
    "    \"data\",\n",
    "    128,\n",
    "    1,\n",
    "    \"VGG\",\n",
    "    False\n",
    ")"
   ]
  },
  {
   "cell_type": "code",
   "execution_count": 111,
   "metadata": {},
   "outputs": [],
   "source": [
    "for X, y in loaders['train']:\n",
    "    break"
   ]
  },
  {
   "cell_type": "code",
   "execution_count": 112,
   "metadata": {},
   "outputs": [
    {
     "data": {
      "text/plain": [
       "torch.Size([128, 3, 32, 32])"
      ]
     },
     "execution_count": 112,
     "metadata": {},
     "output_type": "execute_result"
    }
   ],
   "source": [
    "X.shape"
   ]
  },
  {
   "cell_type": "code",
   "execution_count": 113,
   "metadata": {},
   "outputs": [
    {
     "data": {
      "text/plain": [
       "3072"
      ]
     },
     "execution_count": 113,
     "metadata": {},
     "output_type": "execute_result"
    }
   ],
   "source": [
    "3*32*32"
   ]
  },
  {
   "cell_type": "code",
   "execution_count": 114,
   "metadata": {},
   "outputs": [],
   "source": [
    "y_pred = torch.argmax(model(X), dim=-1)"
   ]
  },
  {
   "cell_type": "code",
   "execution_count": 115,
   "metadata": {},
   "outputs": [
    {
     "data": {
      "text/plain": [
       "tensor([4, 9, 9, 9, 3, 7, 0, 6, 4, 0, 3, 1, 0, 6, 6, 2, 3, 4, 8, 0, 6, 7, 5, 5,\n",
       "        7, 1, 7, 8, 7, 6, 2, 0, 9, 9, 9, 7, 1, 2, 3, 1, 2, 4, 0, 9, 6, 5, 9, 9,\n",
       "        1, 1, 1, 6, 9, 5, 2, 2, 1, 0, 1, 4, 8, 2, 4, 7, 2, 4, 5, 8, 7, 8, 6, 1,\n",
       "        3, 6, 4, 7, 8, 0, 5, 7, 1, 2, 1, 2, 2, 7, 2, 8, 7, 2, 5, 7, 3, 7, 5, 7,\n",
       "        0, 5, 0, 8, 5, 7, 4, 2, 0, 6, 6, 9, 5, 8, 8, 6, 5, 6, 9, 7, 3, 6, 7, 7,\n",
       "        7, 3, 8, 7, 5, 3, 7, 7])"
      ]
     },
     "execution_count": 115,
     "metadata": {},
     "output_type": "execute_result"
    }
   ],
   "source": [
    "y"
   ]
  },
  {
   "cell_type": "code",
   "execution_count": 116,
   "metadata": {},
   "outputs": [
    {
     "data": {
      "text/plain": [
       "tensor([4, 9, 9, 9, 3, 7, 0, 6, 4, 0, 3, 1, 0, 6, 6, 2, 3, 4, 8, 0, 6, 7, 5, 5,\n",
       "        7, 1, 7, 8, 7, 6, 2, 0, 9, 9, 9, 7, 1, 2, 3, 1, 2, 4, 0, 9, 6, 5, 9, 9,\n",
       "        1, 1, 1, 6, 9, 5, 2, 2, 1, 0, 1, 4, 8, 2, 4, 7, 2, 4, 5, 7, 7, 8, 6, 1,\n",
       "        3, 6, 4, 7, 8, 0, 5, 7, 1, 2, 1, 2, 2, 7, 2, 8, 7, 2, 5, 7, 3, 7, 5, 7,\n",
       "        0, 5, 0, 8, 5, 7, 4, 2, 0, 6, 6, 9, 5, 8, 8, 6, 5, 6, 9, 7, 3, 6, 7, 7,\n",
       "        7, 3, 8, 7, 5, 3, 7, 7])"
      ]
     },
     "execution_count": 116,
     "metadata": {},
     "output_type": "execute_result"
    }
   ],
   "source": [
    "y_pred"
   ]
  },
  {
   "cell_type": "code",
   "execution_count": 117,
   "metadata": {},
   "outputs": [
    {
     "data": {
      "text/plain": [
       "tensor(1, dtype=torch.uint8)"
      ]
     },
     "execution_count": 117,
     "metadata": {},
     "output_type": "execute_result"
    }
   ],
   "source": [
    "sum(~(y_pred==y))"
   ]
  },
  {
   "cell_type": "markdown",
   "metadata": {},
   "source": [
    "## Rescale"
   ]
  },
  {
   "cell_type": "code",
   "execution_count": 22,
   "metadata": {},
   "outputs": [],
   "source": [
    "def rescale(l, scale):\n",
    "    list(model.modules())[l].weight=torch.nn.Parameter(list(model.modules())[l].weight*scale)\n",
    "    list(model.modules())[l].bias=torch.nn.Parameter(list(model.modules())[l].bias*scale)"
   ]
  },
  {
   "cell_type": "code",
   "execution_count": 34,
   "metadata": {},
   "outputs": [
    {
     "data": {
      "text/plain": [
       "Linear(in_features=1152, out_features=1000, bias=True)"
      ]
     },
     "execution_count": 34,
     "metadata": {},
     "output_type": "execute_result"
    }
   ],
   "source": [
    "list(model.modules())[-5]"
   ]
  },
  {
   "cell_type": "code",
   "execution_count": 35,
   "metadata": {},
   "outputs": [],
   "source": [
    "rescale(-3, 10)"
   ]
  },
  {
   "cell_type": "code",
   "execution_count": 36,
   "metadata": {},
   "outputs": [],
   "source": [
    "rescale(-5, 0.1)"
   ]
  },
  {
   "cell_type": "code",
   "execution_count": 37,
   "metadata": {},
   "outputs": [],
   "source": [
    "y_pred_r = torch.argmax(model(X), dim=-1)"
   ]
  },
  {
   "cell_type": "code",
   "execution_count": 38,
   "metadata": {},
   "outputs": [
    {
     "data": {
      "text/plain": [
       "tensor([8, 4, 6, 6, 9, 3, 1, 3, 4, 4, 4, 4, 1, 0, 4, 2, 9, 6, 6, 0, 7, 9, 4, 2,\n",
       "        1, 4, 4, 4, 1, 1, 3, 4, 5, 6, 2, 4, 0, 4, 4, 5, 4, 6, 6, 9, 5, 8, 5, 4,\n",
       "        5, 7, 4, 4, 9, 4, 6, 5, 6, 7, 6, 4, 9, 5, 5, 2, 7, 4, 4, 0, 4, 7, 6, 4,\n",
       "        9, 0, 5, 7, 1, 3, 7, 9, 1, 6, 8, 7, 4, 8, 4, 9, 7, 4, 4, 5, 4, 9, 4, 4,\n",
       "        5, 4, 4, 4, 4, 3, 3, 6, 3, 4, 0, 6, 3, 0, 8, 9, 9, 4, 8, 3, 2, 2, 6, 4,\n",
       "        1, 4, 0, 5, 4, 4, 8, 1])"
      ]
     },
     "execution_count": 38,
     "metadata": {},
     "output_type": "execute_result"
    }
   ],
   "source": [
    "y_pred_r"
   ]
  },
  {
   "cell_type": "code",
   "execution_count": 39,
   "metadata": {},
   "outputs": [
    {
     "data": {
      "text/plain": [
       "tensor(33, dtype=torch.uint8)"
      ]
     },
     "execution_count": 39,
     "metadata": {},
     "output_type": "execute_result"
    }
   ],
   "source": [
    "sum(~(y_pred==y_pred_r))"
   ]
  },
  {
   "cell_type": "markdown",
   "metadata": {},
   "source": [
    "## Node"
   ]
  },
  {
   "cell_type": "code",
   "execution_count": 118,
   "metadata": {},
   "outputs": [],
   "source": [
    "# def change_node(l1, l2, i, j):\n",
    "    \n",
    "#     c = copy.deepcopy(torch.nn.Parameter(list(model.modules())[l1].weight[j]))\n",
    "#     list(model.modules())[l1].weight[j]  = list(model.modules())[l1].weight[i] \n",
    "#     list(model.modules())[l1].weight[i] = c\n",
    "    \n",
    "#     c = copy.deepcopy(torch.nn.Parameter(list(model.modules())[l2].weight.transpose(0,1)[j]))\n",
    "#     list(model.modules())[l2].weight.transpose(0,1)[j]  = list(model.modules())[l2].weight.transpose(0,1)[i]\n",
    "#     list(model.modules())[l2].weight.transpose(0,1)[i] = c\n",
    "    \n",
    " "
   ]
  },
  {
   "cell_type": "code",
   "execution_count": 119,
   "metadata": {},
   "outputs": [],
   "source": [
    "def change_node(l1, l2, i, j):\n",
    "    \n",
    "    c = copy.deepcopy(torch.nn.Parameter(list(model.modules())[l1].weight[j]))\n",
    "    list(model.modules())[l1].weight[j]  = list(model.modules())[l1].weight[i] \n",
    "    list(model.modules())[l1].weight[i] = c\n",
    "    \n",
    "    c = copy.deepcopy(torch.nn.Parameter(list(model.modules())[l2].weight.transpose(0,1)[j]))\n",
    "    list(model.modules())[l2].weight.transpose(0,1)[j]  = list(model.modules())[l2].weight.transpose(0,1)[i]\n",
    "    list(model.modules())[l2].weight.transpose(0,1)[i] = c"
   ]
  },
  {
   "cell_type": "code",
   "execution_count": 120,
   "metadata": {},
   "outputs": [],
   "source": [
    "# model 65 878 442 vs 15 245 130"
   ]
  },
  {
   "cell_type": "code",
   "execution_count": 136,
   "metadata": {},
   "outputs": [
    {
     "data": {
      "text/plain": [
       "torch.Size([1152, 6144])"
      ]
     },
     "execution_count": 136,
     "metadata": {},
     "output_type": "execute_result"
    }
   ],
   "source": [
    "list(model.modules())[-8].weight.shape"
   ]
  },
  {
   "cell_type": "code",
   "execution_count": 122,
   "metadata": {},
   "outputs": [],
   "source": [
    "# list(model.modules())[17].bias.shape"
   ]
  },
  {
   "cell_type": "code",
   "execution_count": 129,
   "metadata": {},
   "outputs": [],
   "source": [
    "for i in range(200):\n",
    "    change_node(-, -3, i, 2*i)"
   ]
  },
  {
   "cell_type": "code",
   "execution_count": 130,
   "metadata": {},
   "outputs": [],
   "source": [
    "y_pred_n = torch.argmax(model(X), dim=-1)"
   ]
  },
  {
   "cell_type": "code",
   "execution_count": 131,
   "metadata": {},
   "outputs": [
    {
     "data": {
      "text/plain": [
       "tensor([4, 9, 9, 9, 3, 7, 0, 6, 4, 0, 3, 1, 0, 6, 6, 2, 3, 4, 8, 0, 6, 7, 5, 5,\n",
       "        7, 1, 7, 8, 7, 6, 2, 0, 9, 9, 9, 7, 1, 2, 3, 1, 2, 4, 0, 9, 6, 5, 9, 9,\n",
       "        1, 1, 1, 6, 9, 5, 2, 2, 1, 0, 1, 4, 8, 2, 4, 7, 2, 4, 5, 7, 7, 8, 6, 1,\n",
       "        3, 6, 4, 7, 8, 0, 5, 7, 1, 2, 1, 2, 2, 7, 2, 8, 7, 2, 5, 7, 3, 7, 5, 7,\n",
       "        0, 5, 0, 8, 5, 7, 4, 2, 0, 6, 6, 9, 5, 8, 8, 6, 5, 6, 9, 7, 3, 6, 7, 7,\n",
       "        7, 3, 8, 7, 5, 3, 7, 7])"
      ]
     },
     "execution_count": 131,
     "metadata": {},
     "output_type": "execute_result"
    }
   ],
   "source": [
    "y_pred"
   ]
  },
  {
   "cell_type": "code",
   "execution_count": 132,
   "metadata": {},
   "outputs": [
    {
     "data": {
      "text/plain": [
       "tensor([4, 9, 9, 9, 3, 7, 0, 6, 4, 0, 3, 1, 0, 6, 6, 2, 3, 4, 8, 0, 6, 7, 5, 5,\n",
       "        7, 1, 7, 8, 7, 6, 2, 0, 9, 9, 9, 7, 1, 2, 3, 1, 2, 4, 0, 9, 6, 5, 9, 9,\n",
       "        1, 1, 1, 6, 9, 5, 2, 2, 1, 0, 1, 4, 8, 2, 4, 7, 2, 4, 5, 7, 7, 8, 6, 1,\n",
       "        3, 6, 4, 7, 8, 0, 5, 7, 1, 2, 1, 2, 2, 7, 2, 8, 7, 2, 5, 7, 3, 7, 5, 7,\n",
       "        0, 5, 0, 8, 5, 7, 4, 2, 0, 6, 6, 9, 5, 8, 8, 6, 5, 6, 9, 7, 3, 6, 7, 7,\n",
       "        7, 3, 8, 7, 5, 3, 7, 7])"
      ]
     },
     "execution_count": 132,
     "metadata": {},
     "output_type": "execute_result"
    }
   ],
   "source": [
    "y_pred_n"
   ]
  },
  {
   "cell_type": "code",
   "execution_count": 133,
   "metadata": {},
   "outputs": [
    {
     "name": "stdout",
     "output_type": "stream",
     "text": [
      "eq  tensor([0, 0, 0, 0, 0, 0, 0, 0, 0, 0, 0, 0, 0, 0, 0, 0, 0, 0, 0, 0, 0, 0, 0, 0,\n",
      "        0, 0, 0, 0, 0, 0, 0, 0, 0, 0, 0, 0, 0, 0, 0, 0, 0, 0, 0, 0, 0, 0, 0, 0,\n",
      "        0, 0, 0, 0, 0, 0, 0, 0, 0, 0, 0, 0, 0, 0, 0, 0, 0, 0, 0, 0, 0, 0, 0, 0,\n",
      "        0, 0, 0, 0, 0, 0, 0, 0, 0, 0, 0, 0, 0, 0, 0, 0, 0, 0, 0, 0, 0, 0, 0, 0,\n",
      "        0, 0, 0, 0, 0, 0, 0, 0, 0, 0, 0, 0, 0, 0, 0, 0, 0, 0, 0, 0, 0, 0, 0, 0,\n",
      "        0, 0, 0, 0, 0, 0, 0, 0], dtype=torch.uint8) tensor(0)\n"
     ]
    }
   ],
   "source": [
    "print(\"eq \", ~(y_pred_n==y_pred),  (~(y_pred_n==y_pred)).sum())\n"
   ]
  },
  {
   "cell_type": "code",
   "execution_count": 134,
   "metadata": {},
   "outputs": [
    {
     "data": {
      "text/plain": [
       "tensor(0, dtype=torch.uint8)"
      ]
     },
     "execution_count": 134,
     "metadata": {},
     "output_type": "execute_result"
    }
   ],
   "source": [
    "sum(~(y_pred==y_pred_n))"
   ]
  },
  {
   "cell_type": "markdown",
   "metadata": {},
   "source": [
    "## Saving"
   ]
  },
  {
   "cell_type": "code",
   "execution_count": 71,
   "metadata": {},
   "outputs": [],
   "source": [
    "#  torch.load(\"curve/checkpoint-50.pt\")"
   ]
  },
  {
   "cell_type": "code",
   "execution_count": 74,
   "metadata": {},
   "outputs": [
    {
     "name": "stdout",
     "output_type": "stream",
     "text": [
      "p  Aaa\n",
      "k 0\n",
      "p  Bbb\n",
      "k 3\n"
     ]
    }
   ],
   "source": [
    "for path, k in [(\"Aaa\", 0), (\"Bbb\", 4 - 1)]:\n",
    "    print('p ', path)\n",
    "    print('k', k)\n",
    "    "
   ]
  },
  {
   "cell_type": "code",
   "execution_count": 77,
   "metadata": {},
   "outputs": [
    {
     "data": {
      "text/plain": [
       "[0, 3, 6, 9]"
      ]
     },
     "execution_count": 77,
     "metadata": {},
     "output_type": "execute_result"
    }
   ],
   "source": [
    "a = list(range(10))\n",
    "a[::3]"
   ]
  },
  {
   "cell_type": "code",
   "execution_count": 89,
   "metadata": {},
   "outputs": [],
   "source": [
    "architecture = getattr(models, \"VGG16\")\n",
    "curve = getattr(curves, 'PolyChain')"
   ]
  },
  {
   "cell_type": "code",
   "execution_count": 90,
   "metadata": {},
   "outputs": [
    {
     "data": {
      "text/plain": [
       "curves.PolyChain"
      ]
     },
     "execution_count": 90,
     "metadata": {},
     "output_type": "execute_result"
    }
   ],
   "source": [
    "curve"
   ]
  },
  {
   "cell_type": "code",
   "execution_count": 86,
   "metadata": {},
   "outputs": [
    {
     "data": {
      "text/plain": [
       "models.vgg.VGGCurve"
      ]
     },
     "execution_count": 86,
     "metadata": {},
     "output_type": "execute_result"
    }
   ],
   "source": [
    "architecture.curve"
   ]
  },
  {
   "cell_type": "code",
   "execution_count": 87,
   "metadata": {},
   "outputs": [
    {
     "data": {
      "text/plain": [
       "{'batch_norm': False, 'depth': 16}"
      ]
     },
     "execution_count": 87,
     "metadata": {},
     "output_type": "execute_result"
    }
   ],
   "source": [
    "architecture.kwargs"
   ]
  },
  {
   "cell_type": "code",
   "execution_count": 113,
   "metadata": {},
   "outputs": [],
   "source": [
    "model = curves.CurveNet(\n",
    "        10,\n",
    "        curve,\n",
    "        architecture.curve,\n",
    "        3,\n",
    "        True,\n",
    "        True,\n",
    "        architecture_kwargs=architecture.kwargs,\n",
    "    )"
   ]
  },
  {
   "cell_type": "code",
   "execution_count": 114,
   "metadata": {},
   "outputs": [
    {
     "data": {
      "text/plain": [
       "CurveNet(\n",
       "  (coeff_layer): PolyChain()\n",
       "  (net): VGGCurve(\n",
       "    (layer_blocks): ModuleList(\n",
       "      (0): ModuleList(\n",
       "        (0): Conv2d()\n",
       "        (1): Conv2d()\n",
       "      )\n",
       "      (1): ModuleList(\n",
       "        (0): Conv2d()\n",
       "        (1): Conv2d()\n",
       "      )\n",
       "      (2): ModuleList(\n",
       "        (0): Conv2d()\n",
       "        (1): Conv2d()\n",
       "        (2): Conv2d()\n",
       "      )\n",
       "      (3): ModuleList(\n",
       "        (0): Conv2d()\n",
       "        (1): Conv2d()\n",
       "        (2): Conv2d()\n",
       "      )\n",
       "      (4): ModuleList(\n",
       "        (0): Conv2d()\n",
       "        (1): Conv2d()\n",
       "        (2): Conv2d()\n",
       "      )\n",
       "    )\n",
       "    (activation_blocks): ModuleList(\n",
       "      (0): ModuleList(\n",
       "        (0): ReLU(inplace)\n",
       "        (1): ReLU(inplace)\n",
       "      )\n",
       "      (1): ModuleList(\n",
       "        (0): ReLU(inplace)\n",
       "        (1): ReLU(inplace)\n",
       "      )\n",
       "      (2): ModuleList(\n",
       "        (0): ReLU(inplace)\n",
       "        (1): ReLU(inplace)\n",
       "        (2): ReLU(inplace)\n",
       "      )\n",
       "      (3): ModuleList(\n",
       "        (0): ReLU(inplace)\n",
       "        (1): ReLU(inplace)\n",
       "        (2): ReLU(inplace)\n",
       "      )\n",
       "      (4): ModuleList(\n",
       "        (0): ReLU(inplace)\n",
       "        (1): ReLU(inplace)\n",
       "        (2): ReLU(inplace)\n",
       "      )\n",
       "    )\n",
       "    (poolings): ModuleList(\n",
       "      (0): MaxPool2d(kernel_size=2, stride=2, padding=0, dilation=1, ceil_mode=False)\n",
       "      (1): MaxPool2d(kernel_size=2, stride=2, padding=0, dilation=1, ceil_mode=False)\n",
       "      (2): MaxPool2d(kernel_size=2, stride=2, padding=0, dilation=1, ceil_mode=False)\n",
       "      (3): MaxPool2d(kernel_size=2, stride=2, padding=0, dilation=1, ceil_mode=False)\n",
       "      (4): MaxPool2d(kernel_size=2, stride=2, padding=0, dilation=1, ceil_mode=False)\n",
       "    )\n",
       "    (dropout1): Dropout(p=0.5)\n",
       "    (fc1): Linear()\n",
       "    (relu1): ReLU(inplace)\n",
       "    (dropout2): Dropout(p=0.5)\n",
       "    (fc2): Linear()\n",
       "    (relu2): ReLU(inplace)\n",
       "    (fc3): Linear()\n",
       "  )\n",
       ")"
      ]
     },
     "execution_count": 114,
     "metadata": {},
     "output_type": "execute_result"
    }
   ],
   "source": [
    "model"
   ]
  },
  {
   "cell_type": "code",
   "execution_count": 94,
   "metadata": {},
   "outputs": [],
   "source": [
    "pred = model(X)"
   ]
  },
  {
   "cell_type": "code",
   "execution_count": 95,
   "metadata": {},
   "outputs": [
    {
     "data": {
      "text/plain": [
       "torch.Size([128, 10])"
      ]
     },
     "execution_count": 95,
     "metadata": {},
     "output_type": "execute_result"
    }
   ],
   "source": [
    "pred.shape"
   ]
  },
  {
   "cell_type": "code",
   "execution_count": 96,
   "metadata": {},
   "outputs": [],
   "source": [
    "from torch.nn import Module"
   ]
  },
  {
   "cell_type": "code",
   "execution_count": 98,
   "metadata": {},
   "outputs": [],
   "source": [
    "m = Module()"
   ]
  },
  {
   "cell_type": "code",
   "execution_count": 105,
   "metadata": {},
   "outputs": [],
   "source": [
    "m.register_buffer('range', torch.arange(0, float(3)))"
   ]
  },
  {
   "cell_type": "code",
   "execution_count": 106,
   "metadata": {},
   "outputs": [
    {
     "data": {
      "text/plain": [
       "tensor([ 0.,  1.,  2.])"
      ]
     },
     "execution_count": 106,
     "metadata": {},
     "output_type": "execute_result"
    }
   ],
   "source": [
    "m.range"
   ]
  },
  {
   "cell_type": "code",
   "execution_count": 122,
   "metadata": {},
   "outputs": [
    {
     "data": {
      "text/plain": [
       "tensor([ 0.0000,  0.6667,  0.3333])"
      ]
     },
     "execution_count": 122,
     "metadata": {},
     "output_type": "execute_result"
    }
   ],
   "source": [
    "t_n = 2/3 * (3 - 1)\n",
    "torch.max(m.range.new([0.0]), 1.0 - torch.abs(t_n - m.range))"
   ]
  },
  {
   "cell_type": "code",
   "execution_count": null,
   "metadata": {},
   "outputs": [],
   "source": []
  },
  {
   "cell_type": "code",
   "execution_count": null,
   "metadata": {},
   "outputs": [],
   "source": []
  }
 ],
 "metadata": {
  "kernelspec": {
   "display_name": "Python 3",
   "language": "python",
   "name": "python3"
  },
  "language_info": {
   "codemirror_mode": {
    "name": "ipython",
    "version": 3
   },
   "file_extension": ".py",
   "mimetype": "text/x-python",
   "name": "python",
   "nbconvert_exporter": "python",
   "pygments_lexer": "ipython3",
   "version": "3.7.1"
  }
 },
 "nbformat": 4,
 "nbformat_minor": 2
}
