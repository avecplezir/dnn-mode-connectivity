{
 "cells": [
  {
   "cell_type": "code",
   "execution_count": 1,
   "metadata": {},
   "outputs": [],
   "source": [
    "import sys\n",
    "sys.path.append('/home/token/Documents/distribution_connector')"
   ]
  },
  {
   "cell_type": "code",
   "execution_count": 2,
   "metadata": {},
   "outputs": [],
   "source": [
    "from sklearn import datasets\n",
    "import numpy as np\n",
    "import torch\n",
    "import torch.nn.functional as F\n",
    "import time"
   ]
  },
  {
   "cell_type": "code",
   "execution_count": 3,
   "metadata": {},
   "outputs": [
    {
     "data": {
      "text/plain": [
       "['/home/token/Documents/dnn-mode-connectivity',\n",
       " '/home/token/anaconda3/lib/python37.zip',\n",
       " '/home/token/anaconda3/lib/python3.7',\n",
       " '/home/token/anaconda3/lib/python3.7/lib-dynload',\n",
       " '',\n",
       " '/home/token/.local/lib/python3.7/site-packages',\n",
       " '/home/token/anaconda3/lib/python3.7/site-packages',\n",
       " '/home/token/anaconda3/lib/python3.7/site-packages/IPython/extensions',\n",
       " '/home/token/.ipython',\n",
       " '/home/token/Documents/distribution_connector']"
      ]
     },
     "execution_count": 3,
     "metadata": {},
     "output_type": "execute_result"
    }
   ],
   "source": [
    "sys.path"
   ]
  },
  {
   "cell_type": "code",
   "execution_count": 4,
   "metadata": {},
   "outputs": [],
   "source": [
    "import utils\n",
    "from connector import Connector\n",
    "from one_layer_utils import samples, make_dataset, get_model, get_b\n",
    "from utils import test_model"
   ]
  },
  {
   "cell_type": "code",
   "execution_count": 5,
   "metadata": {},
   "outputs": [],
   "source": [
    "# # making CIFAR dataset\n",
    "# import models\n",
    "# architecture = getattr(models, \"LinearOneLayerCF\") #LinearOneLayer LogRegression\n",
    "\n",
    "# dataset, B = make_dataset(model_dir='curves/LinearOneLayer/curve', \n",
    "#              dataset='CIFAR', \n",
    "#              architecture=architecture, \n",
    "#              N_models=21, check=400)"
   ]
  },
  {
   "cell_type": "code",
   "execution_count": 6,
   "metadata": {},
   "outputs": [],
   "source": [
    "# # making MNIST dataset\n",
    "# import models\n",
    "# architecture = getattr(models, \"LinearOneLayer\") #LinearOneLayer LogRegression\n",
    "\n",
    "# dataset, B = make_dataset(model_dir='curves_mnist/LinearOneLayer/LongTraining/curve', \n",
    "#              dataset='MNIST', \n",
    "#              architecture=architecture, \n",
    "#              N_models=61, check=30)"
   ]
  },
  {
   "cell_type": "code",
   "execution_count": 7,
   "metadata": {},
   "outputs": [],
   "source": [
    "# dataset.shape, B.shape"
   ]
  },
  {
   "cell_type": "code",
   "execution_count": 8,
   "metadata": {},
   "outputs": [],
   "source": [
    "# from flows.models.RNVP import RealNVP, RealNVP_OneLayer\n",
    "# from flows.models.IAF import Flow_IAF\n",
    "# flow_RNVP = RealNVP(in_dim=795, dim_middle=1000, N_layers=5, batch_norm=True)\n",
    "# flow_IAF = Flow_IAF(in_dim=795, dim_middle=1000, N_layers=5, batch_norm=True)\n",
    "\n",
    "# flow_RNVP.load_state_dict(torch.load('/home/anokhin/distribution_connector/flow_models/RealNVP/MNIST/checkpoint-100.pt')['model_state'])\n",
    "# flow_IAF.load_state_dict(torch.load('/home/anokhin/distribution_connector/flow_models/Flow_IAF/MNIST/checkpoint-100.pt')['model_state'])\n",
    "\n",
    "# flows = [flow_RNVP, flow_IAF]\n"
   ]
  },
  {
   "cell_type": "code",
   "execution_count": 9,
   "metadata": {},
   "outputs": [],
   "source": [
    "import os\n",
    "def save_checkpoint(dir, epoch, name='checkpoint', **kwargs):\n",
    "    os.makedirs(dir, exist_ok=True)\n",
    "    state = {\n",
    "        'epoch': epoch,\n",
    "    }\n",
    "    state.update(kwargs)\n",
    "    filepath = os.path.join(dir, '%s-%d.pt' % (name, epoch))\n",
    "    torch.save(state, filepath)\n",
    "\n",
    "def iterate_minibatches(train_data, batchsize):\n",
    "    indices = np.random.permutation(np.arange(len(train_data)))\n",
    "    for start in range(0, len(indices), batchsize):\n",
    "        ix = indices[start: start + batchsize]\n",
    "        yield train_data[ix]\n",
    "\n",
    "results = []\n",
    "results2 = []\n",
    "\n",
    "def train(dataset, model, optimizer, epochs=20, batchsize=512, start_epoch=1, save_freq=100,\n",
    "          scheduler=None, cuda=True, dir=None, test_every=10):\n",
    "    \n",
    "    mnist = [(samples(model1)-dataset_mean)/dataset_std, (samples(model2)-dataset_mean)/dataset_std]\n",
    "    cntr = Connector(*mnist)\n",
    "\n",
    "    for epoch in range(start_epoch, epochs + 1):\n",
    "        \n",
    "        if epoch % test_every == 0:\n",
    "            model.eval()\n",
    "            b = get_b(model1, model2)\n",
    "            print('sampling testing')\n",
    "#             result2 = test_model(model, loaders, cuda=cuda)\n",
    "#             results2.append(result2)\n",
    "            res = model.sample(K=2000).cpu().data.numpy()\n",
    "            res = dataset_std*res+dataset_mean\n",
    "            m = get_model(res, b, architecture)\n",
    "            result2 = test_model(m, loaders)\n",
    "            results2.append(result2)\n",
    "            \n",
    "            print('flow testing')\n",
    "            model.cuda()\n",
    "            model.eval()\n",
    "            res = cntr.flow_connect(model, cuda=True)[1]\n",
    "            res = dataset_std*res+dataset_mean\n",
    "            m = get_model(res, b, architecture)\n",
    "            result = test_model(m, loaders)\n",
    "            results.append(result)\n",
    "            \n",
    "            \n",
    "        scheduler.step()\n",
    "        model.train()\n",
    "\n",
    "        t = time.time()\n",
    "        total_loss = 0\n",
    "\n",
    "        for X in iterate_minibatches(dataset, batchsize):\n",
    "            if cuda:\n",
    "                X = torch.FloatTensor(X).cuda()\n",
    "            else:\n",
    "                X = torch.FloatTensor(X)\n",
    "            loss = -model.log_prob(X).mean()  # compute the maximum-likelihood loss\n",
    "\n",
    "            optimizer.zero_grad()\n",
    "            loss.backward()\n",
    "            optimizer.step()\n",
    "            total_loss += loss\n",
    "\n",
    "        total_loss /= (len(dataset)/batchsize)\n",
    "        print('epoch %s:' % epoch, 'loss = %.3f' % total_loss, 'time = %.2f' % (time.time() - t))\n",
    "        if epoch % save_freq == 0:\n",
    "            save_checkpoint(\n",
    "                dir,\n",
    "                epoch,\n",
    "                model_state=model.state_dict(),\n",
    "                optimizer_state=optimizer.state_dict()\n",
    "            )\n",
    "\n",
    "\n",
    "\n"
   ]
  },
  {
   "cell_type": "code",
   "execution_count": 10,
   "metadata": {},
   "outputs": [],
   "source": [
    "def train_true(dataset, model, optimizer, epochs=20, batchsize=512, start_epoch=1, save_freq=100,\n",
    "          scheduler=None, cuda=True, dir=None, test_every=10):\n",
    "    \n",
    "    mnist = [(samples(model1)-dataset_mean)/dataset_std, (samples(model2)-dataset_mean)/dataset_std]\n",
    "    cntr = Connector(*mnist)\n",
    "\n",
    "    for epoch in range(start_epoch, epochs + 1):\n",
    "        \n",
    "        if epoch % test_every == 0:\n",
    "            result = test_model(model, loaders, cuda=True)\n",
    "            model.eval()\n",
    "            b = get_b(model1, model2)\n",
    "            print('sampling testing')\n",
    "#             result2 = test_model(model, loaders, cuda=cuda)\n",
    "#             results2.append(result2)\n",
    "            res = model.sample(K=2000).cpu().data.numpy()\n",
    "#             res = dataset_std*res+dataset_mean\n",
    "            m = get_model(res, b, architecture)\n",
    "            result2 = test_model(m, loaders)\n",
    "            results2.append(result2)        \n",
    "            \n",
    "        scheduler.step()\n",
    "        model.train()\n",
    "\n",
    "        t = time.time()\n",
    "        total_loss = 0\n",
    "        rand = np.random.permutation(np.arange(15))+1\n",
    "        ind1, ind2 = rand[:2]\n",
    "        print('indeces', ind1, ind2)\n",
    "        model1.load_state_dict(torch.load('curves_mnist/LinearOneLayer/LongTraining/curve'+str(ind1)+'/checkpoint-30.pt')['model_state'])\n",
    "        model2.load_state_dict(torch.load('curves_mnist/LinearOneLayer/LongTraining/curve'+str(ind2)+'/checkpoint-30.pt')['model_state'])\n",
    "        model.model1 = torch.FloatTensor(samples(model1)).cuda()\n",
    "        model.model2 = torch.FloatTensor(samples(model2)).cuda()\n",
    "\n",
    "        train_res = utils.train(loaders['train'], model, optimizer, criterion=F.cross_entropy, regularizer=None, cuda=True)\n",
    "        print(train_res)\n",
    "#         train_res = utils.test(loaders['train'], model, criterion=F.cross_entropy, regularizer=None, cuda=True)\n",
    "#         print(train_res)\n",
    "        print('train flow loglikelihood')\n",
    "        print('='*10)\n",
    "        train(dataset, model, optimizer, epochs=20, batchsize=512, start_epoch=1, save_freq=100,\n",
    "          scheduler=None, cuda=True, dir=None, test_every=10)\n",
    "        print('='*20)\n",
    "\n",
    "        total_loss /= (len(dataset)/batchsize)\n",
    "        print('time = %.2f' % (time.time() - t))\n",
    "        if epoch % save_freq == 0:\n",
    "            save_checkpoint(\n",
    "                dir,\n",
    "                epoch,\n",
    "                model_state=model.state_dict(),\n",
    "                optimizer_state=optimizer.state_dict()\n",
    "            )\n",
    "\n",
    "\n",
    "\n"
   ]
  },
  {
   "cell_type": "markdown",
   "metadata": {},
   "source": [
    "# Train MNIST"
   ]
  },
  {
   "cell_type": "code",
   "execution_count": 25,
   "metadata": {},
   "outputs": [
    {
     "name": "stdout",
     "output_type": "stream",
     "text": [
      "You are going to run models on the test set. Are you sure?\n"
     ]
    },
    {
     "name": "stderr",
     "output_type": "stream",
     "text": [
      "/home/token/anaconda3/lib/python3.7/site-packages/torchvision/datasets/mnist.py:43: UserWarning: train_labels has been renamed targets\n",
      "  warnings.warn(\"train_labels has been renamed targets\")\n"
     ]
    }
   ],
   "source": [
    "import models\n",
    "architecture = getattr(models, \"LinearOneLayer\") #LinearOneLayer LogRegression\n",
    "\n",
    "model1 = architecture.base(num_classes=10, **architecture.kwargs)\n",
    "model2 = architecture.base(num_classes=10, **architecture.kwargs)\n",
    "\n",
    "model1.load_state_dict(torch.load('curves_mnist/LinearOneLayer/LongTraining/curve10/checkpoint-30.pt')['model_state'])\n",
    "model2.load_state_dict(torch.load('curves_mnist/LinearOneLayer/LongTraining/curve20/checkpoint-30.pt')['model_state'])\n",
    "\n",
    "\n",
    "\n",
    "import data\n",
    "loaders, num_classes = data.loaders(\n",
    "    \"MNIST\",\n",
    "    \"data\",\n",
    "    128,\n",
    "    1,\n",
    "    \"VGG\",\n",
    "    True)\n",
    "\n",
    "mnist = [samples(model1), samples(model2)]\n",
    "\n",
    "cntr = Connector(*mnist)\n"
   ]
  },
  {
   "cell_type": "code",
   "execution_count": 26,
   "metadata": {},
   "outputs": [],
   "source": [
    "b = get_b(model1, model2)\n",
    "import pickle\n",
    "data_path = '/home/token/Documents/dnn-mode-connectivity/data/MNIST.pickle'\n",
    "with open(data_path, 'rb') as handle:\n",
    "    dataset, B = pickle.load(handle)\n",
    "B = np.array(B).mean(0)\n",
    "\n",
    "# dataset_mean = dataset.mean(0)\n",
    "# dataset_std = dataset.std(0)\n",
    "# dataset=(dataset-dataset_mean)/dataset_std"
   ]
  },
  {
   "cell_type": "markdown",
   "metadata": {},
   "source": [
    "# Training on Crossentropy"
   ]
  },
  {
   "cell_type": "code",
   "execution_count": 30,
   "metadata": {},
   "outputs": [
    {
     "name": "stdout",
     "output_type": "stream",
     "text": [
      "mask len 6\n"
     ]
    }
   ],
   "source": [
    "from flows.models import Flow_IAF, IAF_OneLayer, IAF_OneLayer_full, RealNVP_OneLayer_full\n",
    "model = RealNVP_OneLayer_full(in_dim=795, dim_middle=1500, N_layers=3, batch_norm=False, data_b2=b.mean(0))\n",
    "\n",
    "\n",
    "from torch.optim.lr_scheduler import StepLR\n",
    "trainable_parametrs = filter(lambda param: param.requires_grad,\n",
    "                             model.parameters())  # list of all trainable parameters in a flow\n",
    "trainable_parametrs = model.parameters()\n",
    "optimizer = torch.optim.Adam(trainable_parametrs, lr=1e-5,\n",
    "                             weight_decay=0)  # choose an optimizer, use module torch.optim\n",
    "\n",
    "scheduler = StepLR(optimizer, step_size=10, gamma=0.1)\n",
    "\n"
   ]
  },
  {
   "cell_type": "code",
   "execution_count": 31,
   "metadata": {},
   "outputs": [],
   "source": [
    "model.cuda()\n",
    "model.model1 = torch.FloatTensor(samples(model1)).cuda()\n",
    "model.model2 = torch.FloatTensor(samples(model2)).cuda()\n"
   ]
  },
  {
   "cell_type": "code",
   "execution_count": null,
   "metadata": {
    "scrolled": false
   },
   "outputs": [
    {
     "name": "stdout",
     "output_type": "stream",
     "text": [
      "indeces 2 1\n",
      "{'loss': 0.08223863598704338, 'accuracy': 97.90166666666667}\n",
      "time = 135.54\n",
      "indeces 3 9\n",
      "{'loss': 0.06686083235343297, 'accuracy': 98.16833333333334}\n",
      "time = 136.77\n",
      "indeces 8 13\n",
      "{'loss': 0.055984488977988564, 'accuracy': 98.28166666666667}\n",
      "time = 134.71\n",
      "indeces 5 13\n",
      "{'loss': 0.05256961345026891, 'accuracy': 98.335}\n",
      "time = 133.76\n",
      "indeces 11 15\n",
      "{'loss': 0.04974227250417074, 'accuracy': 98.38666666666667}\n",
      "time = 133.44\n",
      "indeces 12 14\n",
      "{'loss': 0.04959185170133908, 'accuracy': 98.41166666666666}\n",
      "time = 133.44\n",
      "indeces 13 11\n",
      "{'loss': 0.046497733121116956, 'accuracy': 98.53833333333333}\n",
      "time = 133.33\n",
      "indeces 5 2\n",
      "{'loss': 0.047000288088123, 'accuracy': 98.51}\n",
      "time = 133.38\n",
      "indeces 11 10\n",
      "{'loss': 0.04444396641254425, 'accuracy': 98.61833333333334}\n",
      "time = 133.45\n",
      "train results {'nll': 0.03940325947701931, 'loss': 0.03940325947701931, 'accuracy': 98.77666666666667}\n",
      "test results {'nll': 0.07774653367996216, 'loss': 0.07774653367996216, 'accuracy': 97.73}\n",
      "sampling testing\n",
      "train results {'nll': 6.514026794687907, 'loss': 6.514026794687907, 'accuracy': 12.011666666666667}\n",
      "test results {'nll': 6.568094213104248, 'loss': 6.568094213104248, 'accuracy': 12.1}\n",
      "indeces 7 10\n",
      "{'loss': 0.04365817257563273, 'accuracy': 98.62833333333333}\n",
      "time = 132.16\n",
      "indeces 1 7\n",
      "{'loss': 0.04431809012492498, 'accuracy': 98.55833333333334}\n",
      "time = 137.54\n",
      "indeces 14 7\n",
      "{'loss': 0.04312655049761136, 'accuracy': 98.58833333333334}\n",
      "time = 158.08\n",
      "indeces 4 14\n",
      "{'loss': 0.044498910637696586, 'accuracy': 98.585}\n",
      "time = 157.09\n",
      "indeces 12 2\n",
      "{'loss': 0.042703560939927894, 'accuracy': 98.60333333333334}\n",
      "time = 133.51\n",
      "indeces 4 14\n",
      "{'loss': 0.04062487208843231, 'accuracy': 98.73666666666666}\n",
      "time = 134.26\n",
      "indeces 2 4\n",
      "{'loss': 0.043141758571068445, 'accuracy': 98.61166666666666}\n",
      "time = 134.22\n",
      "indeces 4 10\n",
      "{'loss': 0.041245654061436654, 'accuracy': 98.655}\n",
      "time = 134.37\n",
      "indeces 4 5\n",
      "{'loss': 0.041266138872504236, 'accuracy': 98.70833333333333}\n",
      "time = 133.82\n",
      "indeces 3 14\n",
      "{'loss': 0.0428374994178613, 'accuracy': 98.615}\n",
      "time = 133.58\n",
      "train results {'nll': 0.040239316973090175, 'loss': 0.040239316973090175, 'accuracy': 98.70166666666667}\n",
      "test results {'nll': 0.08024633667469025, 'loss': 0.08024633667469025, 'accuracy': 97.84}\n",
      "sampling testing\n",
      "train results {'nll': 4.615194643147786, 'loss': 4.615194643147786, 'accuracy': 9.085}\n",
      "test results {'nll': 4.637763278198242, 'loss': 4.637763278198242, 'accuracy': 8.93}\n",
      "indeces 11 12\n",
      "{'loss': 0.04185065860946973, 'accuracy': 98.675}\n",
      "time = 133.69\n",
      "indeces 2 8\n",
      "{'loss': 0.04427741816242536, 'accuracy': 98.57833333333333}\n",
      "time = 134.41\n",
      "indeces 7 1\n",
      "{'loss': 0.042094872933626175, 'accuracy': 98.645}\n",
      "time = 134.45\n",
      "indeces 9 12\n",
      "{'loss': 0.042514103944599625, 'accuracy': 98.595}\n",
      "time = 134.41\n",
      "indeces 14 12\n"
     ]
    }
   ],
   "source": [
    "train_true(dataset, model, optimizer, epochs=2000, batchsize=1024, start_epoch=1, save_freq=10,\n",
    "          scheduler=scheduler, cuda=True, \n",
    "          dir='/home/token/Documents/distribution_connector/flow_models', test_every=10)"
   ]
  },
  {
   "cell_type": "code",
   "execution_count": 30,
   "metadata": {},
   "outputs": [],
   "source": [
    "model1.load_state_dict(torch.load('curves_mnist/LinearOneLayer/LongTraining/curve16/checkpoint-30.pt')['model_state'])\n",
    "model2.load_state_dict(torch.load('curves_mnist/LinearOneLayer/LongTraining/curve20/checkpoint-30.pt')['model_state'])\n",
    "model.model1 = torch.FloatTensor(samples(model1)).cuda()\n",
    "model.model2 = torch.FloatTensor(samples(model2)).cuda()\n",
    "\n"
   ]
  },
  {
   "cell_type": "code",
   "execution_count": 31,
   "metadata": {
    "scrolled": false
   },
   "outputs": [
    {
     "name": "stdout",
     "output_type": "stream",
     "text": [
      "train results {'nll': 0.0524389581600825, 'loss': 0.0524389581600825, 'accuracy': 98.18833333333333}\n",
      "test results {'nll': 0.0841685208082199, 'loss': 0.0841685208082199, 'accuracy': 97.42}\n"
     ]
    },
    {
     "data": {
      "text/plain": [
       "({'nll': 0.0524389581600825,\n",
       "  'loss': 0.0524389581600825,\n",
       "  'accuracy': 98.18833333333333},\n",
       " {'nll': 0.0841685208082199, 'loss': 0.0841685208082199, 'accuracy': 97.42})"
      ]
     },
     "execution_count": 31,
     "metadata": {},
     "output_type": "execute_result"
    }
   ],
   "source": [
    "model.p = 0.5\n",
    "test_model(model, loaders, cuda=True)"
   ]
  },
  {
   "cell_type": "markdown",
   "metadata": {},
   "source": [
    "# training usual flow"
   ]
  },
  {
   "cell_type": "code",
   "execution_count": 17,
   "metadata": {},
   "outputs": [],
   "source": [
    "# from flows.models.RNVP import RealNVP, RealNVP_OneLayer\n",
    "# model = RealNVP_OneLayer(in_dim=795, dim_middle=3000, N_layers=2, batch_norm=True, data_b2=b.mean(0))\n",
    "\n",
    "from flows.models.IAF import Flow_IAF, IAF_OneLayer\n",
    "model = IAF_OneLayer(in_dim=795, dim_middle=795, N_layers=8, batch_norm=True, data_b2=b.mean(0))\n",
    "\n",
    "\n",
    "from torch.optim.lr_scheduler import StepLR\n",
    "trainable_parametrs = filter(lambda param: param.requires_grad,\n",
    "                             model.parameters())  # list of all trainable parameters in a flow\n",
    "trainable_parametrs = model.parameters()\n",
    "optimizer = torch.optim.Adam(trainable_parametrs, lr=1e-3,\n",
    "                             weight_decay=0)  # choose an optimizer, use module torch.optim\n",
    "\n",
    "scheduler = StepLR(optimizer, step_size=30, gamma=0.1) "
   ]
  },
  {
   "cell_type": "code",
   "execution_count": 16,
   "metadata": {
    "scrolled": false
   },
   "outputs": [],
   "source": [
    "model.cuda()\n",
    "train(dataset, model, optimizer, epochs=2000, batchsize=1024, start_epoch=1, save_freq=10,\n",
    "          scheduler=scheduler, cuda=True, \n",
    "          dir='/home/token/Documents/distribution_connector/flow_models', test_every=5)"
   ]
  },
  {
   "cell_type": "code",
   "execution_count": 17,
   "metadata": {},
   "outputs": [
    {
     "name": "stdout",
     "output_type": "stream",
     "text": [
      "flow testing\n",
      "train results {'nll': nan, 'loss': nan, 'accuracy': 9.871666666666666}\n",
      "test results {'nll': nan, 'loss': nan, 'accuracy': 9.8}\n"
     ]
    }
   ],
   "source": [
    "print('flow testing')\n",
    "model.cuda()\n",
    "model.eval()\n",
    "res = cntr.flow_connect(model, cuda=True)[1]\n",
    "\n",
    "res = dataset_std*res+dataset_mean\n",
    "m = get_model(res, b, architecture)\n",
    "result = test_model(m, loaders)\n",
    "results.append(result)"
   ]
  },
  {
   "cell_type": "code",
   "execution_count": 18,
   "metadata": {},
   "outputs": [
    {
     "name": "stdout",
     "output_type": "stream",
     "text": [
      "train results {'nll': 2.613150601323446, 'loss': 2.613150601323446, 'accuracy': 8.786666666666667}\n",
      "test results {'nll': 2.630157893371582, 'loss': 2.630157893371582, 'accuracy': 8.6}\n"
     ]
    }
   ],
   "source": [
    "res = model.sample(K=2000).cpu().data.numpy()\n",
    "res = dataset_std*res+dataset_mean\n",
    "m = get_model(res, b, architecture)\n",
    "result2 = test_model(m, loaders)"
   ]
  },
  {
   "cell_type": "code",
   "execution_count": null,
   "metadata": {},
   "outputs": [],
   "source": [
    "results2"
   ]
  },
  {
   "cell_type": "code",
   "execution_count": 50,
   "metadata": {
    "scrolled": false
   },
   "outputs": [
    {
     "data": {
      "text/plain": [
       "0"
      ]
     },
     "execution_count": 50,
     "metadata": {},
     "output_type": "execute_result"
    }
   ],
   "source": [
    "len(results)"
   ]
  },
  {
   "cell_type": "code",
   "execution_count": 51,
   "metadata": {},
   "outputs": [
    {
     "data": {
      "text/plain": [
       "0"
      ]
     },
     "execution_count": 51,
     "metadata": {},
     "output_type": "execute_result"
    }
   ],
   "source": [
    "len(results2)"
   ]
  },
  {
   "cell_type": "code",
   "execution_count": 17,
   "metadata": {},
   "outputs": [
    {
     "data": {
      "text/plain": [
       "[({'nll': 2.308320469526811, 'loss': 2.308320469526811, 'accuracy': 9.8},\n",
       "  {'nll': 2.306293741226196, 'loss': 2.306293741226196, 'accuracy': 10.22}),\n",
       " ({'nll': 2.453471098258279,\n",
       "   'loss': 2.453471098258279,\n",
       "   'accuracy': 7.683636363636364},\n",
       "  {'nll': 2.4490622764587404, 'loss': 2.4490622764587404, 'accuracy': 7.84}),\n",
       " ({'nll': 2.3947739324743096,\n",
       "   'loss': 2.3947739324743096,\n",
       "   'accuracy': 8.314545454545454},\n",
       "  {'nll': 2.387903778076172, 'loss': 2.387903778076172, 'accuracy': 8.64}),\n",
       " ({'nll': 2.350362539256703,\n",
       "   'loss': 2.350362539256703,\n",
       "   'accuracy': 9.023636363636363},\n",
       "  {'nll': 2.3466534309387206, 'loss': 2.3466534309387206, 'accuracy': 9.16}),\n",
       " ({'nll': 2.3957559408014473,\n",
       "   'loss': 2.3957559408014473,\n",
       "   'accuracy': 10.181818181818182},\n",
       "  {'nll': 2.3925726051330565, 'loss': 2.3925726051330565, 'accuracy': 10.76}),\n",
       " ({'nll': 2.3671703203374688,\n",
       "   'loss': 2.3671703203374688,\n",
       "   'accuracy': 10.790909090909091},\n",
       "  {'nll': 2.359107334518433, 'loss': 2.359107334518433, 'accuracy': 11.22}),\n",
       " ({'nll': 2.393869607474587,\n",
       "   'loss': 2.393869607474587,\n",
       "   'accuracy': 9.652727272727272},\n",
       "  {'nll': 2.3860533683776857, 'loss': 2.3860533683776857, 'accuracy': 9.04}),\n",
       " ({'nll': 2.380368641801314,\n",
       "   'loss': 2.380368641801314,\n",
       "   'accuracy': 11.038181818181819},\n",
       "  {'nll': 2.373631461715698, 'loss': 2.373631461715698, 'accuracy': 11.0}),\n",
       " ({'nll': 2.402016558699174,\n",
       "   'loss': 2.402016558699174,\n",
       "   'accuracy': 10.121818181818181},\n",
       "  {'nll': 2.3959682136535645, 'loss': 2.3959682136535645, 'accuracy': 10.08}),\n",
       " ({'nll': 2.374176220668446,\n",
       "   'loss': 2.374176220668446,\n",
       "   'accuracy': 10.350909090909092},\n",
       "  {'nll': 2.3725103355407713, 'loss': 2.3725103355407713, 'accuracy': 10.16}),\n",
       " ({'nll': 2.3499842793204566,\n",
       "   'loss': 2.3499842793204566,\n",
       "   'accuracy': 10.505454545454546},\n",
       "  {'nll': 2.3482591384887694, 'loss': 2.3482591384887694, 'accuracy': 10.1}),\n",
       " ({'nll': 2.3775839179299094,\n",
       "   'loss': 2.3775839179299094,\n",
       "   'accuracy': 10.472727272727273},\n",
       "  {'nll': 2.3726373695373537, 'loss': 2.3726373695373537, 'accuracy': 10.3}),\n",
       " ({'nll': 2.3360549126018175,\n",
       "   'loss': 2.3360549126018175,\n",
       "   'accuracy': 10.694545454545455},\n",
       "  {'nll': 2.331559606552124, 'loss': 2.331559606552124, 'accuracy': 10.5}),\n",
       " ({'nll': 2.3409856637781314,\n",
       "   'loss': 2.3409856637781314,\n",
       "   'accuracy': 10.214545454545455},\n",
       "  {'nll': 2.335261845397949, 'loss': 2.335261845397949, 'accuracy': 10.08}),\n",
       " ({'nll': 2.362385836202448,\n",
       "   'loss': 2.362385836202448,\n",
       "   'accuracy': 10.458181818181819},\n",
       "  {'nll': 2.358723959350586, 'loss': 2.358723959350586, 'accuracy': 10.44}),\n",
       " ({'nll': 2.3753267155387183,\n",
       "   'loss': 2.3753267155387183,\n",
       "   'accuracy': 10.190909090909091},\n",
       "  {'nll': 2.3716465244293214, 'loss': 2.3716465244293214, 'accuracy': 10.1}),\n",
       " ({'nll': 2.3520208444768733,\n",
       "   'loss': 2.3520208444768733,\n",
       "   'accuracy': 10.116363636363637},\n",
       "  {'nll': 2.3495162059783934, 'loss': 2.3495162059783934, 'accuracy': 10.04}),\n",
       " ({'nll': 2.364339915674383,\n",
       "   'loss': 2.364339915674383,\n",
       "   'accuracy': 10.13090909090909},\n",
       "  {'nll': 2.36155665512085, 'loss': 2.36155665512085, 'accuracy': 10.12}),\n",
       " ({'nll': 2.435747380031239,\n",
       "   'loss': 2.435747380031239,\n",
       "   'accuracy': 9.954545454545455},\n",
       "  {'nll': 2.4307839359283445, 'loss': 2.4307839359283445, 'accuracy': 9.9}),\n",
       " ({'nll': 2.386467820184881,\n",
       "   'loss': 2.386467820184881,\n",
       "   'accuracy': 9.932727272727274},\n",
       "  {'nll': 2.381662979507446, 'loss': 2.381662979507446, 'accuracy': 9.96}),\n",
       " ({'nll': 2.3538851397427645,\n",
       "   'loss': 2.3538851397427645,\n",
       "   'accuracy': 10.061818181818182},\n",
       "  {'nll': 2.3510970336914063, 'loss': 2.3510970336914063, 'accuracy': 10.04}),\n",
       " ({'nll': 2.3863343946977094,\n",
       "   'loss': 2.3863343946977094,\n",
       "   'accuracy': 10.078181818181818},\n",
       "  {'nll': 2.3806431491851807, 'loss': 2.3806431491851807, 'accuracy': 10.08}),\n",
       " ({'nll': 2.3422098170193757,\n",
       "   'loss': 2.3422098170193757,\n",
       "   'accuracy': 10.143636363636364},\n",
       "  {'nll': 2.3395389629364014, 'loss': 2.3395389629364014, 'accuracy': 10.18}),\n",
       " ({'nll': 2.4894710375005547, 'loss': 2.4894710375005547, 'accuracy': 9.9},\n",
       "  {'nll': 2.4805282386779783, 'loss': 2.4805282386779783, 'accuracy': 9.96}),\n",
       " ({'nll': 2.3859758589311078,\n",
       "   'loss': 2.3859758589311078,\n",
       "   'accuracy': 9.92909090909091},\n",
       "  {'nll': 2.380069711303711, 'loss': 2.380069711303711, 'accuracy': 9.94}),\n",
       " ({'nll': 2.365138773831454,\n",
       "   'loss': 2.365138773831454,\n",
       "   'accuracy': 10.092727272727272},\n",
       "  {'nll': 2.361604094696045, 'loss': 2.361604094696045, 'accuracy': 10.08}),\n",
       " ({'nll': 2.3431519360282205,\n",
       "   'loss': 2.3431519360282205,\n",
       "   'accuracy': 10.16909090909091},\n",
       "  {'nll': 2.340174240112305, 'loss': 2.340174240112305, 'accuracy': 10.18}),\n",
       " ({'nll': 2.3742154775792903,\n",
       "   'loss': 2.3742154775792903,\n",
       "   'accuracy': 10.252727272727272},\n",
       "  {'nll': 2.3668889251708984, 'loss': 2.3668889251708984, 'accuracy': 10.3}),\n",
       " ({'nll': 2.3584075198433614,\n",
       "   'loss': 2.3584075198433614,\n",
       "   'accuracy': 10.090909090909092},\n",
       "  {'nll': 2.3536383975982664, 'loss': 2.3536383975982664, 'accuracy': 10.08}),\n",
       " ({'nll': 2.338608102312955,\n",
       "   'loss': 2.338608102312955,\n",
       "   'accuracy': 10.005454545454546},\n",
       "  {'nll': 2.333395965576172, 'loss': 2.333395965576172, 'accuracy': 10.02}),\n",
       " ({'nll': 2.4053192680358886,\n",
       "   'loss': 2.4053192680358886,\n",
       "   'accuracy': 9.92909090909091},\n",
       "  {'nll': 2.400388151550293, 'loss': 2.400388151550293, 'accuracy': 9.98}),\n",
       " ({'nll': 2.384226728439331,\n",
       "   'loss': 2.384226728439331,\n",
       "   'accuracy': 10.063636363636364},\n",
       "  {'nll': 2.3778868629455565, 'loss': 2.3778868629455565, 'accuracy': 10.1}),\n",
       " ({'nll': 2.342029435417869,\n",
       "   'loss': 2.342029435417869,\n",
       "   'accuracy': 10.058181818181819},\n",
       "  {'nll': 2.3368361633300783, 'loss': 2.3368361633300783, 'accuracy': 10.1}),\n",
       " ({'nll': 2.36359123878479,\n",
       "   'loss': 2.36359123878479,\n",
       "   'accuracy': 10.094545454545454},\n",
       "  {'nll': 2.3546120498657226, 'loss': 2.3546120498657226, 'accuracy': 10.24}),\n",
       " ({'nll': 2.3757385340603916,\n",
       "   'loss': 2.3757385340603916,\n",
       "   'accuracy': 10.00909090909091},\n",
       "  {'nll': 2.3684091831207277, 'loss': 2.3684091831207277, 'accuracy': 9.98}),\n",
       " ({'nll': 2.4115707055872138,\n",
       "   'loss': 2.4115707055872138,\n",
       "   'accuracy': 9.976363636363637},\n",
       "  {'nll': 2.4080075031280517, 'loss': 2.4080075031280517, 'accuracy': 9.96}),\n",
       " ({'nll': 2.3660693507801405,\n",
       "   'loss': 2.3660693507801405,\n",
       "   'accuracy': 10.25090909090909},\n",
       "  {'nll': 2.359690803527832, 'loss': 2.359690803527832, 'accuracy': 10.08}),\n",
       " ({'nll': 2.36926492247148,\n",
       "   'loss': 2.36926492247148,\n",
       "   'accuracy': 10.005454545454546},\n",
       "  {'nll': 2.3658768730163575, 'loss': 2.3658768730163575, 'accuracy': 10.06}),\n",
       " ({'nll': 2.3487068854245274,\n",
       "   'loss': 2.3487068854245274,\n",
       "   'accuracy': 10.063636363636364},\n",
       "  {'nll': 2.3432359355926513, 'loss': 2.3432359355926513, 'accuracy': 10.1}),\n",
       " ({'nll': 2.3593480057109484,\n",
       "   'loss': 2.3593480057109484,\n",
       "   'accuracy': 10.129090909090909},\n",
       "  {'nll': 2.3550015460968017, 'loss': 2.3550015460968017, 'accuracy': 10.08}),\n",
       " ({'nll': 2.3170477535247804,\n",
       "   'loss': 2.3170477535247804,\n",
       "   'accuracy': 10.33090909090909},\n",
       "  {'nll': 2.3126050270080567, 'loss': 2.3126050270080567, 'accuracy': 10.24}),\n",
       " ({'nll': 2.3493055363741786,\n",
       "   'loss': 2.3493055363741786,\n",
       "   'accuracy': 10.030909090909091},\n",
       "  {'nll': 2.346043655014038, 'loss': 2.346043655014038, 'accuracy': 10.18}),\n",
       " ({'nll': 2.3238578454104335,\n",
       "   'loss': 2.3238578454104335,\n",
       "   'accuracy': 10.194545454545455},\n",
       "  {'nll': 2.3169352001190187, 'loss': 2.3169352001190187, 'accuracy': 10.26}),\n",
       " ({'nll': 2.3099304411801427,\n",
       "   'loss': 2.3099304411801427,\n",
       "   'accuracy': 10.636363636363637},\n",
       "  {'nll': 2.307745645523071, 'loss': 2.307745645523071, 'accuracy': 10.7}),\n",
       " ({'nll': 2.359567231091586,\n",
       "   'loss': 2.359567231091586,\n",
       "   'accuracy': 9.912727272727272},\n",
       "  {'nll': 2.3565769031524657, 'loss': 2.3565769031524657, 'accuracy': 9.98}),\n",
       " ({'nll': 2.3983114532817496,\n",
       "   'loss': 2.3983114532817496,\n",
       "   'accuracy': 10.158181818181818},\n",
       "  {'nll': 2.3927342575073243, 'loss': 2.3927342575073243, 'accuracy': 10.16}),\n",
       " ({'nll': 2.3357786947770554,\n",
       "   'loss': 2.3357786947770554,\n",
       "   'accuracy': 10.52909090909091},\n",
       "  {'nll': 2.3324061023712157, 'loss': 2.3324061023712157, 'accuracy': 10.5}),\n",
       " ({'nll': 2.357399062208696,\n",
       "   'loss': 2.357399062208696,\n",
       "   'accuracy': 10.327272727272728},\n",
       "  {'nll': 2.3538241580963133, 'loss': 2.3538241580963133, 'accuracy': 10.24}),\n",
       " ({'nll': 2.3333469615242697,\n",
       "   'loss': 2.3333469615242697,\n",
       "   'accuracy': 10.26909090909091},\n",
       "  {'nll': 2.3314799880981445, 'loss': 2.3314799880981445, 'accuracy': 10.32}),\n",
       " ({'nll': 2.3093244736411354,\n",
       "   'loss': 2.3093244736411354,\n",
       "   'accuracy': 10.552727272727273},\n",
       "  {'nll': 2.3051465740203856, 'loss': 2.3051465740203856, 'accuracy': 10.72}),\n",
       " ({'nll': 2.336623086721247,\n",
       "   'loss': 2.336623086721247,\n",
       "   'accuracy': 10.054545454545455},\n",
       "  {'nll': 2.332766130065918, 'loss': 2.332766130065918, 'accuracy': 10.36}),\n",
       " ({'nll': 2.3278294636119496,\n",
       "   'loss': 2.3278294636119496,\n",
       "   'accuracy': 10.394545454545455},\n",
       "  {'nll': 2.321936290359497, 'loss': 2.321936290359497, 'accuracy': 10.42}),\n",
       " ({'nll': 2.30755633132241,\n",
       "   'loss': 2.30755633132241,\n",
       "   'accuracy': 10.761818181818182},\n",
       "  {'nll': 2.3045950477600097, 'loss': 2.3045950477600097, 'accuracy': 10.86}),\n",
       " ({'nll': 2.333934897960316,\n",
       "   'loss': 2.333934897960316,\n",
       "   'accuracy': 10.063636363636364},\n",
       "  {'nll': 2.3278070735931395, 'loss': 2.3278070735931395, 'accuracy': 10.04}),\n",
       " ({'nll': 2.305881354869496, 'loss': 2.305881354869496, 'accuracy': 10.52},\n",
       "  {'nll': 2.30389111328125, 'loss': 2.30389111328125, 'accuracy': 10.6}),\n",
       " ({'nll': 2.3222409276788887,\n",
       "   'loss': 2.3222409276788887,\n",
       "   'accuracy': 10.163636363636364},\n",
       "  {'nll': 2.3178256885528565, 'loss': 2.3178256885528565, 'accuracy': 10.16}),\n",
       " ({'nll': 2.3217029793132435,\n",
       "   'loss': 2.3217029793132435,\n",
       "   'accuracy': 10.245454545454546},\n",
       "  {'nll': 2.3158282501220704, 'loss': 2.3158282501220704, 'accuracy': 10.28}),\n",
       " ({'nll': 2.3077342108986594,\n",
       "   'loss': 2.3077342108986594,\n",
       "   'accuracy': 10.485454545454546},\n",
       "  {'nll': 2.3019296257019044, 'loss': 2.3019296257019044, 'accuracy': 10.58}),\n",
       " ({'nll': 2.2960330670443447,\n",
       "   'loss': 2.2960330670443447,\n",
       "   'accuracy': 10.534545454545455},\n",
       "  {'nll': 2.2935861724853517, 'loss': 2.2935861724853517, 'accuracy': 10.66}),\n",
       " ({'nll': 2.315192299374667,\n",
       "   'loss': 2.315192299374667,\n",
       "   'accuracy': 10.454545454545455},\n",
       "  {'nll': 2.3078255447387694, 'loss': 2.3078255447387694, 'accuracy': 10.72}),\n",
       " ({'nll': 2.321730438232422,\n",
       "   'loss': 2.321730438232422,\n",
       "   'accuracy': 10.25090909090909},\n",
       "  {'nll': 2.3149121532440184, 'loss': 2.3149121532440184, 'accuracy': 10.3}),\n",
       " ({'nll': 2.337719528163563, 'loss': 2.337719528163563, 'accuracy': 10.02},\n",
       "  {'nll': 2.3326373832702636, 'loss': 2.3326373832702636, 'accuracy': 10.08}),\n",
       " ({'nll': 2.3258995880820534,\n",
       "   'loss': 2.3258995880820534,\n",
       "   'accuracy': 10.303636363636363},\n",
       "  {'nll': 2.3202712032318114, 'loss': 2.3202712032318114, 'accuracy': 10.42}),\n",
       " ({'nll': 2.326482996264371,\n",
       "   'loss': 2.326482996264371,\n",
       "   'accuracy': 10.536363636363637},\n",
       "  {'nll': 2.3238676418304443, 'loss': 2.3238676418304443, 'accuracy': 10.56}),\n",
       " ({'nll': 2.303856043624878,\n",
       "   'loss': 2.303856043624878,\n",
       "   'accuracy': 10.956363636363637},\n",
       "  {'nll': 2.298337255859375, 'loss': 2.298337255859375, 'accuracy': 11.38}),\n",
       " ({'nll': 2.2924960310502485, 'loss': 2.2924960310502485, 'accuracy': 11.26},\n",
       "  {'nll': 2.2914189498901365, 'loss': 2.2914189498901365, 'accuracy': 11.42}),\n",
       " ({'nll': 2.304661890827526,\n",
       "   'loss': 2.304661890827526,\n",
       "   'accuracy': 10.483636363636364},\n",
       "  {'nll': 2.301018985748291, 'loss': 2.301018985748291, 'accuracy': 10.68}),\n",
       " ({'nll': 2.3213544040333143,\n",
       "   'loss': 2.3213544040333143,\n",
       "   'accuracy': 10.445454545454545},\n",
       "  {'nll': 2.314407914352417, 'loss': 2.314407914352417, 'accuracy': 10.82}),\n",
       " ({'nll': 2.307836602124301,\n",
       "   'loss': 2.307836602124301,\n",
       "   'accuracy': 10.261818181818182},\n",
       "  {'nll': 2.3048189338684084, 'loss': 2.3048189338684084, 'accuracy': 10.46}),\n",
       " ({'nll': 2.2955597607352516,\n",
       "   'loss': 2.2955597607352516,\n",
       "   'accuracy': 10.381818181818181},\n",
       "  {'nll': 2.289110986709595, 'loss': 2.289110986709595, 'accuracy': 10.64}),\n",
       " ({'nll': 2.3304019718516957,\n",
       "   'loss': 2.3304019718516957,\n",
       "   'accuracy': 10.312727272727273},\n",
       "  {'nll': 2.326688716506958, 'loss': 2.326688716506958, 'accuracy': 10.32}),\n",
       " ({'nll': 2.297225761656328,\n",
       "   'loss': 2.297225761656328,\n",
       "   'accuracy': 10.381818181818181},\n",
       "  {'nll': 2.291011221694946, 'loss': 2.291011221694946, 'accuracy': 10.44}),\n",
       " ({'nll': 2.2933990164670077,\n",
       "   'loss': 2.2933990164670077,\n",
       "   'accuracy': 10.91090909090909},\n",
       "  {'nll': 2.289567380142212, 'loss': 2.289567380142212, 'accuracy': 11.24}),\n",
       " ({'nll': 2.3077768169056285,\n",
       "   'loss': 2.3077768169056285,\n",
       "   'accuracy': 10.409090909090908},\n",
       "  {'nll': 2.3040757781982424, 'loss': 2.3040757781982424, 'accuracy': 10.62}),\n",
       " ({'nll': 2.298601837782426,\n",
       "   'loss': 2.298601837782426,\n",
       "   'accuracy': 10.743636363636364},\n",
       "  {'nll': 2.2943780841827395, 'loss': 2.2943780841827395, 'accuracy': 11.12}),\n",
       " ({'nll': 2.3316228807969526,\n",
       "   'loss': 2.3316228807969526,\n",
       "   'accuracy': 10.118181818181819},\n",
       "  {'nll': 2.3271978790283203, 'loss': 2.3271978790283203, 'accuracy': 10.06}),\n",
       " ({'nll': 2.306951304140958,\n",
       "   'loss': 2.306951304140958,\n",
       "   'accuracy': 10.483636363636364},\n",
       "  {'nll': 2.304585892486572, 'loss': 2.304585892486572, 'accuracy': 10.36}),\n",
       " ({'nll': 2.2935752139698375,\n",
       "   'loss': 2.2935752139698375,\n",
       "   'accuracy': 10.569090909090908},\n",
       "  {'nll': 2.292046085739136, 'loss': 2.292046085739136, 'accuracy': 10.7}),\n",
       " ({'nll': 2.289647035113248,\n",
       "   'loss': 2.289647035113248,\n",
       "   'accuracy': 11.585454545454546},\n",
       "  {'nll': 2.2896926433563234, 'loss': 2.2896926433563234, 'accuracy': 12.06}),\n",
       " ({'nll': 2.2794764063054864,\n",
       "   'loss': 2.2794764063054864,\n",
       "   'accuracy': 11.05090909090909},\n",
       "  {'nll': 2.2736083362579347, 'loss': 2.2736083362579347, 'accuracy': 11.48}),\n",
       " ({'nll': 2.2921495665116742,\n",
       "   'loss': 2.2921495665116742,\n",
       "   'accuracy': 10.745454545454546},\n",
       "  {'nll': 2.290110938644409, 'loss': 2.290110938644409, 'accuracy': 10.58}),\n",
       " ({'nll': 2.310052036528154,\n",
       "   'loss': 2.310052036528154,\n",
       "   'accuracy': 10.994545454545454},\n",
       "  {'nll': 2.3064267055511474, 'loss': 2.3064267055511474, 'accuracy': 11.04}),\n",
       " ({'nll': 2.2937428019436923,\n",
       "   'loss': 2.2937428019436923,\n",
       "   'accuracy': 10.316363636363636},\n",
       "  {'nll': 2.2902655715942384, 'loss': 2.2902655715942384, 'accuracy': 10.4}),\n",
       " ({'nll': 2.286537092416937,\n",
       "   'loss': 2.286537092416937,\n",
       "   'accuracy': 11.690909090909091},\n",
       "  {'nll': 2.282142119598389, 'loss': 2.282142119598389, 'accuracy': 12.46}),\n",
       " ({'nll': 2.274763901311701,\n",
       "   'loss': 2.274763901311701,\n",
       "   'accuracy': 11.049090909090909},\n",
       "  {'nll': 2.2732157417297363, 'loss': 2.2732157417297363, 'accuracy': 11.56}),\n",
       " ({'nll': 2.319221496894143,\n",
       "   'loss': 2.319221496894143,\n",
       "   'accuracy': 10.489090909090908},\n",
       "  {'nll': 2.3161856788635253, 'loss': 2.3161856788635253, 'accuracy': 10.32}),\n",
       " ({'nll': 2.299938266372681,\n",
       "   'loss': 2.299938266372681,\n",
       "   'accuracy': 10.547272727272727},\n",
       "  {'nll': 2.2964180774688723, 'loss': 2.2964180774688723, 'accuracy': 10.46}),\n",
       " ({'nll': 2.2996120347456497,\n",
       "   'loss': 2.2996120347456497,\n",
       "   'accuracy': 10.718181818181819},\n",
       "  {'nll': 2.292333444213867, 'loss': 2.292333444213867, 'accuracy': 11.18}),\n",
       " ({'nll': 2.285631435741078,\n",
       "   'loss': 2.285631435741078,\n",
       "   'accuracy': 11.332727272727272},\n",
       "  {'nll': 2.282855583572388, 'loss': 2.282855583572388, 'accuracy': 11.7}),\n",
       " ({'nll': 2.3283345512043345, 'loss': 2.3283345512043345, 'accuracy': 10.2},\n",
       "  {'nll': 2.3259605911254884, 'loss': 2.3259605911254884, 'accuracy': 10.34}),\n",
       " ({'nll': 2.2869219591314143,\n",
       "   'loss': 2.2869219591314143,\n",
       "   'accuracy': 11.181818181818182},\n",
       "  {'nll': 2.28572452583313, 'loss': 2.28572452583313, 'accuracy': 11.58}),\n",
       " ({'nll': 2.2985009820417925,\n",
       "   'loss': 2.2985009820417925,\n",
       "   'accuracy': 10.474545454545455},\n",
       "  {'nll': 2.2965124523162843, 'loss': 2.2965124523162843, 'accuracy': 10.54}),\n",
       " ({'nll': 2.3368830958973277,\n",
       "   'loss': 2.3368830958973277,\n",
       "   'accuracy': 10.243636363636364},\n",
       "  {'nll': 2.334226509857178, 'loss': 2.334226509857178, 'accuracy': 10.22}),\n",
       " ({'nll': 2.267398697905107,\n",
       "   'loss': 2.267398697905107,\n",
       "   'accuracy': 11.318181818181818},\n",
       "  {'nll': 2.260884900665283, 'loss': 2.260884900665283, 'accuracy': 12.0}),\n",
       " ({'nll': 2.2828079265594483,\n",
       "   'loss': 2.2828079265594483,\n",
       "   'accuracy': 11.345454545454546},\n",
       "  {'nll': 2.280963865661621, 'loss': 2.280963865661621, 'accuracy': 11.92}),\n",
       " ({'nll': 2.3402133130507035,\n",
       "   'loss': 2.3402133130507035,\n",
       "   'accuracy': 10.170909090909092},\n",
       "  {'nll': 2.3340531215667726, 'loss': 2.3340531215667726, 'accuracy': 10.22}),\n",
       " ({'nll': 2.2976512484810567,\n",
       "   'loss': 2.2976512484810567,\n",
       "   'accuracy': 11.185454545454546},\n",
       "  {'nll': 2.2949653648376467, 'loss': 2.2949653648376467, 'accuracy': 11.34}),\n",
       " ({'nll': 2.290401045469804,\n",
       "   'loss': 2.290401045469804,\n",
       "   'accuracy': 10.836363636363636},\n",
       "  {'nll': 2.285432999420166, 'loss': 2.285432999420166, 'accuracy': 11.16}),\n",
       " ({'nll': 2.332490667585893,\n",
       "   'loss': 2.332490667585893,\n",
       "   'accuracy': 10.187272727272727},\n",
       "  {'nll': 2.3310371768951414, 'loss': 2.3310371768951414, 'accuracy': 10.24}),\n",
       " ({'nll': 2.2843124492992053,\n",
       "   'loss': 2.2843124492992053,\n",
       "   'accuracy': 10.278181818181817},\n",
       "  {'nll': 2.2820217987060545, 'loss': 2.2820217987060545, 'accuracy': 10.42})]"
      ]
     },
     "execution_count": 17,
     "metadata": {},
     "output_type": "execute_result"
    }
   ],
   "source": [
    "results2"
   ]
  },
  {
   "cell_type": "markdown",
   "metadata": {},
   "source": [
    "# Train CIFAR"
   ]
  },
  {
   "cell_type": "code",
   "execution_count": 10,
   "metadata": {},
   "outputs": [
    {
     "name": "stdout",
     "output_type": "stream",
     "text": [
      "mask len 10\n"
     ]
    }
   ],
   "source": [
    "from flows.models.RNVP import RealNVP\n",
    "from flows.models.IAF import Flow_IAF\n",
    "flow_RNVP = RealNVP(in_dim=3083, dim_middle=1000, N_layers=5, batch_norm=True)\n",
    "flow_IAF = Flow_IAF(in_dim=3083, dim_middle=1000, N_layers=5, batch_norm=True)\n",
    "\n",
    "flow_RNVP.load_state_dict(torch.load('/home/anokhin/distribution_connector/flow_models/RealNVP/CIFAR/checkpoint-100.pt')['model_state'])\n",
    "flow_IAF.load_state_dict(torch.load('/home/anokhin/distribution_connector/flow_models/Flow_IAF/CIFAR/checkpoint-100.pt')['model_state'])\n",
    "\n",
    "flows = [flow_RNVP, flow_IAF]\n"
   ]
  },
  {
   "cell_type": "code",
   "execution_count": 11,
   "metadata": {},
   "outputs": [
    {
     "name": "stdout",
     "output_type": "stream",
     "text": [
      "Files already downloaded and verified\n",
      "Using train (45000) + validation (5000)\n",
      "len 45000\n",
      "Files already downloaded and verified\n"
     ]
    }
   ],
   "source": [
    "import models\n",
    "architecture = getattr(models, \"LinearOneLayerCF\") #LinearOneLayer LogRegression\n",
    "\n",
    "model1 = architecture.base(num_classes=10, **architecture.kwargs)\n",
    "model2 = architecture.base(num_classes=10, **architecture.kwargs)\n",
    "\n",
    "model1.load_state_dict(torch.load('curves/LinearOneLayer/curve1/checkpoint-400.pt')['model_state'])\n",
    "model2.load_state_dict(torch.load('curves/LinearOneLayer/curve2/checkpoint-400.pt')['model_state'])\n",
    "\n",
    "cifar = [samples(model1), samples(model2)]\n",
    "test_datasets = [cifar]\n",
    "\n",
    "import data\n",
    "loaders, num_classes = data.loaders(\n",
    "    \"CIFAR10\",\n",
    "    \"data\",\n",
    "    512,\n",
    "    1,\n",
    "    \"VGG\",\n",
    "    False)"
   ]
  },
  {
   "cell_type": "code",
   "execution_count": 12,
   "metadata": {},
   "outputs": [],
   "source": [
    "cntr = Connector(*cifar)"
   ]
  },
  {
   "cell_type": "code",
   "execution_count": 18,
   "metadata": {},
   "outputs": [],
   "source": [
    "b = get_b(model1, model2)\n",
    "import pickle\n",
    "data_path = '/home/anokhin/dnn-mode-connectivity/data/CIFAR.pickle'\n",
    "with open(data_path, 'rb') as handle:\n",
    "    dataset, B = pickle.load(handle)\n",
    "B = np.array(B).mean(0)"
   ]
  },
  {
   "cell_type": "code",
   "execution_count": 23,
   "metadata": {},
   "outputs": [
    {
     "name": "stdout",
     "output_type": "stream",
     "text": [
      "mask len 4\n"
     ]
    }
   ],
   "source": [
    "model = RealNVP_OneLayer(in_dim=3083, dim_middle=3000, N_layers=2, batch_norm=True, data_b2=b.mean(0))\n",
    "from torch.optim.lr_scheduler import StepLR\n",
    "trainable_parametrs = filter(lambda param: param.requires_grad,\n",
    "                             model.parameters())  # list of all trainable parameters in a flow\n",
    "trainable_parametrs = model.parameters()\n",
    "optimizer = torch.optim.SGD(trainable_parametrs, lr=1e-4,\n",
    "                             weight_decay=1e-4)  # choose an optimizer, use module torch.optim\n",
    "\n",
    "scheduler = StepLR(optimizer, step_size=5, gamma=0.9) "
   ]
  },
  {
   "cell_type": "code",
   "execution_count": 24,
   "metadata": {},
   "outputs": [
    {
     "name": "stdout",
     "output_type": "stream",
     "text": [
      "epoch 1: loss = -9167.361 time = 18.57\n",
      "flow testing\n",
      "train results {'nll': 2.891166934797499, 'loss': 2.891166934797499, 'accuracy': 31.4}\n",
      "test results {'nll': 5.726604048919678, 'loss': 5.726604048919678, 'accuracy': 25.26}\n",
      "epoch 2: loss = -10111.746 time = 18.59\n",
      "flow testing\n",
      "train results {'nll': 2.57101685057746, 'loss': 2.57101685057746, 'accuracy': 33.70666666666666}\n",
      "test results {'nll': 4.805510887145996, 'loss': 4.805510887145996, 'accuracy': 27.68}\n",
      "epoch 3: loss = -10416.328 time = 18.58\n",
      "flow testing\n",
      "train results {'nll': 2.4487291524675157, 'loss': 2.4487291524675157, 'accuracy': 34.33555555555556}\n",
      "test results {'nll': 4.694885636901856, 'loss': 4.694885636901856, 'accuracy': 28.28}\n",
      "epoch 4: loss = -10584.841 time = 18.59\n",
      "flow testing\n",
      "train results {'nll': 2.402907786093818, 'loss': 2.402907786093818, 'accuracy': 34.708888888888886}\n",
      "test results {'nll': 4.667445269012451, 'loss': 4.667445269012451, 'accuracy': 28.36}\n",
      "epoch 5: loss = -10701.868 time = 18.61\n",
      "flow testing\n",
      "train results {'nll': 2.387504099400838, 'loss': 2.387504099400838, 'accuracy': 34.7}\n",
      "test results {'nll': 4.682746948242188, 'loss': 4.682746948242188, 'accuracy': 27.9}\n",
      "epoch 6: loss = -10792.448 time = 18.58\n",
      "flow testing\n",
      "train results {'nll': 2.3852180127037896, 'loss': 2.3852180127037896, 'accuracy': 34.29333333333334}\n",
      "test results {'nll': 4.664405627441406, 'loss': 4.664405627441406, 'accuracy': 27.14}\n",
      "epoch 7: loss = -10861.354 time = 18.60\n",
      "flow testing\n",
      "train results {'nll': 2.3240822625901965, 'loss': 2.3240822625901965, 'accuracy': 35.14888888888889}\n",
      "test results {'nll': 4.400864387512207, 'loss': 4.400864387512207, 'accuracy': 27.8}\n",
      "epoch 8: loss = -10918.358 time = 18.59\n",
      "flow testing\n",
      "train results {'nll': 2.400135622575548, 'loss': 2.400135622575548, 'accuracy': 33.675555555555555}\n",
      "test results {'nll': 4.773088230133057, 'loss': 4.773088230133057, 'accuracy': 26.54}\n"
     ]
    },
    {
     "ename": "KeyboardInterrupt",
     "evalue": "",
     "output_type": "error",
     "traceback": [
      "\u001b[0;31m---------------------------------------------------------------------------\u001b[0m",
      "\u001b[0;31mKeyboardInterrupt\u001b[0m                         Traceback (most recent call last)",
      "\u001b[0;32m<ipython-input-24-c6c0d745f78f>\u001b[0m in \u001b[0;36m<module>\u001b[0;34m\u001b[0m\n\u001b[1;32m      2\u001b[0m \u001b[0mmodel\u001b[0m\u001b[0;34m.\u001b[0m\u001b[0mcuda\u001b[0m\u001b[0;34m(\u001b[0m\u001b[0;34m)\u001b[0m\u001b[0;34m\u001b[0m\u001b[0;34m\u001b[0m\u001b[0m\n\u001b[1;32m      3\u001b[0m train(dataset, model, optimizer, epochs=20, batchsize=128, start_epoch=1, save_freq=100,\n\u001b[0;32m----> 4\u001b[0;31m           scheduler=scheduler, cuda=True, dir=None, test='model')\n\u001b[0m",
      "\u001b[0;32m<ipython-input-9-13705a5547a1>\u001b[0m in \u001b[0;36mtrain\u001b[0;34m(dataset, model, optimizer, epochs, batchsize, start_epoch, save_freq, scheduler, cuda, dir, test)\u001b[0m\n\u001b[1;32m     27\u001b[0m         \u001b[0;32mfor\u001b[0m \u001b[0mX\u001b[0m \u001b[0;32min\u001b[0m \u001b[0miterate_minibatches\u001b[0m\u001b[0;34m(\u001b[0m\u001b[0mdataset\u001b[0m\u001b[0;34m,\u001b[0m \u001b[0mbatchsize\u001b[0m\u001b[0;34m)\u001b[0m\u001b[0;34m:\u001b[0m\u001b[0;34m\u001b[0m\u001b[0;34m\u001b[0m\u001b[0m\n\u001b[1;32m     28\u001b[0m             \u001b[0;32mif\u001b[0m \u001b[0mcuda\u001b[0m\u001b[0;34m:\u001b[0m\u001b[0;34m\u001b[0m\u001b[0;34m\u001b[0m\u001b[0m\n\u001b[0;32m---> 29\u001b[0;31m                 \u001b[0mX\u001b[0m \u001b[0;34m=\u001b[0m \u001b[0mtorch\u001b[0m\u001b[0;34m.\u001b[0m\u001b[0mFloatTensor\u001b[0m\u001b[0;34m(\u001b[0m\u001b[0mX\u001b[0m\u001b[0;34m)\u001b[0m\u001b[0;34m.\u001b[0m\u001b[0mcuda\u001b[0m\u001b[0;34m(\u001b[0m\u001b[0;34m)\u001b[0m\u001b[0;34m\u001b[0m\u001b[0;34m\u001b[0m\u001b[0m\n\u001b[0m\u001b[1;32m     30\u001b[0m             \u001b[0;32melse\u001b[0m\u001b[0;34m:\u001b[0m\u001b[0;34m\u001b[0m\u001b[0;34m\u001b[0m\u001b[0m\n\u001b[1;32m     31\u001b[0m                 \u001b[0mX\u001b[0m \u001b[0;34m=\u001b[0m \u001b[0mtorch\u001b[0m\u001b[0;34m.\u001b[0m\u001b[0mFloatTensor\u001b[0m\u001b[0;34m(\u001b[0m\u001b[0mX\u001b[0m\u001b[0;34m)\u001b[0m\u001b[0;34m\u001b[0m\u001b[0;34m\u001b[0m\u001b[0m\n",
      "\u001b[0;31mKeyboardInterrupt\u001b[0m: "
     ]
    }
   ],
   "source": [
    "import time\n",
    "model.cuda()\n",
    "train(dataset, model, optimizer, epochs=20, batchsize=128, start_epoch=1, save_freq=100,\n",
    "          scheduler=scheduler, cuda=True, dir=None, test='model')"
   ]
  },
  {
   "cell_type": "code",
   "execution_count": 7,
   "metadata": {},
   "outputs": [],
   "source": [
    "# for noisy_normal in noisy_normals:\n",
    "#     noisy_normal[:, 0] -= 0.5*noisy_normal[:, 1]*noisy_normal[:, 1]\n",
    "#     first = (np.diag(third_cumulants[n1])*(1-a-b)).sum(0)"
   ]
  },
  {
   "cell_type": "code",
   "execution_count": 9,
   "metadata": {},
   "outputs": [],
   "source": [
    "# cntr = Connector(*noisy_normals)"
   ]
  },
  {
   "cell_type": "code",
   "execution_count": 10,
   "metadata": {},
   "outputs": [],
   "source": [
    "# th_c = cntr.compute_3cumulant(noisy_normals[0])"
   ]
  },
  {
   "cell_type": "code",
   "execution_count": 11,
   "metadata": {},
   "outputs": [],
   "source": [
    "# delta1 = cntr.compute_flow_delta(th_c, noisy_normals[0])\n",
    "# delta2 = cntr.compute_flow_delta(th_c, noisy_normals[1])"
   ]
  },
  {
   "cell_type": "code",
   "execution_count": 12,
   "metadata": {},
   "outputs": [],
   "source": [
    "# delta.shape, noisy_normals[0].shape"
   ]
  },
  {
   "cell_type": "code",
   "execution_count": 13,
   "metadata": {},
   "outputs": [],
   "source": [
    "# cntr.show_samples(noisy_normals, show='points', limits=False)"
   ]
  },
  {
   "cell_type": "code",
   "execution_count": 14,
   "metadata": {},
   "outputs": [],
   "source": [
    "# noisy_normals_3 = []\n",
    "# noisy_normals_3.append(noisy_normals[0]+delta1)\n",
    "# noisy_normals_3.append(noisy_normals[1]+delta2)"
   ]
  },
  {
   "cell_type": "code",
   "execution_count": 15,
   "metadata": {},
   "outputs": [],
   "source": [
    "# cntr.show_samples(noisy_normals_3, show='points', limits=False)"
   ]
  },
  {
   "cell_type": "code",
   "execution_count": 16,
   "metadata": {},
   "outputs": [],
   "source": [
    "# noisy_normals[0].mean(0), noisy_normals[1].mean(0)"
   ]
  },
  {
   "cell_type": "code",
   "execution_count": 17,
   "metadata": {},
   "outputs": [],
   "source": [
    "# print(noisy_normals[0].T@noisy_normals[0]/1000)\n",
    "# print(noisy_normals[1].T@noisy_normals[1]/1000)"
   ]
  },
  {
   "cell_type": "code",
   "execution_count": 18,
   "metadata": {},
   "outputs": [],
   "source": [
    "# noisy_normals_3[0].mean(0), noisy_normals_3[1].mean(0)"
   ]
  },
  {
   "cell_type": "code",
   "execution_count": 19,
   "metadata": {},
   "outputs": [],
   "source": [
    "# print(noisy_normals_3[0].T@noisy_normals_3[0]/1000)\n",
    "# print(noisy_normals_3[1].T@noisy_normals_3[1]/1000)"
   ]
  },
  {
   "cell_type": "code",
   "execution_count": 20,
   "metadata": {},
   "outputs": [],
   "source": [
    "# th_c"
   ]
  },
  {
   "cell_type": "code",
   "execution_count": 21,
   "metadata": {},
   "outputs": [],
   "source": [
    "# cntr.compute_3cumulant(noisy_normals_3[0])"
   ]
  },
  {
   "cell_type": "code",
   "execution_count": 22,
   "metadata": {},
   "outputs": [],
   "source": [
    "# cntr.compute_3cumulant(noisy_normals_3[1])"
   ]
  },
  {
   "cell_type": "code",
   "execution_count": 23,
   "metadata": {},
   "outputs": [],
   "source": [
    "# test_datasets = [noisy_normals_3]"
   ]
  },
  {
   "cell_type": "code",
   "execution_count": 24,
   "metadata": {},
   "outputs": [],
   "source": [
    "# res = cntr.arc_connect()\n",
    "# cntr.show_samples(res, show='points', limits=False)"
   ]
  },
  {
   "cell_type": "code",
   "execution_count": 25,
   "metadata": {
    "scrolled": false
   },
   "outputs": [],
   "source": [
    "# cntrs = []\n",
    "# results = []\n",
    "# for test in test_datasets:\n",
    "#     cntr = Connector(*test)\n",
    "#     cntrs.append(cntr)\n",
    "#     res = cntr.arc_connect()\n",
    "#     results.append(res)\n",
    "#     cntr.show_samples(res, show='points', limits=False)\n"
   ]
  },
  {
   "cell_type": "code",
   "execution_count": 26,
   "metadata": {},
   "outputs": [],
   "source": [
    "# cntr.compute_3cumulant()"
   ]
  },
  {
   "cell_type": "code",
   "execution_count": 27,
   "metadata": {
    "scrolled": false
   },
   "outputs": [
    {
     "name": "stdout",
     "output_type": "stream",
     "text": [
      "arc_connect\n"
     ]
    },
    {
     "data": {
      "image/png": "[encoded data removed]",
      "text/plain": [
       "<matplotlib.figure.Figure at 0x1a22eaf978>"
      ]
     },
     "metadata": {},
     "output_type": "display_data"
    },
    {
     "name": "stdout",
     "output_type": "stream",
     "text": [
      "flow_connect\n",
      "(2000, 2)\n"
     ]
    },
    {
     "ename": "ValueError",
     "evalue": "expected 2D or 3D input (got 1D input)",
     "output_type": "error",
     "traceback": [
      "\u001b[0;31m---------------------------------------------------------------------------\u001b[0m",
      "\u001b[0;31mValueError\u001b[0m                                Traceback (most recent call last)",
      "\u001b[0;32m<ipython-input-27-00967951ab97>\u001b[0m in \u001b[0;36m<module>\u001b[0;34m()\u001b[0m\n\u001b[1;32m      5\u001b[0m         \u001b[0mprint\u001b[0m\u001b[0;34m(\u001b[0m\u001b[0mfunc\u001b[0m\u001b[0;34m.\u001b[0m\u001b[0m__name__\u001b[0m\u001b[0;34m)\u001b[0m\u001b[0;34m\u001b[0m\u001b[0m\n\u001b[1;32m      6\u001b[0m         \u001b[0;32mif\u001b[0m \u001b[0mfunc\u001b[0m\u001b[0;34m.\u001b[0m\u001b[0m__name__\u001b[0m\u001b[0;34m==\u001b[0m\u001b[0;34m'flow_connect'\u001b[0m\u001b[0;34m:\u001b[0m\u001b[0;34m\u001b[0m\u001b[0m\n\u001b[0;32m----> 7\u001b[0;31m             \u001b[0mres\u001b[0m \u001b[0;34m=\u001b[0m \u001b[0mfunc\u001b[0m\u001b[0;34m(\u001b[0m\u001b[0mflow\u001b[0m\u001b[0;34m)\u001b[0m\u001b[0;34m\u001b[0m\u001b[0m\n\u001b[0m\u001b[1;32m      8\u001b[0m         \u001b[0;32melse\u001b[0m\u001b[0;34m:\u001b[0m\u001b[0;34m\u001b[0m\u001b[0m\n\u001b[1;32m      9\u001b[0m             \u001b[0mres\u001b[0m \u001b[0;34m=\u001b[0m \u001b[0mfunc\u001b[0m\u001b[0;34m(\u001b[0m\u001b[0;34m)\u001b[0m\u001b[0;34m\u001b[0m\u001b[0m\n",
      "\u001b[0;32m~/Documents/thesis/distribution_connector/connector.py\u001b[0m in \u001b[0;36mflow_connect\u001b[0;34m(self, model, t)\u001b[0m\n\u001b[1;32m    224\u001b[0m     \u001b[0;32mdef\u001b[0m \u001b[0mflow_connect\u001b[0m\u001b[0;34m(\u001b[0m\u001b[0mself\u001b[0m\u001b[0;34m,\u001b[0m \u001b[0mmodel\u001b[0m\u001b[0;34m,\u001b[0m \u001b[0mt\u001b[0m\u001b[0;34m=\u001b[0m\u001b[0;36m0.5\u001b[0m\u001b[0;34m)\u001b[0m\u001b[0;34m:\u001b[0m\u001b[0;34m\u001b[0m\u001b[0m\n\u001b[1;32m    225\u001b[0m         return self.transform(use_PSA=False, use_one=False, show=False, use_std=False, inverse=False,\n\u001b[0;32m--> 226\u001b[0;31m                   use_third_cumulant=False, t=t, use_flow=True, flow=model)\n\u001b[0m\u001b[1;32m    227\u001b[0m \u001b[0;34m\u001b[0m\u001b[0m\n\u001b[1;32m    228\u001b[0m     \u001b[0;32mdef\u001b[0m \u001b[0mcompute_3cumulant_delta\u001b[0m\u001b[0;34m(\u001b[0m\u001b[0mself\u001b[0m\u001b[0;34m,\u001b[0m \u001b[0mthird_cumulants\u001b[0m\u001b[0;34m,\u001b[0m \u001b[0mnres1\u001b[0m\u001b[0;34m,\u001b[0m \u001b[0mnres2\u001b[0m\u001b[0;34m,\u001b[0m \u001b[0ma\u001b[0m\u001b[0;34m,\u001b[0m \u001b[0mb\u001b[0m\u001b[0;34m)\u001b[0m\u001b[0;34m:\u001b[0m\u001b[0;34m\u001b[0m\u001b[0m\n",
      "\u001b[0;32m~/Documents/thesis/distribution_connector/connector.py\u001b[0m in \u001b[0;36mtransform\u001b[0;34m(self, use_PSA, use_one, show, use_std, inverse, use_third_cumulant, t, K, use_mean, flow, use_flow, use_lin)\u001b[0m\n\u001b[1;32m     92\u001b[0m             \u001b[0;32mif\u001b[0m \u001b[0mflow\u001b[0m \u001b[0;32mis\u001b[0m \u001b[0;32mnot\u001b[0m \u001b[0;32mNone\u001b[0m\u001b[0;34m:\u001b[0m\u001b[0;34m\u001b[0m\u001b[0m\n\u001b[1;32m     93\u001b[0m                 \u001b[0mprint\u001b[0m\u001b[0;34m(\u001b[0m\u001b[0mS\u001b[0m\u001b[0;34m.\u001b[0m\u001b[0mshape\u001b[0m\u001b[0;34m)\u001b[0m\u001b[0;34m\u001b[0m\u001b[0m\n\u001b[0;32m---> 94\u001b[0;31m                 \u001b[0mS\u001b[0m \u001b[0;34m=\u001b[0m \u001b[0mflow\u001b[0m\u001b[0;34m.\u001b[0m\u001b[0mf\u001b[0m\u001b[0;34m(\u001b[0m\u001b[0mtorch\u001b[0m\u001b[0;34m.\u001b[0m\u001b[0mFloatTensor\u001b[0m\u001b[0;34m(\u001b[0m\u001b[0mS\u001b[0m\u001b[0;34m)\u001b[0m\u001b[0;34m[\u001b[0m\u001b[0;36m0\u001b[0m\u001b[0;34m]\u001b[0m\u001b[0;34m)\u001b[0m\u001b[0;34m.\u001b[0m\u001b[0mdata\u001b[0m\u001b[0;34m.\u001b[0m\u001b[0mcpu\u001b[0m\u001b[0;34m(\u001b[0m\u001b[0;34m)\u001b[0m\u001b[0;34m.\u001b[0m\u001b[0mnumpy\u001b[0m\u001b[0;34m(\u001b[0m\u001b[0;34m)\u001b[0m\u001b[0;34m\u001b[0m\u001b[0m\n\u001b[0m\u001b[1;32m     95\u001b[0m                 \u001b[0mS1\u001b[0m \u001b[0;34m=\u001b[0m \u001b[0mflow\u001b[0m\u001b[0;34m.\u001b[0m\u001b[0mf\u001b[0m\u001b[0;34m(\u001b[0m\u001b[0mtorch\u001b[0m\u001b[0;34m.\u001b[0m\u001b[0mFloatTensor\u001b[0m\u001b[0;34m(\u001b[0m\u001b[0mS1\u001b[0m\u001b[0;34m)\u001b[0m\u001b[0;34m)\u001b[0m\u001b[0;34m[\u001b[0m\u001b[0;36m0\u001b[0m\u001b[0;34m]\u001b[0m\u001b[0;34m.\u001b[0m\u001b[0mdata\u001b[0m\u001b[0;34m.\u001b[0m\u001b[0mcpu\u001b[0m\u001b[0;34m(\u001b[0m\u001b[0;34m)\u001b[0m\u001b[0;34m.\u001b[0m\u001b[0mnumpy\u001b[0m\u001b[0;34m(\u001b[0m\u001b[0;34m)\u001b[0m\u001b[0;34m\u001b[0m\u001b[0m\n\u001b[1;32m     96\u001b[0m                 \u001b[0mS2\u001b[0m \u001b[0;34m=\u001b[0m \u001b[0mflow\u001b[0m\u001b[0;34m.\u001b[0m\u001b[0mf\u001b[0m\u001b[0;34m(\u001b[0m\u001b[0mtorch\u001b[0m\u001b[0;34m.\u001b[0m\u001b[0mFloatTensor\u001b[0m\u001b[0;34m(\u001b[0m\u001b[0mS2\u001b[0m\u001b[0;34m)\u001b[0m\u001b[0;34m)\u001b[0m\u001b[0;34m[\u001b[0m\u001b[0;36m0\u001b[0m\u001b[0;34m]\u001b[0m\u001b[0;34m.\u001b[0m\u001b[0mdata\u001b[0m\u001b[0;34m.\u001b[0m\u001b[0mcpu\u001b[0m\u001b[0;34m(\u001b[0m\u001b[0;34m)\u001b[0m\u001b[0;34m.\u001b[0m\u001b[0mnumpy\u001b[0m\u001b[0;34m(\u001b[0m\u001b[0;34m)\u001b[0m\u001b[0;34m\u001b[0m\u001b[0m\n",
      "\u001b[0;32m~/Documents/thesis/distribution_connector/flows/RNVP.py\u001b[0m in \u001b[0;36mf\u001b[0;34m(self, x)\u001b[0m\n\u001b[1;32m     65\u001b[0m             \u001b[0;32mif\u001b[0m \u001b[0mself\u001b[0m\u001b[0;34m.\u001b[0m\u001b[0mbatch_norm\u001b[0m\u001b[0;34m:\u001b[0m\u001b[0;34m\u001b[0m\u001b[0m\n\u001b[1;32m     66\u001b[0m                 \u001b[0mz\u001b[0m\u001b[0;34m,\u001b[0m \u001b[0msig2\u001b[0m \u001b[0;34m=\u001b[0m \u001b[0mb\u001b[0m\u001b[0;34m(\u001b[0m\u001b[0mz\u001b[0m\u001b[0;34m)\u001b[0m\u001b[0;34m\u001b[0m\u001b[0m\n\u001b[0;32m---> 67\u001b[0;31m             \u001b[0ms_res\u001b[0m \u001b[0;34m=\u001b[0m \u001b[0ms\u001b[0m\u001b[0;34m(\u001b[0m\u001b[0mm\u001b[0m \u001b[0;34m*\u001b[0m \u001b[0mz\u001b[0m\u001b[0;34m)\u001b[0m\u001b[0;34m\u001b[0m\u001b[0m\n\u001b[0m\u001b[1;32m     68\u001b[0m             \u001b[0mz\u001b[0m \u001b[0;34m=\u001b[0m \u001b[0mm\u001b[0m \u001b[0;34m*\u001b[0m \u001b[0mz\u001b[0m \u001b[0;34m+\u001b[0m \u001b[0;34m(\u001b[0m\u001b[0;36m1\u001b[0m \u001b[0;34m-\u001b[0m \u001b[0mm\u001b[0m\u001b[0;34m)\u001b[0m \u001b[0;34m*\u001b[0m \u001b[0;34m(\u001b[0m\u001b[0mz\u001b[0m \u001b[0;34m*\u001b[0m \u001b[0ms_res\u001b[0m\u001b[0;34m.\u001b[0m\u001b[0mexp\u001b[0m\u001b[0;34m(\u001b[0m\u001b[0;34m)\u001b[0m \u001b[0;34m+\u001b[0m \u001b[0mt\u001b[0m\u001b[0;34m(\u001b[0m\u001b[0mm\u001b[0m \u001b[0;34m*\u001b[0m \u001b[0mz\u001b[0m\u001b[0;34m)\u001b[0m\u001b[0;34m)\u001b[0m\u001b[0;34m\u001b[0m\u001b[0m\n\u001b[1;32m     69\u001b[0m \u001b[0;34m\u001b[0m\u001b[0m\n",
      "\u001b[0;32m/anaconda3/lib/python3.6/site-packages/torch/nn/modules/module.py\u001b[0m in \u001b[0;36m__call__\u001b[0;34m(self, *input, **kwargs)\u001b[0m\n\u001b[1;32m    487\u001b[0m             \u001b[0mresult\u001b[0m \u001b[0;34m=\u001b[0m \u001b[0mself\u001b[0m\u001b[0;34m.\u001b[0m\u001b[0m_slow_forward\u001b[0m\u001b[0;34m(\u001b[0m\u001b[0;34m*\u001b[0m\u001b[0minput\u001b[0m\u001b[0;34m,\u001b[0m \u001b[0;34m**\u001b[0m\u001b[0mkwargs\u001b[0m\u001b[0;34m)\u001b[0m\u001b[0;34m\u001b[0m\u001b[0m\n\u001b[1;32m    488\u001b[0m         \u001b[0;32melse\u001b[0m\u001b[0;34m:\u001b[0m\u001b[0;34m\u001b[0m\u001b[0m\n\u001b[0;32m--> 489\u001b[0;31m             \u001b[0mresult\u001b[0m \u001b[0;34m=\u001b[0m \u001b[0mself\u001b[0m\u001b[0;34m.\u001b[0m\u001b[0mforward\u001b[0m\u001b[0;34m(\u001b[0m\u001b[0;34m*\u001b[0m\u001b[0minput\u001b[0m\u001b[0;34m,\u001b[0m \u001b[0;34m**\u001b[0m\u001b[0mkwargs\u001b[0m\u001b[0;34m)\u001b[0m\u001b[0;34m\u001b[0m\u001b[0m\n\u001b[0m\u001b[1;32m    490\u001b[0m         \u001b[0;32mfor\u001b[0m \u001b[0mhook\u001b[0m \u001b[0;32min\u001b[0m \u001b[0mself\u001b[0m\u001b[0;34m.\u001b[0m\u001b[0m_forward_hooks\u001b[0m\u001b[0;34m.\u001b[0m\u001b[0mvalues\u001b[0m\u001b[0;34m(\u001b[0m\u001b[0;34m)\u001b[0m\u001b[0;34m:\u001b[0m\u001b[0;34m\u001b[0m\u001b[0m\n\u001b[1;32m    491\u001b[0m             \u001b[0mhook_result\u001b[0m \u001b[0;34m=\u001b[0m \u001b[0mhook\u001b[0m\u001b[0;34m(\u001b[0m\u001b[0mself\u001b[0m\u001b[0;34m,\u001b[0m \u001b[0minput\u001b[0m\u001b[0;34m,\u001b[0m \u001b[0mresult\u001b[0m\u001b[0;34m)\u001b[0m\u001b[0;34m\u001b[0m\u001b[0m\n",
      "\u001b[0;32m~/Documents/thesis/distribution_connector/flows/layers.py\u001b[0m in \u001b[0;36mforward\u001b[0;34m(self, x)\u001b[0m\n\u001b[1;32m     64\u001b[0m \u001b[0;34m\u001b[0m\u001b[0m\n\u001b[1;32m     65\u001b[0m     \u001b[0;32mdef\u001b[0m \u001b[0mforward\u001b[0m\u001b[0;34m(\u001b[0m\u001b[0mself\u001b[0m\u001b[0;34m,\u001b[0m \u001b[0mx\u001b[0m\u001b[0;34m)\u001b[0m\u001b[0;34m:\u001b[0m\u001b[0;34m\u001b[0m\u001b[0m\n\u001b[0;32m---> 66\u001b[0;31m         \u001b[0mx\u001b[0m \u001b[0;34m=\u001b[0m \u001b[0mself\u001b[0m\u001b[0;34m.\u001b[0m\u001b[0mfc\u001b[0m\u001b[0;34m(\u001b[0m\u001b[0mx\u001b[0m\u001b[0;34m)\u001b[0m\u001b[0;34m\u001b[0m\u001b[0m\n\u001b[0m\u001b[1;32m     67\u001b[0m         \u001b[0;32mreturn\u001b[0m \u001b[0mx\u001b[0m\u001b[0;34m\u001b[0m\u001b[0m\n",
      "\u001b[0;32m/anaconda3/lib/python3.6/site-packages/torch/nn/modules/module.py\u001b[0m in \u001b[0;36m__call__\u001b[0;34m(self, *input, **kwargs)\u001b[0m\n\u001b[1;32m    487\u001b[0m             \u001b[0mresult\u001b[0m \u001b[0;34m=\u001b[0m \u001b[0mself\u001b[0m\u001b[0;34m.\u001b[0m\u001b[0m_slow_forward\u001b[0m\u001b[0;34m(\u001b[0m\u001b[0;34m*\u001b[0m\u001b[0minput\u001b[0m\u001b[0;34m,\u001b[0m \u001b[0;34m**\u001b[0m\u001b[0mkwargs\u001b[0m\u001b[0;34m)\u001b[0m\u001b[0;34m\u001b[0m\u001b[0m\n\u001b[1;32m    488\u001b[0m         \u001b[0;32melse\u001b[0m\u001b[0;34m:\u001b[0m\u001b[0;34m\u001b[0m\u001b[0m\n\u001b[0;32m--> 489\u001b[0;31m             \u001b[0mresult\u001b[0m \u001b[0;34m=\u001b[0m \u001b[0mself\u001b[0m\u001b[0;34m.\u001b[0m\u001b[0mforward\u001b[0m\u001b[0;34m(\u001b[0m\u001b[0;34m*\u001b[0m\u001b[0minput\u001b[0m\u001b[0;34m,\u001b[0m \u001b[0;34m**\u001b[0m\u001b[0mkwargs\u001b[0m\u001b[0;34m)\u001b[0m\u001b[0;34m\u001b[0m\u001b[0m\n\u001b[0m\u001b[1;32m    490\u001b[0m         \u001b[0;32mfor\u001b[0m \u001b[0mhook\u001b[0m \u001b[0;32min\u001b[0m \u001b[0mself\u001b[0m\u001b[0;34m.\u001b[0m\u001b[0m_forward_hooks\u001b[0m\u001b[0;34m.\u001b[0m\u001b[0mvalues\u001b[0m\u001b[0;34m(\u001b[0m\u001b[0;34m)\u001b[0m\u001b[0;34m:\u001b[0m\u001b[0;34m\u001b[0m\u001b[0m\n\u001b[1;32m    491\u001b[0m             \u001b[0mhook_result\u001b[0m \u001b[0;34m=\u001b[0m \u001b[0mhook\u001b[0m\u001b[0;34m(\u001b[0m\u001b[0mself\u001b[0m\u001b[0;34m,\u001b[0m \u001b[0minput\u001b[0m\u001b[0;34m,\u001b[0m \u001b[0mresult\u001b[0m\u001b[0;34m)\u001b[0m\u001b[0;34m\u001b[0m\u001b[0m\n",
      "\u001b[0;32m/anaconda3/lib/python3.6/site-packages/torch/nn/modules/container.py\u001b[0m in \u001b[0;36mforward\u001b[0;34m(self, input)\u001b[0m\n\u001b[1;32m     90\u001b[0m     \u001b[0;32mdef\u001b[0m \u001b[0mforward\u001b[0m\u001b[0;34m(\u001b[0m\u001b[0mself\u001b[0m\u001b[0;34m,\u001b[0m \u001b[0minput\u001b[0m\u001b[0;34m)\u001b[0m\u001b[0;34m:\u001b[0m\u001b[0;34m\u001b[0m\u001b[0m\n\u001b[1;32m     91\u001b[0m         \u001b[0;32mfor\u001b[0m \u001b[0mmodule\u001b[0m \u001b[0;32min\u001b[0m \u001b[0mself\u001b[0m\u001b[0;34m.\u001b[0m\u001b[0m_modules\u001b[0m\u001b[0;34m.\u001b[0m\u001b[0mvalues\u001b[0m\u001b[0;34m(\u001b[0m\u001b[0;34m)\u001b[0m\u001b[0;34m:\u001b[0m\u001b[0;34m\u001b[0m\u001b[0m\n\u001b[0;32m---> 92\u001b[0;31m             \u001b[0minput\u001b[0m \u001b[0;34m=\u001b[0m \u001b[0mmodule\u001b[0m\u001b[0;34m(\u001b[0m\u001b[0minput\u001b[0m\u001b[0;34m)\u001b[0m\u001b[0;34m\u001b[0m\u001b[0m\n\u001b[0m\u001b[1;32m     93\u001b[0m         \u001b[0;32mreturn\u001b[0m \u001b[0minput\u001b[0m\u001b[0;34m\u001b[0m\u001b[0m\n\u001b[1;32m     94\u001b[0m \u001b[0;34m\u001b[0m\u001b[0m\n",
      "\u001b[0;32m/anaconda3/lib/python3.6/site-packages/torch/nn/modules/module.py\u001b[0m in \u001b[0;36m__call__\u001b[0;34m(self, *input, **kwargs)\u001b[0m\n\u001b[1;32m    487\u001b[0m             \u001b[0mresult\u001b[0m \u001b[0;34m=\u001b[0m \u001b[0mself\u001b[0m\u001b[0;34m.\u001b[0m\u001b[0m_slow_forward\u001b[0m\u001b[0;34m(\u001b[0m\u001b[0;34m*\u001b[0m\u001b[0minput\u001b[0m\u001b[0;34m,\u001b[0m \u001b[0;34m**\u001b[0m\u001b[0mkwargs\u001b[0m\u001b[0;34m)\u001b[0m\u001b[0;34m\u001b[0m\u001b[0m\n\u001b[1;32m    488\u001b[0m         \u001b[0;32melse\u001b[0m\u001b[0;34m:\u001b[0m\u001b[0;34m\u001b[0m\u001b[0m\n\u001b[0;32m--> 489\u001b[0;31m             \u001b[0mresult\u001b[0m \u001b[0;34m=\u001b[0m \u001b[0mself\u001b[0m\u001b[0;34m.\u001b[0m\u001b[0mforward\u001b[0m\u001b[0;34m(\u001b[0m\u001b[0;34m*\u001b[0m\u001b[0minput\u001b[0m\u001b[0;34m,\u001b[0m \u001b[0;34m**\u001b[0m\u001b[0mkwargs\u001b[0m\u001b[0;34m)\u001b[0m\u001b[0;34m\u001b[0m\u001b[0m\n\u001b[0m\u001b[1;32m    490\u001b[0m         \u001b[0;32mfor\u001b[0m \u001b[0mhook\u001b[0m \u001b[0;32min\u001b[0m \u001b[0mself\u001b[0m\u001b[0;34m.\u001b[0m\u001b[0m_forward_hooks\u001b[0m\u001b[0;34m.\u001b[0m\u001b[0mvalues\u001b[0m\u001b[0;34m(\u001b[0m\u001b[0;34m)\u001b[0m\u001b[0;34m:\u001b[0m\u001b[0;34m\u001b[0m\u001b[0m\n\u001b[1;32m    491\u001b[0m             \u001b[0mhook_result\u001b[0m \u001b[0;34m=\u001b[0m \u001b[0mhook\u001b[0m\u001b[0;34m(\u001b[0m\u001b[0mself\u001b[0m\u001b[0;34m,\u001b[0m \u001b[0minput\u001b[0m\u001b[0;34m,\u001b[0m \u001b[0mresult\u001b[0m\u001b[0;34m)\u001b[0m\u001b[0;34m\u001b[0m\u001b[0m\n",
      "\u001b[0;32m/anaconda3/lib/python3.6/site-packages/torch/nn/modules/batchnorm.py\u001b[0m in \u001b[0;36mforward\u001b[0;34m(self, input)\u001b[0m\n\u001b[1;32m     58\u001b[0m     \u001b[0;34m@\u001b[0m\u001b[0mweak_script_method\u001b[0m\u001b[0;34m\u001b[0m\u001b[0m\n\u001b[1;32m     59\u001b[0m     \u001b[0;32mdef\u001b[0m \u001b[0mforward\u001b[0m\u001b[0;34m(\u001b[0m\u001b[0mself\u001b[0m\u001b[0;34m,\u001b[0m \u001b[0minput\u001b[0m\u001b[0;34m)\u001b[0m\u001b[0;34m:\u001b[0m\u001b[0;34m\u001b[0m\u001b[0m\n\u001b[0;32m---> 60\u001b[0;31m         \u001b[0mself\u001b[0m\u001b[0;34m.\u001b[0m\u001b[0m_check_input_dim\u001b[0m\u001b[0;34m(\u001b[0m\u001b[0minput\u001b[0m\u001b[0;34m)\u001b[0m\u001b[0;34m\u001b[0m\u001b[0m\n\u001b[0m\u001b[1;32m     61\u001b[0m \u001b[0;34m\u001b[0m\u001b[0m\n\u001b[1;32m     62\u001b[0m         \u001b[0mexponential_average_factor\u001b[0m \u001b[0;34m=\u001b[0m \u001b[0;36m0.0\u001b[0m\u001b[0;34m\u001b[0m\u001b[0m\n",
      "\u001b[0;32m/anaconda3/lib/python3.6/site-packages/torch/nn/modules/batchnorm.py\u001b[0m in \u001b[0;36m_check_input_dim\u001b[0;34m(self, input)\u001b[0m\n\u001b[1;32m    167\u001b[0m         \u001b[0;32mif\u001b[0m \u001b[0minput\u001b[0m\u001b[0;34m.\u001b[0m\u001b[0mdim\u001b[0m\u001b[0;34m(\u001b[0m\u001b[0;34m)\u001b[0m \u001b[0;34m!=\u001b[0m \u001b[0;36m2\u001b[0m \u001b[0;32mand\u001b[0m \u001b[0minput\u001b[0m\u001b[0;34m.\u001b[0m\u001b[0mdim\u001b[0m\u001b[0;34m(\u001b[0m\u001b[0;34m)\u001b[0m \u001b[0;34m!=\u001b[0m \u001b[0;36m3\u001b[0m\u001b[0;34m:\u001b[0m\u001b[0;34m\u001b[0m\u001b[0m\n\u001b[1;32m    168\u001b[0m             raise ValueError('expected 2D or 3D input (got {}D input)'\n\u001b[0;32m--> 169\u001b[0;31m                              .format(input.dim()))\n\u001b[0m\u001b[1;32m    170\u001b[0m \u001b[0;34m\u001b[0m\u001b[0m\n\u001b[1;32m    171\u001b[0m \u001b[0;34m\u001b[0m\u001b[0m\n",
      "\u001b[0;31mValueError\u001b[0m: expected 2D or 3D input (got 1D input)"
     ]
    }
   ],
   "source": [
    "for test in test_datasets:\n",
    "    cntr = Connector(*test)\n",
    "    for f in [func for func in dir(cntr) if callable(getattr(cntr, func)) and 'connect' in func]:\n",
    "        func = getattr(cntr, f)\n",
    "        print(func.__name__)\n",
    "        if func.__name__=='flow_connect':\n",
    "            res = func(flow)\n",
    "        else:\n",
    "            res = func()\n",
    "        cntr.show_samples(res, show='points', limits=False)"
   ]
  },
  {
   "cell_type": "code",
   "execution_count": null,
   "metadata": {},
   "outputs": [],
   "source": []
  },
  {
   "cell_type": "code",
   "execution_count": null,
   "metadata": {},
   "outputs": [],
   "source": []
  }
 ],
 "metadata": {
  "kernelspec": {
   "display_name": "Python 3",
   "language": "python",
   "name": "python3"
  },
  "language_info": {
   "codemirror_mode": {
    "name": "ipython",
    "version": 3
   },
   "file_extension": ".py",
   "mimetype": "text/x-python",
   "name": "python",
   "nbconvert_exporter": "python",
   "pygments_lexer": "ipython3",
   "version": "3.7.3"
  }
 },
 "nbformat": 4,
 "nbformat_minor": 2
}
