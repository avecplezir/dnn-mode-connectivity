{
 "cells": [
  {
   "cell_type": "code",
   "execution_count": 1,
   "metadata": {},
   "outputs": [],
   "source": [
    "import sys\n",
    "sys.path.append('/home/ivan/distribution_connector')\n",
    "import os\n",
    "\n",
    "from sklearn.decomposition import TruncatedSVD\n",
    "\n",
    "import torch.nn.functional as F"
   ]
  },
  {
   "cell_type": "code",
   "execution_count": 2,
   "metadata": {},
   "outputs": [],
   "source": [
    "from sklearn import datasets\n",
    "import numpy as np\n",
    "import torch\n",
    "from tqdm import tqdm\n",
    "from connector_utils import test_models, gather_statistics, test_func\n",
    "import matplotlib.pyplot as plt"
   ]
  },
  {
   "cell_type": "code",
   "execution_count": 4,
   "metadata": {},
   "outputs": [],
   "source": [
    "import torch as th\n",
    "\n",
    "th.cuda.set_device(1)"
   ]
  },
  {
   "cell_type": "code",
   "execution_count": 5,
   "metadata": {},
   "outputs": [],
   "source": [
    "from connector import Connector\n",
    "# from one_layer_utils import samples, make_dataset, get_model, get_b\n",
    "from utils import test_model\n",
    "from utils import test as t"
   ]
  },
  {
   "cell_type": "code",
   "execution_count": 7,
   "metadata": {},
   "outputs": [
    {
     "name": "stdout",
     "output_type": "stream",
     "text": [
      "Files already downloaded and verified\n",
      "You are going to run models on the test set. Are you sure?\n",
      "Files already downloaded and verified\n"
     ]
    },
    {
     "data": {
      "text/plain": [
       "IncompatibleKeys(missing_keys=[], unexpected_keys=[])"
      ]
     },
     "execution_count": 7,
     "metadata": {},
     "output_type": "execute_result"
    }
   ],
   "source": [
    "model_name = 'PreResNet110' # VGG16 Linear3NoBias VGG16h2k\n",
    "\n",
    "import models\n",
    "architecture = getattr(models, model_name) #LinearOneLayer LogRegression\n",
    "\n",
    "import data\n",
    "loaders, num_classes = data.loaders(\n",
    "    \"CIFAR10\",\n",
    "    \"data\",\n",
    "    128,\n",
    "    1,\n",
    "    \"VGG\",\n",
    "    True,\n",
    "    train_random=False,\n",
    "    shuffle_train=False)\n",
    "\n",
    "model1 = architecture.base(num_classes=10, **architecture.kwargs)\n",
    "model2 = architecture.base(num_classes=10, **architecture.kwargs)\n",
    "\n",
    "model1.load_state_dict(torch.load('curves/'+model_name+'/curve1/checkpoint-400.pt')['model_state'])\n",
    "model2.load_state_dict(torch.load('curves/'+model_name+'/curve2/checkpoint-400.pt')['model_state'])\n"
   ]
  },
  {
   "cell_type": "code",
   "execution_count": 8,
   "metadata": {},
   "outputs": [
    {
     "name": "stdout",
     "output_type": "stream",
     "text": [
      "train results {'nll': 9.046747207874433e-05, 'loss': 9.046747207874433e-05, 'accuracy': 100.0}\n",
      "test results {'nll': 0.3858817093849182, 'loss': 0.3858817093849182, 'accuracy': 92.49}\n"
     ]
    }
   ],
   "source": [
    "model1.cuda();\n",
    "model1.eval();\n",
    "_, test = test_model(model1, loaders, cuda=True)"
   ]
  },
  {
   "cell_type": "code",
   "execution_count": 9,
   "metadata": {},
   "outputs": [
    {
     "data": {
      "text/plain": [
       "92.49"
      ]
     },
     "execution_count": 9,
     "metadata": {},
     "output_type": "execute_result"
    }
   ],
   "source": [
    "test['accuracy']"
   ]
  },
  {
   "cell_type": "code",
   "execution_count": 10,
   "metadata": {},
   "outputs": [
    {
     "name": "stdout",
     "output_type": "stream",
     "text": [
      "train results {'nll': 8.442447662120685e-05, 'loss': 8.442447662120685e-05, 'accuracy': 100.0}\n",
      "test results {'nll': 0.42770199084281924, 'loss': 0.42770199084281924, 'accuracy': 92.17}\n"
     ]
    },
    {
     "data": {
      "text/plain": [
       "({'nll': 8.442447662120685e-05,\n",
       "  'loss': 8.442447662120685e-05,\n",
       "  'accuracy': 100.0},\n",
       " {'nll': 0.42770199084281924, 'loss': 0.42770199084281924, 'accuracy': 92.17})"
      ]
     },
     "execution_count": 10,
     "metadata": {},
     "output_type": "execute_result"
    }
   ],
   "source": [
    "model2.cuda();\n",
    "model2.eval();\n",
    "test_model(model2, loaders, cuda=True)"
   ]
  },
  {
   "cell_type": "code",
   "execution_count": 11,
   "metadata": {},
   "outputs": [],
   "source": [
    "targ_test = []\n",
    "for X, y in loaders['test']:\n",
    "    targ_test.append(y)\n",
    "targ_test = np.concatenate(targ_test)\n",
    "\n",
    "targ_train = []\n",
    "for X, y in loaders['train']:\n",
    "    targ_train.append(y)\n",
    "targ_train = np.concatenate(targ_train)\n",
    "\n",
    "targ = {'train': targ_train, 'test': targ_test}"
   ]
  },
  {
   "cell_type": "code",
   "execution_count": 12,
   "metadata": {},
   "outputs": [],
   "source": [
    "def get_pred(model, data_type='train'):\n",
    "    model.cuda()\n",
    "    model.eval()\n",
    "    pred = []\n",
    "    for X, y in loaders[data_type]: \n",
    "        pred.append(model(X.cuda()).cpu().data.numpy())\n",
    "    \n",
    "    pred = np.concatenate(pred)\n",
    "    return pred"
   ]
  },
  {
   "cell_type": "code",
   "execution_count": 13,
   "metadata": {},
   "outputs": [],
   "source": [
    "def get_funcs(model1, data='test', layer=0):\n",
    "    model1.cuda()\n",
    "    model1.eval()\n",
    "    functions = []\n",
    "    for X, y in loaders[data]:\n",
    "        functions.append(model1(X.cuda(), N=layer).cpu().data.numpy())\n",
    "\n",
    "    funcs = np.concatenate(functions)\n",
    "    \n",
    "    return funcs\n",
    "\n",
    "def accuracy(pred, targ, verbose=False):\n",
    "    ens_acc = 100.0 * np.mean(np.argmax(pred, axis=1) == targ)\n",
    "    if verbose:\n",
    "        print(ens_acc)\n",
    "    return ens_acc"
   ]
  },
  {
   "cell_type": "code",
   "execution_count": 14,
   "metadata": {},
   "outputs": [],
   "source": [
    "layer = 0\n",
    "model1.load_state_dict(torch.load('curves/'+model_name+'/curve1/checkpoint-400.pt')['model_state'])\n",
    "fbase_train = get_funcs(model1, data='train', layer=layer)\n",
    "fbase_test = get_funcs(model1, data='test', layer=layer)\n",
    "\n",
    "fbase = {'train': fbase_train, 'test': fbase_test}"
   ]
  },
  {
   "cell_type": "code",
   "execution_count": 32,
   "metadata": {},
   "outputs": [],
   "source": [
    "data_type = 'test'\n",
    "base = 'train'\n",
    "layer_ind = -2\n",
    "\n",
    "fbase_inv = np.linalg.pinv(fbase[base].T)\n",
    "m = architecture.base(num_classes=10, **architecture.kwargs)\n",
    "funcs = []\n",
    "Ws = []\n",
    "bs = []\n",
    "true_accuracy = []\n",
    "cum_pred = 0\n",
    "assemple_accuracy = []\n",
    "beg = 1\n",
    "end = 5\n",
    "\n",
    "for i in range(beg, end):\n",
    "    m.load_state_dict(torch.load('curves/'+model_name+'/curve'+str(i)+'/checkpoint-400.pt')['model_state'])\n",
    "    m.cuda()\n",
    "    pred = get_pred(m, data_type=data_type)\n",
    "    cum_pred += pred\n",
    "    true_accuracy.append(accuracy(pred, targ[data_type]))\n",
    "    assemple_accuracy.append(accuracy(cum_pred, targ[data_type]))\n",
    "    f = get_funcs(m, layer=layer, data=base)\n",
    "    funcs.append(f)\n",
    "    if 'VGG' in model_name or 'Res' in model_name:\n",
    "        W = list(m.parameters())[layer_ind].data.cpu().numpy()\n",
    "        b = list(m.parameters())[layer_ind+1].data.cpu().numpy()\n",
    "    else:\n",
    "        W = list(m.parameters())[-1].data.cpu().numpy()\n",
    "        b = 0\n",
    "    Ws.append(W)\n",
    "    bs.append(b)\n",
    "    \n",
    "    "
   ]
  },
  {
   "cell_type": "code",
   "execution_count": 33,
   "metadata": {},
   "outputs": [
    {
     "data": {
      "text/plain": [
       "([92.49000000000001, 92.17, 92.71000000000001, 92.58],\n",
       " [92.49000000000001, 93.42, 93.94, 94.11])"
      ]
     },
     "execution_count": 33,
     "metadata": {},
     "output_type": "execute_result"
    }
   ],
   "source": [
    "true_accuracy, assemple_accuracy"
   ]
  },
  {
   "cell_type": "code",
   "execution_count": 34,
   "metadata": {},
   "outputs": [
    {
     "data": {
      "text/plain": [
       "((10, 256), (50000, 256))"
      ]
     },
     "execution_count": 34,
     "metadata": {},
     "output_type": "execute_result"
    }
   ],
   "source": [
    "Ws[0].shape, funcs[1].shape"
   ]
  },
  {
   "cell_type": "code",
   "execution_count": 35,
   "metadata": {},
   "outputs": [],
   "source": [
    "with torch.no_grad():\n",
    "    cum_pred = 0\n",
    "    single_VGG = []\n",
    "    Assembled_VGG = []\n",
    "    Wsn = []\n",
    "    for i in range(len(Ws)):\n",
    "        Wsn.append(fbase_inv.T @ funcs[i] @ Ws[i].T)\n",
    "        pred = fbase[data_type] @  Wsn[i] + bs[i]\n",
    "#         pred = funcs[i]\n",
    "#         m.load_state_dict(torch.load('curves/'+model_name+'/curve'+str(beg+i)+'/checkpoint-400.pt')['model_state'])\n",
    "#         m.cuda()\n",
    "#         pred = m.forward_the_rest(torch.FloatTensor(pred).cuda(), N=2).cpu().numpy()\n",
    "        cum_pred += pred\n",
    "        single_VGG.append(accuracy(pred, targ[data_type], verbose=False))\n",
    "        Assembled_VGG.append(accuracy(cum_pred, targ[data_type]))"
   ]
  },
  {
   "cell_type": "code",
   "execution_count": 36,
   "metadata": {},
   "outputs": [
    {
     "data": {
      "text/plain": [
       "([92.49000000000001, 92.46, 92.5, 92.60000000000001],\n",
       " [92.49000000000001, 92.51, 92.47, 92.54])"
      ]
     },
     "execution_count": 36,
     "metadata": {},
     "output_type": "execute_result"
    }
   ],
   "source": [
    "single_VGG, Assembled_VGG"
   ]
  },
  {
   "cell_type": "code",
   "execution_count": 37,
   "metadata": {},
   "outputs": [],
   "source": [
    "# single_VGG = []\n",
    "# Wsn = []\n",
    "# for i in range(len(Ws)):\n",
    "#     Wsn.append(fbase_inv.T @ funcs[i] @ Ws[i].T)\n",
    "#     pred = fbase[data_type] @  Wsn[i] + bs[i]\n",
    "#     single_VGG.append(accuracy(pred, targ[data_type], verbose=False))"
   ]
  },
  {
   "cell_type": "code",
   "execution_count": 38,
   "metadata": {},
   "outputs": [],
   "source": [
    "# Assembled_VGG = []\n",
    "# # beg = 3\n",
    "\n",
    "# for l in range(1, end-beg+1):\n",
    "\n",
    "#     Assemble_W_basis = 0\n",
    "#     Assemble_bias = np.array(bs[:l]).mean(0)\n",
    "\n",
    "#     for i in range(l):\n",
    "#         Assemble_W_basis += Wsn[i]\n",
    "\n",
    "#     Assemble_W_basis /= l\n",
    "\n",
    "#     pred = fbase[data_type] @ Assemble_W_basis + Assemble_bias\n",
    "#     Assembled_VGG.append(accuracy(pred, targ[data_type], verbose=False))\n",
    "\n"
   ]
  },
  {
   "cell_type": "code",
   "execution_count": 39,
   "metadata": {},
   "outputs": [],
   "source": [
    "import matplotlib.pyplot as plt"
   ]
  },
  {
   "cell_type": "code",
   "execution_count": 40,
   "metadata": {},
   "outputs": [
    {
     "data": {
      "text/plain": [
       "[92.49000000000001, 92.51, 92.47, 92.54]"
      ]
     },
     "execution_count": 40,
     "metadata": {},
     "output_type": "execute_result"
    }
   ],
   "source": [
    "Assembled_VGG"
   ]
  },
  {
   "cell_type": "code",
   "execution_count": 41,
   "metadata": {},
   "outputs": [
    {
     "data": {
      "text/plain": [
       "[92.49000000000001, 93.42, 93.94, 94.11]"
      ]
     },
     "execution_count": 41,
     "metadata": {},
     "output_type": "execute_result"
    }
   ],
   "source": [
    "assemple_accuracy"
   ]
  },
  {
   "cell_type": "code",
   "execution_count": 42,
   "metadata": {},
   "outputs": [
    {
     "data": {
      "text/plain": [
       "[92.49000000000001, 92.46, 92.5, 92.60000000000001]"
      ]
     },
     "execution_count": 42,
     "metadata": {},
     "output_type": "execute_result"
    }
   ],
   "source": [
    "single_VGG"
   ]
  },
  {
   "cell_type": "code",
   "execution_count": 43,
   "metadata": {},
   "outputs": [
    {
     "data": {
      "text/plain": [
       "[92.49000000000001, 92.17, 92.71000000000001, 92.58]"
      ]
     },
     "execution_count": 43,
     "metadata": {},
     "output_type": "execute_result"
    }
   ],
   "source": [
    "true_accuracy"
   ]
  },
  {
   "cell_type": "code",
   "execution_count": 44,
   "metadata": {},
   "outputs": [
    {
     "data": {
      "text/plain": [
       "[92.49000000000001, 92.51, 92.47, 92.54]"
      ]
     },
     "execution_count": 44,
     "metadata": {},
     "output_type": "execute_result"
    }
   ],
   "source": [
    "Assembled_VGG"
   ]
  },
  {
   "cell_type": "code",
   "execution_count": 46,
   "metadata": {},
   "outputs": [
    {
     "data": {
      "image/png": "[encoded data removed]",
      "text/plain": [
       "<Figure size 432x288 with 1 Axes>"
      ]
     },
     "metadata": {
      "needs_background": "light"
     },
     "output_type": "display_data"
    }
   ],
   "source": [
    "# from pylab import rcParams\n",
    "# rcParams['figure.figsize'] = 12, 8\n",
    "\n",
    "plt.plot(Assembled_VGG, label='weight averaging', c='b')\n",
    "plt.plot(assemple_accuracy, label='assemble', c='g') \n",
    "plt.plot(single_VGG, 'bo', c='b') #label='single model performance')\n",
    "plt.plot(true_accuracy, 'bo', c='g') #, label='single model performancee')\n",
    "plt.legend()\n",
    "plt.xlabel('N models in assemble')\n",
    "plt.ylabel('accuracy')\n",
    "# plt.title(model_name)\n",
    "plt.show()\n"
   ]
  },
  {
   "cell_type": "code",
   "execution_count": 243,
   "metadata": {},
   "outputs": [
    {
     "data": {
      "image/png": "[encoded data removed]",
      "text/plain": [
       "<Figure size 432x288 with 1 Axes>"
      ]
     },
     "metadata": {
      "needs_background": "light"
     },
     "output_type": "display_data"
    }
   ],
   "source": [
    "# from pylab import rcParams\n",
    "# rcParams['figure.figsize'] = 12, 8\n",
    "\n",
    "plt.plot(Assembled_VGG, label='weight averaging')\n",
    "plt.plot(assemple_accuracy, label='assemble') \n",
    "plt.plot(single_VGG, 'bo', c='b') #, label='single model performance with prseudo inverse')\n",
    "plt.plot(true_accuracy, 'bo', c='g') #, label='single model performance')\n",
    "plt.legend()\n",
    "plt.xlabel('N models in assemble')\n",
    "plt.ylabel('accuracy')\n",
    "# plt.title('VGG16')\n",
    "plt.show()\n"
   ]
  },
  {
   "cell_type": "code",
   "execution_count": 132,
   "metadata": {},
   "outputs": [
    {
     "data": {
      "text/plain": [
       "((512, 10), (10,), (10,))"
      ]
     },
     "execution_count": 132,
     "metadata": {},
     "output_type": "execute_result"
    }
   ],
   "source": [
    "Assemble_W_basis.shape, Assemble_bias.shape, bs[0].shape"
   ]
  },
  {
   "cell_type": "code",
   "execution_count": 133,
   "metadata": {},
   "outputs": [],
   "source": [
    "# Assemble_W_basis = (alphas[0].T @ Ws[0].T+alphas[2].T @ Ws[2].T)/2 "
   ]
  },
  {
   "cell_type": "code",
   "execution_count": 134,
   "metadata": {},
   "outputs": [
    {
     "name": "stdout",
     "output_type": "stream",
     "text": [
      "92.04\n"
     ]
    }
   ],
   "source": [
    "pred = fbase @ betas.T @ Assemble_W_basis + Assemble_bias\n",
    "accuracy(pred)"
   ]
  },
  {
   "cell_type": "code",
   "execution_count": null,
   "metadata": {},
   "outputs": [],
   "source": []
  }
 ],
 "metadata": {
  "kernelspec": {
   "display_name": "Python 3",
   "language": "python",
   "name": "python3"
  },
  "language_info": {
   "codemirror_mode": {
    "name": "ipython",
    "version": 3
   },
   "file_extension": ".py",
   "mimetype": "text/x-python",
   "name": "python",
   "nbconvert_exporter": "python",
   "pygments_lexer": "ipython3",
   "version": "3.6.7"
  }
 },
 "nbformat": 4,
 "nbformat_minor": 2
}
