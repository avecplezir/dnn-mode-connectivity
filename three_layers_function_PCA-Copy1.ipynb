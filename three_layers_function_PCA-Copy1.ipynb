{
 "cells": [
  {
   "cell_type": "code",
   "execution_count": 1,
   "metadata": {},
   "outputs": [],
   "source": [
    "import sys\n",
    "sys.path.append('/home/ivan/distribution_connector')\n",
    "import os\n",
    "\n",
    "from sklearn.decomposition import TruncatedSVD\n"
   ]
  },
  {
   "cell_type": "code",
   "execution_count": 2,
   "metadata": {},
   "outputs": [],
   "source": [
    "from sklearn import datasets\n",
    "import numpy as np\n",
    "import torch\n",
    "from tqdm import tqdm\n",
    "from connector_utils import test_models, gather_statistics, test_func\n",
    "import matplotlib.pyplot as plt"
   ]
  },
  {
   "cell_type": "code",
   "execution_count": 3,
   "metadata": {},
   "outputs": [],
   "source": [
    "from connector import Connector\n",
    "# from one_layer_utils import samples, make_dataset, get_model, get_b\n",
    "from utils import test_model\n",
    "from tqdm import tqdm"
   ]
  },
  {
   "cell_type": "code",
   "execution_count": 7,
   "metadata": {},
   "outputs": [
    {
     "name": "stdout",
     "output_type": "stream",
     "text": [
      "You are going to run models on the test set. Are you sure?\n"
     ]
    },
    {
     "data": {
      "text/plain": [
       "IncompatibleKeys(missing_keys=[], unexpected_keys=[])"
      ]
     },
     "execution_count": 7,
     "metadata": {},
     "output_type": "execute_result"
    }
   ],
   "source": [
    "import models\n",
    "architecture = getattr(models, \"LinearOneLayer\") #LinearOneLayer LogRegression\n",
    "\n",
    "import data\n",
    "loaders, num_classes = data.loaders(\n",
    "    \"MNIST\",\n",
    "    \"data\",\n",
    "    1024,\n",
    "    1,\n",
    "    \"VGG\",\n",
    "    True,\n",
    "    train_random=True,\n",
    "    shuffle_train=False)\n",
    "\n",
    "model1 = architecture.base(num_classes=10, **architecture.kwargs)\n",
    "model2 = architecture.base(num_classes=10, **architecture.kwargs)\n",
    "\n",
    "model1.load_state_dict(torch.load('curves_mnist/LinearOneLayer/LongTraining/curve1/checkpoint-30.pt')['model_state'])\n",
    "model2.load_state_dict(torch.load('curves_mnist/LinearOneLayer/LongTraining/curve2/checkpoint-30.pt')['model_state'])\n"
   ]
  },
  {
   "cell_type": "code",
   "execution_count": 9,
   "metadata": {},
   "outputs": [
    {
     "name": "stderr",
     "output_type": "stream",
     "text": [
      " 33%|███▎      | 1/3 [00:07<00:15,  7.75s/it]"
     ]
    },
    {
     "name": "stdout",
     "output_type": "stream",
     "text": [
      "train results {'nll': 0.03940047733187675, 'loss': 0.03940047733187675, 'accuracy': 99.12833333333333}\n",
      "test results {'nll': 0.06816846108436585, 'loss': 0.06816846108436585, 'accuracy': 97.98}\n"
     ]
    },
    {
     "name": "stderr",
     "output_type": "stream",
     "text": [
      "\r",
      " 67%|██████▋   | 2/3 [00:15<00:07,  7.77s/it]"
     ]
    },
    {
     "name": "stdout",
     "output_type": "stream",
     "text": [
      "train results {'nll': 0.03900473463932673, 'loss': 0.03900473463932673, 'accuracy': 99.13666666666667}\n",
      "test results {'nll': 0.06703689527511597, 'loss': 0.06703689527511597, 'accuracy': 97.99}\n"
     ]
    },
    {
     "name": "stderr",
     "output_type": "stream",
     "text": [
      "\r",
      "100%|██████████| 3/3 [00:23<00:00,  7.82s/it]"
     ]
    },
    {
     "name": "stdout",
     "output_type": "stream",
     "text": [
      "train results {'nll': 0.03899497308731079, 'loss': 0.03899497308731079, 'accuracy': 99.15166666666667}\n",
      "test results {'nll': 0.0677187137722969, 'loss': 0.0677187137722969, 'accuracy': 97.99}\n"
     ]
    },
    {
     "name": "stderr",
     "output_type": "stream",
     "text": [
      "\n"
     ]
    }
   ],
   "source": [
    "model1.cuda()\n",
    "model2.cuda()\n",
    "stat = {'train': [], 'test': []}\n",
    "for i in tqdm(range(3, 6)):\n",
    "    model1.load_state_dict(torch.load('curves_mnist/LinearOneLayer/LongTraining/curve'+str(i)+'/checkpoint-30.pt')['model_state'])\n",
    "    res = test_model(model1, loaders, cuda=True)\n",
    "    stat['train'].append(res[0]['accuracy'])\n",
    "    stat['test'].append(res[1]['accuracy'])\n"
   ]
  },
  {
   "cell_type": "code",
   "execution_count": 10,
   "metadata": {},
   "outputs": [],
   "source": [
    "# np.array(stat['train']).std(), np.array(stat['test']).std()"
   ]
  },
  {
   "cell_type": "code",
   "execution_count": 11,
   "metadata": {},
   "outputs": [],
   "source": [
    "# model1.cuda();\n",
    "# model1.eval();\n",
    "# test_model(model1, loaders, cuda=True)"
   ]
  },
  {
   "cell_type": "code",
   "execution_count": 12,
   "metadata": {},
   "outputs": [],
   "source": [
    "# model2.cuda();\n",
    "# model2.eval();\n",
    "# test_model(model2, loaders, cuda=True)"
   ]
  },
  {
   "cell_type": "code",
   "execution_count": 25,
   "metadata": {},
   "outputs": [],
   "source": [
    "def get_data(data_type='train'):\n",
    "\n",
    "    layer = 0\n",
    "    model1.cuda()\n",
    "    model1.eval()\n",
    "#     functions = []\n",
    "    targ = []\n",
    "    data = []\n",
    "    for X, y in loaders[data_type]:\n",
    "#         print(X.shape)\n",
    "        data.append(X.view(-1,1*28*28).cpu().data.numpy())\n",
    "#         functions.append(model1(X.cuda(), N=layer))\n",
    "        targ.append(y)\n",
    "\n",
    "    data = np.concatenate(data)\n",
    "    targ = np.concatenate(targ)\n",
    "#     funcs = np.concatenate([p.cpu().data.numpy() for p in functions])\n",
    "    \n",
    "    return data, targ"
   ]
  },
  {
   "cell_type": "code",
   "execution_count": 26,
   "metadata": {},
   "outputs": [],
   "source": [
    "data, targ = get_data(data_type='train')"
   ]
  },
  {
   "cell_type": "code",
   "execution_count": 27,
   "metadata": {},
   "outputs": [
    {
     "data": {
      "text/plain": [
       "((60000, 784), (60000,))"
      ]
     },
     "execution_count": 27,
     "metadata": {},
     "output_type": "execute_result"
    }
   ],
   "source": [
    "data.shape, targ.shape"
   ]
  },
  {
   "cell_type": "code",
   "execution_count": 28,
   "metadata": {},
   "outputs": [],
   "source": [
    "data_test, targ_test = get_data(data_type='test')"
   ]
  },
  {
   "cell_type": "code",
   "execution_count": 29,
   "metadata": {},
   "outputs": [],
   "source": [
    "# W10 = list(model1.parameters())[0].data.cpu().numpy()\n",
    "# W20 = list(model2.parameters())[0].data.cpu().numpy()\n",
    "\n",
    "# b10 = list(model1.parameters())[1].data.cpu().numpy()\n",
    "# b20 = list(model2.parameters())[1].data.cpu().numpy()\n",
    "\n",
    "# W11 = list(model1.parameters())[2].data.cpu().numpy()\n",
    "# W21 = list(model2.parameters())[2].data.cpu().numpy()\n",
    "\n",
    "# b11 = list(model1.parameters())[3].data.cpu().numpy()\n",
    "# b21 = list(model2.parameters())[3].data.cpu().numpy()"
   ]
  },
  {
   "cell_type": "code",
   "execution_count": 30,
   "metadata": {},
   "outputs": [],
   "source": [
    "# W10.shape, W11.shape, b10.shape, b11.shape"
   ]
  },
  {
   "cell_type": "code",
   "execution_count": 31,
   "metadata": {},
   "outputs": [],
   "source": [
    "# W10b = np.concatenate([W10, np.expand_dims(b10, axis=1)], axis=1)\n",
    "# W20n = np.concatenate([W20, np.expand_dims(b20, axis=1)], axis=1)"
   ]
  },
  {
   "cell_type": "code",
   "execution_count": 32,
   "metadata": {},
   "outputs": [],
   "source": [
    "def next_layer(W, b, data):\n",
    "    funcs = np.maximum(data @ W.T + b, 0)\n",
    "    return funcs\n",
    "\n",
    "    \n",
    "def accuracy(pred, targ):\n",
    "    ens_acc = 100.0 * np.mean(np.argmax(pred, axis=1) == targ)\n",
    "    return ens_acc\n",
    "\n",
    "def get_pred(W1, b1, W0, b0, data):\n",
    "    pred =  np.maximum( data @ W0.T + b0, 0) @ W1.T  + b1\n",
    "    return pred"
   ]
  },
  {
   "cell_type": "code",
   "execution_count": 33,
   "metadata": {},
   "outputs": [],
   "source": [
    "# data = data[:2000]\n",
    "# targ = targ[:2000]"
   ]
  },
  {
   "cell_type": "code",
   "execution_count": 34,
   "metadata": {},
   "outputs": [],
   "source": [
    "# pred =  np.maximum( data @ W10.T + b10, 0) @ W11.T  + b11\n",
    "# pred_test = np.maximum(data_test @ W10.T + b10, 0) @ W11.T + b11\n",
    "# print(accuracy(pred, targ), accuracy(pred_test, targ_test))"
   ]
  },
  {
   "cell_type": "code",
   "execution_count": 35,
   "metadata": {},
   "outputs": [],
   "source": [
    "# pred.shape, targ.shape, pred_test.shape, targ_test.shape"
   ]
  },
  {
   "cell_type": "code",
   "execution_count": 36,
   "metadata": {},
   "outputs": [],
   "source": [
    "# pred =  np.maximum( data @ W20.T + b20, 0) @ W21.T  + b21\n",
    "# pred_test = np.maximum(data_test @ W20.T + b20, 0) @ W21.T + b21\n",
    "# print(accuracy(pred, targ), accuracy(pred_test, targ_test))"
   ]
  },
  {
   "cell_type": "code",
   "execution_count": 37,
   "metadata": {},
   "outputs": [],
   "source": [
    "# funcs1 = next_layer(W10, b10, data=data)\n",
    "# funcs2  = next_layer(W20, b20, data=data)"
   ]
  },
  {
   "cell_type": "code",
   "execution_count": 38,
   "metadata": {},
   "outputs": [],
   "source": [
    "# f_inv2 = np.linalg.pinv(funcs2.T)\n",
    "# W11b2 = W11 @ funcs1.T @ f_inv2"
   ]
  },
  {
   "cell_type": "code",
   "execution_count": 39,
   "metadata": {},
   "outputs": [],
   "source": [
    "# pred =  get_pred(W20, b20, W11b2, b11, data)\n",
    "# pred_test = get_pred(W20, b20, W11b2, b11, data_test)\n",
    "# print(accuracy(pred, targ), accuracy(pred_test, targ_test))"
   ]
  },
  {
   "cell_type": "code",
   "execution_count": 40,
   "metadata": {},
   "outputs": [],
   "source": [
    "# funcs12 = next_layer(W11, data=funcs1)\n",
    "# funcs22  = next_layer(W21, data=funcs2)"
   ]
  },
  {
   "cell_type": "code",
   "execution_count": 41,
   "metadata": {},
   "outputs": [],
   "source": [
    "# f_inv22 = np.linalg.pinv(funcs22.T)\n",
    "# W12b2 = W12 @ funcs12.T @ f_inv22"
   ]
  },
  {
   "cell_type": "code",
   "execution_count": 42,
   "metadata": {},
   "outputs": [],
   "source": [
    "# pred = W12 @ np.maximum(W11b2 @ np.maximum(W20 @ data.T, 0), 0)\n",
    "# pred_test = W12b2 @ np.maximum(W21 @ np.maximum(W20 @ data_test.T, 0), 0)\n",
    "# print(accuracy(pred.T, targ), accuracy(pred_test.T, targ_test))"
   ]
  },
  {
   "cell_type": "code",
   "execution_count": 46,
   "metadata": {},
   "outputs": [],
   "source": [
    "class PointFinderInverse2():\n",
    "    def __init__(self, model1, model2):\n",
    "        out = {}\n",
    "        self.W10 = list(model1.parameters())[0].data.cpu().numpy()\n",
    "        self.W20 = list(model2.parameters())[0].data.cpu().numpy()\n",
    "\n",
    "        self.b10 = list(model1.parameters())[1].data.cpu().numpy()\n",
    "        self.b20 = list(model2.parameters())[1].data.cpu().numpy()\n",
    "\n",
    "        self.W11 = list(model1.parameters())[2].data.cpu().numpy()\n",
    "        self.W21 = list(model2.parameters())[2].data.cpu().numpy()\n",
    "\n",
    "        self.b11 = list(model1.parameters())[3].data.cpu().numpy()\n",
    "        self.b21 = list(model2.parameters())[3].data.cpu().numpy()\n",
    "\n",
    "        self.funcs11 = next_layer(self.W10, self.b10, data=data) \n",
    "        self.funcs21 = next_layer(self.W20, self.b20, data=data)\n",
    "        \n",
    "        self.f_inv21 = np.linalg.pinv(self.funcs21.T)\n",
    "        self.W11b2 = self.W11 @ self.funcs11.T @ self.f_inv21\n",
    "        \n",
    "        self.W10b = np.concatenate([self.W10, np.expand_dims(self.b10, axis=1)], axis=1)\n",
    "        self.W20b = np.concatenate([self.W20, np.expand_dims(self.b20, axis=1)], axis=1)\n",
    "        \n",
    "    def find_point(self, t=0.5, method='arc_connect'):\n",
    "\n",
    "        out = {}\n",
    "        if 0<=t<=1:\n",
    "            s = t\n",
    "            # go from model1 basic to model2 basis weight in 2th layer\n",
    "            \n",
    "            Wn0 = getattr(Connector(self.W10, self.W20), method)(t=s)[1]\n",
    "            bn0 = getattr(Connector(self.b10, self.b20), method)(t=s)[1]\n",
    "\n",
    "#             Wn0 = getattr(Connector(self.W10b, self.W20b), method)(t=s)[1]\n",
    "#             Wn0 = Wn0[:, :-1]\n",
    "#             bn0 = Wn0[:, -1]\n",
    "            \n",
    "            funcs = next_layer(Wn0, bn0, data=data)\n",
    "            f_inv = np.linalg.pinv(funcs.T)\n",
    "            Wn1 = self.W11 @ self.funcs11.T @ f_inv\n",
    "            \n",
    "            pred = get_pred(Wn1, self.b11, Wn0, bn0, data) \n",
    "            out['train'] = accuracy(pred, targ)\n",
    "\n",
    "            pred_test = get_pred(Wn1, self.b11, Wn0, bn0, data_test)\n",
    "            out['test'] = accuracy(pred_test, targ_test)\n",
    "            \n",
    "        elif 1<t<=2:\n",
    "            s = t - 1\n",
    "            Wn1 = getattr(Connector(self.W11b2, self.W21), method)(t=s)[1]\n",
    "            bn1 = getattr(Connector(self.b11, self.b21), method)(t=s)[1]\n",
    "            \n",
    "            pred = get_pred(Wn1, bn1, self.W20, self.b20, data) \n",
    "            out['train'] = accuracy(pred, targ)\n",
    "\n",
    "            pred_test = pred = get_pred(Wn1, bn1, self.W20, self.b20, data_test) \n",
    "            out['test'] = accuracy(pred_test, targ_test)\n",
    "            \n",
    "        else:\n",
    "            assert not  0<=t<=2, 't is not in [0, 2]'\n",
    "            \n",
    "        print(t, out)\n",
    "\n",
    "        return out"
   ]
  },
  {
   "cell_type": "markdown",
   "metadata": {},
   "source": [
    "# Path Visualization "
   ]
  },
  {
   "cell_type": "code",
   "execution_count": 47,
   "metadata": {},
   "outputs": [],
   "source": [
    "# finder = PointFinderInverse(model1, model2) \n",
    "finder = PointFinderInverse2(model1, model2)"
   ]
  },
  {
   "cell_type": "code",
   "execution_count": 48,
   "metadata": {},
   "outputs": [
    {
     "name": "stdout",
     "output_type": "stream",
     "text": [
      "0.5 {'train': 98.74000000000001, 'test': 97.91}\n"
     ]
    },
    {
     "data": {
      "text/plain": [
       "{'train': 98.74000000000001, 'test': 97.91}"
      ]
     },
     "execution_count": 48,
     "metadata": {},
     "output_type": "execute_result"
    }
   ],
   "source": [
    "point3 = finder.find_point(t=.5, method='arc_connect')\n",
    "point3"
   ]
  },
  {
   "cell_type": "code",
   "execution_count": 49,
   "metadata": {},
   "outputs": [
    {
     "name": "stdout",
     "output_type": "stream",
     "text": [
      "0 {'train': 99.15166666666667, 'test': 97.99}\n"
     ]
    }
   ],
   "source": [
    "point = finder.find_point(t=0, method='arc_connect')"
   ]
  },
  {
   "cell_type": "code",
   "execution_count": 50,
   "metadata": {},
   "outputs": [
    {
     "data": {
      "text/plain": [
       "{'train': 99.15166666666667, 'test': 97.99}"
      ]
     },
     "execution_count": 50,
     "metadata": {},
     "output_type": "execute_result"
    }
   ],
   "source": [
    "point"
   ]
  },
  {
   "cell_type": "code",
   "execution_count": 51,
   "metadata": {},
   "outputs": [
    {
     "name": "stdout",
     "output_type": "stream",
     "text": [
      "1 {'train': 99.06833333333334, 'test': 98.00999999999999}\n"
     ]
    },
    {
     "data": {
      "text/plain": [
       "{'train': 99.06833333333334, 'test': 98.00999999999999}"
      ]
     },
     "execution_count": 51,
     "metadata": {},
     "output_type": "execute_result"
    }
   ],
   "source": [
    "point1 = finder.find_point(t=1, method='arc_connect')\n",
    "point1"
   ]
  },
  {
   "cell_type": "code",
   "execution_count": 52,
   "metadata": {},
   "outputs": [
    {
     "name": "stdout",
     "output_type": "stream",
     "text": [
      "2 {'train': 99.14500000000001, 'test': 98.03}\n"
     ]
    },
    {
     "data": {
      "text/plain": [
       "{'train': 99.14500000000001, 'test': 98.03}"
      ]
     },
     "execution_count": 52,
     "metadata": {},
     "output_type": "execute_result"
    }
   ],
   "source": [
    "point2 = finder.find_point(t=2, method='arc_connect')\n",
    "point2"
   ]
  },
  {
   "cell_type": "code",
   "execution_count": 53,
   "metadata": {},
   "outputs": [
    {
     "name": "stdout",
     "output_type": "stream",
     "text": [
      "0.5 {'train': 98.76166666666667, 'test': 97.89}\n"
     ]
    },
    {
     "data": {
      "text/plain": [
       "{'train': 98.76166666666667, 'test': 97.89}"
      ]
     },
     "execution_count": 53,
     "metadata": {},
     "output_type": "execute_result"
    }
   ],
   "source": [
    "point3 = finder.find_point(t=.5, method='lin_connect')\n",
    "point3"
   ]
  },
  {
   "cell_type": "code",
   "execution_count": 54,
   "metadata": {},
   "outputs": [
    {
     "name": "stdout",
     "output_type": "stream",
     "text": [
      "1.5 {'train': 99.11666666666666, 'test': 98.06}\n"
     ]
    },
    {
     "data": {
      "text/plain": [
       "{'train': 99.11666666666666, 'test': 98.06}"
      ]
     },
     "execution_count": 54,
     "metadata": {},
     "output_type": "execute_result"
    }
   ],
   "source": [
    "point3 = finder.find_point(t=1.5, method='arc_connect')\n",
    "point3"
   ]
  },
  {
   "cell_type": "code",
   "execution_count": 55,
   "metadata": {},
   "outputs": [],
   "source": [
    "time = np.linspace(0, 2, 9)"
   ]
  },
  {
   "cell_type": "code",
   "execution_count": 56,
   "metadata": {},
   "outputs": [
    {
     "data": {
      "text/plain": [
       "array([0.  , 0.25, 0.5 , 0.75, 1.  , 1.25, 1.5 , 1.75, 2.  ])"
      ]
     },
     "execution_count": 56,
     "metadata": {},
     "output_type": "execute_result"
    }
   ],
   "source": [
    "time"
   ]
  },
  {
   "cell_type": "code",
   "execution_count": 57,
   "metadata": {},
   "outputs": [
    {
     "data": {
      "text/plain": [
       "{'train': 99.15166666666667, 'test': 97.99}"
      ]
     },
     "execution_count": 57,
     "metadata": {},
     "output_type": "execute_result"
    }
   ],
   "source": [
    "point"
   ]
  },
  {
   "cell_type": "code",
   "execution_count": 58,
   "metadata": {
    "scrolled": false
   },
   "outputs": [
    {
     "name": "stderr",
     "output_type": "stream",
     "text": [
      " 11%|█         | 1/9 [00:14<01:58, 14.78s/it]"
     ]
    },
    {
     "name": "stdout",
     "output_type": "stream",
     "text": [
      "0.0 {'train': 99.15166666666667, 'test': 97.99}\n"
     ]
    },
    {
     "name": "stderr",
     "output_type": "stream",
     "text": [
      "\r",
      " 22%|██▏       | 2/9 [00:29<01:43, 14.77s/it]"
     ]
    },
    {
     "name": "stdout",
     "output_type": "stream",
     "text": [
      "0.25 {'train': 98.97, 'test': 97.92999999999999}\n"
     ]
    },
    {
     "name": "stderr",
     "output_type": "stream",
     "text": [
      "\r",
      " 33%|███▎      | 3/9 [00:44<01:28, 14.77s/it]"
     ]
    },
    {
     "name": "stdout",
     "output_type": "stream",
     "text": [
      "0.5 {'train': 98.74000000000001, 'test': 97.91}\n"
     ]
    },
    {
     "name": "stderr",
     "output_type": "stream",
     "text": [
      "\r",
      " 44%|████▍     | 4/9 [00:59<01:13, 14.77s/it]"
     ]
    },
    {
     "name": "stdout",
     "output_type": "stream",
     "text": [
      "0.75 {'train': 98.87, 'test': 98.05}\n"
     ]
    },
    {
     "name": "stderr",
     "output_type": "stream",
     "text": [
      "\r",
      " 56%|█████▌    | 5/9 [01:13<00:59, 14.76s/it]"
     ]
    },
    {
     "name": "stdout",
     "output_type": "stream",
     "text": [
      "1.0 {'train': 99.06833333333334, 'test': 98.00999999999999}\n"
     ]
    },
    {
     "name": "stderr",
     "output_type": "stream",
     "text": [
      "\r",
      " 67%|██████▋   | 6/9 [01:15<00:32, 10.72s/it]"
     ]
    },
    {
     "name": "stdout",
     "output_type": "stream",
     "text": [
      "1.25 {'train': 99.08333333333333, 'test': 98.02}\n"
     ]
    },
    {
     "name": "stderr",
     "output_type": "stream",
     "text": [
      "\r",
      " 78%|███████▊  | 7/9 [01:16<00:15,  7.90s/it]"
     ]
    },
    {
     "name": "stdout",
     "output_type": "stream",
     "text": [
      "1.5 {'train': 99.11666666666666, 'test': 98.06}\n"
     ]
    },
    {
     "name": "stderr",
     "output_type": "stream",
     "text": [
      "\r",
      " 89%|████████▉ | 8/9 [01:17<00:05,  5.92s/it]"
     ]
    },
    {
     "name": "stdout",
     "output_type": "stream",
     "text": [
      "1.75 {'train': 99.14333333333335, 'test': 98.05}\n"
     ]
    },
    {
     "name": "stderr",
     "output_type": "stream",
     "text": [
      "\r",
      "100%|██████████| 9/9 [01:19<00:00,  4.54s/it]"
     ]
    },
    {
     "name": "stdout",
     "output_type": "stream",
     "text": [
      "2.0 {'train': 99.14500000000001, 'test': 98.03}\n"
     ]
    },
    {
     "name": "stderr",
     "output_type": "stream",
     "text": [
      "\n"
     ]
    }
   ],
   "source": [
    "path = {'test': [], 'train': []}\n",
    "for t in tqdm(time):\n",
    "    point = finder.find_point(t=t, method='arc_connect')\n",
    "    path['test'].append(100-point['test']) \n",
    "    path['train'].append(100-point['train']) "
   ]
  },
  {
   "cell_type": "code",
   "execution_count": 59,
   "metadata": {},
   "outputs": [
    {
     "data": {
      "text/plain": [
       "array([99.15166667, 98.97      , 98.74      , 98.87      , 99.06833333,\n",
       "       99.08333333, 99.11666667, 99.14333333, 99.145     ])"
      ]
     },
     "execution_count": 59,
     "metadata": {},
     "output_type": "execute_result"
    }
   ],
   "source": [
    "100 - np.array(path['train'])"
   ]
  },
  {
   "cell_type": "code",
   "execution_count": 60,
   "metadata": {},
   "outputs": [
    {
     "data": {
      "text/plain": [
       "array([97.99, 97.93, 97.91, 98.05, 98.01, 98.02, 98.06, 98.05, 98.03])"
      ]
     },
     "execution_count": 60,
     "metadata": {},
     "output_type": "execute_result"
    }
   ],
   "source": [
    "100 - np.array(path['test'])"
   ]
  },
  {
   "cell_type": "code",
   "execution_count": 61,
   "metadata": {},
   "outputs": [
    {
     "data": {
      "image/png": "[encoded data removed]",
      "text/plain": [
       "<Figure size 432x288 with 1 Axes>"
      ]
     },
     "metadata": {
      "needs_background": "light"
     },
     "output_type": "display_data"
    }
   ],
   "source": [
    "plt.plot(time, path['train'], label='train')\n",
    "plt.plot(time, path['test'], label='test') \n",
    "plt.legend()\n",
    "plt.xlabel('time')\n",
    "plt.ylabel('error (%)')\n",
    "plt.show()"
   ]
  },
  {
   "cell_type": "code",
   "execution_count": 62,
   "metadata": {},
   "outputs": [
    {
     "name": "stderr",
     "output_type": "stream",
     "text": [
      " 11%|█         | 1/9 [00:14<01:57, 14.74s/it]"
     ]
    },
    {
     "name": "stdout",
     "output_type": "stream",
     "text": [
      "0.0 {'train': 99.15166666666667, 'test': 97.99}\n"
     ]
    },
    {
     "name": "stderr",
     "output_type": "stream",
     "text": [
      "\r",
      " 22%|██▏       | 2/9 [00:29<01:43, 14.74s/it]"
     ]
    },
    {
     "name": "stdout",
     "output_type": "stream",
     "text": [
      "0.25 {'train': 99.0, 'test': 97.92}\n"
     ]
    },
    {
     "name": "stderr",
     "output_type": "stream",
     "text": [
      "\r",
      " 33%|███▎      | 3/9 [00:44<01:28, 14.75s/it]"
     ]
    },
    {
     "name": "stdout",
     "output_type": "stream",
     "text": [
      "0.5 {'train': 98.76166666666667, 'test': 97.89}\n"
     ]
    },
    {
     "name": "stderr",
     "output_type": "stream",
     "text": [
      "\r",
      " 44%|████▍     | 4/9 [00:59<01:13, 14.75s/it]"
     ]
    },
    {
     "name": "stdout",
     "output_type": "stream",
     "text": [
      "0.75 {'train': 98.91, 'test': 98.03}\n"
     ]
    },
    {
     "name": "stderr",
     "output_type": "stream",
     "text": [
      "\r",
      " 56%|█████▌    | 5/9 [01:13<00:59, 14.75s/it]"
     ]
    },
    {
     "name": "stdout",
     "output_type": "stream",
     "text": [
      "1.0 {'train': 99.06833333333334, 'test': 98.00999999999999}\n"
     ]
    },
    {
     "name": "stderr",
     "output_type": "stream",
     "text": [
      "\r",
      " 67%|██████▋   | 6/9 [01:15<00:32, 10.72s/it]"
     ]
    },
    {
     "name": "stdout",
     "output_type": "stream",
     "text": [
      "1.25 {'train': 99.08666666666667, 'test': 98.02}\n"
     ]
    },
    {
     "name": "stderr",
     "output_type": "stream",
     "text": [
      "\r",
      " 78%|███████▊  | 7/9 [01:16<00:15,  7.90s/it]"
     ]
    },
    {
     "name": "stdout",
     "output_type": "stream",
     "text": [
      "1.5 {'train': 99.11666666666666, 'test': 98.05}\n"
     ]
    },
    {
     "name": "stderr",
     "output_type": "stream",
     "text": [
      "\r",
      " 89%|████████▉ | 8/9 [01:17<00:05,  5.92s/it]"
     ]
    },
    {
     "name": "stdout",
     "output_type": "stream",
     "text": [
      "1.75 {'train': 99.14, 'test': 98.03}\n"
     ]
    },
    {
     "name": "stderr",
     "output_type": "stream",
     "text": [
      "\r",
      "100%|██████████| 9/9 [01:18<00:00,  4.54s/it]"
     ]
    },
    {
     "name": "stdout",
     "output_type": "stream",
     "text": [
      "2.0 {'train': 99.14500000000001, 'test': 98.03}\n"
     ]
    },
    {
     "name": "stderr",
     "output_type": "stream",
     "text": [
      "\n"
     ]
    }
   ],
   "source": [
    "path_l = {'test': [], 'train': []}\n",
    "for t in tqdm(time):\n",
    "    point = finder.find_point(t=t, method='lin_connect')\n",
    "    path_l['test'].append(100-point['test']) \n",
    "    path_l['train'].append(100-point['train']) "
   ]
  },
  {
   "cell_type": "code",
   "execution_count": 63,
   "metadata": {},
   "outputs": [
    {
     "data": {
      "image/png": "[encoded data removed]",
      "text/plain": [
       "<Figure size 432x288 with 1 Axes>"
      ]
     },
     "metadata": {
      "needs_background": "light"
     },
     "output_type": "display_data"
    }
   ],
   "source": [
    "plt.plot(time, path_l['train'], label='train')\n",
    "plt.plot(time, path_l['test'], label='test') \n",
    "plt.legend()\n",
    "plt.xlabel('time')\n",
    "plt.ylabel('error (%)')\n",
    "plt.show()"
   ]
  },
  {
   "cell_type": "markdown",
   "metadata": {},
   "source": [
    "# Count statistic in the fixed point"
   ]
  },
  {
   "cell_type": "code",
   "execution_count": 71,
   "metadata": {},
   "outputs": [],
   "source": [
    "def get_stat(pointfinder, t=.5, method='arc_connect'):\n",
    "    stat = {'test': [], 'train': []}\n",
    "    for i in tqdm(range(1, 19)):\n",
    "        model1.load_state_dict(torch.load('curves_mnist/LinearOneLayer/LongTraining/curve'+str(i)+'/checkpoint-30.pt')['model_state'])\n",
    "        model2.load_state_dict(torch.load('curves_mnist/LinearOneLayer/LongTraining/curve'+str(i+1)+'/checkpoint-30.pt')['model_state'])\n",
    "        finder = pointfinder(model1, model2) \n",
    "        point = finder.find_point(t=t, method=method)\n",
    "        stat['test'].append(point['test']) \n",
    "        stat['train'].append(point['train']) \n",
    "    return stat"
   ]
  },
  {
   "cell_type": "code",
   "execution_count": 72,
   "metadata": {},
   "outputs": [],
   "source": [
    "def get_mean_svd(stat):\n",
    "    train = np.array(stat['train'])\n",
    "    test = np.array(stat['test'])\n",
    "    return train.mean(), train.std(), test.mean(), test.std()"
   ]
  },
  {
   "cell_type": "code",
   "execution_count": null,
   "metadata": {},
   "outputs": [
    {
     "name": "stderr",
     "output_type": "stream",
     "text": [
      "  6%|▌         | 1/18 [00:29<08:17, 29.29s/it]"
     ]
    },
    {
     "name": "stdout",
     "output_type": "stream",
     "text": [
      "0.5 {'train': 98.75833333333334, 'test': 97.88}\n"
     ]
    },
    {
     "name": "stderr",
     "output_type": "stream",
     "text": [
      "\r",
      " 11%|█         | 2/18 [00:58<07:48, 29.29s/it]"
     ]
    },
    {
     "name": "stdout",
     "output_type": "stream",
     "text": [
      "0.5 {'train': 98.745, 'test': 97.89999999999999}\n"
     ]
    },
    {
     "name": "stderr",
     "output_type": "stream",
     "text": [
      "\r",
      " 17%|█▋        | 3/18 [01:27<07:19, 29.28s/it]"
     ]
    },
    {
     "name": "stdout",
     "output_type": "stream",
     "text": [
      "0.5 {'train': 98.75166666666667, 'test': 97.78}\n"
     ]
    }
   ],
   "source": [
    "linpseudo = get_stat(PointFinderInverse2, t=.5, method='lin_connect')"
   ]
  },
  {
   "cell_type": "code",
   "execution_count": 79,
   "metadata": {},
   "outputs": [
    {
     "data": {
      "text/plain": [
       "{'test': [97.88,\n",
       "  97.89999999999999,\n",
       "  97.78,\n",
       "  97.82,\n",
       "  98.00999999999999,\n",
       "  97.92,\n",
       "  97.85000000000001,\n",
       "  97.84,\n",
       "  97.81,\n",
       "  97.92999999999999,\n",
       "  97.94,\n",
       "  97.85000000000001,\n",
       "  97.81,\n",
       "  97.87,\n",
       "  97.84,\n",
       "  97.87,\n",
       "  97.89999999999999,\n",
       "  97.82],\n",
       " 'train': [98.75833333333334,\n",
       "  98.745,\n",
       "  98.75166666666667,\n",
       "  98.77666666666667,\n",
       "  98.76666666666667,\n",
       "  98.785,\n",
       "  98.77666666666667,\n",
       "  98.74666666666667,\n",
       "  98.73833333333333,\n",
       "  98.77,\n",
       "  98.78166666666667,\n",
       "  98.75333333333333,\n",
       "  98.74666666666667,\n",
       "  98.75833333333334,\n",
       "  98.77333333333334,\n",
       "  98.76666666666667,\n",
       "  98.74333333333334,\n",
       "  98.75500000000001]}"
      ]
     },
     "execution_count": 79,
     "metadata": {},
     "output_type": "execute_result"
    }
   ],
   "source": [
    "linpseudo"
   ]
  },
  {
   "cell_type": "code",
   "execution_count": 80,
   "metadata": {},
   "outputs": [
    {
     "data": {
      "text/plain": [
       "(98.76074074074076,\n",
       " 0.013902462503053823,\n",
       " 97.86888888888889,\n",
       " 0.055466595441547105)"
      ]
     },
     "execution_count": 80,
     "metadata": {},
     "output_type": "execute_result"
    }
   ],
   "source": [
    "get_mean_svd(linpseudo)"
   ]
  },
  {
   "cell_type": "code",
   "execution_count": null,
   "metadata": {},
   "outputs": [],
   "source": [
    "arcpseudo = get_stat(PointFinderInverse2, t=.5, method='arc_connect')"
   ]
  },
  {
   "cell_type": "code",
   "execution_count": 81,
   "metadata": {},
   "outputs": [
    {
     "data": {
      "text/plain": [
       "{'test': [97.85000000000001,\n",
       "  97.87,\n",
       "  97.81,\n",
       "  97.84,\n",
       "  97.98,\n",
       "  97.94,\n",
       "  97.88,\n",
       "  97.84,\n",
       "  97.78999999999999,\n",
       "  97.91,\n",
       "  97.97,\n",
       "  97.83,\n",
       "  97.78,\n",
       "  97.91,\n",
       "  97.86,\n",
       "  97.85000000000001,\n",
       "  97.89,\n",
       "  97.84],\n",
       " 'train': [98.74833333333333,\n",
       "  98.74666666666667,\n",
       "  98.77,\n",
       "  98.78166666666667,\n",
       "  98.77166666666668,\n",
       "  98.77,\n",
       "  98.76666666666667,\n",
       "  98.74166666666667,\n",
       "  98.73166666666665,\n",
       "  98.78,\n",
       "  98.76166666666667,\n",
       "  98.75666666666667,\n",
       "  98.75500000000001,\n",
       "  98.785,\n",
       "  98.74666666666667,\n",
       "  98.76833333333333,\n",
       "  98.75166666666667,\n",
       "  98.74333333333334]}"
      ]
     },
     "execution_count": 81,
     "metadata": {},
     "output_type": "execute_result"
    }
   ],
   "source": [
    "arcpseudo"
   ]
  },
  {
   "cell_type": "code",
   "execution_count": 82,
   "metadata": {},
   "outputs": [
    {
     "data": {
      "text/plain": [
       "(98.75981481481482,\n",
       " 0.014833321773703785,\n",
       " 97.86888888888888,\n",
       " 0.054760984579340165)"
      ]
     },
     "execution_count": 82,
     "metadata": {},
     "output_type": "execute_result"
    }
   ],
   "source": [
    "get_mean_svd(arcpseudo)"
   ]
  },
  {
   "cell_type": "code",
   "execution_count": 59,
   "metadata": {},
   "outputs": [],
   "source": [
    "f_inv1 = np.linalg.pinv(funcs1.T)"
   ]
  },
  {
   "cell_type": "code",
   "execution_count": 60,
   "metadata": {},
   "outputs": [],
   "source": [
    "f_inv2 = np.linalg.pinv(funcs2.T)"
   ]
  },
  {
   "cell_type": "code",
   "execution_count": 62,
   "metadata": {},
   "outputs": [
    {
     "data": {
      "text/plain": [
       "95.27799999999999"
      ]
     },
     "execution_count": 62,
     "metadata": {},
     "output_type": "execute_result"
    }
   ],
   "source": [
    "pred = W12 @ np.maximum(W11 @ np.maximum(W10 @ data.T, 0), 0)\n",
    "accuracy(pred.T, targ)"
   ]
  },
  {
   "cell_type": "code",
   "execution_count": 70,
   "metadata": {},
   "outputs": [
    {
     "data": {
      "text/plain": [
       "95.27799999999999"
      ]
     },
     "execution_count": 70,
     "metadata": {},
     "output_type": "execute_result"
    }
   ],
   "source": [
    "pred = W12 @ np.maximum(W11 @ np.maximum(W10 @ data.T, 0), 0)\n",
    "accuracy(pred.T, targ)"
   ]
  },
  {
   "cell_type": "code",
   "execution_count": 64,
   "metadata": {},
   "outputs": [
    {
     "data": {
      "text/plain": [
       "61.07"
      ]
     },
     "execution_count": 64,
     "metadata": {},
     "output_type": "execute_result"
    }
   ],
   "source": [
    "t=0.5\n",
    "pred = Connector(W12.T, W22.T).arc_connect(t=t)[1].T @ np.maximum(Connector(W11, (W21 @ funcs2.T @ f_inv1)).arc_connect(t=t)[1] @  np.maximum(W10 @ data.T, 0), 0)\n",
    "accuracy(pred.T, targ)"
   ]
  },
  {
   "cell_type": "code",
   "execution_count": 65,
   "metadata": {},
   "outputs": [
    {
     "data": {
      "text/plain": [
       "78.448"
      ]
     },
     "execution_count": 65,
     "metadata": {},
     "output_type": "execute_result"
    }
   ],
   "source": [
    "t = 0.5\n",
    "pred = W22 @ np.maximum(Connector((W21 @ funcs2.T @ f_inv1).T, W21.T).arc_connect(t=t)[1].T @ np.maximum(Connector(W10, W20).arc_connect(t=t)[1]  @ data.T, 0), 0)\n",
    "accuracy(pred.T, targ)"
   ]
  },
  {
   "cell_type": "code",
   "execution_count": null,
   "metadata": {},
   "outputs": [],
   "source": []
  }
 ],
 "metadata": {
  "kernelspec": {
   "display_name": "Python 3",
   "language": "python",
   "name": "python3"
  },
  "language_info": {
   "codemirror_mode": {
    "name": "ipython",
    "version": 3
   },
   "file_extension": ".py",
   "mimetype": "text/x-python",
   "name": "python",
   "nbconvert_exporter": "python",
   "pygments_lexer": "ipython3",
   "version": "3.6.7"
  }
 },
 "nbformat": 4,
 "nbformat_minor": 2
}
