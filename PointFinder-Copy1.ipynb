{
 "cells": [
  {
   "cell_type": "code",
   "execution_count": 2,
   "metadata": {},
   "outputs": [],
   "source": [
    "import numpy as np\n",
    "import matplotlib.pylab as pl\n",
    "import ot\n",
    "import ot.plot\n",
    "from sklearn.decomposition import PCA, KernelPCA\n",
    "\n",
    "# S1 = pfb.weights_model1\n",
    "# S2 = pfb.weights_model2\n",
    "# S = np.vstack([S1, S2])\n",
    "# psa = PCA(n_components=2)\n",
    "# psa.fit(S)\n",
    "# xs = psa.transform(S1)\n",
    "# xt = psa.transform(S2)\n",
    "# n = len(pfb.weights_model1) # nb samples\n",
    "\n",
    "# a, b = np.ones((n,)) / n, np.ones((n,)) / n  # uniform distribution on samples\n",
    "\n",
    "# # loss matrix\n",
    "# M = ot.dist(pfb.weights_model1, pfb.weights_model2)\n",
    "# M /= M.max()\n",
    "\n",
    "# pl.figure(1)\n",
    "# pl.plot(xs[:, 0], xs[:, 1], '+b', label='Source samples')\n",
    "# pl.plot(xt[:, 0], xt[:, 1], 'xr', label='Target samples')\n",
    "# pl.legend(loc=0)\n",
    "# pl.title('Source and target distributions')\n",
    "\n",
    "# pl.figure(2)\n",
    "# pl.imshow(M, interpolation='nearest')\n",
    "# pl.title('Cost matrix M')\n",
    "\n",
    "# G0 = ot.emd(a, b, M)\n",
    "\n",
    "# pl.figure(3)\n",
    "# pl.imshow(G0, interpolation='nearest')\n",
    "# pl.title('OT matrix G0')\n",
    "\n",
    "# pl.figure(4)\n",
    "# ot.plot.plot2D_samples_mat(xs, xt, G0, c=[.5, .5, 1])\n",
    "# pl.plot(xs[:, 0], xs[:, 1], '+b', label='Source samples')\n",
    "# pl.plot(xt[:, 0], xt[:, 1], 'xr', label='Target samples')\n",
    "\n",
    "# pl.legend(loc=0)\n",
    "# pl.title('OT matrix with samples')"
   ]
  },
  {
   "cell_type": "code",
   "execution_count": 12,
   "metadata": {},
   "outputs": [
    {
     "data": {
      "text/plain": [
       "array([0. , 0.1, 0.2, 0.3, 0.4, 0.5, 0.6, 0.7, 0.8, 0.9, 1. , 1.1, 1.2,\n",
       "       1.3, 1.4, 1.5, 1.6, 1.7, 1.8, 1.9, 2. , 2.1, 2.2, 2.3, 2.4, 2.5,\n",
       "       2.6, 2.7, 2.8, 2.9, 3. , 3.1, 3.2, 3.3, 3.4, 3.5, 3.6, 3.7, 3.8,\n",
       "       3.9, 4. , 4.1, 4.2, 4.3, 4.4, 4.5, 4.6, 4.7, 4.8, 4.9, 5. , 5.1,\n",
       "       5.2, 5.3, 5.4, 5.5, 5.6, 5.7, 5.8, 5.9, 6. ])"
      ]
     },
     "execution_count": 12,
     "metadata": {},
     "output_type": "execute_result"
    }
   ],
   "source": [
    "time = np.linspace(0, 6, 61)\n",
    "time"
   ]
  },
  {
   "cell_type": "code",
   "execution_count": 2,
   "metadata": {},
   "outputs": [
    {
     "name": "stdout",
     "output_type": "stream",
     "text": [
      "getting loaders\n",
      "Files already downloaded and verified\n",
      "You are going to run models on the test set. Are you sure?\n",
      "Files already downloaded and verified\n",
      "getting data\n"
     ]
    }
   ],
   "source": [
    "from point_finders import *"
   ]
  },
  {
   "cell_type": "code",
   "execution_count": 3,
   "metadata": {},
   "outputs": [],
   "source": [
    "import models\n",
    "model_name = 'LinearOneLayer'\n",
    "architecture = getattr(models, 'LinearOneLayerCF') #LinearOneLayer LogRegression"
   ]
  },
  {
   "cell_type": "code",
   "execution_count": 4,
   "metadata": {},
   "outputs": [
    {
     "data": {
      "text/plain": [
       "IncompatibleKeys(missing_keys=[], unexpected_keys=[])"
      ]
     },
     "execution_count": 4,
     "metadata": {},
     "output_type": "execute_result"
    }
   ],
   "source": [
    "model1 = architecture.base(num_classes=10, **architecture.kwargs)\n",
    "model2 = architecture.base(num_classes=10, **architecture.kwargs)\n",
    "model1.load_state_dict(torch.load('curves/'+model_name+'/curve3/checkpoint-400.pt')['model_state'])\n",
    "model2.load_state_dict(torch.load('curves/'+model_name+'/curve4/checkpoint-400.pt')['model_state'])"
   ]
  },
  {
   "cell_type": "code",
   "execution_count": 5,
   "metadata": {},
   "outputs": [
    {
     "name": "stdout",
     "output_type": "stream",
     "text": [
      "train results {'nll': 1.0174902257919312, 'loss': 1.0174902257919312, 'accuracy': 66.138}\n",
      "test results {'nll': 1.3227679414749145, 'loss': 1.3227679414749145, 'accuracy': 59.11}\n"
     ]
    },
    {
     "data": {
      "text/plain": [
       "({'nll': 1.0174902257919312, 'loss': 1.0174902257919312, 'accuracy': 66.138},\n",
       " {'nll': 1.3227679414749145, 'loss': 1.3227679414749145, 'accuracy': 59.11})"
      ]
     },
     "execution_count": 5,
     "metadata": {},
     "output_type": "execute_result"
    }
   ],
   "source": [
    "model1.cuda();\n",
    "test_model(model1, loaders, cuda=True)"
   ]
  },
  {
   "cell_type": "code",
   "execution_count": 6,
   "metadata": {},
   "outputs": [
    {
     "name": "stdout",
     "output_type": "stream",
     "text": [
      "train results {'nll': 1.0161726474761963, 'loss': 1.0161726474761963, 'accuracy': 66.368}\n",
      "test results {'nll': 1.3180574544906616, 'loss': 1.3180574544906616, 'accuracy': 59.4}\n"
     ]
    },
    {
     "data": {
      "text/plain": [
       "({'nll': 1.0161726474761963, 'loss': 1.0161726474761963, 'accuracy': 66.368},\n",
       " {'nll': 1.3180574544906616, 'loss': 1.3180574544906616, 'accuracy': 59.4})"
      ]
     },
     "execution_count": 6,
     "metadata": {},
     "output_type": "execute_result"
    }
   ],
   "source": [
    "model2.cuda();\n",
    "test_model(model2, loaders, cuda=True)"
   ]
  },
  {
   "cell_type": "code",
   "execution_count": 7,
   "metadata": {},
   "outputs": [],
   "source": [
    "depth = 2"
   ]
  },
  {
   "cell_type": "code",
   "execution_count": 8,
   "metadata": {},
   "outputs": [],
   "source": [
    "# N_data = 10 #6144\n",
    "# data, targ = data[:N_data], targ[:N_data]"
   ]
  },
  {
   "cell_type": "code",
   "execution_count": 9,
   "metadata": {},
   "outputs": [
    {
     "name": "stderr",
     "output_type": "stream",
     "text": [
      " 50%|█████     | 1/2 [00:06<00:06,  6.79s/it]"
     ]
    },
    {
     "name": "stdout",
     "output_type": "stream",
     "text": [
      "train results {'nll': 1.0152977523994446, 'loss': 1.0152977523994446, 'accuracy': 66.098}\n",
      "test results {'nll': 1.3088677494049072, 'loss': 1.3088677494049072, 'accuracy': 58.83}\n"
     ]
    },
    {
     "name": "stderr",
     "output_type": "stream",
     "text": [
      "\r",
      "100%|██████████| 2/2 [00:13<00:00,  6.81s/it]"
     ]
    },
    {
     "name": "stdout",
     "output_type": "stream",
     "text": [
      "train results {'nll': 1.0116068117141723, 'loss': 1.0116068117141723, 'accuracy': 66.19}\n",
      "test results {'nll': 1.298913423347473, 'loss': 1.298913423347473, 'accuracy': 59.53}\n"
     ]
    },
    {
     "name": "stderr",
     "output_type": "stream",
     "text": [
      "\n"
     ]
    },
    {
     "data": {
      "text/plain": [
       "{'train': [66.098, 66.19], 'test': [58.83, 59.53]}"
      ]
     },
     "execution_count": 9,
     "metadata": {},
     "output_type": "execute_result"
    }
   ],
   "source": [
    "get_end_point_stat(architecture, model_name, end_ind=3)"
   ]
  },
  {
   "cell_type": "code",
   "execution_count": 10,
   "metadata": {},
   "outputs": [],
   "source": [
    "def test_zeroing(pointfinder, model_name, architecture, beg_ind=1, end_ind=7):\n",
    "    stat = {'test': [], 'train': []}\n",
    "    model1 = architecture.base(num_classes=10, **architecture.kwargs)\n",
    "    model2 = architecture.base(num_classes=10, **architecture.kwargs)\n",
    "    for i in tqdm(range(beg_ind, end_ind)):\n",
    "        model1.load_state_dict(torch.load('curves/'+model_name+'/curve'+str(i)+'/checkpoint-400.pt')['model_state'])\n",
    "        model2.load_state_dict(torch.load('curves/'+model_name+'/curve'+str(i+1)+'/checkpoint-400.pt')['model_state'])\n",
    "        finder = pointfinder(model1, model2, architecture)\n",
    "        point = finder.test_zeroing()\n",
    "        stat['test'].append(point['test'])\n",
    "        stat['train'].append(point['train'])\n",
    "    return stat"
   ]
  },
  {
   "cell_type": "code",
   "execution_count": 11,
   "metadata": {},
   "outputs": [],
   "source": [
    "class PointFinderTransportation(PointFinderWithBias):\n",
    "    def __init__(self, model1, model2, architecture):\n",
    "        super().__init__(model1, model2, architecture)\n",
    "        self.solve_optimal_transport_problem()\n",
    "        # find bijection\n",
    "        self.indices = np.argmax(self.G0, axis=-1)\n",
    "        self.weights_model2_permuted = self.weights_model2[self.indices]\n",
    "        \n",
    "    def solve_optimal_transport_problem(self, ):\n",
    "        self.n = len(self.weights_model1) \n",
    "        self.a, self.b = np.ones((self.n,)) / self.n, np.ones((self.n,)) / self.n  # uniform distribution on samples\n",
    "        # loss matrix\n",
    "        self.M = ot.dist(self.weights_model1, self.weights_model2)\n",
    "        self.M /= self.M.max()\n",
    "        self.G0 = ot.emd(self.a, self.b, self.M)\n",
    "        \n",
    "    def find_point(self, t, method='arc_connect'):\n",
    "        assert 0 <= t <= 1, 't must be between 0 and 1'\n",
    "        weights_model_new = getattr(Connector( self.weights_model1, self.weights_model2_permuted), method)(t=t)[1]\n",
    "        B = self.get_b(self.model1, self.model2)\n",
    "        B = getattr(Connector(B[:1], B[1:]), method)(t=t)[1]\n",
    "        m = self.get_model_from_weights(weights_model_new, B[0], self.architecture)\n",
    "        m.cuda();\n",
    "        res = test_model(m, loaders, cuda=True)\n",
    "        out = {'train': res[0]['accuracy'], 'test': res[1]['accuracy']}\n",
    "        return out\n",
    "\n",
    "    def test_zeroing(self, ):\n",
    "        weights_model_new = self.weights_model2\n",
    "        weights_model_new[0] = 0\n",
    "        B = self.get_b(self.model1, self.model2)\n",
    "        m = self.get_model_from_weights(weights_model_new, B[1], self.architecture)\n",
    "        m.cuda();\n",
    "        res = test_model(m, loaders, cuda=True)\n",
    "        out = {'train': res[0]['accuracy'], 'test': res[1]['accuracy']}\n",
    "        return out"
   ]
  },
  {
   "cell_type": "code",
   "execution_count": 12,
   "metadata": {},
   "outputs": [
    {
     "data": {
      "text/plain": [
       "array([0.  , 0.05, 0.1 , 0.15, 0.2 , 0.25, 0.3 , 0.35, 0.4 , 0.45, 0.5 ,\n",
       "       0.55, 0.6 , 0.65, 0.7 , 0.75, 0.8 , 0.85, 0.9 , 0.95, 1.  ])"
      ]
     },
     "execution_count": 12,
     "metadata": {},
     "output_type": "execute_result"
    }
   ],
   "source": [
    "time = np.linspace(0, 1, 21)\n",
    "time"
   ]
  },
  {
   "cell_type": "code",
   "execution_count": 13,
   "metadata": {},
   "outputs": [],
   "source": [
    "pfb = PointFinderTransportation(model1, model2, architecture)"
   ]
  },
  {
   "cell_type": "code",
   "execution_count": 14,
   "metadata": {},
   "outputs": [
    {
     "name": "stderr",
     "output_type": "stream",
     "text": [
      "  5%|▍         | 1/21 [00:06<02:09,  6.49s/it]"
     ]
    },
    {
     "name": "stdout",
     "output_type": "stream",
     "text": [
      "train results {'nll': 1.0174902257919312, 'loss': 1.0174902257919312, 'accuracy': 66.138}\n",
      "test results {'nll': 1.3227679414749145, 'loss': 1.3227679414749145, 'accuracy': 59.11}\n"
     ]
    },
    {
     "name": "stderr",
     "output_type": "stream",
     "text": [
      "\r",
      " 10%|▉         | 2/21 [00:13<02:03,  6.52s/it]"
     ]
    },
    {
     "name": "stdout",
     "output_type": "stream",
     "text": [
      "train results {'nll': 1.0143012914848328, 'loss': 1.0143012914848328, 'accuracy': 66.102}\n",
      "test results {'nll': 1.308853053855896, 'loss': 1.308853053855896, 'accuracy': 59.26}\n"
     ]
    },
    {
     "name": "stderr",
     "output_type": "stream",
     "text": [
      "\r",
      " 14%|█▍        | 3/21 [00:19<01:57,  6.54s/it]"
     ]
    },
    {
     "name": "stdout",
     "output_type": "stream",
     "text": [
      "train results {'nll': 1.0203724909973144, 'loss': 1.0203724909973144, 'accuracy': 65.78}\n",
      "test results {'nll': 1.3053661870956421, 'loss': 1.3053661870956421, 'accuracy': 59.28}\n"
     ]
    },
    {
     "name": "stderr",
     "output_type": "stream",
     "text": [
      "\r",
      " 19%|█▉        | 4/21 [00:26<01:50,  6.53s/it]"
     ]
    },
    {
     "name": "stdout",
     "output_type": "stream",
     "text": [
      "train results {'nll': 1.0330255899810792, 'loss': 1.0330255899810792, 'accuracy': 65.334}\n",
      "test results {'nll': 1.3094146203994752, 'loss': 1.3094146203994752, 'accuracy': 58.9}\n"
     ]
    },
    {
     "name": "stderr",
     "output_type": "stream",
     "text": [
      "\r",
      " 24%|██▍       | 5/21 [00:32<01:44,  6.50s/it]"
     ]
    },
    {
     "name": "stdout",
     "output_type": "stream",
     "text": [
      "train results {'nll': 1.0501033125305175, 'loss': 1.0501033125305175, 'accuracy': 64.832}\n",
      "test results {'nll': 1.3187207542419435, 'loss': 1.3187207542419435, 'accuracy': 58.66}\n"
     ]
    },
    {
     "name": "stderr",
     "output_type": "stream",
     "text": [
      "\r",
      " 29%|██▊       | 6/21 [00:39<01:37,  6.50s/it]"
     ]
    },
    {
     "name": "stdout",
     "output_type": "stream",
     "text": [
      "train results {'nll': 1.0691858417510987, 'loss': 1.0691858417510987, 'accuracy': 64.266}\n",
      "test results {'nll': 1.3308039266586305, 'loss': 1.3308039266586305, 'accuracy': 58.27}\n"
     ]
    },
    {
     "name": "stderr",
     "output_type": "stream",
     "text": [
      "\r",
      " 33%|███▎      | 7/21 [00:45<01:30,  6.50s/it]"
     ]
    },
    {
     "name": "stdout",
     "output_type": "stream",
     "text": [
      "train results {'nll': 1.0882029586029052, 'loss': 1.0882029586029052, 'accuracy': 63.656}\n",
      "test results {'nll': 1.3433777755737304, 'loss': 1.3433777755737304, 'accuracy': 57.95}\n"
     ]
    },
    {
     "name": "stderr",
     "output_type": "stream",
     "text": [
      "\r",
      " 38%|███▊      | 8/21 [00:52<01:24,  6.49s/it]"
     ]
    },
    {
     "name": "stdout",
     "output_type": "stream",
     "text": [
      "train results {'nll': 1.1051409468460083, 'loss': 1.1051409468460083, 'accuracy': 63.192}\n",
      "test results {'nll': 1.3551846061706543, 'loss': 1.3551846061706543, 'accuracy': 57.53}\n"
     ]
    },
    {
     "name": "stderr",
     "output_type": "stream",
     "text": [
      "\r",
      " 43%|████▎     | 9/21 [00:58<01:17,  6.49s/it]"
     ]
    },
    {
     "name": "stdout",
     "output_type": "stream",
     "text": [
      "train results {'nll': 1.1182800593948363, 'loss': 1.1182800593948363, 'accuracy': 62.966}\n",
      "test results {'nll': 1.3646840448379516, 'loss': 1.3646840448379516, 'accuracy': 57.3}\n"
     ]
    },
    {
     "name": "stderr",
     "output_type": "stream",
     "text": [
      "\r",
      " 48%|████▊     | 10/21 [01:05<01:11,  6.51s/it]"
     ]
    },
    {
     "name": "stdout",
     "output_type": "stream",
     "text": [
      "train results {'nll': 1.1265136800003053, 'loss': 1.1265136800003053, 'accuracy': 62.754}\n",
      "test results {'nll': 1.3707005571365356, 'loss': 1.3707005571365356, 'accuracy': 57.25}\n"
     ]
    },
    {
     "name": "stderr",
     "output_type": "stream",
     "text": [
      "\r",
      " 52%|█████▏    | 11/21 [01:11<01:04,  6.49s/it]"
     ]
    },
    {
     "name": "stdout",
     "output_type": "stream",
     "text": [
      "train results {'nll': 1.1288891778945922, 'loss': 1.1288891778945922, 'accuracy': 62.738}\n",
      "test results {'nll': 1.3723571796417235, 'loss': 1.3723571796417235, 'accuracy': 57.25}\n"
     ]
    },
    {
     "name": "stderr",
     "output_type": "stream",
     "text": [
      "\r",
      " 57%|█████▋    | 12/21 [01:18<00:58,  6.48s/it]"
     ]
    },
    {
     "name": "stdout",
     "output_type": "stream",
     "text": [
      "train results {'nll': 1.1252309465408326, 'loss': 1.1252309465408326, 'accuracy': 62.858}\n",
      "test results {'nll': 1.3693527324676513, 'loss': 1.3693527324676513, 'accuracy': 57.59}\n"
     ]
    },
    {
     "name": "stderr",
     "output_type": "stream",
     "text": [
      "\r",
      " 62%|██████▏   | 13/21 [01:24<00:52,  6.50s/it]"
     ]
    },
    {
     "name": "stdout",
     "output_type": "stream",
     "text": [
      "train results {'nll': 1.1159273124694824, 'loss': 1.1159273124694824, 'accuracy': 63.112}\n",
      "test results {'nll': 1.3620014686584472, 'loss': 1.3620014686584472, 'accuracy': 57.79}\n"
     ]
    },
    {
     "name": "stderr",
     "output_type": "stream",
     "text": [
      "\r",
      " 67%|██████▋   | 14/21 [01:31<00:45,  6.49s/it]"
     ]
    },
    {
     "name": "stdout",
     "output_type": "stream",
     "text": [
      "train results {'nll': 1.1019613330841065, 'loss': 1.1019613330841065, 'accuracy': 63.584}\n",
      "test results {'nll': 1.3509989376068114, 'loss': 1.3509989376068114, 'accuracy': 58.09}\n"
     ]
    },
    {
     "name": "stderr",
     "output_type": "stream",
     "text": [
      "\r",
      " 71%|███████▏  | 15/21 [01:37<00:39,  6.52s/it]"
     ]
    },
    {
     "name": "stdout",
     "output_type": "stream",
     "text": [
      "train results {'nll': 1.0844270083236693, 'loss': 1.0844270083236693, 'accuracy': 64.074}\n",
      "test results {'nll': 1.338171683883667, 'loss': 1.338171683883667, 'accuracy': 58.22}\n"
     ]
    },
    {
     "name": "stderr",
     "output_type": "stream",
     "text": [
      "\r",
      " 76%|███████▌  | 16/21 [01:44<00:32,  6.55s/it]"
     ]
    },
    {
     "name": "stdout",
     "output_type": "stream",
     "text": [
      "train results {'nll': 1.0650962979507446, 'loss': 1.0650962979507446, 'accuracy': 64.556}\n",
      "test results {'nll': 1.3246959976196289, 'loss': 1.3246959976196289, 'accuracy': 58.61}\n"
     ]
    },
    {
     "name": "stderr",
     "output_type": "stream",
     "text": [
      "\r",
      " 81%|████████  | 17/21 [01:50<00:26,  6.56s/it]"
     ]
    },
    {
     "name": "stdout",
     "output_type": "stream",
     "text": [
      "train results {'nll': 1.0458180412292482, 'loss': 1.0458180412292482, 'accuracy': 65.044}\n",
      "test results {'nll': 1.3122183273315429, 'loss': 1.3122183273315429, 'accuracy': 58.82}\n"
     ]
    },
    {
     "name": "stderr",
     "output_type": "stream",
     "text": [
      "\r",
      " 86%|████████▌ | 18/21 [01:57<00:19,  6.56s/it]"
     ]
    },
    {
     "name": "stdout",
     "output_type": "stream",
     "text": [
      "train results {'nll': 1.0287361581802368, 'loss': 1.0287361581802368, 'accuracy': 65.674}\n",
      "test results {'nll': 1.3031610816955566, 'loss': 1.3031610816955566, 'accuracy': 59.1}\n"
     ]
    },
    {
     "name": "stderr",
     "output_type": "stream",
     "text": [
      "\r",
      " 90%|█████████ | 19/21 [02:04<00:13,  6.58s/it]"
     ]
    },
    {
     "name": "stdout",
     "output_type": "stream",
     "text": [
      "train results {'nll': 1.0164376527404786, 'loss': 1.0164376527404786, 'accuracy': 66.05}\n",
      "test results {'nll': 1.299654016494751, 'loss': 1.299654016494751, 'accuracy': 59.28}\n"
     ]
    },
    {
     "name": "stderr",
     "output_type": "stream",
     "text": [
      "\r",
      " 95%|█████████▌| 20/21 [02:10<00:06,  6.56s/it]"
     ]
    },
    {
     "name": "stdout",
     "output_type": "stream",
     "text": [
      "train results {'nll': 1.0114074440383911, 'loss': 1.0114074440383911, 'accuracy': 66.436}\n",
      "test results {'nll': 1.3038726707458497, 'loss': 1.3038726707458497, 'accuracy': 59.3}\n"
     ]
    },
    {
     "name": "stderr",
     "output_type": "stream",
     "text": [
      "\r",
      "100%|██████████| 21/21 [02:17<00:00,  6.54s/it]"
     ]
    },
    {
     "name": "stdout",
     "output_type": "stream",
     "text": [
      "train results {'nll': 1.0161726523590089, 'loss': 1.0161726523590089, 'accuracy': 66.368}\n",
      "test results {'nll': 1.3180574975967407, 'loss': 1.3180574975967407, 'accuracy': 59.4}\n"
     ]
    },
    {
     "name": "stderr",
     "output_type": "stream",
     "text": [
      "\n"
     ]
    }
   ],
   "source": [
    "path_trl = find_path(time, pfb, method='lin_connect')"
   ]
  },
  {
   "cell_type": "code",
   "execution_count": 15,
   "metadata": {},
   "outputs": [
    {
     "data": {
      "text/plain": [
       "0.0"
      ]
     },
     "execution_count": 15,
     "metadata": {},
     "output_type": "execute_result"
    }
   ],
   "source": [
    "path_trl['train'][np.argmax(np.array(path_trl['train']))] - path_trl['train'][10]"
   ]
  },
  {
   "cell_type": "code",
   "execution_count": 16,
   "metadata": {},
   "outputs": [
    {
     "data": {
      "text/plain": [
       "0.0"
      ]
     },
     "execution_count": 16,
     "metadata": {},
     "output_type": "execute_result"
    }
   ],
   "source": [
    "path_trl['test'][np.argmax(np.array(path_trl['test']))] - path_trl['test'][10]"
   ]
  },
  {
   "cell_type": "code",
   "execution_count": 17,
   "metadata": {},
   "outputs": [
    {
     "data": {
      "image/png": "[encoded data removed]",
      "text/plain": [
       "<Figure size 432x288 with 1 Axes>"
      ]
     },
     "metadata": {
      "needs_background": "light"
     },
     "output_type": "display_data"
    }
   ],
   "source": [
    "plt.plot(time, path_trl['train'], label='train')\n",
    "plt.plot(time, path_trl['test'], label='test') \n",
    "plt.legend()\n",
    "plt.xlabel('time')\n",
    "plt.ylabel('error (%)')\n",
    "plt.show()"
   ]
  },
  {
   "cell_type": "code",
   "execution_count": 18,
   "metadata": {},
   "outputs": [
    {
     "name": "stderr",
     "output_type": "stream",
     "text": [
      " 17%|█▋        | 1/6 [00:07<00:36,  7.25s/it]"
     ]
    },
    {
     "name": "stdout",
     "output_type": "stream",
     "text": [
      "train results {'nll': 1.1306275899124145, 'loss': 1.1306275899124145, 'accuracy': 62.396}\n",
      "test results {'nll': 1.370669333076477, 'loss': 1.370669333076477, 'accuracy': 56.44}\n"
     ]
    },
    {
     "name": "stderr",
     "output_type": "stream",
     "text": [
      "\r",
      " 33%|███▎      | 2/6 [00:14<00:29,  7.27s/it]"
     ]
    },
    {
     "name": "stdout",
     "output_type": "stream",
     "text": [
      "train results {'nll': 1.1386494123840332, 'loss': 1.1386494123840332, 'accuracy': 62.2}\n",
      "test results {'nll': 1.3739460319519043, 'loss': 1.3739460319519043, 'accuracy': 57.13}\n"
     ]
    },
    {
     "name": "stderr",
     "output_type": "stream",
     "text": [
      "\r",
      " 50%|█████     | 3/6 [00:21<00:21,  7.30s/it]"
     ]
    },
    {
     "name": "stdout",
     "output_type": "stream",
     "text": [
      "train results {'nll': 1.1288891778945922, 'loss': 1.1288891778945922, 'accuracy': 62.738}\n",
      "test results {'nll': 1.3723571796417235, 'loss': 1.3723571796417235, 'accuracy': 57.25}\n"
     ]
    },
    {
     "name": "stderr",
     "output_type": "stream",
     "text": [
      "\r",
      " 67%|██████▋   | 4/6 [00:29<00:14,  7.34s/it]"
     ]
    },
    {
     "name": "stdout",
     "output_type": "stream",
     "text": [
      "train results {'nll': 1.121072514076233, 'loss': 1.121072514076233, 'accuracy': 62.472}\n",
      "test results {'nll': 1.3733014923095703, 'loss': 1.3733014923095703, 'accuracy': 57.08}\n"
     ]
    },
    {
     "name": "stderr",
     "output_type": "stream",
     "text": [
      "\r",
      " 83%|████████▎ | 5/6 [00:36<00:07,  7.36s/it]"
     ]
    },
    {
     "name": "stdout",
     "output_type": "stream",
     "text": [
      "train results {'nll': 1.1616282735443115, 'loss': 1.1616282735443115, 'accuracy': 61.708}\n",
      "test results {'nll': 1.4086247882843017, 'loss': 1.4086247882843017, 'accuracy': 56.15}\n"
     ]
    },
    {
     "name": "stderr",
     "output_type": "stream",
     "text": [
      "\r",
      "100%|██████████| 6/6 [00:44<00:00,  7.39s/it]"
     ]
    },
    {
     "name": "stdout",
     "output_type": "stream",
     "text": [
      "train results {'nll': 1.1581262199783324, 'loss': 1.1581262199783324, 'accuracy': 61.258}\n",
      "test results {'nll': 1.3931721284866334, 'loss': 1.3931721284866334, 'accuracy': 56.17}\n"
     ]
    },
    {
     "name": "stderr",
     "output_type": "stream",
     "text": [
      "\n"
     ]
    }
   ],
   "source": [
    "stat_prl = get_stat(PointFinderTransportation, model_name, architecture, t=0.5, method='lin_connect',\n",
    "             beg_ind=1, end_ind=7)\n"
   ]
  },
  {
   "cell_type": "code",
   "execution_count": 19,
   "metadata": {},
   "outputs": [
    {
     "data": {
      "text/plain": [
       "(62.12866666666667, 0.5001235402933512, 56.703333333333326, 0.4623731057153835)"
      ]
     },
     "execution_count": 19,
     "metadata": {},
     "output_type": "execute_result"
    }
   ],
   "source": [
    "get_mean_svd(stat_prl)"
   ]
  },
  {
   "cell_type": "code",
   "execution_count": 20,
   "metadata": {},
   "outputs": [
    {
     "name": "stderr",
     "output_type": "stream",
     "text": [
      "  0%|          | 0/6 [00:00<?, ?it/s]/home/ivan/dnn-mode-connectivity/point_finders.py:315: UserWarning: To copy construct from a tensor, it is recommended to use sourceTensor.clone().detach() or sourceTensor.clone().detach().requires_grad_(True), rather than torch.tensor(sourceTensor).\n",
      "  list(model_sampled.parameters())[-1].data.copy_(torch.tensor(B))\n",
      " 17%|█▋        | 1/6 [00:07<00:36,  7.33s/it]"
     ]
    },
    {
     "name": "stdout",
     "output_type": "stream",
     "text": [
      "train results {'nll': 1.013846732597351, 'loss': 1.013846732597351, 'accuracy': 66.108}\n",
      "test results {'nll': 1.3008504135131835, 'loss': 1.3008504135131835, 'accuracy': 59.48}\n"
     ]
    },
    {
     "name": "stderr",
     "output_type": "stream",
     "text": [
      "/home/ivan/dnn-mode-connectivity/point_finders.py:315: UserWarning: To copy construct from a tensor, it is recommended to use sourceTensor.clone().detach() or sourceTensor.clone().detach().requires_grad_(True), rather than torch.tensor(sourceTensor).\n",
      "  list(model_sampled.parameters())[-1].data.copy_(torch.tensor(B))\n",
      " 33%|███▎      | 2/6 [00:14<00:29,  7.31s/it]"
     ]
    },
    {
     "name": "stdout",
     "output_type": "stream",
     "text": [
      "train results {'nll': 1.023069288520813, 'loss': 1.023069288520813, 'accuracy': 66.102}\n",
      "test results {'nll': 1.3266697511672974, 'loss': 1.3266697511672974, 'accuracy': 59.15}\n"
     ]
    },
    {
     "name": "stderr",
     "output_type": "stream",
     "text": [
      "/home/ivan/dnn-mode-connectivity/point_finders.py:315: UserWarning: To copy construct from a tensor, it is recommended to use sourceTensor.clone().detach() or sourceTensor.clone().detach().requires_grad_(True), rather than torch.tensor(sourceTensor).\n",
      "  list(model_sampled.parameters())[-1].data.copy_(torch.tensor(B))\n",
      " 50%|█████     | 3/6 [00:21<00:21,  7.29s/it]"
     ]
    },
    {
     "name": "stdout",
     "output_type": "stream",
     "text": [
      "train results {'nll': 1.0160322248649598, 'loss': 1.0160322248649598, 'accuracy': 66.362}\n",
      "test results {'nll': 1.3176700359344482, 'loss': 1.3176700359344482, 'accuracy': 59.34}\n"
     ]
    },
    {
     "name": "stderr",
     "output_type": "stream",
     "text": [
      "/home/ivan/dnn-mode-connectivity/point_finders.py:315: UserWarning: To copy construct from a tensor, it is recommended to use sourceTensor.clone().detach() or sourceTensor.clone().detach().requires_grad_(True), rather than torch.tensor(sourceTensor).\n",
      "  list(model_sampled.parameters())[-1].data.copy_(torch.tensor(B))\n",
      " 67%|██████▋   | 4/6 [00:29<00:14,  7.28s/it]"
     ]
    },
    {
     "name": "stdout",
     "output_type": "stream",
     "text": [
      "train results {'nll': 1.0061186195755005, 'loss': 1.0061186195755005, 'accuracy': 66.372}\n",
      "test results {'nll': 1.3123150671005248, 'loss': 1.3123150671005248, 'accuracy': 59.0}\n"
     ]
    },
    {
     "name": "stderr",
     "output_type": "stream",
     "text": [
      "/home/ivan/dnn-mode-connectivity/point_finders.py:315: UserWarning: To copy construct from a tensor, it is recommended to use sourceTensor.clone().detach() or sourceTensor.clone().detach().requires_grad_(True), rather than torch.tensor(sourceTensor).\n",
      "  list(model_sampled.parameters())[-1].data.copy_(torch.tensor(B))\n",
      " 83%|████████▎ | 5/6 [00:36<00:07,  7.29s/it]"
     ]
    },
    {
     "name": "stdout",
     "output_type": "stream",
     "text": [
      "train results {'nll': 1.0141219844818115, 'loss': 1.0141219844818115, 'accuracy': 66.092}\n",
      "test results {'nll': 1.3102498769760131, 'loss': 1.3102498769760131, 'accuracy': 59.44}\n"
     ]
    },
    {
     "name": "stderr",
     "output_type": "stream",
     "text": [
      "/home/ivan/dnn-mode-connectivity/point_finders.py:315: UserWarning: To copy construct from a tensor, it is recommended to use sourceTensor.clone().detach() or sourceTensor.clone().detach().requires_grad_(True), rather than torch.tensor(sourceTensor).\n",
      "  list(model_sampled.parameters())[-1].data.copy_(torch.tensor(B))\n",
      "100%|██████████| 6/6 [00:43<00:00,  7.32s/it]"
     ]
    },
    {
     "name": "stdout",
     "output_type": "stream",
     "text": [
      "train results {'nll': 1.0173715712165832, 'loss': 1.0173715712165832, 'accuracy': 66.114}\n",
      "test results {'nll': 1.3179269365310669, 'loss': 1.3179269365310669, 'accuracy': 58.85}\n"
     ]
    },
    {
     "name": "stderr",
     "output_type": "stream",
     "text": [
      "\n"
     ]
    }
   ],
   "source": [
    "stat_zero = test_zeroing(PointFinderTransportation, model_name, architecture, beg_ind=1, end_ind=7)"
   ]
  },
  {
   "cell_type": "code",
   "execution_count": 21,
   "metadata": {},
   "outputs": [
    {
     "data": {
      "text/plain": [
       "(66.19166666666666, 0.12419026621366755, 59.21, 0.23094010767584933)"
      ]
     },
     "execution_count": 21,
     "metadata": {},
     "output_type": "execute_result"
    }
   ],
   "source": [
    "get_mean_svd(stat_zero)"
   ]
  },
  {
   "cell_type": "code",
   "execution_count": null,
   "metadata": {},
   "outputs": [],
   "source": []
  },
  {
   "cell_type": "code",
   "execution_count": null,
   "metadata": {},
   "outputs": [],
   "source": []
  },
  {
   "cell_type": "code",
   "execution_count": null,
   "metadata": {},
   "outputs": [],
   "source": []
  },
  {
   "cell_type": "code",
   "execution_count": null,
   "metadata": {},
   "outputs": [],
   "source": []
  },
  {
   "cell_type": "code",
   "execution_count": null,
   "metadata": {},
   "outputs": [],
   "source": []
  },
  {
   "cell_type": "code",
   "execution_count": null,
   "metadata": {},
   "outputs": [],
   "source": []
  },
  {
   "cell_type": "code",
   "execution_count": null,
   "metadata": {},
   "outputs": [],
   "source": []
  },
  {
   "cell_type": "code",
   "execution_count": null,
   "metadata": {},
   "outputs": [],
   "source": []
  },
  {
   "cell_type": "code",
   "execution_count": null,
   "metadata": {},
   "outputs": [],
   "source": []
  },
  {
   "cell_type": "code",
   "execution_count": null,
   "metadata": {},
   "outputs": [],
   "source": []
  },
  {
   "cell_type": "code",
   "execution_count": 15,
   "metadata": {},
   "outputs": [],
   "source": [
    "class PointFinderByOne(PointFinderWithBias):\n",
    "    def __init__(self, model1, model2, architecture):\n",
    "        super().__init__(model1, model2, architecture)\n",
    "\n",
    "    def find_point(self, t, N, method='arc_connect'):\n",
    "        assert 0 <= t <= 1, 't must be between 0 and 1'\n",
    "        weights_model_new = getattr(Connector(self.weights_model1[N:N+1], self.weights_model2[N:N+1]), method)(t=t)[1]\n",
    "        weights_model_new = list(self.weights_model2)[:N] + list(weights_model_new) + list(self.weights_model1[N+1:])\n",
    "        B = self.get_b(self.model1, self.model2)\n",
    "        B = getattr(Connector(B[:1], B[1:]), method)(t=t)[1]\n",
    "        m = self.get_model_from_weights(weights_model_new, B[0], self.architecture)\n",
    "        m.cuda();\n",
    "        res = test_model(m, loaders, cuda=True)\n",
    "        out = {'train': res[0]['accuracy'], 'test': res[1]['accuracy']}\n",
    "\n",
    "        return out"
   ]
  },
  {
   "cell_type": "code",
   "execution_count": null,
   "metadata": {},
   "outputs": [],
   "source": []
  },
  {
   "cell_type": "code",
   "execution_count": null,
   "metadata": {},
   "outputs": [],
   "source": []
  },
  {
   "cell_type": "code",
   "execution_count": 16,
   "metadata": {},
   "outputs": [],
   "source": [
    "pfb = PointFinder(model1, model2, architecture)"
   ]
  },
  {
   "cell_type": "code",
   "execution_count": 74,
   "metadata": {},
   "outputs": [
    {
     "name": "stderr",
     "output_type": "stream",
     "text": [
      " 17%|█▋        | 1/6 [00:12<01:03, 12.62s/it]"
     ]
    },
    {
     "name": "stdout",
     "output_type": "stream",
     "text": [
      "train results {'nll': 2.380592138748169, 'loss': 2.380592138748169, 'accuracy': 44.456}\n",
      "test results {'nll': 2.5921855487823486, 'loss': 2.5921855487823486, 'accuracy': 42.47}\n"
     ]
    },
    {
     "name": "stderr",
     "output_type": "stream",
     "text": [
      "\r",
      " 33%|███▎      | 2/6 [00:25<00:50, 12.62s/it]"
     ]
    },
    {
     "name": "stdout",
     "output_type": "stream",
     "text": [
      "train results {'nll': 2.435529772491455, 'loss': 2.435529772491455, 'accuracy': 42.942}\n",
      "test results {'nll': 2.646166815185547, 'loss': 2.646166815185547, 'accuracy': 40.99}\n"
     ]
    },
    {
     "name": "stderr",
     "output_type": "stream",
     "text": [
      "\r",
      " 50%|█████     | 3/6 [00:37<00:37, 12.61s/it]"
     ]
    },
    {
     "name": "stdout",
     "output_type": "stream",
     "text": [
      "train results {'nll': 2.4799481664276124, 'loss': 2.4799481664276124, 'accuracy': 42.122}\n",
      "test results {'nll': 2.6905567951202394, 'loss': 2.6905567951202394, 'accuracy': 39.89}\n"
     ]
    },
    {
     "name": "stderr",
     "output_type": "stream",
     "text": [
      "\r",
      " 67%|██████▋   | 4/6 [00:50<00:25, 12.61s/it]"
     ]
    },
    {
     "name": "stdout",
     "output_type": "stream",
     "text": [
      "train results {'nll': 2.368421145019531, 'loss': 2.368421145019531, 'accuracy': 44.754}\n",
      "test results {'nll': 2.5906559658050536, 'loss': 2.5906559658050536, 'accuracy': 41.68}\n"
     ]
    },
    {
     "name": "stderr",
     "output_type": "stream",
     "text": [
      "\r",
      " 83%|████████▎ | 5/6 [01:03<00:12, 12.61s/it]"
     ]
    },
    {
     "name": "stdout",
     "output_type": "stream",
     "text": [
      "train results {'nll': 2.3230034755706788, 'loss': 2.3230034755706788, 'accuracy': 42.938}\n",
      "test results {'nll': 2.559454104614258, 'loss': 2.559454104614258, 'accuracy': 40.88}\n"
     ]
    },
    {
     "name": "stderr",
     "output_type": "stream",
     "text": [
      "\r",
      "100%|██████████| 6/6 [01:15<00:00, 12.63s/it]"
     ]
    },
    {
     "name": "stdout",
     "output_type": "stream",
     "text": [
      "train results {'nll': 2.3739052545166017, 'loss': 2.3739052545166017, 'accuracy': 43.376}\n",
      "test results {'nll': 2.5974591327667236, 'loss': 2.5974591327667236, 'accuracy': 40.96}\n"
     ]
    },
    {
     "name": "stderr",
     "output_type": "stream",
     "text": [
      "\n"
     ]
    }
   ],
   "source": [
    "stat_wb = get_stat(PointFinderWithBias, model_name, architecture, t=0.5,\n",
    "                  beg_ind=1, end_ind=7)"
   ]
  },
  {
   "cell_type": "code",
   "execution_count": 75,
   "metadata": {},
   "outputs": [
    {
     "data": {
      "text/plain": [
       "(43.43133333333333, 0.9128370914656981, 41.145, 0.7900791099630459)"
      ]
     },
     "execution_count": 75,
     "metadata": {},
     "output_type": "execute_result"
    }
   ],
   "source": [
    "get_mean_svd(stat_wb)"
   ]
  },
  {
   "cell_type": "code",
   "execution_count": 76,
   "metadata": {},
   "outputs": [
    {
     "name": "stderr",
     "output_type": "stream",
     "text": [
      " 17%|█▋        | 1/6 [00:12<01:03, 12.60s/it]"
     ]
    },
    {
     "name": "stdout",
     "output_type": "stream",
     "text": [
      "train results {'nll': 1.9666611227035522, 'loss': 1.9666611227035522, 'accuracy': 41.488}\n",
      "test results {'nll': 2.0515497386932373, 'loss': 2.0515497386932373, 'accuracy': 39.7}\n"
     ]
    },
    {
     "name": "stderr",
     "output_type": "stream",
     "text": [
      "\r",
      " 33%|███▎      | 2/6 [00:25<00:50, 12.58s/it]"
     ]
    },
    {
     "name": "stdout",
     "output_type": "stream",
     "text": [
      "train results {'nll': 1.9367993900680542, 'loss': 1.9367993900680542, 'accuracy': 40.474}\n",
      "test results {'nll': 2.033670974731445, 'loss': 2.033670974731445, 'accuracy': 38.18}\n"
     ]
    },
    {
     "name": "stderr",
     "output_type": "stream",
     "text": [
      "\r",
      " 50%|█████     | 3/6 [00:37<00:37, 12.59s/it]"
     ]
    },
    {
     "name": "stdout",
     "output_type": "stream",
     "text": [
      "train results {'nll': 1.9625302530288695, 'loss': 1.9625302530288695, 'accuracy': 41.354}\n",
      "test results {'nll': 2.049591414260864, 'loss': 2.049591414260864, 'accuracy': 39.31}\n"
     ]
    },
    {
     "name": "stderr",
     "output_type": "stream",
     "text": [
      "\r",
      " 67%|██████▋   | 4/6 [00:50<00:25, 12.60s/it]"
     ]
    },
    {
     "name": "stdout",
     "output_type": "stream",
     "text": [
      "train results {'nll': 1.9057716506958007, 'loss': 1.9057716506958007, 'accuracy': 41.692}\n",
      "test results {'nll': 2.0193163990020753, 'loss': 2.0193163990020753, 'accuracy': 39.22}\n"
     ]
    },
    {
     "name": "stderr",
     "output_type": "stream",
     "text": [
      "\r",
      " 83%|████████▎ | 5/6 [01:02<00:12, 12.60s/it]"
     ]
    },
    {
     "name": "stdout",
     "output_type": "stream",
     "text": [
      "train results {'nll': 1.9659310943603516, 'loss': 1.9659310943603516, 'accuracy': 40.222}\n",
      "test results {'nll': 2.065386840057373, 'loss': 2.065386840057373, 'accuracy': 37.99}\n"
     ]
    },
    {
     "name": "stderr",
     "output_type": "stream",
     "text": [
      "\r",
      "100%|██████████| 6/6 [01:15<00:00, 12.59s/it]"
     ]
    },
    {
     "name": "stdout",
     "output_type": "stream",
     "text": [
      "train results {'nll': 1.8959565802764893, 'loss': 1.8959565802764893, 'accuracy': 41.454}\n",
      "test results {'nll': 1.991972181892395, 'loss': 1.991972181892395, 'accuracy': 39.52}\n"
     ]
    },
    {
     "name": "stderr",
     "output_type": "stream",
     "text": [
      "\n"
     ]
    }
   ],
   "source": [
    "stat_wbl = get_stat(PointFinderWithBias, model_name, architecture, t=0.5, method='lin_connect',\n",
    "                  beg_ind=1, end_ind=7)"
   ]
  },
  {
   "cell_type": "code",
   "execution_count": 77,
   "metadata": {},
   "outputs": [
    {
     "data": {
      "text/plain": [
       "(41.114, 0.5556413711498934, 38.98666666666667, 0.6578162526285155)"
      ]
     },
     "execution_count": 77,
     "metadata": {},
     "output_type": "execute_result"
    }
   ],
   "source": [
    "get_mean_svd(stat_wbl)"
   ]
  },
  {
   "cell_type": "markdown",
   "metadata": {},
   "source": [
    "# End Point Stat"
   ]
  },
  {
   "cell_type": "code",
   "execution_count": null,
   "metadata": {},
   "outputs": [
    {
     "name": "stderr",
     "output_type": "stream",
     "text": [
      " 14%|█▍        | 1/7 [00:18<01:51, 18.63s/it]"
     ]
    },
    {
     "name": "stdout",
     "output_type": "stream",
     "text": [
      "train results {'nll': 0.025799275891780854, 'loss': 0.025799275891780854, 'accuracy': 99.366}\n",
      "test results {'nll': 2.340163063430786, 'loss': 2.340163063430786, 'accuracy': 61.71}\n"
     ]
    },
    {
     "name": "stderr",
     "output_type": "stream",
     "text": [
      "\r",
      " 29%|██▊       | 2/7 [00:36<01:32, 18.54s/it]"
     ]
    },
    {
     "name": "stdout",
     "output_type": "stream",
     "text": [
      "train results {'nll': 0.022805038956403734, 'loss': 0.022805038956403734, 'accuracy': 99.446}\n",
      "test results {'nll': 2.369862328720093, 'loss': 2.369862328720093, 'accuracy': 61.49}\n"
     ]
    },
    {
     "name": "stderr",
     "output_type": "stream",
     "text": [
      "\r",
      " 43%|████▎     | 3/7 [00:56<01:15, 18.77s/it]"
     ]
    },
    {
     "name": "stdout",
     "output_type": "stream",
     "text": [
      "train results {'nll': 0.02311081454396248, 'loss': 0.02311081454396248, 'accuracy': 99.476}\n",
      "test results {'nll': 2.3554563179016115, 'loss': 2.3554563179016115, 'accuracy': 61.85}\n"
     ]
    },
    {
     "name": "stderr",
     "output_type": "stream",
     "text": [
      "\r",
      " 57%|█████▋    | 4/7 [01:14<00:56, 18.70s/it]"
     ]
    },
    {
     "name": "stdout",
     "output_type": "stream",
     "text": [
      "train results {'nll': 0.024681506884694098, 'loss': 0.024681506884694098, 'accuracy': 99.342}\n",
      "test results {'nll': 2.369380573654175, 'loss': 2.369380573654175, 'accuracy': 61.53}\n"
     ]
    }
   ],
   "source": [
    "stat = get_end_point_stat(architecture, model_name, beg_ind=1, end_ind=8)"
   ]
  },
  {
   "cell_type": "code",
   "execution_count": 12,
   "metadata": {},
   "outputs": [
    {
     "data": {
      "text/plain": [
       "(99.42228571428572,\n",
       " 0.05293045109444276,\n",
       " 61.72428571428571,\n",
       " 0.21029619539097197)"
      ]
     },
     "execution_count": 12,
     "metadata": {},
     "output_type": "execute_result"
    }
   ],
   "source": [
    "get_mean_svd(stat)"
   ]
  },
  {
   "cell_type": "markdown",
   "metadata": {},
   "source": [
    "# Simultaneous Connection Stat"
   ]
  },
  {
   "cell_type": "code",
   "execution_count": null,
   "metadata": {},
   "outputs": [],
   "source": [
    "pf = PointFinderSimultaneous(model1, model2, architecture)"
   ]
  },
  {
   "cell_type": "code",
   "execution_count": null,
   "metadata": {},
   "outputs": [],
   "source": [
    "pf.find_point(0.5)"
   ]
  },
  {
   "cell_type": "code",
   "execution_count": null,
   "metadata": {},
   "outputs": [],
   "source": [
    "stat_s = get_stat(PointFinderSimultaneous, model_name, architecture, t=0.5,\n",
    "                  beg_ind=1, end_ind=7)\n",
    "get_mean_svd(stat_s)"
   ]
  },
  {
   "cell_type": "code",
   "execution_count": 14,
   "metadata": {},
   "outputs": [
    {
     "data": {
      "text/plain": [
       "(43.066, 1.9372585440943753, 37.92333333333333, 1.8489786970709587)"
      ]
     },
     "execution_count": 14,
     "metadata": {},
     "output_type": "execute_result"
    }
   ],
   "source": [
    "get_mean_svd(stat_s)"
   ]
  },
  {
   "cell_type": "code",
   "execution_count": 16,
   "metadata": {},
   "outputs": [
    {
     "name": "stderr",
     "output_type": "stream",
     "text": [
      "\n",
      "  0%|          | 0/6 [00:00<?, ?it/s]\u001b[A\n",
      " 17%|█▋        | 1/6 [00:20<01:41, 20.23s/it]\u001b[A"
     ]
    },
    {
     "name": "stdout",
     "output_type": "stream",
     "text": [
      "train results {'nll': 2.1606676138305665, 'loss': 2.1606676138305665, 'accuracy': 38.052}\n",
      "test results {'nll': 2.1791792755126953, 'loss': 2.1791792755126953, 'accuracy': 33.61}\n"
     ]
    },
    {
     "name": "stderr",
     "output_type": "stream",
     "text": [
      "\n",
      " 33%|███▎      | 2/6 [00:40<01:21, 20.30s/it]\u001b[A"
     ]
    },
    {
     "name": "stdout",
     "output_type": "stream",
     "text": [
      "train results {'nll': 2.1705334020233154, 'loss': 2.1705334020233154, 'accuracy': 30.958}\n",
      "test results {'nll': 2.1869637825012207, 'loss': 2.1869637825012207, 'accuracy': 26.98}\n"
     ]
    },
    {
     "name": "stderr",
     "output_type": "stream",
     "text": [
      "\n",
      " 50%|█████     | 3/6 [01:00<01:00, 20.26s/it]\u001b[A"
     ]
    },
    {
     "name": "stdout",
     "output_type": "stream",
     "text": [
      "train results {'nll': 2.156970229110718, 'loss': 2.156970229110718, 'accuracy': 33.708}\n",
      "test results {'nll': 2.174539278793335, 'loss': 2.174539278793335, 'accuracy': 29.42}\n"
     ]
    },
    {
     "name": "stderr",
     "output_type": "stream",
     "text": [
      "\n",
      " 67%|██████▋   | 4/6 [01:22<00:41, 20.71s/it]\u001b[A"
     ]
    },
    {
     "name": "stdout",
     "output_type": "stream",
     "text": [
      "train results {'nll': 2.158530164489746, 'loss': 2.158530164489746, 'accuracy': 36.93}\n",
      "test results {'nll': 2.174554136657715, 'loss': 2.174554136657715, 'accuracy': 32.79}\n"
     ]
    },
    {
     "name": "stderr",
     "output_type": "stream",
     "text": [
      "\n",
      " 83%|████████▎ | 5/6 [01:43<00:20, 20.71s/it]\u001b[A"
     ]
    },
    {
     "name": "stdout",
     "output_type": "stream",
     "text": [
      "train results {'nll': 2.141670345001221, 'loss': 2.141670345001221, 'accuracy': 36.414}\n",
      "test results {'nll': 2.1602546333312986, 'loss': 2.1602546333312986, 'accuracy': 31.41}\n"
     ]
    },
    {
     "name": "stderr",
     "output_type": "stream",
     "text": [
      "\n",
      "100%|██████████| 6/6 [02:04<00:00, 20.70s/it]\u001b[A\n",
      "\u001b[A"
     ]
    },
    {
     "name": "stdout",
     "output_type": "stream",
     "text": [
      "train results {'nll': 2.146985368270874, 'loss': 2.146985368270874, 'accuracy': 33.994}\n",
      "test results {'nll': 2.163372517776489, 'loss': 2.163372517776489, 'accuracy': 30.0}\n"
     ]
    },
    {
     "data": {
      "text/plain": [
       "(35.00933333333334, 2.3824896408775613, 30.701666666666668, 2.210093638036381)"
      ]
     },
     "execution_count": 16,
     "metadata": {},
     "output_type": "execute_result"
    }
   ],
   "source": [
    "stat_sl = get_stat(PointFinderSimultaneous, model_name, architecture, \n",
    "                  beg_ind=1, end_ind=7, method='lin_connect')\n",
    "get_mean_svd(stat_sl)"
   ]
  },
  {
   "cell_type": "code",
   "execution_count": 17,
   "metadata": {},
   "outputs": [
    {
     "data": {
      "text/plain": [
       "(35.00933333333334, 2.3824896408775613, 30.701666666666668, 2.210093638036381)"
      ]
     },
     "execution_count": 17,
     "metadata": {},
     "output_type": "execute_result"
    }
   ],
   "source": [
    "get_mean_svd(stat_sl)"
   ]
  },
  {
   "cell_type": "markdown",
   "metadata": {},
   "source": [
    "# Butterfly Stat"
   ]
  },
  {
   "cell_type": "code",
   "execution_count": 6,
   "metadata": {},
   "outputs": [
    {
     "name": "stderr",
     "output_type": "stream",
     "text": [
      "\r",
      "  0%|          | 0/3 [00:00<?, ?it/s]"
     ]
    },
    {
     "name": "stdout",
     "output_type": "stream",
     "text": [
      "finding feature maps\n"
     ]
    },
    {
     "name": "stderr",
     "output_type": "stream",
     "text": [
      "100%|██████████| 3/3 [00:20<00:00,  8.06s/it]\n",
      "  0%|          | 0/3 [00:00<?, ?it/s]"
     ]
    },
    {
     "name": "stdout",
     "output_type": "stream",
     "text": [
      "finding feature maps\n"
     ]
    },
    {
     "name": "stderr",
     "output_type": "stream",
     "text": [
      "100%|██████████| 3/3 [00:21<00:00,  8.48s/it]\n",
      "0it [00:00, ?it/s]"
     ]
    },
    {
     "name": "stdout",
     "output_type": "stream",
     "text": [
      "adjusting weights\n"
     ]
    },
    {
     "name": "stderr",
     "output_type": "stream",
     "text": [
      "3it [07:43, 212.26s/it]\n"
     ]
    }
   ],
   "source": [
    "pf_b = PointFinderStepWiseButterfly(model1, model2, architecture)"
   ]
  },
  {
   "cell_type": "code",
   "execution_count": 13,
   "metadata": {},
   "outputs": [
    {
     "data": {
      "text/plain": [
       "array([0.        , 0.16666667, 0.33333333, 0.5       , 0.66666667,\n",
       "       0.83333333, 1.        , 1.16666667, 1.33333333, 1.5       ,\n",
       "       1.66666667, 1.83333333, 2.        , 2.16666667, 2.33333333,\n",
       "       2.5       , 2.66666667, 2.83333333, 3.        , 3.16666667,\n",
       "       3.33333333, 3.5       , 3.66666667, 3.83333333, 4.        ,\n",
       "       4.16666667, 4.33333333, 4.5       , 4.66666667, 4.83333333,\n",
       "       5.        ])"
      ]
     },
     "execution_count": 13,
     "metadata": {},
     "output_type": "execute_result"
    }
   ],
   "source": [
    "time = np.linspace(0, depth, depth*6+1)\n",
    "time"
   ]
  },
  {
   "cell_type": "code",
   "execution_count": 14,
   "metadata": {},
   "outputs": [
    {
     "name": "stderr",
     "output_type": "stream",
     "text": [
      "  3%|▎         | 1/31 [00:20<10:08, 20.27s/it]"
     ]
    },
    {
     "name": "stdout",
     "output_type": "stream",
     "text": [
      "train results {'nll': 0.02311081440448761, 'loss': 0.02311081440448761, 'accuracy': 99.476}\n",
      "test results {'nll': 2.3554563610076906, 'loss': 2.3554563610076906, 'accuracy': 61.85}\n"
     ]
    },
    {
     "name": "stderr",
     "output_type": "stream",
     "text": [
      "\r",
      "  6%|▋         | 2/31 [00:42<10:02, 20.77s/it]"
     ]
    },
    {
     "name": "stdout",
     "output_type": "stream",
     "text": [
      "train results {'nll': 0.0346201055085659, 'loss': 0.0346201055085659, 'accuracy': 99.118}\n",
      "test results {'nll': 2.355057799911499, 'loss': 2.355057799911499, 'accuracy': 61.15}\n"
     ]
    },
    {
     "name": "stderr",
     "output_type": "stream",
     "text": [
      "\r",
      " 10%|▉         | 3/31 [01:01<09:33, 20.48s/it]"
     ]
    },
    {
     "name": "stdout",
     "output_type": "stream",
     "text": [
      "train results {'nll': 0.09705775912284852, 'loss': 0.09705775912284852, 'accuracy': 96.842}\n",
      "test results {'nll': 2.429749712753296, 'loss': 2.429749712753296, 'accuracy': 59.21}\n"
     ]
    },
    {
     "name": "stderr",
     "output_type": "stream",
     "text": [
      "\r",
      " 13%|█▎        | 4/31 [01:22<09:16, 20.63s/it]"
     ]
    },
    {
     "name": "stdout",
     "output_type": "stream",
     "text": [
      "train results {'nll': 0.1613047597026825, 'loss': 0.1613047597026825, 'accuracy': 94.53}\n",
      "test results {'nll': 2.4986160202026366, 'loss': 2.4986160202026366, 'accuracy': 58.18}\n"
     ]
    },
    {
     "name": "stderr",
     "output_type": "stream",
     "text": [
      "\r",
      " 16%|█▌        | 5/31 [01:44<09:02, 20.85s/it]"
     ]
    },
    {
     "name": "stdout",
     "output_type": "stream",
     "text": [
      "train results {'nll': 0.10556922871351242, 'loss': 0.10556922871351242, 'accuracy': 96.418}\n",
      "test results {'nll': 2.446371557998657, 'loss': 2.446371557998657, 'accuracy': 59.37}\n"
     ]
    },
    {
     "name": "stderr",
     "output_type": "stream",
     "text": [
      "\r",
      " 19%|█▉        | 6/31 [02:04<08:36, 20.66s/it]"
     ]
    },
    {
     "name": "stdout",
     "output_type": "stream",
     "text": [
      "train results {'nll': 0.03920828018784523, 'loss': 0.03920828018784523, 'accuracy': 98.926}\n",
      "test results {'nll': 2.371749269104004, 'loss': 2.371749269104004, 'accuracy': 61.09}\n"
     ]
    },
    {
     "name": "stderr",
     "output_type": "stream",
     "text": [
      "\r",
      " 23%|██▎       | 7/31 [02:26<08:21, 20.90s/it]"
     ]
    },
    {
     "name": "stdout",
     "output_type": "stream",
     "text": [
      "train results {'nll': 0.025912263960838317, 'loss': 0.025912263960838317, 'accuracy': 99.386}\n",
      "test results {'nll': 2.3626223724365234, 'loss': 2.3626223724365234, 'accuracy': 61.72}\n"
     ]
    },
    {
     "name": "stderr",
     "output_type": "stream",
     "text": [
      "\r",
      " 26%|██▌       | 8/31 [02:46<07:58, 20.79s/it]"
     ]
    },
    {
     "name": "stdout",
     "output_type": "stream",
     "text": [
      "train results {'nll': 0.08407561532020569, 'loss': 0.08407561532020569, 'accuracy': 97.18}\n",
      "test results {'nll': 2.4180985580444334, 'loss': 2.4180985580444334, 'accuracy': 60.59}\n"
     ]
    },
    {
     "name": "stderr",
     "output_type": "stream",
     "text": [
      "\r",
      " 29%|██▉       | 9/31 [03:06<07:29, 20.42s/it]"
     ]
    },
    {
     "name": "stdout",
     "output_type": "stream",
     "text": [
      "train results {'nll': 0.5000852962112426, 'loss': 0.5000852962112426, 'accuracy': 84.768}\n",
      "test results {'nll': 2.6560116397857665, 'loss': 2.6560116397857665, 'accuracy': 57.26}\n"
     ]
    },
    {
     "name": "stderr",
     "output_type": "stream",
     "text": [
      "\r",
      " 32%|███▏      | 10/31 [03:25<07:03, 20.16s/it]"
     ]
    },
    {
     "name": "stdout",
     "output_type": "stream",
     "text": [
      "train results {'nll': 0.9723580808067321, 'loss': 0.9723580808067321, 'accuracy': 75.454}\n",
      "test results {'nll': 2.8543504409790037, 'loss': 2.8543504409790037, 'accuracy': 55.34}\n"
     ]
    },
    {
     "name": "stderr",
     "output_type": "stream",
     "text": [
      "\r",
      " 35%|███▌      | 11/31 [03:45<06:38, 19.94s/it]"
     ]
    },
    {
     "name": "stdout",
     "output_type": "stream",
     "text": [
      "train results {'nll': 0.7549392844581604, 'loss': 0.7549392844581604, 'accuracy': 79.118}\n",
      "test results {'nll': 2.667583271789551, 'loss': 2.667583271789551, 'accuracy': 56.84}\n"
     ]
    },
    {
     "name": "stderr",
     "output_type": "stream",
     "text": [
      "\r",
      " 39%|███▊      | 12/31 [04:04<06:16, 19.84s/it]"
     ]
    },
    {
     "name": "stdout",
     "output_type": "stream",
     "text": [
      "train results {'nll': 0.284160764093399, 'loss': 0.284160764093399, 'accuracy': 90.196}\n",
      "test results {'nll': 2.381463835144043, 'loss': 2.381463835144043, 'accuracy': 59.93}\n"
     ]
    },
    {
     "name": "stderr",
     "output_type": "stream",
     "text": [
      "\r",
      " 42%|████▏     | 13/31 [04:24<05:56, 19.83s/it]"
     ]
    },
    {
     "name": "stdout",
     "output_type": "stream",
     "text": [
      "train results {'nll': 0.14499025668621063, 'loss': 0.14499025668621063, 'accuracy': 94.862}\n",
      "test results {'nll': 2.271600431442261, 'loss': 2.271600431442261, 'accuracy': 61.66}\n"
     ]
    },
    {
     "name": "stderr",
     "output_type": "stream",
     "text": [
      "\r",
      " 45%|████▌     | 14/31 [04:44<05:36, 19.81s/it]"
     ]
    },
    {
     "name": "stdout",
     "output_type": "stream",
     "text": [
      "train results {'nll': 0.3119721153640747, 'loss': 0.3119721153640747, 'accuracy': 89.516}\n",
      "test results {'nll': 2.407923331451416, 'loss': 2.407923331451416, 'accuracy': 60.18}\n"
     ]
    },
    {
     "name": "stderr",
     "output_type": "stream",
     "text": [
      "\r",
      " 48%|████▊     | 15/31 [05:02<05:10, 19.43s/it]"
     ]
    },
    {
     "name": "stdout",
     "output_type": "stream",
     "text": [
      "train results {'nll': 0.8591339293289184, 'loss': 0.8591339293289184, 'accuracy': 77.45}\n",
      "test results {'nll': 2.633820461654663, 'loss': 2.633820461654663, 'accuracy': 57.1}\n"
     ]
    },
    {
     "name": "stderr",
     "output_type": "stream",
     "text": [
      "\r",
      " 52%|█████▏    | 16/31 [05:22<04:53, 19.56s/it]"
     ]
    },
    {
     "name": "stdout",
     "output_type": "stream",
     "text": [
      "train results {'nll': 1.2360605472564696, 'loss': 1.2360605472564696, 'accuracy': 71.57}\n",
      "test results {'nll': 2.753880615234375, 'loss': 2.753880615234375, 'accuracy': 55.32}\n"
     ]
    },
    {
     "name": "stderr",
     "output_type": "stream",
     "text": [
      "\r",
      " 55%|█████▍    | 17/31 [05:42<04:36, 19.77s/it]"
     ]
    },
    {
     "name": "stdout",
     "output_type": "stream",
     "text": [
      "train results {'nll': 0.9473435217666626, 'loss': 0.9473435217666626, 'accuracy': 75.926}\n",
      "test results {'nll': 2.5618952545166014, 'loss': 2.5618952545166014, 'accuracy': 57.54}\n"
     ]
    },
    {
     "name": "stderr",
     "output_type": "stream",
     "text": [
      "\r",
      " 58%|█████▊    | 18/31 [06:03<04:19, 19.96s/it]"
     ]
    },
    {
     "name": "stdout",
     "output_type": "stream",
     "text": [
      "train results {'nll': 0.418967825422287, 'loss': 0.418967825422287, 'accuracy': 86.528}\n",
      "test results {'nll': 2.2669828937530516, 'loss': 2.2669828937530516, 'accuracy': 61.07}\n"
     ]
    },
    {
     "name": "stderr",
     "output_type": "stream",
     "text": [
      "\r",
      " 61%|██████▏   | 19/31 [06:23<04:01, 20.13s/it]"
     ]
    },
    {
     "name": "stdout",
     "output_type": "stream",
     "text": [
      "train results {'nll': 0.2234483252429962, 'loss': 0.2234483252429962, 'accuracy': 91.974}\n",
      "test results {'nll': 2.1622446655273437, 'loss': 2.1622446655273437, 'accuracy': 62.52}\n"
     ]
    },
    {
     "name": "stderr",
     "output_type": "stream",
     "text": [
      "\r",
      " 65%|██████▍   | 20/31 [06:44<03:44, 20.42s/it]"
     ]
    },
    {
     "name": "stdout",
     "output_type": "stream",
     "text": [
      "train results {'nll': 0.22603630239963532, 'loss': 0.22603630239963532, 'accuracy': 91.996}\n",
      "test results {'nll': 2.1740310009002686, 'loss': 2.1740310009002686, 'accuracy': 62.24}\n"
     ]
    },
    {
     "name": "stderr",
     "output_type": "stream",
     "text": [
      "\r",
      " 68%|██████▊   | 21/31 [07:05<03:24, 20.47s/it]"
     ]
    },
    {
     "name": "stdout",
     "output_type": "stream",
     "text": [
      "train results {'nll': 0.19430615143299101, 'loss': 0.19430615143299101, 'accuracy': 93.134}\n",
      "test results {'nll': 2.19307737159729, 'loss': 2.19307737159729, 'accuracy': 62.02}\n"
     ]
    },
    {
     "name": "stderr",
     "output_type": "stream",
     "text": [
      "\r",
      " 71%|███████   | 22/31 [07:24<03:00, 20.05s/it]"
     ]
    },
    {
     "name": "stdout",
     "output_type": "stream",
     "text": [
      "train results {'nll': 0.12041250507593156, 'loss': 0.12041250507593156, 'accuracy': 95.864}\n",
      "test results {'nll': 2.228422426986694, 'loss': 2.228422426986694, 'accuracy': 61.64}\n"
     ]
    },
    {
     "name": "stderr",
     "output_type": "stream",
     "text": [
      "\r",
      " 74%|███████▍  | 23/31 [07:45<02:41, 20.20s/it]"
     ]
    },
    {
     "name": "stdout",
     "output_type": "stream",
     "text": [
      "train results {'nll': 0.05622499491453171, 'loss': 0.05622499491453171, 'accuracy': 98.328}\n",
      "test results {'nll': 2.280330142211914, 'loss': 2.280330142211914, 'accuracy': 61.71}\n"
     ]
    },
    {
     "name": "stderr",
     "output_type": "stream",
     "text": [
      "\r",
      " 77%|███████▋  | 24/31 [08:04<02:20, 20.01s/it]"
     ]
    },
    {
     "name": "stdout",
     "output_type": "stream",
     "text": [
      "train results {'nll': 0.029780661680698393, 'loss': 0.029780661680698393, 'accuracy': 99.254}\n",
      "test results {'nll': 2.338973477554321, 'loss': 2.338973477554321, 'accuracy': 61.46}\n"
     ]
    },
    {
     "name": "stderr",
     "output_type": "stream",
     "text": [
      "\r",
      " 81%|████████  | 25/31 [08:24<01:59, 19.97s/it]"
     ]
    },
    {
     "name": "stdout",
     "output_type": "stream",
     "text": [
      "train results {'nll': 0.02468150682747364, 'loss': 0.02468150682747364, 'accuracy': 99.342}\n",
      "test results {'nll': 2.369380598068237, 'loss': 2.369380598068237, 'accuracy': 61.53}\n"
     ]
    },
    {
     "name": "stderr",
     "output_type": "stream",
     "text": [
      "\r",
      " 84%|████████▍ | 26/31 [08:43<01:38, 19.74s/it]"
     ]
    },
    {
     "name": "stdout",
     "output_type": "stream",
     "text": [
      "train results {'nll': 0.02468150682747364, 'loss': 0.02468150682747364, 'accuracy': 99.342}\n",
      "test results {'nll': 2.369380598068237, 'loss': 2.369380598068237, 'accuracy': 61.53}\n"
     ]
    },
    {
     "name": "stderr",
     "output_type": "stream",
     "text": [
      "\r",
      " 87%|████████▋ | 27/31 [09:04<01:20, 20.17s/it]"
     ]
    },
    {
     "name": "stdout",
     "output_type": "stream",
     "text": [
      "train results {'nll': 0.02468150682747364, 'loss': 0.02468150682747364, 'accuracy': 99.342}\n",
      "test results {'nll': 2.369380598068237, 'loss': 2.369380598068237, 'accuracy': 61.53}\n"
     ]
    },
    {
     "name": "stderr",
     "output_type": "stream",
     "text": [
      "\r",
      " 90%|█████████ | 28/31 [09:23<00:59, 19.81s/it]"
     ]
    },
    {
     "name": "stdout",
     "output_type": "stream",
     "text": [
      "train results {'nll': 0.02468150682747364, 'loss': 0.02468150682747364, 'accuracy': 99.342}\n",
      "test results {'nll': 2.369380598068237, 'loss': 2.369380598068237, 'accuracy': 61.53}\n"
     ]
    },
    {
     "name": "stderr",
     "output_type": "stream",
     "text": [
      "\r",
      " 94%|█████████▎| 29/31 [09:43<00:39, 19.65s/it]"
     ]
    },
    {
     "name": "stdout",
     "output_type": "stream",
     "text": [
      "train results {'nll': 0.02468150682747364, 'loss': 0.02468150682747364, 'accuracy': 99.342}\n",
      "test results {'nll': 2.369380598068237, 'loss': 2.369380598068237, 'accuracy': 61.53}\n"
     ]
    },
    {
     "name": "stderr",
     "output_type": "stream",
     "text": [
      "\r",
      " 97%|█████████▋| 30/31 [10:02<00:19, 19.49s/it]"
     ]
    },
    {
     "name": "stdout",
     "output_type": "stream",
     "text": [
      "train results {'nll': 0.02468150682747364, 'loss': 0.02468150682747364, 'accuracy': 99.342}\n",
      "test results {'nll': 2.369380598068237, 'loss': 2.369380598068237, 'accuracy': 61.53}\n"
     ]
    },
    {
     "name": "stderr",
     "output_type": "stream",
     "text": [
      "\r",
      "100%|██████████| 31/31 [10:22<00:00, 19.78s/it]"
     ]
    },
    {
     "name": "stdout",
     "output_type": "stream",
     "text": [
      "train results {'nll': 0.02468150682747364, 'loss': 0.02468150682747364, 'accuracy': 99.342}\n",
      "test results {'nll': 2.369380598068237, 'loss': 2.369380598068237, 'accuracy': 61.53}\n"
     ]
    },
    {
     "name": "stderr",
     "output_type": "stream",
     "text": [
      "\n"
     ]
    }
   ],
   "source": [
    "path_b = find_path(time, pf_b, method='arc_connect')"
   ]
  },
  {
   "cell_type": "code",
   "execution_count": 15,
   "metadata": {},
   "outputs": [
    {
     "data": {
      "image/png": "[encoded data removed]",
      "text/plain": [
       "<Figure size 432x288 with 1 Axes>"
      ]
     },
     "metadata": {
      "needs_background": "light"
     },
     "output_type": "display_data"
    }
   ],
   "source": [
    "plt.plot(time, path_b['train'], label='train')\n",
    "plt.plot(time, path_b['test'], label='test') \n",
    "plt.legend()\n",
    "plt.xlabel('time')\n",
    "plt.ylabel('error (%)')\n",
    "plt.show()"
   ]
  },
  {
   "cell_type": "code",
   "execution_count": null,
   "metadata": {},
   "outputs": [
    {
     "name": "stderr",
     "output_type": "stream",
     "text": [
      "  0%|          | 0/6 [00:00<?, ?it/s]\n",
      "  0%|          | 0/3 [00:00<?, ?it/s]\u001b[A"
     ]
    },
    {
     "name": "stdout",
     "output_type": "stream",
     "text": [
      "finding feature maps\n"
     ]
    },
    {
     "name": "stderr",
     "output_type": "stream",
     "text": [
      "\n",
      " 33%|███▎      | 1/3 [00:12<00:25, 12.83s/it]\u001b[A\n",
      " 67%|██████▋   | 2/3 [00:19<00:10, 10.84s/it]\u001b[A\n",
      "100%|██████████| 3/3 [00:20<00:00,  7.97s/it]\u001b[A\n",
      "\u001b[A\n",
      "  0%|          | 0/3 [00:00<?, ?it/s]\u001b[A"
     ]
    },
    {
     "name": "stdout",
     "output_type": "stream",
     "text": [
      "finding feature maps\n"
     ]
    },
    {
     "name": "stderr",
     "output_type": "stream",
     "text": [
      "\n",
      " 33%|███▎      | 1/3 [00:14<00:28, 14.19s/it]\u001b[A\n",
      " 67%|██████▋   | 2/3 [00:22<00:12, 12.29s/it]\u001b[A\n",
      "100%|██████████| 3/3 [00:23<00:00,  9.11s/it]\u001b[A\n",
      "\u001b[A\n",
      "0it [00:00, ?it/s]\u001b[A"
     ]
    },
    {
     "name": "stdout",
     "output_type": "stream",
     "text": [
      "adjusting weights\n"
     ]
    },
    {
     "name": "stderr",
     "output_type": "stream",
     "text": [
      "\n",
      "1it [10:02, 602.75s/it]\u001b[A\n",
      "2it [10:44, 434.39s/it]\u001b[A\n",
      "3it [10:58, 308.19s/it]\u001b[A\n",
      " 17%|█▋        | 1/6 [12:02<1:00:10, 722.16s/it]"
     ]
    },
    {
     "name": "stdout",
     "output_type": "stream",
     "text": [
      "train results {'nll': 1.215883578414917, 'loss': 1.215883578414917, 'accuracy': 71.45}\n",
      "test results {'nll': 2.7456366962432863, 'loss': 2.7456366962432863, 'accuracy': 55.17}\n"
     ]
    },
    {
     "name": "stderr",
     "output_type": "stream",
     "text": [
      "\n",
      "  0%|          | 0/3 [00:00<?, ?it/s]\u001b[A"
     ]
    },
    {
     "name": "stdout",
     "output_type": "stream",
     "text": [
      "finding feature maps\n"
     ]
    },
    {
     "name": "stderr",
     "output_type": "stream",
     "text": [
      "\n",
      " 33%|███▎      | 1/3 [00:12<00:25, 12.97s/it]\u001b[A\n",
      " 67%|██████▋   | 2/3 [00:19<00:11, 11.03s/it]\u001b[A\n",
      "100%|██████████| 3/3 [00:20<00:00,  8.17s/it]\u001b[A\n",
      "\u001b[A\n",
      "  0%|          | 0/3 [00:00<?, ?it/s]\u001b[A"
     ]
    },
    {
     "name": "stdout",
     "output_type": "stream",
     "text": [
      "finding feature maps\n"
     ]
    },
    {
     "name": "stderr",
     "output_type": "stream",
     "text": [
      "\n",
      " 33%|███▎      | 1/3 [00:12<00:24, 12.23s/it]\u001b[A\n",
      " 67%|██████▋   | 2/3 [00:19<00:10, 10.66s/it]\u001b[A\n",
      "100%|██████████| 3/3 [00:20<00:00,  7.82s/it]\u001b[A\n",
      "\u001b[A\n",
      "0it [00:00, ?it/s]\u001b[A"
     ]
    },
    {
     "name": "stdout",
     "output_type": "stream",
     "text": [
      "adjusting weights\n"
     ]
    },
    {
     "name": "stderr",
     "output_type": "stream",
     "text": [
      "\n",
      "1it [06:55, 415.97s/it]\u001b[A\n",
      "2it [07:40, 304.62s/it]\u001b[A\n",
      "3it [07:57, 218.31s/it]\u001b[A\n",
      " 33%|███▎      | 2/6 [21:02<44:30, 667.59s/it]  "
     ]
    },
    {
     "name": "stdout",
     "output_type": "stream",
     "text": [
      "train results {'nll': 1.2504998838424684, 'loss': 1.2504998838424684, 'accuracy': 70.806}\n",
      "test results {'nll': 2.7852711139678954, 'loss': 2.7852711139678954, 'accuracy': 55.1}\n"
     ]
    },
    {
     "name": "stderr",
     "output_type": "stream",
     "text": [
      "\n",
      "  0%|          | 0/3 [00:00<?, ?it/s]\u001b[A"
     ]
    },
    {
     "name": "stdout",
     "output_type": "stream",
     "text": [
      "finding feature maps\n"
     ]
    },
    {
     "name": "stderr",
     "output_type": "stream",
     "text": [
      "\n",
      " 33%|███▎      | 1/3 [00:12<00:25, 12.91s/it]\u001b[A\n",
      " 67%|██████▋   | 2/3 [00:19<00:10, 10.99s/it]\u001b[A\n",
      "100%|██████████| 3/3 [00:20<00:00,  8.15s/it]\u001b[A\n",
      "\u001b[A\n",
      "  0%|          | 0/3 [00:00<?, ?it/s]\u001b[A"
     ]
    },
    {
     "name": "stdout",
     "output_type": "stream",
     "text": [
      "finding feature maps\n"
     ]
    },
    {
     "name": "stderr",
     "output_type": "stream",
     "text": [
      "\n",
      " 33%|███▎      | 1/3 [00:12<00:25, 12.65s/it]\u001b[A\n",
      " 67%|██████▋   | 2/3 [00:19<00:10, 10.87s/it]\u001b[A\n",
      "100%|██████████| 3/3 [00:20<00:00,  8.08s/it]\u001b[A\n",
      "\u001b[A\n",
      "0it [00:00, ?it/s]\u001b[A"
     ]
    },
    {
     "name": "stdout",
     "output_type": "stream",
     "text": [
      "adjusting weights\n"
     ]
    },
    {
     "name": "stderr",
     "output_type": "stream",
     "text": [
      "\n",
      "1it [06:52, 412.92s/it]\u001b[A\n",
      "2it [07:39, 303.05s/it]\u001b[A\n",
      "3it [07:51, 215.70s/it]\u001b[A\n",
      " 50%|█████     | 3/6 [29:57<31:23, 627.84s/it]"
     ]
    },
    {
     "name": "stdout",
     "output_type": "stream",
     "text": [
      "train results {'nll': 1.2360605472564696, 'loss': 1.2360605472564696, 'accuracy': 71.57}\n",
      "test results {'nll': 2.753880615234375, 'loss': 2.753880615234375, 'accuracy': 55.32}\n"
     ]
    },
    {
     "name": "stderr",
     "output_type": "stream",
     "text": [
      "\n",
      "  0%|          | 0/3 [00:00<?, ?it/s]\u001b[A"
     ]
    },
    {
     "name": "stdout",
     "output_type": "stream",
     "text": [
      "finding feature maps\n"
     ]
    },
    {
     "name": "stderr",
     "output_type": "stream",
     "text": [
      "\n",
      " 33%|███▎      | 1/3 [00:13<00:26, 13.08s/it]\u001b[A\n",
      " 67%|██████▋   | 2/3 [00:20<00:11, 11.29s/it]\u001b[A\n",
      "100%|██████████| 3/3 [00:21<00:00,  8.30s/it]\u001b[A\n",
      "\u001b[A\n",
      "  0%|          | 0/3 [00:00<?, ?it/s]\u001b[A"
     ]
    },
    {
     "name": "stdout",
     "output_type": "stream",
     "text": [
      "finding feature maps\n"
     ]
    },
    {
     "name": "stderr",
     "output_type": "stream",
     "text": [
      "\n",
      " 33%|███▎      | 1/3 [00:12<00:24, 12.29s/it]\u001b[A\n",
      " 67%|██████▋   | 2/3 [00:18<00:10, 10.61s/it]\u001b[A\n",
      "100%|██████████| 3/3 [00:20<00:00,  7.89s/it]\u001b[A\n",
      "\u001b[A\n",
      "0it [00:00, ?it/s]\u001b[A"
     ]
    },
    {
     "name": "stdout",
     "output_type": "stream",
     "text": [
      "adjusting weights\n"
     ]
    },
    {
     "name": "stderr",
     "output_type": "stream",
     "text": [
      "\n",
      "1it [06:43, 403.24s/it]\u001b[A\n",
      "2it [07:24, 294.60s/it]\u001b[A\n",
      "3it [07:39, 210.74s/it]\u001b[A\n",
      " 67%|██████▋   | 4/6 [38:39<19:52, 596.09s/it]"
     ]
    },
    {
     "name": "stdout",
     "output_type": "stream",
     "text": [
      "train results {'nll': 1.3182989444351196, 'loss': 1.3182989444351196, 'accuracy': 70.342}\n",
      "test results {'nll': 2.8603381500244143, 'loss': 2.8603381500244143, 'accuracy': 55.42}\n"
     ]
    },
    {
     "name": "stderr",
     "output_type": "stream",
     "text": [
      "\n",
      "  0%|          | 0/3 [00:00<?, ?it/s]\u001b[A"
     ]
    },
    {
     "name": "stdout",
     "output_type": "stream",
     "text": [
      "finding feature maps\n"
     ]
    },
    {
     "name": "stderr",
     "output_type": "stream",
     "text": [
      "\n",
      " 33%|███▎      | 1/3 [00:13<00:27, 13.86s/it]\u001b[A\n",
      " 67%|██████▋   | 2/3 [00:20<00:11, 11.67s/it]\u001b[A\n",
      "100%|██████████| 3/3 [00:21<00:00,  8.63s/it]\u001b[A\n",
      "\u001b[A\n",
      "  0%|          | 0/3 [00:00<?, ?it/s]\u001b[A"
     ]
    },
    {
     "name": "stdout",
     "output_type": "stream",
     "text": [
      "finding feature maps\n"
     ]
    },
    {
     "name": "stderr",
     "output_type": "stream",
     "text": [
      "\n",
      " 33%|███▎      | 1/3 [00:12<00:25, 12.83s/it]\u001b[A\n",
      " 67%|██████▋   | 2/3 [00:19<00:10, 10.91s/it]\u001b[A\n",
      "100%|██████████| 3/3 [00:20<00:00,  8.05s/it]\u001b[A\n",
      "\u001b[A\n",
      "0it [00:00, ?it/s]\u001b[A"
     ]
    },
    {
     "name": "stdout",
     "output_type": "stream",
     "text": [
      "adjusting weights\n"
     ]
    },
    {
     "name": "stderr",
     "output_type": "stream",
     "text": [
      "\n",
      "1it [06:55, 415.87s/it]\u001b[A\n",
      "2it [07:37, 303.51s/it]\u001b[A\n",
      "3it [07:54, 217.50s/it]\u001b[A\n",
      " 83%|████████▎ | 5/6 [47:37<09:38, 578.58s/it]"
     ]
    },
    {
     "name": "stdout",
     "output_type": "stream",
     "text": [
      "train results {'nll': 1.2177199729919435, 'loss': 1.2177199729919435, 'accuracy': 71.726}\n",
      "test results {'nll': 2.72945258140564, 'loss': 2.72945258140564, 'accuracy': 55.96}\n"
     ]
    },
    {
     "name": "stderr",
     "output_type": "stream",
     "text": [
      "\n",
      "  0%|          | 0/3 [00:00<?, ?it/s]\u001b[A"
     ]
    },
    {
     "name": "stdout",
     "output_type": "stream",
     "text": [
      "finding feature maps\n"
     ]
    },
    {
     "name": "stderr",
     "output_type": "stream",
     "text": [
      "\n",
      " 33%|███▎      | 1/3 [00:12<00:24, 12.40s/it]\u001b[A\n",
      " 67%|██████▋   | 2/3 [00:18<00:10, 10.65s/it]\u001b[A\n",
      "100%|██████████| 3/3 [00:20<00:00,  7.90s/it]\u001b[A\n",
      "\u001b[A\n",
      "  0%|          | 0/3 [00:00<?, ?it/s]\u001b[A"
     ]
    },
    {
     "name": "stdout",
     "output_type": "stream",
     "text": [
      "finding feature maps\n"
     ]
    },
    {
     "name": "stderr",
     "output_type": "stream",
     "text": [
      "\n",
      " 33%|███▎      | 1/3 [00:13<00:26, 13.41s/it]\u001b[A\n",
      " 67%|██████▋   | 2/3 [00:20<00:11, 11.50s/it]\u001b[A\n",
      "100%|██████████| 3/3 [00:21<00:00,  8.51s/it]\u001b[A\n",
      "\u001b[A\n",
      "0it [00:00, ?it/s]\u001b[A"
     ]
    },
    {
     "name": "stdout",
     "output_type": "stream",
     "text": [
      "adjusting weights\n"
     ]
    },
    {
     "name": "stderr",
     "output_type": "stream",
     "text": [
      "\n",
      "1it [06:47, 407.83s/it]\u001b[A\n",
      "2it [07:34, 299.46s/it]\u001b[A\n",
      "3it [07:50, 214.34s/it]\u001b[A\n",
      "\u001b[A"
     ]
    }
   ],
   "source": [
    "stat_b = get_stat(PointFinderStepWiseButterfly, model_name, architecture, t=2.5,\n",
    "                  beg_ind=1, end_ind=7)"
   ]
  },
  {
   "cell_type": "code",
   "execution_count": null,
   "metadata": {},
   "outputs": [],
   "source": [
    "get_mean_svd(stat_b)"
   ]
  },
  {
   "cell_type": "code",
   "execution_count": null,
   "metadata": {},
   "outputs": [],
   "source": [
    "stat_bl = get_stat(PointFinderStepWiseButterfly, model_name, architecture, t=depth-0.5,\n",
    "                  beg_ind=1, end_ind=7, method='lin_connect')"
   ]
  },
  {
   "cell_type": "code",
   "execution_count": null,
   "metadata": {},
   "outputs": [],
   "source": [
    "get_mean_svd(stat_bl)"
   ]
  },
  {
   "cell_type": "markdown",
   "metadata": {},
   "source": [
    "# Inverse Stat"
   ]
  },
  {
   "cell_type": "code",
   "execution_count": null,
   "metadata": {},
   "outputs": [],
   "source": [
    "pf_inv = PointFinderStepWiseInverse(model1, model2, architecture) "
   ]
  },
  {
   "cell_type": "code",
   "execution_count": null,
   "metadata": {},
   "outputs": [],
   "source": [
    "path_i = find_path(time, pf_inv, method='arc_connect')"
   ]
  },
  {
   "cell_type": "code",
   "execution_count": null,
   "metadata": {},
   "outputs": [],
   "source": [
    "plt.plot(time, path_i['train'], label='train')\n",
    "plt.plot(time, path_i['test'], label='test') \n",
    "plt.legend()\n",
    "plt.xlabel('time')\n",
    "plt.ylabel('error (%)')\n",
    "plt.show()"
   ]
  },
  {
   "cell_type": "code",
   "execution_count": null,
   "metadata": {},
   "outputs": [],
   "source": [
    "stat_i = get_stat(PointFinderStepWiseInverse, model_name, architecture, t=depth-1.5,\n",
    "                  beg_ind=1, end_ind=7)"
   ]
  },
  {
   "cell_type": "code",
   "execution_count": null,
   "metadata": {},
   "outputs": [],
   "source": [
    "stat_il = get_stat(PointFinderStepWiseInverse, model_name, architecture, t=depth-1.5,\n",
    "                  beg_ind=1, end_ind=7, method='lin_connect')"
   ]
  },
  {
   "cell_type": "markdown",
   "metadata": {},
   "source": [
    "# Path Visualization "
   ]
  },
  {
   "cell_type": "code",
   "execution_count": 1,
   "metadata": {
    "scrolled": false
   },
   "outputs": [],
   "source": [
    "# time = np.linspace(0, 2, 9)"
   ]
  },
  {
   "cell_type": "code",
   "execution_count": 138,
   "metadata": {},
   "outputs": [
    {
     "data": {
      "image/png": "[encoded data removed]",
      "text/plain": [
       "<Figure size 432x288 with 1 Axes>"
      ]
     },
     "metadata": {
      "needs_background": "light"
     },
     "output_type": "display_data"
    }
   ],
   "source": [
    "plt.plot(time, path['train'], label='train')\n",
    "plt.plot(time, path['test'], label='test') \n",
    "plt.legend()\n",
    "plt.xlabel('time')\n",
    "plt.ylabel('error (%)')\n",
    "plt.show()"
   ]
  },
  {
   "cell_type": "code",
   "execution_count": 37,
   "metadata": {},
   "outputs": [
    {
     "data": {
      "image/png": "[encoded data removed]",
      "text/plain": [
       "<Figure size 432x288 with 1 Axes>"
      ]
     },
     "metadata": {
      "needs_background": "light"
     },
     "output_type": "display_data"
    }
   ],
   "source": [
    "plt.plot(time, path_l['train'], label='train')\n",
    "plt.plot(time, path_l['test'], label='test') \n",
    "plt.legend()\n",
    "plt.xlabel('time')\n",
    "plt.ylabel('error (%)')\n",
    "plt.show()"
   ]
  },
  {
   "cell_type": "markdown",
   "metadata": {},
   "source": [
    "# Count statistic in the fixed point"
   ]
  },
  {
   "cell_type": "code",
   "execution_count": 46,
   "metadata": {},
   "outputs": [
    {
     "name": "stderr",
     "output_type": "stream",
     "text": [
      "\n",
      "  0%|          | 0/6 [00:00<?, ?it/s]\u001b[A\n",
      " 17%|█▋        | 1/6 [02:01<10:06, 121.29s/it]\u001b[A\n",
      " 33%|███▎      | 2/6 [04:02<08:05, 121.31s/it]\u001b[A\n",
      " 50%|█████     | 3/6 [06:03<06:03, 121.27s/it]\u001b[A\n",
      " 67%|██████▋   | 4/6 [08:05<04:02, 121.25s/it]\u001b[A\n",
      " 83%|████████▎ | 5/6 [10:06<02:01, 121.22s/it]\u001b[A\n",
      "100%|██████████| 6/6 [12:07<00:00, 121.25s/it]\u001b[A\n",
      "\u001b[A"
     ]
    }
   ],
   "source": [
    "arcbutterfly = get_stat(PointFinder, t=1.5, method='arc_connect')"
   ]
  },
  {
   "cell_type": "code",
   "execution_count": 49,
   "metadata": {},
   "outputs": [
    {
     "data": {
      "text/plain": [
       "{'test': [48.77, 50.42, 49.46, 51.32, 49.09, 48.82],\n",
       " 'train': [59.931999999999995,\n",
       "  60.978,\n",
       "  60.397999999999996,\n",
       "  62.21600000000001,\n",
       "  60.01,\n",
       "  60.124]}"
      ]
     },
     "execution_count": 49,
     "metadata": {},
     "output_type": "execute_result"
    }
   ],
   "source": [
    "arcbutterfly"
   ]
  },
  {
   "cell_type": "code",
   "execution_count": 53,
   "metadata": {},
   "outputs": [
    {
     "data": {
      "text/plain": [
       "(60.60966666666667, 0.7974420912448094, 49.64666666666667, 0.930477774527091)"
      ]
     },
     "execution_count": 53,
     "metadata": {},
     "output_type": "execute_result"
    }
   ],
   "source": [
    "get_mean_svd(arcbutterfly)"
   ]
  },
  {
   "cell_type": "code",
   "execution_count": 54,
   "metadata": {},
   "outputs": [
    {
     "name": "stderr",
     "output_type": "stream",
     "text": [
      "\n",
      "  0%|          | 0/6 [00:00<?, ?it/s]\u001b[A\n",
      " 17%|█▋        | 1/6 [02:01<10:05, 121.01s/it]\u001b[A\n",
      " 33%|███▎      | 2/6 [04:01<08:03, 120.98s/it]\u001b[A\n",
      " 50%|█████     | 3/6 [06:02<06:02, 121.00s/it]\u001b[A\n",
      " 67%|██████▋   | 4/6 [08:04<04:02, 121.02s/it]\u001b[A\n",
      " 83%|████████▎ | 5/6 [10:04<02:01, 121.00s/it]\u001b[A\n",
      "100%|██████████| 6/6 [12:06<00:00, 121.03s/it]\u001b[A\n",
      "\u001b[A"
     ]
    }
   ],
   "source": [
    "linbutterfly = get_stat(PointFinder, t=1.5, method='lin_connect')"
   ]
  },
  {
   "cell_type": "code",
   "execution_count": 55,
   "metadata": {},
   "outputs": [
    {
     "data": {
      "text/plain": [
       "{'test': [36.93, 39.17, 39.379999999999995, 39.21, 38.12, 37.75],\n",
       " 'train': [46.738,\n",
       "  48.374,\n",
       "  48.087999999999994,\n",
       "  49.036,\n",
       "  47.355999999999995,\n",
       "  47.326]}"
      ]
     },
     "execution_count": 55,
     "metadata": {},
     "output_type": "execute_result"
    }
   ],
   "source": [
    "linbutterfly"
   ]
  },
  {
   "cell_type": "code",
   "execution_count": 56,
   "metadata": {},
   "outputs": [
    {
     "data": {
      "text/plain": [
       "(47.81966666666667, 0.7623922146040647, 38.42666666666667, 0.9006417465094294)"
      ]
     },
     "execution_count": 56,
     "metadata": {},
     "output_type": "execute_result"
    }
   ],
   "source": [
    "get_mean_svd(linbutterfly)"
   ]
  },
  {
   "cell_type": "code",
   "execution_count": 57,
   "metadata": {},
   "outputs": [
    {
     "name": "stderr",
     "output_type": "stream",
     "text": [
      "\n",
      "  0%|          | 0/6 [00:00<?, ?it/s]\u001b[A\n",
      " 17%|█▋        | 1/6 [02:26<12:13, 146.64s/it]\u001b[A"
     ]
    },
    {
     "name": "stdout",
     "output_type": "stream",
     "text": [
      "1.5 {'train': 61.026, 'test': 51.839999999999996}\n"
     ]
    },
    {
     "name": "stderr",
     "output_type": "stream",
     "text": [
      "\n",
      " 33%|███▎      | 2/6 [04:53<09:46, 146.74s/it]\u001b[A"
     ]
    },
    {
     "name": "stdout",
     "output_type": "stream",
     "text": [
      "1.5 {'train': 60.948, 'test': 51.64}\n"
     ]
    },
    {
     "name": "stderr",
     "output_type": "stream",
     "text": [
      "\n",
      " 50%|█████     | 3/6 [07:20<07:20, 146.78s/it]\u001b[A"
     ]
    },
    {
     "name": "stdout",
     "output_type": "stream",
     "text": [
      "1.5 {'train': 60.784000000000006, 'test': 51.68000000000001}\n"
     ]
    },
    {
     "name": "stderr",
     "output_type": "stream",
     "text": [
      "\n",
      " 67%|██████▋   | 4/6 [09:47<04:53, 146.83s/it]\u001b[A"
     ]
    },
    {
     "name": "stdout",
     "output_type": "stream",
     "text": [
      "1.5 {'train': 61.419999999999995, 'test': 52.18000000000001}\n"
     ]
    },
    {
     "name": "stderr",
     "output_type": "stream",
     "text": [
      "\n",
      " 83%|████████▎ | 5/6 [12:14<02:26, 146.83s/it]\u001b[A"
     ]
    },
    {
     "name": "stdout",
     "output_type": "stream",
     "text": [
      "1.5 {'train': 60.846000000000004, 'test': 52.23}\n"
     ]
    },
    {
     "name": "stderr",
     "output_type": "stream",
     "text": [
      "\n",
      "100%|██████████| 6/6 [14:41<00:00, 146.84s/it]\u001b[A\n",
      "\u001b[A"
     ]
    },
    {
     "name": "stdout",
     "output_type": "stream",
     "text": [
      "1.5 {'train': 60.57599999999999, 'test': 51.68000000000001}\n"
     ]
    }
   ],
   "source": [
    "linpseudo = get_stat(PointFinderInverse, t=1.5, method='lin_connect')"
   ]
  },
  {
   "cell_type": "code",
   "execution_count": 63,
   "metadata": {},
   "outputs": [
    {
     "data": {
      "text/plain": [
       "{'test': [51.839999999999996,\n",
       "  51.64,\n",
       "  51.68000000000001,\n",
       "  52.18000000000001,\n",
       "  52.23,\n",
       "  51.68000000000001],\n",
       " 'train': [61.026,\n",
       "  60.948,\n",
       "  60.784000000000006,\n",
       "  61.419999999999995,\n",
       "  60.846000000000004,\n",
       "  60.57599999999999]}"
      ]
     },
     "execution_count": 63,
     "metadata": {},
     "output_type": "execute_result"
    }
   ],
   "source": [
    "linpseudo"
   ]
  },
  {
   "cell_type": "code",
   "execution_count": 64,
   "metadata": {},
   "outputs": [
    {
     "data": {
      "text/plain": [
       "(60.93333333333334, 0.2592493437257302, 51.875, 0.2420571557848809)"
      ]
     },
     "execution_count": 64,
     "metadata": {},
     "output_type": "execute_result"
    }
   ],
   "source": [
    "get_mean_svd(linpseudo)"
   ]
  },
  {
   "cell_type": "code",
   "execution_count": null,
   "metadata": {},
   "outputs": [],
   "source": []
  }
 ],
 "metadata": {
  "kernelspec": {
   "display_name": "Python 3",
   "language": "python",
   "name": "python3"
  },
  "language_info": {
   "codemirror_mode": {
    "name": "ipython",
    "version": 3
   },
   "file_extension": ".py",
   "mimetype": "text/x-python",
   "name": "python",
   "nbconvert_exporter": "python",
   "pygments_lexer": "ipython3",
   "version": "3.6.7"
  }
 },
 "nbformat": 4,
 "nbformat_minor": 2
}
