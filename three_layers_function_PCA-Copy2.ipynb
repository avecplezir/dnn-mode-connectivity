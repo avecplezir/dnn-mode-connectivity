{
 "cells": [
  {
   "cell_type": "code",
   "execution_count": 1,
   "metadata": {},
   "outputs": [],
   "source": [
    "import sys\n",
    "sys.path.append('/home/ivan/distribution_connector')\n",
    "import os\n",
    "\n",
    "from sklearn.decomposition import TruncatedSVD\n"
   ]
  },
  {
   "cell_type": "code",
   "execution_count": 2,
   "metadata": {},
   "outputs": [],
   "source": [
    "from sklearn import datasets\n",
    "import numpy as np\n",
    "import torch\n",
    "from tqdm import tqdm\n",
    "from connector_utils import test_models, gather_statistics, test_func\n",
    "import matplotlib.pyplot as plt"
   ]
  },
  {
   "cell_type": "code",
   "execution_count": 3,
   "metadata": {},
   "outputs": [],
   "source": [
    "from connector import Connector\n",
    "# from one_layer_utils import samples, make_dataset, get_model, get_b\n",
    "from utils import test_model\n",
    "from tqdm import tqdm"
   ]
  },
  {
   "cell_type": "code",
   "execution_count": 4,
   "metadata": {},
   "outputs": [
    {
     "name": "stdout",
     "output_type": "stream",
     "text": [
      "Files already downloaded and verified\n",
      "You are going to run models on the test set. Are you sure?\n",
      "Files already downloaded and verified\n"
     ]
    },
    {
     "data": {
      "text/plain": [
       "IncompatibleKeys(missing_keys=[], unexpected_keys=[])"
      ]
     },
     "execution_count": 4,
     "metadata": {},
     "output_type": "execute_result"
    }
   ],
   "source": [
    "import models\n",
    "architecture = getattr(models, \"Linear3NoBias\") #LinearOneLayer LogRegression\n",
    "\n",
    "import data\n",
    "loaders, num_classes = data.loaders(\n",
    "    \"CIFAR10\",\n",
    "    \"data\",\n",
    "    1024,\n",
    "    1,\n",
    "    \"VGG\",\n",
    "    True,\n",
    "    train_random=False,\n",
    "    shuffle_train=False)\n",
    "\n",
    "model1 = architecture.base(num_classes=10, **architecture.kwargs)\n",
    "model2 = architecture.base(num_classes=10, **architecture.kwargs)\n",
    "\n",
    "model1.load_state_dict(torch.load('curves/Linear3NoBias/curve4/checkpoint-400.pt')['model_state'])\n",
    "model2.load_state_dict(torch.load('curves/Linear3NoBias/curve5/checkpoint-400.pt')['model_state'])\n"
   ]
  },
  {
   "cell_type": "code",
   "execution_count": 5,
   "metadata": {},
   "outputs": [],
   "source": [
    "# model1.cuda()\n",
    "# model2.cuda()\n",
    "# stat = {'train': [], 'test': []}\n",
    "# for i in tqdm(range(3, 11)):\n",
    "#     model1.load_state_dict(torch.load('curves/Linear3NoBias/curve'+str(i)+'/checkpoint-400.pt')['model_state'])\n",
    "#     res = test_model(model1, loaders, cuda=True)\n",
    "#     stat['train'].append(res[0]['accuracy'])\n",
    "#     stat['test'].append(res[1]['accuracy'])\n"
   ]
  },
  {
   "cell_type": "code",
   "execution_count": 6,
   "metadata": {},
   "outputs": [],
   "source": [
    "# np.array(stat['train']).std(), np.array(stat['test']).std()"
   ]
  },
  {
   "cell_type": "code",
   "execution_count": 7,
   "metadata": {},
   "outputs": [],
   "source": [
    "# model1.cuda();\n",
    "# model1.eval();\n",
    "# test_model(model1, loaders, cuda=True)"
   ]
  },
  {
   "cell_type": "code",
   "execution_count": 8,
   "metadata": {},
   "outputs": [],
   "source": [
    "# model2.cuda();\n",
    "# model2.eval();\n",
    "# test_model(model2, loaders, cuda=True)"
   ]
  },
  {
   "cell_type": "code",
   "execution_count": 9,
   "metadata": {},
   "outputs": [],
   "source": [
    "def get_data(data_type='train'):\n",
    "\n",
    "    layer = 0\n",
    "    model1.cuda()\n",
    "    model1.eval()\n",
    "    functions = []\n",
    "    targ = []\n",
    "    data = []\n",
    "    for X, y in loaders[data_type]:\n",
    "        data.append(X.view(-1,3*32*32).cpu().data.numpy())\n",
    "        functions.append(model1(X.cuda(), N=layer))\n",
    "        targ.append(y)\n",
    "\n",
    "\n",
    "    print('l', functions[0].shape)\n",
    "    data = np.concatenate(data)\n",
    "    targ = np.concatenate(targ)\n",
    "    funcs = np.concatenate([p.cpu().data.numpy() for p in functions])\n",
    "    \n",
    "    return data, targ, funcs"
   ]
  },
  {
   "cell_type": "code",
   "execution_count": 10,
   "metadata": {},
   "outputs": [
    {
     "name": "stdout",
     "output_type": "stream",
     "text": [
      "l torch.Size([1024, 6144])\n"
     ]
    }
   ],
   "source": [
    "data, targ, _ = get_data(data_type='train')"
   ]
  },
  {
   "cell_type": "code",
   "execution_count": 11,
   "metadata": {},
   "outputs": [
    {
     "data": {
      "text/plain": [
       "((50000, 3072), (50000,))"
      ]
     },
     "execution_count": 11,
     "metadata": {},
     "output_type": "execute_result"
    }
   ],
   "source": [
    "data.shape, targ.shape"
   ]
  },
  {
   "cell_type": "code",
   "execution_count": 12,
   "metadata": {},
   "outputs": [
    {
     "name": "stdout",
     "output_type": "stream",
     "text": [
      "l torch.Size([1024, 6144])\n"
     ]
    }
   ],
   "source": [
    "data_test, targ_test, _ = get_data(data_type='test')"
   ]
  },
  {
   "cell_type": "code",
   "execution_count": 13,
   "metadata": {},
   "outputs": [],
   "source": [
    "# W10 = list(model1.parameters())[0].data.cpu().numpy()\n",
    "# W20 = list(model2.parameters())[0].data.cpu().numpy()\n",
    "\n",
    "# W11 = list(model1.parameters())[-2].data.cpu().numpy()\n",
    "# W21 = list(model2.parameters())[-2].data.cpu().numpy()\n",
    "\n",
    "# W12 = list(model1.parameters())[-1].data.cpu().numpy()\n",
    "# W22 = list(model2.parameters())[-1].data.cpu().numpy()"
   ]
  },
  {
   "cell_type": "code",
   "execution_count": 14,
   "metadata": {},
   "outputs": [],
   "source": [
    "def next_layer(W, data):\n",
    "    funcs = np.maximum(data @ W.T, 0)\n",
    "    return funcs\n",
    "\n",
    "    \n",
    "def accuracy(pred, targ):\n",
    "    ens_acc = 100.0 * np.mean(np.argmax(pred, axis=1) == targ)\n",
    "    return ens_acc"
   ]
  },
  {
   "cell_type": "code",
   "execution_count": 15,
   "metadata": {},
   "outputs": [],
   "source": [
    "# data = data[:2000]\n",
    "# targ = targ[:2000]"
   ]
  },
  {
   "cell_type": "code",
   "execution_count": 16,
   "metadata": {},
   "outputs": [],
   "source": [
    "# pred = W12 @ np.maximum(W11 @ np.maximum(W10 @ data.T, 0), 0)\n",
    "# pred_test = W12 @ np.maximum(W11 @ np.maximum(W10 @ data_test.T, 0), 0)\n",
    "# print(accuracy(pred.T, targ), accuracy(pred_test.T, targ_test))"
   ]
  },
  {
   "cell_type": "code",
   "execution_count": 17,
   "metadata": {},
   "outputs": [],
   "source": [
    "# pred = W22 @ np.maximum(W21 @ np.maximum(W20 @ data.T, 0), 0)\n",
    "# pred_test = W22 @ np.maximum(W21 @ np.maximum(W20 @ data_test.T, 0), 0)\n",
    "# print(accuracy(pred.T, targ), accuracy(pred_test.T, targ_test))"
   ]
  },
  {
   "cell_type": "code",
   "execution_count": 18,
   "metadata": {},
   "outputs": [],
   "source": [
    "# funcs1 = next_layer(W10, data=data)\n",
    "# funcs2  = next_layer(W20, data=data)"
   ]
  },
  {
   "cell_type": "code",
   "execution_count": 19,
   "metadata": {},
   "outputs": [],
   "source": [
    "# f_inv2 = np.linalg.pinv(funcs2.T)\n",
    "# W11b2 = W11 @ funcs1.T @ f_inv2"
   ]
  },
  {
   "cell_type": "code",
   "execution_count": 20,
   "metadata": {},
   "outputs": [],
   "source": [
    "# pred = W12 @ np.maximum(W11b2 @ np.maximum(W20 @ data.T, 0), 0)\n",
    "# pred_test = W12 @ np.maximum(W11b2 @ np.maximum(W20 @ data_test.T, 0), 0)\n",
    "# print(accuracy(pred.T, targ), accuracy(pred_test.T, targ_test))"
   ]
  },
  {
   "cell_type": "code",
   "execution_count": 21,
   "metadata": {},
   "outputs": [],
   "source": [
    "# funcs12 = next_layer(W11, data=funcs1)\n",
    "# funcs22  = next_layer(W21, data=funcs2)"
   ]
  },
  {
   "cell_type": "code",
   "execution_count": 22,
   "metadata": {},
   "outputs": [],
   "source": [
    "# f_inv22 = np.linalg.pinv(funcs22.T)\n",
    "# W12b2 = W12 @ funcs12.T @ f_inv22"
   ]
  },
  {
   "cell_type": "code",
   "execution_count": 23,
   "metadata": {},
   "outputs": [],
   "source": [
    "# pred = W12 @ np.maximum(W11b2 @ np.maximum(W20 @ data.T, 0), 0)\n",
    "# pred_test = W12b2 @ np.maximum(W21 @ np.maximum(W20 @ data_test.T, 0), 0)\n",
    "# print(accuracy(pred.T, targ), accuracy(pred_test.T, targ_test))"
   ]
  },
  {
   "cell_type": "code",
   "execution_count": 24,
   "metadata": {},
   "outputs": [],
   "source": [
    "# print(W10.shape, W11.shape, W12.shape)"
   ]
  },
  {
   "cell_type": "code",
   "execution_count": 25,
   "metadata": {},
   "outputs": [],
   "source": [
    "class PointFinder():\n",
    "    def __init__(self, model1, model2):\n",
    "        out = {}\n",
    "        self.W10 = list(model1.parameters())[0].data.cpu().numpy()\n",
    "        self.W20 = list(model2.parameters())[0].data.cpu().numpy()\n",
    "\n",
    "        self.W11 = list(model1.parameters())[-2].data.cpu().numpy()\n",
    "        self.W21 = list(model2.parameters())[-2].data.cpu().numpy()\n",
    "\n",
    "        self.W12 = list(model1.parameters())[-1].data.cpu().numpy()\n",
    "        self.W22 = list(model2.parameters())[-1].data.cpu().numpy()\n",
    "\n",
    "        self.funcs1 = next_layer(self.W10, data=data)\n",
    "        self.funcs2  = next_layer(self.W20, data=data)\n",
    "        self.f_inv2 = np.linalg.pinv(self.funcs2.T)\n",
    "        self.W11b2 = self.W11 @ self.funcs1.T @ self.f_inv2\n",
    "\n",
    "    def find_point(self, t=0.5, method='arc_connect'):\n",
    "\n",
    "        out = {}\n",
    "        if 0<=t<1:\n",
    "            s = t\n",
    "            # go from model1 basic to model2 basis weight in 2th layer\n",
    "            Wn0 = getattr(Connector(self.W10, self.W20), method)(t=s)[1]\n",
    "            Wn1 = getattr(Connector(self.W11.T, self.W11b2.T), method)(t=s)[1].T\n",
    "            \n",
    "            pred = self.W12 @ np.maximum( Wn1 @ np.maximum(Wn0 @ data.T, 0), 0)\n",
    "            out['train'] = accuracy(pred.T, targ)\n",
    "\n",
    "            pred_test = self.W12 @ np.maximum( Wn1 @ np.maximum(Wn0 @ data_test.T, 0), 0)\n",
    "            out['test'] = accuracy(pred_test.T, targ_test)\n",
    "        elif 1<=t<=2:\n",
    "            s = t - 1\n",
    "            # go from model1 basic to model2 basis weight in 3th layer\n",
    "            Wn1 = getattr(Connector(self.W11b2, self.W21), method)(t=s)[1]\n",
    "            Wn2 = getattr(Connector(self.W12.T, self.W22.T), method)(t=s)[1].T\n",
    "            \n",
    "            pred = Wn2 @ np.maximum( Wn1 @ np.maximum(self.W20 @ data.T, 0), 0)\n",
    "            out['train'] = accuracy(pred.T, targ)\n",
    "\n",
    "            pred_test = Wn2 @ np.maximum( Wn1 @ np.maximum(self.W20 @ data_test.T, 0), 0)\n",
    "            out['test'] = accuracy(pred_test.T, targ_test)\n",
    "  \n",
    "        else:\n",
    "            assert not  0<=t<=2, 't is not in [0, 2]'\n",
    "\n",
    "        return out"
   ]
  },
  {
   "cell_type": "code",
   "execution_count": 26,
   "metadata": {},
   "outputs": [],
   "source": [
    "class PointFinderInverse():\n",
    "    def __init__(self, model1, model2):\n",
    "        out = {}\n",
    "        self.W10 = list(model1.parameters())[0].data.cpu().numpy()\n",
    "        self.W20 = list(model2.parameters())[0].data.cpu().numpy()\n",
    "\n",
    "        self.W11 = list(model1.parameters())[-2].data.cpu().numpy()\n",
    "        self.W21 = list(model2.parameters())[-2].data.cpu().numpy()\n",
    "\n",
    "        self.W12 = list(model1.parameters())[-1].data.cpu().numpy()\n",
    "        self.W22 = list(model2.parameters())[-1].data.cpu().numpy()\n",
    "\n",
    "        self.funcs11 = next_layer(self.W10, data=data)\n",
    "        self.funcs12 = next_layer(self.W11, data=self.funcs11)\n",
    "        \n",
    "        self.funcs21 = next_layer(self.W20, data=data)\n",
    "        self.funcs22 = next_layer(self.W21, data=self.funcs21)\n",
    "        \n",
    "        self.f_inv21 = np.linalg.pinv(self.funcs21.T)\n",
    "        self.W11b2 = self.W11 @ self.funcs11.T @ self.f_inv21\n",
    "        \n",
    "        self.f_inv22 = np.linalg.pinv(self.funcs22.T)\n",
    "        self.W12b2 = self.W12 @ self.funcs12.T @ self.f_inv22\n",
    "        \n",
    "    def find_point(self, t=0.5, method='arc_connect'):\n",
    "\n",
    "        out = {}\n",
    "        if 0<=t<=1:\n",
    "            s = t\n",
    "            # go from model1 basic to model2 basis weight in 2th layer\n",
    "            \n",
    "            Wn0 = getattr(Connector(self.W10, self.W20), method)(t=s)[1]\n",
    "            \n",
    "            funcs = next_layer(Wn0, data=data)\n",
    "            f_inv = np.linalg.pinv(funcs.T)\n",
    "            Wn1 = self.W11 @ self.funcs11.T @ f_inv\n",
    "            \n",
    "            pred = self.W12 @ np.maximum( Wn1 @ np.maximum(Wn0 @ data.T, 0), 0)\n",
    "            out['train'] = accuracy(pred.T, targ)\n",
    "\n",
    "            pred_test = self.W12 @ np.maximum( Wn1 @ np.maximum(Wn0 @ data_test.T, 0), 0)\n",
    "            out['test'] = accuracy(pred_test.T, targ_test)\n",
    "\n",
    "        elif 1<t<=2:\n",
    "            s = t - 1\n",
    "            # go from model1 basic to model2 basis weight in 3th layer\n",
    "            Wn1 = getattr(Connector(self.W11b2, self.W21), method)(t=s)[1]\n",
    "\n",
    "            funcs = next_layer(Wn1, data=self.funcs21)\n",
    "            f_inv = np.linalg.pinv(funcs.T)\n",
    "            Wn2 = self.W12 @ self.funcs12.T @ f_inv\n",
    "\n",
    "            pred = Wn2 @ np.maximum( Wn1 @ np.maximum(self.W20 @ data.T, 0), 0)\n",
    "            out['train'] = accuracy(pred.T, targ)\n",
    "\n",
    "            pred_test = Wn2 @ np.maximum( Wn1 @ np.maximum(self.W20 @ data_test.T, 0), 0)\n",
    "            out['test'] = accuracy(pred_test.T, targ_test)\n",
    "            \n",
    "        elif 2<t<=3:\n",
    "            s = t - 2\n",
    "            Wn1 = getattr(Connector(self.W12b2, self.W22), method)(t=s)[1]\n",
    "               \n",
    "            pred = Wn1 @ np.maximum( self.W21 @ np.maximum(self.W20 @ data.T, 0), 0)\n",
    "            out['train'] = accuracy(pred.T, targ)\n",
    "\n",
    "            pred_test = Wn1 @ np.maximum( self.W21 @ np.maximum(self.W20 @ data_test.T, 0), 0)\n",
    "            out['test'] = accuracy(pred_test.T, targ_test)\n",
    "            \n",
    "        else:\n",
    "            assert not  0<=t<=3, 't is not in [0, 3]'\n",
    "            \n",
    "        print(t, out)\n",
    "\n",
    "        return out"
   ]
  },
  {
   "cell_type": "markdown",
   "metadata": {},
   "source": [
    "# Path Visualization "
   ]
  },
  {
   "cell_type": "code",
   "execution_count": 27,
   "metadata": {},
   "outputs": [],
   "source": [
    "# finder = PointFinderInverse(model1, model2) \n",
    "finder = PointFinder(model1, model2)"
   ]
  },
  {
   "cell_type": "code",
   "execution_count": 28,
   "metadata": {},
   "outputs": [],
   "source": [
    "point = finder.find_point(t=0, method='arc_connect')"
   ]
  },
  {
   "cell_type": "code",
   "execution_count": 48,
   "metadata": {},
   "outputs": [
    {
     "data": {
      "text/plain": [
       "{'train': 96.1, 'test': 63.44}"
      ]
     },
     "execution_count": 48,
     "metadata": {},
     "output_type": "execute_result"
    }
   ],
   "source": [
    "point"
   ]
  },
  {
   "cell_type": "code",
   "execution_count": 71,
   "metadata": {},
   "outputs": [
    {
     "data": {
      "text/plain": [
       "{'train': 96.1, 'test': 62.3}"
      ]
     },
     "execution_count": 71,
     "metadata": {},
     "output_type": "execute_result"
    }
   ],
   "source": [
    "point1 = finder.find_point(t=1, method='arc_connect')\n",
    "point1"
   ]
  },
  {
   "cell_type": "code",
   "execution_count": 72,
   "metadata": {},
   "outputs": [
    {
     "data": {
      "text/plain": [
       "{'train': 96.1, 'test': 10.79}"
      ]
     },
     "execution_count": 72,
     "metadata": {},
     "output_type": "execute_result"
    }
   ],
   "source": [
    "point2 = finder.find_point(t=2, method='arc_connect')\n",
    "point2"
   ]
  },
  {
   "cell_type": "code",
   "execution_count": 74,
   "metadata": {},
   "outputs": [
    {
     "data": {
      "text/plain": [
       "{'train': 97.39999999999999, 'test': 11.51}"
      ]
     },
     "execution_count": 74,
     "metadata": {},
     "output_type": "execute_result"
    }
   ],
   "source": [
    "point3 = finder.find_point(t=2.5, method='arc_connect')\n",
    "point3"
   ]
  },
  {
   "cell_type": "code",
   "execution_count": 29,
   "metadata": {},
   "outputs": [],
   "source": [
    "time = np.linspace(0, 2, 61)"
   ]
  },
  {
   "cell_type": "code",
   "execution_count": 30,
   "metadata": {},
   "outputs": [
    {
     "data": {
      "text/plain": [
       "array([0.        , 0.03333333, 0.06666667, 0.1       , 0.13333333,\n",
       "       0.16666667, 0.2       , 0.23333333, 0.26666667, 0.3       ,\n",
       "       0.33333333, 0.36666667, 0.4       , 0.43333333, 0.46666667,\n",
       "       0.5       , 0.53333333, 0.56666667, 0.6       , 0.63333333,\n",
       "       0.66666667, 0.7       , 0.73333333, 0.76666667, 0.8       ,\n",
       "       0.83333333, 0.86666667, 0.9       , 0.93333333, 0.96666667,\n",
       "       1.        , 1.03333333, 1.06666667, 1.1       , 1.13333333,\n",
       "       1.16666667, 1.2       , 1.23333333, 1.26666667, 1.3       ,\n",
       "       1.33333333, 1.36666667, 1.4       , 1.43333333, 1.46666667,\n",
       "       1.5       , 1.53333333, 1.56666667, 1.6       , 1.63333333,\n",
       "       1.66666667, 1.7       , 1.73333333, 1.76666667, 1.8       ,\n",
       "       1.83333333, 1.86666667, 1.9       , 1.93333333, 1.96666667,\n",
       "       2.        ])"
      ]
     },
     "execution_count": 30,
     "metadata": {},
     "output_type": "execute_result"
    }
   ],
   "source": [
    "time"
   ]
  },
  {
   "cell_type": "code",
   "execution_count": 31,
   "metadata": {},
   "outputs": [
    {
     "data": {
      "text/plain": [
       "{'train': 95.27799999999999, 'test': 63.44}"
      ]
     },
     "execution_count": 31,
     "metadata": {},
     "output_type": "execute_result"
    }
   ],
   "source": [
    "point"
   ]
  },
  {
   "cell_type": "code",
   "execution_count": 32,
   "metadata": {
    "scrolled": false
   },
   "outputs": [
    {
     "name": "stderr",
     "output_type": "stream",
     "text": [
      "100%|██████████| 61/61 [07:53<00:00,  7.54s/it]\n"
     ]
    }
   ],
   "source": [
    "path = {'test': [], 'train': []}\n",
    "for t in tqdm(time):\n",
    "    point = finder.find_point(t=t, method='arc_connect')\n",
    "    path['test'].append(100-point['test']) \n",
    "    path['train'].append(100-point['train']) "
   ]
  },
  {
   "cell_type": "code",
   "execution_count": 33,
   "metadata": {},
   "outputs": [
    {
     "data": {
      "text/plain": [
       "array([95.278, 95.176, 94.816, 94.184, 93.272, 92.132, 90.574, 88.748,\n",
       "       86.85 , 84.878, 83.174, 81.562, 80.17 , 79.066, 78.35 , 77.956,\n",
       "       77.96 , 78.39 , 79.176, 80.222, 81.494, 83.054, 84.726, 86.518,\n",
       "       88.244, 89.828, 91.184, 92.26 , 93.052, 93.48 , 93.63 , 93.216,\n",
       "       91.872, 89.888, 87.254, 84.062, 80.75 , 76.952, 73.412, 70.04 ,\n",
       "       67.074, 64.836, 62.96 , 61.73 , 60.99 , 60.978, 61.612, 62.69 ,\n",
       "       64.364, 66.658, 69.38 , 72.434, 76.17 , 79.816, 83.54 , 87.012,\n",
       "       89.808, 92.152, 93.822, 94.752, 95.036])"
      ]
     },
     "execution_count": 33,
     "metadata": {},
     "output_type": "execute_result"
    }
   ],
   "source": [
    "100 - np.array(path['train'])"
   ]
  },
  {
   "cell_type": "code",
   "execution_count": 34,
   "metadata": {},
   "outputs": [
    {
     "data": {
      "text/plain": [
       "array([63.44, 63.49, 63.31, 63.  , 62.7 , 62.23, 61.8 , 61.2 , 60.61,\n",
       "       60.05, 59.17, 58.76, 58.24, 57.75, 57.56, 57.52, 57.59, 57.74,\n",
       "       58.12, 58.68, 59.11, 59.89, 60.37, 61.05, 61.66, 62.31, 62.72,\n",
       "       62.99, 63.1 , 63.18, 63.36, 63.11, 62.49, 61.8 , 60.83, 59.69,\n",
       "       58.47, 57.31, 56.18, 54.92, 53.68, 52.34, 51.26, 50.65, 50.57,\n",
       "       50.42, 50.39, 51.11, 51.91, 52.98, 54.38, 56.04, 57.19, 58.5 ,\n",
       "       59.86, 60.95, 61.88, 62.52, 63.2 , 63.43, 63.64])"
      ]
     },
     "execution_count": 34,
     "metadata": {},
     "output_type": "execute_result"
    }
   ],
   "source": [
    "100 - np.array(path['test'])"
   ]
  },
  {
   "cell_type": "code",
   "execution_count": 35,
   "metadata": {},
   "outputs": [
    {
     "data": {
      "image/png": "[encoded data removed]",
      "text/plain": [
       "<Figure size 432x288 with 1 Axes>"
      ]
     },
     "metadata": {
      "needs_background": "light"
     },
     "output_type": "display_data"
    }
   ],
   "source": [
    "plt.plot(time, path['train'], label='train')\n",
    "plt.plot(time, path['test'], label='test') \n",
    "plt.legend()\n",
    "plt.xlabel('time')\n",
    "plt.ylabel('error (%)')\n",
    "plt.show()"
   ]
  },
  {
   "cell_type": "code",
   "execution_count": 36,
   "metadata": {},
   "outputs": [
    {
     "name": "stderr",
     "output_type": "stream",
     "text": [
      "100%|██████████| 61/61 [07:43<00:00,  7.45s/it]\n"
     ]
    }
   ],
   "source": [
    "path_l = {'test': [], 'train': []}\n",
    "for t in tqdm(time):\n",
    "    point = finder.find_point(t=t, method='lin_connect')\n",
    "    path_l['test'].append(100-point['test']) \n",
    "    path_l['train'].append(100-point['train']) "
   ]
  },
  {
   "cell_type": "code",
   "execution_count": 37,
   "metadata": {},
   "outputs": [
    {
     "data": {
      "image/png": "[encoded data removed]",
      "text/plain": [
       "<Figure size 432x288 with 1 Axes>"
      ]
     },
     "metadata": {
      "needs_background": "light"
     },
     "output_type": "display_data"
    }
   ],
   "source": [
    "plt.plot(time, path_l['train'], label='train')\n",
    "plt.plot(time, path_l['test'], label='test') \n",
    "plt.legend()\n",
    "plt.xlabel('time')\n",
    "plt.ylabel('error (%)')\n",
    "plt.show()"
   ]
  },
  {
   "cell_type": "markdown",
   "metadata": {},
   "source": [
    "# Count statistic in the fixed point"
   ]
  },
  {
   "cell_type": "code",
   "execution_count": 45,
   "metadata": {},
   "outputs": [],
   "source": [
    "def get_stat(pointfinder, t=1.5, method='arc_connect'):\n",
    "    stat = {'test': [], 'train': []}\n",
    "    for i in tqdm(range(3, 9)):\n",
    "        model1.load_state_dict(torch.load('curves/Linear3NoBias/curve'+str(i)+'/checkpoint-400.pt')['model_state'])\n",
    "        model2.load_state_dict(torch.load('curves/Linear3NoBias/curve'+str(i+1)+'/checkpoint-400.pt')['model_state'])\n",
    "        finder = pointfinder(model1, model2) \n",
    "        point = finder.find_point(t=t, method=method)\n",
    "        stat['test'].append(point['test']) \n",
    "        stat['train'].append(point['train']) \n",
    "    return stat"
   ]
  },
  {
   "cell_type": "code",
   "execution_count": 46,
   "metadata": {},
   "outputs": [
    {
     "name": "stderr",
     "output_type": "stream",
     "text": [
      "\n",
      "  0%|          | 0/6 [00:00<?, ?it/s]\u001b[A\n",
      " 17%|█▋        | 1/6 [02:01<10:06, 121.29s/it]\u001b[A\n",
      " 33%|███▎      | 2/6 [04:02<08:05, 121.31s/it]\u001b[A\n",
      " 50%|█████     | 3/6 [06:03<06:03, 121.27s/it]\u001b[A\n",
      " 67%|██████▋   | 4/6 [08:05<04:02, 121.25s/it]\u001b[A\n",
      " 83%|████████▎ | 5/6 [10:06<02:01, 121.22s/it]\u001b[A\n",
      "100%|██████████| 6/6 [12:07<00:00, 121.25s/it]\u001b[A\n",
      "\u001b[A"
     ]
    }
   ],
   "source": [
    "arcbutterfly = get_stat(PointFinder, t=1.5, method='arc_connect')"
   ]
  },
  {
   "cell_type": "code",
   "execution_count": 49,
   "metadata": {},
   "outputs": [
    {
     "data": {
      "text/plain": [
       "{'test': [48.77, 50.42, 49.46, 51.32, 49.09, 48.82],\n",
       " 'train': [59.931999999999995,\n",
       "  60.978,\n",
       "  60.397999999999996,\n",
       "  62.21600000000001,\n",
       "  60.01,\n",
       "  60.124]}"
      ]
     },
     "execution_count": 49,
     "metadata": {},
     "output_type": "execute_result"
    }
   ],
   "source": [
    "arcbutterfly"
   ]
  },
  {
   "cell_type": "code",
   "execution_count": 52,
   "metadata": {},
   "outputs": [],
   "source": [
    "def get_mean_svd(stat):\n",
    "    train = np.array(stat['train'])\n",
    "    test = np.array(stat['test'])\n",
    "    return train.mean(), train.std(), test.mean(), test.std()"
   ]
  },
  {
   "cell_type": "code",
   "execution_count": 53,
   "metadata": {},
   "outputs": [
    {
     "data": {
      "text/plain": [
       "(60.60966666666667, 0.7974420912448094, 49.64666666666667, 0.930477774527091)"
      ]
     },
     "execution_count": 53,
     "metadata": {},
     "output_type": "execute_result"
    }
   ],
   "source": [
    "get_mean_svd(arcbutterfly)"
   ]
  },
  {
   "cell_type": "code",
   "execution_count": 54,
   "metadata": {},
   "outputs": [
    {
     "name": "stderr",
     "output_type": "stream",
     "text": [
      "\n",
      "  0%|          | 0/6 [00:00<?, ?it/s]\u001b[A\n",
      " 17%|█▋        | 1/6 [02:01<10:05, 121.01s/it]\u001b[A\n",
      " 33%|███▎      | 2/6 [04:01<08:03, 120.98s/it]\u001b[A\n",
      " 50%|█████     | 3/6 [06:02<06:02, 121.00s/it]\u001b[A\n",
      " 67%|██████▋   | 4/6 [08:04<04:02, 121.02s/it]\u001b[A\n",
      " 83%|████████▎ | 5/6 [10:04<02:01, 121.00s/it]\u001b[A\n",
      "100%|██████████| 6/6 [12:06<00:00, 121.03s/it]\u001b[A\n",
      "\u001b[A"
     ]
    }
   ],
   "source": [
    "linbutterfly = get_stat(PointFinder, t=1.5, method='lin_connect')"
   ]
  },
  {
   "cell_type": "code",
   "execution_count": 55,
   "metadata": {},
   "outputs": [
    {
     "data": {
      "text/plain": [
       "{'test': [36.93, 39.17, 39.379999999999995, 39.21, 38.12, 37.75],\n",
       " 'train': [46.738,\n",
       "  48.374,\n",
       "  48.087999999999994,\n",
       "  49.036,\n",
       "  47.355999999999995,\n",
       "  47.326]}"
      ]
     },
     "execution_count": 55,
     "metadata": {},
     "output_type": "execute_result"
    }
   ],
   "source": [
    "linbutterfly"
   ]
  },
  {
   "cell_type": "code",
   "execution_count": 56,
   "metadata": {},
   "outputs": [
    {
     "data": {
      "text/plain": [
       "(47.81966666666667, 0.7623922146040647, 38.42666666666667, 0.9006417465094294)"
      ]
     },
     "execution_count": 56,
     "metadata": {},
     "output_type": "execute_result"
    }
   ],
   "source": [
    "get_mean_svd(linbutterfly)"
   ]
  },
  {
   "cell_type": "code",
   "execution_count": 57,
   "metadata": {},
   "outputs": [
    {
     "name": "stderr",
     "output_type": "stream",
     "text": [
      "\n",
      "  0%|          | 0/6 [00:00<?, ?it/s]\u001b[A\n",
      " 17%|█▋        | 1/6 [02:26<12:13, 146.64s/it]\u001b[A"
     ]
    },
    {
     "name": "stdout",
     "output_type": "stream",
     "text": [
      "1.5 {'train': 61.026, 'test': 51.839999999999996}\n"
     ]
    },
    {
     "name": "stderr",
     "output_type": "stream",
     "text": [
      "\n",
      " 33%|███▎      | 2/6 [04:53<09:46, 146.74s/it]\u001b[A"
     ]
    },
    {
     "name": "stdout",
     "output_type": "stream",
     "text": [
      "1.5 {'train': 60.948, 'test': 51.64}\n"
     ]
    },
    {
     "name": "stderr",
     "output_type": "stream",
     "text": [
      "\n",
      " 50%|█████     | 3/6 [07:20<07:20, 146.78s/it]\u001b[A"
     ]
    },
    {
     "name": "stdout",
     "output_type": "stream",
     "text": [
      "1.5 {'train': 60.784000000000006, 'test': 51.68000000000001}\n"
     ]
    },
    {
     "name": "stderr",
     "output_type": "stream",
     "text": [
      "\n",
      " 67%|██████▋   | 4/6 [09:47<04:53, 146.83s/it]\u001b[A"
     ]
    },
    {
     "name": "stdout",
     "output_type": "stream",
     "text": [
      "1.5 {'train': 61.419999999999995, 'test': 52.18000000000001}\n"
     ]
    },
    {
     "name": "stderr",
     "output_type": "stream",
     "text": [
      "\n",
      " 83%|████████▎ | 5/6 [12:14<02:26, 146.83s/it]\u001b[A"
     ]
    },
    {
     "name": "stdout",
     "output_type": "stream",
     "text": [
      "1.5 {'train': 60.846000000000004, 'test': 52.23}\n"
     ]
    },
    {
     "name": "stderr",
     "output_type": "stream",
     "text": [
      "\n",
      "100%|██████████| 6/6 [14:41<00:00, 146.84s/it]\u001b[A\n",
      "\u001b[A"
     ]
    },
    {
     "name": "stdout",
     "output_type": "stream",
     "text": [
      "1.5 {'train': 60.57599999999999, 'test': 51.68000000000001}\n"
     ]
    }
   ],
   "source": [
    "linpseudo = get_stat(PointFinderInverse, t=1.5, method='lin_connect')"
   ]
  },
  {
   "cell_type": "code",
   "execution_count": 63,
   "metadata": {},
   "outputs": [
    {
     "data": {
      "text/plain": [
       "{'test': [51.839999999999996,\n",
       "  51.64,\n",
       "  51.68000000000001,\n",
       "  52.18000000000001,\n",
       "  52.23,\n",
       "  51.68000000000001],\n",
       " 'train': [61.026,\n",
       "  60.948,\n",
       "  60.784000000000006,\n",
       "  61.419999999999995,\n",
       "  60.846000000000004,\n",
       "  60.57599999999999]}"
      ]
     },
     "execution_count": 63,
     "metadata": {},
     "output_type": "execute_result"
    }
   ],
   "source": [
    "linpseudo"
   ]
  },
  {
   "cell_type": "code",
   "execution_count": 64,
   "metadata": {},
   "outputs": [
    {
     "data": {
      "text/plain": [
       "(60.93333333333334, 0.2592493437257302, 51.875, 0.2420571557848809)"
      ]
     },
     "execution_count": 64,
     "metadata": {},
     "output_type": "execute_result"
    }
   ],
   "source": [
    "get_mean_svd(linpseudo)"
   ]
  },
  {
   "cell_type": "code",
   "execution_count": null,
   "metadata": {},
   "outputs": [
    {
     "name": "stderr",
     "output_type": "stream",
     "text": [
      "\n",
      "  0%|          | 0/6 [00:00<?, ?it/s]\u001b[A\n",
      " 17%|█▋        | 1/6 [02:26<12:14, 146.96s/it]\u001b[A"
     ]
    },
    {
     "name": "stdout",
     "output_type": "stream",
     "text": [
      "1.5 {'train': 71.096, 'test': 59.47}\n"
     ]
    }
   ],
   "source": [
    "arcpseudo = get_stat(PointFinderInverse, t=1.5, method='arc_connect')"
   ]
  },
  {
   "cell_type": "code",
   "execution_count": 65,
   "metadata": {},
   "outputs": [
    {
     "data": {
      "text/plain": [
       "{'test': [59.47,\n",
       "  59.38,\n",
       "  58.540000000000006,\n",
       "  58.95,\n",
       "  58.650000000000006,\n",
       "  58.699999999999996],\n",
       " 'train': [71.096, 71.356, 70.706, 71.394, 71.134, 70.922]}"
      ]
     },
     "execution_count": 65,
     "metadata": {},
     "output_type": "execute_result"
    }
   ],
   "source": [
    "arcpseudo"
   ]
  },
  {
   "cell_type": "code",
   "execution_count": 66,
   "metadata": {},
   "outputs": [
    {
     "data": {
      "text/plain": [
       "(71.10133333333334,\n",
       " 0.23806628395376653,\n",
       " 58.94833333333333,\n",
       " 0.35960240389753795)"
      ]
     },
     "execution_count": 66,
     "metadata": {},
     "output_type": "execute_result"
    }
   ],
   "source": [
    "get_mean_svd(arcpseudo)"
   ]
  },
  {
   "cell_type": "code",
   "execution_count": 59,
   "metadata": {},
   "outputs": [],
   "source": [
    "f_inv1 = np.linalg.pinv(funcs1.T)"
   ]
  },
  {
   "cell_type": "code",
   "execution_count": 60,
   "metadata": {},
   "outputs": [],
   "source": [
    "f_inv2 = np.linalg.pinv(funcs2.T)"
   ]
  },
  {
   "cell_type": "code",
   "execution_count": 62,
   "metadata": {},
   "outputs": [
    {
     "data": {
      "text/plain": [
       "95.27799999999999"
      ]
     },
     "execution_count": 62,
     "metadata": {},
     "output_type": "execute_result"
    }
   ],
   "source": [
    "pred = W12 @ np.maximum(W11 @ np.maximum(W10 @ data.T, 0), 0)\n",
    "accuracy(pred.T, targ)"
   ]
  },
  {
   "cell_type": "code",
   "execution_count": 70,
   "metadata": {},
   "outputs": [
    {
     "data": {
      "text/plain": [
       "95.27799999999999"
      ]
     },
     "execution_count": 70,
     "metadata": {},
     "output_type": "execute_result"
    }
   ],
   "source": [
    "pred = W12 @ np.maximum(W11 @ np.maximum(W10 @ data.T, 0), 0)\n",
    "accuracy(pred.T, targ)"
   ]
  },
  {
   "cell_type": "code",
   "execution_count": 64,
   "metadata": {},
   "outputs": [
    {
     "data": {
      "text/plain": [
       "61.07"
      ]
     },
     "execution_count": 64,
     "metadata": {},
     "output_type": "execute_result"
    }
   ],
   "source": [
    "t=0.5\n",
    "pred = Connector(W12.T, W22.T).arc_connect(t=t)[1].T @ np.maximum(Connector(W11, (W21 @ funcs2.T @ f_inv1)).arc_connect(t=t)[1] @  np.maximum(W10 @ data.T, 0), 0)\n",
    "accuracy(pred.T, targ)"
   ]
  },
  {
   "cell_type": "code",
   "execution_count": 65,
   "metadata": {},
   "outputs": [
    {
     "data": {
      "text/plain": [
       "78.448"
      ]
     },
     "execution_count": 65,
     "metadata": {},
     "output_type": "execute_result"
    }
   ],
   "source": [
    "t = 0.5\n",
    "pred = W22 @ np.maximum(Connector((W21 @ funcs2.T @ f_inv1).T, W21.T).arc_connect(t=t)[1].T @ np.maximum(Connector(W10, W20).arc_connect(t=t)[1]  @ data.T, 0), 0)\n",
    "accuracy(pred.T, targ)"
   ]
  },
  {
   "cell_type": "code",
   "execution_count": null,
   "metadata": {},
   "outputs": [],
   "source": []
  }
 ],
 "metadata": {
  "kernelspec": {
   "display_name": "Python 3",
   "language": "python",
   "name": "python3"
  },
  "language_info": {
   "codemirror_mode": {
    "name": "ipython",
    "version": 3
   },
   "file_extension": ".py",
   "mimetype": "text/x-python",
   "name": "python",
   "nbconvert_exporter": "python",
   "pygments_lexer": "ipython3",
   "version": "3.6.7"
  }
 },
 "nbformat": 4,
 "nbformat_minor": 2
}
