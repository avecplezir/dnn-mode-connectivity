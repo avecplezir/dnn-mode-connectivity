{
 "cells": [
  {
   "cell_type": "code",
   "execution_count": 1,
   "metadata": {},
   "outputs": [],
   "source": [
    "import argparse\n",
    "import os\n",
    "import sys\n",
    "import tabulate\n",
    "import time\n",
    "import torch\n",
    "import torch.nn.functional as F\n",
    "\n",
    "import curves\n",
    "import data\n",
    "import models\n",
    "import utils\n",
    "import pickle\n",
    "\n",
    "import copy\n",
    "import torchvision"
   ]
  },
  {
   "cell_type": "code",
   "execution_count": 2,
   "metadata": {},
   "outputs": [],
   "source": [
    "import numpy as np\n",
    "import matplotlib.mlab as mlab\n",
    "import matplotlib.pyplot as plt\n",
    "\n",
    "from scipy.stats import norm"
   ]
  },
  {
   "cell_type": "code",
   "execution_count": 3,
   "metadata": {},
   "outputs": [],
   "source": [
    "architecture = getattr(models, \"VGG16\")"
   ]
  },
  {
   "cell_type": "code",
   "execution_count": 4,
   "metadata": {},
   "outputs": [],
   "source": [
    "model = architecture.base(num_classes=10, **architecture.kwargs)\n",
    "model2 = architecture.base(num_classes=10, **architecture.kwargs)\n",
    "model3 = architecture.base(num_classes=10, **architecture.kwargs)"
   ]
  },
  {
   "cell_type": "code",
   "execution_count": 5,
   "metadata": {},
   "outputs": [
    {
     "name": "stdout",
     "output_type": "stream",
     "text": [
      "Files already downloaded and verified\n",
      "Using train (45000) + validation (5000)\n",
      "Files already downloaded and verified\n"
     ]
    }
   ],
   "source": [
    "loaders, num_classes = data.loaders(\n",
    "    \"CIFAR10\",\n",
    "    \"data\",\n",
    "    128,\n",
    "    1,\n",
    "    \"VGG\",\n",
    "    False\n",
    ")"
   ]
  },
  {
   "cell_type": "code",
   "execution_count": 21,
   "metadata": {},
   "outputs": [],
   "source": [
    "model.load_state_dict(torch.load(\"curves/curve54/checkpoint-100.pt\")['model_state'])\n",
    "model2.load_state_dict(torch.load(\"curves/curve54/checkpoint-100.pt\")['model_state'])"
   ]
  },
  {
   "cell_type": "code",
   "execution_count": 22,
   "metadata": {},
   "outputs": [
    {
     "data": {
      "text/plain": [
       "torch.Size([512, 512])"
      ]
     },
     "execution_count": 22,
     "metadata": {},
     "output_type": "execute_result"
    }
   ],
   "source": [
    "list(model.modules())[-3].weight.shape"
   ]
  },
  {
   "cell_type": "code",
   "execution_count": 23,
   "metadata": {},
   "outputs": [],
   "source": [
    "def change_node(l1, l2, i, j):\n",
    "    #   matrix\n",
    "    c = copy.deepcopy(torch.nn.Parameter(list(model.modules())[l1].weight[j]))\n",
    "    list(model.modules())[l1].weight[j] = list(model.modules())[l1].weight[i]\n",
    "    list(model.modules())[l1].weight[i] = c\n",
    "\n",
    "    #     bias\n",
    "    c = copy.deepcopy(torch.nn.Parameter(list(model.modules())[l1].bias[j]))\n",
    "    list(model.modules())[l1].bias[j] = list(model.modules())[l1].bias[i]\n",
    "    list(model.modules())[l1].bias[i] = c\n",
    "\n",
    "    c = copy.deepcopy(torch.nn.Parameter(list(model.modules())[l2].weight.transpose(0, 1)[j]))\n",
    "    list(model.modules())[l2].weight.transpose(0, 1)[j] = list(model.modules())[l2].weight.transpose(0, 1)[i]\n",
    "    list(model.modules())[l2].weight.transpose(0, 1)[i] = c"
   ]
  },
  {
   "cell_type": "code",
   "execution_count": 24,
   "metadata": {},
   "outputs": [],
   "source": [
    "for i in range(256):\n",
    "    change_node(-6, -3, i, i+256)"
   ]
  },
  {
   "cell_type": "code",
   "execution_count": 25,
   "metadata": {},
   "outputs": [],
   "source": [
    "for p1, p2, p3 in zip(model3.parameters(), model2.parameters(), model.parameters()):\n",
    "    p1.data.copy_(0.5*(p2+p3))"
   ]
  },
  {
   "cell_type": "code",
   "execution_count": 26,
   "metadata": {},
   "outputs": [],
   "source": [
    "l1 = -6\n",
    "W1 = list(model2.modules())[l1].weight.data.numpy()\n",
    "W2 = list(model3.modules())[l1].weight.data.numpy()"
   ]
  },
  {
   "cell_type": "code",
   "execution_count": 27,
   "metadata": {},
   "outputs": [],
   "source": [
    "# list(model.modules())[-1].weight.shape"
   ]
  },
  {
   "cell_type": "code",
   "execution_count": 28,
   "metadata": {},
   "outputs": [],
   "source": [
    "# j1 = 5\n",
    "# j2 = 1\n",
    "# l1 = -6 \n",
    "# l2 = -6 \n",
    "# EW1 = []\n",
    "# EW2 = []\n",
    "# EW1W2 = []\n",
    "# for m in range(50, 51):\n",
    "#     model.load_state_dict(torch.load(\"curves/curve\"+str(m)+\"/checkpoint-100.pt\")['model_state'])\n",
    "#     E = 0\n",
    "#     for i in range(512):\n",
    "#         E+=list(model.modules())[l1].weight[i][j1]\n",
    "#     EW1.append(float(E))\n",
    "#     E = 0\n",
    "#     for i in range(512):\n",
    "#         E+=list(model.modules())[l2].weight[j2][i]\n",
    "#     EW2.append(float(E))\n",
    "#     E = 0\n",
    "#     for i in range(512):\n",
    "#         E+=list(model.modules())[l1].weight[i][j1]*list(model.modules())[l2].weight[j2][i]\n",
    "#     EW1W2.append(float(E))\n",
    "    "
   ]
  },
  {
   "cell_type": "code",
   "execution_count": 29,
   "metadata": {},
   "outputs": [],
   "source": [
    "import matplotlib.pyplot as plt\n",
    "import pandas as pd\n",
    "\n",
    "from sklearn.decomposition import PCA as sklearnPCA\n",
    "from sklearn.discriminant_analysis import LinearDiscriminantAnalysis as LDA\n",
    "from sklearn.datasets.samples_generator import make_blobs\n",
    "from sklearn.manifold import  TSNE\n",
    "from pandas.tools.plotting import parallel_coordinates"
   ]
  },
  {
   "cell_type": "code",
   "execution_count": 31,
   "metadata": {},
   "outputs": [
    {
     "data": {
      "image/png": "[encoded data removed]",
      "text/plain": [
       "<Figure size 432x288 with 1 Axes>"
      ]
     },
     "metadata": {
      "needs_background": "light"
     },
     "output_type": "display_data"
    },
    {
     "data": {
      "image/png": "[encoded data removed]",
      "text/plain": [
       "<Figure size 432x288 with 1 Axes>"
      ]
     },
     "metadata": {
      "needs_background": "light"
     },
     "output_type": "display_data"
    }
   ],
   "source": [
    "i, j = 0, 1\n",
    "plt.scatter(W1[:, i], W1[:, j], c='red')\n",
    "plt.show()\n",
    "plt.scatter(W2[:, i], W2[:, j], c='red')\n",
    "plt.show()\n",
    "\n",
    "# pca = sklearnPCA(n_components=2) #2-dimensional PCA\n",
    "# transformed = pca.fit_transform(W1)\n",
    "\n",
    "# plt.scatter(transformed[:, 0], transformed[:, 1], c='red')\n",
    "# plt.show()\n",
    "\n",
    "# pca = sklearnPCA(n_components=2) #2-dimensional PCA\n",
    "# transformed = pca.fit_transform(W2)\n",
    "\n",
    "# plt.scatter(transformed[:, 0], transformed[:, 1], c='red')\n",
    "# plt.show()\n",
    "\n",
    "# tsne = TSNE(n_components=2) \n",
    "# tsne_transformed = tsne.fit_transform(W1)\n",
    "\n",
    "# plt.scatter(tsne_transformed[:, 0], tsne_transformed[:, 1], c='red')\n",
    "# plt.show()\n",
    "\n",
    "# tsne = TSNE(n_components=2) \n",
    "# tsne_transformed = tsne.fit_transform(W2)\n",
    "\n",
    "# plt.scatter(tsne_transformed[:, 0], tsne_transformed[:, 1], c='red')\n",
    "# plt.show()"
   ]
  },
  {
   "cell_type": "code",
   "execution_count": 20,
   "metadata": {},
   "outputs": [
    {
     "data": {
      "image/png": "[encoded data removed]",
      "text/plain": [
       "<Figure size 432x288 with 1 Axes>"
      ]
     },
     "metadata": {
      "needs_background": "light"
     },
     "output_type": "display_data"
    },
    {
     "data": {
      "image/png": "[encoded data removed]",
      "text/plain": [
       "<Figure size 432x288 with 1 Axes>"
      ]
     },
     "metadata": {
      "needs_background": "light"
     },
     "output_type": "display_data"
    }
   ],
   "source": [
    "i, j = 0, 1\n",
    "plt.scatter(W1[:, i], W1[:, j], c='red')\n",
    "plt.show()\n",
    "plt.scatter(W2[:, i], W2[:, j], c='red')\n",
    "plt.show()"
   ]
  },
  {
   "cell_type": "code",
   "execution_count": 17,
   "metadata": {},
   "outputs": [
    {
     "data": {
      "image/png": "[encoded data removed]",
      "text/plain": [
       "<Figure size 432x288 with 1 Axes>"
      ]
     },
     "metadata": {
      "needs_background": "light"
     },
     "output_type": "display_data"
    },
    {
     "data": {
      "image/png": "[encoded data removed]",
      "text/plain": [
       "<Figure size 432x288 with 1 Axes>"
      ]
     },
     "metadata": {
      "needs_background": "light"
     },
     "output_type": "display_data"
    }
   ],
   "source": [
    "pca = sklearnPCA(n_components=2) #2-dimensional PCA\n",
    "transformed = pca.fit_transform(W1)\n",
    "\n",
    "plt.scatter(transformed[:, 0], transformed[:, 1], c='red')\n",
    "plt.show()\n",
    "\n",
    "pca = sklearnPCA(n_components=2) #2-dimensional PCA\n",
    "transformed = pca.fit_transform(W2)\n",
    "\n",
    "plt.scatter(transformed[:, 0], transformed[:, 1], c='red')\n",
    "plt.show()"
   ]
  },
  {
   "cell_type": "code",
   "execution_count": 19,
   "metadata": {},
   "outputs": [
    {
     "data": {
      "image/png": "[encoded data removed]",
      "text/plain": [
       "<Figure size 432x288 with 1 Axes>"
      ]
     },
     "metadata": {
      "needs_background": "light"
     },
     "output_type": "display_data"
    },
    {
     "data": {
      "image/png": "[encoded data removed]",
      "text/plain": [
       "<Figure size 432x288 with 1 Axes>"
      ]
     },
     "metadata": {
      "needs_background": "light"
     },
     "output_type": "display_data"
    }
   ],
   "source": [
    "tsne = TSNE(n_components=2) \n",
    "tsne_transformed = tsne.fit_transform(W1)\n",
    "\n",
    "plt.scatter(tsne_transformed[:, 0], tsne_transformed[:, 1], c='red')\n",
    "plt.show()\n",
    "\n",
    "tsne = TSNE(n_components=2) \n",
    "tsne_transformed = tsne.fit_transform(W2)\n",
    "\n",
    "plt.scatter(tsne_transformed[:, 0], tsne_transformed[:, 1], c='red')\n",
    "plt.show()"
   ]
  },
  {
   "cell_type": "code",
   "execution_count": 31,
   "metadata": {},
   "outputs": [],
   "source": [
    "def plot_stat(x, bins=5, name = None):\n",
    "\n",
    "    mu, std = norm.fit(x)\n",
    "\n",
    "    # Plot the histogram.\n",
    "    plt.hist(x, bins=bins, alpha=0.6,density=True, color='g')\n",
    "\n",
    "    xmin, xmax = plt.xlim()\n",
    "    x = np.linspace(xmin, xmax, 100)\n",
    "    p = norm.pdf(x, mu, std)\n",
    "    plt.plot(x, p, 'k', linewidth=2)\n",
    "    title = \"mu = %.2f,  std = %.2f, N = %.f\" % (mu, std, 50)\n",
    "    plt.title(title)\n",
    "\n",
    "    plt.show()"
   ]
  },
  {
   "cell_type": "code",
   "execution_count": 34,
   "metadata": {},
   "outputs": [
    {
     "data": {
      "image/png": "[encoded data removed]",
      "text/plain": [
       "<Figure size 432x288 with 1 Axes>"
      ]
     },
     "metadata": {
      "needs_background": "light"
     },
     "output_type": "display_data"
    }
   ],
   "source": [
    "plot_stat(EW1W2, bins=5);"
   ]
  },
  {
   "cell_type": "code",
   "execution_count": null,
   "metadata": {},
   "outputs": [],
   "source": [
    "plot_stat"
   ]
  },
  {
   "cell_type": "code",
   "execution_count": null,
   "metadata": {},
   "outputs": [],
   "source": [
    "EW2[h]"
   ]
  },
  {
   "cell_type": "code",
   "execution_count": 17,
   "metadata": {},
   "outputs": [
    {
     "name": "stdout",
     "output_type": "stream",
     "text": [
      "0.015104583948243766\n",
      "-0.5175359897767109\n",
      "0.0744774918795934\n",
      "0.4367555554509295\n",
      "-0.0039547520172744655\n",
      "-0.05770887935486613\n",
      "-0.12119744142486333\n",
      "0.0621155720853781\n",
      "0.41235299889188326\n",
      "-0.15122598760313188\n",
      "0.7622398440528713\n",
      "-0.27584200404018944\n",
      "-0.061237517302743516\n",
      "0.16408929936315353\n",
      "0.09196880625591142\n",
      "-0.04925511898610502\n",
      "0.08418652178342256\n",
      "0.04748972648594929\n",
      "-0.43505827437213185\n",
      "0.09962990644831571\n",
      "-0.1612104617317165\n",
      "0.1774061997879901\n",
      "0.07480459408019424\n",
      "-0.2957610490872824\n",
      "0.8085829810165279\n",
      "-0.09103153241656248\n",
      "0.916645431679143\n",
      "0.1424226841811187\n",
      "-0.8301298037597071\n",
      "-0.086426922107945\n",
      "-0.24167672077177293\n",
      "-0.42508424988690763\n",
      "0.7937531022430875\n",
      "-0.032520175132707774\n",
      "-0.0036451044612323402\n",
      "2.7826724366657345\n",
      "-0.28774900146527216\n",
      "0.13367978104307454\n",
      "0.3767745439865209\n",
      "0.32353039516276283\n",
      "0.04459798064635834\n",
      "0.2653258835918848\n",
      "0.029510819851052972\n",
      "-0.8711648894865647\n",
      "0.025477871178168243\n",
      "-0.2555961778483056\n",
      "-0.7158544607700605\n",
      "-0.3375371268670193\n",
      "0.3495649671525989\n",
      "0.18061316562314111\n"
     ]
    }
   ],
   "source": [
    "for h in range(0, 50):\n",
    "    print((EW1[h]*EW2[h]-EW1W2[h]))"
   ]
  },
  {
   "cell_type": "code",
   "execution_count": 6,
   "metadata": {},
   "outputs": [],
   "source": [
    "for X, y in loaders['test']:\n",
    "    break"
   ]
  },
  {
   "cell_type": "code",
   "execution_count": 7,
   "metadata": {},
   "outputs": [
    {
     "data": {
      "text/plain": [
       "{'train': <torch.utils.data.dataloader.DataLoader at 0x7f602c51a9b0>,\n",
       " 'test': <torch.utils.data.dataloader.DataLoader at 0x7f5fc3cd14a8>}"
      ]
     },
     "execution_count": 7,
     "metadata": {},
     "output_type": "execute_result"
    }
   ],
   "source": [
    "loaders"
   ]
  },
  {
   "cell_type": "code",
   "execution_count": 8,
   "metadata": {},
   "outputs": [
    {
     "data": {
      "text/plain": [
       "(torch.Size([128, 3, 32, 32]), torch.Size([128]))"
      ]
     },
     "execution_count": 8,
     "metadata": {},
     "output_type": "execute_result"
    }
   ],
   "source": [
    "X.shape, y.shape"
   ]
  },
  {
   "cell_type": "code",
   "execution_count": 9,
   "metadata": {},
   "outputs": [],
   "source": [
    "# from matplotlib import pyplot as plt\n",
    "# %matplotlib inline\n",
    "\n",
    "# def show_images(x, scale=15, line_width=10):\n",
    "#     plt.figure(figsize=(scale, scale / line_width * (x.shape[0] // line_width + 1)))\n",
    "#     x = x.view(-1, 1, 28, 28)\n",
    "#     mtx = torchvision.utils.make_grid(x, nrow=line_width, pad_value=1)\n",
    "#     plt.imshow(mtx.permute([1, 2, 0]).numpy(), cmap='Greys_r', vmin=0, vmax=1, interpolation='lanczos')\n",
    "#     plt.axis('off')\n",
    "\n",
    "# show_images(X[:10])"
   ]
  },
  {
   "cell_type": "code",
   "execution_count": 10,
   "metadata": {},
   "outputs": [],
   "source": [
    "model.cuda();"
   ]
  },
  {
   "cell_type": "code",
   "execution_count": 11,
   "metadata": {},
   "outputs": [],
   "source": [
    "# model.load_state_dict(torch.load(\"curves_mnist/VGG16/curve1/checkpoint-20.pt\")['model_state'])\n",
    "model.load_state_dict(torch.load(\"curves/curve1/checkpoint-100.pt\")['model_state'])\n",
    "# model.load_state_dict(torch.load(\"curves_mnist/Linear/curve1/checkpoint-20.pt\")['model_state'])"
   ]
  },
  {
   "cell_type": "code",
   "execution_count": null,
   "metadata": {},
   "outputs": [],
   "source": []
  },
  {
   "cell_type": "code",
   "execution_count": 12,
   "metadata": {},
   "outputs": [],
   "source": [
    "# def learning_rate_schedule(base_lr, epoch, total_epochs):\n",
    "#     alpha = epoch / total_epochs\n",
    "#     if alpha <= 0.5:\n",
    "#         factor = 1.0\n",
    "#     elif alpha <= 0.9:\n",
    "#         factor = 1.0 - (alpha - 0.5) / 0.4 * 0.99\n",
    "#     else:\n",
    "#         factor = 0.01\n",
    "#     return factor * base_lr\n",
    "\n",
    "\n",
    "# criterion = F.cross_entropy\n",
    "# regularizer = None \n",
    "# optimizer = torch.optim.SGD(\n",
    "#     filter(lambda param: param.requires_grad, model.parameters()),\n",
    "#     lr=1e-3,\n",
    "#     momentum=0.9,\n",
    "#     weight_decay=0.0\n",
    "# )\n",
    "\n",
    "\n",
    "# start_epoch = 1\n",
    "\n",
    "# columns = ['ep', 'lr', 'tr_loss', 'tr_acc', 'te_nll', 'te_acc', 'time']\n",
    "\n",
    "# for epoch in range(start_epoch, 100 + 1):\n",
    "#     time_ep = time.time()\n",
    "\n",
    "#     lr = learning_rate_schedule(1e-3, epoch, 100)\n",
    "#     utils.adjust_learning_rate(optimizer, lr)\n",
    "\n",
    "#     train_res = utils.train(loaders['train'], model, optimizer, criterion, regularizer)\n",
    "#     test_res = utils.test(loaders['test'], model, criterion, regularizer)\n",
    "\n",
    "#     time_ep = time.time() - time_ep\n",
    "#     values = [epoch, lr, train_res['loss'], train_res['accuracy'], test_res['nll'],\n",
    "#               test_res['accuracy'], time_ep]\n",
    "\n",
    "#     table = tabulate.tabulate([values], columns, tablefmt='simple', floatfmt='9.4f')\n",
    "#     if epoch % 40 == 1 or epoch == start_epoch:\n",
    "#         table = table.split('\\n')\n",
    "#         table = '\\n'.join([table[1]] + table)\n",
    "#     else:\n",
    "#         table = table.split('\\n')[2]\n",
    "#     print(table)\n"
   ]
  },
  {
   "cell_type": "code",
   "execution_count": 13,
   "metadata": {},
   "outputs": [],
   "source": [
    "model.cpu();\n",
    "X = X.cpu();"
   ]
  },
  {
   "cell_type": "code",
   "execution_count": 14,
   "metadata": {},
   "outputs": [],
   "source": [
    "# model(X)"
   ]
  },
  {
   "cell_type": "code",
   "execution_count": 15,
   "metadata": {},
   "outputs": [],
   "source": [
    "y_pred = torch.argmax(model(X), dim=-1)"
   ]
  },
  {
   "cell_type": "code",
   "execution_count": 16,
   "metadata": {},
   "outputs": [
    {
     "data": {
      "text/plain": [
       "tensor([7, 1, 4, 1, 0, 2, 2, 5, 9, 6, 0, 1, 3, 1, 1, 2, 1, 8, 5, 6, 9, 2, 4, 2,\n",
       "        8, 8, 3, 7, 1, 7, 1, 7, 5, 9, 7, 0, 7, 8, 3, 6, 1, 2, 2, 5, 9, 8, 4, 8,\n",
       "        9, 4, 2, 5, 9, 3, 7, 9, 9, 3, 7, 9, 2, 7, 8, 9, 0, 7, 3, 0, 1, 7, 1, 4,\n",
       "        6, 8, 2, 3, 4, 1, 6, 2, 6, 0, 3, 5, 1, 0, 9, 7, 0, 0, 9, 3, 4, 9, 8, 8,\n",
       "        0, 1, 6, 1, 4, 9, 0, 7, 8, 1, 0, 9, 5, 2, 4, 4, 7, 0, 4, 8, 9, 3, 1, 2,\n",
       "        2, 4, 4, 0, 4, 5, 1, 7])"
      ]
     },
     "execution_count": 16,
     "metadata": {},
     "output_type": "execute_result"
    }
   ],
   "source": [
    "y"
   ]
  },
  {
   "cell_type": "code",
   "execution_count": 17,
   "metadata": {},
   "outputs": [
    {
     "data": {
      "text/plain": [
       "tensor([7, 1, 4, 1, 0, 2, 2, 5, 9, 6, 0, 1, 3, 1, 1, 2, 1, 8, 5, 6, 9, 2, 4, 2,\n",
       "        8, 8, 3, 7, 1, 7, 1, 7, 5, 9, 7, 0, 7, 8, 7, 6, 1, 5, 2, 5, 3, 8, 4, 8,\n",
       "        9, 4, 2, 3, 9, 3, 7, 9, 9, 3, 3, 9, 2, 7, 8, 9, 0, 7, 3, 7, 1, 7, 1, 4,\n",
       "        6, 8, 2, 3, 4, 1, 6, 2, 6, 0, 3, 5, 1, 0, 9, 7, 0, 0, 9, 0, 4, 9, 8, 8,\n",
       "        0, 1, 6, 1, 4, 9, 3, 7, 8, 1, 0, 9, 5, 2, 4, 4, 7, 0, 4, 8, 9, 3, 1, 2,\n",
       "        2, 4, 4, 0, 4, 5, 1, 7])"
      ]
     },
     "execution_count": 17,
     "metadata": {},
     "output_type": "execute_result"
    }
   ],
   "source": [
    "y_pred"
   ]
  },
  {
   "cell_type": "code",
   "execution_count": 18,
   "metadata": {},
   "outputs": [
    {
     "data": {
      "text/plain": [
       "(torch.Size([10]), torch.Size([10, 512]))"
      ]
     },
     "execution_count": 18,
     "metadata": {},
     "output_type": "execute_result"
    }
   ],
   "source": [
    "list(model.parameters())[-1].shape, list(model.parameters())[-2].shape"
   ]
  },
  {
   "cell_type": "code",
   "execution_count": 19,
   "metadata": {},
   "outputs": [
    {
     "data": {
      "text/plain": [
       "tensor(8, dtype=torch.uint8)"
      ]
     },
     "execution_count": 19,
     "metadata": {},
     "output_type": "execute_result"
    }
   ],
   "source": [
    "sum(~(y_pred==y))"
   ]
  },
  {
   "cell_type": "markdown",
   "metadata": {},
   "source": [
    "## Rescale"
   ]
  },
  {
   "cell_type": "code",
   "execution_count": 115,
   "metadata": {},
   "outputs": [],
   "source": [
    "def rescale(l, scale):\n",
    "    list(model.modules())[l].weight=torch.nn.Parameter(list(model.modules())[l].weight*scale)\n",
    "    list(model.modules())[l].bias=torch.nn.Parameter(list(model.modules())[l].bias*scale)"
   ]
  },
  {
   "cell_type": "code",
   "execution_count": 116,
   "metadata": {},
   "outputs": [
    {
     "data": {
      "text/plain": [
       "Conv2d(512, 512, kernel_size=(3, 3), stride=(1, 1), padding=(1, 1))"
      ]
     },
     "execution_count": 116,
     "metadata": {},
     "output_type": "execute_result"
    }
   ],
   "source": [
    "list(model.modules())[18]"
   ]
  },
  {
   "cell_type": "code",
   "execution_count": 117,
   "metadata": {},
   "outputs": [],
   "source": [
    "rescale(-3, 10)"
   ]
  },
  {
   "cell_type": "code",
   "execution_count": 122,
   "metadata": {},
   "outputs": [],
   "source": [
    "rescale(-6, 0.1)"
   ]
  },
  {
   "cell_type": "code",
   "execution_count": 123,
   "metadata": {},
   "outputs": [],
   "source": [
    "y_pred_r = torch.argmax(model(X), dim=-1)"
   ]
  },
  {
   "cell_type": "code",
   "execution_count": 124,
   "metadata": {},
   "outputs": [
    {
     "data": {
      "text/plain": [
       "tensor([7, 1, 4, 1, 0, 2, 2, 3, 9, 6, 0, 1, 3, 1, 1, 2, 1, 8, 5, 6, 9, 2, 4, 2,\n",
       "        8, 8, 3, 7, 1, 5, 1, 7, 5, 9, 7, 0, 3, 8, 5, 6, 1, 5, 2, 3, 3, 8, 4, 8,\n",
       "        9, 4, 2, 3, 9, 3, 7, 9, 9, 3, 3, 9, 2, 7, 8, 9, 0, 7, 3, 3, 1, 7, 1, 4,\n",
       "        6, 8, 2, 3, 3, 1, 6, 2, 6, 0, 3, 5, 1, 0, 9, 7, 0, 0, 9, 3, 4, 9, 8, 8,\n",
       "        0, 1, 3, 1, 4, 9, 3, 7, 8, 1, 0, 9, 5, 2, 4, 4, 7, 0, 4, 8, 9, 3, 1, 2,\n",
       "        2, 4, 4, 0, 4, 5, 1, 7])"
      ]
     },
     "execution_count": 124,
     "metadata": {},
     "output_type": "execute_result"
    }
   ],
   "source": [
    "y_pred_r"
   ]
  },
  {
   "cell_type": "code",
   "execution_count": 125,
   "metadata": {},
   "outputs": [
    {
     "data": {
      "text/plain": [
       "tensor(9, dtype=torch.uint8)"
      ]
     },
     "execution_count": 125,
     "metadata": {},
     "output_type": "execute_result"
    }
   ],
   "source": [
    "sum(~(y_pred==y_pred_r))"
   ]
  },
  {
   "cell_type": "markdown",
   "metadata": {},
   "source": [
    "## Node"
   ]
  },
  {
   "cell_type": "code",
   "execution_count": 280,
   "metadata": {},
   "outputs": [],
   "source": [
    "# list(model.modules())[-10].bias"
   ]
  },
  {
   "cell_type": "code",
   "execution_count": 281,
   "metadata": {},
   "outputs": [],
   "source": [
    "# model.load_state_dict(torch.load(\"curves/curve1/checkpoint-100.pt\")['model_state'])"
   ]
  },
  {
   "cell_type": "code",
   "execution_count": 20,
   "metadata": {},
   "outputs": [],
   "source": [
    "def change_node(l1, l2, i, j):\n",
    "    \n",
    "    #   matrix  \n",
    "    c = copy.deepcopy(torch.nn.Parameter(list(model.modules())[l1].weight[j]))\n",
    "    list(model.modules())[l1].weight[j]  = list(model.modules())[l1].weight[i] \n",
    "    list(model.modules())[l1].weight[i] = c\n",
    "    \n",
    "    #     bias\n",
    "    c = copy.deepcopy(torch.nn.Parameter(list(model.modules())[l1].bias[j]))\n",
    "    list(model.modules())[l1].bias[j]  = list(model.modules())[l1].bias[i] \n",
    "    list(model.modules())[l1].bias[i] = c\n",
    "    \n",
    "    c = copy.deepcopy(torch.nn.Parameter(list(model.modules())[l2].weight.transpose(0,1)[j]))\n",
    "    list(model.modules())[l2].weight.transpose(0,1)[j]  = list(model.modules())[l2].weight.transpose(0,1)[i]\n",
    "    list(model.modules())[l2].weight.transpose(0,1)[i] = c\n",
    "    "
   ]
  },
  {
   "cell_type": "code",
   "execution_count": 21,
   "metadata": {},
   "outputs": [],
   "source": [
    "# model = architecture.base(num_classes=10, **architecture.kwargs)\n",
    "# model.load_state_dict(torch.load(\"curves/curve1/checkpoint-0.pt\")['model_state'])\n",
    "# y_pred = torch.argmax(model(X), dim=-1)"
   ]
  },
  {
   "cell_type": "code",
   "execution_count": 22,
   "metadata": {},
   "outputs": [],
   "source": [
    "# def change_node(l1, l2, i, j):\n",
    "    \n",
    "#     #   matrix  \n",
    "#     c = copy.deepcopy(torch.nn.Parameter(list(model.parameters())[l1][j]))\n",
    "#     list(model.parameters())[l1][j]  = list(model.parameters())[l1][i] \n",
    "#     list(model.parameters())[l1][i] = c\n",
    "    \n",
    "#     #     bias\n",
    "#     c = copy.deepcopy(torch.nn.Parameter(list(model.parameters())[l1+1][j]))\n",
    "#     list(model.parameters())[l1+1][j]  = list(model.parameters())[l1+1][i] \n",
    "#     list(model.parameters())[l1+1][i] = c\n",
    "    \n",
    "#     c = copy.deepcopy(torch.nn.Parameter(list(model.parameters())[l2].transpose(0,1)[j]))\n",
    "#     list(model.parameters())[l2].transpose(0,1)[j]  = list(model.parameters())[l2].transpose(0,1)[i]\n",
    "#     list(model.parameters())[l2].transpose(0,1)[i] = c"
   ]
  },
  {
   "cell_type": "code",
   "execution_count": 61,
   "metadata": {},
   "outputs": [
    {
     "data": {
      "text/plain": [
       "torch.Size([10, 512])"
      ]
     },
     "execution_count": 61,
     "metadata": {},
     "output_type": "execute_result"
    }
   ],
   "source": [
    "list(model.modules())[-1].weight.shape"
   ]
  },
  {
   "cell_type": "code",
   "execution_count": 122,
   "metadata": {},
   "outputs": [],
   "source": [
    "# change_node(-3, -1, 0, 1)"
   ]
  },
  {
   "cell_type": "code",
   "execution_count": 177,
   "metadata": {},
   "outputs": [
    {
     "ename": "AttributeError",
     "evalue": "'Sequential' object has no attribute 'weight'",
     "output_type": "error",
     "traceback": [
      "\u001b[0;31m---------------------------------------------------------------------------\u001b[0m",
      "\u001b[0;31mAttributeError\u001b[0m                            Traceback (most recent call last)",
      "\u001b[0;32m<ipython-input-177-6a9fb283cf9e>\u001b[0m in \u001b[0;36m<module>\u001b[0;34m\u001b[0m\n\u001b[1;32m      1\u001b[0m \u001b[0;32mfor\u001b[0m \u001b[0mi\u001b[0m \u001b[0;32min\u001b[0m \u001b[0mrange\u001b[0m\u001b[0;34m(\u001b[0m\u001b[0;36m200\u001b[0m\u001b[0;34m)\u001b[0m\u001b[0;34m:\u001b[0m\u001b[0;34m\u001b[0m\u001b[0;34m\u001b[0m\u001b[0m\n\u001b[0;32m----> 2\u001b[0;31m     \u001b[0mchange_node\u001b[0m\u001b[0;34m(\u001b[0m\u001b[0;34m-\u001b[0m\u001b[0;36m6\u001b[0m\u001b[0;34m,\u001b[0m \u001b[0;34m-\u001b[0m\u001b[0;36m4\u001b[0m\u001b[0;34m,\u001b[0m \u001b[0mi\u001b[0m\u001b[0;34m,\u001b[0m \u001b[0mi\u001b[0m\u001b[0;34m+\u001b[0m\u001b[0;36m200\u001b[0m\u001b[0;34m)\u001b[0m\u001b[0;34m\u001b[0m\u001b[0;34m\u001b[0m\u001b[0m\n\u001b[0m",
      "\u001b[0;32m<ipython-input-172-c28e8aafb851>\u001b[0m in \u001b[0;36mchange_node\u001b[0;34m(l1, l2, i, j)\u001b[0m\n\u001b[1;32m      2\u001b[0m \u001b[0;34m\u001b[0m\u001b[0m\n\u001b[1;32m      3\u001b[0m     \u001b[0;31m#   matrix\u001b[0m\u001b[0;34m\u001b[0m\u001b[0;34m\u001b[0m\u001b[0;34m\u001b[0m\u001b[0m\n\u001b[0;32m----> 4\u001b[0;31m     \u001b[0mc\u001b[0m \u001b[0;34m=\u001b[0m \u001b[0mcopy\u001b[0m\u001b[0;34m.\u001b[0m\u001b[0mdeepcopy\u001b[0m\u001b[0;34m(\u001b[0m\u001b[0mtorch\u001b[0m\u001b[0;34m.\u001b[0m\u001b[0mnn\u001b[0m\u001b[0;34m.\u001b[0m\u001b[0mParameter\u001b[0m\u001b[0;34m(\u001b[0m\u001b[0mlist\u001b[0m\u001b[0;34m(\u001b[0m\u001b[0mmodel\u001b[0m\u001b[0;34m.\u001b[0m\u001b[0mmodules\u001b[0m\u001b[0;34m(\u001b[0m\u001b[0;34m)\u001b[0m\u001b[0;34m)\u001b[0m\u001b[0;34m[\u001b[0m\u001b[0ml1\u001b[0m\u001b[0;34m]\u001b[0m\u001b[0;34m.\u001b[0m\u001b[0mweight\u001b[0m\u001b[0;34m[\u001b[0m\u001b[0mj\u001b[0m\u001b[0;34m]\u001b[0m\u001b[0;34m)\u001b[0m\u001b[0;34m)\u001b[0m\u001b[0;34m\u001b[0m\u001b[0;34m\u001b[0m\u001b[0m\n\u001b[0m\u001b[1;32m      5\u001b[0m     \u001b[0mlist\u001b[0m\u001b[0;34m(\u001b[0m\u001b[0mmodel\u001b[0m\u001b[0;34m.\u001b[0m\u001b[0mmodules\u001b[0m\u001b[0;34m(\u001b[0m\u001b[0;34m)\u001b[0m\u001b[0;34m)\u001b[0m\u001b[0;34m[\u001b[0m\u001b[0ml1\u001b[0m\u001b[0;34m]\u001b[0m\u001b[0;34m.\u001b[0m\u001b[0mweight\u001b[0m\u001b[0;34m[\u001b[0m\u001b[0mj\u001b[0m\u001b[0;34m]\u001b[0m  \u001b[0;34m=\u001b[0m \u001b[0mlist\u001b[0m\u001b[0;34m(\u001b[0m\u001b[0mmodel\u001b[0m\u001b[0;34m.\u001b[0m\u001b[0mmodules\u001b[0m\u001b[0;34m(\u001b[0m\u001b[0;34m)\u001b[0m\u001b[0;34m)\u001b[0m\u001b[0;34m[\u001b[0m\u001b[0ml1\u001b[0m\u001b[0;34m]\u001b[0m\u001b[0;34m.\u001b[0m\u001b[0mweight\u001b[0m\u001b[0;34m[\u001b[0m\u001b[0mi\u001b[0m\u001b[0;34m]\u001b[0m\u001b[0;34m\u001b[0m\u001b[0;34m\u001b[0m\u001b[0m\n\u001b[1;32m      6\u001b[0m     \u001b[0mlist\u001b[0m\u001b[0;34m(\u001b[0m\u001b[0mmodel\u001b[0m\u001b[0;34m.\u001b[0m\u001b[0mmodules\u001b[0m\u001b[0;34m(\u001b[0m\u001b[0;34m)\u001b[0m\u001b[0;34m)\u001b[0m\u001b[0;34m[\u001b[0m\u001b[0ml1\u001b[0m\u001b[0;34m]\u001b[0m\u001b[0;34m.\u001b[0m\u001b[0mweight\u001b[0m\u001b[0;34m[\u001b[0m\u001b[0mi\u001b[0m\u001b[0;34m]\u001b[0m \u001b[0;34m=\u001b[0m \u001b[0mc\u001b[0m\u001b[0;34m\u001b[0m\u001b[0;34m\u001b[0m\u001b[0m\n",
      "\u001b[0;32m~/anaconda3/lib/python3.7/site-packages/torch/nn/modules/module.py\u001b[0m in \u001b[0;36m__getattr__\u001b[0;34m(self, name)\u001b[0m\n\u001b[1;32m    533\u001b[0m                 \u001b[0;32mreturn\u001b[0m \u001b[0mmodules\u001b[0m\u001b[0;34m[\u001b[0m\u001b[0mname\u001b[0m\u001b[0;34m]\u001b[0m\u001b[0;34m\u001b[0m\u001b[0;34m\u001b[0m\u001b[0m\n\u001b[1;32m    534\u001b[0m         raise AttributeError(\"'{}' object has no attribute '{}'\".format(\n\u001b[0;32m--> 535\u001b[0;31m             type(self).__name__, name))\n\u001b[0m\u001b[1;32m    536\u001b[0m \u001b[0;34m\u001b[0m\u001b[0m\n\u001b[1;32m    537\u001b[0m     \u001b[0;32mdef\u001b[0m \u001b[0m__setattr__\u001b[0m\u001b[0;34m(\u001b[0m\u001b[0mself\u001b[0m\u001b[0;34m,\u001b[0m \u001b[0mname\u001b[0m\u001b[0;34m,\u001b[0m \u001b[0mvalue\u001b[0m\u001b[0;34m)\u001b[0m\u001b[0;34m:\u001b[0m\u001b[0;34m\u001b[0m\u001b[0;34m\u001b[0m\u001b[0m\n",
      "\u001b[0;31mAttributeError\u001b[0m: 'Sequential' object has no attribute 'weight'"
     ]
    }
   ],
   "source": [
    "for i in range(200):  \n",
    "    change_node(-6, -4, i, i+200)"
   ]
  },
  {
   "cell_type": "code",
   "execution_count": 137,
   "metadata": {},
   "outputs": [],
   "source": [
    "y_pred_n = torch.argmax(model(X), dim=-1)"
   ]
  },
  {
   "cell_type": "code",
   "execution_count": 138,
   "metadata": {},
   "outputs": [
    {
     "data": {
      "text/plain": [
       "tensor([9, 9, 9, 3, 9, 9, 9, 3, 9, 9, 9, 9, 0, 3, 3, 8, 8, 9, 9, 8, 9, 8, 9, 3,\n",
       "        9, 3, 9, 9, 9, 9, 8, 9, 3, 3, 0, 9, 8, 9, 9, 9, 9, 9, 9, 9, 3, 8, 8, 0,\n",
       "        9, 9, 8, 9, 3, 9, 9, 3, 8, 9, 9, 3, 9, 9, 8, 3, 3, 9, 9, 3, 9, 9, 3, 9,\n",
       "        3, 8, 9, 3, 3, 9, 9, 9, 9, 8, 9, 3, 9, 8, 9, 3, 9, 8, 9, 9, 9, 9, 9, 3,\n",
       "        3, 3, 3, 3, 9, 9, 3, 3, 3, 9, 8, 3, 3, 9, 9, 9, 9, 9, 3, 9, 8, 9, 9, 3,\n",
       "        9, 8, 8, 9, 3, 9, 9, 8])"
      ]
     },
     "execution_count": 138,
     "metadata": {},
     "output_type": "execute_result"
    }
   ],
   "source": [
    "y_pred_n"
   ]
  },
  {
   "cell_type": "code",
   "execution_count": 139,
   "metadata": {},
   "outputs": [
    {
     "name": "stdout",
     "output_type": "stream",
     "text": [
      "eq  tensor([0, 0, 1, 1, 1, 0, 0, 1, 0, 0, 1, 0, 1, 1, 1, 1, 0, 1, 1, 1, 1, 1, 0, 0,\n",
      "        1, 1, 0, 0, 1, 1, 1, 1, 1, 1, 1, 1, 1, 0, 1, 0, 0, 0, 0, 1, 1, 0, 1, 0,\n",
      "        1, 1, 1, 0, 1, 0, 1, 1, 1, 0, 1, 0, 1, 1, 1, 1, 0, 1, 0, 0, 0, 0, 1, 1,\n",
      "        0, 1, 0, 1, 1, 1, 0, 1, 1, 1, 1, 1, 1, 1, 0, 1, 0, 1, 1, 1, 1, 1, 0, 1,\n",
      "        1, 1, 0, 1, 0, 1, 1, 1, 1, 1, 1, 1, 1, 0, 0, 1, 0, 0, 0, 1, 1, 1, 0, 1,\n",
      "        1, 1, 1, 0, 1, 1, 0, 1], dtype=torch.uint8)\n"
     ]
    }
   ],
   "source": [
    "print(\"eq \", ~(y_pred_n==y_pred))"
   ]
  },
  {
   "cell_type": "code",
   "execution_count": 140,
   "metadata": {},
   "outputs": [
    {
     "data": {
      "text/plain": [
       "tensor(84, dtype=torch.uint8)"
      ]
     },
     "execution_count": 140,
     "metadata": {},
     "output_type": "execute_result"
    }
   ],
   "source": [
    "sum(~(y_pred==y_pred_n))"
   ]
  },
  {
   "cell_type": "markdown",
   "metadata": {},
   "source": [
    "## Saving"
   ]
  },
  {
   "cell_type": "code",
   "execution_count": 114,
   "metadata": {},
   "outputs": [],
   "source": [
    "#  torch.load(\"curve/checkpoint-50.pt\")"
   ]
  },
  {
   "cell_type": "code",
   "execution_count": 74,
   "metadata": {},
   "outputs": [
    {
     "name": "stdout",
     "output_type": "stream",
     "text": [
      "p  Aaa\n",
      "k 0\n",
      "p  Bbb\n",
      "k 3\n"
     ]
    }
   ],
   "source": [
    "for path, k in [(\"Aaa\", 0), (\"Bbb\", 4 - 1)]:\n",
    "    print('p ', path)\n",
    "    print('k', k)\n",
    "    "
   ]
  },
  {
   "cell_type": "code",
   "execution_count": 77,
   "metadata": {},
   "outputs": [
    {
     "data": {
      "text/plain": [
       "[0, 3, 6, 9]"
      ]
     },
     "execution_count": 77,
     "metadata": {},
     "output_type": "execute_result"
    }
   ],
   "source": [
    "a = list(range(10))\n",
    "a[::3]"
   ]
  },
  {
   "cell_type": "code",
   "execution_count": 70,
   "metadata": {},
   "outputs": [],
   "source": [
    "architecture = getattr(models, \"VGG16\")\n",
    "curve = getattr(curves, 'PolyChain')"
   ]
  },
  {
   "cell_type": "code",
   "execution_count": 71,
   "metadata": {},
   "outputs": [
    {
     "data": {
      "text/plain": [
       "curves.PolyChain"
      ]
     },
     "execution_count": 71,
     "metadata": {},
     "output_type": "execute_result"
    }
   ],
   "source": [
    "curve"
   ]
  },
  {
   "cell_type": "code",
   "execution_count": 72,
   "metadata": {},
   "outputs": [
    {
     "data": {
      "text/plain": [
       "models.vgg.VGGCurve"
      ]
     },
     "execution_count": 72,
     "metadata": {},
     "output_type": "execute_result"
    }
   ],
   "source": [
    "architecture.curve"
   ]
  },
  {
   "cell_type": "code",
   "execution_count": 73,
   "metadata": {},
   "outputs": [
    {
     "data": {
      "text/plain": [
       "{'batch_norm': False, 'depth': 16}"
      ]
     },
     "execution_count": 73,
     "metadata": {},
     "output_type": "execute_result"
    }
   ],
   "source": [
    "architecture.kwargs"
   ]
  },
  {
   "cell_type": "code",
   "execution_count": 74,
   "metadata": {},
   "outputs": [],
   "source": [
    "model = curves.CurveNet(\n",
    "        10,\n",
    "        curve,\n",
    "        architecture.curve,\n",
    "        3,\n",
    "        True,\n",
    "        True,\n",
    "        architecture_kwargs=architecture.kwargs,\n",
    "    )"
   ]
  },
  {
   "cell_type": "code",
   "execution_count": 75,
   "metadata": {},
   "outputs": [
    {
     "data": {
      "text/plain": [
       "CurveNet(\n",
       "  (coeff_layer): PolyChain()\n",
       "  (net): VGGCurve(\n",
       "    (layer_blocks): ModuleList(\n",
       "      (0): ModuleList(\n",
       "        (0): Conv2d()\n",
       "        (1): Conv2d()\n",
       "      )\n",
       "      (1): ModuleList(\n",
       "        (0): Conv2d()\n",
       "        (1): Conv2d()\n",
       "      )\n",
       "      (2): ModuleList(\n",
       "        (0): Conv2d()\n",
       "        (1): Conv2d()\n",
       "        (2): Conv2d()\n",
       "      )\n",
       "      (3): ModuleList(\n",
       "        (0): Conv2d()\n",
       "        (1): Conv2d()\n",
       "        (2): Conv2d()\n",
       "      )\n",
       "      (4): ModuleList(\n",
       "        (0): Conv2d()\n",
       "        (1): Conv2d()\n",
       "        (2): Conv2d()\n",
       "      )\n",
       "    )\n",
       "    (activation_blocks): ModuleList(\n",
       "      (0): ModuleList(\n",
       "        (0): ReLU(inplace)\n",
       "        (1): ReLU(inplace)\n",
       "      )\n",
       "      (1): ModuleList(\n",
       "        (0): ReLU(inplace)\n",
       "        (1): ReLU(inplace)\n",
       "      )\n",
       "      (2): ModuleList(\n",
       "        (0): ReLU(inplace)\n",
       "        (1): ReLU(inplace)\n",
       "        (2): ReLU(inplace)\n",
       "      )\n",
       "      (3): ModuleList(\n",
       "        (0): ReLU(inplace)\n",
       "        (1): ReLU(inplace)\n",
       "        (2): ReLU(inplace)\n",
       "      )\n",
       "      (4): ModuleList(\n",
       "        (0): ReLU(inplace)\n",
       "        (1): ReLU(inplace)\n",
       "        (2): ReLU(inplace)\n",
       "      )\n",
       "    )\n",
       "    (poolings): ModuleList(\n",
       "      (0): MaxPool2d(kernel_size=2, stride=2, padding=0, dilation=1, ceil_mode=False)\n",
       "      (1): MaxPool2d(kernel_size=2, stride=2, padding=0, dilation=1, ceil_mode=False)\n",
       "      (2): MaxPool2d(kernel_size=2, stride=2, padding=0, dilation=1, ceil_mode=False)\n",
       "      (3): MaxPool2d(kernel_size=2, stride=2, padding=0, dilation=1, ceil_mode=False)\n",
       "      (4): MaxPool2d(kernel_size=2, stride=2, padding=0, dilation=1, ceil_mode=False)\n",
       "    )\n",
       "    (dropout1): Dropout(p=0.5)\n",
       "    (fc1): Linear()\n",
       "    (relu1): ReLU(inplace)\n",
       "    (dropout2): Dropout(p=0.5)\n",
       "    (fc2): Linear()\n",
       "    (relu2): ReLU(inplace)\n",
       "    (fc3): Linear()\n",
       "  )\n",
       ")"
      ]
     },
     "execution_count": 75,
     "metadata": {},
     "output_type": "execute_result"
    }
   ],
   "source": [
    "model"
   ]
  },
  {
   "cell_type": "code",
   "execution_count": 76,
   "metadata": {},
   "outputs": [],
   "source": [
    "curve_parameters = list(model.net.parameters())"
   ]
  },
  {
   "cell_type": "code",
   "execution_count": 87,
   "metadata": {},
   "outputs": [
    {
     "data": {
      "text/plain": [
       "96"
      ]
     },
     "execution_count": 87,
     "metadata": {},
     "output_type": "execute_result"
    }
   ],
   "source": [
    "len(curve_parameters)"
   ]
  },
  {
   "cell_type": "code",
   "execution_count": 88,
   "metadata": {},
   "outputs": [
    {
     "name": "stdout",
     "output_type": "stream",
     "text": [
      "0 torch.Size([64, 3, 3, 3])\n",
      "1 torch.Size([64, 3, 3, 3])\n",
      "2 torch.Size([64, 3, 3, 3])\n",
      "3 torch.Size([64])\n",
      "4 torch.Size([64])\n",
      "5 torch.Size([64])\n",
      "6 torch.Size([64, 64, 3, 3])\n",
      "7 torch.Size([64, 64, 3, 3])\n",
      "8 torch.Size([64, 64, 3, 3])\n",
      "9 torch.Size([64])\n",
      "10 torch.Size([64])\n",
      "11 torch.Size([64])\n",
      "12 torch.Size([128, 64, 3, 3])\n",
      "13 torch.Size([128, 64, 3, 3])\n",
      "14 torch.Size([128, 64, 3, 3])\n",
      "15 torch.Size([128])\n",
      "16 torch.Size([128])\n",
      "17 torch.Size([128])\n",
      "18 torch.Size([128, 128, 3, 3])\n",
      "19 torch.Size([128, 128, 3, 3])\n",
      "20 torch.Size([128, 128, 3, 3])\n",
      "21 torch.Size([128])\n",
      "22 torch.Size([128])\n",
      "23 torch.Size([128])\n",
      "24 torch.Size([256, 128, 3, 3])\n",
      "25 torch.Size([256, 128, 3, 3])\n",
      "26 torch.Size([256, 128, 3, 3])\n",
      "27 torch.Size([256])\n",
      "28 torch.Size([256])\n",
      "29 torch.Size([256])\n",
      "30 torch.Size([256, 256, 3, 3])\n",
      "31 torch.Size([256, 256, 3, 3])\n",
      "32 torch.Size([256, 256, 3, 3])\n",
      "33 torch.Size([256])\n",
      "34 torch.Size([256])\n",
      "35 torch.Size([256])\n",
      "36 torch.Size([256, 256, 3, 3])\n",
      "37 torch.Size([256, 256, 3, 3])\n",
      "38 torch.Size([256, 256, 3, 3])\n",
      "39 torch.Size([256])\n",
      "40 torch.Size([256])\n",
      "41 torch.Size([256])\n",
      "42 torch.Size([512, 256, 3, 3])\n",
      "43 torch.Size([512, 256, 3, 3])\n",
      "44 torch.Size([512, 256, 3, 3])\n",
      "45 torch.Size([512])\n",
      "46 torch.Size([512])\n",
      "47 torch.Size([512])\n",
      "48 torch.Size([512, 512, 3, 3])\n",
      "49 torch.Size([512, 512, 3, 3])\n",
      "50 torch.Size([512, 512, 3, 3])\n",
      "51 torch.Size([512])\n",
      "52 torch.Size([512])\n",
      "53 torch.Size([512])\n",
      "54 torch.Size([512, 512, 3, 3])\n",
      "55 torch.Size([512, 512, 3, 3])\n",
      "56 torch.Size([512, 512, 3, 3])\n",
      "57 torch.Size([512])\n",
      "58 torch.Size([512])\n",
      "59 torch.Size([512])\n",
      "60 torch.Size([512, 512, 3, 3])\n",
      "61 torch.Size([512, 512, 3, 3])\n",
      "62 torch.Size([512, 512, 3, 3])\n",
      "63 torch.Size([512])\n",
      "64 torch.Size([512])\n",
      "65 torch.Size([512])\n",
      "66 torch.Size([512, 512, 3, 3])\n",
      "67 torch.Size([512, 512, 3, 3])\n",
      "68 torch.Size([512, 512, 3, 3])\n",
      "69 torch.Size([512])\n",
      "70 torch.Size([512])\n",
      "71 torch.Size([512])\n",
      "72 torch.Size([512, 512, 3, 3])\n",
      "73 torch.Size([512, 512, 3, 3])\n",
      "74 torch.Size([512, 512, 3, 3])\n",
      "75 torch.Size([512])\n",
      "76 torch.Size([512])\n",
      "77 torch.Size([512])\n",
      "78 torch.Size([512, 512])\n",
      "79 torch.Size([512, 512])\n",
      "80 torch.Size([512, 512])\n",
      "81 torch.Size([512])\n",
      "82 torch.Size([512])\n",
      "83 torch.Size([512])\n",
      "84 torch.Size([512, 512])\n",
      "85 torch.Size([512, 512])\n",
      "86 torch.Size([512, 512])\n",
      "87 torch.Size([512])\n",
      "88 torch.Size([512])\n",
      "89 torch.Size([512])\n",
      "90 torch.Size([10, 512])\n",
      "91 torch.Size([10, 512])\n",
      "92 torch.Size([10, 512])\n",
      "93 torch.Size([10])\n",
      "94 torch.Size([10])\n",
      "95 torch.Size([10])\n"
     ]
    }
   ],
   "source": [
    "for i, p in enumerate(curve_parameters):\n",
    "    print(i, p.shape)"
   ]
  },
  {
   "cell_type": "code",
   "execution_count": 81,
   "metadata": {},
   "outputs": [
    {
     "data": {
      "text/plain": [
       "<generator object Module.parameters at 0x151b1c9a40>"
      ]
     },
     "execution_count": 81,
     "metadata": {},
     "output_type": "execute_result"
    }
   ],
   "source": [
    "model.net.parameters()"
   ]
  },
  {
   "cell_type": "code",
   "execution_count": 89,
   "metadata": {},
   "outputs": [],
   "source": [
    "a = np.array([1,4,5,7])"
   ]
  },
  {
   "cell_type": "code",
   "execution_count": 95,
   "metadata": {},
   "outputs": [
    {
     "data": {
      "text/plain": [
       "array([4, 5])"
      ]
     },
     "execution_count": 95,
     "metadata": {},
     "output_type": "execute_result"
    }
   ],
   "source": [
    "a[(a>3)*(a<7)]"
   ]
  },
  {
   "cell_type": "code",
   "execution_count": 94,
   "metadata": {},
   "outputs": [],
   "source": [
    "pred = model(X)"
   ]
  },
  {
   "cell_type": "code",
   "execution_count": 95,
   "metadata": {},
   "outputs": [
    {
     "data": {
      "text/plain": [
       "torch.Size([128, 10])"
      ]
     },
     "execution_count": 95,
     "metadata": {},
     "output_type": "execute_result"
    }
   ],
   "source": [
    "pred.shape"
   ]
  },
  {
   "cell_type": "code",
   "execution_count": 96,
   "metadata": {},
   "outputs": [],
   "source": [
    "from torch.nn import Module"
   ]
  },
  {
   "cell_type": "code",
   "execution_count": 98,
   "metadata": {},
   "outputs": [],
   "source": [
    "m = Module()"
   ]
  },
  {
   "cell_type": "code",
   "execution_count": 105,
   "metadata": {},
   "outputs": [],
   "source": [
    "m.register_buffer('range', torch.arange(0, float(3)))"
   ]
  },
  {
   "cell_type": "code",
   "execution_count": 106,
   "metadata": {},
   "outputs": [
    {
     "data": {
      "text/plain": [
       "tensor([ 0.,  1.,  2.])"
      ]
     },
     "execution_count": 106,
     "metadata": {},
     "output_type": "execute_result"
    }
   ],
   "source": [
    "m.range"
   ]
  },
  {
   "cell_type": "code",
   "execution_count": 122,
   "metadata": {},
   "outputs": [
    {
     "data": {
      "text/plain": [
       "tensor([ 0.0000,  0.6667,  0.3333])"
      ]
     },
     "execution_count": 122,
     "metadata": {},
     "output_type": "execute_result"
    }
   ],
   "source": [
    "t_n = 2/3 * (3 - 1)\n",
    "torch.max(m.range.new([0.0]), 1.0 - torch.abs(t_n - m.range))"
   ]
  },
  {
   "cell_type": "code",
   "execution_count": null,
   "metadata": {},
   "outputs": [],
   "source": []
  },
  {
   "cell_type": "code",
   "execution_count": null,
   "metadata": {},
   "outputs": [],
   "source": []
  }
 ],
 "metadata": {
  "kernelspec": {
   "display_name": "Python 3",
   "language": "python",
   "name": "python3"
  },
  "language_info": {
   "codemirror_mode": {
    "name": "ipython",
    "version": 3
   },
   "file_extension": ".py",
   "mimetype": "text/x-python",
   "name": "python",
   "nbconvert_exporter": "python",
   "pygments_lexer": "ipython3",
   "version": "3.7.1"
  }
 },
 "nbformat": 4,
 "nbformat_minor": 2
}
